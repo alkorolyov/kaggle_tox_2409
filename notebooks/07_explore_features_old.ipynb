{
 "cells": [
  {
   "cell_type": "code",
   "id": "initial_id",
   "metadata": {
    "ExecuteTime": {
     "end_time": "2024-09-07T18:53:53.336048Z",
     "start_time": "2024-09-07T18:53:53.301030Z"
    }
   },
   "source": [
    "%load_ext autoreload\n",
    "%autoreload 2\n",
    "\n",
    "import sys\n",
    "sys.path.append('../')"
   ],
   "outputs": [],
   "execution_count": 1
  },
  {
   "metadata": {
    "ExecuteTime": {
     "end_time": "2024-09-07T18:54:02.114279Z",
     "start_time": "2024-09-07T18:53:57.132622Z"
    }
   },
   "cell_type": "code",
   "source": [
    "import time\n",
    "from tqdm import tqdm\n",
    "\n",
    "import numpy as np\n",
    "import pandas as pd\n",
    "\n",
    "from sklearn.linear_model import RidgeClassifier, LogisticRegression\n",
    "from sklearn.tree import DecisionTreeClassifier\n",
    "from sklearn.ensemble import RandomForestClassifier, HistGradientBoostingClassifier\n",
    "from sklearn.svm import SVC\n",
    "from sklearn.neighbors import KNeighborsClassifier\n",
    "from sklearn.model_selection import  KFold\n",
    "from src.utils import scale, eval_model\n",
    "import xgboost as xgb\n",
    "import catboost as cb\n",
    "import lightgbm as lgb\n",
    "import seaborn as sns\n",
    "from src.corr import non_corr_features\n",
    "from src.maplight_gnn import get_representation\n",
    "from src.utils import get_fps_cols, scale, OffsetScaler, to_submit, drop_nans_non_unique, BlendingClassifier\n",
    "\n",
    "def get_models_list(names: list):\n",
    "    return [(k,v) for k,v in models.items() if k in names]\n",
    "\n",
    "mae = 'neg_mean_absolute_error'\n",
    "mse = 'neg_mean_squared_error'\n",
    "rmse = 'neg_root_mean_squared_error'\n",
    "roc_auc = 'neg_roc_auc_score'\n",
    "\n",
    "N_JOBS = 24\n",
    "RANDOM_SEED = 42\n",
    "\n",
    "# prepare models\n",
    "models = {}\n",
    "\n",
    "\n",
    "models['LR'] = LogisticRegression()\n",
    "models['Ridge'] = RidgeClassifier()\n",
    "models['SVC'] = SVC()\n",
    "models['KNN'] = KNeighborsClassifier(n_jobs=N_JOBS)\n",
    "\n",
    "models['RF'] = RandomForestClassifier(random_state=RANDOM_SEED, n_jobs=N_JOBS)\n",
    "\n",
    "models['HistGB'] = HistGradientBoostingClassifier(random_state=RANDOM_SEED)\n",
    "\n",
    "models['XGB'] = xgb.XGBClassifier(random_state=RANDOM_SEED, n_jobs=N_JOBS, verbosity=0,)\n",
    "\n",
    "models['XGB_GPU'] = xgb.XGBClassifier(random_state=RANDOM_SEED, n_jobs=N_JOBS, verbosity=0, \n",
    "                                  tree_method='gpu_hist', predictor='gpu_predictor', gpu_id=1)\n",
    "\n",
    "models['CB'] = cb.CatBoostClassifier(iterations=100, random_seed=RANDOM_SEED, thread_count=N_JOBS, verbose=False)\n",
    "\n",
    "models['CB_GPU'] = cb.CatBoostClassifier(iterations=100, random_seed=RANDOM_SEED, thread_count=N_JOBS, verbose=False, task_type=\"GPU\")\n",
    "\n",
    "models['LGB'] = lgb.LGBMClassifier(random_state=RANDOM_SEED, n_jobs=N_JOBS, verbose=-1)"
   ],
   "id": "15cce13673d7da93",
   "outputs": [],
   "execution_count": 2
  },
  {
   "metadata": {
    "ExecuteTime": {
     "end_time": "2024-09-07T18:54:03.562485Z",
     "start_time": "2024-09-07T18:54:03.500085Z"
    }
   },
   "cell_type": "code",
   "source": [
    "train = pd.read_csv('../data/processed/train.csv', index_col=0)\n",
    "test = pd.read_csv('../data/processed/test.csv', index_col=0)"
   ],
   "id": "ed6e8459e804dd82",
   "outputs": [],
   "execution_count": 3
  },
  {
   "metadata": {},
   "cell_type": "markdown",
   "source": "# Maplight",
   "id": "77e765a94e4e723c"
  },
  {
   "metadata": {
    "ExecuteTime": {
     "end_time": "2024-09-07T18:30:16.187Z",
     "start_time": "2024-09-07T18:30:15.489605Z"
    }
   },
   "cell_type": "code",
   "source": [
    "from sklearn.preprocessing import OneHotEncoder\n",
    "\n",
    "def prepare_data(**params):\n",
    "    X_train = get_representation(train.smi, **params)\n",
    "    X_test = get_representation(test.smi, **params)\n",
    "    \n",
    "    X_train = drop_nans_non_unique(X_train)\n",
    "    X_test = X_test[X_train.columns]\n",
    "    \n",
    "    fps_offset = 1024 * params['morgan_fps'] + \\\n",
    "                 1024 * params['avalon_fps'] + \\\n",
    "                 315 * params['erg_fps']\n",
    "    \n",
    "    scaler = OffsetScaler(fps_offset)\n",
    "    X_train = scaler.fit_transform(X_train)\n",
    "    X_test = scaler.transform(X_test)    \n",
    "    \n",
    "    ohe = OneHotEncoder(sparse_output=False)\n",
    "    prop = ohe.fit_transform(train[['prop']])\n",
    "    X_train = pd.concat([X_train, pd.DataFrame(prop, columns=ohe.get_feature_names_out())], axis=1)\n",
    "    \n",
    "    prop = ohe.transform(test[['prop']])\n",
    "    X_test = pd.concat([X_test, pd.DataFrame(prop, columns=ohe.get_feature_names_out())], axis=1)\n",
    "    return X_train, train.target, X_test\n",
    "\n",
    "params = {\n",
    "    'morgan_fps':True,\n",
    "    'avalon_fps':True,\n",
    "    'erg_fps':True,\n",
    "    'rdkit_feats':True,\n",
    "    'mord_feats': False,\n",
    "    'gin_gnn': False,\n",
    "}\n",
    "\n",
    "X_train, y_train, X_test = prepare_data(**params)\n",
    "X_train.shape[1]"
   ],
   "id": "f6e905ed302254be",
   "outputs": [
    {
     "data": {
      "text/plain": [
       "2538"
      ]
     },
     "execution_count": 70,
     "metadata": {},
     "output_type": "execute_result"
    }
   ],
   "execution_count": 70
  },
  {
   "metadata": {
    "ExecuteTime": {
     "end_time": "2024-09-07T18:31:32.564990Z",
     "start_time": "2024-09-07T18:31:32.539089Z"
    }
   },
   "cell_type": "code",
   "source": "X_train.columns.str.contains('rd_|md_').sum()",
   "id": "9be62e34ae88b777",
   "outputs": [
    {
     "data": {
      "text/plain": [
       "192"
      ]
     },
     "execution_count": 71,
     "metadata": {},
     "output_type": "execute_result"
    }
   ],
   "execution_count": 71
  },
  {
   "metadata": {
    "ExecuteTime": {
     "end_time": "2024-09-07T12:53:15.472885Z",
     "start_time": "2024-09-07T12:50:46.821987Z"
    }
   },
   "cell_type": "code",
   "source": [
    "print('=========== Maplight ===========')\n",
    "for name, model in models.items():\n",
    "    eval_model(name, model, X_train, y_train)"
   ],
   "id": "395ae6568ee9ade8",
   "outputs": [
    {
     "name": "stdout",
     "output_type": "stream",
     "text": [
      "=========== Maplight ===========\n",
      "     RF: 0.8858    (0.892 ± 0.006)    3.7s\n",
      " HistGB: 0.9001    (0.907 ± 0.007)    31.7s\n",
      "    XGB: 0.8968    (0.903 ± 0.006)    16.7s\n",
      "XGB_GPU: 0.8922    (0.900 ± 0.008)    8.7s\n",
      "     CB: 0.8836    (0.892 ± 0.008)    35.5s\n",
      " CB_GPU: 0.8809    (0.888 ± 0.007)    39.8s\n",
      "    LGB: 0.8976    (0.906 ± 0.008)    12.3s\n"
     ]
    }
   ],
   "execution_count": 41
  },
  {
   "metadata": {},
   "cell_type": "code",
   "outputs": [],
   "execution_count": null,
   "source": [
    "from sklearn.model_selection import RepeatedStratifiedKFold\n",
    "print('=========== Maplight ===========')\n",
    "for name, model in models.items():\n",
    "    eval_model(name, model, X_train, y_train, cv=RepeatedStratifiedKFold(n_splits=5, n_repeats=3, random_state=RANDOM_SEED))"
   ],
   "id": "56f35b5d0ee6366d"
  },
  {
   "metadata": {
    "ExecuteTime": {
     "end_time": "2024-09-07T14:48:39.624808Z",
     "start_time": "2024-09-07T14:47:44.957131Z"
    }
   },
   "cell_type": "code",
   "source": [
    "clf = BlendingClassifier(\n",
    "    get_models_list(\n",
    "        ['HistGB', 'XGB', 'XGB_GPU', 'LGB'],\n",
    "    ),\n",
    "    weights=None\n",
    ")\n",
    "\n",
    "eval_model('blend', clf, X_train, y_train);"
   ],
   "id": "b0b2a30ed1859269",
   "outputs": [
    {
     "name": "stdout",
     "output_type": "stream",
     "text": [
      "  blend: 0.9025    (0.910 ± 0.007)    54.6s\n"
     ]
    }
   ],
   "execution_count": 143
  },
  {
   "metadata": {
    "ExecuteTime": {
     "end_time": "2024-09-07T17:53:51.150677Z",
     "start_time": "2024-09-07T17:53:50.583414Z"
    }
   },
   "cell_type": "code",
   "source": [
    "from src.corr import non_corr_features\n",
    "\n",
    "X_train_uncor = non_corr_features(X_train, y_train)\n",
    "X_test_uncor = X_test[X_train_uncor.columns]"
   ],
   "id": "dcdcf6320e3b05dc",
   "outputs": [],
   "execution_count": 49
  },
  {
   "metadata": {
    "ExecuteTime": {
     "end_time": "2024-09-07T15:46:02.081333Z",
     "start_time": "2024-09-07T15:46:02.019687Z"
    }
   },
   "cell_type": "code",
   "source": "X_train_uncor.shape, X_test_uncor.shape",
   "id": "4253edccd20677d8",
   "outputs": [
    {
     "data": {
      "text/plain": [
       "((7939, 2477), (1221, 2477))"
      ]
     },
     "execution_count": 181,
     "metadata": {},
     "output_type": "execute_result"
    }
   ],
   "execution_count": 181
  },
  {
   "metadata": {
    "ExecuteTime": {
     "end_time": "2024-09-07T15:25:07.086478Z",
     "start_time": "2024-09-07T15:25:07.043826Z"
    }
   },
   "cell_type": "code",
   "source": "X_train_uncor.shape[1]",
   "id": "4c08d6a455d96fd2",
   "outputs": [
    {
     "data": {
      "text/plain": [
       "2477"
      ]
     },
     "execution_count": 170,
     "metadata": {},
     "output_type": "execute_result"
    }
   ],
   "execution_count": 170
  },
  {
   "metadata": {
    "ExecuteTime": {
     "end_time": "2024-09-07T15:35:19.877648Z",
     "start_time": "2024-09-07T15:28:54.181642Z"
    }
   },
   "cell_type": "code",
   "source": [
    "print('=========== Maplight uncorrelated ===========')\n",
    "for name, model in models.items():\n",
    "    eval_model(name, model, X_train_uncor, y_train)"
   ],
   "id": "46b2fb713278acd9",
   "outputs": [
    {
     "name": "stdout",
     "output_type": "stream",
     "text": [
      "=========== Maplight uncorrelated ===========\n",
      "     LR: 0.7899    (0.802 ± 0.012)    12.1s\n",
      "  Ridge: 0.8125    (0.821 ± 0.009)    3.5s\n",
      "    SVC: 0.7193    (0.723 ± 0.004)    231.3s\n",
      "    KNN: 0.7463    (0.754 ± 0.008)    1.7s\n",
      "     RF: 0.8886    (0.894 ± 0.006)    4.2s\n",
      " HistGB: 0.8974    (0.904 ± 0.007)    30.7s\n",
      "    XGB: 0.8976    (0.904 ± 0.007)    20.0s\n",
      "XGB_GPU: 0.8939    (0.901 ± 0.007)    6.8s\n",
      "     CB: 0.8812    (0.889 ± 0.008)    29.7s\n",
      " CB_GPU: 0.8807    (0.888 ± 0.007)    35.1s\n",
      "    LGB: 0.8982    (0.906 ± 0.008)    10.6s\n"
     ]
    }
   ],
   "execution_count": 176
  },
  {
   "metadata": {
    "ExecuteTime": {
     "end_time": "2024-09-07T15:46:02.016260Z",
     "start_time": "2024-09-07T15:44:54.992710Z"
    }
   },
   "cell_type": "code",
   "source": [
    "clf = BlendingClassifier(get_models_list(\n",
    "    ['HistGB', 'XGB', 'XGB_GPU', 'LGB']),\n",
    "    weights=None)\n",
    "eval_model('blend', clf, X_train_uncor, y_train);"
   ],
   "id": "c23fde1adedc0f07",
   "outputs": [
    {
     "name": "stdout",
     "output_type": "stream",
     "text": [
      "  blend: 0.9026    (0.910 ± 0.007)    66.8s\n"
     ]
    }
   ],
   "execution_count": 180
  },
  {
   "metadata": {
    "ExecuteTime": {
     "end_time": "2024-09-07T15:52:24.445564Z",
     "start_time": "2024-09-07T15:49:18.233395Z"
    }
   },
   "cell_type": "code",
   "source": [
    "from sklearn.model_selection import RepeatedKFold\n",
    "\n",
    "clf = BlendingClassifier(get_models_list(\n",
    "    ['HistGB', 'XGB', 'XGB_GPU', 'LGB']),\n",
    "    weights=None)\n",
    "eval_model('blend', clf, X_train_uncor, y_train, cv=RepeatedKFold(n_splits=5, n_repeats=3, random_state=RANDOM_SEED));"
   ],
   "id": "d0ad947656a7a132",
   "outputs": [
    {
     "name": "stdout",
     "output_type": "stream",
     "text": [
      "  blend: 0.9019    (0.909 ± 0.008)    186.2s\n"
     ]
    }
   ],
   "execution_count": 185
  },
  {
   "metadata": {
    "ExecuteTime": {
     "end_time": "2024-09-07T17:54:37.379582Z",
     "start_time": "2024-09-07T17:54:14.725336Z"
    }
   },
   "cell_type": "code",
   "source": [
    "clf = BlendingClassifier(get_models_list(\n",
    "    ['HistGB', 'XGB', 'XGB_GPU', 'LGB']),\n",
    "    weights=None)\n",
    "\n",
    "probs = clf.fit(X_train_uncor, y_train).predict_proba(X_test_uncor)\n",
    "# to_submit(probs).to_csv('../data/preds/maplight_uncorr_blend_histgb_xgb_lgb.csv')"
   ],
   "id": "da29f0e580d761b9",
   "outputs": [],
   "execution_count": 51
  },
  {
   "metadata": {
    "ExecuteTime": {
     "end_time": "2024-09-07T15:44:05.940154Z",
     "start_time": "2024-09-07T15:42:50.986558Z"
    }
   },
   "cell_type": "code",
   "source": [
    "clf = BlendingClassifier(get_models_list(\n",
    "    ['HistGB', 'XGB', 'XGB_GPU', 'LGB']),\n",
    "    weights=[1, 0.5, 0.5, 1],\n",
    ")\n",
    "\n",
    "eval_model('blend', clf, X_train_uncor, y_train);\n",
    "# probs = clf.fit(X_train_uncor, y_train).predict_proba(X_test_uncor)\n",
    "# to_submit(probs).to_csv('../data/preds/maplight_uncorr_blend_histgb_xgb_lgb.csv')"
   ],
   "id": "66540a288992d2f9",
   "outputs": [
    {
     "name": "stdout",
     "output_type": "stream",
     "text": [
      "  blend: 0.9022    (0.910 ± 0.007)    74.9s\n"
     ]
    }
   ],
   "execution_count": 179
  },
  {
   "metadata": {
    "ExecuteTime": {
     "end_time": "2024-09-07T15:39:27.547133Z",
     "start_time": "2024-09-07T15:35:26.831063Z"
    }
   },
   "cell_type": "code",
   "source": [
    "eval_model('blend', clf, X_train_uncor, y_train, random_seed=0);\n",
    "eval_model('blend', clf, X_train_uncor, y_train, random_seed=1);\n",
    "eval_model('blend', clf, X_train_uncor, y_train, random_seed=2);\n",
    "eval_model('blend', clf, X_train_uncor, y_train, random_seed=3);"
   ],
   "id": "bd4c8fe337122a44",
   "outputs": [
    {
     "name": "stdout",
     "output_type": "stream",
     "text": [
      "  blend: 0.8992    (0.907 ± 0.008)    75.6s\n",
      "  blend: 0.9034    (0.912 ± 0.008)    55.6s\n",
      "  blend: 0.9040    (0.910 ± 0.006)    54.8s\n",
      "  blend: 0.9046    (0.911 ± 0.006)    54.6s\n"
     ]
    }
   ],
   "execution_count": 178
  },
  {
   "metadata": {
    "ExecuteTime": {
     "end_time": "2024-09-07T15:28:14.907804Z",
     "start_time": "2024-09-07T15:27:00.138510Z"
    }
   },
   "cell_type": "code",
   "source": [
    "clf = BlendingClassifier(get_models_list(\n",
    "    ['HistGB', 'XGB', 'XGB_GPU', 'LGB']),\n",
    "    weights=[1, 0.2, 0.2, 1],\n",
    ")\n",
    "\n",
    "eval_model('blend', clf, X_train, y_train);"
   ],
   "id": "69b6981f2f8e8b94",
   "outputs": [
    {
     "name": "stdout",
     "output_type": "stream",
     "text": [
      "  blend: 0.9021    (0.909 ± 0.007)    74.7s\n"
     ]
    }
   ],
   "execution_count": 174
  },
  {
   "metadata": {},
   "cell_type": "markdown",
   "source": "# Maplight Mordred",
   "id": "5028a6c10e660895"
  },
  {
   "metadata": {
    "ExecuteTime": {
     "end_time": "2024-09-07T18:32:18.348702Z",
     "start_time": "2024-09-07T18:32:17.111645Z"
    }
   },
   "cell_type": "code",
   "source": [
    "params = {\n",
    "    'morgan_fps':True,\n",
    "    'avalon_fps':True,\n",
    "    'erg_fps':True,\n",
    "    'rdkit_feats':True,\n",
    "    'mord_feats': True,\n",
    "    'gin_gnn':False,\n",
    "}\n",
    "\n",
    "X_train, y_train, X_test = prepare_data(**params)\n",
    "X_train.shape"
   ],
   "id": "980249bb406a3ed1",
   "outputs": [
    {
     "data": {
      "text/plain": [
       "(7939, 3465)"
      ]
     },
     "execution_count": 72,
     "metadata": {},
     "output_type": "execute_result"
    }
   ],
   "execution_count": 72
  },
  {
   "metadata": {
    "ExecuteTime": {
     "end_time": "2024-09-07T15:04:33.689229Z",
     "start_time": "2024-09-07T15:00:22.109417Z"
    }
   },
   "cell_type": "code",
   "source": [
    "print('=========== Maplight Mord ===========')\n",
    "for name, model in models.items():\n",
    "    eval_model(name, model, X_train, y_train)"
   ],
   "id": "dce154f0167ea47",
   "outputs": [
    {
     "name": "stdout",
     "output_type": "stream",
     "text": [
      "=========== Maplight Mord ===========\n",
      "     RF: 0.8749    (0.881 ± 0.006)    7.1s\n",
      " HistGB: 0.8952    (0.903 ± 0.008)    56.9s\n",
      "    XGB: 0.8940    (0.901 ± 0.007)    34.6s\n",
      "XGB_GPU: 0.8944    (0.901 ± 0.007)    14.2s\n",
      "     CB: 0.8779    (0.889 ± 0.011)    56.4s\n",
      " CB_GPU: 0.8782    (0.886 ± 0.008)    51.2s\n",
      "    LGB: 0.9001    (0.906 ± 0.006)    31.2s\n"
     ]
    }
   ],
   "execution_count": 152
  },
  {
   "metadata": {
    "ExecuteTime": {
     "end_time": "2024-09-07T15:11:26.708036Z",
     "start_time": "2024-09-07T15:09:26.690454Z"
    }
   },
   "cell_type": "code",
   "source": [
    "clf = BlendingClassifier(get_models_list(\n",
    "    ['HistGB', 'XGB', 'XGB_GPU', 'LGB']),\n",
    "    weights=None)\n",
    "eval_model('blend', clf, X_train, y_train);"
   ],
   "id": "c638a06ef3a3ad59",
   "outputs": [
    {
     "name": "stdout",
     "output_type": "stream",
     "text": [
      "  blend: 0.9025    (0.909 ± 0.006)    120.0s\n"
     ]
    }
   ],
   "execution_count": 155
  },
  {
   "metadata": {
    "ExecuteTime": {
     "end_time": "2024-09-07T18:33:23.780793Z",
     "start_time": "2024-09-07T18:33:23.009317Z"
    }
   },
   "cell_type": "code",
   "source": [
    "X_train_uncor = non_corr_features(X_train, y_train, threshold=0.90)\n",
    "X_test_uncor = X_test[X_train_uncor.columns]\n",
    "X_train_uncor.shape[0], X_train_uncor.columns.str.contains('rd_|md_').sum()"
   ],
   "id": "34686efefd42b335",
   "outputs": [
    {
     "data": {
      "text/plain": [
       "(7939, 449)"
      ]
     },
     "execution_count": 75,
     "metadata": {},
     "output_type": "execute_result"
    }
   ],
   "execution_count": 75
  },
  {
   "metadata": {
    "ExecuteTime": {
     "end_time": "2024-09-07T18:34:29.461610Z",
     "start_time": "2024-09-07T18:33:53.188609Z"
    }
   },
   "cell_type": "code",
   "source": "eval_model('hgb', models['HistGB'], X_train_uncor, y_train);",
   "id": "89ed48df3bb1875",
   "outputs": [
    {
     "name": "stdout",
     "output_type": "stream",
     "text": [
      "    hgb: 0.8985    (0.904 ± 0.006)    36.2s\n"
     ]
    },
    {
     "data": {
      "text/plain": [
       "array([0.89581326, 0.90613727, 0.90330033, 0.91351211, 0.9023322 ])"
      ]
     },
     "execution_count": 76,
     "metadata": {},
     "output_type": "execute_result"
    }
   ],
   "execution_count": 76
  },
  {
   "metadata": {
    "ExecuteTime": {
     "end_time": "2024-09-07T15:09:26.687434Z",
     "start_time": "2024-09-07T15:06:44.252369Z"
    }
   },
   "cell_type": "code",
   "source": [
    "print('=========== Maplight Mord uncorrelated ===========')\n",
    "for name, model in models.items():\n",
    "    eval_model(name, model, X_train_uncor, y_train)"
   ],
   "id": "329518ba3694849f",
   "outputs": [
    {
     "name": "stdout",
     "output_type": "stream",
     "text": [
      "=========== Maplight Mord uncorrelated ===========\n",
      "     RF: 0.8814    (0.886 ± 0.004)    4.6s\n",
      " HistGB: 0.8990    (0.903 ± 0.004)    38.3s\n",
      "    XGB: 0.8950    (0.901 ± 0.006)    15.0s\n",
      "XGB_GPU: 0.8951    (0.900 ± 0.005)    9.6s\n",
      "     CB: 0.8831    (0.891 ± 0.008)    39.3s\n",
      " CB_GPU: 0.8769    (0.885 ± 0.008)    40.6s\n",
      "    LGB: 0.8990    (0.905 ± 0.006)    15.0s\n"
     ]
    }
   ],
   "execution_count": 154
  },
  {
   "metadata": {
    "ExecuteTime": {
     "end_time": "2024-09-07T15:12:44.765966Z",
     "start_time": "2024-09-07T15:11:26.710207Z"
    }
   },
   "cell_type": "code",
   "source": [
    "clf = BlendingClassifier(get_models_list(\n",
    "    ['HistGB', 'XGB', 'XGB_GPU', 'LGB']),\n",
    "    weights=None)\n",
    "eval_model('blend', clf, X_train_uncor, y_train);"
   ],
   "id": "f76a9692e378e05b",
   "outputs": [
    {
     "name": "stdout",
     "output_type": "stream",
     "text": [
      "  blend: 0.9037    (0.909 ± 0.005)    78.0s\n"
     ]
    }
   ],
   "execution_count": 156
  },
  {
   "metadata": {
    "ExecuteTime": {
     "end_time": "2024-09-07T18:30:01.182064Z",
     "start_time": "2024-09-07T18:22:51.560209Z"
    }
   },
   "cell_type": "code",
   "source": [
    "from sklearn.model_selection import ShuffleSplit, StratifiedKFold, StratifiedShuffleSplit\n",
    "clf = BlendingClassifier(get_models_list(\n",
    "    ['HistGB', 'XGB', 'XGB_GPU', 'LGB']),\n",
    "    weights=None)\n",
    "\n",
    "eval_model('hGB', clf, X_train_uncor, y_train, cv=StratifiedKFold(random_state=RANDOM_SEED, shuffle=True));\n",
    "eval_model('hGB', clf, X_train_uncor, y_train, cv=ShuffleSplit(random_state=RANDOM_SEED));\n",
    "eval_model('hGB', clf, X_train_uncor, y_train, cv=StratifiedShuffleSplit(random_state=RANDOM_SEED));"
   ],
   "id": "8ec5d533c6a6b045",
   "outputs": [
    {
     "name": "stdout",
     "output_type": "stream",
     "text": [
      "    hGB: 0.9062    (0.911 ± 0.005)    88.5s\n",
      "    hGB: 0.9075    (0.912 ± 0.004)    185.2s\n"
     ]
    },
    {
     "ename": "KeyboardInterrupt",
     "evalue": "",
     "output_type": "error",
     "traceback": [
      "\u001B[0;31m---------------------------------------------------------------------------\u001B[0m",
      "\u001B[0;31mKeyboardInterrupt\u001B[0m                         Traceback (most recent call last)",
      "Cell \u001B[0;32mIn[66], line 8\u001B[0m\n\u001B[1;32m      6\u001B[0m eval_model(\u001B[38;5;124m'\u001B[39m\u001B[38;5;124mhGB\u001B[39m\u001B[38;5;124m'\u001B[39m, clf, X_train_uncor, y_train, cv\u001B[38;5;241m=\u001B[39mStratifiedKFold(random_state\u001B[38;5;241m=\u001B[39mRANDOM_SEED, shuffle\u001B[38;5;241m=\u001B[39m\u001B[38;5;28;01mTrue\u001B[39;00m));\n\u001B[1;32m      7\u001B[0m eval_model(\u001B[38;5;124m'\u001B[39m\u001B[38;5;124mhGB\u001B[39m\u001B[38;5;124m'\u001B[39m, clf, X_train_uncor, y_train, cv\u001B[38;5;241m=\u001B[39mShuffleSplit(random_state\u001B[38;5;241m=\u001B[39mRANDOM_SEED));\n\u001B[0;32m----> 8\u001B[0m \u001B[43meval_model\u001B[49m\u001B[43m(\u001B[49m\u001B[38;5;124;43m'\u001B[39;49m\u001B[38;5;124;43mhGB\u001B[39;49m\u001B[38;5;124;43m'\u001B[39;49m\u001B[43m,\u001B[49m\u001B[43m \u001B[49m\u001B[43mclf\u001B[49m\u001B[43m,\u001B[49m\u001B[43m \u001B[49m\u001B[43mX_train_uncor\u001B[49m\u001B[43m,\u001B[49m\u001B[43m \u001B[49m\u001B[43my_train\u001B[49m\u001B[43m,\u001B[49m\u001B[43m \u001B[49m\u001B[43mcv\u001B[49m\u001B[38;5;241;43m=\u001B[39;49m\u001B[43mStratifiedShuffleSplit\u001B[49m\u001B[43m(\u001B[49m\u001B[43mrandom_state\u001B[49m\u001B[38;5;241;43m=\u001B[39;49m\u001B[43mRANDOM_SEED\u001B[49m\u001B[43m)\u001B[49m\u001B[43m)\u001B[49m;\n",
      "File \u001B[0;32m~/kaggle_05092024/src/utils.py:127\u001B[0m, in \u001B[0;36meval_model\u001B[0;34m(name, model, X, y, random_seed, cv, scoring)\u001B[0m\n\u001B[1;32m    124\u001B[0m \u001B[38;5;28;01mif\u001B[39;00m cv \u001B[38;5;129;01mis\u001B[39;00m \u001B[38;5;28;01mNone\u001B[39;00m:\n\u001B[1;32m    125\u001B[0m     cv \u001B[38;5;241m=\u001B[39m KFold(n_splits\u001B[38;5;241m=\u001B[39m\u001B[38;5;241m5\u001B[39m, shuffle\u001B[38;5;241m=\u001B[39m\u001B[38;5;28;01mTrue\u001B[39;00m, random_state\u001B[38;5;241m=\u001B[39mrandom_seed)\n\u001B[0;32m--> 127\u001B[0m cv_res \u001B[38;5;241m=\u001B[39m \u001B[43mcross_val_score\u001B[49m\u001B[43m(\u001B[49m\u001B[43mmodel\u001B[49m\u001B[43m,\u001B[49m\u001B[43m \u001B[49m\u001B[43mX\u001B[49m\u001B[43m,\u001B[49m\u001B[43m \u001B[49m\u001B[43my\u001B[49m\u001B[43m,\u001B[49m\u001B[43m \u001B[49m\u001B[43mcv\u001B[49m\u001B[38;5;241;43m=\u001B[39;49m\u001B[43mcv\u001B[49m\u001B[43m,\u001B[49m\u001B[43m \u001B[49m\u001B[43mscoring\u001B[49m\u001B[38;5;241;43m=\u001B[39;49m\u001B[43mscoring\u001B[49m\u001B[43m)\u001B[49m\n\u001B[1;32m    129\u001B[0m score \u001B[38;5;241m=\u001B[39m cv_res\u001B[38;5;241m.\u001B[39mmean() \u001B[38;5;241m-\u001B[39m cv_res\u001B[38;5;241m.\u001B[39mstd()\n\u001B[1;32m    131\u001B[0m toc \u001B[38;5;241m=\u001B[39m time\u001B[38;5;241m.\u001B[39mtime()\n",
      "File \u001B[0;32m~/miniforge3/envs/chem/lib/python3.10/site-packages/sklearn/utils/_param_validation.py:213\u001B[0m, in \u001B[0;36mvalidate_params.<locals>.decorator.<locals>.wrapper\u001B[0;34m(*args, **kwargs)\u001B[0m\n\u001B[1;32m    207\u001B[0m \u001B[38;5;28;01mtry\u001B[39;00m:\n\u001B[1;32m    208\u001B[0m     \u001B[38;5;28;01mwith\u001B[39;00m config_context(\n\u001B[1;32m    209\u001B[0m         skip_parameter_validation\u001B[38;5;241m=\u001B[39m(\n\u001B[1;32m    210\u001B[0m             prefer_skip_nested_validation \u001B[38;5;129;01mor\u001B[39;00m global_skip_validation\n\u001B[1;32m    211\u001B[0m         )\n\u001B[1;32m    212\u001B[0m     ):\n\u001B[0;32m--> 213\u001B[0m         \u001B[38;5;28;01mreturn\u001B[39;00m \u001B[43mfunc\u001B[49m\u001B[43m(\u001B[49m\u001B[38;5;241;43m*\u001B[39;49m\u001B[43margs\u001B[49m\u001B[43m,\u001B[49m\u001B[43m \u001B[49m\u001B[38;5;241;43m*\u001B[39;49m\u001B[38;5;241;43m*\u001B[39;49m\u001B[43mkwargs\u001B[49m\u001B[43m)\u001B[49m\n\u001B[1;32m    214\u001B[0m \u001B[38;5;28;01mexcept\u001B[39;00m InvalidParameterError \u001B[38;5;28;01mas\u001B[39;00m e:\n\u001B[1;32m    215\u001B[0m     \u001B[38;5;66;03m# When the function is just a wrapper around an estimator, we allow\u001B[39;00m\n\u001B[1;32m    216\u001B[0m     \u001B[38;5;66;03m# the function to delegate validation to the estimator, but we replace\u001B[39;00m\n\u001B[1;32m    217\u001B[0m     \u001B[38;5;66;03m# the name of the estimator by the name of the function in the error\u001B[39;00m\n\u001B[1;32m    218\u001B[0m     \u001B[38;5;66;03m# message to avoid confusion.\u001B[39;00m\n\u001B[1;32m    219\u001B[0m     msg \u001B[38;5;241m=\u001B[39m re\u001B[38;5;241m.\u001B[39msub(\n\u001B[1;32m    220\u001B[0m         \u001B[38;5;124mr\u001B[39m\u001B[38;5;124m\"\u001B[39m\u001B[38;5;124mparameter of \u001B[39m\u001B[38;5;124m\\\u001B[39m\u001B[38;5;124mw+ must be\u001B[39m\u001B[38;5;124m\"\u001B[39m,\n\u001B[1;32m    221\u001B[0m         \u001B[38;5;124mf\u001B[39m\u001B[38;5;124m\"\u001B[39m\u001B[38;5;124mparameter of \u001B[39m\u001B[38;5;132;01m{\u001B[39;00mfunc\u001B[38;5;241m.\u001B[39m\u001B[38;5;18m__qualname__\u001B[39m\u001B[38;5;132;01m}\u001B[39;00m\u001B[38;5;124m must be\u001B[39m\u001B[38;5;124m\"\u001B[39m,\n\u001B[1;32m    222\u001B[0m         \u001B[38;5;28mstr\u001B[39m(e),\n\u001B[1;32m    223\u001B[0m     )\n",
      "File \u001B[0;32m~/miniforge3/envs/chem/lib/python3.10/site-packages/sklearn/model_selection/_validation.py:712\u001B[0m, in \u001B[0;36mcross_val_score\u001B[0;34m(estimator, X, y, groups, scoring, cv, n_jobs, verbose, fit_params, params, pre_dispatch, error_score)\u001B[0m\n\u001B[1;32m    709\u001B[0m \u001B[38;5;66;03m# To ensure multimetric format is not supported\u001B[39;00m\n\u001B[1;32m    710\u001B[0m scorer \u001B[38;5;241m=\u001B[39m check_scoring(estimator, scoring\u001B[38;5;241m=\u001B[39mscoring)\n\u001B[0;32m--> 712\u001B[0m cv_results \u001B[38;5;241m=\u001B[39m \u001B[43mcross_validate\u001B[49m\u001B[43m(\u001B[49m\n\u001B[1;32m    713\u001B[0m \u001B[43m    \u001B[49m\u001B[43mestimator\u001B[49m\u001B[38;5;241;43m=\u001B[39;49m\u001B[43mestimator\u001B[49m\u001B[43m,\u001B[49m\n\u001B[1;32m    714\u001B[0m \u001B[43m    \u001B[49m\u001B[43mX\u001B[49m\u001B[38;5;241;43m=\u001B[39;49m\u001B[43mX\u001B[49m\u001B[43m,\u001B[49m\n\u001B[1;32m    715\u001B[0m \u001B[43m    \u001B[49m\u001B[43my\u001B[49m\u001B[38;5;241;43m=\u001B[39;49m\u001B[43my\u001B[49m\u001B[43m,\u001B[49m\n\u001B[1;32m    716\u001B[0m \u001B[43m    \u001B[49m\u001B[43mgroups\u001B[49m\u001B[38;5;241;43m=\u001B[39;49m\u001B[43mgroups\u001B[49m\u001B[43m,\u001B[49m\n\u001B[1;32m    717\u001B[0m \u001B[43m    \u001B[49m\u001B[43mscoring\u001B[49m\u001B[38;5;241;43m=\u001B[39;49m\u001B[43m{\u001B[49m\u001B[38;5;124;43m\"\u001B[39;49m\u001B[38;5;124;43mscore\u001B[39;49m\u001B[38;5;124;43m\"\u001B[39;49m\u001B[43m:\u001B[49m\u001B[43m \u001B[49m\u001B[43mscorer\u001B[49m\u001B[43m}\u001B[49m\u001B[43m,\u001B[49m\n\u001B[1;32m    718\u001B[0m \u001B[43m    \u001B[49m\u001B[43mcv\u001B[49m\u001B[38;5;241;43m=\u001B[39;49m\u001B[43mcv\u001B[49m\u001B[43m,\u001B[49m\n\u001B[1;32m    719\u001B[0m \u001B[43m    \u001B[49m\u001B[43mn_jobs\u001B[49m\u001B[38;5;241;43m=\u001B[39;49m\u001B[43mn_jobs\u001B[49m\u001B[43m,\u001B[49m\n\u001B[1;32m    720\u001B[0m \u001B[43m    \u001B[49m\u001B[43mverbose\u001B[49m\u001B[38;5;241;43m=\u001B[39;49m\u001B[43mverbose\u001B[49m\u001B[43m,\u001B[49m\n\u001B[1;32m    721\u001B[0m \u001B[43m    \u001B[49m\u001B[43mfit_params\u001B[49m\u001B[38;5;241;43m=\u001B[39;49m\u001B[43mfit_params\u001B[49m\u001B[43m,\u001B[49m\n\u001B[1;32m    722\u001B[0m \u001B[43m    \u001B[49m\u001B[43mparams\u001B[49m\u001B[38;5;241;43m=\u001B[39;49m\u001B[43mparams\u001B[49m\u001B[43m,\u001B[49m\n\u001B[1;32m    723\u001B[0m \u001B[43m    \u001B[49m\u001B[43mpre_dispatch\u001B[49m\u001B[38;5;241;43m=\u001B[39;49m\u001B[43mpre_dispatch\u001B[49m\u001B[43m,\u001B[49m\n\u001B[1;32m    724\u001B[0m \u001B[43m    \u001B[49m\u001B[43merror_score\u001B[49m\u001B[38;5;241;43m=\u001B[39;49m\u001B[43merror_score\u001B[49m\u001B[43m,\u001B[49m\n\u001B[1;32m    725\u001B[0m \u001B[43m\u001B[49m\u001B[43m)\u001B[49m\n\u001B[1;32m    726\u001B[0m \u001B[38;5;28;01mreturn\u001B[39;00m cv_results[\u001B[38;5;124m\"\u001B[39m\u001B[38;5;124mtest_score\u001B[39m\u001B[38;5;124m\"\u001B[39m]\n",
      "File \u001B[0;32m~/miniforge3/envs/chem/lib/python3.10/site-packages/sklearn/utils/_param_validation.py:213\u001B[0m, in \u001B[0;36mvalidate_params.<locals>.decorator.<locals>.wrapper\u001B[0;34m(*args, **kwargs)\u001B[0m\n\u001B[1;32m    207\u001B[0m \u001B[38;5;28;01mtry\u001B[39;00m:\n\u001B[1;32m    208\u001B[0m     \u001B[38;5;28;01mwith\u001B[39;00m config_context(\n\u001B[1;32m    209\u001B[0m         skip_parameter_validation\u001B[38;5;241m=\u001B[39m(\n\u001B[1;32m    210\u001B[0m             prefer_skip_nested_validation \u001B[38;5;129;01mor\u001B[39;00m global_skip_validation\n\u001B[1;32m    211\u001B[0m         )\n\u001B[1;32m    212\u001B[0m     ):\n\u001B[0;32m--> 213\u001B[0m         \u001B[38;5;28;01mreturn\u001B[39;00m \u001B[43mfunc\u001B[49m\u001B[43m(\u001B[49m\u001B[38;5;241;43m*\u001B[39;49m\u001B[43margs\u001B[49m\u001B[43m,\u001B[49m\u001B[43m \u001B[49m\u001B[38;5;241;43m*\u001B[39;49m\u001B[38;5;241;43m*\u001B[39;49m\u001B[43mkwargs\u001B[49m\u001B[43m)\u001B[49m\n\u001B[1;32m    214\u001B[0m \u001B[38;5;28;01mexcept\u001B[39;00m InvalidParameterError \u001B[38;5;28;01mas\u001B[39;00m e:\n\u001B[1;32m    215\u001B[0m     \u001B[38;5;66;03m# When the function is just a wrapper around an estimator, we allow\u001B[39;00m\n\u001B[1;32m    216\u001B[0m     \u001B[38;5;66;03m# the function to delegate validation to the estimator, but we replace\u001B[39;00m\n\u001B[1;32m    217\u001B[0m     \u001B[38;5;66;03m# the name of the estimator by the name of the function in the error\u001B[39;00m\n\u001B[1;32m    218\u001B[0m     \u001B[38;5;66;03m# message to avoid confusion.\u001B[39;00m\n\u001B[1;32m    219\u001B[0m     msg \u001B[38;5;241m=\u001B[39m re\u001B[38;5;241m.\u001B[39msub(\n\u001B[1;32m    220\u001B[0m         \u001B[38;5;124mr\u001B[39m\u001B[38;5;124m\"\u001B[39m\u001B[38;5;124mparameter of \u001B[39m\u001B[38;5;124m\\\u001B[39m\u001B[38;5;124mw+ must be\u001B[39m\u001B[38;5;124m\"\u001B[39m,\n\u001B[1;32m    221\u001B[0m         \u001B[38;5;124mf\u001B[39m\u001B[38;5;124m\"\u001B[39m\u001B[38;5;124mparameter of \u001B[39m\u001B[38;5;132;01m{\u001B[39;00mfunc\u001B[38;5;241m.\u001B[39m\u001B[38;5;18m__qualname__\u001B[39m\u001B[38;5;132;01m}\u001B[39;00m\u001B[38;5;124m must be\u001B[39m\u001B[38;5;124m\"\u001B[39m,\n\u001B[1;32m    222\u001B[0m         \u001B[38;5;28mstr\u001B[39m(e),\n\u001B[1;32m    223\u001B[0m     )\n",
      "File \u001B[0;32m~/miniforge3/envs/chem/lib/python3.10/site-packages/sklearn/model_selection/_validation.py:423\u001B[0m, in \u001B[0;36mcross_validate\u001B[0;34m(estimator, X, y, groups, scoring, cv, n_jobs, verbose, fit_params, params, pre_dispatch, return_train_score, return_estimator, return_indices, error_score)\u001B[0m\n\u001B[1;32m    420\u001B[0m \u001B[38;5;66;03m# We clone the estimator to make sure that all the folds are\u001B[39;00m\n\u001B[1;32m    421\u001B[0m \u001B[38;5;66;03m# independent, and that it is pickle-able.\u001B[39;00m\n\u001B[1;32m    422\u001B[0m parallel \u001B[38;5;241m=\u001B[39m Parallel(n_jobs\u001B[38;5;241m=\u001B[39mn_jobs, verbose\u001B[38;5;241m=\u001B[39mverbose, pre_dispatch\u001B[38;5;241m=\u001B[39mpre_dispatch)\n\u001B[0;32m--> 423\u001B[0m results \u001B[38;5;241m=\u001B[39m \u001B[43mparallel\u001B[49m\u001B[43m(\u001B[49m\n\u001B[1;32m    424\u001B[0m \u001B[43m    \u001B[49m\u001B[43mdelayed\u001B[49m\u001B[43m(\u001B[49m\u001B[43m_fit_and_score\u001B[49m\u001B[43m)\u001B[49m\u001B[43m(\u001B[49m\n\u001B[1;32m    425\u001B[0m \u001B[43m        \u001B[49m\u001B[43mclone\u001B[49m\u001B[43m(\u001B[49m\u001B[43mestimator\u001B[49m\u001B[43m)\u001B[49m\u001B[43m,\u001B[49m\n\u001B[1;32m    426\u001B[0m \u001B[43m        \u001B[49m\u001B[43mX\u001B[49m\u001B[43m,\u001B[49m\n\u001B[1;32m    427\u001B[0m \u001B[43m        \u001B[49m\u001B[43my\u001B[49m\u001B[43m,\u001B[49m\n\u001B[1;32m    428\u001B[0m \u001B[43m        \u001B[49m\u001B[43mscorer\u001B[49m\u001B[38;5;241;43m=\u001B[39;49m\u001B[43mscorers\u001B[49m\u001B[43m,\u001B[49m\n\u001B[1;32m    429\u001B[0m \u001B[43m        \u001B[49m\u001B[43mtrain\u001B[49m\u001B[38;5;241;43m=\u001B[39;49m\u001B[43mtrain\u001B[49m\u001B[43m,\u001B[49m\n\u001B[1;32m    430\u001B[0m \u001B[43m        \u001B[49m\u001B[43mtest\u001B[49m\u001B[38;5;241;43m=\u001B[39;49m\u001B[43mtest\u001B[49m\u001B[43m,\u001B[49m\n\u001B[1;32m    431\u001B[0m \u001B[43m        \u001B[49m\u001B[43mverbose\u001B[49m\u001B[38;5;241;43m=\u001B[39;49m\u001B[43mverbose\u001B[49m\u001B[43m,\u001B[49m\n\u001B[1;32m    432\u001B[0m \u001B[43m        \u001B[49m\u001B[43mparameters\u001B[49m\u001B[38;5;241;43m=\u001B[39;49m\u001B[38;5;28;43;01mNone\u001B[39;49;00m\u001B[43m,\u001B[49m\n\u001B[1;32m    433\u001B[0m \u001B[43m        \u001B[49m\u001B[43mfit_params\u001B[49m\u001B[38;5;241;43m=\u001B[39;49m\u001B[43mrouted_params\u001B[49m\u001B[38;5;241;43m.\u001B[39;49m\u001B[43mestimator\u001B[49m\u001B[38;5;241;43m.\u001B[39;49m\u001B[43mfit\u001B[49m\u001B[43m,\u001B[49m\n\u001B[1;32m    434\u001B[0m \u001B[43m        \u001B[49m\u001B[43mscore_params\u001B[49m\u001B[38;5;241;43m=\u001B[39;49m\u001B[43mrouted_params\u001B[49m\u001B[38;5;241;43m.\u001B[39;49m\u001B[43mscorer\u001B[49m\u001B[38;5;241;43m.\u001B[39;49m\u001B[43mscore\u001B[49m\u001B[43m,\u001B[49m\n\u001B[1;32m    435\u001B[0m \u001B[43m        \u001B[49m\u001B[43mreturn_train_score\u001B[49m\u001B[38;5;241;43m=\u001B[39;49m\u001B[43mreturn_train_score\u001B[49m\u001B[43m,\u001B[49m\n\u001B[1;32m    436\u001B[0m \u001B[43m        \u001B[49m\u001B[43mreturn_times\u001B[49m\u001B[38;5;241;43m=\u001B[39;49m\u001B[38;5;28;43;01mTrue\u001B[39;49;00m\u001B[43m,\u001B[49m\n\u001B[1;32m    437\u001B[0m \u001B[43m        \u001B[49m\u001B[43mreturn_estimator\u001B[49m\u001B[38;5;241;43m=\u001B[39;49m\u001B[43mreturn_estimator\u001B[49m\u001B[43m,\u001B[49m\n\u001B[1;32m    438\u001B[0m \u001B[43m        \u001B[49m\u001B[43merror_score\u001B[49m\u001B[38;5;241;43m=\u001B[39;49m\u001B[43merror_score\u001B[49m\u001B[43m,\u001B[49m\n\u001B[1;32m    439\u001B[0m \u001B[43m    \u001B[49m\u001B[43m)\u001B[49m\n\u001B[1;32m    440\u001B[0m \u001B[43m    \u001B[49m\u001B[38;5;28;43;01mfor\u001B[39;49;00m\u001B[43m \u001B[49m\u001B[43mtrain\u001B[49m\u001B[43m,\u001B[49m\u001B[43m \u001B[49m\u001B[43mtest\u001B[49m\u001B[43m \u001B[49m\u001B[38;5;129;43;01min\u001B[39;49;00m\u001B[43m \u001B[49m\u001B[43mindices\u001B[49m\n\u001B[1;32m    441\u001B[0m \u001B[43m\u001B[49m\u001B[43m)\u001B[49m\n\u001B[1;32m    443\u001B[0m _warn_or_raise_about_fit_failures(results, error_score)\n\u001B[1;32m    445\u001B[0m \u001B[38;5;66;03m# For callable scoring, the return type is only know after calling. If the\u001B[39;00m\n\u001B[1;32m    446\u001B[0m \u001B[38;5;66;03m# return type is a dictionary, the error scores can now be inserted with\u001B[39;00m\n\u001B[1;32m    447\u001B[0m \u001B[38;5;66;03m# the correct key.\u001B[39;00m\n",
      "File \u001B[0;32m~/miniforge3/envs/chem/lib/python3.10/site-packages/sklearn/utils/parallel.py:74\u001B[0m, in \u001B[0;36mParallel.__call__\u001B[0;34m(self, iterable)\u001B[0m\n\u001B[1;32m     69\u001B[0m config \u001B[38;5;241m=\u001B[39m get_config()\n\u001B[1;32m     70\u001B[0m iterable_with_config \u001B[38;5;241m=\u001B[39m (\n\u001B[1;32m     71\u001B[0m     (_with_config(delayed_func, config), args, kwargs)\n\u001B[1;32m     72\u001B[0m     \u001B[38;5;28;01mfor\u001B[39;00m delayed_func, args, kwargs \u001B[38;5;129;01min\u001B[39;00m iterable\n\u001B[1;32m     73\u001B[0m )\n\u001B[0;32m---> 74\u001B[0m \u001B[38;5;28;01mreturn\u001B[39;00m \u001B[38;5;28;43msuper\u001B[39;49m\u001B[43m(\u001B[49m\u001B[43m)\u001B[49m\u001B[38;5;241;43m.\u001B[39;49m\u001B[38;5;21;43m__call__\u001B[39;49m\u001B[43m(\u001B[49m\u001B[43miterable_with_config\u001B[49m\u001B[43m)\u001B[49m\n",
      "File \u001B[0;32m~/miniforge3/envs/chem/lib/python3.10/site-packages/joblib/parallel.py:1918\u001B[0m, in \u001B[0;36mParallel.__call__\u001B[0;34m(self, iterable)\u001B[0m\n\u001B[1;32m   1916\u001B[0m     output \u001B[38;5;241m=\u001B[39m \u001B[38;5;28mself\u001B[39m\u001B[38;5;241m.\u001B[39m_get_sequential_output(iterable)\n\u001B[1;32m   1917\u001B[0m     \u001B[38;5;28mnext\u001B[39m(output)\n\u001B[0;32m-> 1918\u001B[0m     \u001B[38;5;28;01mreturn\u001B[39;00m output \u001B[38;5;28;01mif\u001B[39;00m \u001B[38;5;28mself\u001B[39m\u001B[38;5;241m.\u001B[39mreturn_generator \u001B[38;5;28;01melse\u001B[39;00m \u001B[38;5;28;43mlist\u001B[39;49m\u001B[43m(\u001B[49m\u001B[43moutput\u001B[49m\u001B[43m)\u001B[49m\n\u001B[1;32m   1920\u001B[0m \u001B[38;5;66;03m# Let's create an ID that uniquely identifies the current call. If the\u001B[39;00m\n\u001B[1;32m   1921\u001B[0m \u001B[38;5;66;03m# call is interrupted early and that the same instance is immediately\u001B[39;00m\n\u001B[1;32m   1922\u001B[0m \u001B[38;5;66;03m# re-used, this id will be used to prevent workers that were\u001B[39;00m\n\u001B[1;32m   1923\u001B[0m \u001B[38;5;66;03m# concurrently finalizing a task from the previous call to run the\u001B[39;00m\n\u001B[1;32m   1924\u001B[0m \u001B[38;5;66;03m# callback.\u001B[39;00m\n\u001B[1;32m   1925\u001B[0m \u001B[38;5;28;01mwith\u001B[39;00m \u001B[38;5;28mself\u001B[39m\u001B[38;5;241m.\u001B[39m_lock:\n",
      "File \u001B[0;32m~/miniforge3/envs/chem/lib/python3.10/site-packages/joblib/parallel.py:1847\u001B[0m, in \u001B[0;36mParallel._get_sequential_output\u001B[0;34m(self, iterable)\u001B[0m\n\u001B[1;32m   1845\u001B[0m \u001B[38;5;28mself\u001B[39m\u001B[38;5;241m.\u001B[39mn_dispatched_batches \u001B[38;5;241m+\u001B[39m\u001B[38;5;241m=\u001B[39m \u001B[38;5;241m1\u001B[39m\n\u001B[1;32m   1846\u001B[0m \u001B[38;5;28mself\u001B[39m\u001B[38;5;241m.\u001B[39mn_dispatched_tasks \u001B[38;5;241m+\u001B[39m\u001B[38;5;241m=\u001B[39m \u001B[38;5;241m1\u001B[39m\n\u001B[0;32m-> 1847\u001B[0m res \u001B[38;5;241m=\u001B[39m \u001B[43mfunc\u001B[49m\u001B[43m(\u001B[49m\u001B[38;5;241;43m*\u001B[39;49m\u001B[43margs\u001B[49m\u001B[43m,\u001B[49m\u001B[43m \u001B[49m\u001B[38;5;241;43m*\u001B[39;49m\u001B[38;5;241;43m*\u001B[39;49m\u001B[43mkwargs\u001B[49m\u001B[43m)\u001B[49m\n\u001B[1;32m   1848\u001B[0m \u001B[38;5;28mself\u001B[39m\u001B[38;5;241m.\u001B[39mn_completed_tasks \u001B[38;5;241m+\u001B[39m\u001B[38;5;241m=\u001B[39m \u001B[38;5;241m1\u001B[39m\n\u001B[1;32m   1849\u001B[0m \u001B[38;5;28mself\u001B[39m\u001B[38;5;241m.\u001B[39mprint_progress()\n",
      "File \u001B[0;32m~/miniforge3/envs/chem/lib/python3.10/site-packages/sklearn/utils/parallel.py:136\u001B[0m, in \u001B[0;36m_FuncWrapper.__call__\u001B[0;34m(self, *args, **kwargs)\u001B[0m\n\u001B[1;32m    134\u001B[0m     config \u001B[38;5;241m=\u001B[39m {}\n\u001B[1;32m    135\u001B[0m \u001B[38;5;28;01mwith\u001B[39;00m config_context(\u001B[38;5;241m*\u001B[39m\u001B[38;5;241m*\u001B[39mconfig):\n\u001B[0;32m--> 136\u001B[0m     \u001B[38;5;28;01mreturn\u001B[39;00m \u001B[38;5;28;43mself\u001B[39;49m\u001B[38;5;241;43m.\u001B[39;49m\u001B[43mfunction\u001B[49m\u001B[43m(\u001B[49m\u001B[38;5;241;43m*\u001B[39;49m\u001B[43margs\u001B[49m\u001B[43m,\u001B[49m\u001B[43m \u001B[49m\u001B[38;5;241;43m*\u001B[39;49m\u001B[38;5;241;43m*\u001B[39;49m\u001B[43mkwargs\u001B[49m\u001B[43m)\u001B[49m\n",
      "File \u001B[0;32m~/miniforge3/envs/chem/lib/python3.10/site-packages/sklearn/model_selection/_validation.py:888\u001B[0m, in \u001B[0;36m_fit_and_score\u001B[0;34m(estimator, X, y, scorer, train, test, verbose, parameters, fit_params, score_params, return_train_score, return_parameters, return_n_test_samples, return_times, return_estimator, split_progress, candidate_progress, error_score)\u001B[0m\n\u001B[1;32m    886\u001B[0m         estimator\u001B[38;5;241m.\u001B[39mfit(X_train, \u001B[38;5;241m*\u001B[39m\u001B[38;5;241m*\u001B[39mfit_params)\n\u001B[1;32m    887\u001B[0m     \u001B[38;5;28;01melse\u001B[39;00m:\n\u001B[0;32m--> 888\u001B[0m         \u001B[43mestimator\u001B[49m\u001B[38;5;241;43m.\u001B[39;49m\u001B[43mfit\u001B[49m\u001B[43m(\u001B[49m\u001B[43mX_train\u001B[49m\u001B[43m,\u001B[49m\u001B[43m \u001B[49m\u001B[43my_train\u001B[49m\u001B[43m,\u001B[49m\u001B[43m \u001B[49m\u001B[38;5;241;43m*\u001B[39;49m\u001B[38;5;241;43m*\u001B[39;49m\u001B[43mfit_params\u001B[49m\u001B[43m)\u001B[49m\n\u001B[1;32m    890\u001B[0m \u001B[38;5;28;01mexcept\u001B[39;00m \u001B[38;5;167;01mException\u001B[39;00m:\n\u001B[1;32m    891\u001B[0m     \u001B[38;5;66;03m# Note fit time as time until error\u001B[39;00m\n\u001B[1;32m    892\u001B[0m     fit_time \u001B[38;5;241m=\u001B[39m time\u001B[38;5;241m.\u001B[39mtime() \u001B[38;5;241m-\u001B[39m start_time\n",
      "File \u001B[0;32m~/kaggle_05092024/src/utils.py:52\u001B[0m, in \u001B[0;36mBlendingClassifier.fit\u001B[0;34m(self, X, y)\u001B[0m\n\u001B[1;32m     50\u001B[0m \u001B[38;5;28mself\u001B[39m\u001B[38;5;241m.\u001B[39mclasses_, y \u001B[38;5;241m=\u001B[39m np\u001B[38;5;241m.\u001B[39munique(y, return_inverse\u001B[38;5;241m=\u001B[39m\u001B[38;5;28;01mTrue\u001B[39;00m)\n\u001B[1;32m     51\u001B[0m \u001B[38;5;28;01mfor\u001B[39;00m name, model \u001B[38;5;129;01min\u001B[39;00m \u001B[38;5;28mself\u001B[39m\u001B[38;5;241m.\u001B[39mmodels:\n\u001B[0;32m---> 52\u001B[0m     \u001B[43mmodel\u001B[49m\u001B[38;5;241;43m.\u001B[39;49m\u001B[43mfit\u001B[49m\u001B[43m(\u001B[49m\u001B[43mX\u001B[49m\u001B[43m,\u001B[49m\u001B[43m \u001B[49m\u001B[43my\u001B[49m\u001B[43m)\u001B[49m\n\u001B[1;32m     53\u001B[0m \u001B[38;5;28;01mreturn\u001B[39;00m \u001B[38;5;28mself\u001B[39m\n",
      "File \u001B[0;32m~/miniforge3/envs/chem/lib/python3.10/site-packages/xgboost/core.py:726\u001B[0m, in \u001B[0;36mrequire_keyword_args.<locals>.throw_if.<locals>.inner_f\u001B[0;34m(*args, **kwargs)\u001B[0m\n\u001B[1;32m    724\u001B[0m \u001B[38;5;28;01mfor\u001B[39;00m k, arg \u001B[38;5;129;01min\u001B[39;00m \u001B[38;5;28mzip\u001B[39m(sig\u001B[38;5;241m.\u001B[39mparameters, args):\n\u001B[1;32m    725\u001B[0m     kwargs[k] \u001B[38;5;241m=\u001B[39m arg\n\u001B[0;32m--> 726\u001B[0m \u001B[38;5;28;01mreturn\u001B[39;00m \u001B[43mfunc\u001B[49m\u001B[43m(\u001B[49m\u001B[38;5;241;43m*\u001B[39;49m\u001B[38;5;241;43m*\u001B[39;49m\u001B[43mkwargs\u001B[49m\u001B[43m)\u001B[49m\n",
      "File \u001B[0;32m~/miniforge3/envs/chem/lib/python3.10/site-packages/xgboost/sklearn.py:1531\u001B[0m, in \u001B[0;36mXGBClassifier.fit\u001B[0;34m(self, X, y, sample_weight, base_margin, eval_set, verbose, xgb_model, sample_weight_eval_set, base_margin_eval_set, feature_weights)\u001B[0m\n\u001B[1;32m   1511\u001B[0m model, metric, params \u001B[38;5;241m=\u001B[39m \u001B[38;5;28mself\u001B[39m\u001B[38;5;241m.\u001B[39m_configure_fit(xgb_model, params)\n\u001B[1;32m   1512\u001B[0m train_dmatrix, evals \u001B[38;5;241m=\u001B[39m _wrap_evaluation_matrices(\n\u001B[1;32m   1513\u001B[0m     missing\u001B[38;5;241m=\u001B[39m\u001B[38;5;28mself\u001B[39m\u001B[38;5;241m.\u001B[39mmissing,\n\u001B[1;32m   1514\u001B[0m     X\u001B[38;5;241m=\u001B[39mX,\n\u001B[0;32m   (...)\u001B[0m\n\u001B[1;32m   1528\u001B[0m     feature_types\u001B[38;5;241m=\u001B[39m\u001B[38;5;28mself\u001B[39m\u001B[38;5;241m.\u001B[39mfeature_types,\n\u001B[1;32m   1529\u001B[0m )\n\u001B[0;32m-> 1531\u001B[0m \u001B[38;5;28mself\u001B[39m\u001B[38;5;241m.\u001B[39m_Booster \u001B[38;5;241m=\u001B[39m \u001B[43mtrain\u001B[49m\u001B[43m(\u001B[49m\n\u001B[1;32m   1532\u001B[0m \u001B[43m    \u001B[49m\u001B[43mparams\u001B[49m\u001B[43m,\u001B[49m\n\u001B[1;32m   1533\u001B[0m \u001B[43m    \u001B[49m\u001B[43mtrain_dmatrix\u001B[49m\u001B[43m,\u001B[49m\n\u001B[1;32m   1534\u001B[0m \u001B[43m    \u001B[49m\u001B[38;5;28;43mself\u001B[39;49m\u001B[38;5;241;43m.\u001B[39;49m\u001B[43mget_num_boosting_rounds\u001B[49m\u001B[43m(\u001B[49m\u001B[43m)\u001B[49m\u001B[43m,\u001B[49m\n\u001B[1;32m   1535\u001B[0m \u001B[43m    \u001B[49m\u001B[43mevals\u001B[49m\u001B[38;5;241;43m=\u001B[39;49m\u001B[43mevals\u001B[49m\u001B[43m,\u001B[49m\n\u001B[1;32m   1536\u001B[0m \u001B[43m    \u001B[49m\u001B[43mearly_stopping_rounds\u001B[49m\u001B[38;5;241;43m=\u001B[39;49m\u001B[38;5;28;43mself\u001B[39;49m\u001B[38;5;241;43m.\u001B[39;49m\u001B[43mearly_stopping_rounds\u001B[49m\u001B[43m,\u001B[49m\n\u001B[1;32m   1537\u001B[0m \u001B[43m    \u001B[49m\u001B[43mevals_result\u001B[49m\u001B[38;5;241;43m=\u001B[39;49m\u001B[43mevals_result\u001B[49m\u001B[43m,\u001B[49m\n\u001B[1;32m   1538\u001B[0m \u001B[43m    \u001B[49m\u001B[43mobj\u001B[49m\u001B[38;5;241;43m=\u001B[39;49m\u001B[43mobj\u001B[49m\u001B[43m,\u001B[49m\n\u001B[1;32m   1539\u001B[0m \u001B[43m    \u001B[49m\u001B[43mcustom_metric\u001B[49m\u001B[38;5;241;43m=\u001B[39;49m\u001B[43mmetric\u001B[49m\u001B[43m,\u001B[49m\n\u001B[1;32m   1540\u001B[0m \u001B[43m    \u001B[49m\u001B[43mverbose_eval\u001B[49m\u001B[38;5;241;43m=\u001B[39;49m\u001B[43mverbose\u001B[49m\u001B[43m,\u001B[49m\n\u001B[1;32m   1541\u001B[0m \u001B[43m    \u001B[49m\u001B[43mxgb_model\u001B[49m\u001B[38;5;241;43m=\u001B[39;49m\u001B[43mmodel\u001B[49m\u001B[43m,\u001B[49m\n\u001B[1;32m   1542\u001B[0m \u001B[43m    \u001B[49m\u001B[43mcallbacks\u001B[49m\u001B[38;5;241;43m=\u001B[39;49m\u001B[38;5;28;43mself\u001B[39;49m\u001B[38;5;241;43m.\u001B[39;49m\u001B[43mcallbacks\u001B[49m\u001B[43m,\u001B[49m\n\u001B[1;32m   1543\u001B[0m \u001B[43m\u001B[49m\u001B[43m)\u001B[49m\n\u001B[1;32m   1545\u001B[0m \u001B[38;5;28;01mif\u001B[39;00m \u001B[38;5;129;01mnot\u001B[39;00m \u001B[38;5;28mcallable\u001B[39m(\u001B[38;5;28mself\u001B[39m\u001B[38;5;241m.\u001B[39mobjective):\n\u001B[1;32m   1546\u001B[0m     \u001B[38;5;28mself\u001B[39m\u001B[38;5;241m.\u001B[39mobjective \u001B[38;5;241m=\u001B[39m params[\u001B[38;5;124m\"\u001B[39m\u001B[38;5;124mobjective\u001B[39m\u001B[38;5;124m\"\u001B[39m]\n",
      "File \u001B[0;32m~/miniforge3/envs/chem/lib/python3.10/site-packages/xgboost/core.py:726\u001B[0m, in \u001B[0;36mrequire_keyword_args.<locals>.throw_if.<locals>.inner_f\u001B[0;34m(*args, **kwargs)\u001B[0m\n\u001B[1;32m    724\u001B[0m \u001B[38;5;28;01mfor\u001B[39;00m k, arg \u001B[38;5;129;01min\u001B[39;00m \u001B[38;5;28mzip\u001B[39m(sig\u001B[38;5;241m.\u001B[39mparameters, args):\n\u001B[1;32m    725\u001B[0m     kwargs[k] \u001B[38;5;241m=\u001B[39m arg\n\u001B[0;32m--> 726\u001B[0m \u001B[38;5;28;01mreturn\u001B[39;00m \u001B[43mfunc\u001B[49m\u001B[43m(\u001B[49m\u001B[38;5;241;43m*\u001B[39;49m\u001B[38;5;241;43m*\u001B[39;49m\u001B[43mkwargs\u001B[49m\u001B[43m)\u001B[49m\n",
      "File \u001B[0;32m~/miniforge3/envs/chem/lib/python3.10/site-packages/xgboost/training.py:181\u001B[0m, in \u001B[0;36mtrain\u001B[0;34m(params, dtrain, num_boost_round, evals, obj, feval, maximize, early_stopping_rounds, evals_result, verbose_eval, xgb_model, callbacks, custom_metric)\u001B[0m\n\u001B[1;32m    179\u001B[0m \u001B[38;5;28;01mif\u001B[39;00m cb_container\u001B[38;5;241m.\u001B[39mbefore_iteration(bst, i, dtrain, evals):\n\u001B[1;32m    180\u001B[0m     \u001B[38;5;28;01mbreak\u001B[39;00m\n\u001B[0;32m--> 181\u001B[0m \u001B[43mbst\u001B[49m\u001B[38;5;241;43m.\u001B[39;49m\u001B[43mupdate\u001B[49m\u001B[43m(\u001B[49m\u001B[43mdtrain\u001B[49m\u001B[43m,\u001B[49m\u001B[43m \u001B[49m\u001B[43miteration\u001B[49m\u001B[38;5;241;43m=\u001B[39;49m\u001B[43mi\u001B[49m\u001B[43m,\u001B[49m\u001B[43m \u001B[49m\u001B[43mfobj\u001B[49m\u001B[38;5;241;43m=\u001B[39;49m\u001B[43mobj\u001B[49m\u001B[43m)\u001B[49m\n\u001B[1;32m    182\u001B[0m \u001B[38;5;28;01mif\u001B[39;00m cb_container\u001B[38;5;241m.\u001B[39mafter_iteration(bst, i, dtrain, evals):\n\u001B[1;32m    183\u001B[0m     \u001B[38;5;28;01mbreak\u001B[39;00m\n",
      "File \u001B[0;32m~/miniforge3/envs/chem/lib/python3.10/site-packages/xgboost/core.py:2101\u001B[0m, in \u001B[0;36mBooster.update\u001B[0;34m(self, dtrain, iteration, fobj)\u001B[0m\n\u001B[1;32m   2097\u001B[0m \u001B[38;5;28mself\u001B[39m\u001B[38;5;241m.\u001B[39m_assign_dmatrix_features(dtrain)\n\u001B[1;32m   2099\u001B[0m \u001B[38;5;28;01mif\u001B[39;00m fobj \u001B[38;5;129;01mis\u001B[39;00m \u001B[38;5;28;01mNone\u001B[39;00m:\n\u001B[1;32m   2100\u001B[0m     _check_call(\n\u001B[0;32m-> 2101\u001B[0m         \u001B[43m_LIB\u001B[49m\u001B[38;5;241;43m.\u001B[39;49m\u001B[43mXGBoosterUpdateOneIter\u001B[49m\u001B[43m(\u001B[49m\n\u001B[1;32m   2102\u001B[0m \u001B[43m            \u001B[49m\u001B[38;5;28;43mself\u001B[39;49m\u001B[38;5;241;43m.\u001B[39;49m\u001B[43mhandle\u001B[49m\u001B[43m,\u001B[49m\u001B[43m \u001B[49m\u001B[43mctypes\u001B[49m\u001B[38;5;241;43m.\u001B[39;49m\u001B[43mc_int\u001B[49m\u001B[43m(\u001B[49m\u001B[43miteration\u001B[49m\u001B[43m)\u001B[49m\u001B[43m,\u001B[49m\u001B[43m \u001B[49m\u001B[43mdtrain\u001B[49m\u001B[38;5;241;43m.\u001B[39;49m\u001B[43mhandle\u001B[49m\n\u001B[1;32m   2103\u001B[0m \u001B[43m        \u001B[49m\u001B[43m)\u001B[49m\n\u001B[1;32m   2104\u001B[0m     )\n\u001B[1;32m   2105\u001B[0m \u001B[38;5;28;01melse\u001B[39;00m:\n\u001B[1;32m   2106\u001B[0m     pred \u001B[38;5;241m=\u001B[39m \u001B[38;5;28mself\u001B[39m\u001B[38;5;241m.\u001B[39mpredict(dtrain, output_margin\u001B[38;5;241m=\u001B[39m\u001B[38;5;28;01mTrue\u001B[39;00m, training\u001B[38;5;241m=\u001B[39m\u001B[38;5;28;01mTrue\u001B[39;00m)\n",
      "\u001B[0;31mKeyboardInterrupt\u001B[0m: "
     ]
    }
   ],
   "execution_count": 66
  },
  {
   "metadata": {
    "ExecuteTime": {
     "end_time": "2024-09-07T15:17:23.231812Z",
     "start_time": "2024-09-07T15:16:55.819666Z"
    }
   },
   "cell_type": "code",
   "source": "probs = clf.fit(X_train_uncor, y_train).predict_proba(X_test_uncor)",
   "id": "22fb37723f40e1d3",
   "outputs": [],
   "execution_count": 160
  },
  {
   "metadata": {
    "ExecuteTime": {
     "end_time": "2024-09-07T15:20:54.653238Z",
     "start_time": "2024-09-07T15:20:54.605160Z"
    }
   },
   "cell_type": "code",
   "source": "to_submit(probs).to_csv('../data/preds/maplight_mord_uncorr_blend_hgb_xgb_xgb_lgb.csv')",
   "id": "dd9b2f51b336c337",
   "outputs": [],
   "execution_count": 166
  },
  {
   "metadata": {},
   "cell_type": "markdown",
   "source": "# Maplight GNN",
   "id": "2b73169aef60f913"
  },
  {
   "metadata": {},
   "cell_type": "code",
   "source": [
    "params = {\n",
    "    'morgan_fps':True,\n",
    "    'avalon_fps':True,\n",
    "    'erg_fps':True,\n",
    "    'rdkit_feats':True,\n",
    "    'mord_feats': False,\n",
    "    'gin_gnn':True,\n",
    "}\n",
    "\n",
    "X_train, y_train, X_test = prepare_data(**params)"
   ],
   "id": "e31b721ca8a509f1",
   "outputs": [],
   "execution_count": null
  },
  {
   "metadata": {
    "ExecuteTime": {
     "end_time": "2024-09-07T13:10:13.005855Z",
     "start_time": "2024-09-07T13:06:42.947971Z"
    }
   },
   "cell_type": "code",
   "source": [
    "print('=========== Maplight GNN ===========')\n",
    "for name, model in models.items():\n",
    "    eval_model(name, model, X_train, y_train)"
   ],
   "id": "f92d6eb4dad69c4d",
   "outputs": [
    {
     "name": "stdout",
     "output_type": "stream",
     "text": [
      "=========== Maplight GNN ===========\n",
      "     RF: 0.8735    (0.879 ± 0.005)    4.5s\n",
      " HistGB: 0.8977    (0.903 ± 0.006)    42.6s\n",
      "    XGB: 0.8926    (0.902 ± 0.009)    22.8s\n",
      "XGB_GPU: 0.8926    (0.900 ± 0.007)    13.1s\n",
      "     CB: 0.8804    (0.889 ± 0.009)    59.9s\n",
      " CB_GPU: 0.8734    (0.883 ± 0.009)    42.3s\n",
      "    LGB: 0.8951    (0.903 ± 0.008)    24.8s\n"
     ]
    }
   ],
   "execution_count": 51
  },
  {
   "metadata": {},
   "cell_type": "code",
   "outputs": [],
   "execution_count": 29,
   "source": [
    "# clf = models['HistGB']\n",
    "# clf.fit(X_train, y_train)\n",
    "# pred = clf.predict_proba(X_test)"
   ],
   "id": "21cdfe400ef31d71"
  },
  {
   "metadata": {},
   "cell_type": "code",
   "outputs": [],
   "execution_count": 30,
   "source": "# arr_to_submit(pred[:, 1]).to_csv('../submits/maplight_gnn_histgb.csv')",
   "id": "9b4b792ecaa86440"
  },
  {
   "metadata": {},
   "cell_type": "code",
   "source": [
    "from sklearn.model_selection import ShuffleSplit, StratifiedKFold, StratifiedShuffleSplit\n",
    "\n",
    "eval_model('hGB', models['HistGB'], X_train, y_train, cv=StratifiedKFold(random_state=RANDOM_SEED, shuffle=True));\n",
    "eval_model('hGB', models['HistGB'], X_train, y_train, cv=ShuffleSplit(random_state=RANDOM_SEED));\n",
    "eval_model('hGB', models['HistGB'], X_train, y_train, cv=StratifiedShuffleSplit(random_state=RANDOM_SEED));"
   ],
   "id": "8c5515a5ad0520fc",
   "outputs": [],
   "execution_count": null
  },
  {
   "metadata": {
    "ExecuteTime": {
     "end_time": "2024-09-07T13:11:41.566187Z",
     "start_time": "2024-09-07T13:10:13.008664Z"
    }
   },
   "cell_type": "code",
   "source": [
    "from src.corr import non_corr_features\n",
    "\n",
    "X_train_uncor = non_corr_features(X_train, y_train)\n",
    "X_test_uncor = X_test[X_train_uncor.columns]"
   ],
   "id": "7d8ad04717d1ccb",
   "outputs": [
    {
     "name": "stdout",
     "output_type": "stream",
     "text": [
      "________________________________________________________________________________\n",
      "[Memory] Calling src.corr.get_corr...\n",
      "get_corr(      morgan_0  morgan_1  morgan_2  morgan_3  morgan_4  morgan_5  morgan_6  \\\n",
      "0          0.0       0.0       0.0       0.0       1.0       0.0       0.0   \n",
      "1          0.0       0.0       0.0       0.0       0.0       0.0       0.0   \n",
      "2          0.0       0.0       0.0       0.0       0.0       0.0       0.0   \n",
      "3          0.0       0.0       0.0       0.0       0.0       0.0       0.0   \n",
      "4          0.0       1.0       0.0       0.0       0.0       0.0       0.0   \n",
      "...        ...       ...       ...       ...       ...       ...       ...   \n",
      "7934       0.0       0.0       0.0       0.0       0.0       0.0       0.0   \n",
      "7935       0.0       1.0       0.0       0.0       0.0       0.0       0.0  ...)\n",
      "________________________________________________________get_corr - 88.0s, 1.5min\n"
     ]
    }
   ],
   "execution_count": 52
  },
  {
   "metadata": {
    "ExecuteTime": {
     "end_time": "2024-09-07T13:15:08.648836Z",
     "start_time": "2024-09-07T13:11:41.567885Z"
    }
   },
   "cell_type": "code",
   "source": [
    "print('=========== MaplightGNN uncorrelated ===========')\n",
    "\n",
    "for name, model in models.items():\n",
    "    eval_model(name, model, X_train_uncor, y_train)"
   ],
   "id": "75eecc269313327b",
   "outputs": [
    {
     "name": "stdout",
     "output_type": "stream",
     "text": [
      "=========== MaplightGNN uncorrelated ===========\n",
      "     RF: 0.8757    (0.881 ± 0.006)    4.5s\n",
      " HistGB: 0.8959    (0.903 ± 0.007)    41.8s\n",
      "    XGB: 0.8927    (0.899 ± 0.006)    20.9s\n",
      "XGB_GPU: 0.8920    (0.901 ± 0.009)    12.7s\n",
      "     CB: 0.8781    (0.887 ± 0.009)    60.5s\n",
      " CB_GPU: 0.8781    (0.884 ± 0.006)    42.2s\n",
      "    LGB: 0.8954    (0.903 ± 0.008)    24.4s\n"
     ]
    }
   ],
   "execution_count": 53
  },
  {
   "metadata": {
    "ExecuteTime": {
     "end_time": "2024-09-07T05:13:39.837802Z",
     "start_time": "2024-09-07T05:13:39.836803Z"
    }
   },
   "cell_type": "code",
   "source": [
    "# X_train = pd.read_pickle('../data/processed/X_train.pkl.zip')\n",
    "# X_test = pd.read_pickle('../data/processed/X_test.pkl.zip')\n",
    "# \n",
    "# y_train = pd.read_pickle('../data/processed/y_train.pkl')"
   ],
   "id": "1161f85f8ed78e62",
   "outputs": [],
   "execution_count": null
  },
  {
   "metadata": {},
   "cell_type": "markdown",
   "source": "# Maplight GNN + Mordred",
   "id": "7dbc884084a75967"
  },
  {
   "metadata": {
    "ExecuteTime": {
     "end_time": "2024-09-07T18:11:04.925257Z",
     "start_time": "2024-09-07T18:11:03.431769Z"
    }
   },
   "cell_type": "code",
   "source": [
    "from sklearn.preprocessing import OneHotEncoder\n",
    "\n",
    "params = {\n",
    "    'morgan_fps':True,\n",
    "    'avalon_fps':True,\n",
    "    'erg_fps':True,\n",
    "    'rdkit_feats':True,\n",
    "    'mord_feats': True,\n",
    "    'gin_gnn':True,\n",
    "}\n",
    "\n",
    "X_train, y_train, X_test = prepare_data(**params)"
   ],
   "id": "163ca23fd707de8a",
   "outputs": [],
   "execution_count": 60
  },
  {
   "metadata": {
    "ExecuteTime": {
     "end_time": "2024-09-07T13:21:52.273727Z",
     "start_time": "2024-09-07T13:15:09.489721Z"
    }
   },
   "cell_type": "code",
   "source": [
    "print('============= Maplight GNN + Mordred ============')\n",
    "for name, model in models.items():\n",
    "    eval_model(name, model, X_train, y_train)"
   ],
   "id": "30410b5fd1f45aa0",
   "outputs": [
    {
     "name": "stdout",
     "output_type": "stream",
     "text": [
      "============= Maplight GNN + Mordred ============\n",
      "     RF: 0.8650    (0.871 ± 0.006)    9.4s\n",
      " HistGB: 0.8995    (0.905 ± 0.006)    89.7s\n",
      "    XGB: 0.8943    (0.900 ± 0.006)    73.5s\n",
      "XGB_GPU: 0.8927    (0.900 ± 0.007)    25.1s\n",
      "     CB: 0.8799    (0.887 ± 0.007)    87.0s\n",
      " CB_GPU: 0.8754    (0.884 ± 0.009)    69.9s\n",
      "    LGB: 0.8967    (0.904 ± 0.007)    48.1s\n"
     ]
    }
   ],
   "execution_count": 55
  },
  {
   "metadata": {
    "ExecuteTime": {
     "end_time": "2024-09-07T14:38:24.117662Z",
     "start_time": "2024-09-07T14:35:21.174610Z"
    }
   },
   "cell_type": "code",
   "source": [
    "from src.utils import BlendingClassifier\n",
    "\n",
    "clf = BlendingClassifier(\n",
    "    get_models_list(\n",
    "        ['HistGB', 'XGB', 'XGB_GPU', 'LGB'],\n",
    "    ),\n",
    "    weights=None\n",
    ")\n",
    "\n",
    "eval_model('blend', clf, X_train, y_train);\n",
    "# arr_to_submit(y_pred).to_csv('../submits/maplight_gnn_mord_hgb.csv')"
   ],
   "id": "4386e8cef010284d",
   "outputs": [
    {
     "name": "stdout",
     "output_type": "stream",
     "text": [
      "  blend: 0.9018    (0.908 ± 0.007)    182.9s\n"
     ]
    },
    {
     "data": {
      "text/plain": [
       "array([0.90241797, 0.91132905, 0.90049903, 0.91926353, 0.90894378])"
      ]
     },
     "execution_count": 137,
     "metadata": {},
     "output_type": "execute_result"
    }
   ],
   "execution_count": 137
  },
  {
   "metadata": {
    "ExecuteTime": {
     "end_time": "2024-09-07T14:45:44.551812Z",
     "start_time": "2024-09-07T14:43:06.501801Z"
    }
   },
   "cell_type": "code",
   "source": [
    "clf = BlendingClassifier(\n",
    "    get_models_list(\n",
    "        ['HistGB', 'XGB', 'XGB_GPU', 'LGB'],\n",
    "    ),\n",
    "    weights=[1, 0.5, 0.2, 1],\n",
    ")\n",
    "\n",
    "eval_model('blend', clf, X_train, y_train);"
   ],
   "id": "44bde995b33bff5f",
   "outputs": [
    {
     "name": "stdout",
     "output_type": "stream",
     "text": [
      "  blend: 0.9014    (0.908 ± 0.007)    158.0s\n"
     ]
    }
   ],
   "execution_count": 140
  },
  {
   "metadata": {
    "ExecuteTime": {
     "end_time": "2024-09-07T18:11:05.750010Z",
     "start_time": "2024-09-07T18:11:04.926961Z"
    }
   },
   "cell_type": "code",
   "source": [
    "X_train_uncor = non_corr_features(X_train, y_train, threshold=0.95)\n",
    "X_test_uncor = X_test[X_train.columns]\n",
    "X_train_uncor.shape"
   ],
   "id": "462a00aafaae2704",
   "outputs": [
    {
     "data": {
      "text/plain": [
       "(7939, 3140)"
      ]
     },
     "execution_count": 61,
     "metadata": {},
     "output_type": "execute_result"
    }
   ],
   "execution_count": 61
  },
  {
   "metadata": {
    "ExecuteTime": {
     "end_time": "2024-09-07T13:30:14.071744Z",
     "start_time": "2024-09-07T13:25:24.300043Z"
    }
   },
   "cell_type": "code",
   "source": [
    "print('============= Maplight GNN + Mordred uncorrelated ============')\n",
    "\n",
    "for name, model in models.items():\n",
    "    eval_model(name, model, X_train_uncor, y_train)"
   ],
   "id": "2f49ae46c71b3154",
   "outputs": [
    {
     "name": "stdout",
     "output_type": "stream",
     "text": [
      "============= Maplight GNN + Mordred uncorrelated ============\n",
      "     RF: 0.8730    (0.877 ± 0.004)    6.9s\n",
      " HistGB: 0.8952    (0.902 ± 0.007)    67.1s\n",
      "    XGB: 0.8946    (0.898 ± 0.004)    45.4s\n",
      "XGB_GPU: 0.8935    (0.902 ± 0.008)    18.7s\n",
      "     CB: 0.8781    (0.885 ± 0.007)    67.5s\n",
      " CB_GPU: 0.8778    (0.887 ± 0.009)    56.8s\n",
      "    LGB: 0.8979    (0.905 ± 0.007)    27.5s\n"
     ]
    }
   ],
   "execution_count": 57
  },
  {
   "metadata": {
    "ExecuteTime": {
     "end_time": "2024-09-07T14:43:06.498955Z",
     "start_time": "2024-09-07T14:41:02.554152Z"
    }
   },
   "cell_type": "code",
   "source": [
    "clf = BlendingClassifier(\n",
    "    get_models_list(\n",
    "        ['HistGB', 'XGB', 'XGB_GPU', 'LGB'],\n",
    "    ),\n",
    "    weights=None\n",
    ")\n",
    "\n",
    "eval_model('blend', clf, X_train_uncor, y_train)"
   ],
   "id": "59341ec85027208",
   "outputs": [
    {
     "name": "stdout",
     "output_type": "stream",
     "text": [
      "  blend: 0.9014    (0.909 ± 0.007)    123.9s\n"
     ]
    },
    {
     "data": {
      "text/plain": [
       "array([0.90263829, 0.90781323, 0.90090324, 0.92194256, 0.91115503])"
      ]
     },
     "execution_count": 139,
     "metadata": {},
     "output_type": "execute_result"
    }
   ],
   "execution_count": 139
  },
  {
   "metadata": {
    "ExecuteTime": {
     "end_time": "2024-09-07T14:47:44.029908Z",
     "start_time": "2024-09-07T14:45:44.554203Z"
    }
   },
   "cell_type": "code",
   "source": [
    "clf = BlendingClassifier(\n",
    "    get_models_list(\n",
    "        ['HistGB', 'XGB', 'XGB_GPU', 'LGB'],\n",
    "    ),\n",
    "    weights=[1, 0.5, 0.2, 1],\n",
    ")\n",
    "\n",
    "eval_model('blend', clf, X_train_uncor, y_train)"
   ],
   "id": "3337500701364a71",
   "outputs": [
    {
     "name": "stdout",
     "output_type": "stream",
     "text": [
      "  blend: 0.9015    (0.908 ± 0.007)    119.4s\n"
     ]
    },
    {
     "data": {
      "text/plain": [
       "array([0.90147517, 0.90769868, 0.90195553, 0.92058225, 0.91056388])"
      ]
     },
     "execution_count": 141,
     "metadata": {},
     "output_type": "execute_result"
    }
   ],
   "execution_count": 141
  },
  {
   "metadata": {},
   "cell_type": "markdown",
   "source": "# Selected Features",
   "id": "ecea9b0a412b81d4"
  },
  {
   "metadata": {
    "ExecuteTime": {
     "end_time": "2024-09-07T13:30:14.106318Z",
     "start_time": "2024-09-07T13:30:14.075412Z"
    }
   },
   "cell_type": "code",
   "source": [
    "top_10_trial_feats = [\n",
    "    'gin_101',\n",
    " 'gin_116',\n",
    " 'gin_124',\n",
    " 'gin_125',\n",
    " 'gin_127',\n",
    " 'gin_128',\n",
    " 'gin_130',\n",
    " 'gin_132',\n",
    " 'gin_134',\n",
    " 'gin_135',\n",
    " 'gin_142',\n",
    " 'gin_147',\n",
    " 'gin_149',\n",
    " 'gin_152',\n",
    " 'gin_156',\n",
    " 'gin_159',\n",
    " 'gin_162',\n",
    " 'gin_164',\n",
    " 'gin_167',\n",
    " 'gin_172',\n",
    " 'gin_177',\n",
    " 'gin_179',\n",
    " 'gin_183',\n",
    " 'gin_189',\n",
    " 'gin_201',\n",
    " 'gin_206',\n",
    " 'gin_208',\n",
    " 'gin_217',\n",
    " 'gin_222',\n",
    " 'gin_223',\n",
    " 'gin_226',\n",
    " 'gin_227',\n",
    " 'gin_23',\n",
    " 'gin_231',\n",
    " 'gin_232',\n",
    " 'gin_237',\n",
    " 'gin_243',\n",
    " 'gin_256',\n",
    " 'gin_262',\n",
    " 'gin_263',\n",
    " 'gin_264',\n",
    " 'gin_266',\n",
    " 'gin_268',\n",
    " 'gin_276',\n",
    " 'gin_278',\n",
    " 'gin_28',\n",
    " 'gin_282',\n",
    " 'gin_285',\n",
    " 'gin_288',\n",
    " 'gin_290',\n",
    " 'gin_293',\n",
    " 'gin_297',\n",
    " 'gin_35',\n",
    " 'gin_36',\n",
    " 'gin_46',\n",
    " 'gin_50',\n",
    " 'gin_51',\n",
    " 'gin_52',\n",
    " 'gin_53',\n",
    " 'gin_60',\n",
    " 'gin_67',\n",
    " 'gin_72',\n",
    " 'gin_90',\n",
    " 'gin_93',\n",
    " 'gin_94',\n",
    " 'gin_95',\n",
    " 'gin_96',\n",
    " 'gin_99',\n",
    " 'md_AATS0p',\n",
    " 'md_AATS1s',\n",
    " 'md_AATS2d',\n",
    " 'md_AATS3i',\n",
    " 'md_AATS3m',\n",
    " 'md_AATS3s',\n",
    " 'md_AATS4i',\n",
    " 'md_AATS5Z',\n",
    " 'md_AATS5are',\n",
    " 'md_AATS5dv',\n",
    " 'md_AATS8are',\n",
    " 'md_AATS8d',\n",
    " 'md_AATS8i',\n",
    " 'md_AATS8v',\n",
    " 'md_AATSC0dv',\n",
    " 'md_AATSC0s',\n",
    " 'md_AATSC1are',\n",
    " 'md_AATSC1dv',\n",
    " 'md_AATSC3i',\n",
    " 'md_AATSC3pe',\n",
    " 'md_AATSC3s',\n",
    " 'md_AATSC4m',\n",
    " 'md_AATSC4s',\n",
    " 'md_AATSC5are',\n",
    " 'md_AATSC5c',\n",
    " 'md_AATSC5d',\n",
    " 'md_AATSC5i',\n",
    " 'md_AATSC5m',\n",
    " 'md_AATSC6d',\n",
    " 'md_AATSC8i',\n",
    " 'md_AATSC8m',\n",
    " 'md_AETA_beta',\n",
    " 'md_AETA_beta_ns_d',\n",
    " 'md_AETA_eta',\n",
    " 'md_AETA_eta_F',\n",
    " 'md_AMID_O',\n",
    " 'md_ATS0Z',\n",
    " 'md_ATS5s',\n",
    " 'md_ATSC0are',\n",
    " 'md_ATSC0dv',\n",
    " 'md_ATSC0m',\n",
    " 'md_ATSC1i',\n",
    " 'md_ATSC3Z',\n",
    " 'md_ATSC3c',\n",
    " 'md_ATSC3d',\n",
    " 'md_ATSC3dv',\n",
    " 'md_ATSC3i',\n",
    " 'md_ATSC3p',\n",
    " 'md_ATSC4d',\n",
    " 'md_ATSC5m',\n",
    " 'md_ATSC6are',\n",
    " 'md_ATSC6c',\n",
    " 'md_ATSC6m',\n",
    " 'md_ATSC6p',\n",
    " 'md_ATSC6s',\n",
    " 'md_ATSC7c',\n",
    " 'md_ATSC7d',\n",
    " 'md_ATSC7i',\n",
    " 'md_ATSC8c',\n",
    " 'md_ATSC8v',\n",
    " 'md_BCUTc-1h',\n",
    " 'md_BCUTd-1h',\n",
    " 'md_ETA_beta_ns_d',\n",
    " 'md_ETA_dEpsilon_D',\n",
    " 'md_ETA_dPsi_A',\n",
    " 'md_ETA_epsilon_4',\n",
    " 'md_ETA_epsilon_5',\n",
    " 'md_ETA_eta_L',\n",
    " 'md_ETA_shape_x',\n",
    " 'md_GATS1m',\n",
    " 'md_GATS2c',\n",
    " 'md_GATS2i',\n",
    " 'md_GATS2m',\n",
    " 'md_GATS3v',\n",
    " 'md_GATS4are',\n",
    " 'md_GATS4dv',\n",
    " 'md_GATS4i',\n",
    " 'md_GATS4m',\n",
    " 'md_GATS5p',\n",
    " 'md_GATS5s',\n",
    " 'md_GATS6p',\n",
    " 'md_GATS8c',\n",
    " 'md_GGI3',\n",
    " 'md_IC0',\n",
    " 'md_IC1',\n",
    " 'md_IC2',\n",
    " 'md_JGI1',\n",
    " 'md_JGI5',\n",
    " 'md_JGI6',\n",
    " 'md_JGI7',\n",
    " 'md_MATS1c',\n",
    " 'md_MATS1s',\n",
    " 'md_MATS1v',\n",
    " 'md_MATS2s',\n",
    " 'md_MATS4are',\n",
    " 'md_MATS4i',\n",
    " 'md_MATS5c',\n",
    " 'md_MATS5p',\n",
    " 'md_MATS5s',\n",
    " 'md_MATS6s',\n",
    " 'md_MATS8c',\n",
    " 'md_MATS8s',\n",
    " 'md_MW',\n",
    " 'md_Mi',\n",
    " 'md_NaaNH',\n",
    " 'md_NaasC',\n",
    " 'md_NdssC',\n",
    " 'md_NsCH3',\n",
    " 'md_NssCH2',\n",
    " 'md_PEOE_VSA7',\n",
    " 'md_Radius',\n",
    " 'md_SaaaC',\n",
    " 'md_SlogP_VSA3',\n",
    " 'md_SlogP_VSA5',\n",
    " 'md_SlogP_VSA8',\n",
    " 'md_SpDiam_A',\n",
    " 'md_SpMAD_A',\n",
    " 'md_SpMAD_Dzp',\n",
    " 'md_SsF',\n",
    " 'md_SssssC',\n",
    " 'md_TSRW10',\n",
    " 'md_VE1_A',\n",
    " 'md_VE2_A',\n",
    " 'md_VR2_A',\n",
    " 'md_VSA_EState5',\n",
    " 'md_WPath',\n",
    " 'md_Xc-5d',\n",
    " 'md_Xp-2dv',\n",
    " 'md_ZMIC2',\n",
    " 'md_fMF',\n",
    " 'md_mZagreb2',\n",
    " 'md_n10FHRing',\n",
    " 'md_n10FRing',\n",
    " 'md_n10FaRing',\n",
    " 'md_n6Ring',\n",
    " 'md_n7AHRing',\n",
    " 'md_n7aRing',\n",
    " 'md_n8ARing',\n",
    " 'md_n8FHRing',\n",
    " 'md_n9ARing',\n",
    " 'md_nAHRing',\n",
    " 'md_nFRing',\n",
    " 'md_nFaRing',\n",
    " 'md_nG12FaHRing',\n",
    " 'md_nHBDon',\n",
    " 'rd_FpDensityMorgan2',\n",
    " 'rd_Kappa3',\n",
    " 'rd_MaxPartialCharge',\n",
    " 'rd_NOCount',\n",
    " 'rd_NumSaturatedHeterocycles',\n",
    " 'rd_PEOE_VSA1',\n",
    " 'rd_PEOE_VSA10',\n",
    " 'rd_SMR_VSA4',\n",
    " 'rd_SMR_VSA6',\n",
    " 'rd_VSA_EState10',\n",
    " 'rd_VSA_EState2',\n",
    " 'rd_VSA_EState8',\n",
    " 'rd_fr_Ar_COO',\n",
    " 'rd_fr_Ar_N',\n",
    " 'rd_fr_C_S',\n",
    " 'rd_fr_HOCCN',\n",
    " 'rd_fr_Imine',\n",
    " 'rd_fr_NH1',\n",
    " 'rd_fr_furan',\n",
    " 'rd_fr_hdrzine',\n",
    " 'rd_fr_imidazole',\n",
    " 'rd_fr_ketone',\n",
    " 'rd_fr_ketone_Topliss',\n",
    " 'rd_fr_methoxy',\n",
    " 'rd_fr_piperdine',\n",
    " 'rd_fr_pyridine',\n",
    " 'rd_fr_sulfone',\n",
    " 'rd_fr_unbrch_alkane',\n",
    " 'rd_qed'\n",
    "]"
   ],
   "id": "638d9b9e89dfb0b1",
   "outputs": [],
   "execution_count": 58
  },
  {
   "metadata": {
    "ExecuteTime": {
     "end_time": "2024-09-07T13:30:14.950387Z",
     "start_time": "2024-09-07T13:30:14.108049Z"
    }
   },
   "cell_type": "code",
   "source": [
    "params = {\n",
    "    'morgan_fps':True,\n",
    "    'avalon_fps':True,\n",
    "    'erg_fps':True,\n",
    "    'rdkit_feats':True,\n",
    "    'mord_feats': True,\n",
    "    'gin_gnn':True,\n",
    "}\n",
    "\n",
    "X_train, y_train, X_test = prepare_data(**params)\n",
    "fps_offset = 1024 + 1024 + 315\n",
    "fps_cols = X_train.columns[:fps_offset].tolist()"
   ],
   "id": "1488ce7b4a7d1a2d",
   "outputs": [],
   "execution_count": 59
  },
  {
   "metadata": {
    "ExecuteTime": {
     "end_time": "2024-09-07T13:33:12.774575Z",
     "start_time": "2024-09-07T13:30:14.951666Z"
    }
   },
   "cell_type": "code",
   "source": [
    "X_train = X_train[fps_cols + top_10_trial_feats]\n",
    "X_test = X_test[fps_cols + top_10_trial_feats]\n",
    "\n",
    "print('============= Top feats from 10 trials ============')\n",
    "\n",
    "for name, model in models.items():\n",
    "    eval_model(name, model, X_train, y_train)"
   ],
   "id": "573ce8b0ee277c0e",
   "outputs": [
    {
     "name": "stdout",
     "output_type": "stream",
     "text": [
      "============= Top feats from 10 trials ============\n",
      "     RF: 0.8554    (0.863 ± 0.007)    3.9s\n",
      " HistGB: 0.8560    (0.864 ± 0.008)    36.2s\n",
      "    XGB: 0.8473    (0.856 ± 0.008)    24.4s\n",
      "XGB_GPU: 0.8492    (0.858 ± 0.008)    10.5s\n",
      "     CB: 0.8427    (0.851 ± 0.008)    37.5s\n",
      " CB_GPU: 0.8363    (0.846 ± 0.009)    39.1s\n",
      "    LGB: 0.8572    (0.865 ± 0.008)    26.1s\n"
     ]
    }
   ],
   "execution_count": 60
  },
  {
   "metadata": {
    "ExecuteTime": {
     "end_time": "2024-09-07T13:33:12.806697Z",
     "start_time": "2024-09-07T13:33:12.777911Z"
    }
   },
   "cell_type": "code",
   "source": [
    "top_feats = ['rd_FpDensityMorgan2', 'rd_Kappa3', 'rd_MaxPartialCharge',\n",
    "       'rd_NOCount', 'rd_NumSaturatedHeterocycles', 'rd_PEOE_VSA1',\n",
    "       'rd_PEOE_VSA10', 'rd_SMR_VSA4', 'rd_SMR_VSA6', 'rd_VSA_EState10',\n",
    "       'rd_VSA_EState2', 'rd_VSA_EState8', 'rd_fr_Ar_COO', 'rd_fr_Ar_N',\n",
    "       'rd_fr_C_S', 'rd_fr_HOCCN', 'rd_fr_hdrzine', 'rd_fr_imidazole',\n",
    "       'rd_fr_ketone', 'rd_fr_ketone_Topliss', 'rd_fr_methoxy',\n",
    "       'rd_fr_piperdine', 'rd_fr_pyridine', 'rd_fr_sulfone',\n",
    "       'rd_fr_unbrch_alkane', 'md_SpDiam_A', 'md_SpMAD_A', 'md_VE1_A',\n",
    "       'md_VE2_A', 'md_ATS5s', 'md_ATS0Z', 'md_AATS5dv', 'md_AATS2d',\n",
    "       'md_AATS8d', 'md_AATS1s', 'md_AATS3s', 'md_AATS5Z', 'md_AATS8v',\n",
    "       'md_AATS5are', 'md_AATS8are', 'md_AATS0p', 'md_AATS3i',\n",
    "       'md_AATS4i', 'md_ATSC3c', 'md_ATSC6c', 'md_ATSC8c', 'md_ATSC0dv',\n",
    "       'md_ATSC3dv', 'md_ATSC3d', 'md_ATSC4d', 'md_ATSC7d', 'md_ATSC6s',\n",
    "       'md_ATSC3Z', 'md_ATSC0m', 'md_ATSC5m', 'md_ATSC6m', 'md_ATSC8v',\n",
    "       'md_ATSC0are', 'md_ATSC6are', 'md_ATSC6p', 'md_ATSC1i',\n",
    "       'md_ATSC3i', 'md_AATSC5c', 'md_AATSC0dv', 'md_AATSC1dv',\n",
    "       'md_AATSC6d', 'md_AATSC0s', 'md_AATSC3s', 'md_AATSC4m',\n",
    "       'md_AATSC8m', 'md_AATSC3i', 'md_AATSC5i', 'md_AATSC8i',\n",
    "       'md_MATS1c', 'md_MATS5c', 'md_MATS8c', 'md_MATS1s', 'md_MATS5s',\n",
    "       'md_MATS6s', 'md_MATS8s', 'md_MATS1v', 'md_MATS4are', 'md_MATS5p',\n",
    "       'md_MATS4i', 'md_GATS2c', 'md_GATS8c', 'md_GATS5s', 'md_GATS1m',\n",
    "       'md_GATS2m', 'md_GATS4are', 'md_GATS5p', 'md_GATS6p', 'md_GATS2i',\n",
    "       'md_GATS4i', 'md_BCUTc-1h', 'md_BCUTd-1h', 'md_SpMAD_Dzp',\n",
    "       'md_Xc-5d', 'md_Xp-2dv', 'md_Mi', 'md_NsCH3', 'md_NssCH2',\n",
    "       'md_NdssC', 'md_NaasC', 'md_NaaNH', 'md_SaaaC', 'md_ETA_shape_x',\n",
    "       'md_AETA_beta', 'md_ETA_beta_ns_d', 'md_AETA_beta_ns_d',\n",
    "       'md_AETA_eta', 'md_ETA_eta_L', 'md_AETA_eta_F', 'md_ETA_epsilon_4',\n",
    "       'md_ETA_epsilon_5', 'md_ETA_dEpsilon_D', 'md_ETA_dPsi_A', 'md_fMF',\n",
    "       'md_IC1', 'md_IC2', 'md_ZMIC2', 'md_PEOE_VSA7', 'md_SlogP_VSA3',\n",
    "       'md_SlogP_VSA8', 'md_VSA_EState5', 'md_AMID_O', 'md_n6Ring',\n",
    "       'md_n7aRing', 'md_n8ARing', 'md_n9ARing', 'md_nAHRing',\n",
    "       'md_n7AHRing', 'md_nFRing', 'md_n10FRing', 'md_n8FHRing',\n",
    "       'md_n10FHRing', 'md_nFaRing', 'md_nG12FaHRing', 'md_GGI3',\n",
    "       'md_JGI1', 'md_JGI5', 'md_JGI7', 'md_Radius', 'md_TSRW10', 'md_MW',\n",
    "       'md_WPath', 'gin_23', 'gin_28', 'gin_35', 'gin_36', 'gin_46',\n",
    "       'gin_50', 'gin_53', 'gin_60', 'gin_67', 'gin_72', 'gin_90',\n",
    "       'gin_94', 'gin_95', 'gin_96', 'gin_99', 'gin_101', 'gin_116',\n",
    "       'gin_124', 'gin_125', 'gin_127', 'gin_128', 'gin_130', 'gin_132',\n",
    "       'gin_134', 'gin_135', 'gin_142', 'gin_149', 'gin_152', 'gin_159',\n",
    "       'gin_162', 'gin_164', 'gin_172', 'gin_183', 'gin_189', 'gin_201',\n",
    "       'gin_206', 'gin_222', 'gin_223', 'gin_232', 'gin_237', 'gin_256',\n",
    "       'gin_263', 'gin_264', 'gin_268', 'gin_276', 'gin_282', 'gin_288',\n",
    "       'gin_290', 'gin_293', 'gin_297']"
   ],
   "id": "7b3a0feae427c1ba",
   "outputs": [],
   "execution_count": 61
  },
  {
   "metadata": {
    "ExecuteTime": {
     "end_time": "2024-09-07T13:36:00.335287Z",
     "start_time": "2024-09-07T13:33:12.808420Z"
    }
   },
   "cell_type": "code",
   "source": [
    "X_train, y_train, X_test = prepare_data(**params)\n",
    "\n",
    "X_train = X_train[fps_cols + top_feats]\n",
    "X_test = X_test[fps_cols + top_feats]\n",
    "\n",
    "print('============= Top 1 feats  ============')\n",
    "\n",
    "for name, model in models.items():\n",
    "    eval_model(name, model, X_train, y_train)"
   ],
   "id": "8ed43971abca222f",
   "outputs": [
    {
     "name": "stdout",
     "output_type": "stream",
     "text": [
      "============= Top 1 feats  ============\n",
      "     RF: 0.8587    (0.864 ± 0.006)    4.0s\n",
      " HistGB: 0.8565    (0.865 ± 0.008)    35.6s\n",
      "    XGB: 0.8502    (0.859 ± 0.008)    19.6s\n",
      "XGB_GPU: 0.8505    (0.860 ± 0.009)    9.7s\n",
      "     CB: 0.8426    (0.852 ± 0.009)    35.6s\n",
      " CB_GPU: 0.8357    (0.844 ± 0.009)    38.3s\n",
      "    LGB: 0.8566    (0.864 ± 0.007)    23.8s\n"
     ]
    }
   ],
   "execution_count": 62
  },
  {
   "metadata": {},
   "cell_type": "markdown",
   "source": "## Blending",
   "id": "b5edb729dc6e9efe"
  },
  {
   "metadata": {},
   "cell_type": "code",
   "outputs": [],
   "execution_count": null,
   "source": "",
   "id": "8c5474ed95c9147c"
  },
  {
   "metadata": {},
   "cell_type": "code",
   "outputs": [],
   "execution_count": null,
   "source": "",
   "id": "d95d276445ca85ec"
  },
  {
   "metadata": {
    "ExecuteTime": {
     "end_time": "2024-09-07T14:23:46.288720Z",
     "start_time": "2024-09-07T14:23:44.127780Z"
    }
   },
   "cell_type": "code",
   "source": [
    "\n",
    "\n",
    "\n",
    "models_list = [\n",
    "    ('RF', RandomForestClassifier()),\n",
    "    ('LGB', lgb.LGBMClassifier()),\n",
    "]\n",
    "\n",
    "blend_clf = BlendingClassifier(models_list)\n",
    "    \n",
    "check_estimator(blend_clf)    "
   ],
   "id": "61856133ce8c6c64",
   "outputs": [
    {
     "ename": "AssertionError",
     "evalue": "Estimator BlendingClassifier doesn't check for NaN and inf in fit.",
     "output_type": "error",
     "traceback": [
      "\u001B[0;31m---------------------------------------------------------------------------\u001B[0m",
      "\u001B[0;31mAssertionError\u001B[0m                            Traceback (most recent call last)",
      "Cell \u001B[0;32mIn[120], line 41\u001B[0m\n\u001B[1;32m     34\u001B[0m models_list \u001B[38;5;241m=\u001B[39m [\n\u001B[1;32m     35\u001B[0m     (\u001B[38;5;124m'\u001B[39m\u001B[38;5;124mRF\u001B[39m\u001B[38;5;124m'\u001B[39m, RandomForestClassifier()),\n\u001B[1;32m     36\u001B[0m     (\u001B[38;5;124m'\u001B[39m\u001B[38;5;124mLGB\u001B[39m\u001B[38;5;124m'\u001B[39m, lgb\u001B[38;5;241m.\u001B[39mLGBMClassifier()),\n\u001B[1;32m     37\u001B[0m ]\n\u001B[1;32m     39\u001B[0m blend_clf \u001B[38;5;241m=\u001B[39m BlendingClassifier(models_list)\n\u001B[0;32m---> 41\u001B[0m \u001B[43mcheck_estimator\u001B[49m\u001B[43m(\u001B[49m\u001B[43mblend_clf\u001B[49m\u001B[43m)\u001B[49m    \n",
      "File \u001B[0;32m~/miniforge3/envs/chem/lib/python3.10/site-packages/sklearn/utils/estimator_checks.py:650\u001B[0m, in \u001B[0;36mcheck_estimator\u001B[0;34m(estimator, generate_only)\u001B[0m\n\u001B[1;32m    648\u001B[0m \u001B[38;5;28;01mfor\u001B[39;00m estimator, check \u001B[38;5;129;01min\u001B[39;00m checks_generator():\n\u001B[1;32m    649\u001B[0m     \u001B[38;5;28;01mtry\u001B[39;00m:\n\u001B[0;32m--> 650\u001B[0m         \u001B[43mcheck\u001B[49m\u001B[43m(\u001B[49m\u001B[43mestimator\u001B[49m\u001B[43m)\u001B[49m\n\u001B[1;32m    651\u001B[0m     \u001B[38;5;28;01mexcept\u001B[39;00m SkipTest \u001B[38;5;28;01mas\u001B[39;00m exception:\n\u001B[1;32m    652\u001B[0m         \u001B[38;5;66;03m# SkipTest is thrown when pandas can't be imported, or by checks\u001B[39;00m\n\u001B[1;32m    653\u001B[0m         \u001B[38;5;66;03m# that are in the xfail_checks tag\u001B[39;00m\n\u001B[1;32m    654\u001B[0m         warnings\u001B[38;5;241m.\u001B[39mwarn(\u001B[38;5;28mstr\u001B[39m(exception), SkipTestWarning)\n",
      "File \u001B[0;32m~/miniforge3/envs/chem/lib/python3.10/site-packages/sklearn/utils/_testing.py:160\u001B[0m, in \u001B[0;36m_IgnoreWarnings.__call__.<locals>.wrapper\u001B[0;34m(*args, **kwargs)\u001B[0m\n\u001B[1;32m    158\u001B[0m \u001B[38;5;28;01mwith\u001B[39;00m warnings\u001B[38;5;241m.\u001B[39mcatch_warnings():\n\u001B[1;32m    159\u001B[0m     warnings\u001B[38;5;241m.\u001B[39msimplefilter(\u001B[38;5;124m\"\u001B[39m\u001B[38;5;124mignore\u001B[39m\u001B[38;5;124m\"\u001B[39m, \u001B[38;5;28mself\u001B[39m\u001B[38;5;241m.\u001B[39mcategory)\n\u001B[0;32m--> 160\u001B[0m     \u001B[38;5;28;01mreturn\u001B[39;00m \u001B[43mfn\u001B[49m\u001B[43m(\u001B[49m\u001B[38;5;241;43m*\u001B[39;49m\u001B[43margs\u001B[49m\u001B[43m,\u001B[49m\u001B[43m \u001B[49m\u001B[38;5;241;43m*\u001B[39;49m\u001B[38;5;241;43m*\u001B[39;49m\u001B[43mkwargs\u001B[49m\u001B[43m)\u001B[49m\n",
      "File \u001B[0;32m~/miniforge3/envs/chem/lib/python3.10/site-packages/sklearn/utils/estimator_checks.py:2018\u001B[0m, in \u001B[0;36mcheck_estimators_nan_inf\u001B[0;34m(name, estimator_orig)\u001B[0m\n\u001B[1;32m   2016\u001B[0m set_random_state(estimator, \u001B[38;5;241m1\u001B[39m)\n\u001B[1;32m   2017\u001B[0m \u001B[38;5;66;03m# try to fit\u001B[39;00m\n\u001B[0;32m-> 2018\u001B[0m \u001B[38;5;28;01mwith\u001B[39;00m raises(\u001B[38;5;167;01mValueError\u001B[39;00m, match\u001B[38;5;241m=\u001B[39m[\u001B[38;5;124m\"\u001B[39m\u001B[38;5;124minf\u001B[39m\u001B[38;5;124m\"\u001B[39m, \u001B[38;5;124m\"\u001B[39m\u001B[38;5;124mNaN\u001B[39m\u001B[38;5;124m\"\u001B[39m], err_msg\u001B[38;5;241m=\u001B[39merror_string_fit):\n\u001B[1;32m   2019\u001B[0m     estimator\u001B[38;5;241m.\u001B[39mfit(X_train, y)\n\u001B[1;32m   2020\u001B[0m \u001B[38;5;66;03m# actually fit\u001B[39;00m\n",
      "File \u001B[0;32m~/miniforge3/envs/chem/lib/python3.10/site-packages/sklearn/utils/_testing.py:908\u001B[0m, in \u001B[0;36m_Raises.__exit__\u001B[0;34m(self, exc_type, exc_value, _)\u001B[0m\n\u001B[1;32m    906\u001B[0m     \u001B[38;5;28;01melse\u001B[39;00m:\n\u001B[1;32m    907\u001B[0m         err_msg \u001B[38;5;241m=\u001B[39m \u001B[38;5;28mself\u001B[39m\u001B[38;5;241m.\u001B[39merr_msg \u001B[38;5;129;01mor\u001B[39;00m \u001B[38;5;124mf\u001B[39m\u001B[38;5;124m\"\u001B[39m\u001B[38;5;124mDid not raise: \u001B[39m\u001B[38;5;132;01m{\u001B[39;00m\u001B[38;5;28mself\u001B[39m\u001B[38;5;241m.\u001B[39mexpected_exc_types\u001B[38;5;132;01m}\u001B[39;00m\u001B[38;5;124m\"\u001B[39m\n\u001B[0;32m--> 908\u001B[0m         \u001B[38;5;28;01mraise\u001B[39;00m \u001B[38;5;167;01mAssertionError\u001B[39;00m(err_msg)\n\u001B[1;32m    910\u001B[0m \u001B[38;5;28;01mif\u001B[39;00m \u001B[38;5;129;01mnot\u001B[39;00m \u001B[38;5;28many\u001B[39m(\n\u001B[1;32m    911\u001B[0m     \u001B[38;5;28missubclass\u001B[39m(exc_type, expected_type)\n\u001B[1;32m    912\u001B[0m     \u001B[38;5;28;01mfor\u001B[39;00m expected_type \u001B[38;5;129;01min\u001B[39;00m \u001B[38;5;28mself\u001B[39m\u001B[38;5;241m.\u001B[39mexpected_exc_types\n\u001B[1;32m    913\u001B[0m ):\n\u001B[1;32m    914\u001B[0m     \u001B[38;5;28;01mif\u001B[39;00m \u001B[38;5;28mself\u001B[39m\u001B[38;5;241m.\u001B[39merr_msg \u001B[38;5;129;01mis\u001B[39;00m \u001B[38;5;129;01mnot\u001B[39;00m \u001B[38;5;28;01mNone\u001B[39;00m:\n",
      "\u001B[0;31mAssertionError\u001B[0m: Estimator BlendingClassifier doesn't check for NaN and inf in fit."
     ]
    }
   ],
   "execution_count": 120
  },
  {
   "metadata": {
    "ExecuteTime": {
     "end_time": "2024-09-07T14:18:55.578889Z",
     "start_time": "2024-09-07T14:18:20.585231Z"
    }
   },
   "cell_type": "code",
   "source": [
    "params = {\n",
    "    'morgan_fps':False,\n",
    "    'avalon_fps':False,\n",
    "    'erg_fps':False,\n",
    "    'rdkit_feats':True,\n",
    "    'mord_feats': False,\n",
    "    'gin_gnn':False,\n",
    "}\n",
    "\n",
    "X_train, y_train, X_test = prepare_data(**params)\n",
    "\n",
    "for name, model in models.items():\n",
    "    eval_model(name, model, X_train, y_train)"
   ],
   "id": "58079d129d6864b2",
   "outputs": [
    {
     "name": "stdout",
     "output_type": "stream",
     "text": [
      "     RF: 0.8908    (0.895 ± 0.004)    2.7s\n",
      " HistGB: 0.8913    (0.897 ± 0.005)    3.5s\n",
      "    XGB: 0.8901    (0.896 ± 0.006)    9.5s\n",
      "XGB_GPU: 0.8859    (0.893 ± 0.007)    3.2s\n",
      "     CB: 0.8793    (0.885 ± 0.006)    4.1s\n",
      " CB_GPU: 0.8809    (0.883 ± 0.002)    8.8s\n",
      "    LGB: 0.8902    (0.896 ± 0.006)    3.0s\n"
     ]
    }
   ],
   "execution_count": 115
  },
  {
   "metadata": {
    "ExecuteTime": {
     "end_time": "2024-09-07T14:28:12.847372Z",
     "start_time": "2024-09-07T14:28:12.797974Z"
    }
   },
   "cell_type": "code",
   "source": "",
   "id": "818eff58ff0ff9a4",
   "outputs": [],
   "execution_count": 128
  },
  {
   "metadata": {
    "ExecuteTime": {
     "end_time": "2024-09-07T14:24:49.629917Z",
     "start_time": "2024-09-07T14:23:57.544218Z"
    }
   },
   "cell_type": "code",
   "source": [
    "blend_clf = BlendingClassifier([(k,v) for k,v in models.items()])\n",
    "\n",
    "eval_model('Blend', blend_clf, X_train, y_train);"
   ],
   "id": "e42034419d9298bb",
   "outputs": [
    {
     "name": "stdout",
     "output_type": "stream",
     "text": [
      "  Blend: 0.8986    (0.903 ± 0.005)    52.0s\n"
     ]
    }
   ],
   "execution_count": 121
  },
  {
   "metadata": {
    "ExecuteTime": {
     "end_time": "2024-09-07T14:28:40.264158Z",
     "start_time": "2024-09-07T14:28:17.903603Z"
    }
   },
   "cell_type": "code",
   "source": [
    "blend_clf = BlendingClassifier(get_models_list(['RF', 'HistGB', 'XGB', 'LGB']))\n",
    "eval_model('Blend', blend_clf, X_train, y_train);"
   ],
   "id": "2bf5f29c0ff12f68",
   "outputs": [
    {
     "name": "stdout",
     "output_type": "stream",
     "text": [
      "  Blend: 0.8986    (0.904 ± 0.005)    22.3s\n"
     ]
    }
   ],
   "execution_count": 130
  },
  {
   "metadata": {
    "ExecuteTime": {
     "end_time": "2024-09-07T14:29:29.227364Z",
     "start_time": "2024-09-07T14:29:10.995879Z"
    }
   },
   "cell_type": "code",
   "source": [
    "blend_clf = BlendingClassifier(get_models_list(['RF', 'HistGB', 'XGB', 'LGB']), weights=[0.5, 1, 0.2, 0.2])\n",
    "eval_model('Blend', blend_clf, X_train, y_train);"
   ],
   "id": "bb479f745c436dc9",
   "outputs": [
    {
     "name": "stdout",
     "output_type": "stream",
     "text": [
      "  Blend: 0.8978    (0.903 ± 0.005)    18.2s\n"
     ]
    }
   ],
   "execution_count": 131
  },
  {
   "metadata": {},
   "cell_type": "code",
   "outputs": [
    {
     "name": "stdout",
     "output_type": "stream",
     "text": [
      "  Blend: 0.8978    (0.903 ± 0.005)    26.8s\n"
     ]
    }
   ],
   "execution_count": 134,
   "source": [
    "blend_clf = BlendingClassifier(get_models_list(['RF', 'HistGB', 'XGB', 'LGB']), weights=[0.5, 1, 0.2, 0.2])\n",
    "eval_model('Blend', blend_clf, X_train, y_train);"
   ],
   "id": "cbf159e8b9fa668f"
  }
 ],
 "metadata": {
  "kernelspec": {
   "display_name": "chem",
   "language": "python",
   "name": "chem"
  },
  "language_info": {
   "codemirror_mode": {
    "name": "ipython",
    "version": 3
   },
   "file_extension": ".py",
   "mimetype": "text/x-python",
   "name": "python",
   "nbconvert_exporter": "python",
   "pygments_lexer": "ipython3",
   "version": "3.10.0"
  }
 },
 "nbformat": 4,
 "nbformat_minor": 5
}
