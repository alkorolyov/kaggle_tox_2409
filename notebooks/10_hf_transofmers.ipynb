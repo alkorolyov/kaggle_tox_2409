{
 "cells": [
  {
   "metadata": {
    "ExecuteTime": {
     "end_time": "2024-09-11T08:56:01.323881Z",
     "start_time": "2024-09-11T08:55:44.328253Z"
    }
   },
   "cell_type": "code",
   "source": [
    "import numpy as np\n",
    "from rdkit import Chem\n",
    "import datamol as dm\n",
    "from molfeat.trans.pretrained.hf_transformers import PretrainedHFTransformer\n",
    "\n",
    "trans_cpu = PretrainedHFTransformer(\"ChemBERTa-77M-MLM\")\n",
    "trans_cpu1 = PretrainedHFTransformer(\"ChemBERTa-77M-MLM\")"
   ],
   "id": "b27e9bb96b1d0bf3",
   "outputs": [],
   "execution_count": 43
  },
  {
   "metadata": {
    "ExecuteTime": {
     "start_time": "2024-09-11T09:02:20.801133Z"
    }
   },
   "cell_type": "code",
   "source": [
    "from molfeat.trans.pretrained.hf_transformers import HFExperiment\n",
    "from molfeat.trans.pretrained.hf_transformers import HFModel\n",
    "from molfeat.store import ModelInfo\n",
    "from molfeat.store import ModelStore\n",
    "\n",
    "\n",
    "molt5_card = ModelInfo(\n",
    "    name = \"MolT5\",\n",
    "    inputs = \"smiles\",\n",
    "    type=\"pretrained\",\n",
    "    group=\"huggingface\",\n",
    "    version=0,\n",
    "    submitter=\"Desmond Gilmour\",\n",
    "    description=\"MolT5 is a self-supervised learning framework that pretrains transformer-based models on vast amounts of unlabeled natural language text and molecule strings allowing generation of high-quality outputs for molecule captioning and text-based molecule generation.\",\n",
    "    representation=\"line-notation\",\n",
    "    require_3D=False,\n",
    "    tags = [\"smiles\", 'huggingface', \"transformers\", \"text2text\", \"T5\", \"Zinc-15\", \"ChEBI-20\"],\n",
    "    authors= [\"Tuan Manh Lai\", \"Carl Edwards\", \"Kevin Ros\", \"Garret Honke\", \"Kyunghyun Cho\", \"Heng Ji\"],\n",
    "    reference = \"https://arxiv.org/pdf/2204.11817.pdf\" \n",
    ")\n",
    "\n",
    "# attempt to register the model\n",
    "model = HFModel.register_pretrained(\"laituan245/molt5-large-smiles2caption\", \"laituan245/molt5-large-smiles2caption\", molt5_card)"
   ],
   "id": "6e5f7aeb27cf1aca",
   "outputs": [
    {
     "name": "stderr",
     "output_type": "stream",
     "text": [
      "C:\\Users\\alexander.korolyov\\miniforge3\\envs\\chem\\lib\\site-packages\\huggingface_hub\\file_download.py:1150: FutureWarning: `resume_download` is deprecated and will be removed in version 1.0.0. Downloads always resume when possible. If you want to force a new download, use `force_download=True`.\n",
      "  warnings.warn(\n"
     ]
    },
    {
     "data": {
      "text/plain": [
       "config.json:   0%|          | 0.00/700 [00:00<?, ?B/s]"
      ],
      "application/vnd.jupyter.widget-view+json": {
       "version_major": 2,
       "version_minor": 0,
       "model_id": "4e1f561208884c4a99343b8e9a3cc06b"
      }
     },
     "metadata": {},
     "output_type": "display_data"
    },
    {
     "name": "stderr",
     "output_type": "stream",
     "text": [
      "C:\\Users\\alexander.korolyov\\miniforge3\\envs\\chem\\lib\\site-packages\\huggingface_hub\\file_download.py:159: UserWarning: `huggingface_hub` cache-system uses symlinks by default to efficiently store duplicated files but your machine does not support them in C:\\Users\\alexander.korolyov\\.cache\\huggingface\\hub\\models--laituan245--molt5-large-smiles2caption. Caching files will still work but in a degraded version that might require more space on your disk. This warning can be disabled by setting the `HF_HUB_DISABLE_SYMLINKS_WARNING` environment variable. For more details, see https://huggingface.co/docs/huggingface_hub/how-to-cache#limitations.\n",
      "To support symlinks on Windows, you either need to activate Developer Mode or to run Python as an administrator. In order to see activate developer mode, see this article: https://docs.microsoft.com/en-us/windows/apps/get-started/enable-your-device-for-development\n",
      "  warnings.warn(message)\n"
     ]
    },
    {
     "data": {
      "text/plain": [
       "pytorch_model.bin:   0%|          | 0.00/3.13G [00:00<?, ?B/s]"
      ],
      "application/vnd.jupyter.widget-view+json": {
       "version_major": 2,
       "version_minor": 0,
       "model_id": "4c9cc2736a6d40bda6a4b40c2d5cc26b"
      }
     },
     "metadata": {},
     "output_type": "display_data"
    },
    {
     "data": {
      "text/plain": [
       "tokenizer_config.json:   0%|          | 0.00/2.13k [00:00<?, ?B/s]"
      ],
      "application/vnd.jupyter.widget-view+json": {
       "version_major": 2,
       "version_minor": 0,
       "model_id": "87797dccb9d54b528270d0157f8da141"
      }
     },
     "metadata": {},
     "output_type": "display_data"
    },
    {
     "data": {
      "text/plain": [
       "spiece.model:   0%|          | 0.00/792k [00:00<?, ?B/s]"
      ],
      "application/vnd.jupyter.widget-view+json": {
       "version_major": 2,
       "version_minor": 0,
       "model_id": "0f8772bdbccb478d99bcd864890adb3b"
      }
     },
     "metadata": {},
     "output_type": "display_data"
    },
    {
     "data": {
      "text/plain": [
       "tokenizer.json:   0%|          | 0.00/2.42M [00:00<?, ?B/s]"
      ],
      "application/vnd.jupyter.widget-view+json": {
       "version_major": 2,
       "version_minor": 0,
       "model_id": "abb4f69705d34664925c7943c6b33334"
      }
     },
     "metadata": {},
     "output_type": "display_data"
    },
    {
     "data": {
      "text/plain": [
       "special_tokens_map.json:   0%|          | 0.00/1.79k [00:00<?, ?B/s]"
      ],
      "application/vnd.jupyter.widget-view+json": {
       "version_major": 2,
       "version_minor": 0,
       "model_id": "a5fd726985de49ddacce2c3da882906d"
      }
     },
     "metadata": {},
     "output_type": "display_data"
    },
    {
     "data": {
      "text/plain": [
       "  0%|          | 0/8 [00:00<?, ?it/s]"
      ],
      "application/vnd.jupyter.widget-view+json": {
       "version_major": 2,
       "version_minor": 0,
       "model_id": "09fef3913ab94bc8b352230b36a73272"
      }
     },
     "metadata": {},
     "output_type": "display_data"
    },
    {
     "name": "stderr",
     "output_type": "stream",
     "text": [
      "_request non-retriable exception: Anonymous caller does not have storage.buckets.get access to the Google Cloud Storage bucket. Permission 'storage.buckets.get' denied on resource (or it may not exist)., 401\n",
      "Traceback (most recent call last):\n",
      "  File \"C:\\Users\\alexander.korolyov\\miniforge3\\envs\\chem\\lib\\site-packages\\gcsfs\\retry.py\", line 130, in retry_request\n",
      "    return await func(*args, **kwargs)\n",
      "  File \"C:\\Users\\alexander.korolyov\\miniforge3\\envs\\chem\\lib\\site-packages\\gcsfs\\core.py\", line 440, in _request\n",
      "    validate_response(status, contents, path, args)\n",
      "  File \"C:\\Users\\alexander.korolyov\\miniforge3\\envs\\chem\\lib\\site-packages\\gcsfs\\retry.py\", line 117, in validate_response\n",
      "    raise HttpError(error)\n",
      "gcsfs.retry.HttpError: Anonymous caller does not have storage.buckets.get access to the Google Cloud Storage bucket. Permission 'storage.buckets.get' denied on resource (or it may not exist)., 401\n"
     ]
    },
    {
     "ename": "HttpError",
     "evalue": "Anonymous caller does not have storage.buckets.get access to the Google Cloud Storage bucket. Permission 'storage.buckets.get' denied on resource (or it may not exist)., 401",
     "output_type": "error",
     "traceback": [
      "\u001B[1;31m---------------------------------------------------------------------------\u001B[0m",
      "\u001B[1;31m_RemoteTraceback\u001B[0m                          Traceback (most recent call last)",
      "\u001B[1;31m_RemoteTraceback\u001B[0m: \n\"\"\"\nTraceback (most recent call last):\n  File \"C:\\Users\\alexander.korolyov\\miniforge3\\envs\\chem\\lib\\site-packages\\joblib\\_utils.py\", line 72, in __call__\n    return self.func(**kwargs)\n  File \"C:\\Users\\alexander.korolyov\\miniforge3\\envs\\chem\\lib\\site-packages\\joblib\\parallel.py\", line 598, in __call__\n    return [func(*args, **kwargs)\n  File \"C:\\Users\\alexander.korolyov\\miniforge3\\envs\\chem\\lib\\site-packages\\joblib\\parallel.py\", line 598, in <listcomp>\n    return [func(*args, **kwargs)\n  File \"C:\\Users\\alexander.korolyov\\miniforge3\\envs\\chem\\lib\\site-packages\\datamol\\utils\\jobs.py\", line 82, in _run\n    return fn(*args, **fn_kwargs)\n  File \"C:\\Users\\alexander.korolyov\\miniforge3\\envs\\chem\\lib\\site-packages\\datamol\\utils\\fs.py\", line 391, in _copy_source_to_destination\n    destination_fs.mkdir(output_path)\n  File \"C:\\Users\\alexander.korolyov\\miniforge3\\envs\\chem\\lib\\site-packages\\fsspec\\asyn.py\", line 118, in wrapper\n    return sync(self.loop, func, *args, **kwargs)\n  File \"C:\\Users\\alexander.korolyov\\miniforge3\\envs\\chem\\lib\\site-packages\\fsspec\\asyn.py\", line 103, in sync\n    raise return_result\n  File \"C:\\Users\\alexander.korolyov\\miniforge3\\envs\\chem\\lib\\site-packages\\fsspec\\asyn.py\", line 56, in _runner\n    result[0] = await coro\n  File \"C:\\Users\\alexander.korolyov\\miniforge3\\envs\\chem\\lib\\site-packages\\gcsfs\\core.py\", line 891, in _mkdir\n    if \"/\" in path and create_parents and await self._exists(bucket):\n  File \"C:\\Users\\alexander.korolyov\\miniforge3\\envs\\chem\\lib\\site-packages\\fsspec\\asyn.py\", line 692, in _exists\n    await self._info(path, **kwargs)\n  File \"C:\\Users\\alexander.korolyov\\miniforge3\\envs\\chem\\lib\\site-packages\\gcsfs\\core.py\", line 961, in _info\n    out = await self._call(\"GET\", f\"b/{path}\", json_out=True)\n  File \"C:\\Users\\alexander.korolyov\\miniforge3\\envs\\chem\\lib\\site-packages\\gcsfs\\core.py\", line 447, in _call\n    status, headers, info, contents = await self._request(\n  File \"C:\\Users\\alexander.korolyov\\miniforge3\\envs\\chem\\lib\\site-packages\\decorator.py\", line 221, in fun\n    return await caller(func, *(extras + args), **kw)\n  File \"C:\\Users\\alexander.korolyov\\miniforge3\\envs\\chem\\lib\\site-packages\\gcsfs\\retry.py\", line 165, in retry_request\n    raise e\n  File \"C:\\Users\\alexander.korolyov\\miniforge3\\envs\\chem\\lib\\site-packages\\gcsfs\\retry.py\", line 130, in retry_request\n    return await func(*args, **kwargs)\n  File \"C:\\Users\\alexander.korolyov\\miniforge3\\envs\\chem\\lib\\site-packages\\gcsfs\\core.py\", line 440, in _request\n    validate_response(status, contents, path, args)\n  File \"C:\\Users\\alexander.korolyov\\miniforge3\\envs\\chem\\lib\\site-packages\\gcsfs\\retry.py\", line 117, in validate_response\n    raise HttpError(error)\ngcsfs.retry.HttpError: Anonymous caller does not have storage.buckets.get access to the Google Cloud Storage bucket. Permission 'storage.buckets.get' denied on resource (or it may not exist)., 401\n\"\"\"",
      "\nThe above exception was the direct cause of the following exception:\n",
      "\u001B[1;31mHttpError\u001B[0m                                 Traceback (most recent call last)",
      "Cell \u001B[1;32mIn[1], line 23\u001B[0m\n\u001B[0;32m      7\u001B[0m molt5_card \u001B[38;5;241m=\u001B[39m ModelInfo(\n\u001B[0;32m      8\u001B[0m     name \u001B[38;5;241m=\u001B[39m \u001B[38;5;124m\"\u001B[39m\u001B[38;5;124mMolT5\u001B[39m\u001B[38;5;124m\"\u001B[39m,\n\u001B[0;32m      9\u001B[0m     inputs \u001B[38;5;241m=\u001B[39m \u001B[38;5;124m\"\u001B[39m\u001B[38;5;124msmiles\u001B[39m\u001B[38;5;124m\"\u001B[39m,\n\u001B[1;32m   (...)\u001B[0m\n\u001B[0;32m     19\u001B[0m     reference \u001B[38;5;241m=\u001B[39m \u001B[38;5;124m\"\u001B[39m\u001B[38;5;124mhttps://arxiv.org/pdf/2204.11817.pdf\u001B[39m\u001B[38;5;124m\"\u001B[39m \n\u001B[0;32m     20\u001B[0m )\n\u001B[0;32m     22\u001B[0m \u001B[38;5;66;03m# attempt to register the model\u001B[39;00m\n\u001B[1;32m---> 23\u001B[0m model \u001B[38;5;241m=\u001B[39m \u001B[43mHFModel\u001B[49m\u001B[38;5;241;43m.\u001B[39;49m\u001B[43mregister_pretrained\u001B[49m\u001B[43m(\u001B[49m\u001B[38;5;124;43m\"\u001B[39;49m\u001B[38;5;124;43mlaituan245/molt5-large-smiles2caption\u001B[39;49m\u001B[38;5;124;43m\"\u001B[39;49m\u001B[43m,\u001B[49m\u001B[43m \u001B[49m\u001B[38;5;124;43m\"\u001B[39;49m\u001B[38;5;124;43mlaituan245/molt5-large-smiles2caption\u001B[39;49m\u001B[38;5;124;43m\"\u001B[39;49m\u001B[43m,\u001B[49m\u001B[43m \u001B[49m\u001B[43mmolt5_card\u001B[49m\u001B[43m)\u001B[49m\n",
      "File \u001B[1;32m~\\miniforge3\\envs\\chem\\lib\\site-packages\\molfeat\\trans\\pretrained\\hf_transformers.py:183\u001B[0m, in \u001B[0;36mHFModel.register_pretrained\u001B[1;34m(cls, model, tokenizer, model_card, model_class)\u001B[0m\n\u001B[0;32m    175\u001B[0m \u001B[38;5;250m\u001B[39m\u001B[38;5;124;03m\"\"\"Register a pretrained huggingface model to the model store\u001B[39;00m\n\u001B[0;32m    176\u001B[0m \u001B[38;5;124;03mArgs:\u001B[39;00m\n\u001B[0;32m    177\u001B[0m \u001B[38;5;124;03m    model: Model to load. Can also be the name on the hub or the path to the model\u001B[39;00m\n\u001B[1;32m   (...)\u001B[0m\n\u001B[0;32m    180\u001B[0m \u001B[38;5;124;03m    model_card: optional model card to provide for registering this model\u001B[39;00m\n\u001B[0;32m    181\u001B[0m \u001B[38;5;124;03m\"\"\"\u001B[39;00m\n\u001B[0;32m    182\u001B[0m model \u001B[38;5;241m=\u001B[39m \u001B[38;5;28mcls\u001B[39m\u001B[38;5;241m.\u001B[39mfrom_pretrained(model, tokenizer, model_class, model_name\u001B[38;5;241m=\u001B[39mmodel_card\u001B[38;5;241m.\u001B[39mname)\n\u001B[1;32m--> 183\u001B[0m \u001B[43mmodel\u001B[49m\u001B[38;5;241;43m.\u001B[39;49m\u001B[43mstore\u001B[49m\u001B[38;5;241;43m.\u001B[39;49m\u001B[43mregister\u001B[49m\u001B[43m(\u001B[49m\u001B[43mmodel_card\u001B[49m\u001B[43m,\u001B[49m\u001B[43m \u001B[49m\u001B[43mmodel\u001B[49m\u001B[38;5;241;43m.\u001B[39;49m\u001B[43m_model\u001B[49m\u001B[43m,\u001B[49m\u001B[43m \u001B[49m\u001B[43msave_fn\u001B[49m\u001B[38;5;241;43m=\u001B[39;49m\u001B[43mHFExperiment\u001B[49m\u001B[38;5;241;43m.\u001B[39;49m\u001B[43msave\u001B[49m\u001B[43m)\u001B[49m\n\u001B[0;32m    184\u001B[0m \u001B[38;5;28;01mreturn\u001B[39;00m model\n",
      "File \u001B[1;32m~\\miniforge3\\envs\\chem\\lib\\site-packages\\molfeat\\store\\modelstore.py:143\u001B[0m, in \u001B[0;36mModelStore.register\u001B[1;34m(self, modelcard, model, chunk_size, save_fn, save_fn_kwargs, force)\u001B[0m\n\u001B[0;32m    134\u001B[0m     dm\u001B[38;5;241m.\u001B[39mfs\u001B[38;5;241m.\u001B[39mcopy_file(\n\u001B[0;32m    135\u001B[0m         model_path,\n\u001B[0;32m    136\u001B[0m         model_upload_path,\n\u001B[1;32m   (...)\u001B[0m\n\u001B[0;32m    140\u001B[0m         force\u001B[38;5;241m=\u001B[39mforce,\n\u001B[0;32m    141\u001B[0m     )\n\u001B[0;32m    142\u001B[0m \u001B[38;5;28;01melse\u001B[39;00m:\n\u001B[1;32m--> 143\u001B[0m     model_path \u001B[38;5;241m=\u001B[39m save_fn(model, model_upload_path, \u001B[38;5;241m*\u001B[39m\u001B[38;5;241m*\u001B[39msave_fn_kwargs)\n\u001B[0;32m    144\u001B[0m     \u001B[38;5;66;03m# we reset to None if the save_fn has not returned anything\u001B[39;00m\n\u001B[0;32m    145\u001B[0m     model_path \u001B[38;5;241m=\u001B[39m model_path \u001B[38;5;129;01mor\u001B[39;00m model_upload_path\n",
      "File \u001B[1;32m~\\miniforge3\\envs\\chem\\lib\\site-packages\\molfeat\\trans\\pretrained\\hf_transformers.py:50\u001B[0m, in \u001B[0;36mHFExperiment.save\u001B[1;34m(cls, model, path, clean_up)\u001B[0m\n\u001B[0;32m     48\u001B[0m model\u001B[38;5;241m.\u001B[39mmodel\u001B[38;5;241m.\u001B[39msave_pretrained(local_path)\n\u001B[0;32m     49\u001B[0m model\u001B[38;5;241m.\u001B[39mtokenizer\u001B[38;5;241m.\u001B[39msave_pretrained(local_path)\n\u001B[1;32m---> 50\u001B[0m \u001B[43mdm\u001B[49m\u001B[38;5;241;43m.\u001B[39;49m\u001B[43mfs\u001B[49m\u001B[38;5;241;43m.\u001B[39;49m\u001B[43mcopy_dir\u001B[49m\u001B[43m(\u001B[49m\u001B[43mlocal_path\u001B[49m\u001B[43m,\u001B[49m\u001B[43m \u001B[49m\u001B[43mpath\u001B[49m\u001B[43m,\u001B[49m\u001B[43m \u001B[49m\u001B[43mforce\u001B[49m\u001B[38;5;241;43m=\u001B[39;49m\u001B[38;5;28;43;01mTrue\u001B[39;49;00m\u001B[43m,\u001B[49m\u001B[43m \u001B[49m\u001B[43mprogress\u001B[49m\u001B[38;5;241;43m=\u001B[39;49m\u001B[38;5;28;43;01mTrue\u001B[39;49;00m\u001B[43m,\u001B[49m\u001B[43m \u001B[49m\u001B[43mleave_progress\u001B[49m\u001B[38;5;241;43m=\u001B[39;49m\u001B[38;5;28;43;01mFalse\u001B[39;49;00m\u001B[43m)\u001B[49m\n\u001B[0;32m     51\u001B[0m logger\u001B[38;5;241m.\u001B[39minfo(\u001B[38;5;124mf\u001B[39m\u001B[38;5;124m\"\u001B[39m\u001B[38;5;124mModel saved to \u001B[39m\u001B[38;5;132;01m{\u001B[39;00mpath\u001B[38;5;132;01m}\u001B[39;00m\u001B[38;5;124m\"\u001B[39m)\n\u001B[0;32m     52\u001B[0m \u001B[38;5;66;03m# clean up now\u001B[39;00m\n",
      "File \u001B[1;32m~\\miniforge3\\envs\\chem\\lib\\site-packages\\datamol\\utils\\fs.py:405\u001B[0m, in \u001B[0;36mcopy_dir\u001B[1;34m(source, destination, force, progress, leave_progress, file_progress, file_leave_progress, chunk_size)\u001B[0m\n\u001B[0;32m    395\u001B[0m         copy_file(\n\u001B[0;32m    396\u001B[0m             input_path,\n\u001B[0;32m    397\u001B[0m             output_path,\n\u001B[1;32m   (...)\u001B[0m\n\u001B[0;32m    401\u001B[0m             chunk_size\u001B[38;5;241m=\u001B[39mchunk_size,\n\u001B[0;32m    402\u001B[0m         )\n\u001B[0;32m    404\u001B[0m \u001B[38;5;66;03m# Copy source files/directories to destination in parallel\u001B[39;00m\n\u001B[1;32m--> 405\u001B[0m \u001B[43mparallelized\u001B[49m\u001B[43m(\u001B[49m\n\u001B[0;32m    406\u001B[0m \u001B[43m    \u001B[49m\u001B[43m_copy_source_to_destination\u001B[49m\u001B[43m,\u001B[49m\n\u001B[0;32m    407\u001B[0m \u001B[43m    \u001B[49m\u001B[43minputs_list\u001B[49m\u001B[38;5;241;43m=\u001B[39;49m\u001B[38;5;28;43mlist\u001B[39;49m\u001B[43m(\u001B[49m\u001B[38;5;28;43mzip\u001B[39;49m\u001B[43m(\u001B[49m\u001B[43minput_paths\u001B[49m\u001B[43m,\u001B[49m\u001B[43m \u001B[49m\u001B[43minput_types\u001B[49m\u001B[43m,\u001B[49m\u001B[43m \u001B[49m\u001B[43moutput_paths\u001B[49m\u001B[43m)\u001B[49m\u001B[43m)\u001B[49m\u001B[43m,\u001B[49m\n\u001B[0;32m    408\u001B[0m \u001B[43m    \u001B[49m\u001B[43marg_type\u001B[49m\u001B[38;5;241;43m=\u001B[39;49m\u001B[38;5;124;43m\"\u001B[39;49m\u001B[38;5;124;43margs\u001B[39;49m\u001B[38;5;124;43m\"\u001B[39;49m\u001B[43m,\u001B[49m\n\u001B[0;32m    409\u001B[0m \u001B[43m    \u001B[49m\u001B[43mprogress\u001B[49m\u001B[38;5;241;43m=\u001B[39;49m\u001B[43mprogress\u001B[49m\u001B[43m,\u001B[49m\n\u001B[0;32m    410\u001B[0m \u001B[43m    \u001B[49m\u001B[43mtqdm_kwargs\u001B[49m\u001B[38;5;241;43m=\u001B[39;49m\u001B[38;5;28;43mdict\u001B[39;49m\u001B[43m(\u001B[49m\u001B[43mleave\u001B[49m\u001B[38;5;241;43m=\u001B[39;49m\u001B[43mleave_progress\u001B[49m\u001B[43m)\u001B[49m\u001B[43m,\u001B[49m\n\u001B[0;32m    411\u001B[0m \u001B[43m    \u001B[49m\u001B[43mscheduler\u001B[49m\u001B[38;5;241;43m=\u001B[39;49m\u001B[38;5;124;43m\"\u001B[39;49m\u001B[38;5;124;43mthreads\u001B[39;49m\u001B[38;5;124;43m\"\u001B[39;49m\u001B[43m,\u001B[49m\n\u001B[0;32m    412\u001B[0m \u001B[43m\u001B[49m\u001B[43m)\u001B[49m\n",
      "File \u001B[1;32m~\\miniforge3\\envs\\chem\\lib\\site-packages\\datamol\\utils\\jobs.py:256\u001B[0m, in \u001B[0;36mparallelized\u001B[1;34m(fn, inputs_list, scheduler, n_jobs, batch_size, progress, arg_type, total, tqdm_kwargs, **job_kwargs)\u001B[0m\n\u001B[0;32m    221\u001B[0m \u001B[38;5;250m\u001B[39m\u001B[38;5;124;03m\"\"\"Run a function in parallel.\u001B[39;00m\n\u001B[0;32m    222\u001B[0m \n\u001B[0;32m    223\u001B[0m \u001B[38;5;124;03mArgs:\u001B[39;00m\n\u001B[1;32m   (...)\u001B[0m\n\u001B[0;32m    244\u001B[0m \u001B[38;5;124;03m    The results of the execution as a list.\u001B[39;00m\n\u001B[0;32m    245\u001B[0m \u001B[38;5;124;03m\"\"\"\u001B[39;00m\n\u001B[0;32m    247\u001B[0m runner \u001B[38;5;241m=\u001B[39m JobRunner(\n\u001B[0;32m    248\u001B[0m     n_jobs\u001B[38;5;241m=\u001B[39mn_jobs,\n\u001B[0;32m    249\u001B[0m     batch_size\u001B[38;5;241m=\u001B[39mbatch_size,\n\u001B[1;32m   (...)\u001B[0m\n\u001B[0;32m    254\u001B[0m     \u001B[38;5;241m*\u001B[39m\u001B[38;5;241m*\u001B[39mjob_kwargs,\n\u001B[0;32m    255\u001B[0m )\n\u001B[1;32m--> 256\u001B[0m \u001B[38;5;28;01mreturn\u001B[39;00m \u001B[43mrunner\u001B[49m\u001B[43m(\u001B[49m\u001B[43mfn\u001B[49m\u001B[43m,\u001B[49m\u001B[43m \u001B[49m\u001B[43minputs_list\u001B[49m\u001B[43m,\u001B[49m\u001B[43m \u001B[49m\u001B[43marg_type\u001B[49m\u001B[38;5;241;43m=\u001B[39;49m\u001B[43marg_type\u001B[49m\u001B[43m)\u001B[49m\n",
      "File \u001B[1;32m~\\miniforge3\\envs\\chem\\lib\\site-packages\\datamol\\utils\\jobs.py:159\u001B[0m, in \u001B[0;36mJobRunner.__call__\u001B[1;34m(self, *args, **kwargs)\u001B[0m\n\u001B[0;32m    157\u001B[0m \u001B[38;5;28;01mif\u001B[39;00m \u001B[38;5;28mself\u001B[39m\u001B[38;5;241m.\u001B[39mis_sequential:\n\u001B[0;32m    158\u001B[0m     \u001B[38;5;28;01mreturn\u001B[39;00m \u001B[38;5;28mself\u001B[39m\u001B[38;5;241m.\u001B[39msequential(\u001B[38;5;241m*\u001B[39margs, \u001B[38;5;241m*\u001B[39m\u001B[38;5;241m*\u001B[39mkwargs)\n\u001B[1;32m--> 159\u001B[0m \u001B[38;5;28;01mreturn\u001B[39;00m \u001B[38;5;28mself\u001B[39m\u001B[38;5;241m.\u001B[39mparallel(\u001B[38;5;241m*\u001B[39margs, \u001B[38;5;241m*\u001B[39m\u001B[38;5;241m*\u001B[39mkwargs)\n",
      "File \u001B[1;32m~\\miniforge3\\envs\\chem\\lib\\site-packages\\datamol\\utils\\jobs.py:147\u001B[0m, in \u001B[0;36mJobRunner.parallel\u001B[1;34m(self, callable_fn, data, arg_type, **fn_kwargs)\u001B[0m\n\u001B[0;32m    144\u001B[0m     \u001B[38;5;28mself\u001B[39m\u001B[38;5;241m.\u001B[39mtqdm_kwargs[\u001B[38;5;124m\"\u001B[39m\u001B[38;5;124mdisable\u001B[39m\u001B[38;5;124m\"\u001B[39m] \u001B[38;5;241m=\u001B[39m \u001B[38;5;28mself\u001B[39m\u001B[38;5;241m.\u001B[39mno_progress\n\u001B[0;32m    146\u001B[0m runner \u001B[38;5;241m=\u001B[39m JobRunner\u001B[38;5;241m.\u001B[39m_parallel_helper(\u001B[38;5;241m*\u001B[39m\u001B[38;5;241m*\u001B[39m\u001B[38;5;28mself\u001B[39m\u001B[38;5;241m.\u001B[39mjob_kwargs)\n\u001B[1;32m--> 147\u001B[0m results \u001B[38;5;241m=\u001B[39m \u001B[43mrunner\u001B[49m\u001B[43m(\u001B[49m\u001B[38;5;241;43m*\u001B[39;49m\u001B[38;5;241;43m*\u001B[39;49m\u001B[38;5;28;43mself\u001B[39;49m\u001B[38;5;241;43m.\u001B[39;49m\u001B[43mtqdm_kwargs\u001B[49m\u001B[43m)\u001B[49m\u001B[43m(\u001B[49m\n\u001B[0;32m    148\u001B[0m \u001B[43m    \u001B[49m\u001B[43mdelayed\u001B[49m\u001B[43m(\u001B[49m\u001B[43mJobRunner\u001B[49m\u001B[38;5;241;43m.\u001B[39;49m\u001B[43mwrap_fn\u001B[49m\u001B[43m(\u001B[49m\u001B[43mcallable_fn\u001B[49m\u001B[43m,\u001B[49m\u001B[43m \u001B[49m\u001B[43marg_type\u001B[49m\u001B[43m,\u001B[49m\u001B[43m \u001B[49m\u001B[38;5;241;43m*\u001B[39;49m\u001B[38;5;241;43m*\u001B[39;49m\u001B[43mfn_kwargs\u001B[49m\u001B[43m)\u001B[49m\u001B[43m)\u001B[49m\u001B[43m(\u001B[49m\u001B[43mdt\u001B[49m\u001B[43m)\u001B[49m\u001B[43m \u001B[49m\u001B[38;5;28;43;01mfor\u001B[39;49;00m\u001B[43m \u001B[49m\u001B[43mdt\u001B[49m\u001B[43m \u001B[49m\u001B[38;5;129;43;01min\u001B[39;49;00m\u001B[43m \u001B[49m\u001B[43mdata\u001B[49m\n\u001B[0;32m    149\u001B[0m \u001B[43m\u001B[49m\u001B[43m)\u001B[49m\n\u001B[0;32m    151\u001B[0m \u001B[38;5;28;01mreturn\u001B[39;00m results\n",
      "File \u001B[1;32m~\\miniforge3\\envs\\chem\\lib\\site-packages\\datamol\\utils\\jobs.py:170\u001B[0m, in \u001B[0;36mJobRunner._parallel_helper.<locals>.run.<locals>.tmp\u001B[1;34m(op_iter)\u001B[0m\n\u001B[0;32m    168\u001B[0m \u001B[38;5;28;01mdef\u001B[39;00m \u001B[38;5;21mtmp\u001B[39m(op_iter):\n\u001B[0;32m    169\u001B[0m     \u001B[38;5;28;01mwith\u001B[39;00m _tqdm_callback(tqdm(\u001B[38;5;241m*\u001B[39m\u001B[38;5;241m*\u001B[39mtq_args)):\n\u001B[1;32m--> 170\u001B[0m         \u001B[38;5;28;01mreturn\u001B[39;00m \u001B[43mParallel\u001B[49m\u001B[43m(\u001B[49m\u001B[38;5;241;43m*\u001B[39;49m\u001B[38;5;241;43m*\u001B[39;49m\u001B[43mjoblib_args\u001B[49m\u001B[43m)\u001B[49m\u001B[43m(\u001B[49m\u001B[43mop_iter\u001B[49m\u001B[43m)\u001B[49m\n",
      "File \u001B[1;32m~\\miniforge3\\envs\\chem\\lib\\site-packages\\joblib\\parallel.py:2007\u001B[0m, in \u001B[0;36mParallel.__call__\u001B[1;34m(self, iterable)\u001B[0m\n\u001B[0;32m   2001\u001B[0m \u001B[38;5;66;03m# The first item from the output is blank, but it makes the interpreter\u001B[39;00m\n\u001B[0;32m   2002\u001B[0m \u001B[38;5;66;03m# progress until it enters the Try/Except block of the generator and\u001B[39;00m\n\u001B[0;32m   2003\u001B[0m \u001B[38;5;66;03m# reaches the first `yield` statement. This starts the asynchronous\u001B[39;00m\n\u001B[0;32m   2004\u001B[0m \u001B[38;5;66;03m# dispatch of the tasks to the workers.\u001B[39;00m\n\u001B[0;32m   2005\u001B[0m \u001B[38;5;28mnext\u001B[39m(output)\n\u001B[1;32m-> 2007\u001B[0m \u001B[38;5;28;01mreturn\u001B[39;00m output \u001B[38;5;28;01mif\u001B[39;00m \u001B[38;5;28mself\u001B[39m\u001B[38;5;241m.\u001B[39mreturn_generator \u001B[38;5;28;01melse\u001B[39;00m \u001B[38;5;28;43mlist\u001B[39;49m\u001B[43m(\u001B[49m\u001B[43moutput\u001B[49m\u001B[43m)\u001B[49m\n",
      "File \u001B[1;32m~\\miniforge3\\envs\\chem\\lib\\site-packages\\joblib\\parallel.py:1650\u001B[0m, in \u001B[0;36mParallel._get_outputs\u001B[1;34m(self, iterator, pre_dispatch)\u001B[0m\n\u001B[0;32m   1647\u001B[0m     \u001B[38;5;28;01myield\u001B[39;00m\n\u001B[0;32m   1649\u001B[0m     \u001B[38;5;28;01mwith\u001B[39;00m \u001B[38;5;28mself\u001B[39m\u001B[38;5;241m.\u001B[39m_backend\u001B[38;5;241m.\u001B[39mretrieval_context():\n\u001B[1;32m-> 1650\u001B[0m         \u001B[38;5;28;01myield from\u001B[39;00m \u001B[38;5;28mself\u001B[39m\u001B[38;5;241m.\u001B[39m_retrieve()\n\u001B[0;32m   1652\u001B[0m \u001B[38;5;28;01mexcept\u001B[39;00m \u001B[38;5;167;01mGeneratorExit\u001B[39;00m:\n\u001B[0;32m   1653\u001B[0m     \u001B[38;5;66;03m# The generator has been garbage collected before being fully\u001B[39;00m\n\u001B[0;32m   1654\u001B[0m     \u001B[38;5;66;03m# consumed. This aborts the remaining tasks if possible and warn\u001B[39;00m\n\u001B[0;32m   1655\u001B[0m     \u001B[38;5;66;03m# the user if necessary.\u001B[39;00m\n\u001B[0;32m   1656\u001B[0m     \u001B[38;5;28mself\u001B[39m\u001B[38;5;241m.\u001B[39m_exception \u001B[38;5;241m=\u001B[39m \u001B[38;5;28;01mTrue\u001B[39;00m\n",
      "File \u001B[1;32m~\\miniforge3\\envs\\chem\\lib\\site-packages\\joblib\\parallel.py:1754\u001B[0m, in \u001B[0;36mParallel._retrieve\u001B[1;34m(self)\u001B[0m\n\u001B[0;32m   1747\u001B[0m \u001B[38;5;28;01mwhile\u001B[39;00m \u001B[38;5;28mself\u001B[39m\u001B[38;5;241m.\u001B[39m_wait_retrieval():\n\u001B[0;32m   1748\u001B[0m \n\u001B[0;32m   1749\u001B[0m     \u001B[38;5;66;03m# If the callback thread of a worker has signaled that its task\u001B[39;00m\n\u001B[0;32m   1750\u001B[0m     \u001B[38;5;66;03m# triggered an exception, or if the retrieval loop has raised an\u001B[39;00m\n\u001B[0;32m   1751\u001B[0m     \u001B[38;5;66;03m# exception (e.g. `GeneratorExit`), exit the loop and surface the\u001B[39;00m\n\u001B[0;32m   1752\u001B[0m     \u001B[38;5;66;03m# worker traceback.\u001B[39;00m\n\u001B[0;32m   1753\u001B[0m     \u001B[38;5;28;01mif\u001B[39;00m \u001B[38;5;28mself\u001B[39m\u001B[38;5;241m.\u001B[39m_aborting:\n\u001B[1;32m-> 1754\u001B[0m         \u001B[38;5;28;43mself\u001B[39;49m\u001B[38;5;241;43m.\u001B[39;49m\u001B[43m_raise_error_fast\u001B[49m\u001B[43m(\u001B[49m\u001B[43m)\u001B[49m\n\u001B[0;32m   1755\u001B[0m         \u001B[38;5;28;01mbreak\u001B[39;00m\n\u001B[0;32m   1757\u001B[0m     \u001B[38;5;66;03m# If the next job is not ready for retrieval yet, we just wait for\u001B[39;00m\n\u001B[0;32m   1758\u001B[0m     \u001B[38;5;66;03m# async callbacks to progress.\u001B[39;00m\n",
      "File \u001B[1;32m~\\miniforge3\\envs\\chem\\lib\\site-packages\\joblib\\parallel.py:1789\u001B[0m, in \u001B[0;36mParallel._raise_error_fast\u001B[1;34m(self)\u001B[0m\n\u001B[0;32m   1785\u001B[0m \u001B[38;5;66;03m# If this error job exists, immediately raise the error by\u001B[39;00m\n\u001B[0;32m   1786\u001B[0m \u001B[38;5;66;03m# calling get_result. This job might not exists if abort has been\u001B[39;00m\n\u001B[0;32m   1787\u001B[0m \u001B[38;5;66;03m# called directly or if the generator is gc'ed.\u001B[39;00m\n\u001B[0;32m   1788\u001B[0m \u001B[38;5;28;01mif\u001B[39;00m error_job \u001B[38;5;129;01mis\u001B[39;00m \u001B[38;5;129;01mnot\u001B[39;00m \u001B[38;5;28;01mNone\u001B[39;00m:\n\u001B[1;32m-> 1789\u001B[0m     \u001B[43merror_job\u001B[49m\u001B[38;5;241;43m.\u001B[39;49m\u001B[43mget_result\u001B[49m\u001B[43m(\u001B[49m\u001B[38;5;28;43mself\u001B[39;49m\u001B[38;5;241;43m.\u001B[39;49m\u001B[43mtimeout\u001B[49m\u001B[43m)\u001B[49m\n",
      "File \u001B[1;32m~\\miniforge3\\envs\\chem\\lib\\site-packages\\joblib\\parallel.py:745\u001B[0m, in \u001B[0;36mBatchCompletionCallBack.get_result\u001B[1;34m(self, timeout)\u001B[0m\n\u001B[0;32m    739\u001B[0m backend \u001B[38;5;241m=\u001B[39m \u001B[38;5;28mself\u001B[39m\u001B[38;5;241m.\u001B[39mparallel\u001B[38;5;241m.\u001B[39m_backend\n\u001B[0;32m    741\u001B[0m \u001B[38;5;28;01mif\u001B[39;00m backend\u001B[38;5;241m.\u001B[39msupports_retrieve_callback:\n\u001B[0;32m    742\u001B[0m     \u001B[38;5;66;03m# We assume that the result has already been retrieved by the\u001B[39;00m\n\u001B[0;32m    743\u001B[0m     \u001B[38;5;66;03m# callback thread, and is stored internally. It's just waiting to\u001B[39;00m\n\u001B[0;32m    744\u001B[0m     \u001B[38;5;66;03m# be returned.\u001B[39;00m\n\u001B[1;32m--> 745\u001B[0m     \u001B[38;5;28;01mreturn\u001B[39;00m \u001B[38;5;28;43mself\u001B[39;49m\u001B[38;5;241;43m.\u001B[39;49m\u001B[43m_return_or_raise\u001B[49m\u001B[43m(\u001B[49m\u001B[43m)\u001B[49m\n\u001B[0;32m    747\u001B[0m \u001B[38;5;66;03m# For other backends, the main thread needs to run the retrieval step.\u001B[39;00m\n\u001B[0;32m    748\u001B[0m \u001B[38;5;28;01mtry\u001B[39;00m:\n",
      "File \u001B[1;32m~\\miniforge3\\envs\\chem\\lib\\site-packages\\joblib\\parallel.py:763\u001B[0m, in \u001B[0;36mBatchCompletionCallBack._return_or_raise\u001B[1;34m(self)\u001B[0m\n\u001B[0;32m    761\u001B[0m \u001B[38;5;28;01mtry\u001B[39;00m:\n\u001B[0;32m    762\u001B[0m     \u001B[38;5;28;01mif\u001B[39;00m \u001B[38;5;28mself\u001B[39m\u001B[38;5;241m.\u001B[39mstatus \u001B[38;5;241m==\u001B[39m TASK_ERROR:\n\u001B[1;32m--> 763\u001B[0m         \u001B[38;5;28;01mraise\u001B[39;00m \u001B[38;5;28mself\u001B[39m\u001B[38;5;241m.\u001B[39m_result\n\u001B[0;32m    764\u001B[0m     \u001B[38;5;28;01mreturn\u001B[39;00m \u001B[38;5;28mself\u001B[39m\u001B[38;5;241m.\u001B[39m_result\n\u001B[0;32m    765\u001B[0m \u001B[38;5;28;01mfinally\u001B[39;00m:\n",
      "\u001B[1;31mHttpError\u001B[0m: Anonymous caller does not have storage.buckets.get access to the Google Cloud Storage bucket. Permission 'storage.buckets.get' denied on resource (or it may not exist)., 401"
     ]
    }
   ],
   "execution_count": 1
  },
  {
   "metadata": {
    "ExecuteTime": {
     "end_time": "2024-09-11T08:56:34.965982Z",
     "start_time": "2024-09-11T08:56:26.601553Z"
    }
   },
   "cell_type": "code",
   "source": [
    "from molfeat.store.modelstore import ModelStore\n",
    "\n",
    "store = ModelStore()\n",
    "[x.name for x in store]"
   ],
   "id": "cc0f26278f67c3b0",
   "outputs": [
    {
     "ename": "TypeError",
     "evalue": "'ModelStore' object is not iterable",
     "output_type": "error",
     "traceback": [
      "\u001B[1;31m---------------------------------------------------------------------------\u001B[0m",
      "\u001B[1;31mTypeError\u001B[0m                                 Traceback (most recent call last)",
      "Cell \u001B[1;32mIn[44], line 4\u001B[0m\n\u001B[0;32m      1\u001B[0m \u001B[38;5;28;01mfrom\u001B[39;00m \u001B[38;5;21;01mmolfeat\u001B[39;00m\u001B[38;5;21;01m.\u001B[39;00m\u001B[38;5;21;01mstore\u001B[39;00m\u001B[38;5;21;01m.\u001B[39;00m\u001B[38;5;21;01mmodelstore\u001B[39;00m \u001B[38;5;28;01mimport\u001B[39;00m ModelStore\n\u001B[0;32m      3\u001B[0m store \u001B[38;5;241m=\u001B[39m ModelStore()\n\u001B[1;32m----> 4\u001B[0m [x\u001B[38;5;241m.\u001B[39mname \u001B[38;5;28;01mfor\u001B[39;00m x \u001B[38;5;129;01min\u001B[39;00m store]\n",
      "\u001B[1;31mTypeError\u001B[0m: 'ModelStore' object is not iterable"
     ]
    }
   ],
   "execution_count": 44
  },
  {
   "metadata": {
    "ExecuteTime": {
     "end_time": "2024-09-11T08:53:48.338319Z",
     "start_time": "2024-09-11T08:53:48.329608Z"
    }
   },
   "cell_type": "code",
   "source": [
    "import torch\n",
    "torch.device('cuda')"
   ],
   "id": "aa0a327e2a9da0e2",
   "outputs": [
    {
     "data": {
      "text/plain": [
       "device(type='cuda')"
      ]
     },
     "execution_count": 30,
     "metadata": {},
     "output_type": "execute_result"
    }
   ],
   "execution_count": 30
  },
  {
   "metadata": {
    "ExecuteTime": {
     "end_time": "2024-09-11T08:53:48.508712Z",
     "start_time": "2024-09-11T08:53:48.494038Z"
    }
   },
   "cell_type": "code",
   "source": [
    "smi = 'C1nCC1OC'\n",
    "Chem.MolFromSmiles(smi)"
   ],
   "id": "57206fcbec120d5a",
   "outputs": [
    {
     "data": {
      "text/plain": [
       "<rdkit.Chem.rdchem.Mol at 0x2803d232570>"
      ],
      "image/png": "[encoded data removed]"
     },
     "execution_count": 31,
     "metadata": {},
     "output_type": "execute_result"
    }
   ],
   "execution_count": 31
  },
  {
   "metadata": {
    "ExecuteTime": {
     "end_time": "2024-09-11T08:54:50.740656Z",
     "start_time": "2024-09-11T08:54:47.515513Z"
    }
   },
   "cell_type": "code",
   "source": "%time trans_cpu([smi] * 10000).shape",
   "id": "19d86b930480e943",
   "outputs": [
    {
     "name": "stdout",
     "output_type": "stream",
     "text": [
      "CPU times: total: 4.19 s\n",
      "Wall time: 3.2 s\n"
     ]
    },
    {
     "data": {
      "text/plain": [
       "(10000, 384)"
      ]
     },
     "execution_count": 37,
     "metadata": {},
     "output_type": "execute_result"
    }
   ],
   "execution_count": 37
  },
  {
   "metadata": {
    "ExecuteTime": {
     "end_time": "2024-09-11T08:54:50.895497Z",
     "start_time": "2024-09-11T08:54:50.865069Z"
    }
   },
   "cell_type": "code",
   "source": [
    "print(trans_cpu([smi])[0, :5].round(3))\n",
    "print(trans_cpu1([smi])[0, :5].round(3))"
   ],
   "id": "3fddea57fee097cb",
   "outputs": [
    {
     "name": "stdout",
     "output_type": "stream",
     "text": [
      "[-0.053  0.174 -0.05  -0.088 -0.112]\n",
      "[-0.053  0.174 -0.05  -0.088 -0.112]\n"
     ]
    }
   ],
   "execution_count": 38
  },
  {
   "metadata": {
    "ExecuteTime": {
     "end_time": "2024-09-11T08:55:35.162217Z",
     "start_time": "2024-09-11T08:55:35.125089Z"
    }
   },
   "cell_type": "code",
   "source": [
    "import numpy as np\n",
    "np.isclose(trans_cpu([smi]), trans_cpu1([smi])).all()"
   ],
   "id": "df2ab41f9c466904",
   "outputs": [
    {
     "data": {
      "text/plain": [
       "True"
      ]
     },
     "execution_count": 42,
     "metadata": {},
     "output_type": "execute_result"
    }
   ],
   "execution_count": 42
  }
 ],
 "metadata": {
  "kernelspec": {
   "display_name": "chem",
   "language": "python",
   "name": "chem"
  },
  "language_info": {
   "codemirror_mode": {
    "name": "ipython",
    "version": 2
   },
   "file_extension": ".py",
   "mimetype": "text/x-python",
   "name": "python",
   "nbconvert_exporter": "python",
   "pygments_lexer": "ipython2",
   "version": "2.7.6"
  }
 },
 "nbformat": 4,
 "nbformat_minor": 5
}
