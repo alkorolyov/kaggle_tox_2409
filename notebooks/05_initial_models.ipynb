{
 "cells": [
  {
   "metadata": {
    "ExecuteTime": {
     "end_time": "2024-09-06T15:56:02.481085Z",
     "start_time": "2024-09-06T15:56:02.409633Z"
    }
   },
   "cell_type": "code",
   "source": [
    "%load_ext autoreload\n",
    "%autoreload 2\n",
    "\n",
    "import sys\n",
    "sys.path.append('..')"
   ],
   "id": "b7a595a23620cf6b",
   "outputs": [],
   "execution_count": 1
  },
  {
   "metadata": {
    "ExecuteTime": {
     "end_time": "2024-09-06T15:56:02.670484Z",
     "start_time": "2024-09-06T15:56:02.483087Z"
    }
   },
   "cell_type": "code",
   "source": [
    "import warnings\n",
    "from sklearn.exceptions import ConvergenceWarning\n",
    "\n",
    "warnings.filterwarnings('ignore', category=ConvergenceWarning)"
   ],
   "id": "32a8cc17b966cad6",
   "outputs": [],
   "execution_count": 2
  },
  {
   "cell_type": "code",
   "id": "initial_id",
   "metadata": {
    "collapsed": true,
    "ExecuteTime": {
     "end_time": "2024-09-06T15:56:03.048266Z",
     "start_time": "2024-09-06T15:56:02.672481Z"
    }
   },
   "source": [
    "import time\n",
    "\n",
    "import numpy as np\n",
    "import pandas as pd\n",
    "\n",
    "from sklearn.linear_model import RidgeClassifier, LogisticRegression\n",
    "from sklearn.tree import DecisionTreeClassifier\n",
    "from sklearn.ensemble import RandomForestClassifier, HistGradientBoostingClassifier\n",
    "from sklearn.svm import SVC\n",
    "from sklearn.neighbors import KNeighborsClassifier\n",
    "from src.utils import eval_model, scale\n",
    "import xgboost as xgb\n",
    "import catboost as cb\n",
    "import lightgbm as lgb\n",
    "import seaborn as sns\n",
    "\n",
    "\n",
    "mae = 'neg_mean_absolute_error'\n",
    "mse = 'neg_mean_squared_error'\n",
    "rmse = 'neg_root_mean_squared_error'\n",
    "roc_auc = 'neg_roc_auc_score'\n",
    "N_JOBS = 24\n",
    "RANDOM_SEED = 42\n",
    "\n",
    "# prepare models\n",
    "models = {}\n",
    "\n",
    "models['LR'] = LogisticRegression()\n",
    "\n",
    "models['Ridge'] = RidgeClassifier()\n",
    "\n",
    "models['DT'] = DecisionTreeClassifier(random_state=RANDOM_SEED)\n",
    "\n",
    "# models['Lasso'] = Lass()\n",
    "\n",
    "models['KNN'] = KNeighborsClassifier(n_jobs=N_JOBS)\n",
    "\n",
    "models['SVC'] = SVC()\n",
    "\n",
    "models['RF'] = RandomForestClassifier(random_state=RANDOM_SEED, n_jobs=N_JOBS)\n",
    "\n",
    "models['HistGB'] = HistGradientBoostingClassifier(random_state=RANDOM_SEED)\n",
    "\n",
    "models['XGB'] = xgb.XGBClassifier(random_state=RANDOM_SEED, n_jobs=N_JOBS, verbosity=0,)\n",
    "\n",
    "models['XGB_GPU'] = xgb.XGBClassifier(random_state=RANDOM_SEED, n_jobs=N_JOBS, verbosity=0, \n",
    "                                  tree_method='gpu_hist', predictor='gpu_predictor', gpu_id=1)\n",
    "\n",
    "models['CB'] = cb.CatBoostClassifier(iterations=400, random_seed=RANDOM_SEED, thread_count=N_JOBS, verbose=False)\n",
    "\n",
    "models['CB_GPU'] = cb.CatBoostClassifier(iterations=400, random_seed=RANDOM_SEED, thread_count=N_JOBS, verbose=False, task_type=\"GPU\")\n",
    "\n",
    "models['LGB'] = lgb.LGBMClassifier(random_state=RANDOM_SEED, n_jobs=N_JOBS, verbose=-1)"
   ],
   "outputs": [],
   "execution_count": 3
  },
  {
   "metadata": {},
   "cell_type": "markdown",
   "source": "# Stacked datasets",
   "id": "1658f8ee276ebf9c"
  },
  {
   "metadata": {
    "ExecuteTime": {
     "end_time": "2024-09-06T16:13:12.774408Z",
     "start_time": "2024-09-06T15:56:03.050266Z"
    }
   },
   "cell_type": "code",
   "source": [
    "X = pd.read_pickle('../data/processed/X_train.pkl.zip')\n",
    "y = pd.read_pickle('../data/processed/y_train.pkl')\n",
    "\n",
    "results = {}\n",
    "\n",
    "for name, model in models.items():\n",
    "    X = scale(X)\n",
    "    results[name] = eval_model(name, model, X, y)\n",
    "    \n",
    "results = pd.DataFrame(results)\n",
    "sns.boxplot(results);"
   ],
   "id": "27bc7a20bd6a35a1",
   "outputs": [
    {
     "name": "stdout",
     "output_type": "stream",
     "text": [
      "     LR: 0.841    (0.848 ± 0.007)    10.4s\n",
      "  Ridge: 0.798    (0.805 ± 0.007)    5.3s\n",
      "     DT: 0.739    (0.747 ± 0.008)    72.9s\n",
      "    KNN: 0.822    (0.829 ± 0.006)    3.6s\n",
      "    SVC: 0.873    (0.881 ± 0.009)    527.2s\n",
      "     RF: 0.868    (0.876 ± 0.007)    6.1s\n",
      " HistGB: 0.895    (0.902 ± 0.006)    107.9s\n",
      "    XGB: 0.893    (0.900 ± 0.007)    63.7s\n",
      "XGB_GPU: 0.892    (0.901 ± 0.008)    33.6s\n",
      "     CB: 0.893    (0.899 ± 0.007)    134.7s\n",
      " CB_GPU: 0.890    (0.899 ± 0.008)    38.2s\n",
      "    LGB: 0.897    (0.904 ± 0.006)    22.9s\n"
     ]
    },
    {
     "data": {
      "text/plain": [
       "<Figure size 640x480 with 1 Axes>"
      ],
      "image/png": "[encoded data removed]"
     },
     "metadata": {},
     "output_type": "display_data"
    }
   ],
   "execution_count": 4
  },
  {
   "metadata": {
    "jupyter": {
     "is_executing": true
    },
    "ExecuteTime": {
     "start_time": "2024-09-06T16:13:12.775407Z"
    }
   },
   "cell_type": "code",
   "source": [
    "X = pd.read_pickle('../data/processed/X_train_uncorr.pkl.zip')\n",
    "y = pd.read_pickle('../data/processed/y_train.pkl')\n",
    "\n",
    "results = {}\n",
    "\n",
    "for name, model in models.items():\n",
    "    X = scale(X)\n",
    "    results[name] = eval_model(name, model, X, y)\n",
    "    \n",
    "results = pd.DataFrame(results)\n",
    "sns.boxplot(results);"
   ],
   "id": "b9b8ac374733164b",
   "outputs": [
    {
     "name": "stdout",
     "output_type": "stream",
     "text": [
      "     LR: 0.837    (0.843 ± 0.006)    8.3s\n",
      "  Ridge: 0.799    (0.806 ± 0.006)    3.9s\n",
      "     DT: 0.736    (0.745 ± 0.008)    44.8s\n",
      "    KNN: 0.822    (0.831 ± 0.009)    2.5s\n"
     ]
    }
   ],
   "execution_count": null
  },
  {
   "metadata": {
    "jupyter": {
     "is_executing": true
    }
   },
   "cell_type": "code",
   "source": [
    "# X = pd.read_pickle('../data/processed/X_train_1.pkl.zip')\n",
    "# y = pd.read_pickle('../data/processed/y_train_1.pkl')\n",
    "# \n",
    "# results = {}\n",
    "# \n",
    "# for name, model in models.items():\n",
    "#     X = scale(X)\n",
    "#     results[name] = eval_model(name, model, X, y)\n",
    "#     \n",
    "# results = pd.DataFrame(results)\n",
    "# sns.boxplot(results);"
   ],
   "id": "6cf5e19c77e87323",
   "outputs": [],
   "execution_count": null
  },
  {
   "metadata": {
    "jupyter": {
     "is_executing": true
    }
   },
   "cell_type": "code",
   "source": [
    "# X = pd.read_pickle('../data/processed/X_train_2.pkl.zip')\n",
    "# y = pd.read_pickle('../data/processed/y_train_2.pkl')\n",
    "# \n",
    "# results = {}\n",
    "# \n",
    "# for name, model in models.items():\n",
    "#     results[name] = eval_model(name, model, X, y)\n",
    "#     \n",
    "# results = pd.DataFrame(results)\n",
    "# sns.boxplot(results);"
   ],
   "id": "52a322714f2d5866",
   "outputs": [],
   "execution_count": null
  },
  {
   "metadata": {
    "jupyter": {
     "is_executing": true
    }
   },
   "cell_type": "code",
   "source": [
    "# X = pd.read_pickle('../data/processed/X_train_3.pkl.zip')\n",
    "# y = pd.read_pickle('../data/processed/y_train_3.pkl')\n",
    "# \n",
    "# results = {}\n",
    "# \n",
    "# for name, model in models.items():\n",
    "#     results[name] = eval_model(name, model, X, y)\n",
    "#     \n",
    "# results = pd.DataFrame(results)\n",
    "# sns.boxplot(results);"
   ],
   "id": "93dd227f4c9fa0f6",
   "outputs": [],
   "execution_count": null
  }
 ],
 "metadata": {
  "kernelspec": {
   "display_name": "Python 3 (ipykernel)",
   "language": "python",
   "name": "python3"
  },
  "language_info": {
   "codemirror_mode": {
    "name": "ipython",
    "version": 2
   },
   "file_extension": ".py",
   "mimetype": "text/x-python",
   "name": "python",
   "nbconvert_exporter": "python",
   "pygments_lexer": "ipython2",
   "version": "2.7.6"
  }
 },
 "nbformat": 4,
 "nbformat_minor": 5
}
