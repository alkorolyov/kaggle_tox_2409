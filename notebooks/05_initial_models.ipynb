{
 "cells": [
  {
   "metadata": {
    "ExecuteTime": {
     "end_time": "2024-09-06T12:28:11.108315Z",
     "start_time": "2024-09-06T12:28:11.088507Z"
    }
   },
   "cell_type": "code",
   "source": [
    "%load_ext autoreload\n",
    "%autoreload 2\n",
    "\n",
    "import sys\n",
    "sys.path.append('..')"
   ],
   "id": "b7a595a23620cf6b",
   "outputs": [
    {
     "name": "stdout",
     "output_type": "stream",
     "text": [
      "The autoreload extension is already loaded. To reload it, use:\n",
      "  %reload_ext autoreload\n"
     ]
    }
   ],
   "execution_count": 10
  },
  {
   "metadata": {
    "ExecuteTime": {
     "end_time": "2024-09-06T12:28:11.162050Z",
     "start_time": "2024-09-06T12:28:11.145242Z"
    }
   },
   "cell_type": "code",
   "source": [
    "import warnings\n",
    "from sklearn.exceptions import ConvergenceWarning\n",
    "\n",
    "warnings.filterwarnings('ignore', category=ConvergenceWarning)"
   ],
   "id": "32a8cc17b966cad6",
   "outputs": [],
   "execution_count": 11
  },
  {
   "cell_type": "code",
   "id": "initial_id",
   "metadata": {
    "collapsed": true,
    "ExecuteTime": {
     "end_time": "2024-09-06T12:28:11.191539Z",
     "start_time": "2024-09-06T12:28:11.169904Z"
    }
   },
   "source": [
    "import time\n",
    "\n",
    "import numpy as np\n",
    "import pandas as pd\n",
    "\n",
    "from sklearn.linear_model import RidgeClassifier, LogisticRegression\n",
    "from sklearn.tree import DecisionTreeClassifier\n",
    "from sklearn.ensemble import RandomForestClassifier, HistGradientBoostingClassifier\n",
    "from sklearn.svm import SVC\n",
    "from sklearn.neighbors import KNeighborsClassifier\n",
    "from src.utils import eval_model\n",
    "import xgboost as xgb\n",
    "import catboost as cb\n",
    "import lightgbm as lgb\n",
    "import seaborn as sns\n",
    "\n",
    "\n",
    "mae = 'neg_mean_absolute_error'\n",
    "mse = 'neg_mean_squared_error'\n",
    "rmse = 'neg_root_mean_squared_error'\n",
    "roc_auc = 'neg_roc_auc_score'\n",
    "N_JOBS = 24\n",
    "RANDOM_SEED = 42\n",
    "\n",
    "# prepare models\n",
    "models = {}\n",
    "\n",
    "models['LR'] = LogisticRegression()\n",
    "models['Ridge'] = RidgeClassifier()\n",
    "models['DT'] = DecisionTreeClassifier(random_state=RANDOM_SEED)\n",
    "# models['Lasso'] = Lass()\n",
    "models['KNN'] = KNeighborsClassifier(n_jobs=N_JOBS)\n",
    "models['SVC'] = SVC()\n",
    "models['RF'] = RandomForestClassifier(random_state=RANDOM_SEED, n_jobs=N_JOBS)\n",
    "models['HistGB'] = HistGradientBoostingClassifier(random_state=RANDOM_SEED)\n",
    "models['XGB'] = xgb.XGBClassifier(random_state=RANDOM_SEED, n_jobs=N_JOBS, verbosity=0,)\n",
    "models['XGB_GPU'] = xgb.XGBClassifier(random_state=RANDOM_SEED, n_jobs=N_JOBS, verbosity=0, \n",
    "                                  tree_method='gpu_hist', predictor='gpu_predictor', gpu_id=1)\n",
    "models['CB'] = cb.CatBoostClassifier(iterations=100, random_seed=RANDOM_SEED, thread_count=N_JOBS, verbose=False)\n",
    "models['CB_GPU'] = cb.CatBoostClassifier(iterations=100, random_seed=RANDOM_SEED, thread_count=N_JOBS, verbose=False, task_type=\"GPU\")\n",
    "models['LGB'] = lgb.LGBMClassifier(random_state=RANDOM_SEED, n_jobs=N_JOBS, verbose=-1)"
   ],
   "outputs": [],
   "execution_count": 12
  },
  {
   "metadata": {
    "jupyter": {
     "is_executing": true
    },
    "ExecuteTime": {
     "start_time": "2024-09-06T12:28:11.194481Z"
    }
   },
   "cell_type": "code",
   "source": [
    "X = pd.read_pickle('../data/processed/X_train_1.pkl.zip')\n",
    "y = pd.read_pickle('../data/processed/y_train_1.pkl')\n",
    "\n",
    "results = {}\n",
    "\n",
    "for name, model in models.items():\n",
    "    results[name] = eval_model(name, model, X, y)\n",
    "    \n",
    "results = pd.DataFrame(results)\n",
    "sns.boxplot(results);"
   ],
   "id": "6cf5e19c77e87323",
   "outputs": [
    {
     "name": "stdout",
     "output_type": "stream",
     "text": [
      "     LR: 0.844    (0.852 ± 0.008)    14.9s\n",
      "  Ridge: 0.777    (0.787 ± 0.009)    6.8s\n",
      "     DT: 0.726    (0.730 ± 0.004)    26.3s\n",
      "    KNN: 0.845    (0.856 ± 0.011)    1.6s\n"
     ]
    }
   ],
   "execution_count": null
  },
  {
   "metadata": {
    "jupyter": {
     "is_executing": true
    }
   },
   "cell_type": "code",
   "source": [
    "X = pd.read_pickle('../data/processed/X_train_2.pkl.zip')\n",
    "y = pd.read_pickle('../data/processed/y_train_2.pkl')\n",
    "\n",
    "results = {}\n",
    "\n",
    "for name, model in models.items():\n",
    "    results[name] = eval_model(name, model, X, y)\n",
    "    \n",
    "results = pd.DataFrame(results)\n",
    "sns.boxplot(results);"
   ],
   "id": "52a322714f2d5866",
   "outputs": [],
   "execution_count": null
  },
  {
   "metadata": {
    "jupyter": {
     "is_executing": true
    }
   },
   "cell_type": "code",
   "source": [
    "X = pd.read_pickle('../data/processed/X_train_3.pkl.zip')\n",
    "y = pd.read_pickle('../data/processed/y_train_3.pkl')\n",
    "\n",
    "results = {}\n",
    "\n",
    "for name, model in models.items():\n",
    "    results[name] = eval_model(name, model, X, y)    \n",
    "    \n",
    "results = pd.DataFrame(results)\n",
    "sns.boxplot(results);"
   ],
   "id": "93dd227f4c9fa0f6",
   "outputs": [],
   "execution_count": null
  }
 ],
 "metadata": {
  "kernelspec": {
   "display_name": "ml",
   "language": "python",
   "name": "ml"
  },
  "language_info": {
   "codemirror_mode": {
    "name": "ipython",
    "version": 2
   },
   "file_extension": ".py",
   "mimetype": "text/x-python",
   "name": "python",
   "nbconvert_exporter": "python",
   "pygments_lexer": "ipython2",
   "version": "2.7.6"
  }
 },
 "nbformat": 4,
 "nbformat_minor": 5
}
