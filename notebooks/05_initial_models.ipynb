{
 "cells": [
  {
   "metadata": {
    "ExecuteTime": {
     "end_time": "2024-09-06T04:04:48.640830Z",
     "start_time": "2024-09-06T04:04:48.624936Z"
    }
   },
   "cell_type": "code",
   "source": [
    "%load_ext autoreload\n",
    "%autoreload 2\n",
    "\n",
    "import sys\n",
    "sys.path.append('..')"
   ],
   "id": "b7a595a23620cf6b",
   "outputs": [
    {
     "name": "stdout",
     "output_type": "stream",
     "text": [
      "The autoreload extension is already loaded. To reload it, use:\n",
      "  %reload_ext autoreload\n"
     ]
    }
   ],
   "execution_count": 29
  },
  {
   "metadata": {
    "ExecuteTime": {
     "end_time": "2024-09-06T04:04:48.692258Z",
     "start_time": "2024-09-06T04:04:48.676424Z"
    }
   },
   "cell_type": "code",
   "source": [
    "# from sklearnex import patch_sklearn\n",
    "# patch_sklearn()"
   ],
   "id": "32a8cc17b966cad6",
   "outputs": [],
   "execution_count": 30
  },
  {
   "cell_type": "code",
   "id": "initial_id",
   "metadata": {
    "collapsed": true,
    "ExecuteTime": {
     "end_time": "2024-09-06T04:04:48.711654Z",
     "start_time": "2024-09-06T04:04:48.694042Z"
    }
   },
   "source": [
    "import time\n",
    "\n",
    "import numpy as np\n",
    "import pandas as pd\n",
    "\n",
    "from sklearn.linear_model import RidgeClassifier, LogisticRegression\n",
    "from sklearn.tree import DecisionTreeClassifier\n",
    "from sklearn.ensemble import RandomForestClassifier\n",
    "from sklearn.svm import SVC\n",
    "from sklearn.neighbors import KNeighborsClassifier\n",
    "from sklearn.model_selection import cross_val_score, KFold\n",
    "from src.utils import OffsetScaler, get_fps_offset\n",
    "import xgboost as xgb\n",
    "import catboost as cb\n",
    "import lightgbm as lgb\n",
    "import seaborn as sns\n",
    "\n",
    "\n",
    "mae = 'neg_mean_absolute_error'\n",
    "mse = 'neg_mean_squared_error'\n",
    "rmse = 'neg_root_mean_squared_error'\n",
    "roc_auc = 'neg_roc_auc_score'\n",
    "N_JOBS = 12\n",
    "RANDOM_SEED = 42\n",
    "\n",
    "# prepare models\n",
    "models = {}\n",
    "\n",
    "models['LR'] = LogisticRegression()\n",
    "models['Ridge'] = RidgeClassifier()\n",
    "models['DT'] = DecisionTreeClassifier(random_state=RANDOM_SEED)\n",
    "# models['Lasso'] = Lass()\n",
    "models['KNN'] = KNeighborsClassifier(n_jobs=N_JOBS)\n",
    "models['SVC'] = SVC()\n",
    "models['RF'] = RandomForestClassifier(random_state=RANDOM_SEED, n_jobs=N_JOBS)\n",
    "models['XGB'] = xgb.XGBClassifier(random_state=RANDOM_SEED, n_jobs=N_JOBS, verbosity=0)\n",
    "models['CB'] = cb.CatBoostClassifier(random_seed=RANDOM_SEED, thread_count=N_JOBS, verbose=False)\n",
    "models['LGB'] = lgb.LGBMClassifier(random_state=RANDOM_SEED, n_jobs=N_JOBS, verbose=0)"
   ],
   "outputs": [],
   "execution_count": 31
  },
  {
   "metadata": {
    "ExecuteTime": {
     "end_time": "2024-09-06T04:04:49.834436Z",
     "start_time": "2024-09-06T04:04:48.713151Z"
    }
   },
   "cell_type": "code",
   "source": [
    "X_train = pd.read_csv('../data/processed/X_train_1.csv.zip', index_col=0)\n",
    "y_train = pd.read_csv('../data/processed/y_train_1.csv', index_col=0)"
   ],
   "id": "611fff39dd0660a",
   "outputs": [],
   "execution_count": 32
  },
  {
   "metadata": {
    "ExecuteTime": {
     "end_time": "2024-09-05T18:10:19.670183Z",
     "start_time": "2024-09-05T18:10:19.583698Z"
    }
   },
   "cell_type": "code",
   "source": [
    "FPS_OFFSET = get_fps_offset(X_train.columns)\n",
    "scaler = OffsetScaler(offset=FPS_OFFSET)\n",
    "X_train_scale = scaler.fit_transform(X_train.values)"
   ],
   "id": "fd4bb74ebc55b67c",
   "outputs": [],
   "execution_count": 17
  },
  {
   "metadata": {
    "ExecuteTime": {
     "end_time": "2024-09-05T18:10:20.713395Z",
     "start_time": "2024-09-05T18:10:19.671884Z"
    }
   },
   "cell_type": "code",
   "source": [
    "cv_res = cross_val_score(models['KNN'], X_train_scale, y_train, cv=5, scoring='roc_auc')\n",
    "cv_res"
   ],
   "id": "db83e5c81ee58c7f",
   "outputs": [
    {
     "data": {
      "text/plain": [
       "array([0.85851721, 0.82930283, 0.85583667, 0.84618906, 0.86962774])"
      ]
     },
     "execution_count": 18,
     "metadata": {},
     "output_type": "execute_result"
    }
   ],
   "execution_count": 18
  },
  {
   "metadata": {
    "ExecuteTime": {
     "end_time": "2024-09-05T18:17:21.786703Z",
     "start_time": "2024-09-05T18:10:20.715083Z"
    }
   },
   "cell_type": "code",
   "source": [
    "results = {}\n",
    "\n",
    "for name in models.keys():\n",
    "    tic = time.time()\n",
    "    \n",
    "    model = models[name]\n",
    "    kfold = KFold(n_splits=5, shuffle=True, random_state=RANDOM_SEED)\n",
    "    results[name] = cross_val_score(model, X_train_scale, y_train, cv=kfold, scoring='roc_auc')\n",
    "    \n",
    "    toc = time.time()    \n",
    "    print(\"%5s: %3.3f ± %3.3f    %.1fs\" % (name, results[name].mean(), results[name].std(), toc - tic))\n",
    "    \n",
    "results = pd.DataFrame(results)\n",
    "sns.boxplot(results);"
   ],
   "id": "6cf5e19c77e87323",
   "outputs": [
    {
     "name": "stderr",
     "output_type": "stream",
     "text": [
      "/home/ergot/miniforge3/envs/ml/lib/python3.10/site-packages/sklearn/linear_model/_logistic.py:469: ConvergenceWarning: lbfgs failed to converge (status=1):\n",
      "STOP: TOTAL NO. of ITERATIONS REACHED LIMIT.\n",
      "\n",
      "Increase the number of iterations (max_iter) or scale the data as shown in:\n",
      "    https://scikit-learn.org/stable/modules/preprocessing.html\n",
      "Please also refer to the documentation for alternative solver options:\n",
      "    https://scikit-learn.org/stable/modules/linear_model.html#logistic-regression\n",
      "  n_iter_i = _check_optimize_result(\n",
      "/home/ergot/miniforge3/envs/ml/lib/python3.10/site-packages/sklearn/linear_model/_logistic.py:469: ConvergenceWarning: lbfgs failed to converge (status=1):\n",
      "STOP: TOTAL NO. of ITERATIONS REACHED LIMIT.\n",
      "\n",
      "Increase the number of iterations (max_iter) or scale the data as shown in:\n",
      "    https://scikit-learn.org/stable/modules/preprocessing.html\n",
      "Please also refer to the documentation for alternative solver options:\n",
      "    https://scikit-learn.org/stable/modules/linear_model.html#logistic-regression\n",
      "  n_iter_i = _check_optimize_result(\n",
      "/home/ergot/miniforge3/envs/ml/lib/python3.10/site-packages/sklearn/linear_model/_logistic.py:469: ConvergenceWarning: lbfgs failed to converge (status=1):\n",
      "STOP: TOTAL NO. of ITERATIONS REACHED LIMIT.\n",
      "\n",
      "Increase the number of iterations (max_iter) or scale the data as shown in:\n",
      "    https://scikit-learn.org/stable/modules/preprocessing.html\n",
      "Please also refer to the documentation for alternative solver options:\n",
      "    https://scikit-learn.org/stable/modules/linear_model.html#logistic-regression\n",
      "  n_iter_i = _check_optimize_result(\n",
      "/home/ergot/miniforge3/envs/ml/lib/python3.10/site-packages/sklearn/linear_model/_logistic.py:469: ConvergenceWarning: lbfgs failed to converge (status=1):\n",
      "STOP: TOTAL NO. of ITERATIONS REACHED LIMIT.\n",
      "\n",
      "Increase the number of iterations (max_iter) or scale the data as shown in:\n",
      "    https://scikit-learn.org/stable/modules/preprocessing.html\n",
      "Please also refer to the documentation for alternative solver options:\n",
      "    https://scikit-learn.org/stable/modules/linear_model.html#logistic-regression\n",
      "  n_iter_i = _check_optimize_result(\n",
      "/home/ergot/miniforge3/envs/ml/lib/python3.10/site-packages/sklearn/linear_model/_logistic.py:469: ConvergenceWarning: lbfgs failed to converge (status=1):\n",
      "STOP: TOTAL NO. of ITERATIONS REACHED LIMIT.\n",
      "\n",
      "Increase the number of iterations (max_iter) or scale the data as shown in:\n",
      "    https://scikit-learn.org/stable/modules/preprocessing.html\n",
      "Please also refer to the documentation for alternative solver options:\n",
      "    https://scikit-learn.org/stable/modules/linear_model.html#logistic-regression\n",
      "  n_iter_i = _check_optimize_result(\n"
     ]
    },
    {
     "name": "stdout",
     "output_type": "stream",
     "text": [
      "   LR: 0.862 ± 0.006    10.1s\n",
      "Ridge: 0.787 ± 0.009    8.0s\n",
      "   DT: 0.752 ± 0.018    26.4s\n",
      "  KNN: 0.851 ± 0.009    1.0s\n",
      "  SVC: 0.887 ± 0.012    100.7s\n",
      "   RF: 0.899 ± 0.009    3.7s\n",
      "  XGB: 0.901 ± 0.008    25.5s\n",
      "   CB: 0.900 ± 0.011    229.6s\n",
      "  LGB: 0.903 ± 0.011    15.8s\n"
     ]
    },
    {
     "data": {
      "text/plain": [
       "<Figure size 640x480 with 1 Axes>"
      ],
      "image/png": "[encoded data removed]"
     },
     "metadata": {},
     "output_type": "display_data"
    }
   ],
   "execution_count": 19
  },
  {
   "metadata": {
    "ExecuteTime": {
     "end_time": "2024-09-05T18:48:38.803143Z",
     "start_time": "2024-09-05T18:45:27.132167Z"
    }
   },
   "cell_type": "code",
   "source": [
    "X_train = pd.read_csv('../data/processed/X_train_2.csv.zip', index_col=0)\n",
    "y_train = pd.read_csv('../data/processed/y_train_2.csv', index_col=0)\n",
    "\n",
    "results = {}\n",
    "\n",
    "for name in models.keys():\n",
    "    tic = time.time()\n",
    "    \n",
    "    FPS_OFFSET = get_fps_offset(X_train.columns)\n",
    "    scaler = OffsetScaler(offset=FPS_OFFSET)\n",
    "    X_train_scale = scaler.fit_transform(X_train.values)\n",
    "    \n",
    "    model = models[name]\n",
    "    kfold = KFold(n_splits=5, shuffle=True, random_state=RANDOM_SEED)\n",
    "    results[name] = cross_val_score(model, X_train_scale, y_train, cv=kfold, scoring='roc_auc')\n",
    "    \n",
    "    toc = time.time()    \n",
    "    print(\"%5s: %3.3f ± %3.3f    %.1fs\" % (name, results[name].mean(), results[name].std(), toc - tic))\n",
    "    \n",
    "results = pd.DataFrame(results)\n",
    "sns.boxplot(results);"
   ],
   "id": "c266654dd92a287e",
   "outputs": [
    {
     "name": "stderr",
     "output_type": "stream",
     "text": [
      "/home/ergot/miniforge3/envs/ml/lib/python3.10/site-packages/sklearn/linear_model/_logistic.py:469: ConvergenceWarning: lbfgs failed to converge (status=1):\n",
      "STOP: TOTAL NO. of ITERATIONS REACHED LIMIT.\n",
      "\n",
      "Increase the number of iterations (max_iter) or scale the data as shown in:\n",
      "    https://scikit-learn.org/stable/modules/preprocessing.html\n",
      "Please also refer to the documentation for alternative solver options:\n",
      "    https://scikit-learn.org/stable/modules/linear_model.html#logistic-regression\n",
      "  n_iter_i = _check_optimize_result(\n",
      "/home/ergot/miniforge3/envs/ml/lib/python3.10/site-packages/sklearn/linear_model/_logistic.py:469: ConvergenceWarning: lbfgs failed to converge (status=1):\n",
      "STOP: TOTAL NO. of ITERATIONS REACHED LIMIT.\n",
      "\n",
      "Increase the number of iterations (max_iter) or scale the data as shown in:\n",
      "    https://scikit-learn.org/stable/modules/preprocessing.html\n",
      "Please also refer to the documentation for alternative solver options:\n",
      "    https://scikit-learn.org/stable/modules/linear_model.html#logistic-regression\n",
      "  n_iter_i = _check_optimize_result(\n",
      "/home/ergot/miniforge3/envs/ml/lib/python3.10/site-packages/sklearn/linear_model/_logistic.py:469: ConvergenceWarning: lbfgs failed to converge (status=1):\n",
      "STOP: TOTAL NO. of ITERATIONS REACHED LIMIT.\n",
      "\n",
      "Increase the number of iterations (max_iter) or scale the data as shown in:\n",
      "    https://scikit-learn.org/stable/modules/preprocessing.html\n",
      "Please also refer to the documentation for alternative solver options:\n",
      "    https://scikit-learn.org/stable/modules/linear_model.html#logistic-regression\n",
      "  n_iter_i = _check_optimize_result(\n",
      "/home/ergot/miniforge3/envs/ml/lib/python3.10/site-packages/sklearn/linear_model/_logistic.py:469: ConvergenceWarning: lbfgs failed to converge (status=1):\n",
      "STOP: TOTAL NO. of ITERATIONS REACHED LIMIT.\n",
      "\n",
      "Increase the number of iterations (max_iter) or scale the data as shown in:\n",
      "    https://scikit-learn.org/stable/modules/preprocessing.html\n",
      "Please also refer to the documentation for alternative solver options:\n",
      "    https://scikit-learn.org/stable/modules/linear_model.html#logistic-regression\n",
      "  n_iter_i = _check_optimize_result(\n",
      "/home/ergot/miniforge3/envs/ml/lib/python3.10/site-packages/sklearn/linear_model/_logistic.py:469: ConvergenceWarning: lbfgs failed to converge (status=1):\n",
      "STOP: TOTAL NO. of ITERATIONS REACHED LIMIT.\n",
      "\n",
      "Increase the number of iterations (max_iter) or scale the data as shown in:\n",
      "    https://scikit-learn.org/stable/modules/preprocessing.html\n",
      "Please also refer to the documentation for alternative solver options:\n",
      "    https://scikit-learn.org/stable/modules/linear_model.html#logistic-regression\n",
      "  n_iter_i = _check_optimize_result(\n"
     ]
    },
    {
     "name": "stdout",
     "output_type": "stream",
     "text": [
      "   LR: 0.738 ± 0.039    0.8s\n",
      "Ridge: 0.680 ± 0.052    0.6s\n",
      "   DT: 0.623 ± 0.053    8.8s\n",
      "  KNN: 0.689 ± 0.028    0.2s\n",
      "  SVC: 0.770 ± 0.044    5.7s\n",
      "   RF: 0.778 ± 0.022    1.9s\n",
      "  XGB: 0.766 ± 0.035    10.9s\n",
      "   CB: 0.784 ± 0.027    154.6s\n",
      "[LightGBM] [Warning] No further splits with positive gain, best gain: -inf\n",
      "[LightGBM] [Warning] No further splits with positive gain, best gain: -inf\n",
      "[LightGBM] [Warning] No further splits with positive gain, best gain: -inf\n",
      "[LightGBM] [Warning] No further splits with positive gain, best gain: -inf\n",
      "[LightGBM] [Warning] No further splits with positive gain, best gain: -inf\n",
      "  LGB: 0.774 ± 0.044    8.1s\n"
     ]
    },
    {
     "data": {
      "text/plain": [
       "<Figure size 640x480 with 1 Axes>"
      ],
      "image/png": "[encoded data removed]"
     },
     "metadata": {},
     "output_type": "display_data"
    }
   ],
   "execution_count": 22
  },
  {
   "metadata": {
    "ExecuteTime": {
     "end_time": "2024-09-05T18:26:41.850999Z",
     "start_time": "2024-09-05T18:20:29.837532Z"
    }
   },
   "cell_type": "code",
   "source": [
    "X_train = pd.read_csv('../data/processed/X_train_3.csv.zip', index_col=0)\n",
    "y_train = pd.read_csv('../data/processed/y_train_3.csv', index_col=0)\n",
    "\n",
    "results = {}\n",
    "\n",
    "for name in models.keys():\n",
    "    tic = time.time()\n",
    "    \n",
    "    FPS_OFFSET = get_fps_offset(X_train.columns)\n",
    "    scaler = OffsetScaler(offset=FPS_OFFSET)\n",
    "    X_train_scale = scaler.fit_transform(X_train.values)\n",
    "    \n",
    "    model = models[name]\n",
    "    kfold = KFold(n_splits=5, shuffle=True, random_state=RANDOM_SEED)\n",
    "    results[name] = cross_val_score(model, X_train_scale, y_train, cv=kfold, scoring='roc_auc')\n",
    "    \n",
    "    toc = time.time()    \n",
    "    print(\"%5s: %3.3f ± %3.3f    %.1fs\" % (name, results[name].mean(), results[name].std(), toc - tic))\n",
    "    \n",
    "results = pd.DataFrame(results)\n",
    "sns.boxplot(results);"
   ],
   "id": "db5c17ebd671435b",
   "outputs": [
    {
     "name": "stderr",
     "output_type": "stream",
     "text": [
      "/home/ergot/miniforge3/envs/ml/lib/python3.10/site-packages/sklearn/linear_model/_logistic.py:469: ConvergenceWarning: lbfgs failed to converge (status=1):\n",
      "STOP: TOTAL NO. of ITERATIONS REACHED LIMIT.\n",
      "\n",
      "Increase the number of iterations (max_iter) or scale the data as shown in:\n",
      "    https://scikit-learn.org/stable/modules/preprocessing.html\n",
      "Please also refer to the documentation for alternative solver options:\n",
      "    https://scikit-learn.org/stable/modules/linear_model.html#logistic-regression\n",
      "  n_iter_i = _check_optimize_result(\n",
      "/home/ergot/miniforge3/envs/ml/lib/python3.10/site-packages/sklearn/linear_model/_logistic.py:469: ConvergenceWarning: lbfgs failed to converge (status=1):\n",
      "STOP: TOTAL NO. of ITERATIONS REACHED LIMIT.\n",
      "\n",
      "Increase the number of iterations (max_iter) or scale the data as shown in:\n",
      "    https://scikit-learn.org/stable/modules/preprocessing.html\n",
      "Please also refer to the documentation for alternative solver options:\n",
      "    https://scikit-learn.org/stable/modules/linear_model.html#logistic-regression\n",
      "  n_iter_i = _check_optimize_result(\n",
      "/home/ergot/miniforge3/envs/ml/lib/python3.10/site-packages/sklearn/linear_model/_logistic.py:469: ConvergenceWarning: lbfgs failed to converge (status=1):\n",
      "STOP: TOTAL NO. of ITERATIONS REACHED LIMIT.\n",
      "\n",
      "Increase the number of iterations (max_iter) or scale the data as shown in:\n",
      "    https://scikit-learn.org/stable/modules/preprocessing.html\n",
      "Please also refer to the documentation for alternative solver options:\n",
      "    https://scikit-learn.org/stable/modules/linear_model.html#logistic-regression\n",
      "  n_iter_i = _check_optimize_result(\n",
      "/home/ergot/miniforge3/envs/ml/lib/python3.10/site-packages/sklearn/linear_model/_logistic.py:469: ConvergenceWarning: lbfgs failed to converge (status=1):\n",
      "STOP: TOTAL NO. of ITERATIONS REACHED LIMIT.\n",
      "\n",
      "Increase the number of iterations (max_iter) or scale the data as shown in:\n",
      "    https://scikit-learn.org/stable/modules/preprocessing.html\n",
      "Please also refer to the documentation for alternative solver options:\n",
      "    https://scikit-learn.org/stable/modules/linear_model.html#logistic-regression\n",
      "  n_iter_i = _check_optimize_result(\n",
      "/home/ergot/miniforge3/envs/ml/lib/python3.10/site-packages/sklearn/linear_model/_logistic.py:469: ConvergenceWarning: lbfgs failed to converge (status=1):\n",
      "STOP: TOTAL NO. of ITERATIONS REACHED LIMIT.\n",
      "\n",
      "Increase the number of iterations (max_iter) or scale the data as shown in:\n",
      "    https://scikit-learn.org/stable/modules/preprocessing.html\n",
      "Please also refer to the documentation for alternative solver options:\n",
      "    https://scikit-learn.org/stable/modules/linear_model.html#logistic-regression\n",
      "  n_iter_i = _check_optimize_result(\n"
     ]
    },
    {
     "name": "stdout",
     "output_type": "stream",
     "text": [
      "   LR: 0.903 ± 0.011    1.0s\n",
      "Ridge: 0.846 ± 0.019    0.5s\n",
      "   DT: 0.797 ± 0.014    9.9s\n",
      "  KNN: 0.878 ± 0.034    0.2s\n",
      "  SVC: 0.912 ± 0.014    6.1s\n",
      "   RF: 0.922 ± 0.024    2.1s\n",
      "  XGB: 0.915 ± 0.014    14.4s\n",
      "   CB: 0.925 ± 0.018    326.7s\n",
      "[LightGBM] [Warning] No further splits with positive gain, best gain: -inf\n",
      "[LightGBM] [Warning] No further splits with positive gain, best gain: -inf\n",
      "[LightGBM] [Warning] No further splits with positive gain, best gain: -inf\n",
      "[LightGBM] [Warning] No further splits with positive gain, best gain: -inf\n",
      "  LGB: 0.916 ± 0.017    10.9s\n"
     ]
    },
    {
     "data": {
      "text/plain": [
       "<Figure size 640x480 with 1 Axes>"
      ],
      "image/png": "[encoded data removed]"
     },
     "metadata": {},
     "output_type": "display_data"
    }
   ],
   "execution_count": 21
  }
 ],
 "metadata": {
  "kernelspec": {
   "display_name": "ml",
   "language": "python",
   "name": "ml"
  },
  "language_info": {
   "codemirror_mode": {
    "name": "ipython",
    "version": 2
   },
   "file_extension": ".py",
   "mimetype": "text/x-python",
   "name": "python",
   "nbconvert_exporter": "python",
   "pygments_lexer": "ipython2",
   "version": "2.7.6"
  }
 },
 "nbformat": 4,
 "nbformat_minor": 5
}
