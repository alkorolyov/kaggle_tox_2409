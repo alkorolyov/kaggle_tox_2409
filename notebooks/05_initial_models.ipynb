{
 "cells": [
  {
   "metadata": {
    "ExecuteTime": {
     "end_time": "2024-09-08T12:52:01.003104Z",
     "start_time": "2024-09-08T12:52:00.752106Z"
    }
   },
   "cell_type": "code",
   "source": [
    "%load_ext autoreload\n",
    "%autoreload 2\n",
    "\n",
    "import sys\n",
    "sys.path.append('..')"
   ],
   "id": "b7a595a23620cf6b",
   "outputs": [
    {
     "name": "stdout",
     "output_type": "stream",
     "text": [
      "The autoreload extension is already loaded. To reload it, use:\n",
      "  %reload_ext autoreload\n"
     ]
    }
   ],
   "execution_count": 2
  },
  {
   "metadata": {
    "ExecuteTime": {
     "end_time": "2024-09-08T12:52:01.161110Z",
     "start_time": "2024-09-08T12:52:01.021108Z"
    }
   },
   "cell_type": "code",
   "source": [
    "import warnings\n",
    "from sklearn.exceptions import ConvergenceWarning\n",
    "\n",
    "warnings.filterwarnings('ignore', category=ConvergenceWarning)"
   ],
   "id": "32a8cc17b966cad6",
   "outputs": [],
   "execution_count": 3
  },
  {
   "cell_type": "code",
   "id": "initial_id",
   "metadata": {
    "collapsed": true,
    "ExecuteTime": {
     "end_time": "2024-09-08T12:52:02.073109Z",
     "start_time": "2024-09-08T12:52:01.179109Z"
    }
   },
   "source": [
    "import time\n",
    "\n",
    "import numpy as np\n",
    "import pandas as pd\n",
    "\n",
    "from sklearn.linear_model import RidgeClassifier, LogisticRegression\n",
    "from sklearn.tree import DecisionTreeClassifier\n",
    "from sklearn.ensemble import RandomForestClassifier, HistGradientBoostingClassifier\n",
    "from sklearn.svm import SVC\n",
    "from sklearn.neighbors import KNeighborsClassifier\n",
    "from src.utils import eval_model, scale\n",
    "import xgboost as xgb\n",
    "import catboost as cb\n",
    "import lightgbm as lgb\n",
    "import seaborn as sns\n",
    "\n",
    "\n",
    "mae = 'neg_mean_absolute_error'\n",
    "mse = 'neg_mean_squared_error'\n",
    "rmse = 'neg_root_mean_squared_error'\n",
    "roc_auc = 'neg_roc_auc_score'\n",
    "N_JOBS = 24\n",
    "RANDOM_SEED = 42\n",
    "\n",
    "# prepare models\n",
    "models = {}\n",
    "\n",
    "# models['LR'] = LogisticRegression()\n",
    "# \n",
    "# models['Ridge'] = RidgeClassifier()\n",
    "# \n",
    "# models['DT'] = DecisionTreeClassifier(random_state=RANDOM_SEED)\n",
    "\n",
    "# models['Lasso'] = Lass()\n",
    "\n",
    "# models['KNN'] = KNeighborsClassifier(n_jobs=N_JOBS)\n",
    "\n",
    "# models['SVC'] = SVC()\n",
    "\n",
    "models['RF'] = RandomForestClassifier(random_state=RANDOM_SEED, n_jobs=N_JOBS)\n",
    "\n",
    "models['HistGB'] = HistGradientBoostingClassifier(random_state=RANDOM_SEED)\n",
    "\n",
    "models['XGB'] = xgb.XGBClassifier(random_state=RANDOM_SEED, n_jobs=N_JOBS, verbosity=0,)\n",
    "\n",
    "models['XGB_GPU'] = xgb.XGBClassifier(random_state=RANDOM_SEED, n_jobs=N_JOBS, verbosity=0, device = \"cuda\") \n",
    "                                  # tree_method='gpu_hist', predictor='gpu_predictor')\n",
    "\n",
    "# models['CB'] = cb.CatBoostClassifier(iterations=400, random_seed=RANDOM_SEED, thread_count=N_JOBS, verbose=False)\n",
    "# \n",
    "# models['CB_GPU'] = cb.CatBoostClassifier(iterations=400, random_seed=RANDOM_SEED, thread_count=N_JOBS, verbose=False, task_type=\"GPU\")\n",
    "\n",
    "models['LGB'] = lgb.LGBMClassifier(random_state=RANDOM_SEED, n_jobs=N_JOBS, verbose=-1)"
   ],
   "outputs": [],
   "execution_count": 4
  },
  {
   "metadata": {},
   "cell_type": "markdown",
   "source": "# Stacked datasets",
   "id": "1658f8ee276ebf9c"
  },
  {
   "metadata": {
    "ExecuteTime": {
     "end_time": "2024-09-08T12:52:56.896552Z",
     "start_time": "2024-09-08T12:52:54.678018Z"
    }
   },
   "cell_type": "code",
   "source": [
    "X = pd.read_pickle('../data/processed/X_train_all.pkl.zip')\n",
    "# X = pd.read_pickle('../data/processed/X_train.pkl.zip')\n",
    "y = pd.read_pickle('../data/processed/y_train.pkl')"
   ],
   "id": "f7411c91b4ddb77b",
   "outputs": [],
   "execution_count": 6
  },
  {
   "metadata": {
    "ExecuteTime": {
     "end_time": "2024-09-08T11:54:42.537430Z",
     "start_time": "2024-09-08T11:41:00.707192Z"
    }
   },
   "cell_type": "code",
   "source": [
    "results = {}\n",
    "\n",
    "for name, model in models.items():\n",
    "    # X = scale(X)\n",
    "    \n",
    "    results[name] = eval_model(name, model, X, y)\n",
    "    \n",
    "results = pd.DataFrame(results)\n",
    "sns.boxplot(results);"
   ],
   "id": "27bc7a20bd6a35a1",
   "outputs": [
    {
     "name": "stdout",
     "output_type": "stream",
     "text": [
      "RF              0.8631    (0.870 ± 0.007)    12.5s\n",
      "HistGB          0.8976    (0.905 ± 0.008)    334.0s\n",
      "XGB             0.8944    (0.901 ± 0.007)    188.6s\n",
      "XGB_GPU         0.8962    (0.901 ± 0.005)    112.2s\n",
      "LGB             0.8979    (0.907 ± 0.009)    172.1s\n"
     ]
    },
    {
     "data": {
      "text/plain": [
       "<Figure size 640x480 with 1 Axes>"
      ],
      "image/png": "[encoded data removed]"
     },
     "metadata": {},
     "output_type": "display_data"
    }
   ],
   "execution_count": 36
  },
  {
   "metadata": {
    "ExecuteTime": {
     "end_time": "2024-09-08T13:34:41.228486Z",
     "start_time": "2024-09-08T13:34:23.665255Z"
    }
   },
   "cell_type": "code",
   "source": [
    "clf = xgb.XGBClassifier(random_state=RANDOM_SEED, verbosity=0, device = \"cuda\")\n",
    "clf.fit(X, y)"
   ],
   "id": "d94977df3bc1f36f",
   "outputs": [
    {
     "data": {
      "text/plain": [
       "XGBClassifier(base_score=None, booster=None, callbacks=None,\n",
       "              colsample_bylevel=None, colsample_bynode=None,\n",
       "              colsample_bytree=None, device='cuda', early_stopping_rounds=None,\n",
       "              enable_categorical=False, eval_metric=None, feature_types=None,\n",
       "              gamma=None, grow_policy=None, importance_type=None,\n",
       "              interaction_constraints=None, learning_rate=None, max_bin=None,\n",
       "              max_cat_threshold=None, max_cat_to_onehot=None,\n",
       "              max_delta_step=None, max_depth=None, max_leaves=None,\n",
       "              min_child_weight=None, missing=nan, monotone_constraints=None,\n",
       "              multi_strategy=None, n_estimators=None, n_jobs=None,\n",
       "              num_parallel_tree=None, random_state=42, ...)"
      ],
      "text/html": [
       "<style>#sk-container-id-2 {\n",
       "  /* Definition of color scheme common for light and dark mode */\n",
       "  --sklearn-color-text: black;\n",
       "  --sklearn-color-line: gray;\n",
       "  /* Definition of color scheme for unfitted estimators */\n",
       "  --sklearn-color-unfitted-level-0: #fff5e6;\n",
       "  --sklearn-color-unfitted-level-1: #f6e4d2;\n",
       "  --sklearn-color-unfitted-level-2: #ffe0b3;\n",
       "  --sklearn-color-unfitted-level-3: chocolate;\n",
       "  /* Definition of color scheme for fitted estimators */\n",
       "  --sklearn-color-fitted-level-0: #f0f8ff;\n",
       "  --sklearn-color-fitted-level-1: #d4ebff;\n",
       "  --sklearn-color-fitted-level-2: #b3dbfd;\n",
       "  --sklearn-color-fitted-level-3: cornflowerblue;\n",
       "\n",
       "  /* Specific color for light theme */\n",
       "  --sklearn-color-text-on-default-background: var(--sg-text-color, var(--theme-code-foreground, var(--jp-content-font-color1, black)));\n",
       "  --sklearn-color-background: var(--sg-background-color, var(--theme-background, var(--jp-layout-color0, white)));\n",
       "  --sklearn-color-border-box: var(--sg-text-color, var(--theme-code-foreground, var(--jp-content-font-color1, black)));\n",
       "  --sklearn-color-icon: #696969;\n",
       "\n",
       "  @media (prefers-color-scheme: dark) {\n",
       "    /* Redefinition of color scheme for dark theme */\n",
       "    --sklearn-color-text-on-default-background: var(--sg-text-color, var(--theme-code-foreground, var(--jp-content-font-color1, white)));\n",
       "    --sklearn-color-background: var(--sg-background-color, var(--theme-background, var(--jp-layout-color0, #111)));\n",
       "    --sklearn-color-border-box: var(--sg-text-color, var(--theme-code-foreground, var(--jp-content-font-color1, white)));\n",
       "    --sklearn-color-icon: #878787;\n",
       "  }\n",
       "}\n",
       "\n",
       "#sk-container-id-2 {\n",
       "  color: var(--sklearn-color-text);\n",
       "}\n",
       "\n",
       "#sk-container-id-2 pre {\n",
       "  padding: 0;\n",
       "}\n",
       "\n",
       "#sk-container-id-2 input.sk-hidden--visually {\n",
       "  border: 0;\n",
       "  clip: rect(1px 1px 1px 1px);\n",
       "  clip: rect(1px, 1px, 1px, 1px);\n",
       "  height: 1px;\n",
       "  margin: -1px;\n",
       "  overflow: hidden;\n",
       "  padding: 0;\n",
       "  position: absolute;\n",
       "  width: 1px;\n",
       "}\n",
       "\n",
       "#sk-container-id-2 div.sk-dashed-wrapped {\n",
       "  border: 1px dashed var(--sklearn-color-line);\n",
       "  margin: 0 0.4em 0.5em 0.4em;\n",
       "  box-sizing: border-box;\n",
       "  padding-bottom: 0.4em;\n",
       "  background-color: var(--sklearn-color-background);\n",
       "}\n",
       "\n",
       "#sk-container-id-2 div.sk-container {\n",
       "  /* jupyter's `normalize.less` sets `[hidden] { display: none; }`\n",
       "     but bootstrap.min.css set `[hidden] { display: none !important; }`\n",
       "     so we also need the `!important` here to be able to override the\n",
       "     default hidden behavior on the sphinx rendered scikit-learn.org.\n",
       "     See: https://github.com/scikit-learn/scikit-learn/issues/21755 */\n",
       "  display: inline-block !important;\n",
       "  position: relative;\n",
       "}\n",
       "\n",
       "#sk-container-id-2 div.sk-text-repr-fallback {\n",
       "  display: none;\n",
       "}\n",
       "\n",
       "div.sk-parallel-item,\n",
       "div.sk-serial,\n",
       "div.sk-item {\n",
       "  /* draw centered vertical line to link estimators */\n",
       "  background-image: linear-gradient(var(--sklearn-color-text-on-default-background), var(--sklearn-color-text-on-default-background));\n",
       "  background-size: 2px 100%;\n",
       "  background-repeat: no-repeat;\n",
       "  background-position: center center;\n",
       "}\n",
       "\n",
       "/* Parallel-specific style estimator block */\n",
       "\n",
       "#sk-container-id-2 div.sk-parallel-item::after {\n",
       "  content: \"\";\n",
       "  width: 100%;\n",
       "  border-bottom: 2px solid var(--sklearn-color-text-on-default-background);\n",
       "  flex-grow: 1;\n",
       "}\n",
       "\n",
       "#sk-container-id-2 div.sk-parallel {\n",
       "  display: flex;\n",
       "  align-items: stretch;\n",
       "  justify-content: center;\n",
       "  background-color: var(--sklearn-color-background);\n",
       "  position: relative;\n",
       "}\n",
       "\n",
       "#sk-container-id-2 div.sk-parallel-item {\n",
       "  display: flex;\n",
       "  flex-direction: column;\n",
       "}\n",
       "\n",
       "#sk-container-id-2 div.sk-parallel-item:first-child::after {\n",
       "  align-self: flex-end;\n",
       "  width: 50%;\n",
       "}\n",
       "\n",
       "#sk-container-id-2 div.sk-parallel-item:last-child::after {\n",
       "  align-self: flex-start;\n",
       "  width: 50%;\n",
       "}\n",
       "\n",
       "#sk-container-id-2 div.sk-parallel-item:only-child::after {\n",
       "  width: 0;\n",
       "}\n",
       "\n",
       "/* Serial-specific style estimator block */\n",
       "\n",
       "#sk-container-id-2 div.sk-serial {\n",
       "  display: flex;\n",
       "  flex-direction: column;\n",
       "  align-items: center;\n",
       "  background-color: var(--sklearn-color-background);\n",
       "  padding-right: 1em;\n",
       "  padding-left: 1em;\n",
       "}\n",
       "\n",
       "\n",
       "/* Toggleable style: style used for estimator/Pipeline/ColumnTransformer box that is\n",
       "clickable and can be expanded/collapsed.\n",
       "- Pipeline and ColumnTransformer use this feature and define the default style\n",
       "- Estimators will overwrite some part of the style using the `sk-estimator` class\n",
       "*/\n",
       "\n",
       "/* Pipeline and ColumnTransformer style (default) */\n",
       "\n",
       "#sk-container-id-2 div.sk-toggleable {\n",
       "  /* Default theme specific background. It is overwritten whether we have a\n",
       "  specific estimator or a Pipeline/ColumnTransformer */\n",
       "  background-color: var(--sklearn-color-background);\n",
       "}\n",
       "\n",
       "/* Toggleable label */\n",
       "#sk-container-id-2 label.sk-toggleable__label {\n",
       "  cursor: pointer;\n",
       "  display: block;\n",
       "  width: 100%;\n",
       "  margin-bottom: 0;\n",
       "  padding: 0.5em;\n",
       "  box-sizing: border-box;\n",
       "  text-align: center;\n",
       "}\n",
       "\n",
       "#sk-container-id-2 label.sk-toggleable__label-arrow:before {\n",
       "  /* Arrow on the left of the label */\n",
       "  content: \"▸\";\n",
       "  float: left;\n",
       "  margin-right: 0.25em;\n",
       "  color: var(--sklearn-color-icon);\n",
       "}\n",
       "\n",
       "#sk-container-id-2 label.sk-toggleable__label-arrow:hover:before {\n",
       "  color: var(--sklearn-color-text);\n",
       "}\n",
       "\n",
       "/* Toggleable content - dropdown */\n",
       "\n",
       "#sk-container-id-2 div.sk-toggleable__content {\n",
       "  max-height: 0;\n",
       "  max-width: 0;\n",
       "  overflow: hidden;\n",
       "  text-align: left;\n",
       "  /* unfitted */\n",
       "  background-color: var(--sklearn-color-unfitted-level-0);\n",
       "}\n",
       "\n",
       "#sk-container-id-2 div.sk-toggleable__content.fitted {\n",
       "  /* fitted */\n",
       "  background-color: var(--sklearn-color-fitted-level-0);\n",
       "}\n",
       "\n",
       "#sk-container-id-2 div.sk-toggleable__content pre {\n",
       "  margin: 0.2em;\n",
       "  border-radius: 0.25em;\n",
       "  color: var(--sklearn-color-text);\n",
       "  /* unfitted */\n",
       "  background-color: var(--sklearn-color-unfitted-level-0);\n",
       "}\n",
       "\n",
       "#sk-container-id-2 div.sk-toggleable__content.fitted pre {\n",
       "  /* unfitted */\n",
       "  background-color: var(--sklearn-color-fitted-level-0);\n",
       "}\n",
       "\n",
       "#sk-container-id-2 input.sk-toggleable__control:checked~div.sk-toggleable__content {\n",
       "  /* Expand drop-down */\n",
       "  max-height: 200px;\n",
       "  max-width: 100%;\n",
       "  overflow: auto;\n",
       "}\n",
       "\n",
       "#sk-container-id-2 input.sk-toggleable__control:checked~label.sk-toggleable__label-arrow:before {\n",
       "  content: \"▾\";\n",
       "}\n",
       "\n",
       "/* Pipeline/ColumnTransformer-specific style */\n",
       "\n",
       "#sk-container-id-2 div.sk-label input.sk-toggleable__control:checked~label.sk-toggleable__label {\n",
       "  color: var(--sklearn-color-text);\n",
       "  background-color: var(--sklearn-color-unfitted-level-2);\n",
       "}\n",
       "\n",
       "#sk-container-id-2 div.sk-label.fitted input.sk-toggleable__control:checked~label.sk-toggleable__label {\n",
       "  background-color: var(--sklearn-color-fitted-level-2);\n",
       "}\n",
       "\n",
       "/* Estimator-specific style */\n",
       "\n",
       "/* Colorize estimator box */\n",
       "#sk-container-id-2 div.sk-estimator input.sk-toggleable__control:checked~label.sk-toggleable__label {\n",
       "  /* unfitted */\n",
       "  background-color: var(--sklearn-color-unfitted-level-2);\n",
       "}\n",
       "\n",
       "#sk-container-id-2 div.sk-estimator.fitted input.sk-toggleable__control:checked~label.sk-toggleable__label {\n",
       "  /* fitted */\n",
       "  background-color: var(--sklearn-color-fitted-level-2);\n",
       "}\n",
       "\n",
       "#sk-container-id-2 div.sk-label label.sk-toggleable__label,\n",
       "#sk-container-id-2 div.sk-label label {\n",
       "  /* The background is the default theme color */\n",
       "  color: var(--sklearn-color-text-on-default-background);\n",
       "}\n",
       "\n",
       "/* On hover, darken the color of the background */\n",
       "#sk-container-id-2 div.sk-label:hover label.sk-toggleable__label {\n",
       "  color: var(--sklearn-color-text);\n",
       "  background-color: var(--sklearn-color-unfitted-level-2);\n",
       "}\n",
       "\n",
       "/* Label box, darken color on hover, fitted */\n",
       "#sk-container-id-2 div.sk-label.fitted:hover label.sk-toggleable__label.fitted {\n",
       "  color: var(--sklearn-color-text);\n",
       "  background-color: var(--sklearn-color-fitted-level-2);\n",
       "}\n",
       "\n",
       "/* Estimator label */\n",
       "\n",
       "#sk-container-id-2 div.sk-label label {\n",
       "  font-family: monospace;\n",
       "  font-weight: bold;\n",
       "  display: inline-block;\n",
       "  line-height: 1.2em;\n",
       "}\n",
       "\n",
       "#sk-container-id-2 div.sk-label-container {\n",
       "  text-align: center;\n",
       "}\n",
       "\n",
       "/* Estimator-specific */\n",
       "#sk-container-id-2 div.sk-estimator {\n",
       "  font-family: monospace;\n",
       "  border: 1px dotted var(--sklearn-color-border-box);\n",
       "  border-radius: 0.25em;\n",
       "  box-sizing: border-box;\n",
       "  margin-bottom: 0.5em;\n",
       "  /* unfitted */\n",
       "  background-color: var(--sklearn-color-unfitted-level-0);\n",
       "}\n",
       "\n",
       "#sk-container-id-2 div.sk-estimator.fitted {\n",
       "  /* fitted */\n",
       "  background-color: var(--sklearn-color-fitted-level-0);\n",
       "}\n",
       "\n",
       "/* on hover */\n",
       "#sk-container-id-2 div.sk-estimator:hover {\n",
       "  /* unfitted */\n",
       "  background-color: var(--sklearn-color-unfitted-level-2);\n",
       "}\n",
       "\n",
       "#sk-container-id-2 div.sk-estimator.fitted:hover {\n",
       "  /* fitted */\n",
       "  background-color: var(--sklearn-color-fitted-level-2);\n",
       "}\n",
       "\n",
       "/* Specification for estimator info (e.g. \"i\" and \"?\") */\n",
       "\n",
       "/* Common style for \"i\" and \"?\" */\n",
       "\n",
       ".sk-estimator-doc-link,\n",
       "a:link.sk-estimator-doc-link,\n",
       "a:visited.sk-estimator-doc-link {\n",
       "  float: right;\n",
       "  font-size: smaller;\n",
       "  line-height: 1em;\n",
       "  font-family: monospace;\n",
       "  background-color: var(--sklearn-color-background);\n",
       "  border-radius: 1em;\n",
       "  height: 1em;\n",
       "  width: 1em;\n",
       "  text-decoration: none !important;\n",
       "  margin-left: 1ex;\n",
       "  /* unfitted */\n",
       "  border: var(--sklearn-color-unfitted-level-1) 1pt solid;\n",
       "  color: var(--sklearn-color-unfitted-level-1);\n",
       "}\n",
       "\n",
       ".sk-estimator-doc-link.fitted,\n",
       "a:link.sk-estimator-doc-link.fitted,\n",
       "a:visited.sk-estimator-doc-link.fitted {\n",
       "  /* fitted */\n",
       "  border: var(--sklearn-color-fitted-level-1) 1pt solid;\n",
       "  color: var(--sklearn-color-fitted-level-1);\n",
       "}\n",
       "\n",
       "/* On hover */\n",
       "div.sk-estimator:hover .sk-estimator-doc-link:hover,\n",
       ".sk-estimator-doc-link:hover,\n",
       "div.sk-label-container:hover .sk-estimator-doc-link:hover,\n",
       ".sk-estimator-doc-link:hover {\n",
       "  /* unfitted */\n",
       "  background-color: var(--sklearn-color-unfitted-level-3);\n",
       "  color: var(--sklearn-color-background);\n",
       "  text-decoration: none;\n",
       "}\n",
       "\n",
       "div.sk-estimator.fitted:hover .sk-estimator-doc-link.fitted:hover,\n",
       ".sk-estimator-doc-link.fitted:hover,\n",
       "div.sk-label-container:hover .sk-estimator-doc-link.fitted:hover,\n",
       ".sk-estimator-doc-link.fitted:hover {\n",
       "  /* fitted */\n",
       "  background-color: var(--sklearn-color-fitted-level-3);\n",
       "  color: var(--sklearn-color-background);\n",
       "  text-decoration: none;\n",
       "}\n",
       "\n",
       "/* Span, style for the box shown on hovering the info icon */\n",
       ".sk-estimator-doc-link span {\n",
       "  display: none;\n",
       "  z-index: 9999;\n",
       "  position: relative;\n",
       "  font-weight: normal;\n",
       "  right: .2ex;\n",
       "  padding: .5ex;\n",
       "  margin: .5ex;\n",
       "  width: min-content;\n",
       "  min-width: 20ex;\n",
       "  max-width: 50ex;\n",
       "  color: var(--sklearn-color-text);\n",
       "  box-shadow: 2pt 2pt 4pt #999;\n",
       "  /* unfitted */\n",
       "  background: var(--sklearn-color-unfitted-level-0);\n",
       "  border: .5pt solid var(--sklearn-color-unfitted-level-3);\n",
       "}\n",
       "\n",
       ".sk-estimator-doc-link.fitted span {\n",
       "  /* fitted */\n",
       "  background: var(--sklearn-color-fitted-level-0);\n",
       "  border: var(--sklearn-color-fitted-level-3);\n",
       "}\n",
       "\n",
       ".sk-estimator-doc-link:hover span {\n",
       "  display: block;\n",
       "}\n",
       "\n",
       "/* \"?\"-specific style due to the `<a>` HTML tag */\n",
       "\n",
       "#sk-container-id-2 a.estimator_doc_link {\n",
       "  float: right;\n",
       "  font-size: 1rem;\n",
       "  line-height: 1em;\n",
       "  font-family: monospace;\n",
       "  background-color: var(--sklearn-color-background);\n",
       "  border-radius: 1rem;\n",
       "  height: 1rem;\n",
       "  width: 1rem;\n",
       "  text-decoration: none;\n",
       "  /* unfitted */\n",
       "  color: var(--sklearn-color-unfitted-level-1);\n",
       "  border: var(--sklearn-color-unfitted-level-1) 1pt solid;\n",
       "}\n",
       "\n",
       "#sk-container-id-2 a.estimator_doc_link.fitted {\n",
       "  /* fitted */\n",
       "  border: var(--sklearn-color-fitted-level-1) 1pt solid;\n",
       "  color: var(--sklearn-color-fitted-level-1);\n",
       "}\n",
       "\n",
       "/* On hover */\n",
       "#sk-container-id-2 a.estimator_doc_link:hover {\n",
       "  /* unfitted */\n",
       "  background-color: var(--sklearn-color-unfitted-level-3);\n",
       "  color: var(--sklearn-color-background);\n",
       "  text-decoration: none;\n",
       "}\n",
       "\n",
       "#sk-container-id-2 a.estimator_doc_link.fitted:hover {\n",
       "  /* fitted */\n",
       "  background-color: var(--sklearn-color-fitted-level-3);\n",
       "}\n",
       "</style><div id=\"sk-container-id-2\" class=\"sk-top-container\"><div class=\"sk-text-repr-fallback\"><pre>XGBClassifier(base_score=None, booster=None, callbacks=None,\n",
       "              colsample_bylevel=None, colsample_bynode=None,\n",
       "              colsample_bytree=None, device=&#x27;cuda&#x27;, early_stopping_rounds=None,\n",
       "              enable_categorical=False, eval_metric=None, feature_types=None,\n",
       "              gamma=None, grow_policy=None, importance_type=None,\n",
       "              interaction_constraints=None, learning_rate=None, max_bin=None,\n",
       "              max_cat_threshold=None, max_cat_to_onehot=None,\n",
       "              max_delta_step=None, max_depth=None, max_leaves=None,\n",
       "              min_child_weight=None, missing=nan, monotone_constraints=None,\n",
       "              multi_strategy=None, n_estimators=None, n_jobs=None,\n",
       "              num_parallel_tree=None, random_state=42, ...)</pre><b>In a Jupyter environment, please rerun this cell to show the HTML representation or trust the notebook. <br />On GitHub, the HTML representation is unable to render, please try loading this page with nbviewer.org.</b></div><div class=\"sk-container\" hidden><div class=\"sk-item\"><div class=\"sk-estimator fitted sk-toggleable\"><input class=\"sk-toggleable__control sk-hidden--visually\" id=\"sk-estimator-id-2\" type=\"checkbox\" checked><label for=\"sk-estimator-id-2\" class=\"sk-toggleable__label fitted sk-toggleable__label-arrow fitted\">&nbsp;XGBClassifier<span class=\"sk-estimator-doc-link fitted\">i<span>Fitted</span></span></label><div class=\"sk-toggleable__content fitted\"><pre>XGBClassifier(base_score=None, booster=None, callbacks=None,\n",
       "              colsample_bylevel=None, colsample_bynode=None,\n",
       "              colsample_bytree=None, device=&#x27;cuda&#x27;, early_stopping_rounds=None,\n",
       "              enable_categorical=False, eval_metric=None, feature_types=None,\n",
       "              gamma=None, grow_policy=None, importance_type=None,\n",
       "              interaction_constraints=None, learning_rate=None, max_bin=None,\n",
       "              max_cat_threshold=None, max_cat_to_onehot=None,\n",
       "              max_delta_step=None, max_depth=None, max_leaves=None,\n",
       "              min_child_weight=None, missing=nan, monotone_constraints=None,\n",
       "              multi_strategy=None, n_estimators=None, n_jobs=None,\n",
       "              num_parallel_tree=None, random_state=42, ...)</pre></div> </div></div></div></div>"
      ]
     },
     "execution_count": 32,
     "metadata": {},
     "output_type": "execute_result"
    }
   ],
   "execution_count": 32
  },
  {
   "metadata": {
    "ExecuteTime": {
     "end_time": "2024-09-08T12:53:28.965997Z",
     "start_time": "2024-09-08T12:53:27.012931Z"
    }
   },
   "cell_type": "code",
   "source": [
    "ids = clf.feature_importances_.argsort()[-50:].astype(int)\n",
    "eval_model('50', models['XGB_GPU'], X.iloc[:, ids], y);"
   ],
   "id": "c349418e2569980d",
   "outputs": [
    {
     "name": "stdout",
     "output_type": "stream",
     "text": [
      "50              0.8859    (0.894 ± 0.008)    1.8s\n"
     ]
    }
   ],
   "execution_count": 8
  },
  {
   "metadata": {
    "ExecuteTime": {
     "end_time": "2024-09-08T12:53:38.218030Z",
     "start_time": "2024-09-08T12:53:35.971759Z"
    }
   },
   "cell_type": "code",
   "source": [
    "ids = clf.feature_importances_.argsort()[-100:].astype(int)\n",
    "eval_model('100', models['XGB_GPU'], X.iloc[:, ids], y);"
   ],
   "id": "3ec277e0c89a3203",
   "outputs": [
    {
     "name": "stdout",
     "output_type": "stream",
     "text": [
      "100             0.8942    (0.902 ± 0.007)    2.1s\n"
     ]
    }
   ],
   "execution_count": 11
  },
  {
   "metadata": {
    "ExecuteTime": {
     "end_time": "2024-09-08T12:53:34.573398Z",
     "start_time": "2024-09-08T12:53:31.360094Z"
    }
   },
   "cell_type": "code",
   "source": [
    "ids = clf.feature_importances_.argsort()[-200:].astype(int)\n",
    "eval_model('200', models['XGB_GPU'], X.iloc[:, ids], y);"
   ],
   "id": "14e4dfa74c39ebc4",
   "outputs": [
    {
     "name": "stdout",
     "output_type": "stream",
     "text": [
      "200             0.8967    (0.906 ± 0.009)    3.1s\n"
     ]
    }
   ],
   "execution_count": 10
  },
  {
   "metadata": {
    "ExecuteTime": {
     "end_time": "2024-09-08T12:53:45.306530Z",
     "start_time": "2024-09-08T12:53:40.248676Z"
    }
   },
   "cell_type": "code",
   "source": [
    "ids = clf.feature_importances_.argsort()[-400:].astype(int)\n",
    "eval_model('400', models['XGB_GPU'], X.iloc[:, ids], y);"
   ],
   "id": "311403f14f9bde8b",
   "outputs": [
    {
     "name": "stdout",
     "output_type": "stream",
     "text": [
      "400             0.8992    (0.907 ± 0.008)    4.9s\n"
     ]
    }
   ],
   "execution_count": 12
  },
  {
   "metadata": {
    "ExecuteTime": {
     "end_time": "2024-09-08T12:55:34.220288Z",
     "start_time": "2024-09-08T12:55:27.505205Z"
    }
   },
   "cell_type": "code",
   "source": [
    "ids = clf.feature_importances_.argsort()[-600:].astype(int)\n",
    "eval_model('400', models['XGB_GPU'], X.iloc[:, ids], y);"
   ],
   "id": "896418609d0c248",
   "outputs": [
    {
     "name": "stdout",
     "output_type": "stream",
     "text": [
      "400             0.9033    (0.908 ± 0.005)    6.6s\n"
     ]
    }
   ],
   "execution_count": 18
  },
  {
   "metadata": {
    "ExecuteTime": {
     "end_time": "2024-09-08T13:34:58.410042Z",
     "start_time": "2024-09-08T13:34:49.585797Z"
    }
   },
   "cell_type": "code",
   "source": [
    "ids = clf.feature_importances_.argsort()[-800:].astype(int)\n",
    "eval_model('800', models['XGB_GPU'], X.iloc[:, ids], y);"
   ],
   "id": "4b5fcfadc9e6c514",
   "outputs": [
    {
     "name": "stdout",
     "output_type": "stream",
     "text": [
      "800             0.9063    (0.910 ± 0.003)    8.7s\n"
     ]
    }
   ],
   "execution_count": 33
  },
  {
   "metadata": {
    "ExecuteTime": {
     "end_time": "2024-09-08T12:54:15.226113Z",
     "start_time": "2024-09-08T12:54:02.461464Z"
    }
   },
   "cell_type": "code",
   "source": [
    "ids = clf.feature_importances_.argsort()[-1200:].astype(int)\n",
    "eval_model('1200', models['XGB_GPU'], X.iloc[:, ids], y);"
   ],
   "id": "70e566c1455eedfd",
   "outputs": [
    {
     "name": "stdout",
     "output_type": "stream",
     "text": [
      "1200            0.9040    (0.911 ± 0.007)    12.6s\n"
     ]
    }
   ],
   "execution_count": 14
  },
  {
   "metadata": {
    "ExecuteTime": {
     "end_time": "2024-09-08T12:54:31.504129Z",
     "start_time": "2024-09-08T12:54:15.322142Z"
    }
   },
   "cell_type": "code",
   "source": [
    "ids = clf.feature_importances_.argsort()[-1600:].astype(int)\n",
    "eval_model('1600', models['XGB_GPU'], X.iloc[:, ids], y);"
   ],
   "id": "c51d27779dcd9828",
   "outputs": [
    {
     "name": "stdout",
     "output_type": "stream",
     "text": [
      "1600            0.9036    (0.908 ± 0.004)    16.0s\n"
     ]
    }
   ],
   "execution_count": 15
  },
  {
   "metadata": {
    "ExecuteTime": {
     "end_time": "2024-09-08T12:54:54.054651Z",
     "start_time": "2024-09-08T12:54:31.554129Z"
    }
   },
   "cell_type": "code",
   "source": [
    "ids = clf.feature_importances_.argsort()[-3200:].astype(int)\n",
    "eval_model('3200', models['XGB_GPU'], X.iloc[:, ids], y);"
   ],
   "id": "be233e44cc15c2d6",
   "outputs": [
    {
     "name": "stdout",
     "output_type": "stream",
     "text": [
      "3200            0.8993    (0.906 ± 0.006)    22.3s\n"
     ]
    }
   ],
   "execution_count": 16
  },
  {
   "metadata": {
    "ExecuteTime": {
     "end_time": "2024-09-08T12:55:27.420199Z",
     "start_time": "2024-09-08T12:54:54.146653Z"
    }
   },
   "cell_type": "code",
   "source": [
    "ids = clf.feature_importances_.argsort()[-6400:].astype(int)\n",
    "eval_model('6400', models['XGB_GPU'], X.iloc[:, ids], y);"
   ],
   "id": "a12cce88debdbe73",
   "outputs": [
    {
     "name": "stdout",
     "output_type": "stream",
     "text": [
      "6400            0.8975    (0.905 ± 0.007)    33.0s\n"
     ]
    }
   ],
   "execution_count": 17
  },
  {
   "metadata": {},
   "cell_type": "code",
   "outputs": [],
   "execution_count": null,
   "source": "",
   "id": "b8104f20b83d76fc"
  },
  {
   "metadata": {},
   "cell_type": "code",
   "outputs": [],
   "execution_count": null,
   "source": "",
   "id": "4d13182a48b1cbb1"
  },
  {
   "metadata": {},
   "cell_type": "code",
   "outputs": [],
   "execution_count": null,
   "source": [
    "from sklearn.model_selection import RepeatedStratifiedKFold\n",
    "\n",
    "rskf = RepeatedStratifiedKFold(n_splits=5, n_repeats=5, random_state=RANDOM_SEED)"
   ],
   "id": "e69a3ec1cc18d7a"
  },
  {
   "metadata": {
    "ExecuteTime": {
     "end_time": "2024-09-08T13:45:01.612487Z",
     "start_time": "2024-09-08T13:40:15.800714Z"
    }
   },
   "cell_type": "code",
   "source": "eval_model('full', models['XGB_GPU'], X, y, cv=rskf);",
   "id": "2fd7b98c84ccb517",
   "outputs": [
    {
     "name": "stdout",
     "output_type": "stream",
     "text": [
      "800             0.8945    (0.903 ± 0.008)    285.7s\n"
     ]
    }
   ],
   "execution_count": 37
  },
  {
   "metadata": {
    "ExecuteTime": {
     "end_time": "2024-09-08T13:36:27.638577Z",
     "start_time": "2024-09-08T13:35:46.240176Z"
    }
   },
   "cell_type": "code",
   "source": [
    "ids = clf.feature_importances_.argsort()[-800:].astype(int)\n",
    "eval_model('800', models['XGB_GPU'], X.iloc[:, ids], y, cv=rskf);"
   ],
   "id": "2d91cc8f57788311",
   "outputs": [
    {
     "name": "stdout",
     "output_type": "stream",
     "text": [
      "800             0.9010    (0.907 ± 0.006)    41.2s\n"
     ]
    }
   ],
   "execution_count": 34
  },
  {
   "metadata": {
    "ExecuteTime": {
     "end_time": "2024-09-08T13:38:08.983620Z",
     "start_time": "2024-09-08T13:36:50.496585Z"
    }
   },
   "cell_type": "code",
   "source": [
    "ids = clf.feature_importances_.argsort()[-1600:].astype(int)\n",
    "eval_model('1600', models['XGB_GPU'], X.iloc[:, ids], y, cv=rskf);"
   ],
   "id": "d982d6c663d7eea9",
   "outputs": [
    {
     "name": "stdout",
     "output_type": "stream",
     "text": [
      "1600            0.8987    (0.906 ± 0.007)    78.3s\n"
     ]
    }
   ],
   "execution_count": 36
  },
  {
   "metadata": {
    "ExecuteTime": {
     "end_time": "2024-09-08T13:36:50.425580Z",
     "start_time": "2024-09-08T13:36:27.720581Z"
    }
   },
   "cell_type": "code",
   "source": [
    "ids = clf.feature_importances_.argsort()[-400:].astype(int)\n",
    "eval_model('400', models['XGB_GPU'], X.iloc[:, ids], y, cv=rskf);"
   ],
   "id": "63873ee2b514f9f9",
   "outputs": [
    {
     "name": "stdout",
     "output_type": "stream",
     "text": [
      "400             0.8976    (0.906 ± 0.008)    22.6s\n"
     ]
    }
   ],
   "execution_count": 35
  },
  {
   "metadata": {},
   "cell_type": "markdown",
   "source": "# decorrelated feats",
   "id": "4f3f250ac67f6798"
  },
  {
   "metadata": {
    "ExecuteTime": {
     "end_time": "2024-09-08T13:21:40.773820Z",
     "start_time": "2024-09-08T13:21:36.899424Z"
    }
   },
   "cell_type": "code",
   "source": [
    "from src.corr import non_corr_features\n",
    "\n",
    "X_uncor = non_corr_features(pd.DataFrame(X), y, threshold=0.99)\n",
    "X.shape[1], X_uncor.shape[1]"
   ],
   "id": "83950383ecfc2868",
   "outputs": [
    {
     "data": {
      "text/plain": [
       "(11741, 11210)"
      ]
     },
     "execution_count": 22,
     "metadata": {},
     "output_type": "execute_result"
    }
   ],
   "execution_count": 22
  },
  {
   "metadata": {
    "ExecuteTime": {
     "end_time": "2024-09-08T13:33:13.564101Z",
     "start_time": "2024-09-08T13:32:22.472465Z"
    }
   },
   "cell_type": "code",
   "source": [
    "X_uncor = non_corr_features(pd.DataFrame(X), y, threshold=0.9)\n",
    "print(X.shape[1], X_uncor.shape[1])\n",
    "eval_model('corr < 0.9', models['XGB_GPU'], X_uncor, y, cv=rskf);"
   ],
   "id": "173b20e3405dc89",
   "outputs": [
    {
     "name": "stdout",
     "output_type": "stream",
     "text": [
      "11741 10518\n",
      "corr < 0.9      0.8979    (0.905 ± 0.007)    47.2s\n"
     ]
    }
   ],
   "execution_count": 31
  },
  {
   "metadata": {
    "ExecuteTime": {
     "end_time": "2024-09-08T13:32:22.424520Z",
     "start_time": "2024-09-08T13:31:36.265253Z"
    }
   },
   "cell_type": "code",
   "source": [
    "X_uncor = non_corr_features(pd.DataFrame(X), y, threshold=0.8)\n",
    "print(X.shape[1], X_uncor.shape[1])\n",
    "eval_model('corr < 0.8', models['XGB_GPU'], X_uncor, y, cv=rskf);"
   ],
   "id": "8724268aefe2cac9",
   "outputs": [
    {
     "name": "stdout",
     "output_type": "stream",
     "text": [
      "11741 9773\n",
      "corr < 0.8      0.8979    (0.904 ± 0.006)    42.4s\n"
     ]
    }
   ],
   "execution_count": 30
  },
  {
   "metadata": {
    "ExecuteTime": {
     "end_time": "2024-09-08T13:30:59.526016Z",
     "start_time": "2024-09-08T13:30:18.917557Z"
    }
   },
   "cell_type": "code",
   "source": [
    "X_uncor = non_corr_features(pd.DataFrame(X), y, threshold=0.7)\n",
    "print(X.shape[1], X_uncor.shape[1])\n",
    "eval_model('corr < 0.7', models['XGB_GPU'], X_uncor, y, cv=rskf);"
   ],
   "id": "fe728d3e8a08d2ff",
   "outputs": [
    {
     "name": "stdout",
     "output_type": "stream",
     "text": [
      "11741 8911\n",
      "corr < 0.7      0.8942    (0.902 ± 0.008)    36.6s\n"
     ]
    }
   ],
   "execution_count": 28
  },
  {
   "metadata": {
    "ExecuteTime": {
     "end_time": "2024-09-08T13:31:36.201246Z",
     "start_time": "2024-09-08T13:30:59.543019Z"
    }
   },
   "cell_type": "code",
   "source": [
    "X_uncor = non_corr_features(pd.DataFrame(X), y, threshold=0.6)\n",
    "print(X.shape[1], X_uncor.shape[1])\n",
    "eval_model('corr < 0.6', models['XGB_GPU'], X_uncor, y, cv=rskf);"
   ],
   "id": "44c11389576ab0dc",
   "outputs": [
    {
     "name": "stdout",
     "output_type": "stream",
     "text": [
      "11741 7927\n",
      "corr < 0.6      0.8939    (0.900 ± 0.006)    32.3s\n"
     ]
    }
   ],
   "execution_count": 29
  },
  {
   "metadata": {},
   "cell_type": "code",
   "outputs": [],
   "execution_count": null,
   "source": "",
   "id": "e4625863b7d63ec8"
  },
  {
   "metadata": {},
   "cell_type": "code",
   "outputs": [],
   "execution_count": null,
   "source": "",
   "id": "5c7bd498a5054cd2"
  },
  {
   "metadata": {},
   "cell_type": "code",
   "outputs": [],
   "execution_count": null,
   "source": "",
   "id": "e6ab831082cde432"
  },
  {
   "metadata": {},
   "cell_type": "code",
   "outputs": [],
   "execution_count": null,
   "source": "",
   "id": "904b0f6633322e9"
  }
 ],
 "metadata": {
  "kernelspec": {
   "display_name": "Python 3 (ipykernel)",
   "language": "python",
   "name": "python3"
  },
  "language_info": {
   "codemirror_mode": {
    "name": "ipython",
    "version": 2
   },
   "file_extension": ".py",
   "mimetype": "text/x-python",
   "name": "python",
   "nbconvert_exporter": "python",
   "pygments_lexer": "ipython2",
   "version": "2.7.6"
  }
 },
 "nbformat": 4,
 "nbformat_minor": 5
}
