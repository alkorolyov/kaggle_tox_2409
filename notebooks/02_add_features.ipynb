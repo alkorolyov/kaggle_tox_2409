{
 "cells": [
  {
   "metadata": {
    "ExecuteTime": {
     "end_time": "2024-09-13T11:38:16.363456Z",
     "start_time": "2024-09-13T11:38:16.190230Z"
    }
   },
   "cell_type": "code",
   "source": [
    "%load_ext autoreload\n",
    "%autoreload 2\n",
    "\n",
    "import sys\n",
    "sys.path.append('..')"
   ],
   "id": "d5b29868638404e",
   "outputs": [
    {
     "name": "stdout",
     "output_type": "stream",
     "text": [
      "The autoreload extension is already loaded. To reload it, use:\n",
      "  %reload_ext autoreload\n"
     ]
    }
   ],
   "execution_count": 18
  },
  {
   "metadata": {
    "ExecuteTime": {
     "end_time": "2024-09-13T11:38:17.613067Z",
     "start_time": "2024-09-13T11:38:16.365948Z"
    }
   },
   "cell_type": "code",
   "source": [
    "import multiprocessing\n",
    "\n",
    "import pandas as pd\n",
    "import datamol as dm\n",
    "import numpy as np\n",
    "import seaborn as sns\n",
    "\n",
    "from molfeat.calc import RDKitDescriptors2D, FPCalculator, MordredDescriptors\n",
    "from molfeat.trans import MoleculeTransformer, FPVecTransformer\n",
    "from sklearn.preprocessing import OneHotEncoder\n",
    "\n",
    "import collections.abc as collections\n",
    "from molfeat.trans.concat import FeatConcat\n",
    "\n",
    "from sklearn.ensemble import HistGradientBoostingClassifier, RandomForestClassifier\n",
    "from sklearn.preprocessing import OneHotEncoder\n",
    "from sklearn.impute import SimpleImputer\n",
    "\n",
    "from src.config import mem\n",
    "from src.utils import embed3d, embed_auto3d, eval_model, OffsetScaler, mol2smi, smi2mol\n",
    "from src.descriptors import calc_dgl_feats, calc_hft_feats, calc_3d_feats, calc_2d_feats\n",
    "\n",
    "from rdkit import RDLogger, Chem\n",
    "RDLogger.DisableLog('rdApp.*')\n",
    "\n",
    "train = dm.read_csv('../data/processed/train.csv', smiles_column='smi', index_col=0)\n",
    "test = dm.read_csv('../data/processed/test.csv', smiles_column='smi', index_col=0)"
   ],
   "id": "554c847250ca530e",
   "outputs": [],
   "execution_count": 19
  },
  {
   "metadata": {
    "ExecuteTime": {
     "end_time": "2024-09-13T11:38:17.894129Z",
     "start_time": "2024-09-13T11:38:17.709201Z"
    }
   },
   "cell_type": "code",
   "source": "train.mol[0]",
   "id": "96fdacac6e63a302",
   "outputs": [
    {
     "data": {
      "text/plain": [
       "<rdkit.Chem.rdchem.Mol at 0x18183709e70>"
      ],
      "image/png": "[encoded data removed]"
     },
     "execution_count": 20,
     "metadata": {},
     "output_type": "execute_result"
    }
   ],
   "execution_count": 20
  },
  {
   "metadata": {
    "ExecuteTime": {
     "end_time": "2024-09-13T11:38:18.261531Z",
     "start_time": "2024-09-13T11:38:18.082772Z"
    }
   },
   "cell_type": "code",
   "source": [
    "import molfeat\n",
    "from molfeat.trans.fp import FPVecTransformer\n",
    "from molfeat.trans.pretrained import PretrainedDGLTransformer\n",
    "from molfeat.trans.pretrained.hf_transformers import PretrainedHFTransformer\n",
    "\n",
    "ADD_3D_FEATS = True\n",
    "\n",
    "feats2D_params = [\n",
    "    # fps\n",
    "    {'kind': 'ecfp:4', 'length': 1024},    \n",
    "    {'kind': 'topological', 'length': 1024, 'n_jobs': -1},\n",
    "    {'kind': 'avalon', 'length': 1024, 'n_jobs': -1},\n",
    "    {'kind': 'layered', 'length': 1024, 'n_jobs': -1},\n",
    "    {'kind': 'secfp', 'length': 1024, 'n_jobs': -1},\n",
    "    {'kind': 'pattern', 'length': 1024},\n",
    "    {'kind': 'pharm2D', 'length': 1024, 'n_jobs': -1},\n",
    "    \n",
    "    # fixed length fps\n",
    "    {'kind': 'erg', 'n_jobs': -1},\n",
    "    {'kind': 'maccs', 'n_jobs': -1},\n",
    "    \n",
    "    # fixed length descriptors - to normalize\n",
    "    {'kind': 'estate', 'n_jobs': -1},\n",
    "    {'kind': 'desc2D', 'n_jobs': -1},\n",
    "    {'kind': 'mordred', 'n_jobs': -1},\n",
    "    {'kind': 'cats2D', 'n_jobs': -1},\n",
    "    {'kind': 'scaffoldkeys', 'n_jobs': -1},\n",
    "    {'kind': 'skeys', 'n_jobs': -1},\n",
    "]\n",
    "\n",
    "\n",
    "feats3D_params = [\n",
    "    {'kind': 'pharm3D', 'length': 1024, 'n_jobs': -1},\n",
    "    {'kind': 'desc3D', 'n_jobs': -1},\n",
    "    {'kind': 'cats3D', 'n_jobs': -1},\n",
    "    {'kind': 'electroshape', 'n_jobs': -1},\n",
    "    {'kind': 'usr',},\n",
    "    {'kind': 'usrcat',},\n",
    "]\n",
    "\n",
    "\n",
    "dgl_params = [\n",
    "    {'kind': 'gin_supervised_contextpred'},\n",
    "    {'kind': 'gin_supervised_infomax'},\n",
    "    {'kind': 'gin_supervised_edgepred'},\n",
    "    {'kind': 'gin_supervised_masking'},\n",
    "]\n",
    "\n",
    "hf_params = [\n",
    "    # {'kind': 'ChemBERTa-77M-MLM', 'random_seed': 42},\n",
    "    {'kind': 'ChemBERTa-77M-MTR', 'random_seed': 42},\n",
    "    # {'kind': 'ChemGPT-1.2B', 'random_seed': 42},\n",
    "    {'kind': 'ChemGPT-19M', 'random_seed': 42},\n",
    "    {'kind': 'ChemGPT-4.7M', 'random_seed': 42},\n",
    "    {'kind': 'GPT2-Zinc480M-87M', 'random_seed': 42},\n",
    "    # {'kind': 'MolT5', 'random_seed': 42},\n",
    "    {'kind': 'Roberta-Zinc480M-102M', 'random_seed': 42},\n",
    "]\n",
    "\n",
    "\n",
    "# featurizer = FeatConcat(transformers, dtype=np.float32)\n",
    "\n",
    "# # calcucalte feats and cache them\n",
    "# for params in feats2D_params:\n",
    "#     print(params)\n",
    "#     mem.cache(calc_2d_feats, ignore=['n_jobs'])(train.smi, **params)\n",
    "#     mem.cache(calc_2d_feats, ignore=['n_jobs'])(test.smi, **params)\n",
    "# \n",
    "# for params in dgl_params:\n",
    "#     print(params)\n",
    "#     mem.cache(calc_dgl_feats)(train.smi, **params)\n",
    "#     mem.cache(calc_dgl_feats)(test.smi, **params)\n",
    "# \n",
    "# if ADD_3D_FEATS:\n",
    "#     print('3D shape')\n",
    "#     mem.cache(embed3d)(train.smi)\n",
    "#     mem.cache(embed3d)(test.smi)\n",
    "# \n",
    "#     for params in feats3D_params:\n",
    "#         print(params)\n",
    "#         mem.cache(calc_3d_feats)(train.smi, **params)\n",
    "#         mem.cache(calc_3d_feats)(test.smi, **params)\n",
    "    \n",
    "# for params in hf_params:\n",
    "#     feats = mem.cache(get_hft_predictions, ignore=['n_jobs', 'dtype', 'device'])(train.smi, params, device='cpu', n_jobs=-1)\n",
    "    \n",
    "# for kind, params in hft_params.items():\n",
    "#     print('Initializing', end=' ')\n",
    "#     trans = PretrainedHFTransformer(kind, **params, n_jobs=-1)\n",
    "#     print(kind, end=' ')\n",
    "#     feats = mem.cache(trans.transform)(train.smi)\n",
    "#     print(feats.shape[1])"
   ],
   "id": "9331f1c5d17d9783",
   "outputs": [],
   "execution_count": 21
  },
  {
   "metadata": {
    "ExecuteTime": {
     "end_time": "2024-09-13T11:38:28.047271Z",
     "start_time": "2024-09-13T11:38:18.349072Z"
    }
   },
   "cell_type": "code",
   "source": [
    "from tqdm import tqdm\n",
    "from src.config import feats2D_params, feats3D_params, dgl_params, hf_params\n",
    "\n",
    "\n",
    "def calc_all_features(smiles, inclue_3D=False):        \n",
    "    def get_length(arr):\n",
    "        for a in arr:\n",
    "            if a is not None:\n",
    "                return a.shape[0]        \n",
    "    \n",
    "    def feats_np_to_df(arr, params):\n",
    "        length = get_length(arr)\n",
    "        nan_arr = np.array([np.nan] * length)\n",
    "        arr = [nan_arr if a is None else a for a in arr]  # fill None with numpy nan array\n",
    "        arr = np.stack(arr)\n",
    "        cols = [params['kind'] + '_' + str(i) for i in range(length)]\n",
    "        return pd.DataFrame(arr, columns=cols, index=smiles.index)\n",
    "                    \n",
    "    df = pd.DataFrame(index=smiles.index)\n",
    "    \n",
    "    for params in tqdm(feats2D_params, desc='feats2D'):        \n",
    "        arr = mem.cache(calc_2d_feats, ignore=['n_jobs'], verbose=False)(smiles, **params)\n",
    "        # print(params['kind'], arr[1].shape)\n",
    "        feats_df = feats_np_to_df(arr, params)    \n",
    "        df = pd.concat([df, feats_df], axis=1)\n",
    "\n",
    "    if inclue_3D:        \n",
    "        mem.cache(embed3d)(smiles)\n",
    "        for params in tqdm(feats3D_params, desc='feats3D'):\n",
    "            arr = mem.cache(calc_3d_feats, verbose=False)(smiles, **params)            \n",
    "            # print(params['kind'], arr[1].shape)\n",
    "            feats_df = feats_np_to_df(arr, params)\n",
    "            df = pd.concat([df, feats_df], axis=1)\n",
    "\n",
    "        \n",
    "    for params in tqdm(dgl_params, desc='dgl'):\n",
    "        try:\n",
    "            arr = mem.cache(calc_dgl_feats, verbose=False)(smiles, **params)\n",
    "            feats_df = feats_np_to_df(arr, params)\n",
    "            df = pd.concat([df, feats_df], axis=1)\n",
    "        except:\n",
    "            pass\n",
    "    return df\n",
    "                        \n",
    "X_train = calc_all_features(train.smi, inclue_3D=True)"
   ],
   "id": "7c8572dd7f01377a",
   "outputs": [
    {
     "name": "stderr",
     "output_type": "stream",
     "text": [
      "feats2D: 100%|██████████| 15/15 [00:05<00:00,  2.82it/s]\n",
      "feats3D: 100%|██████████| 6/6 [00:02<00:00,  2.41it/s]\n",
      "dgl: 100%|██████████| 4/4 [00:01<00:00,  3.01it/s]\n"
     ]
    }
   ],
   "execution_count": 22
  },
  {
   "metadata": {
    "ExecuteTime": {
     "end_time": "2024-09-13T11:38:29.724729Z",
     "start_time": "2024-09-13T11:38:28.143557Z"
    }
   },
   "cell_type": "code",
   "source": "X_test = calc_all_features(test.smi, inclue_3D=True)",
   "id": "8d4dd0127c7d92ec",
   "outputs": [
    {
     "name": "stderr",
     "output_type": "stream",
     "text": [
      "feats2D: 100%|██████████| 15/15 [00:00<00:00, 19.24it/s]\n",
      "feats3D: 100%|██████████| 6/6 [00:00<00:00, 16.60it/s]\n",
      "dgl: 100%|██████████| 4/4 [00:00<00:00, 19.12it/s]\n"
     ]
    }
   ],
   "execution_count": 23
  },
  {
   "metadata": {
    "ExecuteTime": {
     "end_time": "2024-09-13T11:38:29.979149Z",
     "start_time": "2024-09-13T11:38:29.806056Z"
    }
   },
   "cell_type": "code",
   "source": "X_train.shape, X_test.shape",
   "id": "c99063f68d655b85",
   "outputs": [
    {
     "data": {
      "text/plain": [
       "((7939, 12907), (1221, 12907))"
      ]
     },
     "execution_count": 24,
     "metadata": {},
     "output_type": "execute_result"
    }
   ],
   "execution_count": 24
  },
  {
   "metadata": {
    "ExecuteTime": {
     "end_time": "2024-09-13T11:38:30.350187Z",
     "start_time": "2024-09-13T11:38:30.142820Z"
    }
   },
   "cell_type": "code",
   "source": [
    "all_nan_cols = X_train.columns[X_train.isna().all()]\n",
    "all_nan_cols"
   ],
   "id": "9857e2f05556e1c1",
   "outputs": [
    {
     "data": {
      "text/plain": [
       "Index(['mordred_1049', 'mordred_1050', 'mordred_1051', 'mordred_1052',\n",
       "       'mordred_1053', 'mordred_1054', 'mordred_1068', 'mordred_1070',\n",
       "       'mordred_1075', 'mordred_1087', 'mordred_1088', 'mordred_1089',\n",
       "       'mordred_1090', 'mordred_1091', 'mordred_1092', 'mordred_1103',\n",
       "       'mordred_1104', 'mordred_1105', 'mordred_1106', 'mordred_1107',\n",
       "       'mordred_1108', 'mordred_1109', 'mordred_1110', 'mordred_1111',\n",
       "       'mordred_1112', 'mordred_1113', 'mordred_1114', 'mordred_1115',\n",
       "       'mordred_1116', 'mordred_1117', 'mordred_1119', 'mordred_1120',\n",
       "       'mordred_1121', 'mordred_1122', 'mordred_1124', 'mordred_1125',\n",
       "       'mordred_1126', 'mordred_1127', 'mordred_1128', 'mordred_1129',\n",
       "       'mordred_1130', 'mordred_1131', 'mordred_1132', 'mordred_1133',\n",
       "       'mordred_1147', 'mordred_1149', 'mordred_1154', 'mordred_1166',\n",
       "       'mordred_1167', 'mordred_1168', 'mordred_1169', 'mordred_1170',\n",
       "       'mordred_1171', 'mordred_1182', 'mordred_1183', 'mordred_1184',\n",
       "       'mordred_1185', 'mordred_1186', 'mordred_1187', 'mordred_1188',\n",
       "       'mordred_1189', 'mordred_1190', 'mordred_1191', 'mordred_1192',\n",
       "       'mordred_1193', 'mordred_1194', 'mordred_1195', 'mordred_1196',\n",
       "       'mordred_1198', 'mordred_1199', 'mordred_1200', 'mordred_1201',\n",
       "       'mordred_1203', 'mordred_1204', 'mordred_1205', 'mordred_1206'],\n",
       "      dtype='object')"
      ]
     },
     "execution_count": 25,
     "metadata": {},
     "output_type": "execute_result"
    }
   ],
   "execution_count": 25
  },
  {
   "metadata": {
    "ExecuteTime": {
     "end_time": "2024-09-13T11:38:30.652468Z",
     "start_time": "2024-09-13T11:38:30.350187Z"
    }
   },
   "cell_type": "code",
   "source": [
    "X_train.drop(columns=all_nan_cols, inplace=True)\n",
    "X_test.drop(columns=all_nan_cols, inplace=True)"
   ],
   "id": "57907e71e59833e1",
   "outputs": [],
   "execution_count": 26
  },
  {
   "metadata": {
    "ExecuteTime": {
     "end_time": "2024-09-13T11:38:30.910692Z",
     "start_time": "2024-09-13T11:38:30.731440Z"
    }
   },
   "cell_type": "code",
   "source": "X_train.shape",
   "id": "3b093aa4027c5278",
   "outputs": [
    {
     "data": {
      "text/plain": [
       "(7939, 12831)"
      ]
     },
     "execution_count": 27,
     "metadata": {},
     "output_type": "execute_result"
    }
   ],
   "execution_count": 27
  },
  {
   "metadata": {
    "ExecuteTime": {
     "end_time": "2024-09-13T11:38:31.228669Z",
     "start_time": "2024-09-13T11:38:30.996377Z"
    }
   },
   "cell_type": "code",
   "source": [
    "nan_cols = X_train.columns[X_train.isna().any()]\n",
    "nan_cols"
   ],
   "id": "76c7ff96dad89d33",
   "outputs": [
    {
     "data": {
      "text/plain": [
       "Index(['desc2D_11', 'desc2D_12', 'desc2D_13', 'desc2D_14', 'desc2D_18',\n",
       "       'desc2D_19', 'desc2D_20', 'desc2D_21', 'desc2D_22', 'desc2D_23',\n",
       "       ...\n",
       "       'usrcat_50', 'usrcat_51', 'usrcat_52', 'usrcat_53', 'usrcat_54',\n",
       "       'usrcat_55', 'usrcat_56', 'usrcat_57', 'usrcat_58', 'usrcat_59'],\n",
       "      dtype='object', length=607)"
      ]
     },
     "execution_count": 28,
     "metadata": {},
     "output_type": "execute_result"
    }
   ],
   "execution_count": 28
  },
  {
   "metadata": {
    "ExecuteTime": {
     "end_time": "2024-09-13T11:38:33.280152Z",
     "start_time": "2024-09-13T11:38:31.323388Z"
    }
   },
   "cell_type": "code",
   "source": [
    "imputer = SimpleImputer(missing_values=np.nan, strategy='mean')\n",
    "\n",
    "X_train = pd.DataFrame(imputer.fit_transform(X_train), columns=X_train.columns, index=X_train.index)\n",
    "X_test = pd.DataFrame(imputer.transform(X_test), columns=X_test.columns, index=X_test.index)"
   ],
   "id": "c0bffaea15b7cb6f",
   "outputs": [],
   "execution_count": 29
  },
  {
   "metadata": {
    "ExecuteTime": {
     "end_time": "2024-09-13T11:38:33.658548Z",
     "start_time": "2024-09-13T11:38:33.358973Z"
    }
   },
   "cell_type": "code",
   "source": "X_train.isna().sum().sum(), X_test.isna().sum().sum()",
   "id": "18387e41e16e28e8",
   "outputs": [
    {
     "data": {
      "text/plain": [
       "(0, 0)"
      ]
     },
     "execution_count": 30,
     "metadata": {},
     "output_type": "execute_result"
    }
   ],
   "execution_count": 30
  },
  {
   "metadata": {
    "ExecuteTime": {
     "end_time": "2024-09-13T11:38:34.093069Z",
     "start_time": "2024-09-13T11:38:33.739751Z"
    }
   },
   "cell_type": "code",
   "source": [
    "ohe = OneHotEncoder(sparse_output=False)\n",
    "\n",
    "prop_df = pd.DataFrame(ohe.fit_transform(train[[\"prop\"]]), index=train.index, columns=ohe.get_feature_names_out())\n",
    "X_train = pd.concat([X_train, prop_df], axis=1)\n",
    "\n",
    "\n",
    "prop_df = pd.DataFrame(ohe.transform(test[[\"prop\"]]), index=test.index, columns=ohe.get_feature_names_out())\n",
    "X_test = pd.concat([X_test, prop_df], axis=1)\n",
    "\n",
    "X_train.shape, X_test.shape"
   ],
   "id": "8a9c6c1631792e5a",
   "outputs": [
    {
     "data": {
      "text/plain": [
       "((7939, 12834), (1221, 12834))"
      ]
     },
     "execution_count": 31,
     "metadata": {},
     "output_type": "execute_result"
    }
   ],
   "execution_count": 31
  },
  {
   "metadata": {
    "ExecuteTime": {
     "end_time": "2024-09-13T11:53:06.881Z",
     "start_time": "2024-09-13T11:53:05.829861Z"
    }
   },
   "cell_type": "code",
   "source": [
    "fps_list = ['ecfp:4', 'topological', 'avalon', 'layered', 'secfp', 'pattern', 'pharm2D', 'pharm3D', 'erg', 'maccs']\n",
    "fps_cols = [c for c in X_train.columns if c.split('_')[0] in fps_list]\n",
    "to_scale_cols = [c for c in X_train.columns if c not in fps_cols]\n",
    "X_train[fps_cols].shape, X_train[to_scale_cols].shape\n",
    "# X_train.columns"
   ],
   "id": "ffcfc1592052f851",
   "outputs": [
    {
     "data": {
      "text/plain": [
       "((7939, 8674), (7939, 4160))"
      ]
     },
     "execution_count": 47,
     "metadata": {},
     "output_type": "execute_result"
    }
   ],
   "execution_count": 47
  },
  {
   "metadata": {
    "ExecuteTime": {
     "end_time": "2024-09-13T11:54:34.174323Z",
     "start_time": "2024-09-13T11:54:33.356838Z"
    }
   },
   "cell_type": "code",
   "source": [
    "from sklearn.preprocessing import StandardScaler\n",
    "scaler = StandardScaler()\n",
    "\n",
    "X_train.loc[:, to_scale_cols] = scaler.fit_transform(X_train[to_scale_cols])\n",
    "X_test.loc[:, to_scale_cols] = scaler.transform(X_test[to_scale_cols])"
   ],
   "id": "6d0d6838e0c0b72e",
   "outputs": [],
   "execution_count": 48
  },
  {
   "metadata": {
    "ExecuteTime": {
     "end_time": "2024-09-13T11:55:23.744459Z",
     "start_time": "2024-09-13T11:55:21.605793Z"
    }
   },
   "cell_type": "code",
   "source": [
    "X_train.loc[:, fps_cols] = X_train.loc[:, fps_cols].astype(np.uint8)\n",
    "X_test.loc[:, fps_cols] = X_test.loc[:, fps_cols].astype(np.uint8)"
   ],
   "id": "db501b4d2da224ea",
   "outputs": [],
   "execution_count": 50
  },
  {
   "metadata": {
    "ExecuteTime": {
     "end_time": "2024-09-13T11:55:25.404254Z",
     "start_time": "2024-09-13T11:55:24.806170Z"
    }
   },
   "cell_type": "code",
   "source": "X_train.info()",
   "id": "27695eff34997c25",
   "outputs": [
    {
     "name": "stdout",
     "output_type": "stream",
     "text": [
      "<class 'pandas.core.frame.DataFrame'>\n",
      "Index: 7939 entries, 0 to 7938\n",
      "Columns: 12834 entries, ecfp:4_0 to prop_3\n",
      "dtypes: float64(12834)\n",
      "memory usage: 777.7 MB\n"
     ]
    }
   ],
   "execution_count": 51
  },
  {
   "metadata": {
    "ExecuteTime": {
     "end_time": "2024-09-13T13:18:34.030394Z",
     "start_time": "2024-09-13T13:18:32.405801Z"
    }
   },
   "cell_type": "code",
   "source": "X_train.columns",
   "id": "6c273d908c8ca310",
   "outputs": [
    {
     "data": {
      "text/plain": [
       "Index(['ecfp:4_0', 'ecfp:4_1', 'ecfp:4_2', 'ecfp:4_3', 'ecfp:4_4', 'ecfp:4_5',\n",
       "       'ecfp:4_6', 'ecfp:4_7', 'ecfp:4_8', 'ecfp:4_9',\n",
       "       ...\n",
       "       'gin_supervised_masking_293', 'gin_supervised_masking_294',\n",
       "       'gin_supervised_masking_295', 'gin_supervised_masking_296',\n",
       "       'gin_supervised_masking_297', 'gin_supervised_masking_298',\n",
       "       'gin_supervised_masking_299', 'prop_1', 'prop_2', 'prop_3'],\n",
       "      dtype='object', length=12834)"
      ]
     },
     "execution_count": 52,
     "metadata": {},
     "output_type": "execute_result"
    }
   ],
   "execution_count": 52
  },
  {
   "metadata": {
    "ExecuteTime": {
     "end_time": "2024-09-13T11:39:29.983557Z",
     "start_time": "2024-09-13T11:39:13.825177Z"
    }
   },
   "cell_type": "code",
   "source": [
    "X_train.to_pickle('../data/processed/X_train.pkl.zip')\n",
    "X_test.to_pickle('../data/processed/X_test.pkl.zip')"
   ],
   "id": "909d755690e71107",
   "outputs": [],
   "execution_count": 33
  },
  {
   "metadata": {
    "ExecuteTime": {
     "end_time": "2024-09-13T11:41:14.470231Z",
     "start_time": "2024-09-13T11:41:14.297721Z"
    }
   },
   "cell_type": "code",
   "source": "train.target.to_pickle('../data/processed/y_target.pkl')",
   "id": "24fda1148992d4e1",
   "outputs": [],
   "execution_count": 35
  },
  {
   "metadata": {},
   "cell_type": "code",
   "source": "",
   "id": "e853f1cc5de8c8f3",
   "outputs": [],
   "execution_count": null
  },
  {
   "metadata": {},
   "cell_type": "code",
   "source": "",
   "id": "86fe956581ef1611",
   "outputs": [],
   "execution_count": null
  },
  {
   "metadata": {},
   "cell_type": "code",
   "source": "",
   "id": "c71a7a2815bf97a9",
   "outputs": [],
   "execution_count": null
  },
  {
   "metadata": {},
   "cell_type": "code",
   "source": "",
   "id": "be133f6b2be50417",
   "outputs": [],
   "execution_count": null
  },
  {
   "metadata": {},
   "cell_type": "code",
   "source": "",
   "id": "616626d4c96c836a",
   "outputs": [],
   "execution_count": null
  },
  {
   "metadata": {},
   "cell_type": "code",
   "source": "",
   "id": "12f15058c27436db",
   "outputs": [],
   "execution_count": null
  },
  {
   "metadata": {},
   "cell_type": "code",
   "source": "",
   "id": "aa3d11e39036dcc",
   "outputs": [],
   "execution_count": null
  },
  {
   "metadata": {},
   "cell_type": "markdown",
   "source": "# Correlation",
   "id": "dfc37a01f1ca6f9"
  },
  {
   "metadata": {},
   "cell_type": "code",
   "source": [
    "from src.utils import get_fps_offset, get_fps_cols\n",
    "from src.corr import non_corr_ids, get_corr, non_corr_features\n",
    "\n",
    "fps_offset = get_fps_offset(X_train.columns)\n",
    "descs_target = pd.concat([X_train.iloc[:, fps_offset:], y_train], axis=1)\n",
    "corr = mem.cache(get_corr)(descs_target)\n",
    "\n",
    "ids = non_corr_ids(corr, threshold=0.95)"
   ],
   "id": "5e95f3e5712702b9",
   "outputs": [],
   "execution_count": null
  },
  {
   "metadata": {},
   "cell_type": "code",
   "source": "X_train.shape",
   "id": "ca5039e5df9bd195",
   "outputs": [],
   "execution_count": null
  },
  {
   "metadata": {},
   "cell_type": "code",
   "source": "non_corr_features(X_train, y_train, threshold=0.95).shape",
   "id": "bdc7b1574d7543b",
   "outputs": [],
   "execution_count": null
  },
  {
   "metadata": {},
   "cell_type": "code",
   "source": [
    "print(len(corr.columns))\n",
    "sns.heatmap(corr.abs());"
   ],
   "id": "8088064163aab46b",
   "outputs": [],
   "execution_count": null
  },
  {
   "metadata": {},
   "cell_type": "code",
   "source": "sns.heatmap(corr.iloc[ids, ids].abs());",
   "id": "c355f6503e74c3f6",
   "outputs": [],
   "execution_count": null
  },
  {
   "metadata": {},
   "cell_type": "code",
   "source": [
    "fps_cols = get_fps_cols(X_train.columns)\n",
    "uncorr_cols = corr.columns[ids].tolist()\n",
    "\n",
    "X_train_uncorr = X_train[fps_cols + uncorr_cols].copy()\n",
    "X_train_uncorr.shape"
   ],
   "id": "a8b1661fce6ccb24",
   "outputs": [],
   "execution_count": null
  },
  {
   "metadata": {},
   "cell_type": "code",
   "source": [
    "X_test_uncorr = X_test[fps_cols + uncorr_cols].copy()\n",
    "X_test_uncorr.shape"
   ],
   "id": "2a883b0e12fde36c",
   "outputs": [],
   "execution_count": null
  },
  {
   "metadata": {},
   "cell_type": "code",
   "source": [
    "X_train_uncorr.to_pickle('../data/processed/X_train_uncorr.pkl.zip')\n",
    "X_test_uncorr.to_pickle('../data/processed/X_test_uncorr.pkl.zip')"
   ],
   "id": "7a52c5c1e17a0987",
   "outputs": [],
   "execution_count": null
  },
  {
   "metadata": {},
   "cell_type": "markdown",
   "source": "# full uncorrellated",
   "id": "7bfb4b4ac0f569d9"
  },
  {
   "metadata": {},
   "cell_type": "code",
   "source": [
    "descs_target = pd.concat([X_train, y_train], axis=1)\n",
    "corr = mem.cache(get_corr)(descs_target)\n",
    "\n",
    "ids = non_corr_ids(corr, threshold=0.95)\n",
    "uncorr_cols = corr.columns[ids].tolist()\n",
    "\n",
    "len(uncorr_cols), X_train_uncorr.shape[1]"
   ],
   "id": "d0108bdd9e49e32",
   "outputs": [],
   "execution_count": null
  },
  {
   "metadata": {},
   "cell_type": "code",
   "source": [
    "# X_train_uncorr_all = X_train[uncorr_cols].copy()\n",
    "# X_test_uncorr_all = X_test[uncorr_cols].copy()"
   ],
   "id": "29e8eee4abde1718",
   "outputs": [],
   "execution_count": null
  },
  {
   "metadata": {},
   "cell_type": "code",
   "source": "# X_train_uncorr_all.shape",
   "id": "b472a60f612042fc",
   "outputs": [],
   "execution_count": null
  },
  {
   "metadata": {},
   "cell_type": "code",
   "source": [
    "# X_train_uncorr_all.to_pickle('../data/processed/X_train_uncorr_all.pkl.zip')\n",
    "# X_test_uncorr_all.to_pickle('../data/processed/X_test_uncorr_all.pkl.zip')"
   ],
   "id": "b2bf1ee9f4086b9e",
   "outputs": [],
   "execution_count": null
  },
  {
   "metadata": {},
   "cell_type": "code",
   "source": "# len(fps_cols), len(get_fps_cols(X_train_uncorr_all.columns))",
   "id": "88e94a3e230d9cb9",
   "outputs": [],
   "execution_count": null
  }
 ],
 "metadata": {
  "kernelspec": {
   "display_name": "chem",
   "language": "python",
   "name": "chem"
  },
  "language_info": {
   "codemirror_mode": {
    "name": "ipython",
    "version": 2
   },
   "file_extension": ".py",
   "mimetype": "text/x-python",
   "name": "python",
   "nbconvert_exporter": "python",
   "pygments_lexer": "ipython2",
   "version": "2.7.6"
  }
 },
 "nbformat": 4,
 "nbformat_minor": 5
}
