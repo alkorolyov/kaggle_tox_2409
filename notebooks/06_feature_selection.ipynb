{
 "cells": [
  {
   "cell_type": "code",
   "id": "initial_id",
   "metadata": {
    "collapsed": true,
    "ExecuteTime": {
     "end_time": "2024-08-30T09:25:12.039559Z",
     "start_time": "2024-08-30T09:25:12.027750Z"
    }
   },
   "source": [
    "%load_ext autoreload\n",
    "%autoreload 2\n",
    "\n",
    "import sys\n",
    "sys.path.append('..')"
   ],
   "outputs": [],
   "execution_count": 1
  },
  {
   "metadata": {
    "ExecuteTime": {
     "end_time": "2024-08-30T09:25:12.042270Z",
     "start_time": "2024-08-30T09:25:12.040436Z"
    }
   },
   "cell_type": "code",
   "source": "",
   "id": "62eabba167564d57",
   "outputs": [],
   "execution_count": 1
  },
  {
   "metadata": {
    "ExecuteTime": {
     "end_time": "2024-08-30T09:25:12.725404Z",
     "start_time": "2024-08-30T09:25:12.043148Z"
    }
   },
   "cell_type": "code",
   "source": [
    "import pandas as pd\n",
    "import numpy as np\n",
    "from src.utils import get_fps_offset, get_fps_cols, OffsetScaler\n",
    "from sklearn.model_selection import train_test_split\n",
    "\n",
    "RANDOM_SEED = 42\n",
    "N_JOBS = 12\n",
    "\n",
    "def preprocess(df):\n",
    "    df.dropna(axis=1, inplace=True)\n",
    "    df = df.loc[:, df.nunique() > 1].copy()\n",
    "    return df\n",
    "\n",
    "X_train = preprocess(pd.read_csv('../data/processed/X_train.csv'))\n",
    "cols_to_keep = X_train.columns.tolist()\n",
    "X_test = pd.read_csv('../data/processed/X_test.csv')[cols_to_keep]\n",
    "y_train = pd.read_csv('../data/processed/y_train.csv').target\n",
    "\n",
    "\n",
    "fps_cols = get_fps_cols(X_train)\n",
    "features = list(set(X_train.columns) - set(fps_cols))\n",
    "scaler = OffsetScaler(len(fps_cols))\n",
    "\n",
    "X_train = pd.DataFrame(\n",
    "    scaler.fit_transform(X_train.values),\n",
    "    index=X_train.index,\n",
    "    columns=X_train.columns\n",
    ")\n",
    "\n",
    "X_test = pd.DataFrame(\n",
    "    scaler.transform(X_test.values),\n",
    "    index=X_test.index,\n",
    "    columns=X_test.columns\n",
    ")"
   ],
   "id": "f9f054ddda64ef3c",
   "outputs": [],
   "execution_count": 2
  },
  {
   "metadata": {
    "ExecuteTime": {
     "end_time": "2024-08-30T09:25:12.749133Z",
     "start_time": "2024-08-30T09:25:12.726467Z"
    }
   },
   "cell_type": "code",
   "source": [
    "X_train, X_valid, y_train, y_valid = train_test_split(X_train, y_train, random_state=RANDOM_SEED, test_size=0.2)\n",
    "X_train.shape, y_train.shape, X_valid.shape, y_valid.shape"
   ],
   "id": "267fa7b4e6fd32bb",
   "outputs": [
    {
     "data": {
      "text/plain": [
       "((808, 3448), (808,), (203, 3448), (203,))"
      ]
     },
     "execution_count": 3,
     "metadata": {},
     "output_type": "execute_result"
    }
   ],
   "execution_count": 3
  },
  {
   "metadata": {
    "ExecuteTime": {
     "end_time": "2024-08-30T09:25:12.770362Z",
     "start_time": "2024-08-30T09:25:12.750703Z"
    }
   },
   "cell_type": "code",
   "source": "X_train.isna().sum().sum(), X_valid.isna().sum().sum(), y_valid.isna().sum().sum()",
   "id": "865f5f2d55581fc8",
   "outputs": [
    {
     "data": {
      "text/plain": [
       "(0, 0, 0)"
      ]
     },
     "execution_count": 4,
     "metadata": {},
     "output_type": "execute_result"
    }
   ],
   "execution_count": 4
  },
  {
   "metadata": {
    "ExecuteTime": {
     "end_time": "2024-08-30T09:25:12.848672Z",
     "start_time": "2024-08-30T09:25:12.772074Z"
    }
   },
   "cell_type": "code",
   "source": [
    "import optuna\n",
    "from sklearn.metrics import root_mean_squared_error\n",
    "from sklearn.model_selection import KFold\n",
    "\n",
    "class FeatureSelectionOptuna:\n",
    "    \"\"\"\n",
    "    This class implements feature selection using Optuna optimization framework.\n",
    "\n",
    "    Parameters:\n",
    "\n",
    "    - model (object): The predictive model to evaluate; this should be any object that implements fit() and predict() methods.\n",
    "    - loss_fn (function): The loss function to use for evaluating the model performance. This function should take the true labels and the\n",
    "                          predictions as inputs and return a loss value.\n",
    "    - features (list of str): A list containing the names of all possible features that can be selected for the model.\n",
    "    - X (DataFrame): The complete set of feature data (pandas DataFrame) from which subsets will be selected for training the model.\n",
    "    - y (Series): The target variable associated with the X data (pandas Series).\n",
    "    - splits (list of tuples): A list of tuples where each tuple contains two elements, the train indices and the validation indices.\n",
    "    - penalty (float, optional): A factor used to penalize the objective function based on the number of features used.\n",
    "    \"\"\"\n",
    "\n",
    "    def __init__(self,\n",
    "                 model,\n",
    "                 X,\n",
    "                 y,\n",
    "                 features=None,\n",
    "                 loss_fn=root_mean_squared_error,                 \n",
    "                 splits=None,                \n",
    "                 penalty=0,\n",
    "                 ):\n",
    "\n",
    "        self.model = model\n",
    "        self.X = X\n",
    "        self.y = y\n",
    "        \n",
    "        if features is None:\n",
    "            self.features = list(X.columns)\n",
    "        else:\n",
    "            self.features = features\n",
    "        \n",
    "        self.loss_fn = loss_fn\n",
    "        \n",
    "        if splits is None:\n",
    "            kfold = KFold(n_splits=5, shuffle=True, random_state=RANDOM_SEED)\n",
    "            self.splits = list(kfold.split(X))\n",
    "        else:\n",
    "            self.splits = splits\n",
    "        \n",
    "        self.penalty = penalty\n",
    "\n",
    "    def __call__(self,\n",
    "                 trial: optuna.trial.Trial):\n",
    "\n",
    "        # Select True / False for each feature\n",
    "        selected_features = [trial.suggest_categorical(name, [True, False]) for name in self.features]\n",
    "\n",
    "        # List with names of selected features\n",
    "        selected_feature_names = [name for name, selected in zip(self.features, selected_features) if selected]\n",
    "\n",
    "        # Optional: adds a penalty for the amount of features used\n",
    "        n_used = len(selected_feature_names)\n",
    "        total_penalty = n_used * self.penalty\n",
    "\n",
    "        cv_res = []\n",
    "\n",
    "        for split in self.splits:\n",
    "          train_idx = split[0]\n",
    "          valid_idx = split[1]\n",
    "\n",
    "          X_train = self.X.iloc[train_idx].copy()\n",
    "          y_train = self.y.iloc[train_idx].copy()\n",
    "          X_valid = self.X.iloc[valid_idx].copy()\n",
    "          y_valid = self.y.iloc[valid_idx].copy()\n",
    "\n",
    "          X_train_selected = X_train[selected_feature_names].copy()\n",
    "          X_valid_selected = X_valid[selected_feature_names].copy()\n",
    "\n",
    "          # Train model, get predictions and accumulate loss\n",
    "          self.model.fit(X_train_selected, y_train)\n",
    "          pred = self.model.predict(X_valid_selected)\n",
    "\n",
    "          cv_res.append(self.loss_fn(y_valid, pred))\n",
    "        \n",
    "        # Take the average loss across all splits plus standard deviation to have more stable models\n",
    "        loss = np.mean(cv_res) + np.std(cv_res)\n",
    "\n",
    "        # Add the penalty to the loss\n",
    "        loss += total_penalty\n",
    "        \n",
    "        return loss"
   ],
   "id": "98a0ccd416007d69",
   "outputs": [],
   "execution_count": 5
  },
  {
   "metadata": {
    "ExecuteTime": {
     "end_time": "2024-08-30T09:25:12.905116Z",
     "start_time": "2024-08-30T09:25:12.849631Z"
    }
   },
   "cell_type": "code",
   "source": [
    "from sklearn.model_selection import KFold\n",
    "from optuna.samplers import TPESampler\n",
    "from catboost import CatBoostRegressor\n",
    "\n",
    "params = {\n",
    "    \"iterations\": 100,\n",
    "    \"colsample_bylevel\": 0.1,\n",
    "    \"random_seed\": RANDOM_SEED,\n",
    "    \"thread_count\": N_JOBS,\n",
    "    \"verbose\": False\n",
    "}\n",
    "\n",
    "model = CatBoostRegressor(**params)\n",
    "sampler = TPESampler(seed=RANDOM_SEED)\n",
    "study = optuna.create_study(direction=\"minimize\",sampler=sampler)\n",
    "\n",
    "# We first try the model using all features\n",
    "default_features = {ft: True for ft in features}\n",
    "study.enqueue_trial(default_features)"
   ],
   "id": "6d36d6a5d6d63d02",
   "outputs": [
    {
     "name": "stderr",
     "output_type": "stream",
     "text": [
      "[I 2024-08-30 11:25:12,902] A new study created in memory with name: no-name-5103d0d0-a8d7-49cc-b2bf-c8c0293b5989\n"
     ]
    }
   ],
   "execution_count": 6
  },
  {
   "metadata": {
    "ExecuteTime": {
     "end_time": "2024-08-30T09:27:25.005990Z",
     "start_time": "2024-08-30T09:25:12.906138Z"
    }
   },
   "cell_type": "code",
   "source": [
    "optuna.logging.set_verbosity(optuna.logging.WARN)\n",
    "\n",
    "study.optimize(FeatureSelectionOptuna(\n",
    "                         model=model,\n",
    "                         features=features,\n",
    "                         X=X_train,\n",
    "                         y=y_train,\n",
    "                         # penalty = 1e-4,  \n",
    "                         ), n_trials=4096, show_progress_bar=True)"
   ],
   "id": "c5c965c50f97e4fc",
   "outputs": [
    {
     "data": {
      "text/plain": [
       "  0%|          | 0/4096 [00:00<?, ?it/s]"
      ],
      "application/vnd.jupyter.widget-view+json": {
       "version_major": 2,
       "version_minor": 0,
       "model_id": "467af90aa9cf484987ff87b7db9fdeca"
      }
     },
     "metadata": {},
     "output_type": "display_data"
    },
    {
     "name": "stdout",
     "output_type": "stream",
     "text": [
      "[W 2024-08-30 11:27:23,675] Trial 24 failed with parameters: {'SeaN2N3aa': True, 'rd_MolMR': True, 'rd_fr_urea': False, 'Se1O1Cl3d': True, 'SsssB': False, 'md_SlogP_VSA10': True, 'rd_fr_nitrile': True, 'md_SMR_VSA9': True, 'md_ATS3i': True, 'md_nSpiro': False, 'SeaC2N3aa': False, 'md_SsCl': True, 'rd_BertzCT': True, 'rd_FpDensityMorgan3': False, 'md_nG12HRing': False, 'md_ATS8dv': True, 'SaaCH': False, 'Se1C2N3ss': False, 'md_nFaHRing': True, 'Se1C3O1a': False, 'rd_fr_Nhpyrrole': True, 'md_ATSC0d': True, 'Se1C3Hg2as': False, 'rd_PEOE_VSA5': False, 'rd_fr_sulfone': True, 'SssNH(ar)': True, 'Se1N2O2ds': False, 'md_ATS0Z': False, 'Se2C3S2ss': False, 'rd_fr_hdrzine': True, 'md_EState_VSA7': True, 'SsssP': False, 'md_ATS7pe': True, 'SdsssP': False, 'rd_Chi1v': False, 'md_nI': True, 'rd_fr_Ar_NH': False, 'md_PEOE_VSA2': False, 'SssNH': False, 'md_SsOH': False, 'Se1C2C2dd': True, 'Se1C3N1d': True, 'Se2N3O1a': True, 'md_EState_VSA10': True, 'md_StsC': False, 'md_ATSC7v': False, 'rd_SMR_VSA5': False, 'Se1C1P4d': False, 'md_SsssCH': False, 'md_PEOE_VSA5': True, 'md_Xpc-4dv': True, 'Se1C2C2st': False, 'SdssN': True, 'Se1C3S2ds': False, 'rd_fr_piperzine': True, 'md_ATSC2p': True, 'md_Xp-3dv': False, 'md_n10FaHRing': False, 'Se1C2Si4ds': True, 'Se1C3N2ss': True, 'md_NsOH': False, 'rd_SlogP_VSA6': False, 'Se1C1As4d': True, 'SssNH(al)': False, 'Se1C3N==ad': True, 'md_ECIndex': True, 'md_nBondsKD': True, 'rd_TPSA': False, 'Se2C2C2ss': True, 'Se1C4O2ss': False, 'SeaN2S2aa': False, 'Se1O2Hg2ss': False, 'SeaC3N2aa': False, 'md_ATSC3v': False, 'md_GGI6': False, 'md_ATSC8m': False, 'Se1N2O1s': True, 'md_WPol': False, 'md_NsCl': False, 'md_SMR_VSA5': True, 'md_SMR_VSA3': True, 'md_n8FARing': True, 'md_ATSC7m': True, 'md_ATSC4d': False, 'md_Xp-2d': False, 'md_ATS0m': False, 'md_n12FARing': False, 'Se1C3S2ad': False, 'rd_fr_epoxide': False, 'md_ZMIC0': False, 'md_n11FHRing': False, 'md_Xch-4dv': False, 'SeaC3N3paa': True, 'md_NssssSn': True, 'Se1C3F1s': False, 'md_ATS4d': True, 'md_Xp-4d': True, 'StIn': True, 'SdssSi': True, 'Se1B3O1s': False, 'rd_fr_amidine': False, 'md_StN': True, 'md_PEOE_VSA8': False, 'PSA': False, 'md_nG12FHRing': True, 'md_ATS0i': True, 'SsOH': False, 'md_nFHRing': False, 'rd_EState_VSA1': False, 'Se1P3Cl1s': False, 'rd_Ipc': False, 'md_piPC10': False, 'md_NaaaC': False, 'md_ATSC7pe': True, 'Se1C3N3aa': False, 'md_VSA_EState6': True, 'md_NssNH': True, 'Se2N2N2ss': True, 'Se1C2O1s': False, 'Se1C1Si4s': False, 'md_Xc-4dv': True, 'rd_EState_VSA3': False, 'rd_fr_halogen': True, 'md_NdssS': False, 'md_nFARing': False, 'Se1C3N2pss': False, 'Se1C3Si4as': False, 'md_NssssSi': False, 'Se1C3C3ad': False, 'SdsN(nitro)': False, 'md_n9FaRing': True, 'md_MIC5': False, 'md_n11FARing': False, 'Se1C1N3pa': True, 'SssNH(oth)': False, 'md_SsssB': True, 'rd_fr_aniline': False, 'md_ATSC2pe': True, 'md_nG12FRing': False, 'md_NaasC': True, 'SssNH2': False, 'Se3As1In1': True, 'md_Xp-7d': False, 'rd_MaxAbsEStateIndex': False, 'rd_VSA_EState7': True, 'rd_SMR_VSA2': False, 'Se1N2N==dd': False, 'rd_VSA_EState5': True, 'md_SdsCH': True, 'md_IC0': False, 'md_ATSC4i': False, 'md_nCl': True, 'md_EState_VSA1': True, 'Se1C2S2ss': False, 'md_SsBr': False, 'md_n4Ring': False, 'S': True, 'md_SlogP_VSA7': False, 'rd_NumAromaticHeterocycles': True, 'md_nFAHRing': True, 'md_ATS5v': False, 'Se1C3N2ad': False, 'rd_Chi4n': True, 'rd_HeavyAtomCount': True, 'md_NsSH': False, 'md_ATSC4dv': False, 'SssO': True, 'md_NsF': True, 'SssssSi': False, 'md_GGI10': False, 'Se2C3C3ss': True, 'rd_VSA_EState1': False, 'Se1C3C4ss': False, 'md_n6FRing': True, 'md_NsBr': True, 'md_nBondsO': True, 'Se1N3O2ss': False, 'rd_Chi4v': True, 'md_nO': True, 'md_ATS6dv': False, 'md_Si': False, 'rd_SlogP_VSA1': True, 'rd_fr_sulfide': True, 'Se1N1N2s': True, 'rd_fr_COO2': False, 'md_ATS4pe': True, 'md_ATSC8d': True, 'md_JGI5': False, 'md_Mpe': False, 'md_nHRing': False, 'md_Xc-3dv': False, 'rd_PEOE_VSA7': False, 'md_NsssB': False, 'md_SssNH': False, 'md_nAromBond': False, 'md_nBondsKS': False, 'md_ATSC0i': True, 'rd_EState_VSA6': False, 'md_SdCH2': True, 'rd_fr_quatN': True, 'md_ATSC7d': True, 'md_n8FAHRing': False, 'md_SaasN': False, 'md_AATSC0pe': False, 'md_ATSC7i': False, 'rd_MaxEStateIndex': True, 'md_nAtom': False, 'Se1C4O1s': False, 'Se1N3Cl1s': False, 'SdsCl': False, 'md_SsssdAs': False, 'md_SRW07': True, 'SdssC': False, 'Se1C3N2dd': False, 'md_MPC9': True, 'md_ATSC6d': True, 'Se1C1Si3d': False, 'SaasC': True, 'md_ATSC6pe': True, 'rd_fr_aldehyde': False, 'md_TopoPSA(NO)': False, 'md_ATS4Z': True, 'md_ATS4v': True, 'SssO(ester)': False, 'md_ABCGG': False, 'md_C2SP3': False, 'Se1C2Cl1s': True, 'md_piPC8': False, 'md_Mp': True, 'md_n10FRing': False, 'Se1C3N2ds': True, 'md_JGI6': False, 'md_n8FHRing': True, 'md_BalabanJ': False, 'md_C1SP3': False, 'rd_fr_Imine': True, 'md_NssssC': True, 'SsssSiH': True, 'Se1N2N2ds': False, 'md_NssS': True, 'Se1C1C2s': True, 'Se1C1N2s': True, 'Se2C3S1s': False, 'rd_fr_azide': True, 'Se2O1S4d': False, 'md_ATSC1dv': True, 'md_ATSC7Z': False, 'md_SsI': True, 'md_GGI4': False, 'Se2O1P4s': False, 'rd_fr_Ndealkylation2': False, 'md_Xc-5d': True, 'Se1C2C3td': False, 'md_Xc-6d': False, 'Se1C2C3da': False, 'md_SdO': True, 'MW': False, 'md_ATSC0pe': False, 'SaaO': False, 'md_nBondsM': False, 'rd_SlogP_VSA5': True, 'rd_VSA_EState3': False, 'rd_FractionCSP3': True, 'md_SlogP_VSA11': False, 'md_n11FRing': True, 'rd_SlogP_VSA8': False, 'StN': False, 'md_JGI9': False, 'md_EState_VSA8': False, 'md_ATSC1i': True, 'Se1O1S4d': False, 'md_ATS5p': True, 'rd_fr_bicyclic': True, 'Se1O1P4d': True, 'md_nBondsT': False, 'md_Xch-3dv': True, 'Se1C4N1s': True, 'Se1O2S3sd': False, 'md_ATS2m': True, 'md_JGI2': False, 'rd_fr_phos_acid': False, 'md_ATS4i': True, 'md_SsssN': False, 'rd_fr_Ar_OH': True, 'rd_PEOE_VSA10': True, 'md_NsssdAs': True, 'md_ATS3p': False, 'md_MWC08': True, 'md_apol': False, 'md_Xpc-5dv': False, 'md_Xch-3d': True, 'Se1C2C3sa': True, 'md_ATS4m': False, 'Se1N1N3s': True, 'md_ATSC1d': False, 'md_ATS5d': False, 'md_SsCH3': True, 'md_ATSC0p': False, 'Se1C3F1a': False, 'rd_SMR_VSA1': True, 'rd_fr_ArN': False, 'md_nHetero': False, 'Se1C3N2sd': False, 'md_Lipinski': True, 'md_GGI2': False, 'rd_SMR_VSA4': True, 'SeaN2O2aa': False, 'md_ATSC5pe': True, 'rd_PEOE_VSA13': False, 'Se1O2S4sd': False, 'md_n5ARing': True, 'Se1C1S2s': False, 'md_MPC2': False, 'md_ZMIC4': True, 'md_ATSC5m': False, 'md_TIC2': True, 'Se1O1As4d': False, 'md_nBondsA': False, 'md_Xpc-6d': False, 'Se1C2S3sd': False, 'md_NdsssP': True, 'md_ATSC3i': False, 'md_VSA_EState7': True, 'md_NdO': True, 'md_n7Ring': True, 'Se1C4N3ss': True, 'SdsCH': True, 'md_ATSC2dv': False, 'md_n10FAHRing': False, 'md_nF': False, 'Se1O2Si4ss': True, 'Se1O2P3ss': False, 'md_naHRing': False, 'Se1C3O2as': False, 'md_MWC04': True, 'md_NssCH2': True, 'md_nBonds': False, 'SdO(keto)': False, 'rd_PEOE_VSA3': False, 'md_nG12FaRing': False, 'md_ATSC8Z': False, 'rd_VSA_EState2': False, 'md_PEOE_VSA1': False, 'Se1C2N4sd': False, 'md_IC2': False, 'rd_fr_allylic_oxid': True, 'md_TIC1': True, 'md_PEOE_VSA13': True, 'Se1C3N1s': True, 'rd_NumAliphaticCarbocycles': True, 'md_MPC4': False, 'md_C3SP3': False, 'SdO(nitro)': True, 'md_n12Ring': True, 'SeaC3N3aa': True, 'rd_fr_Ar_N': False, 'md_ATSC5d': False, 'md_GGI8': False, 'md_EState_VSA9': False, 'md_TIC3': False, 'rd_VSA_EState4': False, 'md_SsssSiH': True, 'Se1N3S4sd': False, 'rd_fr_pyridine': True, 'md_ATSC6dv': True, 'SdO(sulfo)': True, 'md_GGI7': False, 'md_AATSC0d': True, 'md_ZMIC5': False, 'md_nFRing': False, 'rd_fr_amide': False, 'md_C2SP2': False, 'md_nRing': True, 'md_Xp-6d': True, 'SeaC2NHaa': False, 'md_ATSC5i': True, 'rd_fr_phos_ester': True, 'Se2N4O1s': True, 'SdsssAs': False, 'Se1C3Cl1s': False, 'Se1N3P4sd': False, 'rd_fr_phenol_noOrthoHbond': True, 'SssssSn': False, 'Se1C3N3ss': False, 'Se1C3S1a': False, 'rd_EState_VSA7': True, 'Se2C1C2s': True, 'SdO': False, 'md_MZ': True, 'md_C1SP1': False, 'rd_EState_VSA5': True, 'md_TMPC10': True, 'md_ATSC2i': True, 'Se1C3N2as': True, 'Se1C2N1d': False, 'Se2C2N2ss': True, 'md_ATSC4Z': False, 'md_GGI1': False, 'SdsSH': False, 'md_NtsC': True, 'rd_fr_Al_OH': False, 'md_ATS7i': True, 'md_ATSC3m': True, 'md_NsNH2': True, 'md_SRW10': True, 'rd_fr_nitro': True, 'md_nARing': False, 'Se1C4S4sd': False, 'md_nG12FaHRing': False, 'md_AATS0Z': True, 'SsssN(ar)': False, 'rd_NumSaturatedCarbocycles': False, 'md_MPC5': False, 'md_ATS5i': True, 'md_nRot': True, 'md_Xp-7dv': True, 'md_nHBDon': False, 'md_C2SP1': False, 'Se1O2P4sd': False, 'Se1C3S4ad': False, 'rd_fr_benzene': True, 'md_VSA_EState3': True, 'Se1C2C3ts': False, 'md_C3SP2': False, 'md_ATSC3dv': True, 'ALogPS_logS': True, 'rd_PEOE_VSA14': False, 'rd_LabuteASA': False, 'rd_NumSaturatedRings': False, 'rd_HeavyAtomMolWt': True, 'Se1C2C3ds': False, 'md_NddsN': False, 'Se2O1As4s': True, 'Se1C1N4ps': False, 'rd_NumValenceElectrons': True, 'SsOH(acid)': False, 'md_Zagreb1': False, 'rd_fr_NH1': True, 'md_nG12Ring': True, 'rd_VSA_EState9': False, 'md_nB': True, 'md_GGI5': True, 'md_mZagreb2': False, 'rd_NumAliphaticHeterocycles': False, 'Se3N1N2d': False, 'md_piPC9': False, 'md_MIC1': True, 'md_ATS1dv': True, 'md_nBase': False, 'rd_fr_Ar_COO': True, 'rd_fr_C_O_noCOO': False, 'md_ATSC4pe': True, 'md_Xpc-5d': True, 'Se1C2S1t': True, 'Se1C3O2ds': False, 'Se1Cl1Sn4s': True, 'md_nHeavyAtom': False, 'md_EState_VSA3': False, 'md_Xc-4d': True, 'rd_Kappa1': False, 'md_StCH': True, 'md_ATSC5Z': False, 'md_MWC09': True, 'rd_SlogP_VSA3': False, 'md_NaaS': True, 'md_Xch-6dv': True, 'md_ATS7m': False, 'md_n8Ring': True, 'md_nN': False, 'Se2O1S3s': False, 'Se1C3N3ds': True, 'md_ATS7v': True, 'md_ATSC6v': False, 'md_ATS0pe': False, 'Se1C2F1s': False, 'md_Radius': True, 'md_Zagreb2': True, 'SsOH(phen)': True, 'md_Xp-1d': False, 'md_PEOE_VSA12': False, 'rd_fr_aryl_methyl': True, 'SdsssN(oth)': False, 'md_AATSC0dv': True, 'NA': False, 'rd_fr_NH2': False, 'md_JGI8': False, 'Se1C1Si3s': False, 'SeaN3N3paa': True, 'rd_fr_HOCCN': False, 'md_NssssB': True, 'Se1C2N2sd': True, 'rd_NumAliphaticRings': False, 'rd_EState_VSA10': False, 'md_Xch-7d': True, 'md_ATS8Z': True, 'md_ATS2v': True, 'Se1N2Cl1s': False, 'Se1C2S2ds': True, 'Se3C1C2s': False, 'Se2C3N2ss': False, 'Se1C2N3sa': False, 'md_SaaO': False, 'md_Xc-5dv': False, 'md_VSA_EState1': True, 'rd_fr_hdrzone': True, 'rd_PEOE_VSA11': False, 'md_ATSC1m': True, 'rd_Chi3n': False, 'md_NaasN': False, 'md_MPC10': False, 'Se1C3S2ss': True, 'md_n6aRing': False, 'SeaC2C2aa': False, 'md_NdCH2': False, 'md_nAromAtom': False, 'md_ATS3pe': False, 'md_n5HRing': False, 'md_SRW03': False, 'md_ATS3v': True, 'SdsN': False, 'md_ATSC7p': False, 'md_ATS6m': True, 'md_naRing': True, 'Se1C3N3sa': True, 'md_nC': False, 'rd_BalabanJ': True, 'SssNH2(al)': True, 'md_n6AHRing': False, 'Se1C3O2ss': True, 'rd_fr_Al_COO': False, 'md_ATS1Z': True, 'md_ATS3m': True, 'Se1C2Si4ss': True, 'SeaC3O2aa': True, 'md_SMR_VSA7': True, 'SddssS': True, 'md_ATS8v': False, 'md_ATSC2Z': False, 'StdN': False, 'Se1C3P3as': True, 'md_NssO': False, 'Se1N1S4d': True, 'rd_SlogP_VSA12': False, 'md_ATS4dv': False, 'md_AATS0d': False, 'rd_NumHDonors': False, 'md_SssCH2': False, 'SaaNH': True, 'md_ATSC3p': True, 'md_ATS8i': False, 'md_ATS6Z': False, 'md_nBr': False, 'md_n7aRing': False, 'md_n6FHRing': False, 'Se2O1Cl3d': True, 'SsNH2(al)': False, 'SssCH2': True, 'Se1N==O2ds': False, 'md_ATSC7dv': False, 'md_PEOE_VSA6': False, 'md_ATSC1pe': True, 'md_SssS': False, 'md_MWC07': False, 'md_nX': True, 'md_n6FARing': True, 'md_VMcGowan': False, 'md_nAcid': True, 'HALOG': False, 'SeaC2N2aa': True, 'Se1N2S4sd': True, 'SaaS': False, 'md_ATS2i': False, 'rd_PEOE_VSA8': False, 'ALogPS_logP': False, 'Se2C1O1': True, 'md_GhoseFilter': True, 'md_n9FARing': True, 'md_ATSC5p': False, 'Se1N2N3ss': True, 'RBONDS': False, 'md_SaaaC': False, 'md_SsssP': True, 'md_CIC0': False, 'md_NsCH3': False, 'rd_fr_nitroso': False, 'md_SlogP_VSA8': True, 'Se1N2P4sd': False, 'SaaaC': False, 'SddsN': False, 'rd_SlogP_VSA7': True, 'md_n8FRing': False, 'rd_Chi0': False, 'rd_SlogP_VSA4': False, 'Se1C3N3as': False, 'rd_SMR_VSA7': True, 'SsI': False, 'md_n7FHRing': True, 'md_n9FRing': False, 'md_ATSC4m': False, 'md_MIC4': False, 'md_MWC06': False, 'rd_EState_VSA4': False, 'md_Xch-7dv': True, 'md_SssssSn': True, 'md_JGI1': True, 'rd_fr_nitro_arom': False, 'md_ATSC6p': False, 'md_fragCpx': False, 'rd_fr_lactone': False, 'Se1N2N2ss': False, 'md_SsSH': True, 'rd_fr_NH0': True, 'md_Mm': False, 'md_ATS3dv': False, 'md_nP': True, 'md_Xp-2dv': False, 'Se1C3Br1s': False, 'Se2C3O1s': False, 'md_Mv': False, 'md_ZMIC3': False, 'md_n9FAHRing': False, 'md_NaaO': True, 'Se2N2N2st': True, 'SaadN': False, 'md_VSA_EState2': True, 'Se1C2C3ss': True, 'md_PEOE_VSA11': False, 'md_n8AHRing': False, 'md_ATSC3pe': True, 'SeaC3S2aa': True, 'md_JGI10': True, 'md_Xch-6d': True, 'SsNH2(oth)': False, 'rd_MinAbsEStateIndex': True, 'rd_Chi2v': True, 'md_ATS7dv': False, 'Se1C1C3s': True, 'md_PEOE_VSA7': True, 'md_NsssSiH': True, 'md_MIC0': False, 'md_FCSP3': False, 'rd_fr_term_acetylene': True, 'Se1N1N3a': False, 'SsssN(oth)': True, 'md_Diameter': False, 'md_ATS1p': False, 'md_EState_VSA4': True, 'SdO(ester)': False, 'Se1C2N2ss': False, 'rd_EState_VSA2': False, 'md_PEOE_VSA3': False, 'rd_fr_sulfonamd': True, 'md_MIC3': False, 'Se1C2C3sd': False, 'md_nG12FAHRing': False, 'md_n4HRing': False, 'md_IC5': True, 'md_nFaRing': False, 'rd_fr_para_hydroxylation': True, 'Se1C3N1a': False, 'md_n7FAHRing': False, 'rd_fr_COO': False, 'md_SlogP_VSA3': False, 'md_SddssS': True, 'md_ZMIC2': True, 'rd_VSA_EState8': True, 'md_n10FARing': False, 'Se1C2S4dd': True, 'Se1C2Br1s': True, 'md_n4AHRing': False, 'md_SssssSi': True, 'rd_MolWt': True, 'md_NtCH': True, 'Se1C4F1s': True, 'Se2O1Cl2s': True, 'md_ABC': False, 'md_MPC7': False, 'md_n7ARing': False, 'Se1N3O1s': True, 'Se1C3F1d': False, 'rd_NHOHCount': False, 'rd_fr_oxazole': True, 'Se1N3S4ad': False, 'Se1P4S2ds': True, 'md_ATS8pe': False, 'md_SlogP_VSA1': True, 'md_nHBAcc': True, 'md_n10FaRing': True, 'Se2C2C3ss': False, 'md_AATS0v': False, 'md_Xc-6dv': False, 'Se1C4C4ss': False, 'Se1C2N1s': False, 'SsOH(alc)': True, 'SaadN(oth)': False, 'rd_PEOE_VSA6': False, 'md_ATSC2d': True, 'Se1S2S2ss': True, 'Se2C1C3s': False, 'Se1C3C3ss': False, 'Se1C1O2s': True, 'md_ATS5Z': True, 'rd_fr_ketone': False, 'Se2C2O1s': True, 'md_ATS2p': False, 'md_ATSC8v': False, 'md_SlogP_VSA6': True, 'md_NddssS': True, 'md_FilterItLogS': True, 'md_ATSC5v': False, 'md_VSA_EState8': False, 'Se1C2C2ss': True, 'md_Xp-4dv': True, 'rd_fr_C_O': True, 'Se3C2C2ss': False, 'Se1C3P4sd': False, 'md_ATSC2v': False, 'md_NtN': True, 'md_SsNH2': False, 'rd_HallKierAlpha': True, 'rd_fr_N_O': False, 'md_ATSC3Z': True, 'Se1C1N3s': False, 'md_ATSC8i': False, 'rd_SMR_VSA10': False, 'md_EState_VSA6': True, 'md_n8ARing': False, 'SeaC3C3aa': False, 'md_ATSC1v': True, 'rd_fr_imidazole': True, 'Se1C2S1s': True, 'rd_qed': False, 'md_SaaS': True, 'SaaaN': True, 'Se1C2C3dd': False, 'rd_fr_ether': False, 'rd_VSA_EState6': True, 'rd_Kappa3': False, 'md_CIC3': True, 'md_ATS1i': False, 'md_nBridgehead': False, 'md_n7AHRing': False, 'md_ATSC0m': False, 'md_ATS1d': False, 'SsssCH': True, 'md_ATS6i': True, 'md_MWC03': False, 'md_IC4': False, 'rd_fr_Ndealkylation1': True, 'md_ATSC0Z': True, 'O': True, 'md_SaaNH': False, 'md_ATS6v': True, 'md_SMR_VSA6': True, 'md_n5aHRing': False, 'md_JGI7': True, 'Se1C4Cl1s': False, 'StCH': False, 'md_ATS2Z': True, 'md_TMWC10': True, 'SssssBH': True, 'md_TSRW10': True, 'md_CIC1': False, 'SsNH2(ar)': False, 'md_Mi': False, 'md_CIC4': True, 'md_AATS0m': True, 'md_n5aRing': True, 'rd_EState_VSA8': False, 'md_GGI3': True, 'md_Xch-4d': False, 'Se1C1N3a': False, 'rd_fr_barbitur': False, 'md_Xp-6dv': False, 'rd_NumAromaticRings': True, 'rd_FpDensityMorgan1': False, 'md_Xp-5d': False, 'md_n11FAHRing': False, 'md_EState_VSA5': True, 'md_AATS0pe': False, 'md_LabuteASA': True, 'md_Sv': False, 'md_n6FAHRing': True, 'rd_fr_C_S': False, 'md_TpiPC10': True, 'md_MPC8': True, 'md_TopoPSA': True, 'SssHg': True, 'Se1C3N3da': True, 'rd_fr_phenol': True, 'NH': False, 'md_ATS6p': False, 'md_ATS2dv': True, 'md_ATS5dv': True, 'SssS': False, 'rd_fr_furan': True, 'rd_EState_VSA9': False, 'rd_fr_methoxy': False, 'md_MIC2': True, 'md_ATS6pe': False, 'md_n10FHRing': False, 'SeaC2O2aa': False, 'Se1C3S1d': False, 'md_CIC2': True, 'rd_PEOE_VSA12': False, 'md_ATS0v': False, 'SsBr': False, 'SssssN': True, 'SsF': False, 'md_ATSC6Z': True, 'Se1C2C4ss': False, 'md_ATS0d': True, 'md_n7FRing': True, 'rd_fr_ketone_Topliss': True, 'md_NaaNH': True, 'rd_Chi1': False, 'md_piPC1': False, 'SdsssN': False, 'md_SlogP_VSA2': False, 'md_piPC4': False, 'md_ATS0p': True, 'md_SdsN': True, 'md_nG12ARing': False, 'rd_MolLogP': True, 'md_SLogP': False, 'md_SRW09': True, 'md_Spe': False, 'md_nAHRing': False, 'Se1C3C3as': False, 'Se1C1N4d': False, 'rd_fr_thiophene': True, 'Se1C3O1d': True, 'md_SssssN': True, 'md_SsF': True, 'rd_fr_SH': False, 'md_ATSC6m': True, 'Se1C3C3dd': False, 'Se1C2N4pss': False, 'Se1C2N3psd': False, 'md_NsssP': False, 'Se1C3S2as': False, 'Se1C2O2ds': True, 'rd_NumSaturatedHeterocycles': True, 'md_SZ': False, 'Se1C2C2ds': False, 'StAs': False, 'SdO(acid)': True, 'md_ATSC1Z': False, 'Se1B4F1s': True, 'SddsCl': True, 'Se1C1C3a': True, 'md_n12FHRing': False, 'md_ATS1pe': False, 'md_SMR_VSA1': False, 'md_ATS4p': False, 'Se2N2O1s': False, 'md_VSA_EState9': False, 'md_ATS7d': True, 'md_ATS2pe': False, 'md_SaaN': False, 'Se2NO2': False, 'md_SRW05': False, 'Se1C3C4ds': True, 'Se1C2N3ds': False, 'md_Xch-5d': False, 'md_nBondsS': True, 'Se1C1C3d': False, 'SaasN': False, 'md_n12FRing': False, 'md_C4SP3': False, 'rd_SlogP_VSA2': False, 'Se1N3S2ss': False, 'md_NsssCH': False, 'md_nG12FARing': False, 'md_PEOE_VSA9': True, 'md_SRW08': False, 'rd_fr_thiocyan': True, 'md_VSA_EState4': False, 'Se1N2N2dd': False, 'rd_SMR_VSA9': False, 'md_PEOE_VSA4': False, 'md_n3ARing': True, 'Se1O2O2ss': True, 'rd_VSA_EState10': False, 'rd_Chi2n': False, 'Se1C3C4as': False, 'SdO(amid)': False, 'md_NdsCH': False, 'Se1C1C4s': False, 'md_n7HRing': False, 'Se2P4S1s': False, 'P': True, 'Se1C2N2ds': True, 'md_SMR_VSA4': False, 'md_SlogP_VSA5': False, 'md_SssssC': True, 'rd_Chi3v': False, 'SdCH2': True, 'md_AATS0i': False, 'SsSH': False, 'md_SlogP_VSA4': False, 'md_SRW02': False, 'md_Xc-3d': False, 'md_ATS7Z': True, 'rd_fr_benzodiazepine': True, 'rd_fr_thiazole': True, 'rd_EState_VSA11': True, 'SdNH': False, 'rd_fr_piperdine': True, 'md_n6aHRing': False, 'md_TIC0': False, 'Se1C4Br1s': True, 'md_PEOE_VSA10': True, 'rd_fr_guanido': True, 'Se1C3Br1d': False, 'Se1C1C2d': False, 'md_n9FHRing': False, 'md_nS': True, 'rd_ExactMolWt': True, 'md_SdsssP': False, 'aCNOS': True, 'md_Xch-5dv': False, 'rd_MinEStateIndex': True, 'SeaC2C3aa': False, 'md_TIC5': False, 'Se1C3O1s': False, 'SddN': True, 'md_GGI9': False, 'Se1O1Cl2d': False, 'SddsN(nitro)': False, 'md_n5AHRing': False, 'Se1C2C3ta': False, 'md_nG12AHRing': True, 'md_ATS7p': False, 'StsC': False, 'md_MWC05': False, 'Se1C4N2ss': False, 'SssssC': False, 'rd_Kappa2': False, 'Se1C2C4ds': False, 'md_ATSC8pe': False, 'rd_NumRotatableBonds': True, 'Se1C3Cl1a': False, 'Se1C3Cl1d': True, 'Se1C4N2sd': False, 'N.1': False, 'md_n12FAHRing': False, 'Se1C1S3d': False, 'rd_fr_Al_OH_noTert': False, 'md_n6HRing': True, 'Se1C3C3ds': False, 'SsCH3': False, 'Se1O2P3sd': False, 'rd_NumAromaticCarbocycles': False, 'md_ATS1v': True, 'rd_SlogP_VSA11': True, 'rd_NumHeteroatoms': True, 'md_MWC02': False, 'md_ATSC0v': False, 'md_SdssC': True, 'md_nBondsD': False, 'rd_PEOE_VSA1': False, 'Se1C4S2ss': True, 'SsCl': True, 'md_ATS5pe': False, 'Se1O2Si3ss': True, 'Se1C3Br1a': True, 'SdS': True, 'md_SMR': False, 'md_Sp': False, 'md_n7FARing': False, 'rd_fr_ester': True, 'md_SaasC': False, 'Se1N3Br1s': True, 'md_MWC01': True, 'Se1C3S3ad': True, 'md_AMW': False, 'rd_PEOE_VSA4': False, 'md_ATSC1p': True, 'md_SRW06': True, 'md_NsssN': True, 'md_ATS3Z': False, 'md_n6ARing': True, 'rd_NumRadicalElectrons': False, 'md_MPC6': False, 'md_CIC5': True, 'md_NdS': False, 'md_ATS8m': False, 'md_C1SP2': False, 'md_piPC6': False, 'md_ATSC8p': True, 'md_IC1': True, 'md_Xp-1dv': False, 'ACCEPTORS': False, 'md_n8HRing': False, 'md_SdS': False, 'rd_NOCount': True, 'rd_fr_oxime': False, 'rd_fr_alkyl_halide': False, 'md_TIC4': False, 'md_ATS8p': False, 'Se1N2N3ds': False, 'rd_fr_unbrch_alkane': True, 'md_ATSC8dv': False, 'md_EState_VSA2': False, 'md_AATSC0v': False, 'md_ATS2d': True, 'md_Sm': False, 'SdssS': True, 'md_n5Ring': True, 'md_n12ARing': False, 'md_JGT10': True, 'md_ATS0dv': False, 'SaaN': True, 'SeaN2NHaa': False, 'md_SddsN': True, 'md_n3Ring': False, 'md_Xpc-6dv': False, 'Se1C3S4sd': True, 'md_nH': True, 'md_AATSC0i': False, 'md_piPC7': False, 'md_SRW04': True, 'rd_fr_azo': False, 'rd_NumHAcceptors': False, 'md_ATS5m': False, 'md_BertzCT': False, 'md_ATS8d': True, 'md_n4ARing': True, 'md_Xpc-4d': True, 'md_ATS1m': True, 'md_ATSC3d': False, 'Se1C3P4ad': True, 'md_MWC10': True, 'md_NsI': True, 'md_AATSC0Z': True, 'md_ATSC2m': True, 'rd_PEOE_VSA9': False, 'Se2C3N3pss': False, 'rd_Chi1n': True, 'SdssPH': True, 'md_AATSC0m': False, 'md_AATSC0p': True, 'md_SssssB': True, 'md_SMR_VSA2': False, 'md_n6Ring': True, 'Se1C2S4sd': False, 'rd_SMR_VSA6': False, 'rd_PEOE_VSA2': True, 'md_SssO': False, 'rd_RingCount': True, 'Se1C2C4ts': True, 'Se1C1Sn4s': False, 'rd_FpDensityMorgan2': True, 'Se1C3I1a': True, 'Se1C2O2ss': False, 'md_ATS6d': True, 'md_MW': True, 'Se2O1Si3s': False, 'md_n3AHRing': True, 'md_Xp-3d': False, 'md_NssssN': False, 'md_Xp-5dv': False, 'md_piPC3': False, 'md_ATSC4p': False, 'Se1N2O1d': False, 'md_piPC5': True, 'md_NdssC': True, 'SsNH2': True, 'rd_SMR_VSA3': True, 'Se1N1P4d': False, 'md_bpol': True, 'Se1C3C3aa': False, 'SsssN(al)': False, 'Se1C1S4d': False, 'Se1C4S1s': False, 'rd_fr_imide': False, 'md_ATSC4v': False, 'rd_fr_nitro_arom_nonortho': False, 'SeaC2S2aa': False, 'md_VSA_EState5': False, 'DONORS': True, 'md_piPC2': True, 'md_n9FaHRing': False, 'Se2O1P3s': False, 'md_ATSC5dv': False, 'Se2N1N2pd': True, 'md_JGI3': False, 'md_ATSC6i': False, 'md_SdssS': False, 'Se3C2N1s': False, 'md_n3HRing': False, 'md_SaaCH': True, 'SsssN': False, 'rd_fr_morpholine': True, 'rd_Chi0n': False, 'md_AATS0dv': False, 'md_NaaCH': True, 'md_ZMIC1': True, 'md_fMF': False, 'rd_Chi0v': False, 'md_ATS3d': True, 'SeaN2N2aa': False, 'rd_fr_priamide': True, 'Se1C4S3sd': True, 'md_AATS0p': False, 'md_IC3': True, 'md_ATSC0dv': False, 'Se1C2Cl1d': False, 'md_NaaN': False, 'md_NdsN': False, 'md_MPC3': True, 'md_WPath': True, 'SeaC3NHaa': True, 'md_JGI4': False, 'rd_fr_alkyl_carbamate': False, 'rd_SlogP_VSA10': False} because of the following error: KeyboardInterrupt().\n",
      "Traceback (most recent call last):\n",
      "  File \"/home/ergot/miniforge3/envs/chem/lib/python3.10/site-packages/optuna/study/_optimize.py\", line 196, in _run_trial\n",
      "    value_or_values = func(trial)\n",
      "  File \"/tmp/ipykernel_1449939/1996979206.py\", line 79, in __call__\n",
      "    pred = self.model.predict(X_valid_selected)\n",
      "  File \"/home/ergot/miniforge3/envs/chem/lib/python3.10/site-packages/catboost/core.py\", line 5872, in predict\n",
      "    return self._predict(data, prediction_type, ntree_start, ntree_end, thread_count, verbose, 'predict', task_type)\n",
      "  File \"/home/ergot/miniforge3/envs/chem/lib/python3.10/site-packages/catboost/core.py\", line 2605, in _predict\n",
      "    data, data_is_single_object = self._process_predict_input_data(data, parent_method_name, thread_count)\n",
      "  File \"/home/ergot/miniforge3/envs/chem/lib/python3.10/site-packages/catboost/core.py\", line 2585, in _process_predict_input_data\n",
      "    data = Pool(\n",
      "  File \"/home/ergot/miniforge3/envs/chem/lib/python3.10/site-packages/catboost/core.py\", line 848, in __init__\n",
      "    self._init(data, label, cat_features, text_features, embedding_features, embedding_features_data, pairs, weight,\n",
      "  File \"/home/ergot/miniforge3/envs/chem/lib/python3.10/site-packages/catboost/core.py\", line 1481, in _init\n",
      "    self._init_pool(data, label, cat_features, text_features, embedding_features, embedding_features_data, pairs, weight,\n",
      "  File \"_catboost.pyx\", line 4159, in _catboost._PoolBase._init_pool\n",
      "  File \"_catboost.pyx\", line 4209, in _catboost._PoolBase._init_pool\n",
      "  File \"_catboost.pyx\", line 4025, in _catboost._PoolBase._init_features_order_layout_pool\n",
      "  File \"_catboost.pyx\", line 2905, in _catboost._set_features_order_data_pd_data_frame\n",
      "  File \"/home/ergot/miniforge3/envs/chem/lib/python3.10/site-packages/pandas/core/frame.py\", line 1500, in items\n",
      "    yield k, self._get_item_cache(k)\n",
      "  File \"/home/ergot/miniforge3/envs/chem/lib/python3.10/site-packages/pandas/core/frame.py\", line 4639, in _get_item_cache\n",
      "    res = self._ixs(loc, axis=1)\n",
      "  File \"/home/ergot/miniforge3/envs/chem/lib/python3.10/site-packages/pandas/core/frame.py\", line 4011, in _ixs\n",
      "    result = self._box_col_values(col_mgr, i)\n",
      "  File \"/home/ergot/miniforge3/envs/chem/lib/python3.10/site-packages/pandas/core/frame.py\", line 4616, in _box_col_values\n",
      "    obj = self._constructor_sliced_from_mgr(values, axes=values.axes)\n",
      "  File \"/home/ergot/miniforge3/envs/chem/lib/python3.10/site-packages/pandas/core/frame.py\", line 679, in _constructor_sliced_from_mgr\n",
      "    ser = Series._from_mgr(mgr, axes)\n",
      "  File \"/home/ergot/miniforge3/envs/chem/lib/python3.10/site-packages/pandas/core/generic.py\", line 357, in _from_mgr\n",
      "    NDFrame.__init__(obj, mgr)\n",
      "  File \"/home/ergot/miniforge3/envs/chem/lib/python3.10/site-packages/pandas/core/generic.py\", line 283, in __init__\n",
      "    object.__setattr__(self, \"_flags\", Flags(self, allows_duplicate_labels=True))\n",
      "  File \"/home/ergot/miniforge3/envs/chem/lib/python3.10/site-packages/pandas/core/flags.py\", line 51, in __init__\n",
      "    def __init__(self, obj: NDFrame, *, allows_duplicate_labels: bool) -> None:\n",
      "KeyboardInterrupt\n",
      "[W 2024-08-30 11:27:23,703] Trial 24 failed with value None.\n"
     ]
    },
    {
     "ename": "KeyboardInterrupt",
     "evalue": "",
     "output_type": "error",
     "traceback": [
      "\u001B[0;31m---------------------------------------------------------------------------\u001B[0m",
      "\u001B[0;31mKeyboardInterrupt\u001B[0m                         Traceback (most recent call last)",
      "Cell \u001B[0;32mIn[7], line 3\u001B[0m\n\u001B[1;32m      1\u001B[0m optuna\u001B[38;5;241m.\u001B[39mlogging\u001B[38;5;241m.\u001B[39mset_verbosity(optuna\u001B[38;5;241m.\u001B[39mlogging\u001B[38;5;241m.\u001B[39mWARN)\n\u001B[0;32m----> 3\u001B[0m \u001B[43mstudy\u001B[49m\u001B[38;5;241;43m.\u001B[39;49m\u001B[43moptimize\u001B[49m\u001B[43m(\u001B[49m\u001B[43mFeatureSelectionOptuna\u001B[49m\u001B[43m(\u001B[49m\n\u001B[1;32m      4\u001B[0m \u001B[43m                         \u001B[49m\u001B[43mmodel\u001B[49m\u001B[38;5;241;43m=\u001B[39;49m\u001B[43mmodel\u001B[49m\u001B[43m,\u001B[49m\n\u001B[1;32m      5\u001B[0m \u001B[43m                         \u001B[49m\u001B[43mfeatures\u001B[49m\u001B[38;5;241;43m=\u001B[39;49m\u001B[43mfeatures\u001B[49m\u001B[43m,\u001B[49m\n\u001B[1;32m      6\u001B[0m \u001B[43m                         \u001B[49m\u001B[43mX\u001B[49m\u001B[38;5;241;43m=\u001B[39;49m\u001B[43mX_train\u001B[49m\u001B[43m,\u001B[49m\n\u001B[1;32m      7\u001B[0m \u001B[43m                         \u001B[49m\u001B[43my\u001B[49m\u001B[38;5;241;43m=\u001B[39;49m\u001B[43my_train\u001B[49m\u001B[43m,\u001B[49m\n\u001B[1;32m      8\u001B[0m \u001B[43m                         \u001B[49m\u001B[38;5;66;43;03m# penalty = 1e-4,  \u001B[39;49;00m\n\u001B[1;32m      9\u001B[0m \u001B[43m                         \u001B[49m\u001B[43m)\u001B[49m\u001B[43m,\u001B[49m\u001B[43m \u001B[49m\u001B[43mn_trials\u001B[49m\u001B[38;5;241;43m=\u001B[39;49m\u001B[38;5;241;43m4096\u001B[39;49m\u001B[43m,\u001B[49m\u001B[43m \u001B[49m\u001B[43mshow_progress_bar\u001B[49m\u001B[38;5;241;43m=\u001B[39;49m\u001B[38;5;28;43;01mTrue\u001B[39;49;00m\u001B[43m)\u001B[49m\n",
      "File \u001B[0;32m~/miniforge3/envs/chem/lib/python3.10/site-packages/optuna/study/study.py:451\u001B[0m, in \u001B[0;36mStudy.optimize\u001B[0;34m(self, func, n_trials, timeout, n_jobs, catch, callbacks, gc_after_trial, show_progress_bar)\u001B[0m\n\u001B[1;32m    348\u001B[0m \u001B[38;5;28;01mdef\u001B[39;00m \u001B[38;5;21moptimize\u001B[39m(\n\u001B[1;32m    349\u001B[0m     \u001B[38;5;28mself\u001B[39m,\n\u001B[1;32m    350\u001B[0m     func: ObjectiveFuncType,\n\u001B[0;32m   (...)\u001B[0m\n\u001B[1;32m    357\u001B[0m     show_progress_bar: \u001B[38;5;28mbool\u001B[39m \u001B[38;5;241m=\u001B[39m \u001B[38;5;28;01mFalse\u001B[39;00m,\n\u001B[1;32m    358\u001B[0m ) \u001B[38;5;241m-\u001B[39m\u001B[38;5;241m>\u001B[39m \u001B[38;5;28;01mNone\u001B[39;00m:\n\u001B[1;32m    359\u001B[0m \u001B[38;5;250m    \u001B[39m\u001B[38;5;124;03m\"\"\"Optimize an objective function.\u001B[39;00m\n\u001B[1;32m    360\u001B[0m \n\u001B[1;32m    361\u001B[0m \u001B[38;5;124;03m    Optimization is done by choosing a suitable set of hyperparameter values from a given\u001B[39;00m\n\u001B[0;32m   (...)\u001B[0m\n\u001B[1;32m    449\u001B[0m \u001B[38;5;124;03m            If nested invocation of this method occurs.\u001B[39;00m\n\u001B[1;32m    450\u001B[0m \u001B[38;5;124;03m    \"\"\"\u001B[39;00m\n\u001B[0;32m--> 451\u001B[0m     \u001B[43m_optimize\u001B[49m\u001B[43m(\u001B[49m\n\u001B[1;32m    452\u001B[0m \u001B[43m        \u001B[49m\u001B[43mstudy\u001B[49m\u001B[38;5;241;43m=\u001B[39;49m\u001B[38;5;28;43mself\u001B[39;49m\u001B[43m,\u001B[49m\n\u001B[1;32m    453\u001B[0m \u001B[43m        \u001B[49m\u001B[43mfunc\u001B[49m\u001B[38;5;241;43m=\u001B[39;49m\u001B[43mfunc\u001B[49m\u001B[43m,\u001B[49m\n\u001B[1;32m    454\u001B[0m \u001B[43m        \u001B[49m\u001B[43mn_trials\u001B[49m\u001B[38;5;241;43m=\u001B[39;49m\u001B[43mn_trials\u001B[49m\u001B[43m,\u001B[49m\n\u001B[1;32m    455\u001B[0m \u001B[43m        \u001B[49m\u001B[43mtimeout\u001B[49m\u001B[38;5;241;43m=\u001B[39;49m\u001B[43mtimeout\u001B[49m\u001B[43m,\u001B[49m\n\u001B[1;32m    456\u001B[0m \u001B[43m        \u001B[49m\u001B[43mn_jobs\u001B[49m\u001B[38;5;241;43m=\u001B[39;49m\u001B[43mn_jobs\u001B[49m\u001B[43m,\u001B[49m\n\u001B[1;32m    457\u001B[0m \u001B[43m        \u001B[49m\u001B[43mcatch\u001B[49m\u001B[38;5;241;43m=\u001B[39;49m\u001B[38;5;28;43mtuple\u001B[39;49m\u001B[43m(\u001B[49m\u001B[43mcatch\u001B[49m\u001B[43m)\u001B[49m\u001B[43m \u001B[49m\u001B[38;5;28;43;01mif\u001B[39;49;00m\u001B[43m \u001B[49m\u001B[38;5;28;43misinstance\u001B[39;49m\u001B[43m(\u001B[49m\u001B[43mcatch\u001B[49m\u001B[43m,\u001B[49m\u001B[43m \u001B[49m\u001B[43mIterable\u001B[49m\u001B[43m)\u001B[49m\u001B[43m \u001B[49m\u001B[38;5;28;43;01melse\u001B[39;49;00m\u001B[43m \u001B[49m\u001B[43m(\u001B[49m\u001B[43mcatch\u001B[49m\u001B[43m,\u001B[49m\u001B[43m)\u001B[49m\u001B[43m,\u001B[49m\n\u001B[1;32m    458\u001B[0m \u001B[43m        \u001B[49m\u001B[43mcallbacks\u001B[49m\u001B[38;5;241;43m=\u001B[39;49m\u001B[43mcallbacks\u001B[49m\u001B[43m,\u001B[49m\n\u001B[1;32m    459\u001B[0m \u001B[43m        \u001B[49m\u001B[43mgc_after_trial\u001B[49m\u001B[38;5;241;43m=\u001B[39;49m\u001B[43mgc_after_trial\u001B[49m\u001B[43m,\u001B[49m\n\u001B[1;32m    460\u001B[0m \u001B[43m        \u001B[49m\u001B[43mshow_progress_bar\u001B[49m\u001B[38;5;241;43m=\u001B[39;49m\u001B[43mshow_progress_bar\u001B[49m\u001B[43m,\u001B[49m\n\u001B[1;32m    461\u001B[0m \u001B[43m    \u001B[49m\u001B[43m)\u001B[49m\n",
      "File \u001B[0;32m~/miniforge3/envs/chem/lib/python3.10/site-packages/optuna/study/_optimize.py:62\u001B[0m, in \u001B[0;36m_optimize\u001B[0;34m(study, func, n_trials, timeout, n_jobs, catch, callbacks, gc_after_trial, show_progress_bar)\u001B[0m\n\u001B[1;32m     60\u001B[0m \u001B[38;5;28;01mtry\u001B[39;00m:\n\u001B[1;32m     61\u001B[0m     \u001B[38;5;28;01mif\u001B[39;00m n_jobs \u001B[38;5;241m==\u001B[39m \u001B[38;5;241m1\u001B[39m:\n\u001B[0;32m---> 62\u001B[0m         \u001B[43m_optimize_sequential\u001B[49m\u001B[43m(\u001B[49m\n\u001B[1;32m     63\u001B[0m \u001B[43m            \u001B[49m\u001B[43mstudy\u001B[49m\u001B[43m,\u001B[49m\n\u001B[1;32m     64\u001B[0m \u001B[43m            \u001B[49m\u001B[43mfunc\u001B[49m\u001B[43m,\u001B[49m\n\u001B[1;32m     65\u001B[0m \u001B[43m            \u001B[49m\u001B[43mn_trials\u001B[49m\u001B[43m,\u001B[49m\n\u001B[1;32m     66\u001B[0m \u001B[43m            \u001B[49m\u001B[43mtimeout\u001B[49m\u001B[43m,\u001B[49m\n\u001B[1;32m     67\u001B[0m \u001B[43m            \u001B[49m\u001B[43mcatch\u001B[49m\u001B[43m,\u001B[49m\n\u001B[1;32m     68\u001B[0m \u001B[43m            \u001B[49m\u001B[43mcallbacks\u001B[49m\u001B[43m,\u001B[49m\n\u001B[1;32m     69\u001B[0m \u001B[43m            \u001B[49m\u001B[43mgc_after_trial\u001B[49m\u001B[43m,\u001B[49m\n\u001B[1;32m     70\u001B[0m \u001B[43m            \u001B[49m\u001B[43mreseed_sampler_rng\u001B[49m\u001B[38;5;241;43m=\u001B[39;49m\u001B[38;5;28;43;01mFalse\u001B[39;49;00m\u001B[43m,\u001B[49m\n\u001B[1;32m     71\u001B[0m \u001B[43m            \u001B[49m\u001B[43mtime_start\u001B[49m\u001B[38;5;241;43m=\u001B[39;49m\u001B[38;5;28;43;01mNone\u001B[39;49;00m\u001B[43m,\u001B[49m\n\u001B[1;32m     72\u001B[0m \u001B[43m            \u001B[49m\u001B[43mprogress_bar\u001B[49m\u001B[38;5;241;43m=\u001B[39;49m\u001B[43mprogress_bar\u001B[49m\u001B[43m,\u001B[49m\n\u001B[1;32m     73\u001B[0m \u001B[43m        \u001B[49m\u001B[43m)\u001B[49m\n\u001B[1;32m     74\u001B[0m     \u001B[38;5;28;01melse\u001B[39;00m:\n\u001B[1;32m     75\u001B[0m         \u001B[38;5;28;01mif\u001B[39;00m n_jobs \u001B[38;5;241m==\u001B[39m \u001B[38;5;241m-\u001B[39m\u001B[38;5;241m1\u001B[39m:\n",
      "File \u001B[0;32m~/miniforge3/envs/chem/lib/python3.10/site-packages/optuna/study/_optimize.py:159\u001B[0m, in \u001B[0;36m_optimize_sequential\u001B[0;34m(study, func, n_trials, timeout, catch, callbacks, gc_after_trial, reseed_sampler_rng, time_start, progress_bar)\u001B[0m\n\u001B[1;32m    156\u001B[0m         \u001B[38;5;28;01mbreak\u001B[39;00m\n\u001B[1;32m    158\u001B[0m \u001B[38;5;28;01mtry\u001B[39;00m:\n\u001B[0;32m--> 159\u001B[0m     frozen_trial \u001B[38;5;241m=\u001B[39m \u001B[43m_run_trial\u001B[49m\u001B[43m(\u001B[49m\u001B[43mstudy\u001B[49m\u001B[43m,\u001B[49m\u001B[43m \u001B[49m\u001B[43mfunc\u001B[49m\u001B[43m,\u001B[49m\u001B[43m \u001B[49m\u001B[43mcatch\u001B[49m\u001B[43m)\u001B[49m\n\u001B[1;32m    160\u001B[0m \u001B[38;5;28;01mfinally\u001B[39;00m:\n\u001B[1;32m    161\u001B[0m     \u001B[38;5;66;03m# The following line mitigates memory problems that can be occurred in some\u001B[39;00m\n\u001B[1;32m    162\u001B[0m     \u001B[38;5;66;03m# environments (e.g., services that use computing containers such as GitHub Actions).\u001B[39;00m\n\u001B[1;32m    163\u001B[0m     \u001B[38;5;66;03m# Please refer to the following PR for further details:\u001B[39;00m\n\u001B[1;32m    164\u001B[0m     \u001B[38;5;66;03m# https://github.com/optuna/optuna/pull/325.\u001B[39;00m\n\u001B[1;32m    165\u001B[0m     \u001B[38;5;28;01mif\u001B[39;00m gc_after_trial:\n",
      "File \u001B[0;32m~/miniforge3/envs/chem/lib/python3.10/site-packages/optuna/study/_optimize.py:247\u001B[0m, in \u001B[0;36m_run_trial\u001B[0;34m(study, func, catch)\u001B[0m\n\u001B[1;32m    240\u001B[0m         \u001B[38;5;28;01massert\u001B[39;00m \u001B[38;5;28;01mFalse\u001B[39;00m, \u001B[38;5;124m\"\u001B[39m\u001B[38;5;124mShould not reach.\u001B[39m\u001B[38;5;124m\"\u001B[39m\n\u001B[1;32m    242\u001B[0m \u001B[38;5;28;01mif\u001B[39;00m (\n\u001B[1;32m    243\u001B[0m     frozen_trial\u001B[38;5;241m.\u001B[39mstate \u001B[38;5;241m==\u001B[39m TrialState\u001B[38;5;241m.\u001B[39mFAIL\n\u001B[1;32m    244\u001B[0m     \u001B[38;5;129;01mand\u001B[39;00m func_err \u001B[38;5;129;01mis\u001B[39;00m \u001B[38;5;129;01mnot\u001B[39;00m \u001B[38;5;28;01mNone\u001B[39;00m\n\u001B[1;32m    245\u001B[0m     \u001B[38;5;129;01mand\u001B[39;00m \u001B[38;5;129;01mnot\u001B[39;00m \u001B[38;5;28misinstance\u001B[39m(func_err, catch)\n\u001B[1;32m    246\u001B[0m ):\n\u001B[0;32m--> 247\u001B[0m     \u001B[38;5;28;01mraise\u001B[39;00m func_err\n\u001B[1;32m    248\u001B[0m \u001B[38;5;28;01mreturn\u001B[39;00m frozen_trial\n",
      "File \u001B[0;32m~/miniforge3/envs/chem/lib/python3.10/site-packages/optuna/study/_optimize.py:196\u001B[0m, in \u001B[0;36m_run_trial\u001B[0;34m(study, func, catch)\u001B[0m\n\u001B[1;32m    194\u001B[0m \u001B[38;5;28;01mwith\u001B[39;00m get_heartbeat_thread(trial\u001B[38;5;241m.\u001B[39m_trial_id, study\u001B[38;5;241m.\u001B[39m_storage):\n\u001B[1;32m    195\u001B[0m     \u001B[38;5;28;01mtry\u001B[39;00m:\n\u001B[0;32m--> 196\u001B[0m         value_or_values \u001B[38;5;241m=\u001B[39m \u001B[43mfunc\u001B[49m\u001B[43m(\u001B[49m\u001B[43mtrial\u001B[49m\u001B[43m)\u001B[49m\n\u001B[1;32m    197\u001B[0m     \u001B[38;5;28;01mexcept\u001B[39;00m exceptions\u001B[38;5;241m.\u001B[39mTrialPruned \u001B[38;5;28;01mas\u001B[39;00m e:\n\u001B[1;32m    198\u001B[0m         \u001B[38;5;66;03m# TODO(mamu): Handle multi-objective cases.\u001B[39;00m\n\u001B[1;32m    199\u001B[0m         state \u001B[38;5;241m=\u001B[39m TrialState\u001B[38;5;241m.\u001B[39mPRUNED\n",
      "Cell \u001B[0;32mIn[5], line 79\u001B[0m, in \u001B[0;36mFeatureSelectionOptuna.__call__\u001B[0;34m(self, trial)\u001B[0m\n\u001B[1;32m     77\u001B[0m   \u001B[38;5;66;03m# Train model, get predictions and accumulate loss\u001B[39;00m\n\u001B[1;32m     78\u001B[0m   \u001B[38;5;28mself\u001B[39m\u001B[38;5;241m.\u001B[39mmodel\u001B[38;5;241m.\u001B[39mfit(X_train_selected, y_train)\n\u001B[0;32m---> 79\u001B[0m   pred \u001B[38;5;241m=\u001B[39m \u001B[38;5;28;43mself\u001B[39;49m\u001B[38;5;241;43m.\u001B[39;49m\u001B[43mmodel\u001B[49m\u001B[38;5;241;43m.\u001B[39;49m\u001B[43mpredict\u001B[49m\u001B[43m(\u001B[49m\u001B[43mX_valid_selected\u001B[49m\u001B[43m)\u001B[49m\n\u001B[1;32m     81\u001B[0m   cv_res\u001B[38;5;241m.\u001B[39mappend(\u001B[38;5;28mself\u001B[39m\u001B[38;5;241m.\u001B[39mloss_fn(y_valid, pred))\n\u001B[1;32m     83\u001B[0m \u001B[38;5;66;03m# Take the average loss across all splits plus standard deviation to have more stable models\u001B[39;00m\n",
      "File \u001B[0;32m~/miniforge3/envs/chem/lib/python3.10/site-packages/catboost/core.py:5872\u001B[0m, in \u001B[0;36mCatBoostRegressor.predict\u001B[0;34m(self, data, prediction_type, ntree_start, ntree_end, thread_count, verbose, task_type)\u001B[0m\n\u001B[1;32m   5870\u001B[0m \u001B[38;5;28;01mif\u001B[39;00m prediction_type \u001B[38;5;129;01mis\u001B[39;00m \u001B[38;5;28;01mNone\u001B[39;00m:\n\u001B[1;32m   5871\u001B[0m     prediction_type \u001B[38;5;241m=\u001B[39m \u001B[38;5;28mself\u001B[39m\u001B[38;5;241m.\u001B[39m_get_default_prediction_type()\n\u001B[0;32m-> 5872\u001B[0m \u001B[38;5;28;01mreturn\u001B[39;00m \u001B[38;5;28;43mself\u001B[39;49m\u001B[38;5;241;43m.\u001B[39;49m\u001B[43m_predict\u001B[49m\u001B[43m(\u001B[49m\u001B[43mdata\u001B[49m\u001B[43m,\u001B[49m\u001B[43m \u001B[49m\u001B[43mprediction_type\u001B[49m\u001B[43m,\u001B[49m\u001B[43m \u001B[49m\u001B[43mntree_start\u001B[49m\u001B[43m,\u001B[49m\u001B[43m \u001B[49m\u001B[43mntree_end\u001B[49m\u001B[43m,\u001B[49m\u001B[43m \u001B[49m\u001B[43mthread_count\u001B[49m\u001B[43m,\u001B[49m\u001B[43m \u001B[49m\u001B[43mverbose\u001B[49m\u001B[43m,\u001B[49m\u001B[43m \u001B[49m\u001B[38;5;124;43m'\u001B[39;49m\u001B[38;5;124;43mpredict\u001B[39;49m\u001B[38;5;124;43m'\u001B[39;49m\u001B[43m,\u001B[49m\u001B[43m \u001B[49m\u001B[43mtask_type\u001B[49m\u001B[43m)\u001B[49m\n",
      "File \u001B[0;32m~/miniforge3/envs/chem/lib/python3.10/site-packages/catboost/core.py:2605\u001B[0m, in \u001B[0;36mCatBoost._predict\u001B[0;34m(self, data, prediction_type, ntree_start, ntree_end, thread_count, verbose, parent_method_name, task_type)\u001B[0m\n\u001B[1;32m   2603\u001B[0m \u001B[38;5;28;01mif\u001B[39;00m verbose \u001B[38;5;129;01mis\u001B[39;00m \u001B[38;5;28;01mNone\u001B[39;00m:\n\u001B[1;32m   2604\u001B[0m     verbose \u001B[38;5;241m=\u001B[39m \u001B[38;5;28;01mFalse\u001B[39;00m\n\u001B[0;32m-> 2605\u001B[0m data, data_is_single_object \u001B[38;5;241m=\u001B[39m \u001B[38;5;28;43mself\u001B[39;49m\u001B[38;5;241;43m.\u001B[39;49m\u001B[43m_process_predict_input_data\u001B[49m\u001B[43m(\u001B[49m\u001B[43mdata\u001B[49m\u001B[43m,\u001B[49m\u001B[43m \u001B[49m\u001B[43mparent_method_name\u001B[49m\u001B[43m,\u001B[49m\u001B[43m \u001B[49m\u001B[43mthread_count\u001B[49m\u001B[43m)\u001B[49m\n\u001B[1;32m   2606\u001B[0m \u001B[38;5;28mself\u001B[39m\u001B[38;5;241m.\u001B[39m_validate_prediction_type(prediction_type)\n\u001B[1;32m   2608\u001B[0m predictions \u001B[38;5;241m=\u001B[39m \u001B[38;5;28mself\u001B[39m\u001B[38;5;241m.\u001B[39m_base_predict(data, prediction_type, ntree_start, ntree_end, thread_count, verbose, task_type)\n",
      "File \u001B[0;32m~/miniforge3/envs/chem/lib/python3.10/site-packages/catboost/core.py:2585\u001B[0m, in \u001B[0;36mCatBoost._process_predict_input_data\u001B[0;34m(self, data, parent_method_name, thread_count, label)\u001B[0m\n\u001B[1;32m   2583\u001B[0m is_single_object \u001B[38;5;241m=\u001B[39m _is_data_single_object(data)\n\u001B[1;32m   2584\u001B[0m \u001B[38;5;28;01mif\u001B[39;00m \u001B[38;5;129;01mnot\u001B[39;00m \u001B[38;5;28misinstance\u001B[39m(data, Pool):\n\u001B[0;32m-> 2585\u001B[0m     data \u001B[38;5;241m=\u001B[39m \u001B[43mPool\u001B[49m\u001B[43m(\u001B[49m\n\u001B[1;32m   2586\u001B[0m \u001B[43m        \u001B[49m\u001B[43mdata\u001B[49m\u001B[38;5;241;43m=\u001B[39;49m\u001B[43m[\u001B[49m\u001B[43mdata\u001B[49m\u001B[43m]\u001B[49m\u001B[43m \u001B[49m\u001B[38;5;28;43;01mif\u001B[39;49;00m\u001B[43m \u001B[49m\u001B[43mis_single_object\u001B[49m\u001B[43m \u001B[49m\u001B[38;5;28;43;01melse\u001B[39;49;00m\u001B[43m \u001B[49m\u001B[43mdata\u001B[49m\u001B[43m,\u001B[49m\n\u001B[1;32m   2587\u001B[0m \u001B[43m        \u001B[49m\u001B[43mlabel\u001B[49m\u001B[38;5;241;43m=\u001B[39;49m\u001B[43mlabel\u001B[49m\u001B[43m,\u001B[49m\n\u001B[1;32m   2588\u001B[0m \u001B[43m        \u001B[49m\u001B[43mcat_features\u001B[49m\u001B[38;5;241;43m=\u001B[39;49m\u001B[38;5;28;43mself\u001B[39;49m\u001B[38;5;241;43m.\u001B[39;49m\u001B[43m_get_cat_feature_indices\u001B[49m\u001B[43m(\u001B[49m\u001B[43m)\u001B[49m\u001B[43m \u001B[49m\u001B[38;5;28;43;01mif\u001B[39;49;00m\u001B[43m \u001B[49m\u001B[38;5;129;43;01mnot\u001B[39;49;00m\u001B[43m \u001B[49m\u001B[38;5;28;43misinstance\u001B[39;49m\u001B[43m(\u001B[49m\u001B[43mdata\u001B[49m\u001B[43m,\u001B[49m\u001B[43m \u001B[49m\u001B[43mFeaturesData\u001B[49m\u001B[43m)\u001B[49m\u001B[43m \u001B[49m\u001B[38;5;28;43;01melse\u001B[39;49;00m\u001B[43m \u001B[49m\u001B[38;5;28;43;01mNone\u001B[39;49;00m\u001B[43m,\u001B[49m\n\u001B[1;32m   2589\u001B[0m \u001B[43m        \u001B[49m\u001B[43mtext_features\u001B[49m\u001B[38;5;241;43m=\u001B[39;49m\u001B[38;5;28;43mself\u001B[39;49m\u001B[38;5;241;43m.\u001B[39;49m\u001B[43m_get_text_feature_indices\u001B[49m\u001B[43m(\u001B[49m\u001B[43m)\u001B[49m\u001B[43m \u001B[49m\u001B[38;5;28;43;01mif\u001B[39;49;00m\u001B[43m \u001B[49m\u001B[38;5;129;43;01mnot\u001B[39;49;00m\u001B[43m \u001B[49m\u001B[38;5;28;43misinstance\u001B[39;49m\u001B[43m(\u001B[49m\u001B[43mdata\u001B[49m\u001B[43m,\u001B[49m\u001B[43m \u001B[49m\u001B[43mFeaturesData\u001B[49m\u001B[43m)\u001B[49m\u001B[43m \u001B[49m\u001B[38;5;28;43;01melse\u001B[39;49;00m\u001B[43m \u001B[49m\u001B[38;5;28;43;01mNone\u001B[39;49;00m\u001B[43m,\u001B[49m\n\u001B[1;32m   2590\u001B[0m \u001B[43m        \u001B[49m\u001B[43membedding_features\u001B[49m\u001B[38;5;241;43m=\u001B[39;49m\u001B[38;5;28;43mself\u001B[39;49m\u001B[38;5;241;43m.\u001B[39;49m\u001B[43m_get_embedding_feature_indices\u001B[49m\u001B[43m(\u001B[49m\u001B[43m)\u001B[49m\u001B[43m \u001B[49m\u001B[38;5;28;43;01mif\u001B[39;49;00m\u001B[43m \u001B[49m\u001B[38;5;129;43;01mnot\u001B[39;49;00m\u001B[43m \u001B[49m\u001B[38;5;28;43misinstance\u001B[39;49m\u001B[43m(\u001B[49m\u001B[43mdata\u001B[49m\u001B[43m,\u001B[49m\u001B[43m \u001B[49m\u001B[43mFeaturesData\u001B[49m\u001B[43m)\u001B[49m\u001B[43m \u001B[49m\u001B[38;5;28;43;01melse\u001B[39;49;00m\u001B[43m \u001B[49m\u001B[38;5;28;43;01mNone\u001B[39;49;00m\u001B[43m,\u001B[49m\n\u001B[1;32m   2591\u001B[0m \u001B[43m        \u001B[49m\u001B[43mthread_count\u001B[49m\u001B[38;5;241;43m=\u001B[39;49m\u001B[43mthread_count\u001B[49m\n\u001B[1;32m   2592\u001B[0m \u001B[43m    \u001B[49m\u001B[43m)\u001B[49m\n\u001B[1;32m   2593\u001B[0m \u001B[38;5;28;01mreturn\u001B[39;00m data, is_single_object\n",
      "File \u001B[0;32m~/miniforge3/envs/chem/lib/python3.10/site-packages/catboost/core.py:848\u001B[0m, in \u001B[0;36mPool.__init__\u001B[0;34m(self, data, label, cat_features, text_features, embedding_features, embedding_features_data, column_description, pairs, delimiter, has_header, ignore_csv_quoting, weight, group_id, group_weight, subgroup_id, pairs_weight, baseline, timestamp, feature_names, feature_tags, thread_count, log_cout, log_cerr, data_can_be_none)\u001B[0m\n\u001B[1;32m    842\u001B[0m         \u001B[38;5;28;01mif\u001B[39;00m \u001B[38;5;28misinstance\u001B[39m(feature_names, PATH_TYPES):\n\u001B[1;32m    843\u001B[0m             \u001B[38;5;28;01mraise\u001B[39;00m CatBoostError(\n\u001B[1;32m    844\u001B[0m                 \u001B[38;5;124m\"\u001B[39m\u001B[38;5;124mfeature_names must be None or have non-string type when the pool is created from \u001B[39m\u001B[38;5;124m\"\u001B[39m\n\u001B[1;32m    845\u001B[0m                 \u001B[38;5;124m\"\u001B[39m\u001B[38;5;124mpython objects.\u001B[39m\u001B[38;5;124m\"\u001B[39m\n\u001B[1;32m    846\u001B[0m             )\n\u001B[0;32m--> 848\u001B[0m         \u001B[38;5;28;43mself\u001B[39;49m\u001B[38;5;241;43m.\u001B[39;49m\u001B[43m_init\u001B[49m\u001B[43m(\u001B[49m\u001B[43mdata\u001B[49m\u001B[43m,\u001B[49m\u001B[43m \u001B[49m\u001B[43mlabel\u001B[49m\u001B[43m,\u001B[49m\u001B[43m \u001B[49m\u001B[43mcat_features\u001B[49m\u001B[43m,\u001B[49m\u001B[43m \u001B[49m\u001B[43mtext_features\u001B[49m\u001B[43m,\u001B[49m\u001B[43m \u001B[49m\u001B[43membedding_features\u001B[49m\u001B[43m,\u001B[49m\u001B[43m \u001B[49m\u001B[43membedding_features_data\u001B[49m\u001B[43m,\u001B[49m\u001B[43m \u001B[49m\u001B[43mpairs\u001B[49m\u001B[43m,\u001B[49m\u001B[43m \u001B[49m\u001B[43mweight\u001B[49m\u001B[43m,\u001B[49m\n\u001B[1;32m    849\u001B[0m \u001B[43m                   \u001B[49m\u001B[43mgroup_id\u001B[49m\u001B[43m,\u001B[49m\u001B[43m \u001B[49m\u001B[43mgroup_weight\u001B[49m\u001B[43m,\u001B[49m\u001B[43m \u001B[49m\u001B[43msubgroup_id\u001B[49m\u001B[43m,\u001B[49m\u001B[43m \u001B[49m\u001B[43mpairs_weight\u001B[49m\u001B[43m,\u001B[49m\u001B[43m \u001B[49m\u001B[43mbaseline\u001B[49m\u001B[43m,\u001B[49m\u001B[43m \u001B[49m\u001B[43mtimestamp\u001B[49m\u001B[43m,\u001B[49m\u001B[43m \u001B[49m\u001B[43mfeature_names\u001B[49m\u001B[43m,\u001B[49m\u001B[43m \u001B[49m\u001B[43mfeature_tags\u001B[49m\u001B[43m,\u001B[49m\u001B[43m \u001B[49m\u001B[43mthread_count\u001B[49m\u001B[43m)\u001B[49m\n\u001B[1;32m    850\u001B[0m \u001B[38;5;28;01melif\u001B[39;00m \u001B[38;5;129;01mnot\u001B[39;00m data_can_be_none:\n\u001B[1;32m    851\u001B[0m     \u001B[38;5;28;01mraise\u001B[39;00m CatBoostError(\u001B[38;5;124m\"\u001B[39m\u001B[38;5;124m'\u001B[39m\u001B[38;5;124mdata\u001B[39m\u001B[38;5;124m'\u001B[39m\u001B[38;5;124m parameter can\u001B[39m\u001B[38;5;124m'\u001B[39m\u001B[38;5;124mt be None\u001B[39m\u001B[38;5;124m\"\u001B[39m)\n",
      "File \u001B[0;32m~/miniforge3/envs/chem/lib/python3.10/site-packages/catboost/core.py:1481\u001B[0m, in \u001B[0;36mPool._init\u001B[0;34m(self, data, label, cat_features, text_features, embedding_features, embedding_features_data, pairs, weight, group_id, group_weight, subgroup_id, pairs_weight, baseline, timestamp, feature_names, feature_tags, thread_count)\u001B[0m\n\u001B[1;32m   1479\u001B[0m \u001B[38;5;28;01mif\u001B[39;00m feature_tags \u001B[38;5;129;01mis\u001B[39;00m \u001B[38;5;129;01mnot\u001B[39;00m \u001B[38;5;28;01mNone\u001B[39;00m:\n\u001B[1;32m   1480\u001B[0m     feature_tags \u001B[38;5;241m=\u001B[39m \u001B[38;5;28mself\u001B[39m\u001B[38;5;241m.\u001B[39m_check_transform_tags(feature_tags, feature_names)\n\u001B[0;32m-> 1481\u001B[0m \u001B[38;5;28;43mself\u001B[39;49m\u001B[38;5;241;43m.\u001B[39;49m\u001B[43m_init_pool\u001B[49m\u001B[43m(\u001B[49m\u001B[43mdata\u001B[49m\u001B[43m,\u001B[49m\u001B[43m \u001B[49m\u001B[43mlabel\u001B[49m\u001B[43m,\u001B[49m\u001B[43m \u001B[49m\u001B[43mcat_features\u001B[49m\u001B[43m,\u001B[49m\u001B[43m \u001B[49m\u001B[43mtext_features\u001B[49m\u001B[43m,\u001B[49m\u001B[43m \u001B[49m\u001B[43membedding_features\u001B[49m\u001B[43m,\u001B[49m\u001B[43m \u001B[49m\u001B[43membedding_features_data\u001B[49m\u001B[43m,\u001B[49m\u001B[43m \u001B[49m\u001B[43mpairs\u001B[49m\u001B[43m,\u001B[49m\u001B[43m \u001B[49m\u001B[43mweight\u001B[49m\u001B[43m,\u001B[49m\n\u001B[1;32m   1482\u001B[0m \u001B[43m                \u001B[49m\u001B[43mgroup_id\u001B[49m\u001B[43m,\u001B[49m\u001B[43m \u001B[49m\u001B[43mgroup_weight\u001B[49m\u001B[43m,\u001B[49m\u001B[43m \u001B[49m\u001B[43msubgroup_id\u001B[49m\u001B[43m,\u001B[49m\u001B[43m \u001B[49m\u001B[43mpairs_weight\u001B[49m\u001B[43m,\u001B[49m\u001B[43m \u001B[49m\u001B[43mbaseline\u001B[49m\u001B[43m,\u001B[49m\u001B[43m \u001B[49m\u001B[43mtimestamp\u001B[49m\u001B[43m,\u001B[49m\u001B[43m \u001B[49m\u001B[43mfeature_names\u001B[49m\u001B[43m,\u001B[49m\u001B[43m \u001B[49m\u001B[43mfeature_tags\u001B[49m\u001B[43m,\u001B[49m\u001B[43m \u001B[49m\u001B[43mthread_count\u001B[49m\u001B[43m)\u001B[49m\n",
      "File \u001B[0;32m_catboost.pyx:4159\u001B[0m, in \u001B[0;36m_catboost._PoolBase._init_pool\u001B[0;34m()\u001B[0m\n",
      "File \u001B[0;32m_catboost.pyx:4209\u001B[0m, in \u001B[0;36m_catboost._PoolBase._init_pool\u001B[0;34m()\u001B[0m\n",
      "File \u001B[0;32m_catboost.pyx:4025\u001B[0m, in \u001B[0;36m_catboost._PoolBase._init_features_order_layout_pool\u001B[0;34m()\u001B[0m\n",
      "File \u001B[0;32m_catboost.pyx:2905\u001B[0m, in \u001B[0;36m_catboost._set_features_order_data_pd_data_frame\u001B[0;34m()\u001B[0m\n",
      "File \u001B[0;32m~/miniforge3/envs/chem/lib/python3.10/site-packages/pandas/core/frame.py:1500\u001B[0m, in \u001B[0;36mDataFrame.items\u001B[0;34m(self)\u001B[0m\n\u001B[1;32m   1498\u001B[0m \u001B[38;5;28;01mif\u001B[39;00m \u001B[38;5;28mself\u001B[39m\u001B[38;5;241m.\u001B[39mcolumns\u001B[38;5;241m.\u001B[39mis_unique \u001B[38;5;129;01mand\u001B[39;00m \u001B[38;5;28mhasattr\u001B[39m(\u001B[38;5;28mself\u001B[39m, \u001B[38;5;124m\"\u001B[39m\u001B[38;5;124m_item_cache\u001B[39m\u001B[38;5;124m\"\u001B[39m):\n\u001B[1;32m   1499\u001B[0m     \u001B[38;5;28;01mfor\u001B[39;00m k \u001B[38;5;129;01min\u001B[39;00m \u001B[38;5;28mself\u001B[39m\u001B[38;5;241m.\u001B[39mcolumns:\n\u001B[0;32m-> 1500\u001B[0m         \u001B[38;5;28;01myield\u001B[39;00m k, \u001B[38;5;28;43mself\u001B[39;49m\u001B[38;5;241;43m.\u001B[39;49m\u001B[43m_get_item_cache\u001B[49m\u001B[43m(\u001B[49m\u001B[43mk\u001B[49m\u001B[43m)\u001B[49m\n\u001B[1;32m   1501\u001B[0m \u001B[38;5;28;01melse\u001B[39;00m:\n\u001B[1;32m   1502\u001B[0m     \u001B[38;5;28;01mfor\u001B[39;00m i, k \u001B[38;5;129;01min\u001B[39;00m \u001B[38;5;28menumerate\u001B[39m(\u001B[38;5;28mself\u001B[39m\u001B[38;5;241m.\u001B[39mcolumns):\n",
      "File \u001B[0;32m~/miniforge3/envs/chem/lib/python3.10/site-packages/pandas/core/frame.py:4639\u001B[0m, in \u001B[0;36mDataFrame._get_item_cache\u001B[0;34m(self, item)\u001B[0m\n\u001B[1;32m   4634\u001B[0m \u001B[38;5;28;01mif\u001B[39;00m res \u001B[38;5;129;01mis\u001B[39;00m \u001B[38;5;28;01mNone\u001B[39;00m:\n\u001B[1;32m   4635\u001B[0m     \u001B[38;5;66;03m# All places that call _get_item_cache have unique columns,\u001B[39;00m\n\u001B[1;32m   4636\u001B[0m     \u001B[38;5;66;03m#  pending resolution of GH#33047\u001B[39;00m\n\u001B[1;32m   4638\u001B[0m     loc \u001B[38;5;241m=\u001B[39m \u001B[38;5;28mself\u001B[39m\u001B[38;5;241m.\u001B[39mcolumns\u001B[38;5;241m.\u001B[39mget_loc(item)\n\u001B[0;32m-> 4639\u001B[0m     res \u001B[38;5;241m=\u001B[39m \u001B[38;5;28;43mself\u001B[39;49m\u001B[38;5;241;43m.\u001B[39;49m\u001B[43m_ixs\u001B[49m\u001B[43m(\u001B[49m\u001B[43mloc\u001B[49m\u001B[43m,\u001B[49m\u001B[43m \u001B[49m\u001B[43maxis\u001B[49m\u001B[38;5;241;43m=\u001B[39;49m\u001B[38;5;241;43m1\u001B[39;49m\u001B[43m)\u001B[49m\n\u001B[1;32m   4641\u001B[0m     cache[item] \u001B[38;5;241m=\u001B[39m res\n\u001B[1;32m   4643\u001B[0m     \u001B[38;5;66;03m# for a chain\u001B[39;00m\n",
      "File \u001B[0;32m~/miniforge3/envs/chem/lib/python3.10/site-packages/pandas/core/frame.py:4011\u001B[0m, in \u001B[0;36mDataFrame._ixs\u001B[0;34m(self, i, axis)\u001B[0m\n\u001B[1;32m   4008\u001B[0m label \u001B[38;5;241m=\u001B[39m \u001B[38;5;28mself\u001B[39m\u001B[38;5;241m.\u001B[39mcolumns[i]\n\u001B[1;32m   4010\u001B[0m col_mgr \u001B[38;5;241m=\u001B[39m \u001B[38;5;28mself\u001B[39m\u001B[38;5;241m.\u001B[39m_mgr\u001B[38;5;241m.\u001B[39miget(i)\n\u001B[0;32m-> 4011\u001B[0m result \u001B[38;5;241m=\u001B[39m \u001B[38;5;28;43mself\u001B[39;49m\u001B[38;5;241;43m.\u001B[39;49m\u001B[43m_box_col_values\u001B[49m\u001B[43m(\u001B[49m\u001B[43mcol_mgr\u001B[49m\u001B[43m,\u001B[49m\u001B[43m \u001B[49m\u001B[43mi\u001B[49m\u001B[43m)\u001B[49m\n\u001B[1;32m   4013\u001B[0m \u001B[38;5;66;03m# this is a cached value, mark it so\u001B[39;00m\n\u001B[1;32m   4014\u001B[0m result\u001B[38;5;241m.\u001B[39m_set_as_cached(label, \u001B[38;5;28mself\u001B[39m)\n",
      "File \u001B[0;32m~/miniforge3/envs/chem/lib/python3.10/site-packages/pandas/core/frame.py:4616\u001B[0m, in \u001B[0;36mDataFrame._box_col_values\u001B[0;34m(self, values, loc)\u001B[0m\n\u001B[1;32m   4614\u001B[0m name \u001B[38;5;241m=\u001B[39m \u001B[38;5;28mself\u001B[39m\u001B[38;5;241m.\u001B[39mcolumns[loc]\n\u001B[1;32m   4615\u001B[0m \u001B[38;5;66;03m# We get index=self.index bc values is a SingleDataManager\u001B[39;00m\n\u001B[0;32m-> 4616\u001B[0m obj \u001B[38;5;241m=\u001B[39m \u001B[38;5;28;43mself\u001B[39;49m\u001B[38;5;241;43m.\u001B[39;49m\u001B[43m_constructor_sliced_from_mgr\u001B[49m\u001B[43m(\u001B[49m\u001B[43mvalues\u001B[49m\u001B[43m,\u001B[49m\u001B[43m \u001B[49m\u001B[43maxes\u001B[49m\u001B[38;5;241;43m=\u001B[39;49m\u001B[43mvalues\u001B[49m\u001B[38;5;241;43m.\u001B[39;49m\u001B[43maxes\u001B[49m\u001B[43m)\u001B[49m\n\u001B[1;32m   4617\u001B[0m obj\u001B[38;5;241m.\u001B[39m_name \u001B[38;5;241m=\u001B[39m name\n\u001B[1;32m   4618\u001B[0m \u001B[38;5;28;01mreturn\u001B[39;00m obj\u001B[38;5;241m.\u001B[39m__finalize__(\u001B[38;5;28mself\u001B[39m)\n",
      "File \u001B[0;32m~/miniforge3/envs/chem/lib/python3.10/site-packages/pandas/core/frame.py:679\u001B[0m, in \u001B[0;36mDataFrame._constructor_sliced_from_mgr\u001B[0;34m(self, mgr, axes)\u001B[0m\n\u001B[1;32m    678\u001B[0m \u001B[38;5;28;01mdef\u001B[39;00m \u001B[38;5;21m_constructor_sliced_from_mgr\u001B[39m(\u001B[38;5;28mself\u001B[39m, mgr, axes) \u001B[38;5;241m-\u001B[39m\u001B[38;5;241m>\u001B[39m Series:\n\u001B[0;32m--> 679\u001B[0m     ser \u001B[38;5;241m=\u001B[39m \u001B[43mSeries\u001B[49m\u001B[38;5;241;43m.\u001B[39;49m\u001B[43m_from_mgr\u001B[49m\u001B[43m(\u001B[49m\u001B[43mmgr\u001B[49m\u001B[43m,\u001B[49m\u001B[43m \u001B[49m\u001B[43maxes\u001B[49m\u001B[43m)\u001B[49m\n\u001B[1;32m    680\u001B[0m     ser\u001B[38;5;241m.\u001B[39m_name \u001B[38;5;241m=\u001B[39m \u001B[38;5;28;01mNone\u001B[39;00m  \u001B[38;5;66;03m# caller is responsible for setting real name\u001B[39;00m\n\u001B[1;32m    682\u001B[0m     \u001B[38;5;28;01mif\u001B[39;00m \u001B[38;5;28mtype\u001B[39m(\u001B[38;5;28mself\u001B[39m) \u001B[38;5;129;01mis\u001B[39;00m DataFrame:\n\u001B[1;32m    683\u001B[0m         \u001B[38;5;66;03m# This would also work `if self._constructor_sliced is Series`, but\u001B[39;00m\n\u001B[1;32m    684\u001B[0m         \u001B[38;5;66;03m#  this check is slightly faster, benefiting the most-common case.\u001B[39;00m\n",
      "File \u001B[0;32m~/miniforge3/envs/chem/lib/python3.10/site-packages/pandas/core/generic.py:357\u001B[0m, in \u001B[0;36mNDFrame._from_mgr\u001B[0;34m(cls, mgr, axes)\u001B[0m\n\u001B[1;32m    342\u001B[0m \u001B[38;5;250m\u001B[39m\u001B[38;5;124;03m\"\"\"\u001B[39;00m\n\u001B[1;32m    343\u001B[0m \u001B[38;5;124;03mConstruct a new object of this type from a Manager object and axes.\u001B[39;00m\n\u001B[1;32m    344\u001B[0m \n\u001B[0;32m   (...)\u001B[0m\n\u001B[1;32m    354\u001B[0m \u001B[38;5;124;03min the event that axes are refactored out of the Manager objects.\u001B[39;00m\n\u001B[1;32m    355\u001B[0m \u001B[38;5;124;03m\"\"\"\u001B[39;00m\n\u001B[1;32m    356\u001B[0m obj \u001B[38;5;241m=\u001B[39m \u001B[38;5;28mcls\u001B[39m\u001B[38;5;241m.\u001B[39m\u001B[38;5;21m__new__\u001B[39m(\u001B[38;5;28mcls\u001B[39m)\n\u001B[0;32m--> 357\u001B[0m \u001B[43mNDFrame\u001B[49m\u001B[38;5;241;43m.\u001B[39;49m\u001B[38;5;21;43m__init__\u001B[39;49m\u001B[43m(\u001B[49m\u001B[43mobj\u001B[49m\u001B[43m,\u001B[49m\u001B[43m \u001B[49m\u001B[43mmgr\u001B[49m\u001B[43m)\u001B[49m\n\u001B[1;32m    358\u001B[0m \u001B[38;5;28;01mreturn\u001B[39;00m obj\n",
      "File \u001B[0;32m~/miniforge3/envs/chem/lib/python3.10/site-packages/pandas/core/generic.py:283\u001B[0m, in \u001B[0;36mNDFrame.__init__\u001B[0;34m(self, data)\u001B[0m\n\u001B[1;32m    281\u001B[0m \u001B[38;5;28mobject\u001B[39m\u001B[38;5;241m.\u001B[39m\u001B[38;5;21m__setattr__\u001B[39m(\u001B[38;5;28mself\u001B[39m, \u001B[38;5;124m\"\u001B[39m\u001B[38;5;124m_item_cache\u001B[39m\u001B[38;5;124m\"\u001B[39m, {})\n\u001B[1;32m    282\u001B[0m \u001B[38;5;28mobject\u001B[39m\u001B[38;5;241m.\u001B[39m\u001B[38;5;21m__setattr__\u001B[39m(\u001B[38;5;28mself\u001B[39m, \u001B[38;5;124m\"\u001B[39m\u001B[38;5;124m_attrs\u001B[39m\u001B[38;5;124m\"\u001B[39m, {})\n\u001B[0;32m--> 283\u001B[0m \u001B[38;5;28mobject\u001B[39m\u001B[38;5;241m.\u001B[39m\u001B[38;5;21m__setattr__\u001B[39m(\u001B[38;5;28mself\u001B[39m, \u001B[38;5;124m\"\u001B[39m\u001B[38;5;124m_flags\u001B[39m\u001B[38;5;124m\"\u001B[39m, \u001B[43mFlags\u001B[49m\u001B[43m(\u001B[49m\u001B[38;5;28;43mself\u001B[39;49m\u001B[43m,\u001B[49m\u001B[43m \u001B[49m\u001B[43mallows_duplicate_labels\u001B[49m\u001B[38;5;241;43m=\u001B[39;49m\u001B[38;5;28;43;01mTrue\u001B[39;49;00m\u001B[43m)\u001B[49m)\n",
      "File \u001B[0;32m~/miniforge3/envs/chem/lib/python3.10/site-packages/pandas/core/flags.py:51\u001B[0m, in \u001B[0;36mFlags.__init__\u001B[0;34m(self, obj, allows_duplicate_labels)\u001B[0m\n\u001B[1;32m     11\u001B[0m \u001B[38;5;250m\u001B[39m\u001B[38;5;124;03m\"\"\"\u001B[39;00m\n\u001B[1;32m     12\u001B[0m \u001B[38;5;124;03mFlags that apply to pandas objects.\u001B[39;00m\n\u001B[1;32m     13\u001B[0m \n\u001B[0;32m   (...)\u001B[0m\n\u001B[1;32m     46\u001B[0m \u001B[38;5;124;03m<Flags(allows_duplicate_labels=True)>\u001B[39;00m\n\u001B[1;32m     47\u001B[0m \u001B[38;5;124;03m\"\"\"\u001B[39;00m\n\u001B[1;32m     49\u001B[0m _keys: \u001B[38;5;28mset\u001B[39m[\u001B[38;5;28mstr\u001B[39m] \u001B[38;5;241m=\u001B[39m {\u001B[38;5;124m\"\u001B[39m\u001B[38;5;124mallows_duplicate_labels\u001B[39m\u001B[38;5;124m\"\u001B[39m}\n\u001B[0;32m---> 51\u001B[0m \u001B[38;5;28;01mdef\u001B[39;00m \u001B[38;5;21m__init__\u001B[39m(\u001B[38;5;28mself\u001B[39m, obj: NDFrame, \u001B[38;5;241m*\u001B[39m, allows_duplicate_labels: \u001B[38;5;28mbool\u001B[39m) \u001B[38;5;241m-\u001B[39m\u001B[38;5;241m>\u001B[39m \u001B[38;5;28;01mNone\u001B[39;00m:\n\u001B[1;32m     52\u001B[0m     \u001B[38;5;28mself\u001B[39m\u001B[38;5;241m.\u001B[39m_allows_duplicate_labels \u001B[38;5;241m=\u001B[39m allows_duplicate_labels\n\u001B[1;32m     53\u001B[0m     \u001B[38;5;28mself\u001B[39m\u001B[38;5;241m.\u001B[39m_obj \u001B[38;5;241m=\u001B[39m weakref\u001B[38;5;241m.\u001B[39mref(obj)\n",
      "\u001B[0;31mKeyboardInterrupt\u001B[0m: "
     ]
    }
   ],
   "execution_count": 7
  },
  {
   "metadata": {},
   "cell_type": "code",
   "source": [
    "best_features = [k for k,v in study.best_trial.params.items() if v]\n",
    "len(best_features)"
   ],
   "id": "46309397f92230fb",
   "outputs": [],
   "execution_count": null
  },
  {
   "metadata": {},
   "cell_type": "code",
   "source": "# pd.Series(best_features).to_csv('best_features.csv', index=False)",
   "id": "57345f0c44ba4e67",
   "outputs": [],
   "execution_count": null
  }
 ],
 "metadata": {
  "kernelspec": {
   "display_name": "Python 3",
   "language": "python",
   "name": "python3"
  },
  "language_info": {
   "codemirror_mode": {
    "name": "ipython",
    "version": 2
   },
   "file_extension": ".py",
   "mimetype": "text/x-python",
   "name": "python",
   "nbconvert_exporter": "python",
   "pygments_lexer": "ipython2",
   "version": "2.7.6"
  }
 },
 "nbformat": 4,
 "nbformat_minor": 5
}
