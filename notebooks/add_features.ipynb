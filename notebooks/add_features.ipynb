{
 "cells": [
  {
   "metadata": {},
   "cell_type": "markdown",
   "source": [
    "## Installation\n",
    "\n",
    "```mamba install -c conda-forge molfeat datamol```\n",
    "\n",
    "or\n",
    "\n",
    "```conda install -c conda-forge molfeat datamol```"
   ],
   "id": "a8ed7586694019bc"
  },
  {
   "metadata": {},
   "cell_type": "markdown",
   "source": "# DataMol framework",
   "id": "84debf9c9b426f15"
  },
  {
   "cell_type": "code",
   "id": "initial_id",
   "metadata": {
    "collapsed": true
   },
   "source": [
    "import datamol as dm\n",
    "from datamol import standardize_smiles\n",
    "\n",
    "# read\n",
    "df = dm.read_csv('train.csv', smiles_column='smi', index_col=0)\n",
    "df"
   ],
   "outputs": [],
   "execution_count": null
  },
  {
   "metadata": {},
   "cell_type": "code",
   "source": [
    "# viz to_image\n",
    "dm.viz.to_image(df.mol, mol_size=(200, 200))"
   ],
   "id": "9f6650f95f8541",
   "outputs": [],
   "execution_count": null
  },
  {
   "metadata": {},
   "cell_type": "code",
   "source": "df.mol[2]",
   "id": "397a359ab19ed5db",
   "outputs": [],
   "execution_count": null
  },
  {
   "metadata": {},
   "cell_type": "code",
   "source": [
    "# strip to core\n",
    "dm.strip_mol_to_core(df.mol[2])"
   ],
   "id": "bf194f292e2c8da7",
   "outputs": [],
   "execution_count": null
  },
  {
   "metadata": {},
   "cell_type": "markdown",
   "source": "# Molfeat",
   "id": "b7e103b052f9c65f"
  },
  {
   "metadata": {
    "ExecuteTime": {
     "end_time": "2024-09-12T06:25:53.645912Z",
     "start_time": "2024-09-12T06:25:53.572450Z"
    }
   },
   "cell_type": "code",
   "source": [
    "# fpvec transformers\n",
    "import numpy as np\n",
    "from molfeat.trans import FPVecTransformer, FeatConcat\n",
    "from molfeat.trans import FPVecTransformer, FeatConcat\n",
    "\n",
    "\n",
    "\n",
    "trans = FPVecTransformer('desc2D', do_not_standardize=True)\n",
    "\n",
    "with dm.without_rdkit_log():\n",
    "    res = trans(df.mol)\n",
    "\n",
    "print(res.shape, len(trans))\n",
    "# print(res)\n"
   ],
   "id": "be2b088d46255162",
   "outputs": [
    {
     "name": "stdout",
     "output_type": "stream",
     "text": [
      "(10, 131) 131\n"
     ]
    }
   ],
   "execution_count": 28
  },
  {
   "metadata": {},
   "cell_type": "code",
   "source": [
    "# featconcat\n",
    "\n",
    "trans = FeatConcat([\n",
    "    FPVecTransformer('ecfp:4', length=32, dtype=int),\n",
    "    FPVecTransformer('avalon', length=32, dtype=int),\n",
    "])\n",
    "\n",
    "with dm.without_rdkit_log():\n",
    "    res = trans(df.mol)\n",
    "\n",
    "res.shape"
   ],
   "id": "3967871fb883ca3b",
   "outputs": [],
   "execution_count": null
  },
  {
   "metadata": {
    "ExecuteTime": {
     "end_time": "2024-09-12T06:27:26.594520Z",
     "start_time": "2024-09-12T06:27:26.452750Z"
    }
   },
   "cell_type": "code",
   "source": [
    "# single calculators\n",
    "from molfeat.calc import MordredDescriptors, RDKitDescriptors2D\n",
    "\n",
    "mord = MordredDescriptors()\n",
    "\n",
    "mord(df.mol[0])"
   ],
   "id": "280ba19c88d4fdf8",
   "outputs": [
    {
     "data": {
      "text/plain": [
       "array([ 15.77486167,  13.37054663,   0.        , ..., 152.        ,\n",
       "         6.54166667,   3.79861111])"
      ]
     },
     "execution_count": 38,
     "metadata": {},
     "output_type": "execute_result"
    }
   ],
   "execution_count": 38
  },
  {
   "metadata": {
    "ExecuteTime": {
     "end_time": "2024-09-12T06:27:44.016009Z",
     "start_time": "2024-09-12T06:27:43.933077Z"
    }
   },
   "cell_type": "code",
   "source": [
    "calc = RDKitDescriptors2D()\n",
    "calc(df.mol[0])"
   ],
   "id": "4f2ff35c4b08dfc5",
   "outputs": [
    {
     "name": "stderr",
     "output_type": "stream",
     "text": [
      "[08:27:43] Initializing MetalDisconnector\n",
      "[08:27:43] Running MetalDisconnector\n",
      "[08:27:43] Initializing Normalizer\n",
      "[08:27:43] Running Normalizer\n"
     ]
    },
    {
     "ename": "FileNotFoundError",
     "evalue": "[Errno 2] No such file or directory: 'C:/Users/alexander.korolyov/miniforge3/envs/chem/Library\\\\share/RDKit\\\\Data\\\\Salts.txt'",
     "output_type": "error",
     "traceback": [
      "\u001B[1;31m---------------------------------------------------------------------------\u001B[0m",
      "\u001B[1;31mFileNotFoundError\u001B[0m                         Traceback (most recent call last)",
      "Cell \u001B[1;32mIn[40], line 2\u001B[0m\n\u001B[0;32m      1\u001B[0m calc \u001B[38;5;241m=\u001B[39m RDKitDescriptors2D()\n\u001B[1;32m----> 2\u001B[0m \u001B[43mcalc\u001B[49m\u001B[43m(\u001B[49m\u001B[43mdf\u001B[49m\u001B[38;5;241;43m.\u001B[39;49m\u001B[43mmol\u001B[49m\u001B[43m[\u001B[49m\u001B[38;5;241;43m0\u001B[39;49m\u001B[43m]\u001B[49m\u001B[43m)\u001B[49m\n",
      "File \u001B[1;32m~\\miniforge3\\envs\\chem\\lib\\site-packages\\molfeat\\utils\\commons.py:276\u001B[0m, in \u001B[0;36mrequires_standardization.<locals>._standardize_mol.<locals>.class_wrapped_function\u001B[1;34m(ref, mol, *args, **kwargs)\u001B[0m\n\u001B[0;32m    273\u001B[0m \u001B[38;5;129m@functools\u001B[39m\u001B[38;5;241m.\u001B[39mwraps(calculator)\n\u001B[0;32m    274\u001B[0m \u001B[38;5;28;01mdef\u001B[39;00m \u001B[38;5;21mclass_wrapped_function\u001B[39m(ref, mol, \u001B[38;5;241m*\u001B[39margs, \u001B[38;5;241m*\u001B[39m\u001B[38;5;241m*\u001B[39mkwargs):\n\u001B[0;32m    275\u001B[0m     \u001B[38;5;28;01mif\u001B[39;00m \u001B[38;5;129;01mnot\u001B[39;00m \u001B[38;5;28mgetattr\u001B[39m(ref, \u001B[38;5;124m\"\u001B[39m\u001B[38;5;124mdo_not_standardize\u001B[39m\u001B[38;5;124m\"\u001B[39m, \u001B[38;5;28;01mFalse\u001B[39;00m):\n\u001B[1;32m--> 276\u001B[0m         mol \u001B[38;5;241m=\u001B[39m _clean_mol_for_descriptors(\n\u001B[0;32m    277\u001B[0m             mol,\n\u001B[0;32m    278\u001B[0m             disconnect_metals\u001B[38;5;241m=\u001B[39mdisconnect_metals,\n\u001B[0;32m    279\u001B[0m             remove_salt\u001B[38;5;241m=\u001B[39mremove_salt,\n\u001B[0;32m    280\u001B[0m             \u001B[38;5;241m*\u001B[39m\u001B[38;5;241m*\u001B[39mstandardize_kwargs,\n\u001B[0;32m    281\u001B[0m         )\n\u001B[0;32m    282\u001B[0m     \u001B[38;5;28;01mreturn\u001B[39;00m calculator(ref, mol, \u001B[38;5;241m*\u001B[39margs, \u001B[38;5;241m*\u001B[39m\u001B[38;5;241m*\u001B[39mkwargs)\n",
      "File \u001B[1;32m~\\miniforge3\\envs\\chem\\lib\\site-packages\\molfeat\\utils\\commons.py:70\u001B[0m, in \u001B[0;36m_clean_mol_for_descriptors\u001B[1;34m(mol, disconnect_metals, remove_salt, **kwargs)\u001B[0m\n\u001B[0;32m     68\u001B[0m mol \u001B[38;5;241m=\u001B[39m dm\u001B[38;5;241m.\u001B[39mstandardize_mol(mol, disconnect_metals\u001B[38;5;241m=\u001B[39mdisconnect_metals, \u001B[38;5;241m*\u001B[39m\u001B[38;5;241m*\u001B[39mkwargs)\n\u001B[0;32m     69\u001B[0m \u001B[38;5;28;01mif\u001B[39;00m remove_salt:\n\u001B[1;32m---> 70\u001B[0m     remover \u001B[38;5;241m=\u001B[39m \u001B[43mSaltRemover\u001B[49m\u001B[38;5;241;43m.\u001B[39;49m\u001B[43mSaltRemover\u001B[49m\u001B[43m(\u001B[49m\u001B[43m)\u001B[49m\n\u001B[0;32m     71\u001B[0m     mol \u001B[38;5;241m=\u001B[39m remover\u001B[38;5;241m.\u001B[39mStripMol(mol, dontRemoveEverything\u001B[38;5;241m=\u001B[39m\u001B[38;5;28;01mTrue\u001B[39;00m)\n\u001B[0;32m     72\u001B[0m \u001B[38;5;28;01mreturn\u001B[39;00m mol\n",
      "File \u001B[1;32m~\\miniforge3\\envs\\chem\\lib\\site-packages\\rdkit\\Chem\\SaltRemover.py:92\u001B[0m, in \u001B[0;36mSaltRemover.__init__\u001B[1;34m(self, defnFilename, defnData, defnFormat)\u001B[0m\n\u001B[0;32m     90\u001B[0m \u001B[38;5;28mself\u001B[39m\u001B[38;5;241m.\u001B[39msalts \u001B[38;5;241m=\u001B[39m \u001B[38;5;28;01mNone\u001B[39;00m\n\u001B[0;32m     91\u001B[0m \u001B[38;5;28mself\u001B[39m\u001B[38;5;241m.\u001B[39mdefnFormat \u001B[38;5;241m=\u001B[39m defnFormat\n\u001B[1;32m---> 92\u001B[0m \u001B[38;5;28;43mself\u001B[39;49m\u001B[38;5;241;43m.\u001B[39;49m\u001B[43m_initPatterns\u001B[49m\u001B[43m(\u001B[49m\u001B[43m)\u001B[49m\n",
      "File \u001B[1;32m~\\miniforge3\\envs\\chem\\lib\\site-packages\\rdkit\\Chem\\SaltRemover.py:137\u001B[0m, in \u001B[0;36mSaltRemover._initPatterns\u001B[1;34m(self)\u001B[0m\n\u001B[0;32m    135\u001B[0m \u001B[38;5;28;01melse\u001B[39;00m:\n\u001B[0;32m    136\u001B[0m   \u001B[38;5;28;01mif\u001B[39;00m \u001B[38;5;28mself\u001B[39m\u001B[38;5;241m.\u001B[39mdefnFormat \u001B[38;5;241m==\u001B[39m InputFormat\u001B[38;5;241m.\u001B[39mSMARTS:\n\u001B[1;32m--> 137\u001B[0m     \u001B[38;5;28mself\u001B[39m\u001B[38;5;241m.\u001B[39msalts \u001B[38;5;241m=\u001B[39m [mol \u001B[38;5;28;01mfor\u001B[39;00m mol \u001B[38;5;129;01min\u001B[39;00m \u001B[43m_getSmartsSaltsFromFile\u001B[49m\u001B[43m(\u001B[49m\u001B[38;5;28;43mself\u001B[39;49m\u001B[38;5;241;43m.\u001B[39;49m\u001B[43mdefnFilename\u001B[49m\u001B[43m)\u001B[49m]\n\u001B[0;32m    138\u001B[0m   \u001B[38;5;28;01melif\u001B[39;00m \u001B[38;5;28mself\u001B[39m\u001B[38;5;241m.\u001B[39mdefnFormat \u001B[38;5;241m==\u001B[39m InputFormat\u001B[38;5;241m.\u001B[39mMOL:\n\u001B[0;32m    139\u001B[0m     \u001B[38;5;28mself\u001B[39m\u001B[38;5;241m.\u001B[39msalts \u001B[38;5;241m=\u001B[39m [mol \u001B[38;5;28;01mfor\u001B[39;00m mol \u001B[38;5;129;01min\u001B[39;00m SDMolSupplier(\u001B[38;5;28mself\u001B[39m\u001B[38;5;241m.\u001B[39mdefnFilename)]\n",
      "File \u001B[1;32m~\\miniforge3\\envs\\chem\\lib\\site-packages\\rdkit\\Chem\\SaltRemover.py:80\u001B[0m, in \u001B[0;36m_getSmartsSaltsFromFile\u001B[1;34m(filename)\u001B[0m\n\u001B[0;32m     76\u001B[0m \u001B[38;5;28;01mdef\u001B[39;00m \u001B[38;5;21m_getSmartsSaltsFromFile\u001B[39m(filename):\n\u001B[0;32m     77\u001B[0m \u001B[38;5;250m  \u001B[39m\u001B[38;5;124;03m\"\"\"\u001B[39;00m\n\u001B[0;32m     78\u001B[0m \u001B[38;5;124;03m    Extracts SMARTS salts from given file object.\u001B[39;00m\n\u001B[0;32m     79\u001B[0m \u001B[38;5;124;03m    \"\"\"\u001B[39;00m\n\u001B[1;32m---> 80\u001B[0m   \u001B[38;5;28;01mreturn\u001B[39;00m _getSmartsSaltsFromStream(\u001B[38;5;28;43mopen\u001B[39;49m\u001B[43m(\u001B[49m\u001B[43mfilename\u001B[49m\u001B[43m,\u001B[49m\u001B[43m \u001B[49m\u001B[38;5;124;43m'\u001B[39;49m\u001B[38;5;124;43mr\u001B[39;49m\u001B[38;5;124;43m'\u001B[39;49m\u001B[43m)\u001B[49m)\n",
      "\u001B[1;31mFileNotFoundError\u001B[0m: [Errno 2] No such file or directory: 'C:/Users/alexander.korolyov/miniforge3/envs/chem/Library\\\\share/RDKit\\\\Data\\\\Salts.txt'"
     ]
    }
   ],
   "execution_count": 40
  },
  {
   "metadata": {},
   "cell_type": "code",
   "source": [
    "ADD_3D_FEATS = True\n",
    "\n",
    "feats2D_params = [\n",
    "    # fps\n",
    "    {'kind': 'ecfp:4', 'length': 1024},    \n",
    "    {'kind': 'topological', 'length': 1024, 'n_jobs': -1},\n",
    "    {'kind': 'avalon', 'length': 1024, 'n_jobs': -1},\n",
    "    {'kind': 'layered', 'length': 1024, 'n_jobs': -1},\n",
    "    {'kind': 'secfp', 'length': 1024, 'n_jobs': -1},\n",
    "    {'kind': 'pattern', 'length': 1024, 'n_jobs': -1},\n",
    "    {'kind': 'pharm2D', 'length': 1024, 'n_jobs': -1},\n",
    "    \n",
    "    # fixed length fps\n",
    "    {'kind': 'erg', 'n_jobs': -1},\n",
    "    {'kind': 'maccs', 'n_jobs': -1},\n",
    "    \n",
    "    # fixed length descriptors - to normalize\n",
    "    {'kind': 'estate', 'n_jobs': -1},\n",
    "    {'kind': 'desc2D', 'n_jobs': -1},\n",
    "    {'kind': 'mordred', 'n_jobs': -1},\n",
    "    {'kind': 'cats2D', 'n_jobs': -1},\n",
    "    {'kind': 'scaffoldkeys', 'n_jobs': -1},\n",
    "    {'kind': 'skeys', 'n_jobs': -1},\n",
    "]\n",
    "\n",
    "feats3D_params = [\n",
    "    {'kind': 'pharm3D', 'length': 1024, 'n_jobs': -1},\n",
    "    {'kind': 'desc3D', 'n_jobs': -1},\n",
    "    {'kind': 'cats3D', 'n_jobs': -1},\n",
    "    {'kind': 'electroshape', 'n_jobs': -1},\n",
    "    {'kind': 'usr'},\n",
    "    {'kind': 'usrcat'},\n",
    "]"
   ],
   "id": "b5bf6fcb0477a97e",
   "outputs": [],
   "execution_count": null
  },
  {
   "metadata": {},
   "cell_type": "markdown",
   "source": "# HuggingFace Models",
   "id": "65f8b21a8569b04e"
  },
  {
   "metadata": {},
   "cell_type": "code",
   "source": [
    "from molfeat.store.modelstore import ModelStore\n",
    "store = ModelStore()"
   ],
   "id": "6248223ab9028eec",
   "outputs": [],
   "execution_count": null
  },
  {
   "metadata": {},
   "cell_type": "code",
   "source": [
    "# list of huggingface models in store\n",
    "hf_models = [x.name for x in store.available_models if x.group == 'huggingface']\n",
    "print(hf_models)"
   ],
   "id": "cafd2a85052e1ec8",
   "outputs": [],
   "execution_count": null
  },
  {
   "metadata": {},
   "cell_type": "code",
   "source": "[x.description for x in store.available_models if x.name == 'ChemBERTa-77M-MTR']    ",
   "id": "f0dea659d4030954",
   "outputs": [],
   "execution_count": null
  },
  {
   "metadata": {},
   "cell_type": "code",
   "source": [
    "from molfeat.trans.pretrained.hf_transformers import PretrainedHFTransformer\n",
    "\n",
    "for name in hf_models:\n",
    "    trans = PretrainedHFTransformer(name)\n",
    "    print(name, trans(['C1NCC1']).shape)"
   ],
   "id": "66547e1dd0499b82",
   "outputs": [],
   "execution_count": null
  }
 ],
 "metadata": {
  "kernelspec": {
   "display_name": "chem",
   "language": "python",
   "name": "chem"
  },
  "language_info": {
   "codemirror_mode": {
    "name": "ipython",
    "version": 2
   },
   "file_extension": ".py",
   "mimetype": "text/x-python",
   "name": "python",
   "nbconvert_exporter": "python",
   "pygments_lexer": "ipython2",
   "version": "2.7.6"
  }
 },
 "nbformat": 4,
 "nbformat_minor": 5
}
