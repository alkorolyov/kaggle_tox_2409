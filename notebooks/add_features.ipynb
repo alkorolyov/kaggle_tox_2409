{
 "cells": [
  {
   "metadata": {},
   "cell_type": "markdown",
   "source": [
    "## Installation\n",
    "\n",
    "```mamba install -c conda-forge molfeat datamol```\n",
    "\n",
    "or\n",
    "\n",
    "```conda install -c conda-forge molfeat datamol```"
   ],
   "id": "a8ed7586694019bc"
  },
  {
   "metadata": {},
   "cell_type": "markdown",
   "source": "# DataMol framework",
   "id": "84debf9c9b426f15"
  },
  {
   "metadata": {
    "ExecuteTime": {
     "end_time": "2024-09-12T13:03:42.095901Z",
     "start_time": "2024-09-12T13:03:42.090732Z"
    }
   },
   "cell_type": "code",
   "source": "import datamol as dm",
   "id": "3cb9b30b233e7660",
   "outputs": [],
   "execution_count": 1
  },
  {
   "metadata": {
    "ExecuteTime": {
     "end_time": "2024-09-12T13:03:43.995818Z",
     "start_time": "2024-09-12T13:03:43.520493Z"
    }
   },
   "cell_type": "code",
   "source": "df = dm.read_csv('train.csv', smiles_column='smi')",
   "id": "592987d51f295fe3",
   "outputs": [],
   "execution_count": 2
  },
  {
   "metadata": {
    "ExecuteTime": {
     "end_time": "2024-09-12T13:03:45.136478Z",
     "start_time": "2024-09-12T13:03:45.019141Z"
    }
   },
   "cell_type": "code",
   "source": "dm.viz.to_image(df.mol)",
   "id": "32eae97cdfbc4918",
   "outputs": [
    {
     "data": {
      "text/plain": [
       "<IPython.core.display.SVG object>"
      ],
      "image/svg+xml": "<svg xmlns=\"http://www.w3.org/2000/svg\" xmlns:rdkit=\"http://www.rdkit.org/xml\" xmlns:xlink=\"http://www.w3.org/1999/xlink\" version=\"1.1\" baseProfile=\"full\" xml:space=\"preserve\" width=\"1200px\" height=\"900px\" viewBox=\"0 0 1200 900\">\n<!-- END OF HEADER -->\n<rect style=\"opacity:1.0;fill:#FFFFFF;stroke:none\" width=\"1200.0\" height=\"900.0\" x=\"0.0\" y=\"0.0\"> </rect>\n<path class=\"bond-0 atom-0 atom-1\" d=\"M 149.9,211.0 L 129.3,183.6\" style=\"fill:none;fill-rule:evenodd;stroke:#000000;stroke-width:2.0px;stroke-linecap:butt;stroke-linejoin:miter;stroke-opacity:1\"/>\n<path class=\"bond-1 atom-1 atom-2\" d=\"M 129.3,183.6 L 95.2,187.8\" style=\"fill:none;fill-rule:evenodd;stroke:#000000;stroke-width:2.0px;stroke-linecap:butt;stroke-linejoin:miter;stroke-opacity:1\"/>\n<path class=\"bond-1 atom-1 atom-2\" d=\"M 125.7,178.9 L 97.6,182.3\" style=\"fill:none;fill-rule:evenodd;stroke:#000000;stroke-width:2.0px;stroke-linecap:butt;stroke-linejoin:miter;stroke-opacity:1\"/>\n<path class=\"bond-2 atom-2 atom-3\" d=\"M 95.2,187.8 L 74.6,160.4\" style=\"fill:none;fill-rule:evenodd;stroke:#000000;stroke-width:2.0px;stroke-linecap:butt;stroke-linejoin:miter;stroke-opacity:1\"/>\n<path class=\"bond-3 atom-3 atom-4\" d=\"M 75.8,157.6 L 60.8,159.4\" style=\"fill:none;fill-rule:evenodd;stroke:#000000;stroke-width:2.0px;stroke-linecap:butt;stroke-linejoin:miter;stroke-opacity:1\"/>\n<path class=\"bond-3 atom-3 atom-4\" d=\"M 60.8,159.4 L 45.9,161.3\" style=\"fill:none;fill-rule:evenodd;stroke:#FF0000;stroke-width:2.0px;stroke-linecap:butt;stroke-linejoin:miter;stroke-opacity:1\"/>\n<path class=\"bond-3 atom-3 atom-4\" d=\"M 76.4,162.7 L 61.4,164.6\" style=\"fill:none;fill-rule:evenodd;stroke:#000000;stroke-width:2.0px;stroke-linecap:butt;stroke-linejoin:miter;stroke-opacity:1\"/>\n<path class=\"bond-3 atom-3 atom-4\" d=\"M 61.4,164.6 L 46.5,166.4\" style=\"fill:none;fill-rule:evenodd;stroke:#FF0000;stroke-width:2.0px;stroke-linecap:butt;stroke-linejoin:miter;stroke-opacity:1\"/>\n<path class=\"bond-4 atom-3 atom-5\" d=\"M 74.6,160.4 L 80.0,147.7\" style=\"fill:none;fill-rule:evenodd;stroke:#000000;stroke-width:2.0px;stroke-linecap:butt;stroke-linejoin:miter;stroke-opacity:1\"/>\n<path class=\"bond-4 atom-3 atom-5\" d=\"M 80.0,147.7 L 85.4,135.0\" style=\"fill:none;fill-rule:evenodd;stroke:#FF0000;stroke-width:2.0px;stroke-linecap:butt;stroke-linejoin:miter;stroke-opacity:1\"/>\n<path class=\"bond-5 atom-5 atom-6\" d=\"M 93.7,128.1 L 107.9,126.4\" style=\"fill:none;fill-rule:evenodd;stroke:#FF0000;stroke-width:2.0px;stroke-linecap:butt;stroke-linejoin:miter;stroke-opacity:1\"/>\n<path class=\"bond-5 atom-5 atom-6\" d=\"M 107.9,126.4 L 122.1,124.7\" style=\"fill:none;fill-rule:evenodd;stroke:#000000;stroke-width:2.0px;stroke-linecap:butt;stroke-linejoin:miter;stroke-opacity:1\"/>\n<path class=\"bond-6 atom-6 atom-7\" d=\"M 122.1,124.7 L 135.6,93.1\" style=\"fill:none;fill-rule:evenodd;stroke:#000000;stroke-width:2.0px;stroke-linecap:butt;stroke-linejoin:miter;stroke-opacity:1\"/>\n<path class=\"bond-6 atom-6 atom-7\" d=\"M 128.0,123.9 L 139.1,97.8\" style=\"fill:none;fill-rule:evenodd;stroke:#000000;stroke-width:2.0px;stroke-linecap:butt;stroke-linejoin:miter;stroke-opacity:1\"/>\n<path class=\"bond-7 atom-7 atom-8\" d=\"M 135.6,93.1 L 169.6,89.0\" style=\"fill:none;fill-rule:evenodd;stroke:#000000;stroke-width:2.0px;stroke-linecap:butt;stroke-linejoin:miter;stroke-opacity:1\"/>\n<path class=\"bond-8 atom-8 atom-9\" d=\"M 169.6,89.0 L 190.2,116.4\" style=\"fill:none;fill-rule:evenodd;stroke:#000000;stroke-width:2.0px;stroke-linecap:butt;stroke-linejoin:miter;stroke-opacity:1\"/>\n<path class=\"bond-8 atom-8 atom-9\" d=\"M 167.3,94.4 L 184.3,117.1\" style=\"fill:none;fill-rule:evenodd;stroke:#000000;stroke-width:2.0px;stroke-linecap:butt;stroke-linejoin:miter;stroke-opacity:1\"/>\n<path class=\"bond-9 atom-9 atom-10\" d=\"M 190.2,116.4 L 176.8,147.9\" style=\"fill:none;fill-rule:evenodd;stroke:#000000;stroke-width:2.0px;stroke-linecap:butt;stroke-linejoin:miter;stroke-opacity:1\"/>\n<path class=\"bond-10 atom-10 atom-11\" d=\"M 176.8,147.9 L 142.7,152.1\" style=\"fill:none;fill-rule:evenodd;stroke:#000000;stroke-width:2.0px;stroke-linecap:butt;stroke-linejoin:miter;stroke-opacity:1\"/>\n<path class=\"bond-10 atom-10 atom-11\" d=\"M 173.2,143.2 L 145.1,146.6\" style=\"fill:none;fill-rule:evenodd;stroke:#000000;stroke-width:2.0px;stroke-linecap:butt;stroke-linejoin:miter;stroke-opacity:1\"/>\n<path class=\"bond-11 atom-10 atom-12\" d=\"M 176.8,147.9 L 202.6,170.5\" style=\"fill:none;fill-rule:evenodd;stroke:#000000;stroke-width:2.0px;stroke-linecap:butt;stroke-linejoin:miter;stroke-opacity:1\"/>\n<path class=\"bond-12 atom-12 atom-13\" d=\"M 202.6,170.5 L 176.3,192.5\" style=\"fill:none;fill-rule:evenodd;stroke:#000000;stroke-width:2.0px;stroke-linecap:butt;stroke-linejoin:miter;stroke-opacity:1\"/>\n<path class=\"bond-13 atom-12 atom-14\" d=\"M 202.6,170.5 L 209.6,182.1\" style=\"fill:none;fill-rule:evenodd;stroke:#000000;stroke-width:2.0px;stroke-linecap:butt;stroke-linejoin:miter;stroke-opacity:1\"/>\n<path class=\"bond-13 atom-12 atom-14\" d=\"M 209.6,182.1 L 216.7,193.8\" style=\"fill:none;fill-rule:evenodd;stroke:#FF0000;stroke-width:2.0px;stroke-linecap:butt;stroke-linejoin:miter;stroke-opacity:1\"/>\n<path class=\"bond-14 atom-14 atom-15\" d=\"M 225.9,196.5 L 244.1,185.6\" style=\"fill:none;fill-rule:evenodd;stroke:#FF0000;stroke-width:2.0px;stroke-linecap:butt;stroke-linejoin:miter;stroke-opacity:1\"/>\n<path class=\"bond-15 atom-15 atom-16\" d=\"M 246.1,176.2 L 239.1,164.5\" style=\"fill:none;fill-rule:evenodd;stroke:#FF0000;stroke-width:2.0px;stroke-linecap:butt;stroke-linejoin:miter;stroke-opacity:1\"/>\n<path class=\"bond-15 atom-15 atom-16\" d=\"M 239.1,164.5 L 232.1,152.8\" style=\"fill:none;fill-rule:evenodd;stroke:#000000;stroke-width:2.0px;stroke-linecap:butt;stroke-linejoin:miter;stroke-opacity:1\"/>\n<path class=\"bond-16 atom-16 atom-17\" d=\"M 232.1,152.8 L 263.9,140.0\" style=\"fill:none;fill-rule:evenodd;stroke:#000000;stroke-width:2.0px;stroke-linecap:butt;stroke-linejoin:miter;stroke-opacity:1\"/>\n<path class=\"bond-17 atom-16 atom-18\" d=\"M 232.1,152.8 L 228.9,139.2\" style=\"fill:none;fill-rule:evenodd;stroke:#000000;stroke-width:2.0px;stroke-linecap:butt;stroke-linejoin:miter;stroke-opacity:1\"/>\n<path class=\"bond-17 atom-16 atom-18\" d=\"M 228.9,139.2 L 225.8,125.6\" style=\"fill:none;fill-rule:evenodd;stroke:#FF0000;stroke-width:2.0px;stroke-linecap:butt;stroke-linejoin:miter;stroke-opacity:1\"/>\n<path class=\"bond-18 atom-11 atom-1\" d=\"M 142.7,152.1 L 129.3,183.6\" style=\"fill:none;fill-rule:evenodd;stroke:#000000;stroke-width:2.0px;stroke-linecap:butt;stroke-linejoin:miter;stroke-opacity:1\"/>\n<path class=\"bond-19 atom-16 atom-12\" d=\"M 232.1,152.8 L 202.6,170.5\" style=\"fill:none;fill-rule:evenodd;stroke:#000000;stroke-width:2.0px;stroke-linecap:butt;stroke-linejoin:miter;stroke-opacity:1\"/>\n<path class=\"bond-20 atom-11 atom-6\" d=\"M 142.7,152.1 L 122.1,124.7\" style=\"fill:none;fill-rule:evenodd;stroke:#000000;stroke-width:2.0px;stroke-linecap:butt;stroke-linejoin:miter;stroke-opacity:1\"/>\n<path class=\"bond-21 atom-18 atom-9\" d=\"M 218.8,118.9 L 204.5,117.6\" style=\"fill:none;fill-rule:evenodd;stroke:#FF0000;stroke-width:2.0px;stroke-linecap:butt;stroke-linejoin:miter;stroke-opacity:1\"/>\n<path class=\"bond-21 atom-18 atom-9\" d=\"M 204.5,117.6 L 190.2,116.4\" style=\"fill:none;fill-rule:evenodd;stroke:#000000;stroke-width:2.0px;stroke-linecap:butt;stroke-linejoin:miter;stroke-opacity:1\"/>\n<path d=\"M 96.9,187.6 L 95.2,187.8 L 94.2,186.4\" style=\"fill:none;stroke:#000000;stroke-width:2.0px;stroke-linecap:butt;stroke-linejoin:miter;stroke-opacity:1;\"/>\n<path d=\"M 75.7,161.7 L 74.6,160.4 L 74.9,159.7\" style=\"fill:none;stroke:#000000;stroke-width:2.0px;stroke-linecap:butt;stroke-linejoin:miter;stroke-opacity:1;\"/>\n<path d=\"M 134.9,94.7 L 135.6,93.1 L 137.3,92.9\" style=\"fill:none;stroke:#000000;stroke-width:2.0px;stroke-linecap:butt;stroke-linejoin:miter;stroke-opacity:1;\"/>\n<path d=\"M 167.9,89.2 L 169.6,89.0 L 170.6,90.3\" style=\"fill:none;stroke:#000000;stroke-width:2.0px;stroke-linecap:butt;stroke-linejoin:miter;stroke-opacity:1;\"/>\n<path class=\"atom-4\" d=\"M 36.1 164.5 Q 36.1 162.2, 37.3 160.9 Q 38.4 159.6, 40.6 159.6 Q 42.7 159.6, 43.9 160.9 Q 45.0 162.2, 45.0 164.5 Q 45.0 166.9, 43.9 168.2 Q 42.7 169.6, 40.6 169.6 Q 38.4 169.6, 37.3 168.2 Q 36.1 166.9, 36.1 164.5 M 40.6 168.5 Q 42.1 168.5, 42.9 167.5 Q 43.7 166.5, 43.7 164.5 Q 43.7 162.6, 42.9 161.7 Q 42.1 160.7, 40.6 160.7 Q 39.1 160.7, 38.3 161.6 Q 37.5 162.6, 37.5 164.5 Q 37.5 166.5, 38.3 167.5 Q 39.1 168.5, 40.6 168.5 \" fill=\"#FF0000\"/>\n<path class=\"atom-5\" d=\"M 83.6 128.8 Q 83.6 126.5, 84.8 125.2 Q 85.9 123.9, 88.1 123.9 Q 90.2 123.9, 91.4 125.2 Q 92.5 126.5, 92.5 128.8 Q 92.5 131.2, 91.4 132.5 Q 90.2 133.9, 88.1 133.9 Q 85.9 133.9, 84.8 132.5 Q 83.6 131.2, 83.6 128.8 M 88.1 132.8 Q 89.5 132.8, 90.3 131.8 Q 91.2 130.8, 91.2 128.8 Q 91.2 126.9, 90.3 126.0 Q 89.5 125.0, 88.1 125.0 Q 86.6 125.0, 85.8 125.9 Q 85.0 126.9, 85.0 128.8 Q 85.0 130.8, 85.8 131.8 Q 86.6 132.8, 88.1 132.8 \" fill=\"#FF0000\"/>\n<path class=\"atom-14\" d=\"M 215.8 199.9 Q 215.8 197.6, 217.0 196.3 Q 218.1 195.0, 220.3 195.0 Q 222.4 195.0, 223.6 196.3 Q 224.7 197.6, 224.7 199.9 Q 224.7 202.3, 223.6 203.6 Q 222.4 204.9, 220.3 204.9 Q 218.1 204.9, 217.0 203.6 Q 215.8 202.3, 215.8 199.9 M 220.3 203.8 Q 221.8 203.8, 222.6 202.9 Q 223.4 201.9, 223.4 199.9 Q 223.4 198.0, 222.6 197.0 Q 221.8 196.1, 220.3 196.1 Q 218.8 196.1, 218.0 197.0 Q 217.2 198.0, 217.2 199.9 Q 217.2 201.9, 218.0 202.9 Q 218.8 203.8, 220.3 203.8 \" fill=\"#FF0000\"/>\n<path class=\"atom-15\" d=\"M 245.2 182.3 Q 245.2 179.9, 246.4 178.6 Q 247.5 177.3, 249.7 177.3 Q 251.8 177.3, 253.0 178.6 Q 254.2 179.9, 254.2 182.3 Q 254.2 184.6, 253.0 186.0 Q 251.8 187.3, 249.7 187.3 Q 247.6 187.3, 246.4 186.0 Q 245.2 184.6, 245.2 182.3 M 249.7 186.2 Q 251.2 186.2, 252.0 185.2 Q 252.8 184.2, 252.8 182.3 Q 252.8 180.4, 252.0 179.4 Q 251.2 178.4, 249.7 178.4 Q 248.2 178.4, 247.4 179.4 Q 246.6 180.4, 246.6 182.3 Q 246.6 184.2, 247.4 185.2 Q 248.2 186.2, 249.7 186.2 \" fill=\"#FF0000\"/>\n<path class=\"atom-18\" d=\"M 219.9 119.4 Q 219.9 117.1, 221.1 115.8 Q 222.2 114.5, 224.4 114.5 Q 226.5 114.5, 227.7 115.8 Q 228.8 117.1, 228.8 119.4 Q 228.8 121.8, 227.7 123.1 Q 226.5 124.5, 224.4 124.5 Q 222.2 124.5, 221.1 123.1 Q 219.9 121.8, 219.9 119.4 M 224.4 123.4 Q 225.9 123.4, 226.7 122.4 Q 227.5 121.4, 227.5 119.4 Q 227.5 117.5, 226.7 116.6 Q 225.9 115.6, 224.4 115.6 Q 222.9 115.6, 222.1 116.5 Q 221.3 117.5, 221.3 119.4 Q 221.3 121.4, 222.1 122.4 Q 222.9 123.4, 224.4 123.4 \" fill=\"#FF0000\"/>\n<path class=\"bond-0 atom-0 atom-1\" d=\"M 530.7,111.6 L 518.8,119.4\" style=\"fill:none;fill-rule:evenodd;stroke:#000000;stroke-width:2.0px;stroke-linecap:butt;stroke-linejoin:miter;stroke-opacity:1\"/>\n<path class=\"bond-0 atom-0 atom-1\" d=\"M 518.8,119.4 L 506.8,127.2\" style=\"fill:none;fill-rule:evenodd;stroke:#0000FF;stroke-width:2.0px;stroke-linecap:butt;stroke-linejoin:miter;stroke-opacity:1\"/>\n<path class=\"bond-1 atom-1 atom-2\" d=\"M 497.2,127.9 L 484.3,121.4\" style=\"fill:none;fill-rule:evenodd;stroke:#0000FF;stroke-width:2.0px;stroke-linecap:butt;stroke-linejoin:miter;stroke-opacity:1\"/>\n<path class=\"bond-1 atom-1 atom-2\" d=\"M 484.3,121.4 L 471.4,114.9\" style=\"fill:none;fill-rule:evenodd;stroke:#000000;stroke-width:2.0px;stroke-linecap:butt;stroke-linejoin:miter;stroke-opacity:1\"/>\n<path class=\"bond-2 atom-2 atom-3\" d=\"M 471.4,114.9 L 442.7,133.6\" style=\"fill:none;fill-rule:evenodd;stroke:#000000;stroke-width:2.0px;stroke-linecap:butt;stroke-linejoin:miter;stroke-opacity:1\"/>\n<path class=\"bond-3 atom-3 atom-4\" d=\"M 442.7,133.6 L 443.4,147.7\" style=\"fill:none;fill-rule:evenodd;stroke:#000000;stroke-width:2.0px;stroke-linecap:butt;stroke-linejoin:miter;stroke-opacity:1\"/>\n<path class=\"bond-3 atom-3 atom-4\" d=\"M 443.4,147.7 L 444.2,161.8\" style=\"fill:none;fill-rule:evenodd;stroke:#FF0000;stroke-width:2.0px;stroke-linecap:butt;stroke-linejoin:miter;stroke-opacity:1\"/>\n<path class=\"bond-4 atom-3 atom-5\" d=\"M 442.7,133.6 L 412.1,118.1\" style=\"fill:none;fill-rule:evenodd;stroke:#000000;stroke-width:2.0px;stroke-linecap:butt;stroke-linejoin:miter;stroke-opacity:1\"/>\n<path class=\"bond-5 atom-5 atom-6\" d=\"M 412.1,118.1 L 400.5,125.7\" style=\"fill:none;fill-rule:evenodd;stroke:#000000;stroke-width:2.0px;stroke-linecap:butt;stroke-linejoin:miter;stroke-opacity:1\"/>\n<path class=\"bond-5 atom-5 atom-6\" d=\"M 400.5,125.7 L 388.9,133.2\" style=\"fill:none;fill-rule:evenodd;stroke:#FF0000;stroke-width:2.0px;stroke-linecap:butt;stroke-linejoin:miter;stroke-opacity:1\"/>\n<path class=\"bond-6 atom-1 atom-7\" d=\"M 502.3,136.3 L 503.5,158.6\" style=\"fill:none;fill-rule:evenodd;stroke:#0000FF;stroke-width:2.0px;stroke-linecap:butt;stroke-linejoin:miter;stroke-opacity:1\"/>\n<path class=\"bond-7 atom-7 atom-8\" d=\"M 497.7,165.6 L 488.5,171.6\" style=\"fill:none;fill-rule:evenodd;stroke:#0000FF;stroke-width:2.0px;stroke-linecap:butt;stroke-linejoin:miter;stroke-opacity:1\"/>\n<path class=\"bond-7 atom-7 atom-8\" d=\"M 488.5,171.6 L 479.3,177.5\" style=\"fill:none;fill-rule:evenodd;stroke:#FF0000;stroke-width:2.0px;stroke-linecap:butt;stroke-linejoin:miter;stroke-opacity:1\"/>\n<path class=\"bond-7 atom-7 atom-8\" d=\"M 500.5,169.9 L 491.3,175.9\" style=\"fill:none;fill-rule:evenodd;stroke:#0000FF;stroke-width:2.0px;stroke-linecap:butt;stroke-linejoin:miter;stroke-opacity:1\"/>\n<path class=\"bond-7 atom-7 atom-8\" d=\"M 491.3,175.9 L 482.2,181.9\" style=\"fill:none;fill-rule:evenodd;stroke:#FF0000;stroke-width:2.0px;stroke-linecap:butt;stroke-linejoin:miter;stroke-opacity:1\"/>\n<path d=\"M 472.0,115.2 L 471.4,114.9 L 469.9,115.8\" style=\"fill:none;stroke:#000000;stroke-width:2.0px;stroke-linecap:butt;stroke-linejoin:miter;stroke-opacity:1;\"/>\n<path d=\"M 413.6,118.9 L 412.1,118.1 L 411.5,118.5\" style=\"fill:none;stroke:#000000;stroke-width:2.0px;stroke-linecap:butt;stroke-linejoin:miter;stroke-opacity:1;\"/>\n<path class=\"atom-1\" d=\"M 499.8 125.5 L 503.0 130.6 Q 503.3 131.1, 503.8 132.1 Q 504.4 133.0, 504.4 133.0 L 504.4 125.5 L 505.7 125.5 L 505.7 135.2 L 504.3 135.2 L 500.9 129.6 Q 500.5 128.9, 500.1 128.2 Q 499.7 127.4, 499.6 127.2 L 499.6 135.2 L 498.3 135.2 L 498.3 125.5 L 499.8 125.5 \" fill=\"#0000FF\"/>\n<path class=\"atom-4\" d=\"M 440.1 167.9 Q 440.1 165.6, 441.2 164.3 Q 442.4 163.0, 444.6 163.0 Q 446.7 163.0, 447.9 164.3 Q 449.0 165.6, 449.0 167.9 Q 449.0 170.2, 447.8 171.6 Q 446.7 172.9, 444.6 172.9 Q 442.4 172.9, 441.2 171.6 Q 440.1 170.3, 440.1 167.9 M 444.6 171.8 Q 446.0 171.8, 446.8 170.8 Q 447.6 169.8, 447.6 167.9 Q 447.6 166.0, 446.8 165.0 Q 446.0 164.0, 444.6 164.0 Q 443.1 164.0, 442.3 165.0 Q 441.5 166.0, 441.5 167.9 Q 441.5 169.9, 442.3 170.8 Q 443.1 171.8, 444.6 171.8 \" fill=\"#FF0000\"/>\n<path class=\"atom-4\" d=\"M 450.5 163.1 L 451.8 163.1 L 451.8 167.2 L 456.8 167.2 L 456.8 163.1 L 458.1 163.1 L 458.1 172.8 L 456.8 172.8 L 456.8 168.3 L 451.8 168.3 L 451.8 172.8 L 450.5 172.8 L 450.5 163.1 \" fill=\"#FF0000\"/>\n<path class=\"atom-6\" d=\"M 369.3 132.1 L 370.6 132.1 L 370.6 136.2 L 375.6 136.2 L 375.6 132.1 L 376.9 132.1 L 376.9 141.8 L 375.6 141.8 L 375.6 137.3 L 370.6 137.3 L 370.6 141.8 L 369.3 141.8 L 369.3 132.1 \" fill=\"#FF0000\"/>\n<path class=\"atom-6\" d=\"M 378.9 136.9 Q 378.9 134.6, 380.0 133.3 Q 381.2 132.0, 383.3 132.0 Q 385.5 132.0, 386.7 133.3 Q 387.8 134.6, 387.8 136.9 Q 387.8 139.3, 386.6 140.6 Q 385.5 141.9, 383.3 141.9 Q 381.2 141.9, 380.0 140.6 Q 378.9 139.3, 378.9 136.9 M 383.3 140.8 Q 384.8 140.8, 385.6 139.9 Q 386.4 138.9, 386.4 136.9 Q 386.4 135.0, 385.6 134.0 Q 384.8 133.1, 383.3 133.1 Q 381.9 133.1, 381.1 134.0 Q 380.3 135.0, 380.3 136.9 Q 380.3 138.9, 381.1 139.9 Q 381.9 140.8, 383.3 140.8 \" fill=\"#FF0000\"/>\n<path class=\"atom-7\" d=\"M 501.7 159.7 L 504.9 164.9 Q 505.2 165.4, 505.7 166.3 Q 506.2 167.2, 506.3 167.3 L 506.3 159.7 L 507.6 159.7 L 507.6 169.4 L 506.2 169.4 L 502.8 163.8 Q 502.4 163.2, 502.0 162.4 Q 501.6 161.7, 501.5 161.4 L 501.5 169.4 L 500.2 169.4 L 500.2 159.7 L 501.7 159.7 \" fill=\"#0000FF\"/>\n<path class=\"atom-8\" d=\"M 470.7 183.4 Q 470.7 181.0, 471.9 179.7 Q 473.0 178.4, 475.2 178.4 Q 477.3 178.4, 478.5 179.7 Q 479.6 181.0, 479.6 183.4 Q 479.6 185.7, 478.5 187.1 Q 477.3 188.4, 475.2 188.4 Q 473.0 188.4, 471.9 187.1 Q 470.7 185.8, 470.7 183.4 M 475.2 187.3 Q 476.6 187.3, 477.4 186.3 Q 478.2 185.3, 478.2 183.4 Q 478.2 181.5, 477.4 180.5 Q 476.6 179.5, 475.2 179.5 Q 473.7 179.5, 472.9 180.5 Q 472.1 181.5, 472.1 183.4 Q 472.1 185.3, 472.9 186.3 Q 473.7 187.3, 475.2 187.3 \" fill=\"#FF0000\"/>\n<path class=\"bond-0 atom-0 atom-1\" d=\"M 659.4,182.4 L 662.3,171.9\" style=\"fill:none;fill-rule:evenodd;stroke:#FF0000;stroke-width:2.0px;stroke-linecap:butt;stroke-linejoin:miter;stroke-opacity:1\"/>\n<path class=\"bond-0 atom-0 atom-1\" d=\"M 662.3,171.9 L 665.2,161.4\" style=\"fill:none;fill-rule:evenodd;stroke:#0000FF;stroke-width:2.0px;stroke-linecap:butt;stroke-linejoin:miter;stroke-opacity:1\"/>\n<path class=\"bond-0 atom-0 atom-1\" d=\"M 664.3,183.8 L 667.2,173.3\" style=\"fill:none;fill-rule:evenodd;stroke:#FF0000;stroke-width:2.0px;stroke-linecap:butt;stroke-linejoin:miter;stroke-opacity:1\"/>\n<path class=\"bond-0 atom-0 atom-1\" d=\"M 667.2,173.3 L 670.1,162.8\" style=\"fill:none;fill-rule:evenodd;stroke:#0000FF;stroke-width:2.0px;stroke-linecap:butt;stroke-linejoin:miter;stroke-opacity:1\"/>\n<path class=\"bond-1 atom-1 atom-2\" d=\"M 664.5,151.2 L 657.7,144.3\" style=\"fill:none;fill-rule:evenodd;stroke:#0000FF;stroke-width:2.0px;stroke-linecap:butt;stroke-linejoin:miter;stroke-opacity:1\"/>\n<path class=\"bond-1 atom-1 atom-2\" d=\"M 657.7,144.3 L 650.8,137.3\" style=\"fill:none;fill-rule:evenodd;stroke:#FF0000;stroke-width:2.0px;stroke-linecap:butt;stroke-linejoin:miter;stroke-opacity:1\"/>\n<path class=\"bond-2 atom-1 atom-3\" d=\"M 680.2,153.3 L 691.3,150.4\" style=\"fill:none;fill-rule:evenodd;stroke:#0000FF;stroke-width:2.0px;stroke-linecap:butt;stroke-linejoin:miter;stroke-opacity:1\"/>\n<path class=\"bond-2 atom-1 atom-3\" d=\"M 691.3,150.4 L 702.5,147.5\" style=\"fill:none;fill-rule:evenodd;stroke:#000000;stroke-width:2.0px;stroke-linecap:butt;stroke-linejoin:miter;stroke-opacity:1\"/>\n<path class=\"bond-3 atom-3 atom-4\" d=\"M 702.5,147.5 L 711.6,114.4\" style=\"fill:none;fill-rule:evenodd;stroke:#000000;stroke-width:2.0px;stroke-linecap:butt;stroke-linejoin:miter;stroke-opacity:1\"/>\n<path class=\"bond-3 atom-3 atom-4\" d=\"M 708.3,146.0 L 715.8,118.6\" style=\"fill:none;fill-rule:evenodd;stroke:#000000;stroke-width:2.0px;stroke-linecap:butt;stroke-linejoin:miter;stroke-opacity:1\"/>\n<path class=\"bond-4 atom-4 atom-5\" d=\"M 711.6,114.4 L 744.8,105.8\" style=\"fill:none;fill-rule:evenodd;stroke:#000000;stroke-width:2.0px;stroke-linecap:butt;stroke-linejoin:miter;stroke-opacity:1\"/>\n<path class=\"bond-5 atom-5 atom-6\" d=\"M 744.8,105.8 L 768.9,130.2\" style=\"fill:none;fill-rule:evenodd;stroke:#000000;stroke-width:2.0px;stroke-linecap:butt;stroke-linejoin:miter;stroke-opacity:1\"/>\n<path class=\"bond-5 atom-5 atom-6\" d=\"M 743.2,111.5 L 763.1,131.7\" style=\"fill:none;fill-rule:evenodd;stroke:#000000;stroke-width:2.0px;stroke-linecap:butt;stroke-linejoin:miter;stroke-opacity:1\"/>\n<path class=\"bond-6 atom-6 atom-7\" d=\"M 768.9,130.2 L 782.7,126.6\" style=\"fill:none;fill-rule:evenodd;stroke:#000000;stroke-width:2.0px;stroke-linecap:butt;stroke-linejoin:miter;stroke-opacity:1\"/>\n<path class=\"bond-6 atom-6 atom-7\" d=\"M 782.7,126.6 L 796.5,123.0\" style=\"fill:none;fill-rule:evenodd;stroke:#FF0000;stroke-width:2.0px;stroke-linecap:butt;stroke-linejoin:miter;stroke-opacity:1\"/>\n<path class=\"bond-7 atom-7 atom-8\" d=\"M 807.7,127.2 L 816.9,136.6\" style=\"fill:none;fill-rule:evenodd;stroke:#FF0000;stroke-width:2.0px;stroke-linecap:butt;stroke-linejoin:miter;stroke-opacity:1\"/>\n<path class=\"bond-7 atom-7 atom-8\" d=\"M 816.9,136.6 L 826.2,146.0\" style=\"fill:none;fill-rule:evenodd;stroke:#000000;stroke-width:2.0px;stroke-linecap:butt;stroke-linejoin:miter;stroke-opacity:1\"/>\n<path class=\"bond-8 atom-8 atom-9\" d=\"M 826.2,146.0 L 859.2,155.1\" style=\"fill:none;fill-rule:evenodd;stroke:#000000;stroke-width:2.0px;stroke-linecap:butt;stroke-linejoin:miter;stroke-opacity:1\"/>\n<path class=\"bond-9 atom-9 atom-10\" d=\"M 859.2,155.1 L 849.8,164.4\" style=\"fill:none;fill-rule:evenodd;stroke:#000000;stroke-width:2.0px;stroke-linecap:butt;stroke-linejoin:miter;stroke-opacity:1\"/>\n<path class=\"bond-9 atom-9 atom-10\" d=\"M 849.8,164.4 L 840.4,173.7\" style=\"fill:none;fill-rule:evenodd;stroke:#FF0000;stroke-width:2.0px;stroke-linecap:butt;stroke-linejoin:miter;stroke-opacity:1\"/>\n<path class=\"bond-10 atom-6 atom-11\" d=\"M 768.9,130.2 L 759.8,163.3\" style=\"fill:none;fill-rule:evenodd;stroke:#000000;stroke-width:2.0px;stroke-linecap:butt;stroke-linejoin:miter;stroke-opacity:1\"/>\n<path class=\"bond-11 atom-11 atom-12\" d=\"M 759.8,163.3 L 726.6,171.9\" style=\"fill:none;fill-rule:evenodd;stroke:#000000;stroke-width:2.0px;stroke-linecap:butt;stroke-linejoin:miter;stroke-opacity:1\"/>\n<path class=\"bond-11 atom-11 atom-12\" d=\"M 755.6,159.0 L 728.2,166.2\" style=\"fill:none;fill-rule:evenodd;stroke:#000000;stroke-width:2.0px;stroke-linecap:butt;stroke-linejoin:miter;stroke-opacity:1\"/>\n<path class=\"bond-12 atom-12 atom-3\" d=\"M 726.6,171.9 L 702.5,147.5\" style=\"fill:none;fill-rule:evenodd;stroke:#000000;stroke-width:2.0px;stroke-linecap:butt;stroke-linejoin:miter;stroke-opacity:1\"/>\n<path class=\"bond-13 atom-10 atom-8\" d=\"M 833.2,173.1 L 829.7,159.6\" style=\"fill:none;fill-rule:evenodd;stroke:#FF0000;stroke-width:2.0px;stroke-linecap:butt;stroke-linejoin:miter;stroke-opacity:1\"/>\n<path class=\"bond-13 atom-10 atom-8\" d=\"M 829.7,159.6 L 826.2,146.0\" style=\"fill:none;fill-rule:evenodd;stroke:#000000;stroke-width:2.0px;stroke-linecap:butt;stroke-linejoin:miter;stroke-opacity:1\"/>\n<path d=\"M 711.2,116.1 L 711.6,114.4 L 713.3,114.0\" style=\"fill:none;stroke:#000000;stroke-width:2.0px;stroke-linecap:butt;stroke-linejoin:miter;stroke-opacity:1;\"/>\n<path d=\"M 743.2,106.2 L 744.8,105.8 L 746.0,107.0\" style=\"fill:none;stroke:#000000;stroke-width:2.0px;stroke-linecap:butt;stroke-linejoin:miter;stroke-opacity:1;\"/>\n<path d=\"M 857.6,154.7 L 859.2,155.1 L 858.8,155.6\" style=\"fill:none;stroke:#000000;stroke-width:2.0px;stroke-linecap:butt;stroke-linejoin:miter;stroke-opacity:1;\"/>\n<path d=\"M 760.2,161.6 L 759.8,163.3 L 758.1,163.7\" style=\"fill:none;stroke:#000000;stroke-width:2.0px;stroke-linecap:butt;stroke-linejoin:miter;stroke-opacity:1;\"/>\n<path d=\"M 728.2,171.5 L 726.6,171.9 L 725.4,170.7\" style=\"fill:none;stroke:#000000;stroke-width:2.0px;stroke-linecap:butt;stroke-linejoin:miter;stroke-opacity:1;\"/>\n<path class=\"atom-0\" d=\"M 655.7 189.2 Q 655.7 186.9, 656.9 185.6 Q 658.0 184.3, 660.2 184.3 Q 662.3 184.3, 663.5 185.6 Q 664.6 186.9, 664.6 189.2 Q 664.6 191.6, 663.5 192.9 Q 662.3 194.2, 660.2 194.2 Q 658.0 194.2, 656.9 192.9 Q 655.7 191.6, 655.7 189.2 M 660.2 193.1 Q 661.7 193.1, 662.5 192.1 Q 663.3 191.1, 663.3 189.2 Q 663.3 187.3, 662.5 186.3 Q 661.7 185.4, 660.2 185.4 Q 658.7 185.4, 657.9 186.3 Q 657.1 187.3, 657.1 189.2 Q 657.1 191.2, 657.9 192.1 Q 658.7 193.1, 660.2 193.1 \" fill=\"#FF0000\"/>\n<path class=\"atom-1\" d=\"M 667.2 151.2 L 670.3 156.4 Q 670.7 156.9, 671.2 157.8 Q 671.7 158.7, 671.7 158.8 L 671.7 151.2 L 673.0 151.2 L 673.0 161.0 L 671.7 161.0 L 668.2 155.3 Q 667.8 154.7, 667.4 153.9 Q 667.0 153.2, 666.9 152.9 L 666.9 161.0 L 665.6 161.0 L 665.6 151.2 L 667.2 151.2 \" fill=\"#0000FF\"/>\n<path class=\"atom-1\" d=\"M 674.8 153.0 L 676.5 153.0 L 676.5 151.2 L 677.3 151.2 L 677.3 153.0 L 679.0 153.0 L 679.0 153.7 L 677.3 153.7 L 677.3 155.5 L 676.5 155.5 L 676.5 153.7 L 674.8 153.7 L 674.8 153.0 \" fill=\"#0000FF\"/>\n<path class=\"atom-2\" d=\"M 640.8 131.7 Q 640.8 129.4, 641.9 128.1 Q 643.1 126.8, 645.2 126.8 Q 647.4 126.8, 648.5 128.1 Q 649.7 129.4, 649.7 131.7 Q 649.7 134.1, 648.5 135.4 Q 647.4 136.7, 645.2 136.7 Q 643.1 136.7, 641.9 135.4 Q 640.8 134.1, 640.8 131.7 M 645.2 135.6 Q 646.7 135.6, 647.5 134.7 Q 648.3 133.7, 648.3 131.7 Q 648.3 129.8, 647.5 128.8 Q 646.7 127.9, 645.2 127.9 Q 643.7 127.9, 642.9 128.8 Q 642.1 129.8, 642.1 131.7 Q 642.1 133.7, 642.9 134.7 Q 643.7 135.6, 645.2 135.6 \" fill=\"#FF0000\"/>\n<path class=\"atom-2\" d=\"M 651.1 128.3 L 654.4 128.3 L 654.4 129.1 L 651.1 129.1 L 651.1 128.3 \" fill=\"#FF0000\"/>\n<path class=\"atom-7\" d=\"M 797.6 121.6 Q 797.6 119.3, 798.8 118.0 Q 799.9 116.6, 802.1 116.6 Q 804.2 116.6, 805.4 118.0 Q 806.5 119.3, 806.5 121.6 Q 806.5 123.9, 805.4 125.3 Q 804.2 126.6, 802.1 126.6 Q 799.9 126.6, 798.8 125.3 Q 797.6 124.0, 797.6 121.6 M 802.1 125.5 Q 803.6 125.5, 804.4 124.5 Q 805.2 123.5, 805.2 121.6 Q 805.2 119.7, 804.4 118.7 Q 803.6 117.7, 802.1 117.7 Q 800.6 117.7, 799.8 118.7 Q 799.0 119.7, 799.0 121.6 Q 799.0 123.6, 799.8 124.5 Q 800.6 125.5, 802.1 125.5 \" fill=\"#FF0000\"/>\n<path class=\"atom-10\" d=\"M 830.3 179.2 Q 830.3 176.9, 831.5 175.6 Q 832.6 174.3, 834.8 174.3 Q 837.0 174.3, 838.1 175.6 Q 839.3 176.9, 839.3 179.2 Q 839.3 181.6, 838.1 182.9 Q 836.9 184.2, 834.8 184.2 Q 832.7 184.2, 831.5 182.9 Q 830.3 181.6, 830.3 179.2 M 834.8 183.2 Q 836.3 183.2, 837.1 182.2 Q 837.9 181.2, 837.9 179.2 Q 837.9 177.3, 837.1 176.3 Q 836.3 175.4, 834.8 175.4 Q 833.3 175.4, 832.5 176.3 Q 831.7 177.3, 831.7 179.2 Q 831.7 181.2, 832.5 182.2 Q 833.3 183.2, 834.8 183.2 \" fill=\"#FF0000\"/>\n<path class=\"bond-0 atom-0 atom-1\" d=\"M 958.0,111.7 L 966.9,121.8\" style=\"fill:none;fill-rule:evenodd;stroke:#000000;stroke-width:2.0px;stroke-linecap:butt;stroke-linejoin:miter;stroke-opacity:1\"/>\n<path class=\"bond-0 atom-0 atom-1\" d=\"M 966.9,121.8 L 975.8,131.9\" style=\"fill:none;fill-rule:evenodd;stroke:#0000FF;stroke-width:2.0px;stroke-linecap:butt;stroke-linejoin:miter;stroke-opacity:1\"/>\n<path class=\"bond-1 atom-1 atom-2\" d=\"M 979.3,143.4 L 976.2,157.1\" style=\"fill:none;fill-rule:evenodd;stroke:#0000FF;stroke-width:2.0px;stroke-linecap:butt;stroke-linejoin:miter;stroke-opacity:1\"/>\n<path class=\"bond-1 atom-1 atom-2\" d=\"M 976.2,157.1 L 973.1,170.9\" style=\"fill:none;fill-rule:evenodd;stroke:#000000;stroke-width:2.0px;stroke-linecap:butt;stroke-linejoin:miter;stroke-opacity:1\"/>\n<path class=\"bond-2 atom-2 atom-3\" d=\"M 973.1,170.9 L 985.5,178.2\" style=\"fill:none;fill-rule:evenodd;stroke:#000000;stroke-width:2.0px;stroke-linecap:butt;stroke-linejoin:miter;stroke-opacity:1\"/>\n<path class=\"bond-2 atom-2 atom-3\" d=\"M 985.5,178.2 L 997.8,185.5\" style=\"fill:none;fill-rule:evenodd;stroke:#0000FF;stroke-width:2.0px;stroke-linecap:butt;stroke-linejoin:miter;stroke-opacity:1\"/>\n<path class=\"bond-2 atom-2 atom-3\" d=\"M 979.0,168.4 L 989.7,174.7\" style=\"fill:none;fill-rule:evenodd;stroke:#000000;stroke-width:2.0px;stroke-linecap:butt;stroke-linejoin:miter;stroke-opacity:1\"/>\n<path class=\"bond-2 atom-2 atom-3\" d=\"M 989.7,174.7 L 1000.4,181.1\" style=\"fill:none;fill-rule:evenodd;stroke:#0000FF;stroke-width:2.0px;stroke-linecap:butt;stroke-linejoin:miter;stroke-opacity:1\"/>\n<path class=\"bond-3 atom-3 atom-4\" d=\"M 1007.4,184.2 L 1017.9,175.0\" style=\"fill:none;fill-rule:evenodd;stroke:#0000FF;stroke-width:2.0px;stroke-linecap:butt;stroke-linejoin:miter;stroke-opacity:1\"/>\n<path class=\"bond-3 atom-3 atom-4\" d=\"M 1017.9,175.0 L 1028.4,165.8\" style=\"fill:none;fill-rule:evenodd;stroke:#000000;stroke-width:2.0px;stroke-linecap:butt;stroke-linejoin:miter;stroke-opacity:1\"/>\n<path class=\"bond-4 atom-4 atom-5\" d=\"M 1028.4,165.8 L 1062.5,169.8\" style=\"fill:none;fill-rule:evenodd;stroke:#000000;stroke-width:2.0px;stroke-linecap:butt;stroke-linejoin:miter;stroke-opacity:1\"/>\n<path class=\"bond-4 atom-4 atom-5\" d=\"M 1031.9,161.0 L 1060.1,164.3\" style=\"fill:none;fill-rule:evenodd;stroke:#000000;stroke-width:2.0px;stroke-linecap:butt;stroke-linejoin:miter;stroke-opacity:1\"/>\n<path class=\"bond-5 atom-5 atom-6\" d=\"M 1062.5,169.8 L 1083.0,142.3\" style=\"fill:none;fill-rule:evenodd;stroke:#000000;stroke-width:2.0px;stroke-linecap:butt;stroke-linejoin:miter;stroke-opacity:1\"/>\n<path class=\"bond-6 atom-6 atom-7\" d=\"M 1083.0,142.3 L 1097.6,144.0\" style=\"fill:none;fill-rule:evenodd;stroke:#000000;stroke-width:2.0px;stroke-linecap:butt;stroke-linejoin:miter;stroke-opacity:1\"/>\n<path class=\"bond-6 atom-6 atom-7\" d=\"M 1097.6,144.0 L 1112.2,145.7\" style=\"fill:none;fill-rule:evenodd;stroke:#0000FF;stroke-width:2.0px;stroke-linecap:butt;stroke-linejoin:miter;stroke-opacity:1\"/>\n<path class=\"bond-7 atom-7 atom-8\" d=\"M 1123.6,141.8 L 1129.3,134.1\" style=\"fill:none;fill-rule:evenodd;stroke:#0000FF;stroke-width:2.0px;stroke-linecap:butt;stroke-linejoin:miter;stroke-opacity:1\"/>\n<path class=\"bond-7 atom-7 atom-8\" d=\"M 1129.3,134.1 L 1135.0,126.5\" style=\"fill:none;fill-rule:evenodd;stroke:#FF0000;stroke-width:2.0px;stroke-linecap:butt;stroke-linejoin:miter;stroke-opacity:1\"/>\n<path class=\"bond-7 atom-7 atom-8\" d=\"M 1119.5,138.7 L 1125.1,131.0\" style=\"fill:none;fill-rule:evenodd;stroke:#0000FF;stroke-width:2.0px;stroke-linecap:butt;stroke-linejoin:miter;stroke-opacity:1\"/>\n<path class=\"bond-7 atom-7 atom-8\" d=\"M 1125.1,131.0 L 1130.8,123.4\" style=\"fill:none;fill-rule:evenodd;stroke:#FF0000;stroke-width:2.0px;stroke-linecap:butt;stroke-linejoin:miter;stroke-opacity:1\"/>\n<path class=\"bond-8 atom-7 atom-9\" d=\"M 1119.6,152.2 L 1123.8,162.0\" style=\"fill:none;fill-rule:evenodd;stroke:#0000FF;stroke-width:2.0px;stroke-linecap:butt;stroke-linejoin:miter;stroke-opacity:1\"/>\n<path class=\"bond-8 atom-7 atom-9\" d=\"M 1123.8,162.0 L 1128.0,171.7\" style=\"fill:none;fill-rule:evenodd;stroke:#FF0000;stroke-width:2.0px;stroke-linecap:butt;stroke-linejoin:miter;stroke-opacity:1\"/>\n<path class=\"bond-9 atom-6 atom-10\" d=\"M 1083.0,142.3 L 1069.4,110.8\" style=\"fill:none;fill-rule:evenodd;stroke:#000000;stroke-width:2.0px;stroke-linecap:butt;stroke-linejoin:miter;stroke-opacity:1\"/>\n<path class=\"bond-9 atom-6 atom-10\" d=\"M 1077.1,141.6 L 1065.8,115.5\" style=\"fill:none;fill-rule:evenodd;stroke:#000000;stroke-width:2.0px;stroke-linecap:butt;stroke-linejoin:miter;stroke-opacity:1\"/>\n<path class=\"bond-10 atom-10 atom-11\" d=\"M 1069.4,110.8 L 1035.3,106.8\" style=\"fill:none;fill-rule:evenodd;stroke:#000000;stroke-width:2.0px;stroke-linecap:butt;stroke-linejoin:miter;stroke-opacity:1\"/>\n<path class=\"bond-11 atom-11 atom-12\" d=\"M 1035.3,106.8 L 1014.8,134.3\" style=\"fill:none;fill-rule:evenodd;stroke:#000000;stroke-width:2.0px;stroke-linecap:butt;stroke-linejoin:miter;stroke-opacity:1\"/>\n<path class=\"bond-11 atom-11 atom-12\" d=\"M 1037.7,112.2 L 1020.7,134.9\" style=\"fill:none;fill-rule:evenodd;stroke:#000000;stroke-width:2.0px;stroke-linecap:butt;stroke-linejoin:miter;stroke-opacity:1\"/>\n<path class=\"bond-12 atom-12 atom-1\" d=\"M 1014.8,134.3 L 1000.1,135.6\" style=\"fill:none;fill-rule:evenodd;stroke:#000000;stroke-width:2.0px;stroke-linecap:butt;stroke-linejoin:miter;stroke-opacity:1\"/>\n<path class=\"bond-12 atom-12 atom-1\" d=\"M 1000.1,135.6 L 985.5,137.0\" style=\"fill:none;fill-rule:evenodd;stroke:#0000FF;stroke-width:2.0px;stroke-linecap:butt;stroke-linejoin:miter;stroke-opacity:1\"/>\n<path class=\"bond-13 atom-12 atom-4\" d=\"M 1014.8,134.3 L 1028.4,165.8\" style=\"fill:none;fill-rule:evenodd;stroke:#000000;stroke-width:2.0px;stroke-linecap:butt;stroke-linejoin:miter;stroke-opacity:1\"/>\n<path d=\"M 973.3,170.2 L 973.1,170.9 L 973.7,171.2\" style=\"fill:none;stroke:#000000;stroke-width:2.0px;stroke-linecap:butt;stroke-linejoin:miter;stroke-opacity:1;\"/>\n<path d=\"M 1060.7,169.6 L 1062.5,169.8 L 1063.5,168.4\" style=\"fill:none;stroke:#000000;stroke-width:2.0px;stroke-linecap:butt;stroke-linejoin:miter;stroke-opacity:1;\"/>\n<path d=\"M 1070.1,112.3 L 1069.4,110.8 L 1067.7,110.6\" style=\"fill:none;stroke:#000000;stroke-width:2.0px;stroke-linecap:butt;stroke-linejoin:miter;stroke-opacity:1;\"/>\n<path d=\"M 1037.0,107.0 L 1035.3,106.8 L 1034.3,108.1\" style=\"fill:none;stroke:#000000;stroke-width:2.0px;stroke-linecap:butt;stroke-linejoin:miter;stroke-opacity:1;\"/>\n<path class=\"atom-1\" d=\"M 978.5 132.6 L 981.7 137.7 Q 982.0 138.2, 982.5 139.1 Q 983.0 140.1, 983.1 140.1 L 983.1 132.6 L 984.3 132.6 L 984.3 142.3 L 983.0 142.3 L 979.6 136.7 Q 979.2 136.0, 978.8 135.2 Q 978.4 134.5, 978.2 134.3 L 978.2 142.3 L 977.0 142.3 L 977.0 132.6 L 978.5 132.6 \" fill=\"#0000FF\"/>\n<path class=\"atom-3\" d=\"M 1000.5 183.5 L 1003.7 188.7 Q 1004.0 189.2, 1004.5 190.1 Q 1005.0 191.0, 1005.0 191.1 L 1005.0 183.5 L 1006.3 183.5 L 1006.3 193.2 L 1005.0 193.2 L 1001.6 187.6 Q 1001.2 187.0, 1000.7 186.2 Q 1000.3 185.5, 1000.2 185.2 L 1000.2 193.2 L 998.9 193.2 L 998.9 183.5 L 1000.5 183.5 \" fill=\"#0000FF\"/>\n<path class=\"atom-7\" d=\"M 1114.9 141.4 L 1118.1 146.5 Q 1118.4 147.1, 1118.9 148.0 Q 1119.4 148.9, 1119.4 148.9 L 1119.4 141.4 L 1120.7 141.4 L 1120.7 151.1 L 1119.4 151.1 L 1116.0 145.5 Q 1115.6 144.8, 1115.1 144.1 Q 1114.7 143.3, 1114.6 143.1 L 1114.6 151.1 L 1113.3 151.1 L 1113.3 141.4 L 1114.9 141.4 \" fill=\"#0000FF\"/>\n<path class=\"atom-7\" d=\"M 1122.5 143.1 L 1124.2 143.1 L 1124.2 141.3 L 1125.0 141.3 L 1125.0 143.1 L 1126.8 143.1 L 1126.8 143.8 L 1125.0 143.8 L 1125.0 145.6 L 1124.2 145.6 L 1124.2 143.8 L 1122.5 143.8 L 1122.5 143.1 \" fill=\"#0000FF\"/>\n<path class=\"atom-8\" d=\"M 1133.1 118.8 Q 1133.1 116.4, 1134.2 115.1 Q 1135.4 113.8, 1137.5 113.8 Q 1139.7 113.8, 1140.8 115.1 Q 1142.0 116.4, 1142.0 118.8 Q 1142.0 121.1, 1140.8 122.5 Q 1139.6 123.8, 1137.5 123.8 Q 1135.4 123.8, 1134.2 122.5 Q 1133.1 121.2, 1133.1 118.8 M 1137.5 122.7 Q 1139.0 122.7, 1139.8 121.7 Q 1140.6 120.7, 1140.6 118.8 Q 1140.6 116.9, 1139.8 115.9 Q 1139.0 114.9, 1137.5 114.9 Q 1136.0 114.9, 1135.2 115.9 Q 1134.4 116.9, 1134.4 118.8 Q 1134.4 120.7, 1135.2 121.7 Q 1136.0 122.7, 1137.5 122.7 \" fill=\"#FF0000\"/>\n<path class=\"atom-9\" d=\"M 1126.1 177.8 Q 1126.1 175.5, 1127.3 174.2 Q 1128.4 172.8, 1130.6 172.8 Q 1132.7 172.8, 1133.9 174.2 Q 1135.0 175.5, 1135.0 177.8 Q 1135.0 180.1, 1133.9 181.5 Q 1132.7 182.8, 1130.6 182.8 Q 1128.4 182.8, 1127.3 181.5 Q 1126.1 180.2, 1126.1 177.8 M 1130.6 181.7 Q 1132.1 181.7, 1132.9 180.7 Q 1133.7 179.7, 1133.7 177.8 Q 1133.7 175.9, 1132.9 174.9 Q 1132.1 173.9, 1130.6 173.9 Q 1129.1 173.9, 1128.3 174.9 Q 1127.5 175.9, 1127.5 177.8 Q 1127.5 179.7, 1128.3 180.7 Q 1129.1 181.7, 1130.6 181.7 \" fill=\"#FF0000\"/>\n<path class=\"atom-9\" d=\"M 1136.4 174.4 L 1139.8 174.4 L 1139.8 175.2 L 1136.4 175.2 L 1136.4 174.4 \" fill=\"#FF0000\"/>\n<path class=\"bond-0 atom-0 atom-1\" d=\"M 263.0,392.5 L 267.7,426.4\" style=\"fill:none;fill-rule:evenodd;stroke:#000000;stroke-width:2.0px;stroke-linecap:butt;stroke-linejoin:miter;stroke-opacity:1\"/>\n<path class=\"bond-1 atom-1 atom-2\" d=\"M 267.7,426.4 L 240.6,447.5\" style=\"fill:none;fill-rule:evenodd;stroke:#000000;stroke-width:2.0px;stroke-linecap:butt;stroke-linejoin:miter;stroke-opacity:1\"/>\n<path class=\"bond-2 atom-2 atom-3\" d=\"M 240.6,447.5 L 245.3,481.4\" style=\"fill:none;fill-rule:evenodd;stroke:#000000;stroke-width:2.0px;stroke-linecap:butt;stroke-linejoin:miter;stroke-opacity:1\"/>\n<path class=\"bond-3 atom-3 atom-4\" d=\"M 245.3,481.4 L 234.5,489.8\" style=\"fill:none;fill-rule:evenodd;stroke:#000000;stroke-width:2.0px;stroke-linecap:butt;stroke-linejoin:miter;stroke-opacity:1\"/>\n<path class=\"bond-3 atom-3 atom-4\" d=\"M 234.5,489.8 L 223.8,498.1\" style=\"fill:none;fill-rule:evenodd;stroke:#FF0000;stroke-width:2.0px;stroke-linecap:butt;stroke-linejoin:miter;stroke-opacity:1\"/>\n<path class=\"bond-4 atom-2 atom-5\" d=\"M 240.6,447.5 L 227.1,442.0\" style=\"fill:none;fill-rule:evenodd;stroke:#000000;stroke-width:2.0px;stroke-linecap:butt;stroke-linejoin:miter;stroke-opacity:1\"/>\n<path class=\"bond-4 atom-2 atom-5\" d=\"M 227.1,442.0 L 213.7,436.5\" style=\"fill:none;fill-rule:evenodd;stroke:#0000FF;stroke-width:2.0px;stroke-linecap:butt;stroke-linejoin:miter;stroke-opacity:1\"/>\n<path class=\"bond-5 atom-5 atom-6\" d=\"M 204.0,438.3 L 192.9,446.9\" style=\"fill:none;fill-rule:evenodd;stroke:#0000FF;stroke-width:2.0px;stroke-linecap:butt;stroke-linejoin:miter;stroke-opacity:1\"/>\n<path class=\"bond-5 atom-5 atom-6\" d=\"M 192.9,446.9 L 181.8,455.6\" style=\"fill:none;fill-rule:evenodd;stroke:#000000;stroke-width:2.0px;stroke-linecap:butt;stroke-linejoin:miter;stroke-opacity:1\"/>\n<path class=\"bond-6 atom-6 atom-7\" d=\"M 181.8,455.6 L 150.0,442.6\" style=\"fill:none;fill-rule:evenodd;stroke:#000000;stroke-width:2.0px;stroke-linecap:butt;stroke-linejoin:miter;stroke-opacity:1\"/>\n<path class=\"bond-7 atom-7 atom-8\" d=\"M 150.0,442.6 L 138.9,451.3\" style=\"fill:none;fill-rule:evenodd;stroke:#000000;stroke-width:2.0px;stroke-linecap:butt;stroke-linejoin:miter;stroke-opacity:1\"/>\n<path class=\"bond-7 atom-7 atom-8\" d=\"M 138.9,451.3 L 127.7,459.9\" style=\"fill:none;fill-rule:evenodd;stroke:#0000FF;stroke-width:2.0px;stroke-linecap:butt;stroke-linejoin:miter;stroke-opacity:1\"/>\n<path class=\"bond-8 atom-8 atom-9\" d=\"M 118.1,461.7 L 104.6,456.2\" style=\"fill:none;fill-rule:evenodd;stroke:#0000FF;stroke-width:2.0px;stroke-linecap:butt;stroke-linejoin:miter;stroke-opacity:1\"/>\n<path class=\"bond-8 atom-8 atom-9\" d=\"M 104.6,456.2 L 91.1,450.7\" style=\"fill:none;fill-rule:evenodd;stroke:#000000;stroke-width:2.0px;stroke-linecap:butt;stroke-linejoin:miter;stroke-opacity:1\"/>\n<path class=\"bond-9 atom-9 atom-10\" d=\"M 91.1,450.7 L 64.1,471.8\" style=\"fill:none;fill-rule:evenodd;stroke:#000000;stroke-width:2.0px;stroke-linecap:butt;stroke-linejoin:miter;stroke-opacity:1\"/>\n<path class=\"bond-10 atom-10 atom-11\" d=\"M 64.1,471.8 L 32.3,458.8\" style=\"fill:none;fill-rule:evenodd;stroke:#000000;stroke-width:2.0px;stroke-linecap:butt;stroke-linejoin:miter;stroke-opacity:1\"/>\n<path class=\"bond-11 atom-9 atom-12\" d=\"M 91.1,450.7 L 86.5,416.7\" style=\"fill:none;fill-rule:evenodd;stroke:#000000;stroke-width:2.0px;stroke-linecap:butt;stroke-linejoin:miter;stroke-opacity:1\"/>\n<path class=\"bond-12 atom-12 atom-13\" d=\"M 86.5,416.7 L 73.4,411.4\" style=\"fill:none;fill-rule:evenodd;stroke:#000000;stroke-width:2.0px;stroke-linecap:butt;stroke-linejoin:miter;stroke-opacity:1\"/>\n<path class=\"bond-12 atom-12 atom-13\" d=\"M 73.4,411.4 L 60.3,406.1\" style=\"fill:none;fill-rule:evenodd;stroke:#FF0000;stroke-width:2.0px;stroke-linecap:butt;stroke-linejoin:miter;stroke-opacity:1\"/>\n<path d=\"M 267.5,424.7 L 267.7,426.4 L 266.4,427.5\" style=\"fill:none;stroke:#000000;stroke-width:2.0px;stroke-linecap:butt;stroke-linejoin:miter;stroke-opacity:1;\"/>\n<path d=\"M 245.1,479.8 L 245.3,481.4 L 244.8,481.9\" style=\"fill:none;stroke:#000000;stroke-width:2.0px;stroke-linecap:butt;stroke-linejoin:miter;stroke-opacity:1;\"/>\n<path d=\"M 182.3,455.1 L 181.8,455.6 L 180.2,454.9\" style=\"fill:none;stroke:#000000;stroke-width:2.0px;stroke-linecap:butt;stroke-linejoin:miter;stroke-opacity:1;\"/>\n<path d=\"M 151.6,443.3 L 150.0,442.6 L 149.4,443.1\" style=\"fill:none;stroke:#000000;stroke-width:2.0px;stroke-linecap:butt;stroke-linejoin:miter;stroke-opacity:1;\"/>\n<path d=\"M 65.4,470.7 L 64.1,471.8 L 62.5,471.1\" style=\"fill:none;stroke:#000000;stroke-width:2.0px;stroke-linecap:butt;stroke-linejoin:miter;stroke-opacity:1;\"/>\n<path d=\"M 86.7,418.4 L 86.5,416.7 L 85.8,416.5\" style=\"fill:none;stroke:#000000;stroke-width:2.0px;stroke-linecap:butt;stroke-linejoin:miter;stroke-opacity:1;\"/>\n<path class=\"atom-4\" d=\"M 204.2 497.7 L 205.5 497.7 L 205.5 501.8 L 210.4 501.8 L 210.4 497.7 L 211.8 497.7 L 211.8 507.4 L 210.4 507.4 L 210.4 502.9 L 205.5 502.9 L 205.5 507.4 L 204.2 507.4 L 204.2 497.7 \" fill=\"#FF0000\"/>\n<path class=\"atom-4\" d=\"M 213.7 502.5 Q 213.7 500.2, 214.9 498.9 Q 216.0 497.6, 218.2 497.6 Q 220.4 497.6, 221.5 498.9 Q 222.7 500.2, 222.7 502.5 Q 222.7 504.9, 221.5 506.2 Q 220.3 507.5, 218.2 507.5 Q 216.1 507.5, 214.9 506.2 Q 213.7 504.9, 213.7 502.5 M 218.2 506.5 Q 219.7 506.5, 220.5 505.5 Q 221.3 504.5, 221.3 502.5 Q 221.3 500.6, 220.5 499.6 Q 219.7 498.7, 218.2 498.7 Q 216.7 498.7, 215.9 499.6 Q 215.1 500.6, 215.1 502.5 Q 215.1 504.5, 215.9 505.5 Q 216.7 506.5, 218.2 506.5 \" fill=\"#FF0000\"/>\n<path class=\"atom-5\" d=\"M 206.7 429.7 L 209.9 434.8 Q 210.2 435.3, 210.7 436.2 Q 211.2 437.2, 211.3 437.2 L 211.3 429.7 L 212.5 429.7 L 212.5 439.4 L 211.2 439.4 L 207.8 433.8 Q 207.4 433.1, 207.0 432.3 Q 206.6 431.6, 206.4 431.4 L 206.4 439.4 L 205.2 439.4 L 205.2 429.7 L 206.7 429.7 \" fill=\"#0000FF\"/>\n<path class=\"atom-5\" d=\"M 205.1 419.0 L 206.4 419.0 L 206.4 423.1 L 211.3 423.1 L 211.3 419.0 L 212.7 419.0 L 212.7 428.7 L 211.3 428.7 L 211.3 424.2 L 206.4 424.2 L 206.4 428.7 L 205.1 428.7 L 205.1 419.0 \" fill=\"#0000FF\"/>\n<path class=\"atom-8\" d=\"M 120.8 458.8 L 123.9 463.9 Q 124.3 464.5, 124.8 465.4 Q 125.3 466.3, 125.3 466.3 L 125.3 458.8 L 126.6 458.8 L 126.6 468.5 L 125.3 468.5 L 121.8 462.9 Q 121.4 462.2, 121.0 461.5 Q 120.6 460.7, 120.5 460.5 L 120.5 468.5 L 119.2 468.5 L 119.2 458.8 L 120.8 458.8 \" fill=\"#0000FF\"/>\n<path class=\"atom-8\" d=\"M 119.1 469.5 L 120.4 469.5 L 120.4 473.6 L 125.4 473.6 L 125.4 469.5 L 126.7 469.5 L 126.7 479.2 L 125.4 479.2 L 125.4 474.7 L 120.4 474.7 L 120.4 479.2 L 119.1 479.2 L 119.1 469.5 \" fill=\"#0000FF\"/>\n<path class=\"atom-13\" d=\"M 40.7 399.0 L 42.0 399.0 L 42.0 403.1 L 46.9 403.1 L 46.9 399.0 L 48.3 399.0 L 48.3 408.7 L 46.9 408.7 L 46.9 404.2 L 42.0 404.2 L 42.0 408.7 L 40.7 408.7 L 40.7 399.0 \" fill=\"#FF0000\"/>\n<path class=\"atom-13\" d=\"M 50.2 403.8 Q 50.2 401.5, 51.4 400.2 Q 52.6 398.9, 54.7 398.9 Q 56.9 398.9, 58.0 400.2 Q 59.2 401.5, 59.2 403.8 Q 59.2 406.2, 58.0 407.5 Q 56.8 408.9, 54.7 408.9 Q 52.6 408.9, 51.4 407.5 Q 50.2 406.2, 50.2 403.8 M 54.7 407.8 Q 56.2 407.8, 57.0 406.8 Q 57.8 405.8, 57.8 403.8 Q 57.8 401.9, 57.0 401.0 Q 56.2 400.0, 54.7 400.0 Q 53.2 400.0, 52.4 400.9 Q 51.6 401.9, 51.6 403.8 Q 51.6 405.8, 52.4 406.8 Q 53.2 407.8, 54.7 407.8 \" fill=\"#FF0000\"/>\n<path class=\"bond-0 atom-0 atom-1\" d=\"M 326.6,491.1 L 345.0,462.1\" style=\"fill:none;fill-rule:evenodd;stroke:#000000;stroke-width:2.0px;stroke-linecap:butt;stroke-linejoin:miter;stroke-opacity:1\"/>\n<path class=\"bond-1 atom-1 atom-2\" d=\"M 345.0,462.1 L 363.4,433.2\" style=\"fill:none;fill-rule:evenodd;stroke:#000000;stroke-width:2.0px;stroke-linecap:butt;stroke-linejoin:miter;stroke-opacity:1\"/>\n<path class=\"bond-2 atom-1 atom-3\" d=\"M 345.0,462.1 L 316.1,443.7\" style=\"fill:none;fill-rule:evenodd;stroke:#000000;stroke-width:2.0px;stroke-linecap:butt;stroke-linejoin:miter;stroke-opacity:1\"/>\n<path class=\"bond-3 atom-1 atom-4\" d=\"M 345.0,462.1 L 357.1,469.8\" style=\"fill:none;fill-rule:evenodd;stroke:#000000;stroke-width:2.0px;stroke-linecap:butt;stroke-linejoin:miter;stroke-opacity:1\"/>\n<path class=\"bond-3 atom-1 atom-4\" d=\"M 357.1,469.8 L 369.2,477.5\" style=\"fill:none;fill-rule:evenodd;stroke:#0000FF;stroke-width:2.0px;stroke-linecap:butt;stroke-linejoin:miter;stroke-opacity:1\"/>\n<path class=\"bond-4 atom-4 atom-5\" d=\"M 378.8,478.0 L 391.6,471.4\" style=\"fill:none;fill-rule:evenodd;stroke:#0000FF;stroke-width:2.0px;stroke-linecap:butt;stroke-linejoin:miter;stroke-opacity:1\"/>\n<path class=\"bond-4 atom-4 atom-5\" d=\"M 391.6,471.4 L 404.4,464.7\" style=\"fill:none;fill-rule:evenodd;stroke:#000000;stroke-width:2.0px;stroke-linecap:butt;stroke-linejoin:miter;stroke-opacity:1\"/>\n<path class=\"bond-5 atom-5 atom-6\" d=\"M 404.4,464.7 L 433.4,483.1\" style=\"fill:none;fill-rule:evenodd;stroke:#000000;stroke-width:2.0px;stroke-linecap:butt;stroke-linejoin:miter;stroke-opacity:1\"/>\n<path class=\"bond-6 atom-6 atom-7\" d=\"M 433.4,483.1 L 432.7,497.2\" style=\"fill:none;fill-rule:evenodd;stroke:#000000;stroke-width:2.0px;stroke-linecap:butt;stroke-linejoin:miter;stroke-opacity:1\"/>\n<path class=\"bond-6 atom-6 atom-7\" d=\"M 432.7,497.2 L 432.1,511.3\" style=\"fill:none;fill-rule:evenodd;stroke:#FF0000;stroke-width:2.0px;stroke-linecap:butt;stroke-linejoin:miter;stroke-opacity:1\"/>\n<path class=\"bond-7 atom-6 atom-8\" d=\"M 433.4,483.1 L 463.8,467.2\" style=\"fill:none;fill-rule:evenodd;stroke:#000000;stroke-width:2.0px;stroke-linecap:butt;stroke-linejoin:miter;stroke-opacity:1\"/>\n<path class=\"bond-8 atom-8 atom-9\" d=\"M 463.8,467.2 L 465.2,432.9\" style=\"fill:none;fill-rule:evenodd;stroke:#000000;stroke-width:2.0px;stroke-linecap:butt;stroke-linejoin:miter;stroke-opacity:1\"/>\n<path class=\"bond-8 atom-8 atom-9\" d=\"M 469.0,464.5 L 470.2,436.1\" style=\"fill:none;fill-rule:evenodd;stroke:#000000;stroke-width:2.0px;stroke-linecap:butt;stroke-linejoin:miter;stroke-opacity:1\"/>\n<path class=\"bond-9 atom-9 atom-10\" d=\"M 465.2,432.9 L 495.6,417.1\" style=\"fill:none;fill-rule:evenodd;stroke:#000000;stroke-width:2.0px;stroke-linecap:butt;stroke-linejoin:miter;stroke-opacity:1\"/>\n<path class=\"bond-10 atom-10 atom-11\" d=\"M 495.6,417.1 L 496.2,403.2\" style=\"fill:none;fill-rule:evenodd;stroke:#000000;stroke-width:2.0px;stroke-linecap:butt;stroke-linejoin:miter;stroke-opacity:1\"/>\n<path class=\"bond-10 atom-10 atom-11\" d=\"M 496.2,403.2 L 496.8,389.3\" style=\"fill:none;fill-rule:evenodd;stroke:#00CC00;stroke-width:2.0px;stroke-linecap:butt;stroke-linejoin:miter;stroke-opacity:1\"/>\n<path class=\"bond-11 atom-10 atom-12\" d=\"M 495.6,417.1 L 524.6,435.5\" style=\"fill:none;fill-rule:evenodd;stroke:#000000;stroke-width:2.0px;stroke-linecap:butt;stroke-linejoin:miter;stroke-opacity:1\"/>\n<path class=\"bond-11 atom-10 atom-12\" d=\"M 495.4,423.0 L 519.3,438.2\" style=\"fill:none;fill-rule:evenodd;stroke:#000000;stroke-width:2.0px;stroke-linecap:butt;stroke-linejoin:miter;stroke-opacity:1\"/>\n<path class=\"bond-12 atom-12 atom-13\" d=\"M 524.6,435.5 L 537.4,428.8\" style=\"fill:none;fill-rule:evenodd;stroke:#000000;stroke-width:2.0px;stroke-linecap:butt;stroke-linejoin:miter;stroke-opacity:1\"/>\n<path class=\"bond-12 atom-12 atom-13\" d=\"M 537.4,428.8 L 550.2,422.1\" style=\"fill:none;fill-rule:evenodd;stroke:#0000FF;stroke-width:2.0px;stroke-linecap:butt;stroke-linejoin:miter;stroke-opacity:1\"/>\n<path class=\"bond-13 atom-12 atom-14\" d=\"M 524.6,435.5 L 523.1,469.7\" style=\"fill:none;fill-rule:evenodd;stroke:#000000;stroke-width:2.0px;stroke-linecap:butt;stroke-linejoin:miter;stroke-opacity:1\"/>\n<path class=\"bond-14 atom-14 atom-15\" d=\"M 523.1,469.7 L 552.1,488.1\" style=\"fill:none;fill-rule:evenodd;stroke:#000000;stroke-width:2.0px;stroke-linecap:butt;stroke-linejoin:miter;stroke-opacity:1\"/>\n<path class=\"bond-15 atom-15 atom-16\" d=\"M 552.1,488.1 L 564.5,496.1\" style=\"fill:none;fill-rule:evenodd;stroke:#000000;stroke-width:2.0px;stroke-linecap:butt;stroke-linejoin:miter;stroke-opacity:1\"/>\n<path class=\"bond-15 atom-15 atom-16\" d=\"M 564.5,496.1 L 577.0,504.0\" style=\"fill:none;fill-rule:evenodd;stroke:#33CCCC;stroke-width:2.0px;stroke-linecap:butt;stroke-linejoin:miter;stroke-opacity:1\"/>\n<path class=\"bond-16 atom-15 atom-17\" d=\"M 552.1,488.1 L 544.8,499.6\" style=\"fill:none;fill-rule:evenodd;stroke:#000000;stroke-width:2.0px;stroke-linecap:butt;stroke-linejoin:miter;stroke-opacity:1\"/>\n<path class=\"bond-16 atom-15 atom-17\" d=\"M 544.8,499.6 L 537.5,511.1\" style=\"fill:none;fill-rule:evenodd;stroke:#33CCCC;stroke-width:2.0px;stroke-linecap:butt;stroke-linejoin:miter;stroke-opacity:1\"/>\n<path class=\"bond-17 atom-15 atom-18\" d=\"M 552.1,488.1 L 559.4,476.7\" style=\"fill:none;fill-rule:evenodd;stroke:#000000;stroke-width:2.0px;stroke-linecap:butt;stroke-linejoin:miter;stroke-opacity:1\"/>\n<path class=\"bond-17 atom-15 atom-18\" d=\"M 559.4,476.7 L 566.7,465.2\" style=\"fill:none;fill-rule:evenodd;stroke:#33CCCC;stroke-width:2.0px;stroke-linecap:butt;stroke-linejoin:miter;stroke-opacity:1\"/>\n<path class=\"bond-18 atom-14 atom-19\" d=\"M 523.1,469.7 L 492.7,485.6\" style=\"fill:none;fill-rule:evenodd;stroke:#000000;stroke-width:2.0px;stroke-linecap:butt;stroke-linejoin:miter;stroke-opacity:1\"/>\n<path class=\"bond-18 atom-14 atom-19\" d=\"M 518.1,466.6 L 493.0,479.7\" style=\"fill:none;fill-rule:evenodd;stroke:#000000;stroke-width:2.0px;stroke-linecap:butt;stroke-linejoin:miter;stroke-opacity:1\"/>\n<path class=\"bond-19 atom-19 atom-8\" d=\"M 492.7,485.6 L 463.8,467.2\" style=\"fill:none;fill-rule:evenodd;stroke:#000000;stroke-width:2.0px;stroke-linecap:butt;stroke-linejoin:miter;stroke-opacity:1\"/>\n<path d=\"M 403.8,465.0 L 404.4,464.7 L 405.9,465.6\" style=\"fill:none;stroke:#000000;stroke-width:2.0px;stroke-linecap:butt;stroke-linejoin:miter;stroke-opacity:1;\"/>\n<path d=\"M 465.1,434.7 L 465.2,432.9 L 466.7,432.1\" style=\"fill:none;stroke:#000000;stroke-width:2.0px;stroke-linecap:butt;stroke-linejoin:miter;stroke-opacity:1;\"/>\n<path d=\"M 494.2,484.8 L 492.7,485.6 L 491.3,484.7\" style=\"fill:none;stroke:#000000;stroke-width:2.0px;stroke-linecap:butt;stroke-linejoin:miter;stroke-opacity:1;\"/>\n<path class=\"atom-4\" d=\"M 371.8 475.7 L 375.0 480.8 Q 375.3 481.3, 375.9 482.3 Q 376.4 483.2, 376.4 483.2 L 376.4 475.7 L 377.7 475.7 L 377.7 485.4 L 376.3 485.4 L 372.9 479.8 Q 372.5 479.1, 372.1 478.4 Q 371.7 477.6, 371.6 477.4 L 371.6 485.4 L 370.3 485.4 L 370.3 475.7 L 371.8 475.7 \" fill=\"#0000FF\"/>\n<path class=\"atom-4\" d=\"M 370.2 486.4 L 371.5 486.4 L 371.5 490.5 L 376.5 490.5 L 376.5 486.4 L 377.8 486.4 L 377.8 496.1 L 376.5 496.1 L 376.5 491.6 L 371.5 491.6 L 371.5 496.1 L 370.2 496.1 L 370.2 486.4 \" fill=\"#0000FF\"/>\n<path class=\"atom-7\" d=\"M 427.4 517.4 Q 427.4 515.0, 428.6 513.7 Q 429.7 512.4, 431.9 512.4 Q 434.0 512.4, 435.2 513.7 Q 436.3 515.0, 436.3 517.4 Q 436.3 519.7, 435.2 521.1 Q 434.0 522.4, 431.9 522.4 Q 429.8 522.4, 428.6 521.1 Q 427.4 519.7, 427.4 517.4 M 431.9 521.3 Q 433.4 521.3, 434.2 520.3 Q 435.0 519.3, 435.0 517.4 Q 435.0 515.5, 434.2 514.5 Q 433.4 513.5, 431.9 513.5 Q 430.4 513.5, 429.6 514.5 Q 428.8 515.5, 428.8 517.4 Q 428.8 519.3, 429.6 520.3 Q 430.4 521.3, 431.9 521.3 \" fill=\"#FF0000\"/>\n<path class=\"atom-7\" d=\"M 437.9 512.5 L 439.2 512.5 L 439.2 516.7 L 444.1 516.7 L 444.1 512.5 L 445.5 512.5 L 445.5 522.3 L 444.1 522.3 L 444.1 517.8 L 439.2 517.8 L 439.2 522.3 L 437.9 522.3 L 437.9 512.5 \" fill=\"#FF0000\"/>\n<path class=\"atom-11\" d=\"M 493.3 383.1 Q 493.3 380.7, 494.5 379.5 Q 495.6 378.2, 497.8 378.2 Q 499.8 378.2, 500.8 379.6 L 499.9 380.3 Q 499.1 379.3, 497.8 379.3 Q 496.3 379.3, 495.5 380.3 Q 494.7 381.3, 494.7 383.1 Q 494.7 385.1, 495.5 386.0 Q 496.4 387.0, 497.9 387.0 Q 499.0 387.0, 500.2 386.4 L 500.6 387.4 Q 500.1 387.7, 499.3 387.9 Q 498.6 388.1, 497.7 388.1 Q 495.6 388.1, 494.5 386.8 Q 493.3 385.5, 493.3 383.1 \" fill=\"#00CC00\"/>\n<path class=\"atom-11\" d=\"M 501.8 377.6 L 503.1 377.6 L 503.1 388.0 L 501.8 388.0 L 501.8 377.6 \" fill=\"#00CC00\"/>\n<path class=\"atom-13\" d=\"M 552.8 414.7 L 556.0 419.9 Q 556.3 420.4, 556.8 421.3 Q 557.4 422.2, 557.4 422.3 L 557.4 414.7 L 558.7 414.7 L 558.7 424.5 L 557.3 424.5 L 553.9 418.8 Q 553.5 418.2, 553.1 417.4 Q 552.7 416.7, 552.6 416.4 L 552.6 424.5 L 551.3 424.5 L 551.3 414.7 L 552.8 414.7 \" fill=\"#0000FF\"/>\n<path class=\"atom-13\" d=\"M 560.5 414.7 L 561.8 414.7 L 561.8 418.9 L 566.8 418.9 L 566.8 414.7 L 568.1 414.7 L 568.1 424.5 L 566.8 424.5 L 566.8 420.0 L 561.8 420.0 L 561.8 424.5 L 560.5 424.5 L 560.5 414.7 \" fill=\"#0000FF\"/>\n<path class=\"atom-13\" d=\"M 570.0 424.1 Q 570.3 423.5, 570.8 423.2 Q 571.4 422.8, 572.2 422.8 Q 573.1 422.8, 573.7 423.4 Q 574.2 423.9, 574.2 424.8 Q 574.2 425.8, 573.5 426.7 Q 572.8 427.5, 571.4 428.6 L 574.3 428.6 L 574.3 429.3 L 570.0 429.3 L 570.0 428.7 Q 571.2 427.9, 571.9 427.2 Q 572.6 426.6, 573.0 426.0 Q 573.3 425.4, 573.3 424.9 Q 573.3 424.2, 573.0 423.9 Q 572.7 423.6, 572.2 423.6 Q 571.6 423.6, 571.3 423.8 Q 571.0 424.0, 570.7 424.4 L 570.0 424.1 \" fill=\"#0000FF\"/>\n<path class=\"atom-16\" d=\"M 578.1 501.7 L 583.9 501.7 L 583.9 502.8 L 579.4 502.8 L 579.4 505.7 L 583.4 505.7 L 583.4 506.9 L 579.4 506.9 L 579.4 511.4 L 578.1 511.4 L 578.1 501.7 \" fill=\"#33CCCC\"/>\n<path class=\"atom-17\" d=\"M 530.8 512.2 L 536.6 512.2 L 536.6 513.3 L 532.1 513.3 L 532.1 516.3 L 536.1 516.3 L 536.1 517.4 L 532.1 517.4 L 532.1 521.9 L 530.8 521.9 L 530.8 512.2 \" fill=\"#33CCCC\"/>\n<path class=\"atom-18\" d=\"M 567.6 454.3 L 573.4 454.3 L 573.4 455.4 L 568.9 455.4 L 568.9 458.4 L 572.9 458.4 L 572.9 459.5 L 568.9 459.5 L 568.9 464.0 L 567.6 464.0 L 567.6 454.3 \" fill=\"#33CCCC\"/>\n<path class=\"bond-0 atom-0 atom-1\" d=\"M 647.1,438.6 L 681.4,437.8\" style=\"fill:none;fill-rule:evenodd;stroke:#000000;stroke-width:2.0px;stroke-linecap:butt;stroke-linejoin:miter;stroke-opacity:1\"/>\n<path class=\"bond-1 atom-1 atom-2\" d=\"M 681.4,437.8 L 697.9,407.7\" style=\"fill:none;fill-rule:evenodd;stroke:#000000;stroke-width:2.0px;stroke-linecap:butt;stroke-linejoin:miter;stroke-opacity:1\"/>\n<path class=\"bond-1 atom-1 atom-2\" d=\"M 687.4,437.7 L 700.9,412.8\" style=\"fill:none;fill-rule:evenodd;stroke:#000000;stroke-width:2.0px;stroke-linecap:butt;stroke-linejoin:miter;stroke-opacity:1\"/>\n<path class=\"bond-2 atom-2 atom-3\" d=\"M 697.9,407.7 L 732.1,406.9\" style=\"fill:none;fill-rule:evenodd;stroke:#000000;stroke-width:2.0px;stroke-linecap:butt;stroke-linejoin:miter;stroke-opacity:1\"/>\n<path class=\"bond-3 atom-3 atom-4\" d=\"M 732.1,406.9 L 750.0,436.2\" style=\"fill:none;fill-rule:evenodd;stroke:#000000;stroke-width:2.0px;stroke-linecap:butt;stroke-linejoin:miter;stroke-opacity:1\"/>\n<path class=\"bond-3 atom-3 atom-4\" d=\"M 729.3,412.1 L 744.1,436.3\" style=\"fill:none;fill-rule:evenodd;stroke:#000000;stroke-width:2.0px;stroke-linecap:butt;stroke-linejoin:miter;stroke-opacity:1\"/>\n<path class=\"bond-4 atom-4 atom-5\" d=\"M 750.0,436.2 L 733.6,466.3\" style=\"fill:none;fill-rule:evenodd;stroke:#000000;stroke-width:2.0px;stroke-linecap:butt;stroke-linejoin:miter;stroke-opacity:1\"/>\n<path class=\"bond-5 atom-5 atom-6\" d=\"M 733.6,466.3 L 751.4,495.6\" style=\"fill:none;fill-rule:evenodd;stroke:#000000;stroke-width:2.0px;stroke-linecap:butt;stroke-linejoin:miter;stroke-opacity:1\"/>\n<path class=\"bond-6 atom-6 atom-7\" d=\"M 751.4,495.6 L 785.7,494.7\" style=\"fill:none;fill-rule:evenodd;stroke:#000000;stroke-width:2.0px;stroke-linecap:butt;stroke-linejoin:miter;stroke-opacity:1\"/>\n<path class=\"bond-6 atom-6 atom-7\" d=\"M 754.3,490.4 L 782.6,489.7\" style=\"fill:none;fill-rule:evenodd;stroke:#000000;stroke-width:2.0px;stroke-linecap:butt;stroke-linejoin:miter;stroke-opacity:1\"/>\n<path class=\"bond-7 atom-7 atom-8\" d=\"M 785.7,494.7 L 802.1,464.6\" style=\"fill:none;fill-rule:evenodd;stroke:#000000;stroke-width:2.0px;stroke-linecap:butt;stroke-linejoin:miter;stroke-opacity:1\"/>\n<path class=\"bond-8 atom-8 atom-9\" d=\"M 802.1,464.6 L 836.4,463.8\" style=\"fill:none;fill-rule:evenodd;stroke:#000000;stroke-width:2.0px;stroke-linecap:butt;stroke-linejoin:miter;stroke-opacity:1\"/>\n<path class=\"bond-8 atom-8 atom-9\" d=\"M 805.0,459.4 L 833.3,458.7\" style=\"fill:none;fill-rule:evenodd;stroke:#000000;stroke-width:2.0px;stroke-linecap:butt;stroke-linejoin:miter;stroke-opacity:1\"/>\n<path class=\"bond-9 atom-9 atom-10\" d=\"M 836.4,463.8 L 852.9,433.7\" style=\"fill:none;fill-rule:evenodd;stroke:#000000;stroke-width:2.0px;stroke-linecap:butt;stroke-linejoin:miter;stroke-opacity:1\"/>\n<path class=\"bond-10 atom-10 atom-11\" d=\"M 852.9,433.7 L 835.0,404.4\" style=\"fill:none;fill-rule:evenodd;stroke:#000000;stroke-width:2.0px;stroke-linecap:butt;stroke-linejoin:miter;stroke-opacity:1\"/>\n<path class=\"bond-10 atom-10 atom-11\" d=\"M 846.9,433.9 L 832.2,409.6\" style=\"fill:none;fill-rule:evenodd;stroke:#000000;stroke-width:2.0px;stroke-linecap:butt;stroke-linejoin:miter;stroke-opacity:1\"/>\n<path class=\"bond-11 atom-11 atom-12\" d=\"M 835.0,404.4 L 800.7,405.3\" style=\"fill:none;fill-rule:evenodd;stroke:#000000;stroke-width:2.0px;stroke-linecap:butt;stroke-linejoin:miter;stroke-opacity:1\"/>\n<path class=\"bond-12 atom-12 atom-13\" d=\"M 800.7,405.3 L 784.3,435.4\" style=\"fill:none;fill-rule:evenodd;stroke:#000000;stroke-width:2.0px;stroke-linecap:butt;stroke-linejoin:miter;stroke-opacity:1\"/>\n<path class=\"bond-12 atom-12 atom-13\" d=\"M 803.8,410.3 L 790.2,435.2\" style=\"fill:none;fill-rule:evenodd;stroke:#000000;stroke-width:2.0px;stroke-linecap:butt;stroke-linejoin:miter;stroke-opacity:1\"/>\n<path class=\"bond-13 atom-5 atom-14\" d=\"M 733.6,466.3 L 699.3,467.1\" style=\"fill:none;fill-rule:evenodd;stroke:#000000;stroke-width:2.0px;stroke-linecap:butt;stroke-linejoin:miter;stroke-opacity:1\"/>\n<path class=\"bond-13 atom-5 atom-14\" d=\"M 730.5,461.2 L 702.1,461.9\" style=\"fill:none;fill-rule:evenodd;stroke:#000000;stroke-width:2.0px;stroke-linecap:butt;stroke-linejoin:miter;stroke-opacity:1\"/>\n<path class=\"bond-14 atom-14 atom-1\" d=\"M 699.3,467.1 L 681.4,437.8\" style=\"fill:none;fill-rule:evenodd;stroke:#000000;stroke-width:2.0px;stroke-linecap:butt;stroke-linejoin:miter;stroke-opacity:1\"/>\n<path class=\"bond-15 atom-13 atom-4\" d=\"M 784.3,435.4 L 750.0,436.2\" style=\"fill:none;fill-rule:evenodd;stroke:#000000;stroke-width:2.0px;stroke-linecap:butt;stroke-linejoin:miter;stroke-opacity:1\"/>\n<path class=\"bond-16 atom-13 atom-8\" d=\"M 784.3,435.4 L 802.1,464.6\" style=\"fill:none;fill-rule:evenodd;stroke:#000000;stroke-width:2.0px;stroke-linecap:butt;stroke-linejoin:miter;stroke-opacity:1\"/>\n<path d=\"M 697.0,409.2 L 697.9,407.7 L 699.6,407.7\" style=\"fill:none;stroke:#000000;stroke-width:2.0px;stroke-linecap:butt;stroke-linejoin:miter;stroke-opacity:1;\"/>\n<path d=\"M 730.4,406.9 L 732.1,406.9 L 733.0,408.4\" style=\"fill:none;stroke:#000000;stroke-width:2.0px;stroke-linecap:butt;stroke-linejoin:miter;stroke-opacity:1;\"/>\n<path d=\"M 750.5,494.1 L 751.4,495.6 L 753.1,495.5\" style=\"fill:none;stroke:#000000;stroke-width:2.0px;stroke-linecap:butt;stroke-linejoin:miter;stroke-opacity:1;\"/>\n<path d=\"M 784.0,494.8 L 785.7,494.7 L 786.5,493.2\" style=\"fill:none;stroke:#000000;stroke-width:2.0px;stroke-linecap:butt;stroke-linejoin:miter;stroke-opacity:1;\"/>\n<path d=\"M 834.7,463.9 L 836.4,463.8 L 837.3,462.3\" style=\"fill:none;stroke:#000000;stroke-width:2.0px;stroke-linecap:butt;stroke-linejoin:miter;stroke-opacity:1;\"/>\n<path d=\"M 852.0,435.2 L 852.9,433.7 L 852.0,432.3\" style=\"fill:none;stroke:#000000;stroke-width:2.0px;stroke-linecap:butt;stroke-linejoin:miter;stroke-opacity:1;\"/>\n<path d=\"M 835.9,405.9 L 835.0,404.4 L 833.3,404.5\" style=\"fill:none;stroke:#000000;stroke-width:2.0px;stroke-linecap:butt;stroke-linejoin:miter;stroke-opacity:1;\"/>\n<path d=\"M 802.4,405.2 L 800.7,405.3 L 799.9,406.8\" style=\"fill:none;stroke:#000000;stroke-width:2.0px;stroke-linecap:butt;stroke-linejoin:miter;stroke-opacity:1;\"/>\n<path d=\"M 701.0,467.1 L 699.3,467.1 L 698.4,465.6\" style=\"fill:none;stroke:#000000;stroke-width:2.0px;stroke-linecap:butt;stroke-linejoin:miter;stroke-opacity:1;\"/>\n<path class=\"bond-0 atom-0 atom-1\" d=\"M 943.1,447.7 L 976.5,440.1\" style=\"fill:none;fill-rule:evenodd;stroke:#000000;stroke-width:2.0px;stroke-linecap:butt;stroke-linejoin:miter;stroke-opacity:1\"/>\n<path class=\"bond-1 atom-1 atom-2\" d=\"M 976.5,440.1 L 999.8,465.3\" style=\"fill:none;fill-rule:evenodd;stroke:#000000;stroke-width:2.0px;stroke-linecap:butt;stroke-linejoin:miter;stroke-opacity:1\"/>\n<path class=\"bond-1 atom-1 atom-2\" d=\"M 974.8,445.8 L 996.1,468.8\" style=\"fill:none;fill-rule:evenodd;stroke:#000000;stroke-width:2.0px;stroke-linecap:butt;stroke-linejoin:miter;stroke-opacity:1\"/>\n<path class=\"bond-2 atom-2 atom-3\" d=\"M 999.8,465.3 L 1033.3,457.6\" style=\"fill:none;fill-rule:evenodd;stroke:#000000;stroke-width:2.0px;stroke-linecap:butt;stroke-linejoin:miter;stroke-opacity:1\"/>\n<path class=\"bond-3 atom-3 atom-4\" d=\"M 1033.3,457.6 L 1043.4,424.9\" style=\"fill:none;fill-rule:evenodd;stroke:#000000;stroke-width:2.0px;stroke-linecap:butt;stroke-linejoin:miter;stroke-opacity:1\"/>\n<path class=\"bond-3 atom-3 atom-4\" d=\"M 1039.1,456.3 L 1047.4,429.2\" style=\"fill:none;fill-rule:evenodd;stroke:#000000;stroke-width:2.0px;stroke-linecap:butt;stroke-linejoin:miter;stroke-opacity:1\"/>\n<path class=\"bond-4 atom-4 atom-5\" d=\"M 1043.4,424.9 L 1076.8,417.2\" style=\"fill:none;fill-rule:evenodd;stroke:#000000;stroke-width:2.0px;stroke-linecap:butt;stroke-linejoin:miter;stroke-opacity:1\"/>\n<path class=\"bond-5 atom-5 atom-6\" d=\"M 1076.8,417.2 L 1100.2,442.4\" style=\"fill:none;fill-rule:evenodd;stroke:#000000;stroke-width:2.0px;stroke-linecap:butt;stroke-linejoin:miter;stroke-opacity:1\"/>\n<path class=\"bond-5 atom-5 atom-6\" d=\"M 1075.1,422.9 L 1094.4,443.7\" style=\"fill:none;fill-rule:evenodd;stroke:#000000;stroke-width:2.0px;stroke-linecap:butt;stroke-linejoin:miter;stroke-opacity:1\"/>\n<path class=\"bond-6 atom-6 atom-7\" d=\"M 1100.2,442.4 L 1114.1,439.2\" style=\"fill:none;fill-rule:evenodd;stroke:#000000;stroke-width:2.0px;stroke-linecap:butt;stroke-linejoin:miter;stroke-opacity:1\"/>\n<path class=\"bond-6 atom-6 atom-7\" d=\"M 1114.1,439.2 L 1128.0,436.0\" style=\"fill:none;fill-rule:evenodd;stroke:#FF0000;stroke-width:2.0px;stroke-linecap:butt;stroke-linejoin:miter;stroke-opacity:1\"/>\n<path class=\"bond-7 atom-7 atom-8\" d=\"M 1139.2,440.8 L 1148.1,450.3\" style=\"fill:none;fill-rule:evenodd;stroke:#FF0000;stroke-width:2.0px;stroke-linecap:butt;stroke-linejoin:miter;stroke-opacity:1\"/>\n<path class=\"bond-7 atom-7 atom-8\" d=\"M 1148.1,450.3 L 1156.9,459.9\" style=\"fill:none;fill-rule:evenodd;stroke:#000000;stroke-width:2.0px;stroke-linecap:butt;stroke-linejoin:miter;stroke-opacity:1\"/>\n<path class=\"bond-8 atom-6 atom-9\" d=\"M 1100.2,442.4 L 1090.0,475.1\" style=\"fill:none;fill-rule:evenodd;stroke:#000000;stroke-width:2.0px;stroke-linecap:butt;stroke-linejoin:miter;stroke-opacity:1\"/>\n<path class=\"bond-9 atom-9 atom-10\" d=\"M 1090.0,475.1 L 1056.6,482.8\" style=\"fill:none;fill-rule:evenodd;stroke:#000000;stroke-width:2.0px;stroke-linecap:butt;stroke-linejoin:miter;stroke-opacity:1\"/>\n<path class=\"bond-9 atom-9 atom-10\" d=\"M 1086.0,470.8 L 1058.4,477.1\" style=\"fill:none;fill-rule:evenodd;stroke:#000000;stroke-width:2.0px;stroke-linecap:butt;stroke-linejoin:miter;stroke-opacity:1\"/>\n<path class=\"bond-10 atom-10 atom-3\" d=\"M 1056.6,482.8 L 1033.3,457.6\" style=\"fill:none;fill-rule:evenodd;stroke:#000000;stroke-width:2.0px;stroke-linecap:butt;stroke-linejoin:miter;stroke-opacity:1\"/>\n<path d=\"M 974.8,440.5 L 976.5,440.1 L 977.7,441.4\" style=\"fill:none;stroke:#000000;stroke-width:2.0px;stroke-linecap:butt;stroke-linejoin:miter;stroke-opacity:1;\"/>\n<path d=\"M 998.7,464.0 L 999.8,465.3 L 1001.5,464.9\" style=\"fill:none;stroke:#000000;stroke-width:2.0px;stroke-linecap:butt;stroke-linejoin:miter;stroke-opacity:1;\"/>\n<path d=\"M 1042.9,426.5 L 1043.4,424.9 L 1045.1,424.5\" style=\"fill:none;stroke:#000000;stroke-width:2.0px;stroke-linecap:butt;stroke-linejoin:miter;stroke-opacity:1;\"/>\n<path d=\"M 1075.2,417.6 L 1076.8,417.2 L 1078.0,418.5\" style=\"fill:none;stroke:#000000;stroke-width:2.0px;stroke-linecap:butt;stroke-linejoin:miter;stroke-opacity:1;\"/>\n<path d=\"M 1090.6,473.5 L 1090.0,475.1 L 1088.4,475.5\" style=\"fill:none;stroke:#000000;stroke-width:2.0px;stroke-linecap:butt;stroke-linejoin:miter;stroke-opacity:1;\"/>\n<path d=\"M 1058.3,482.4 L 1056.6,482.8 L 1055.4,481.5\" style=\"fill:none;stroke:#000000;stroke-width:2.0px;stroke-linecap:butt;stroke-linejoin:miter;stroke-opacity:1;\"/>\n<path class=\"atom-7\" d=\"M 1129.1 434.8 Q 1129.1 432.4, 1130.3 431.1 Q 1131.5 429.8, 1133.6 429.8 Q 1135.8 429.8, 1136.9 431.1 Q 1138.1 432.4, 1138.1 434.8 Q 1138.1 437.1, 1136.9 438.5 Q 1135.7 439.8, 1133.6 439.8 Q 1131.5 439.8, 1130.3 438.5 Q 1129.1 437.1, 1129.1 434.8 M 1133.6 438.7 Q 1135.1 438.7, 1135.9 437.7 Q 1136.7 436.7, 1136.7 434.8 Q 1136.7 432.9, 1135.9 431.9 Q 1135.1 430.9, 1133.6 430.9 Q 1132.1 430.9, 1131.3 431.9 Q 1130.5 432.9, 1130.5 434.8 Q 1130.5 436.7, 1131.3 437.7 Q 1132.1 438.7, 1133.6 438.7 \" fill=\"#FF0000\"/>\n<path class=\"bond-0 atom-0 atom-1\" d=\"M 37.2,800.6 L 15.0,774.5\" style=\"fill:none;fill-rule:evenodd;stroke:#000000;stroke-width:2.0px;stroke-linecap:butt;stroke-linejoin:miter;stroke-opacity:1\"/>\n<path class=\"bond-0 atom-0 atom-1\" d=\"M 39.2,795.1 L 20.8,773.4\" style=\"fill:none;fill-rule:evenodd;stroke:#000000;stroke-width:2.0px;stroke-linecap:butt;stroke-linejoin:miter;stroke-opacity:1\"/>\n<path class=\"bond-1 atom-1 atom-2\" d=\"M 15.0,774.5 L 26.6,742.2\" style=\"fill:none;fill-rule:evenodd;stroke:#000000;stroke-width:2.0px;stroke-linecap:butt;stroke-linejoin:miter;stroke-opacity:1\"/>\n<path class=\"bond-2 atom-2 atom-3\" d=\"M 26.6,742.2 L 60.3,736.1\" style=\"fill:none;fill-rule:evenodd;stroke:#000000;stroke-width:2.0px;stroke-linecap:butt;stroke-linejoin:miter;stroke-opacity:1\"/>\n<path class=\"bond-2 atom-2 atom-3\" d=\"M 30.4,746.7 L 58.3,741.7\" style=\"fill:none;fill-rule:evenodd;stroke:#000000;stroke-width:2.0px;stroke-linecap:butt;stroke-linejoin:miter;stroke-opacity:1\"/>\n<path class=\"bond-3 atom-3 atom-4\" d=\"M 60.3,736.1 L 82.5,762.2\" style=\"fill:none;fill-rule:evenodd;stroke:#000000;stroke-width:2.0px;stroke-linecap:butt;stroke-linejoin:miter;stroke-opacity:1\"/>\n<path class=\"bond-4 atom-4 atom-5\" d=\"M 82.5,762.2 L 70.9,794.5\" style=\"fill:none;fill-rule:evenodd;stroke:#000000;stroke-width:2.0px;stroke-linecap:butt;stroke-linejoin:miter;stroke-opacity:1\"/>\n<path class=\"bond-4 atom-4 atom-5\" d=\"M 76.7,763.3 L 67.1,790.0\" style=\"fill:none;fill-rule:evenodd;stroke:#000000;stroke-width:2.0px;stroke-linecap:butt;stroke-linejoin:miter;stroke-opacity:1\"/>\n<path class=\"bond-5 atom-4 atom-6\" d=\"M 82.5,762.2 L 116.2,756.1\" style=\"fill:none;fill-rule:evenodd;stroke:#000000;stroke-width:2.0px;stroke-linecap:butt;stroke-linejoin:miter;stroke-opacity:1\"/>\n<path class=\"bond-6 atom-6 atom-7\" d=\"M 116.2,756.1 L 138.4,782.3\" style=\"fill:none;fill-rule:evenodd;stroke:#000000;stroke-width:2.0px;stroke-linecap:butt;stroke-linejoin:miter;stroke-opacity:1\"/>\n<path class=\"bond-6 atom-6 atom-7\" d=\"M 122.1,755.1 L 140.4,776.7\" style=\"fill:none;fill-rule:evenodd;stroke:#000000;stroke-width:2.0px;stroke-linecap:butt;stroke-linejoin:miter;stroke-opacity:1\"/>\n<path class=\"bond-7 atom-7 atom-8\" d=\"M 138.4,782.3 L 172.2,776.2\" style=\"fill:none;fill-rule:evenodd;stroke:#000000;stroke-width:2.0px;stroke-linecap:butt;stroke-linejoin:miter;stroke-opacity:1\"/>\n<path class=\"bond-8 atom-8 atom-9\" d=\"M 172.2,776.2 L 183.8,743.9\" style=\"fill:none;fill-rule:evenodd;stroke:#000000;stroke-width:2.0px;stroke-linecap:butt;stroke-linejoin:miter;stroke-opacity:1\"/>\n<path class=\"bond-8 atom-8 atom-9\" d=\"M 168.3,771.6 L 177.9,744.9\" style=\"fill:none;fill-rule:evenodd;stroke:#000000;stroke-width:2.0px;stroke-linecap:butt;stroke-linejoin:miter;stroke-opacity:1\"/>\n<path class=\"bond-9 atom-9 atom-10\" d=\"M 183.8,743.9 L 161.6,717.7\" style=\"fill:none;fill-rule:evenodd;stroke:#000000;stroke-width:2.0px;stroke-linecap:butt;stroke-linejoin:miter;stroke-opacity:1\"/>\n<path class=\"bond-10 atom-10 atom-11\" d=\"M 161.6,717.7 L 127.8,723.8\" style=\"fill:none;fill-rule:evenodd;stroke:#000000;stroke-width:2.0px;stroke-linecap:butt;stroke-linejoin:miter;stroke-opacity:1\"/>\n<path class=\"bond-10 atom-10 atom-11\" d=\"M 159.6,723.3 L 131.7,728.4\" style=\"fill:none;fill-rule:evenodd;stroke:#000000;stroke-width:2.0px;stroke-linecap:butt;stroke-linejoin:miter;stroke-opacity:1\"/>\n<path class=\"bond-11 atom-11 atom-12\" d=\"M 127.8,723.8 L 105.7,697.7\" style=\"fill:none;fill-rule:evenodd;stroke:#000000;stroke-width:2.0px;stroke-linecap:butt;stroke-linejoin:miter;stroke-opacity:1\"/>\n<path class=\"bond-12 atom-12 atom-13\" d=\"M 105.7,697.7 L 97.0,687.4\" style=\"fill:none;fill-rule:evenodd;stroke:#000000;stroke-width:2.0px;stroke-linecap:butt;stroke-linejoin:miter;stroke-opacity:1\"/>\n<path class=\"bond-12 atom-12 atom-13\" d=\"M 97.0,687.4 L 88.3,677.2\" style=\"fill:none;fill-rule:evenodd;stroke:#0000FF;stroke-width:2.0px;stroke-linecap:butt;stroke-linejoin:miter;stroke-opacity:1\"/>\n<path class=\"bond-13 atom-13 atom-14\" d=\"M 81.3,677.5 L 76.6,690.6\" style=\"fill:none;fill-rule:evenodd;stroke:#0000FF;stroke-width:2.0px;stroke-linecap:butt;stroke-linejoin:miter;stroke-opacity:1\"/>\n<path class=\"bond-13 atom-13 atom-14\" d=\"M 76.6,690.6 L 71.9,703.8\" style=\"fill:none;fill-rule:evenodd;stroke:#000000;stroke-width:2.0px;stroke-linecap:butt;stroke-linejoin:miter;stroke-opacity:1\"/>\n<path class=\"bond-14 atom-9 atom-15\" d=\"M 183.8,743.9 L 217.5,737.8\" style=\"fill:none;fill-rule:evenodd;stroke:#000000;stroke-width:2.0px;stroke-linecap:butt;stroke-linejoin:miter;stroke-opacity:1\"/>\n<path class=\"bond-15 atom-15 atom-16\" d=\"M 217.5,737.8 L 229.1,705.5\" style=\"fill:none;fill-rule:evenodd;stroke:#000000;stroke-width:2.0px;stroke-linecap:butt;stroke-linejoin:miter;stroke-opacity:1\"/>\n<path class=\"bond-15 atom-15 atom-16\" d=\"M 223.3,736.7 L 232.9,710.0\" style=\"fill:none;fill-rule:evenodd;stroke:#000000;stroke-width:2.0px;stroke-linecap:butt;stroke-linejoin:miter;stroke-opacity:1\"/>\n<path class=\"bond-16 atom-16 atom-17\" d=\"M 229.1,705.5 L 262.8,699.4\" style=\"fill:none;fill-rule:evenodd;stroke:#000000;stroke-width:2.0px;stroke-linecap:butt;stroke-linejoin:miter;stroke-opacity:1\"/>\n<path class=\"bond-17 atom-17 atom-18\" d=\"M 262.8,699.4 L 285.0,725.5\" style=\"fill:none;fill-rule:evenodd;stroke:#000000;stroke-width:2.0px;stroke-linecap:butt;stroke-linejoin:miter;stroke-opacity:1\"/>\n<path class=\"bond-17 atom-17 atom-18\" d=\"M 260.8,704.9 L 279.2,726.6\" style=\"fill:none;fill-rule:evenodd;stroke:#000000;stroke-width:2.0px;stroke-linecap:butt;stroke-linejoin:miter;stroke-opacity:1\"/>\n<path class=\"bond-18 atom-18 atom-19\" d=\"M 285.0,725.5 L 273.4,757.8\" style=\"fill:none;fill-rule:evenodd;stroke:#000000;stroke-width:2.0px;stroke-linecap:butt;stroke-linejoin:miter;stroke-opacity:1\"/>\n<path class=\"bond-19 atom-19 atom-20\" d=\"M 273.4,757.8 L 239.7,763.9\" style=\"fill:none;fill-rule:evenodd;stroke:#000000;stroke-width:2.0px;stroke-linecap:butt;stroke-linejoin:miter;stroke-opacity:1\"/>\n<path class=\"bond-19 atom-19 atom-20\" d=\"M 269.6,753.3 L 241.7,758.3\" style=\"fill:none;fill-rule:evenodd;stroke:#000000;stroke-width:2.0px;stroke-linecap:butt;stroke-linejoin:miter;stroke-opacity:1\"/>\n<path class=\"bond-20 atom-20 atom-21\" d=\"M 239.7,763.9 L 228.1,796.2\" style=\"fill:none;fill-rule:evenodd;stroke:#000000;stroke-width:2.0px;stroke-linecap:butt;stroke-linejoin:miter;stroke-opacity:1\"/>\n<path class=\"bond-21 atom-21 atom-22\" d=\"M 228.1,796.2 L 223.4,809.4\" style=\"fill:none;fill-rule:evenodd;stroke:#000000;stroke-width:2.0px;stroke-linecap:butt;stroke-linejoin:miter;stroke-opacity:1\"/>\n<path class=\"bond-21 atom-21 atom-22\" d=\"M 223.4,809.4 L 218.7,822.5\" style=\"fill:none;fill-rule:evenodd;stroke:#0000FF;stroke-width:2.0px;stroke-linecap:butt;stroke-linejoin:miter;stroke-opacity:1\"/>\n<path class=\"bond-22 atom-22 atom-23\" d=\"M 211.7,822.8 L 203.0,812.6\" style=\"fill:none;fill-rule:evenodd;stroke:#0000FF;stroke-width:2.0px;stroke-linecap:butt;stroke-linejoin:miter;stroke-opacity:1\"/>\n<path class=\"bond-22 atom-22 atom-23\" d=\"M 203.0,812.6 L 194.3,802.3\" style=\"fill:none;fill-rule:evenodd;stroke:#000000;stroke-width:2.0px;stroke-linecap:butt;stroke-linejoin:miter;stroke-opacity:1\"/>\n<path class=\"bond-23 atom-5 atom-0\" d=\"M 70.9,794.5 L 37.2,800.6\" style=\"fill:none;fill-rule:evenodd;stroke:#000000;stroke-width:2.0px;stroke-linecap:butt;stroke-linejoin:miter;stroke-opacity:1\"/>\n<path class=\"bond-24 atom-11 atom-6\" d=\"M 127.8,723.8 L 116.2,756.1\" style=\"fill:none;fill-rule:evenodd;stroke:#000000;stroke-width:2.0px;stroke-linecap:butt;stroke-linejoin:miter;stroke-opacity:1\"/>\n<path class=\"bond-25 atom-14 atom-12\" d=\"M 71.9,703.8 L 105.7,697.7\" style=\"fill:none;fill-rule:evenodd;stroke:#000000;stroke-width:2.0px;stroke-linecap:butt;stroke-linejoin:miter;stroke-opacity:1\"/>\n<path class=\"bond-26 atom-20 atom-15\" d=\"M 239.7,763.9 L 217.5,737.8\" style=\"fill:none;fill-rule:evenodd;stroke:#000000;stroke-width:2.0px;stroke-linecap:butt;stroke-linejoin:miter;stroke-opacity:1\"/>\n<path class=\"bond-27 atom-23 atom-21\" d=\"M 194.3,802.3 L 228.1,796.2\" style=\"fill:none;fill-rule:evenodd;stroke:#000000;stroke-width:2.0px;stroke-linecap:butt;stroke-linejoin:miter;stroke-opacity:1\"/>\n<path class=\"bond-28 atom-14 atom-3\" d=\"M 71.9,703.8 L 60.3,736.1\" style=\"fill:none;fill-rule:evenodd;stroke:#000000;stroke-width:2.0px;stroke-linecap:butt;stroke-linejoin:miter;stroke-opacity:1\"/>\n<path class=\"bond-29 atom-23 atom-8\" d=\"M 194.3,802.3 L 172.2,776.2\" style=\"fill:none;fill-rule:evenodd;stroke:#000000;stroke-width:2.0px;stroke-linecap:butt;stroke-linejoin:miter;stroke-opacity:1\"/>\n<path d=\"M 36.1,799.3 L 37.2,800.6 L 38.9,800.3\" style=\"fill:none;stroke:#000000;stroke-width:2.0px;stroke-linecap:butt;stroke-linejoin:miter;stroke-opacity:1;\"/>\n<path d=\"M 16.1,775.8 L 15.0,774.5 L 15.6,772.9\" style=\"fill:none;stroke:#000000;stroke-width:2.0px;stroke-linecap:butt;stroke-linejoin:miter;stroke-opacity:1;\"/>\n<path d=\"M 26.0,743.8 L 26.6,742.2 L 28.3,741.9\" style=\"fill:none;stroke:#000000;stroke-width:2.0px;stroke-linecap:butt;stroke-linejoin:miter;stroke-opacity:1;\"/>\n<path d=\"M 71.5,792.9 L 70.9,794.5 L 69.2,794.8\" style=\"fill:none;stroke:#000000;stroke-width:2.0px;stroke-linecap:butt;stroke-linejoin:miter;stroke-opacity:1;\"/>\n<path d=\"M 137.3,781.0 L 138.4,782.3 L 140.1,782.0\" style=\"fill:none;stroke:#000000;stroke-width:2.0px;stroke-linecap:butt;stroke-linejoin:miter;stroke-opacity:1;\"/>\n<path d=\"M 162.7,719.0 L 161.6,717.7 L 159.9,718.0\" style=\"fill:none;stroke:#000000;stroke-width:2.0px;stroke-linecap:butt;stroke-linejoin:miter;stroke-opacity:1;\"/>\n<path d=\"M 228.5,707.1 L 229.1,705.5 L 230.8,705.2\" style=\"fill:none;stroke:#000000;stroke-width:2.0px;stroke-linecap:butt;stroke-linejoin:miter;stroke-opacity:1;\"/>\n<path d=\"M 261.1,699.7 L 262.8,699.4 L 263.9,700.7\" style=\"fill:none;stroke:#000000;stroke-width:2.0px;stroke-linecap:butt;stroke-linejoin:miter;stroke-opacity:1;\"/>\n<path d=\"M 283.9,724.2 L 285.0,725.5 L 284.4,727.1\" style=\"fill:none;stroke:#000000;stroke-width:2.0px;stroke-linecap:butt;stroke-linejoin:miter;stroke-opacity:1;\"/>\n<path d=\"M 274.0,756.2 L 273.4,757.8 L 271.7,758.1\" style=\"fill:none;stroke:#000000;stroke-width:2.0px;stroke-linecap:butt;stroke-linejoin:miter;stroke-opacity:1;\"/>\n<path class=\"atom-13\" d=\"M 81.3 666.6 L 84.5 671.8 Q 84.8 672.3, 85.3 673.2 Q 85.8 674.1, 85.9 674.2 L 85.9 666.6 L 87.2 666.6 L 87.2 676.4 L 85.8 676.4 L 82.4 670.7 Q 82.0 670.1, 81.6 669.3 Q 81.2 668.6, 81.1 668.3 L 81.1 676.4 L 79.8 676.4 L 79.8 666.6 L 81.3 666.6 \" fill=\"#0000FF\"/>\n<path class=\"atom-13\" d=\"M 79.7 656.0 L 81.0 656.0 L 81.0 660.1 L 86.0 660.1 L 86.0 656.0 L 87.3 656.0 L 87.3 665.7 L 86.0 665.7 L 86.0 661.2 L 81.0 661.2 L 81.0 665.7 L 79.7 665.7 L 79.7 656.0 \" fill=\"#0000FF\"/>\n<path class=\"atom-22\" d=\"M 214.4 823.6 L 217.6 828.8 Q 217.9 829.3, 218.4 830.2 Q 218.9 831.1, 218.9 831.2 L 218.9 823.6 L 220.2 823.6 L 220.2 833.4 L 218.9 833.4 L 215.5 827.7 Q 215.1 827.1, 214.6 826.3 Q 214.2 825.6, 214.1 825.3 L 214.1 833.4 L 212.8 833.4 L 212.8 823.6 L 214.4 823.6 \" fill=\"#0000FF\"/>\n<path class=\"atom-22\" d=\"M 212.7 834.3 L 214.0 834.3 L 214.0 838.5 L 219.0 838.5 L 219.0 834.3 L 220.3 834.3 L 220.3 844.0 L 219.0 844.0 L 219.0 839.6 L 214.0 839.6 L 214.0 844.0 L 212.7 844.0 L 212.7 834.3 \" fill=\"#0000FF\"/>\n<path class=\"bond-0 atom-0 atom-1\" d=\"M 370.9,749.0 L 384.9,746.4\" style=\"fill:none;fill-rule:evenodd;stroke:#000000;stroke-width:2.0px;stroke-linecap:butt;stroke-linejoin:miter;stroke-opacity:1\"/>\n<path class=\"bond-0 atom-0 atom-1\" d=\"M 384.9,746.4 L 399.0,743.8\" style=\"fill:none;fill-rule:evenodd;stroke:#FF0000;stroke-width:2.0px;stroke-linecap:butt;stroke-linejoin:miter;stroke-opacity:1\"/>\n<path class=\"bond-1 atom-1 atom-2\" d=\"M 409.9,748.9 L 418.4,758.8\" style=\"fill:none;fill-rule:evenodd;stroke:#FF0000;stroke-width:2.0px;stroke-linecap:butt;stroke-linejoin:miter;stroke-opacity:1\"/>\n<path class=\"bond-1 atom-1 atom-2\" d=\"M 418.4,758.8 L 426.9,768.7\" style=\"fill:none;fill-rule:evenodd;stroke:#000000;stroke-width:2.0px;stroke-linecap:butt;stroke-linejoin:miter;stroke-opacity:1\"/>\n<path class=\"bond-2 atom-2 atom-3\" d=\"M 426.9,768.7 L 423.6,782.4\" style=\"fill:none;fill-rule:evenodd;stroke:#000000;stroke-width:2.0px;stroke-linecap:butt;stroke-linejoin:miter;stroke-opacity:1\"/>\n<path class=\"bond-2 atom-2 atom-3\" d=\"M 423.6,782.4 L 420.4,796.1\" style=\"fill:none;fill-rule:evenodd;stroke:#0000FF;stroke-width:2.0px;stroke-linecap:butt;stroke-linejoin:miter;stroke-opacity:1\"/>\n<path class=\"bond-2 atom-2 atom-3\" d=\"M 431.0,773.6 L 428.2,785.4\" style=\"fill:none;fill-rule:evenodd;stroke:#000000;stroke-width:2.0px;stroke-linecap:butt;stroke-linejoin:miter;stroke-opacity:1\"/>\n<path class=\"bond-2 atom-2 atom-3\" d=\"M 428.2,785.4 L 425.4,797.3\" style=\"fill:none;fill-rule:evenodd;stroke:#0000FF;stroke-width:2.0px;stroke-linecap:butt;stroke-linejoin:miter;stroke-opacity:1\"/>\n<path class=\"bond-3 atom-3 atom-4\" d=\"M 423.8,805.1 L 433.9,811.2\" style=\"fill:none;fill-rule:evenodd;stroke:#0000FF;stroke-width:2.0px;stroke-linecap:butt;stroke-linejoin:miter;stroke-opacity:1\"/>\n<path class=\"bond-3 atom-3 atom-4\" d=\"M 433.9,811.2 L 444.0,817.4\" style=\"fill:none;fill-rule:evenodd;stroke:#CCCC00;stroke-width:2.0px;stroke-linecap:butt;stroke-linejoin:miter;stroke-opacity:1\"/>\n<path class=\"bond-4 atom-4 atom-5\" d=\"M 452.5,816.3 L 463.4,807.0\" style=\"fill:none;fill-rule:evenodd;stroke:#CCCC00;stroke-width:2.0px;stroke-linecap:butt;stroke-linejoin:miter;stroke-opacity:1\"/>\n<path class=\"bond-4 atom-4 atom-5\" d=\"M 463.4,807.0 L 474.3,797.7\" style=\"fill:none;fill-rule:evenodd;stroke:#000000;stroke-width:2.0px;stroke-linecap:butt;stroke-linejoin:miter;stroke-opacity:1\"/>\n<path class=\"bond-5 atom-5 atom-6\" d=\"M 474.3,797.7 L 508.3,802.1\" style=\"fill:none;fill-rule:evenodd;stroke:#000000;stroke-width:2.0px;stroke-linecap:butt;stroke-linejoin:miter;stroke-opacity:1\"/>\n<path class=\"bond-5 atom-5 atom-6\" d=\"M 477.9,792.9 L 506.0,796.6\" style=\"fill:none;fill-rule:evenodd;stroke:#000000;stroke-width:2.0px;stroke-linecap:butt;stroke-linejoin:miter;stroke-opacity:1\"/>\n<path class=\"bond-6 atom-6 atom-7\" d=\"M 508.3,802.1 L 529.1,774.8\" style=\"fill:none;fill-rule:evenodd;stroke:#000000;stroke-width:2.0px;stroke-linecap:butt;stroke-linejoin:miter;stroke-opacity:1\"/>\n<path class=\"bond-7 atom-7 atom-8\" d=\"M 529.1,774.8 L 515.9,743.2\" style=\"fill:none;fill-rule:evenodd;stroke:#000000;stroke-width:2.0px;stroke-linecap:butt;stroke-linejoin:miter;stroke-opacity:1\"/>\n<path class=\"bond-7 atom-7 atom-8\" d=\"M 523.2,774.1 L 512.3,747.9\" style=\"fill:none;fill-rule:evenodd;stroke:#000000;stroke-width:2.0px;stroke-linecap:butt;stroke-linejoin:miter;stroke-opacity:1\"/>\n<path class=\"bond-8 atom-8 atom-9\" d=\"M 515.9,743.2 L 481.9,738.7\" style=\"fill:none;fill-rule:evenodd;stroke:#000000;stroke-width:2.0px;stroke-linecap:butt;stroke-linejoin:miter;stroke-opacity:1\"/>\n<path class=\"bond-9 atom-9 atom-10\" d=\"M 481.9,738.7 L 476.6,725.9\" style=\"fill:none;fill-rule:evenodd;stroke:#000000;stroke-width:2.0px;stroke-linecap:butt;stroke-linejoin:miter;stroke-opacity:1\"/>\n<path class=\"bond-9 atom-9 atom-10\" d=\"M 476.6,725.9 L 471.2,713.1\" style=\"fill:none;fill-rule:evenodd;stroke:#0000FF;stroke-width:2.0px;stroke-linecap:butt;stroke-linejoin:miter;stroke-opacity:1\"/>\n<path class=\"bond-10 atom-10 atom-11\" d=\"M 464.3,703.9 L 452.5,702.4\" style=\"fill:none;fill-rule:evenodd;stroke:#0000FF;stroke-width:2.0px;stroke-linecap:butt;stroke-linejoin:miter;stroke-opacity:1\"/>\n<path class=\"bond-10 atom-10 atom-11\" d=\"M 452.5,702.4 L 440.7,700.8\" style=\"fill:none;fill-rule:evenodd;stroke:#FF0000;stroke-width:2.0px;stroke-linecap:butt;stroke-linejoin:miter;stroke-opacity:1\"/>\n<path class=\"bond-10 atom-10 atom-11\" d=\"M 463.6,709.0 L 451.8,707.5\" style=\"fill:none;fill-rule:evenodd;stroke:#0000FF;stroke-width:2.0px;stroke-linecap:butt;stroke-linejoin:miter;stroke-opacity:1\"/>\n<path class=\"bond-10 atom-10 atom-11\" d=\"M 451.8,707.5 L 440.0,705.9\" style=\"fill:none;fill-rule:evenodd;stroke:#FF0000;stroke-width:2.0px;stroke-linecap:butt;stroke-linejoin:miter;stroke-opacity:1\"/>\n<path class=\"bond-11 atom-10 atom-12\" d=\"M 473.4,701.0 L 479.1,693.5\" style=\"fill:none;fill-rule:evenodd;stroke:#0000FF;stroke-width:2.0px;stroke-linecap:butt;stroke-linejoin:miter;stroke-opacity:1\"/>\n<path class=\"bond-11 atom-10 atom-12\" d=\"M 479.1,693.5 L 484.8,686.0\" style=\"fill:none;fill-rule:evenodd;stroke:#FF0000;stroke-width:2.0px;stroke-linecap:butt;stroke-linejoin:miter;stroke-opacity:1\"/>\n<path class=\"bond-12 atom-9 atom-13\" d=\"M 481.9,738.7 L 461.1,766.0\" style=\"fill:none;fill-rule:evenodd;stroke:#000000;stroke-width:2.0px;stroke-linecap:butt;stroke-linejoin:miter;stroke-opacity:1\"/>\n<path class=\"bond-12 atom-9 atom-13\" d=\"M 484.2,744.2 L 467.0,766.8\" style=\"fill:none;fill-rule:evenodd;stroke:#000000;stroke-width:2.0px;stroke-linecap:butt;stroke-linejoin:miter;stroke-opacity:1\"/>\n<path class=\"bond-13 atom-13 atom-2\" d=\"M 461.1,766.0 L 426.9,768.7\" style=\"fill:none;fill-rule:evenodd;stroke:#000000;stroke-width:2.0px;stroke-linecap:butt;stroke-linejoin:miter;stroke-opacity:1\"/>\n<path class=\"bond-14 atom-13 atom-5\" d=\"M 461.1,766.0 L 474.3,797.7\" style=\"fill:none;fill-rule:evenodd;stroke:#000000;stroke-width:2.0px;stroke-linecap:butt;stroke-linejoin:miter;stroke-opacity:1\"/>\n<path d=\"M 506.6,801.9 L 508.3,802.1 L 509.3,800.7\" style=\"fill:none;stroke:#000000;stroke-width:2.0px;stroke-linecap:butt;stroke-linejoin:miter;stroke-opacity:1;\"/>\n<path d=\"M 528.1,776.2 L 529.1,774.8 L 528.5,773.2\" style=\"fill:none;stroke:#000000;stroke-width:2.0px;stroke-linecap:butt;stroke-linejoin:miter;stroke-opacity:1;\"/>\n<path d=\"M 516.6,744.7 L 515.9,743.2 L 514.2,742.9\" style=\"fill:none;stroke:#000000;stroke-width:2.0px;stroke-linecap:butt;stroke-linejoin:miter;stroke-opacity:1;\"/>\n<path class=\"atom-1\" d=\"M 400.1 742.7 Q 400.1 740.4, 401.3 739.1 Q 402.4 737.8, 404.6 737.8 Q 406.7 737.8, 407.9 739.1 Q 409.0 740.4, 409.0 742.7 Q 409.0 745.1, 407.9 746.4 Q 406.7 747.8, 404.6 747.8 Q 402.4 747.8, 401.3 746.4 Q 400.1 745.1, 400.1 742.7 M 404.6 746.7 Q 406.1 746.7, 406.9 745.7 Q 407.7 744.7, 407.7 742.7 Q 407.7 740.8, 406.9 739.9 Q 406.1 738.9, 404.6 738.9 Q 403.1 738.9, 402.3 739.9 Q 401.5 740.8, 401.5 742.7 Q 401.5 744.7, 402.3 745.7 Q 403.1 746.7, 404.6 746.7 \" fill=\"#FF0000\"/>\n<path class=\"atom-3\" d=\"M 416.8 797.3 L 420.0 802.4 Q 420.3 802.9, 420.8 803.8 Q 421.3 804.7, 421.4 804.8 L 421.4 797.3 L 422.6 797.3 L 422.6 807.0 L 421.3 807.0 L 417.9 801.3 Q 417.5 800.7, 417.1 799.9 Q 416.7 799.2, 416.5 798.9 L 416.5 807.0 L 415.3 807.0 L 415.3 797.3 L 416.8 797.3 \" fill=\"#0000FF\"/>\n<path class=\"atom-4\" d=\"M 445.5 823.3 Q 445.6 823.4, 446.1 823.5 Q 446.5 823.7, 447.0 823.9 Q 447.5 824.0, 448.0 824.0 Q 448.9 824.0, 449.5 823.5 Q 450.0 823.1, 450.0 822.3 Q 450.0 821.8, 449.7 821.4 Q 449.5 821.1, 449.1 820.9 Q 448.6 820.8, 448.0 820.5 Q 447.1 820.3, 446.6 820.0 Q 446.1 819.8, 445.7 819.3 Q 445.3 818.7, 445.3 817.9 Q 445.3 816.6, 446.2 815.9 Q 447.0 815.1, 448.6 815.1 Q 449.8 815.1, 451.0 815.7 L 450.7 816.7 Q 449.6 816.3, 448.7 816.3 Q 447.7 816.3, 447.2 816.6 Q 446.7 817.0, 446.7 817.7 Q 446.7 818.2, 447.0 818.5 Q 447.2 818.9, 447.6 819.0 Q 448.0 819.2, 448.7 819.4 Q 449.6 819.7, 450.1 820.0 Q 450.6 820.2, 451.0 820.8 Q 451.4 821.4, 451.4 822.3 Q 451.4 823.6, 450.5 824.4 Q 449.6 825.1, 448.1 825.1 Q 447.2 825.1, 446.5 824.9 Q 445.9 824.7, 445.1 824.4 L 445.5 823.3 \" fill=\"#CCCC00\"/>\n<path class=\"atom-10\" d=\"M 466.6 702.2 L 469.8 707.4 Q 470.1 707.9, 470.6 708.8 Q 471.1 709.7, 471.1 709.8 L 471.1 702.2 L 472.4 702.2 L 472.4 711.9 L 471.1 711.9 L 467.7 706.3 Q 467.3 705.6, 466.9 704.9 Q 466.4 704.1, 466.3 703.9 L 466.3 711.9 L 465.1 711.9 L 465.1 702.2 L 466.6 702.2 \" fill=\"#0000FF\"/>\n<path class=\"atom-10\" d=\"M 474.3 704.0 L 476.0 704.0 L 476.0 702.2 L 476.7 702.2 L 476.7 704.0 L 478.5 704.0 L 478.5 704.6 L 476.7 704.6 L 476.7 706.4 L 476.0 706.4 L 476.0 704.6 L 474.3 704.6 L 474.3 704.0 \" fill=\"#0000FF\"/>\n<path class=\"atom-11\" d=\"M 430.3 702.7 Q 430.3 700.4, 431.4 699.1 Q 432.6 697.8, 434.7 697.8 Q 436.9 697.8, 438.0 699.1 Q 439.2 700.4, 439.2 702.7 Q 439.2 705.0, 438.0 706.4 Q 436.9 707.7, 434.7 707.7 Q 432.6 707.7, 431.4 706.4 Q 430.3 705.1, 430.3 702.7 M 434.7 706.6 Q 436.2 706.6, 437.0 705.6 Q 437.8 704.6, 437.8 702.7 Q 437.8 700.8, 437.0 699.8 Q 436.2 698.8, 434.7 698.8 Q 433.2 698.8, 432.4 699.8 Q 431.6 700.8, 431.6 702.7 Q 431.6 704.7, 432.4 705.6 Q 433.2 706.6, 434.7 706.6 \" fill=\"#FF0000\"/>\n<path class=\"atom-12\" d=\"M 485.1 679.9 Q 485.1 677.5, 486.3 676.2 Q 487.4 674.9, 489.6 674.9 Q 491.7 674.9, 492.9 676.2 Q 494.0 677.5, 494.0 679.9 Q 494.0 682.2, 492.9 683.6 Q 491.7 684.9, 489.6 684.9 Q 487.4 684.9, 486.3 683.6 Q 485.1 682.2, 485.1 679.9 M 489.6 683.8 Q 491.1 683.8, 491.9 682.8 Q 492.7 681.8, 492.7 679.9 Q 492.7 677.9, 491.9 677.0 Q 491.1 676.0, 489.6 676.0 Q 488.1 676.0, 487.3 677.0 Q 486.5 677.9, 486.5 679.9 Q 486.5 681.8, 487.3 682.8 Q 488.1 683.8, 489.6 683.8 \" fill=\"#FF0000\"/>\n<path class=\"atom-12\" d=\"M 495.4 676.5 L 498.7 676.5 L 498.7 677.2 L 495.4 677.2 L 495.4 676.5 \" fill=\"#FF0000\"/>\n</svg>"
     },
     "execution_count": 3,
     "metadata": {},
     "output_type": "execute_result"
    }
   ],
   "execution_count": 3
  },
  {
   "metadata": {},
   "cell_type": "markdown",
   "source": "# Molfeat",
   "id": "b7e103b052f9c65f"
  },
  {
   "metadata": {
    "ExecuteTime": {
     "end_time": "2024-09-12T13:03:48.840435Z",
     "start_time": "2024-09-12T13:03:47.541103Z"
    }
   },
   "cell_type": "code",
   "source": "from molfeat.trans import FPVecTransformer",
   "id": "4a3e4b59d18006f3",
   "outputs": [],
   "execution_count": 4
  },
  {
   "metadata": {
    "ExecuteTime": {
     "end_time": "2024-09-12T13:04:12.312767Z",
     "start_time": "2024-09-12T13:04:11.394886Z"
    }
   },
   "cell_type": "code",
   "source": [
    "# fpvec transformers\n",
    "tr = FPVecTransformer('mordred', length=32, n_jobs=1)\n",
    "res = tr(df.smi)\n",
    "print(res.shape)\n",
    "print(res)"
   ],
   "id": "be2b088d46255162",
   "outputs": [
    {
     "name": "stdout",
     "output_type": "stream",
     "text": [
      "(10, 1613)\n",
      "[[ 15.774861   13.370546    0.        ... 152.          6.5416665\n",
      "    3.7986112]\n",
      " [  5.8756337   6.339087    0.        ...  34.          4.9722223\n",
      "    2.3333333]\n",
      " [ 10.077834    8.656208    0.        ...  75.          4.1944447\n",
      "    2.8611112]\n",
      " ...\n",
      " [  7.7781744   7.210288    0.        ...  52.          3.9722223\n",
      "    2.75     ]\n",
      " [ 20.727922   16.082634    0.        ... 204.          4.3333335\n",
      "    4.8333335]\n",
      " [ 10.663621   10.08338     0.        ...  86.          5.0555553\n",
      "    3.1944444]]\n"
     ]
    }
   ],
   "execution_count": 8
  },
  {
   "metadata": {
    "ExecuteTime": {
     "end_time": "2024-09-12T13:02:34.788676Z",
     "start_time": "2024-09-12T12:40:59.961767Z"
    }
   },
   "cell_type": "code",
   "source": [
    "# featconcat\n",
    "\n",
    "from molfeat.trans import FeatConcat\n",
    "\n",
    "trans = FeatConcat([\n",
    "    FPVecTransformer('ecfp:4'),\n",
    "    FPVecTransformer('mordred', n_jobs=-1),\n",
    "    FPVecTransformer('erg'),\n",
    "])\n",
    "\n",
    "trans(df.mol).shape\n"
   ],
   "id": "3967871fb883ca3b",
   "outputs": [
    {
     "name": "stderr",
     "output_type": "stream",
     "text": [
      "huggingface/tokenizers: The current process just got forked, after parallelism has already been used. Disabling parallelism to avoid deadlocks...\n",
      "To disable this warning, you can either:\n",
      "\t- Avoid using `tokenizers` before the fork if possible\n",
      "\t- Explicitly set the environment variable TOKENIZERS_PARALLELISM=(true | false)\n",
      "huggingface/tokenizers: The current process just got forked, after parallelism has already been used. Disabling parallelism to avoid deadlocks...\n",
      "To disable this warning, you can either:\n",
      "\t- Avoid using `tokenizers` before the fork if possible\n",
      "\t- Explicitly set the environment variable TOKENIZERS_PARALLELISM=(true | false)\n",
      "huggingface/tokenizers: The current process just got forked, after parallelism has already been used. Disabling parallelism to avoid deadlocks...\n",
      "To disable this warning, you can either:\n",
      "\t- Avoid using `tokenizers` before the fork if possible\n",
      "\t- Explicitly set the environment variable TOKENIZERS_PARALLELISM=(true | false)\n",
      "huggingface/tokenizers: The current process just got forked, after parallelism has already been used. Disabling parallelism to avoid deadlocks...\n",
      "To disable this warning, you can either:\n",
      "\t- Avoid using `tokenizers` before the fork if possible\n",
      "\t- Explicitly set the environment variable TOKENIZERS_PARALLELISM=(true | false)\n"
     ]
    },
    {
     "data": {
      "text/plain": [
       "(10, 3928)"
      ]
     },
     "execution_count": 76,
     "metadata": {},
     "output_type": "execute_result"
    }
   ],
   "execution_count": 76
  },
  {
   "metadata": {
    "ExecuteTime": {
     "end_time": "2024-09-12T13:02:34.788676Z",
     "start_time": "2024-09-12T12:41:27.627652Z"
    }
   },
   "cell_type": "code",
   "source": [
    "# single calculators\n",
    "from molfeat.calc import MordredDescriptors, RDKitDescriptors2D\n",
    "\n",
    "mord = MordredDescriptors()\n",
    "\n",
    "mord(df.mol[0])"
   ],
   "id": "280ba19c88d4fdf8",
   "outputs": [
    {
     "data": {
      "text/plain": [
       "array([ 15.77486167,  13.37054663,   0.        , ..., 152.        ,\n",
       "         6.54166667,   3.79861111])"
      ]
     },
     "execution_count": 77,
     "metadata": {},
     "output_type": "execute_result"
    }
   ],
   "execution_count": 77
  },
  {
   "metadata": {
    "ExecuteTime": {
     "end_time": "2024-09-12T13:02:34.788676Z",
     "start_time": "2024-09-12T12:41:37.248365Z"
    }
   },
   "cell_type": "code",
   "source": [
    "calc = RDKitDescriptors2D()\n",
    "\n",
    "with dm.without_rdkit_log():\n",
    "    print(calc(df.mol[0]))"
   ],
   "id": "4f2ff35c4b08dfc5",
   "outputs": [
    {
     "name": "stdout",
     "output_type": "stream",
     "text": [
      "[ 1.14532873e+01  1.14532873e+01  3.58742678e-01 -8.27189744e-01\n",
      "  5.37391009e-01  3.15263158e+01  2.60245000e+02  2.48149000e+02\n",
      "  2.60068473e+02  9.80000000e+01  0.00000000e+00  3.35960371e-01\n",
      " -4.55854509e-01  4.55854509e-01  3.35960371e-01  1.15789474e+00\n",
      "  1.94736842e+00  2.63157895e+00  1.72887259e+01  9.85235653e+00\n",
      "  2.67418894e+00 -2.45567071e+00  2.58656325e+00 -2.60427000e+00\n",
      "  5.87658331e+00 -5.86688238e-01  2.49326668e+00  2.15537520e+00\n",
      "  7.77235365e+02  1.34138491e+01  1.07732923e+01  1.07732923e+01\n",
      "  8.94510721e+00  6.08356956e+00  6.08356956e+00  5.30796561e+00\n",
      "  5.30796561e+00  4.08384002e+00  4.08384002e+00  2.86341490e+00\n",
      "  2.86341490e+00 -1.85000000e+00  2.49326668e+00  1.10168916e+01\n",
      "  3.00017877e+00  1.10277899e+00  1.08162386e+02  9.15401389e+00\n",
      "  1.13325320e+01  5.60105081e+00  0.00000000e+00  5.78711115e+00\n",
      "  5.62558632e+00  0.00000000e+00  9.68210814e+00  4.88757095e+00\n",
      "  0.00000000e+00  0.00000000e+00  3.15436600e+01  2.39397800e+01\n",
      "  0.00000000e+00  1.89291558e+01  1.09692444e+01  0.00000000e+00\n",
      "  0.00000000e+00  0.00000000e+00  3.21593736e+01  0.00000000e+00\n",
      "  3.97461277e+01  0.00000000e+00  5.74951183e+00  1.03624493e+01\n",
      "  0.00000000e+00  5.74951183e+00  0.00000000e+00  5.78711115e+00\n",
      "  1.53761927e+01  6.92373720e+00  2.49743774e+01  2.74107893e+01\n",
      "  0.00000000e+00  1.09692444e+01  0.00000000e+00  5.79000000e+01\n",
      "  1.13881620e+01  4.79453718e+00  0.00000000e+00  5.62558632e+00\n",
      "  1.13325320e+01  1.65131272e+01  6.06636707e+00  1.21327341e+01\n",
      "  2.07712116e+01  0.00000000e+00  1.89291558e+01  1.10685249e+01\n",
      "  0.00000000e+00  2.18990641e+01  8.53356481e-01  1.20421131e+00\n",
      " -1.26311059e-01  4.98887850e+00  0.00000000e+00  5.61227576e+00\n",
      "  0.00000000e+00  3.57142857e-01  1.90000000e+01  0.00000000e+00\n",
      "  5.00000000e+00  0.00000000e+00  2.00000000e+00  2.00000000e+00\n",
      "  1.00000000e+00  1.00000000e+00  2.00000000e+00  5.00000000e+00\n",
      "  0.00000000e+00  5.00000000e+00  0.00000000e+00  0.00000000e+00\n",
      "  1.00000000e+00  1.00000000e+00  4.00000000e+00  2.38702000e+00\n",
      "  6.57760000e+01  0.00000000e+00  0.00000000e+00  0.00000000e+00\n",
      "  0.00000000e+00  0.00000000e+00  0.00000000e+00  0.00000000e+00\n",
      "  0.00000000e+00  0.00000000e+00  0.00000000e+00  0.00000000e+00\n",
      "  0.00000000e+00  0.00000000e+00  0.00000000e+00  0.00000000e+00\n",
      "  0.00000000e+00  0.00000000e+00  0.00000000e+00  0.00000000e+00\n",
      "  0.00000000e+00  0.00000000e+00  0.00000000e+00  0.00000000e+00\n",
      "  0.00000000e+00  0.00000000e+00  0.00000000e+00  0.00000000e+00\n",
      "  0.00000000e+00  0.00000000e+00  0.00000000e+00  1.00000000e+00\n",
      "  0.00000000e+00  0.00000000e+00  0.00000000e+00  1.00000000e+00\n",
      "  0.00000000e+00  5.00000000e+00  0.00000000e+00  0.00000000e+00\n",
      "  0.00000000e+00  0.00000000e+00  1.00000000e+00  0.00000000e+00\n",
      "  0.00000000e+00  0.00000000e+00  0.00000000e+00  0.00000000e+00\n",
      "  0.00000000e+00  0.00000000e+00  0.00000000e+00  0.00000000e+00\n",
      "  0.00000000e+00  0.00000000e+00  0.00000000e+00  0.00000000e+00\n",
      "  0.00000000e+00  0.00000000e+00  0.00000000e+00  0.00000000e+00\n",
      "  0.00000000e+00  0.00000000e+00  0.00000000e+00  0.00000000e+00\n",
      "  0.00000000e+00  0.00000000e+00  0.00000000e+00  0.00000000e+00\n",
      "  0.00000000e+00  0.00000000e+00  0.00000000e+00  0.00000000e+00\n",
      "  0.00000000e+00  0.00000000e+00  0.00000000e+00  0.00000000e+00\n",
      "  0.00000000e+00  0.00000000e+00  0.00000000e+00  0.00000000e+00\n",
      "  0.00000000e+00  0.00000000e+00  0.00000000e+00  0.00000000e+00\n",
      "  0.00000000e+00  0.00000000e+00  2.00000000e+00  2.00000000e+00\n",
      "  0.00000000e+00  0.00000000e+00  0.00000000e+00  2.00000000e+00]\n"
     ]
    }
   ],
   "execution_count": 78
  },
  {
   "metadata": {
    "ExecuteTime": {
     "end_time": "2024-09-12T13:02:34.804730300Z",
     "start_time": "2024-09-12T07:40:06.991794Z"
    }
   },
   "cell_type": "code",
   "source": [
    "ADD_3D_FEATS = True\n",
    "\n",
    "feats2D_params = [\n",
    "    # fps\n",
    "    {'kind': 'ecfp:4', 'length': 1024},    \n",
    "    {'kind': 'topological', 'length': 1024, 'n_jobs': -1},\n",
    "    {'kind': 'avalon', 'length': 1024, 'n_jobs': -1},\n",
    "    {'kind': 'layered', 'length': 1024, 'n_jobs': -1},\n",
    "    {'kind': 'secfp', 'length': 1024, 'n_jobs': -1},\n",
    "    {'kind': 'pattern', 'length': 1024, 'n_jobs': -1},\n",
    "    {'kind': 'pharm2D', 'length': 1024, 'n_jobs': -1},\n",
    "    \n",
    "    # fixed length fps\n",
    "    {'kind': 'erg', 'n_jobs': -1},\n",
    "    {'kind': 'maccs', 'n_jobs': -1},\n",
    "    \n",
    "    # fixed length descriptors - to normalize\n",
    "    {'kind': 'estate', 'n_jobs': -1},\n",
    "    {'kind': 'desc2D', 'n_jobs': -1},\n",
    "    {'kind': 'mordred', 'n_jobs': -1},\n",
    "    {'kind': 'cats2D', 'n_jobs': -1},\n",
    "    {'kind': 'scaffoldkeys', 'n_jobs': -1},\n",
    "    {'kind': 'skeys', 'n_jobs': -1},\n",
    "]\n",
    "\n",
    "feats3D_params = [\n",
    "    {'kind': 'pharm3D', 'length': 1024, 'n_jobs': -1},\n",
    "    {'kind': 'desc3D', 'n_jobs': -1},\n",
    "    {'kind': 'cats3D', 'n_jobs': -1},\n",
    "    {'kind': 'electroshape', 'n_jobs': -1},\n",
    "    {'kind': 'usr'},\n",
    "    {'kind': 'usrcat'},\n",
    "]"
   ],
   "id": "b5bf6fcb0477a97e",
   "outputs": [],
   "execution_count": 11
  },
  {
   "metadata": {},
   "cell_type": "code",
   "outputs": [],
   "execution_count": null,
   "source": [
    "for params in feats2D_params:\n",
    "    tr = FPVecTransformer(**params)\n",
    "    "
   ],
   "id": "ec03d5fb075c128f"
  },
  {
   "metadata": {
    "ExecuteTime": {
     "end_time": "2024-09-12T13:02:34.804730300Z",
     "start_time": "2024-09-12T12:43:57.413745Z"
    }
   },
   "cell_type": "code",
   "source": "mols3d = df.mol.apply(dm.conformers.generate, n_confs=1, ignore_failure=True)\n",
   "id": "4ca2f32d84d3db2",
   "outputs": [],
   "execution_count": 81
  },
  {
   "metadata": {
    "ExecuteTime": {
     "end_time": "2024-09-12T13:02:34.804730300Z",
     "start_time": "2024-09-12T12:44:06.791997Z"
    }
   },
   "cell_type": "code",
   "source": "mols3d",
   "id": "7af019dc87bdd527",
   "outputs": [
    {
     "data": {
      "text/plain": [
       "id\n",
       "0                                                None\n",
       "1    <rdkit.Chem.rdchem.Mol object at 0x7f9b03d85b60>\n",
       "2    <rdkit.Chem.rdchem.Mol object at 0x7f9b03d85bd0>\n",
       "3    <rdkit.Chem.rdchem.Mol object at 0x7f9b03d85c40>\n",
       "4    <rdkit.Chem.rdchem.Mol object at 0x7f9b03d85cb0>\n",
       "5    <rdkit.Chem.rdchem.Mol object at 0x7f9b03d85d20>\n",
       "6    <rdkit.Chem.rdchem.Mol object at 0x7f9b03d85e00>\n",
       "7    <rdkit.Chem.rdchem.Mol object at 0x7f9b03d85d90>\n",
       "8    <rdkit.Chem.rdchem.Mol object at 0x7f9b03d85e70>\n",
       "9    <rdkit.Chem.rdchem.Mol object at 0x7f9b03d85f50>\n",
       "Name: mol, dtype: object"
      ]
     },
     "execution_count": 82,
     "metadata": {},
     "output_type": "execute_result"
    }
   ],
   "execution_count": 82
  },
  {
   "metadata": {},
   "cell_type": "markdown",
   "source": "# HuggingFace Models",
   "id": "65f8b21a8569b04e"
  },
  {
   "metadata": {
    "ExecuteTime": {
     "end_time": "2024-09-12T13:02:34.804730300Z",
     "start_time": "2024-09-12T07:44:55.853471Z"
    }
   },
   "cell_type": "code",
   "source": [
    "from molfeat.store.modelstore import ModelStore\n",
    "store = ModelStore()"
   ],
   "id": "6248223ab9028eec",
   "outputs": [],
   "execution_count": 36
  },
  {
   "metadata": {
    "ExecuteTime": {
     "end_time": "2024-09-12T13:02:34.804730300Z",
     "start_time": "2024-09-12T07:45:11.848794Z"
    }
   },
   "cell_type": "code",
   "source": [
    "# list of huggingface models in store\n",
    "hf_models = [x.name for x in store.available_models if x.group == 'huggingface']\n",
    "print(hf_models)"
   ],
   "id": "cafd2a85052e1ec8",
   "outputs": [
    {
     "name": "stdout",
     "output_type": "stream",
     "text": [
      "['ChemBERTa-77M-MLM', 'ChemBERTa-77M-MTR', 'ChemGPT-1.2B', 'ChemGPT-19M', 'ChemGPT-4.7M', 'GPT2-Zinc480M-87M', 'MolT5', 'Roberta-Zinc480M-102M']\n"
     ]
    }
   ],
   "execution_count": 37
  },
  {
   "metadata": {
    "ExecuteTime": {
     "end_time": "2024-09-12T13:02:34.804730300Z",
     "start_time": "2024-09-12T07:45:17.932663Z"
    }
   },
   "cell_type": "code",
   "source": "[x.description for x in store.available_models if x.name == 'ChemBERTa-77M-MTR']",
   "id": "f0dea659d4030954",
   "outputs": [
    {
     "data": {
      "text/plain": [
       "['ChemBERTa is a pre-trained language model for molecules based on (Ro)BERT(a) trained on PubChem compounds. The MTR version was pretrained using mutitask regression objective, while the MLM version was pretrained using a masked language modeling objective']"
      ]
     },
     "execution_count": 38,
     "metadata": {},
     "output_type": "execute_result"
    }
   ],
   "execution_count": 38
  },
  {
   "metadata": {
    "ExecuteTime": {
     "end_time": "2024-09-12T13:02:34.804730300Z",
     "start_time": "2024-09-12T12:44:43.689853Z"
    }
   },
   "cell_type": "code",
   "source": [
    "from molfeat.trans.pretrained.hf_transformers import PretrainedHFTransformer\n",
    "\n",
    "trans = PretrainedHFTransformer('ChemBERTa-77M-MTR')\n",
    "\n",
    "res = trans(df.mol)\n",
    "\n",
    "print(res)"
   ],
   "id": "aa1db278947c5c3f",
   "outputs": [
    {
     "name": "stderr",
     "output_type": "stream",
     "text": [
      "Special tokens have been added in the vocabulary, make sure the associated word embeddings are fine-tuned or trained.\n"
     ]
    },
    {
     "name": "stdout",
     "output_type": "stream",
     "text": [
      "[[ 0.05715178  0.19459291 -0.03500636 ... -0.33157563 -0.63284564\n",
      "  -0.7430768 ]\n",
      " [-0.17824948  1.0112467  -0.2039687  ... -0.08684027 -0.22337312\n",
      "  -0.4990303 ]\n",
      " [-0.15956064  0.02837523 -0.0398798  ...  0.02919286 -0.948822\n",
      "  -0.94402754]\n",
      " ...\n",
      " [ 0.08753072  0.07458484 -0.01893615 ... -0.03555338 -0.5651862\n",
      "  -0.70098555]\n",
      " [ 0.01420718  0.07726502 -0.00392499 ... -0.11688431  0.07352167\n",
      "  -0.48962328]\n",
      " [-0.05352121  0.2050651  -0.05079111 ...  0.01412854 -0.6985798\n",
      "  -0.7950081 ]]\n"
     ]
    }
   ],
   "execution_count": 83
  },
  {
   "metadata": {
    "ExecuteTime": {
     "end_time": "2024-09-12T13:02:34.804730300Z",
     "start_time": "2024-09-12T10:54:16.656103Z"
    }
   },
   "cell_type": "code",
   "source": [
    "for name in hf_models:\n",
    "    print(name)\n",
    "    try:\n",
    "        trans = PretrainedHFTransformer(name, preload=True)\n",
    "        print(name, trans(['C1NCC1']).shape)\n",
    "    except Exception as e:\n",
    "        print(e)"
   ],
   "id": "66547e1dd0499b82",
   "outputs": [
    {
     "name": "stdout",
     "output_type": "stream",
     "text": [
      "ChemBERTa-77M-MLM\n"
     ]
    },
    {
     "name": "stderr",
     "output_type": "stream",
     "text": [
      "Special tokens have been added in the vocabulary, make sure the associated word embeddings are fine-tuned or trained.\n"
     ]
    },
    {
     "name": "stdout",
     "output_type": "stream",
     "text": [
      "ChemBERTa-77M-MLM (1, 384)\n",
      "ChemBERTa-77M-MTR\n"
     ]
    },
    {
     "name": "stderr",
     "output_type": "stream",
     "text": [
      "Special tokens have been added in the vocabulary, make sure the associated word embeddings are fine-tuned or trained.\n"
     ]
    },
    {
     "name": "stdout",
     "output_type": "stream",
     "text": [
      "ChemBERTa-77M-MTR (1, 384)\n",
      "ChemGPT-1.2B\n",
      "Can't retrieve model ChemGPT-1.2B from the store !\n",
      "ChemGPT-19M\n",
      "ChemGPT-19M (1, 256)\n",
      "ChemGPT-4.7M\n",
      "ChemGPT-4.7M (1, 128)\n",
      "GPT2-Zinc480M-87M\n",
      "GPT2-Zinc480M-87M (1, 768)\n",
      "MolT5\n",
      "MolT5 (1, 1024)\n",
      "Roberta-Zinc480M-102M\n",
      "Roberta-Zinc480M-102M (1, 768)\n"
     ]
    }
   ],
   "execution_count": 55
  }
 ],
 "metadata": {
  "kernelspec": {
   "display_name": "chem",
   "language": "python",
   "name": "chem"
  },
  "language_info": {
   "codemirror_mode": {
    "name": "ipython",
    "version": 2
   },
   "file_extension": ".py",
   "mimetype": "text/x-python",
   "name": "python",
   "nbconvert_exporter": "python",
   "pygments_lexer": "ipython2",
   "version": "2.7.6"
  }
 },
 "nbformat": 4,
 "nbformat_minor": 5
}
