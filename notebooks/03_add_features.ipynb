{
 "cells": [
  {
   "metadata": {
    "ExecuteTime": {
     "end_time": "2024-09-11T04:32:24.065082Z",
     "start_time": "2024-09-11T04:32:24.047972Z"
    }
   },
   "cell_type": "code",
   "source": [
    "%load_ext autoreload\n",
    "%autoreload 2\n",
    "\n",
    "import sys\n",
    "sys.path.append('..')"
   ],
   "id": "d5b29868638404e",
   "outputs": [],
   "execution_count": 1
  },
  {
   "metadata": {
    "ExecuteTime": {
     "end_time": "2024-09-11T04:32:28.731627Z",
     "start_time": "2024-09-11T04:32:24.078625Z"
    }
   },
   "cell_type": "code",
   "source": [
    "import multiprocessing\n",
    "\n",
    "import pandas as pd\n",
    "import datamol as dm\n",
    "import numpy as np\n",
    "import seaborn as sns\n",
    "\n",
    "from molfeat.calc import RDKitDescriptors2D, FPCalculator, MordredDescriptors\n",
    "from molfeat.trans import MoleculeTransformer\n",
    "from sklearn.preprocessing import OneHotEncoder\n",
    "\n",
    "import collections.abc as collections\n",
    "from molfeat.trans.concat import FeatConcat\n",
    "\n",
    "from sklearn.ensemble import HistGradientBoostingClassifier, RandomForestClassifier\n",
    "from sklearn.preprocessing import OneHotEncoder\n",
    "from sklearn.impute import SimpleImputer\n",
    "\n",
    "from src.config import mem\n",
    "from src.utils import embed3d, embed_auto3d, eval_model, OffsetScaler, mol2smi, smi2mol\n",
    "from src.descriptors import calc_dgl_feats, calc_hft_feats, calc_3d_feats, calc_2d_feats\n",
    "\n",
    "from rdkit import RDLogger, Chem\n",
    "RDLogger.DisableLog('rdApp.*')"
   ],
   "id": "554c847250ca530e",
   "outputs": [],
   "execution_count": 2
  },
  {
   "metadata": {
    "ExecuteTime": {
     "end_time": "2024-09-11T04:32:29.988285Z",
     "start_time": "2024-09-11T04:32:29.092920Z"
    }
   },
   "cell_type": "code",
   "source": [
    "train = dm.read_csv('../data/processed/train.csv', smiles_column='smi', index_col=0)\n",
    "test = dm.read_csv('../data/processed/test.csv', smiles_column='smi', index_col=0)"
   ],
   "id": "4072004335b48789",
   "outputs": [],
   "execution_count": 3
  },
  {
   "metadata": {
    "ExecuteTime": {
     "end_time": "2024-09-11T04:32:30.054609Z",
     "start_time": "2024-09-11T04:32:30.011825Z"
    }
   },
   "cell_type": "code",
   "source": "train.mol[0]",
   "id": "96fdacac6e63a302",
   "outputs": [
    {
     "data": {
      "text/plain": [
       "<rdkit.Chem.rdchem.Mol at 0x7fdfc518bae0>"
      ],
      "image/png": "[encoded data removed]"
     },
     "execution_count": 4,
     "metadata": {},
     "output_type": "execute_result"
    }
   ],
   "execution_count": 4
  },
  {
   "metadata": {
    "ExecuteTime": {
     "end_time": "2024-09-11T04:48:26.324634Z",
     "start_time": "2024-09-11T04:48:26.290165Z"
    }
   },
   "cell_type": "code",
   "source": [
    "from molfeat.trans.fp import FPVecTransformer\n",
    "\n",
    "from molfeat.trans.pretrained import PretrainedDGLTransformer\n",
    "from molfeat.trans.pretrained.hf_transformers import PretrainedHFTransformer\n",
    "\n",
    "ADD_3D_FEATS = True\n",
    "\n",
    "feats2D_params = [\n",
    "    # fps\n",
    "    {'kind': 'ecfp:4', 'length': 1024},\n",
    "    {'kind': 'maccs', 'n_jobs': -1},\n",
    "    {'kind': 'topological', 'length': 1024, 'n_jobs': -1},\n",
    "    {'kind': 'avalon', 'length': 1024, 'n_jobs': -1},\n",
    "    {'kind': 'erg', 'n_jobs': -1},\n",
    "    {'kind': 'layered', 'length': 1024, 'n_jobs': -1},\n",
    "    {'kind': 'secfp', 'length': 1024, 'n_jobs': -1},\n",
    "    {'kind': 'pattern', 'length': 1024},\n",
    "    {'kind': 'pharm2D', 'length': 1024, 'n_jobs': -1},\n",
    "    \n",
    "    # normalize\n",
    "    {'kind': 'estate', 'n_jobs': -1},\n",
    "    {'kind': 'desc2D', 'n_jobs': -1},\n",
    "    {'kind': 'mordred', 'n_jobs': -1},\n",
    "    {'kind': 'cats2D', 'n_jobs': -1},\n",
    "    {'kind': 'scaffoldkeys', 'n_jobs': -1},\n",
    "    {'kind': 'skeys', 'n_jobs': -1},\n",
    "]\n",
    "\n",
    "\n",
    "feats3D_params = [\n",
    "    {'kind': 'desc3D', 'n_jobs': -1},\n",
    "    {'kind': 'cats3D', 'n_jobs': -1},\n",
    "    {'kind': 'pharm3D', 'length': 1024, 'n_jobs': -1},\n",
    "    {'kind': 'electroshape', 'n_jobs': -1},\n",
    "    {'kind': 'usr'},\n",
    "    {'kind': 'usrcat'},\n",
    "]\n",
    "\n",
    "\n",
    "dgl_params = [\n",
    "    {'kind': 'gin_supervised_contextpred'},\n",
    "    {'kind': 'gin_supervised_infomax'},\n",
    "    {'kind': 'gin_supervised_edgepred'},\n",
    "    {'kind': 'gin_supervised_masking'},\n",
    "]\n",
    "\n",
    "hft_params = [\n",
    "    {'kind': 'MolT5', 'notation': 'smiles', 'random_seed': 42, 'device': 'cuda'},\n",
    "    {'kind': 'GPT2-Zinc480M-87M', 'notation': 'smiles', 'random_seed': 42, 'device': 'cuda'},\n",
    "    {'kind': 'Roberta-Zinc480M-102M', 'notation': 'smiles', 'random_seed': 42, 'device': 'cuda'},    \n",
    "]\n",
    "\n",
    "# featurizer = FeatConcat(transformers, dtype=np.float32)\n",
    "\n",
    "# calcucalte feats and cache them\n",
    "for params in feats2D_params:\n",
    "    print(params)\n",
    "    mem.cache(calc_2d_feats, ignore=['n_jobs'])(train.smi, **params)\n",
    "    mem.cache(calc_2d_feats, ignore=['n_jobs'])(test.smi, **params)\n",
    "\n",
    "for params in dgl_params:\n",
    "    print(params)\n",
    "    mem.cache(calc_dgl_feats)(train.smi, **params)\n",
    "    mem.cache(calc_dgl_feats)(test.smi, **params)\n",
    "\n",
    "if ADD_3D_FEATS:\n",
    "    print('3D shape')\n",
    "    mem.cache(embed3d)(train.smi)\n",
    "    mem.cache(embed3d)(test.smi)\n",
    "\n",
    "    for params in feats3D_params:\n",
    "        print(params)\n",
    "        mem.cache(calc_3d_feats)(train.smi, **params)\n",
    "        mem.cache(calc_3d_feats)(test.smi, **params)\n",
    "    \n",
    "# for params in hft_params:\n",
    "#     feats = mem.cache(get_hft_predictions, ignore=['n_jobs', 'dtype', 'device'])(train.smi, params, device='cpu', n_jobs=-1)\n",
    "    \n",
    "# for kind, params in hft_params.items():\n",
    "#     print('Initializing', end=' ')\n",
    "#     trans = PretrainedHFTransformer(kind, **params, n_jobs=-1)\n",
    "#     print(kind, end=' ')\n",
    "#     feats = mem.cache(trans.transform)(train.smi)\n",
    "#     print(feats.shape[1])"
   ],
   "id": "9331f1c5d17d9783",
   "outputs": [],
   "execution_count": 39
  },
  {
   "metadata": {
    "ExecuteTime": {
     "end_time": "2024-09-11T04:48:44.351295Z",
     "start_time": "2024-09-11T04:48:44.281812Z"
    }
   },
   "cell_type": "code",
   "source": "FPVecTransformer('morgan')",
   "id": "bee80f094283b2d3",
   "outputs": [
    {
     "ename": "ValueError",
     "evalue": "morgan is not a valid featurizer",
     "output_type": "error",
     "traceback": [
      "\u001B[0;31m---------------------------------------------------------------------------\u001B[0m",
      "\u001B[0;31mValueError\u001B[0m                                Traceback (most recent call last)",
      "Cell \u001B[0;32mIn[40], line 1\u001B[0m\n\u001B[0;32m----> 1\u001B[0m \u001B[43mFPVecTransformer\u001B[49m\u001B[43m(\u001B[49m\u001B[38;5;124;43m'\u001B[39;49m\u001B[38;5;124;43mmorgan\u001B[39;49m\u001B[38;5;124;43m'\u001B[39;49m\u001B[43m)\u001B[49m\n",
      "File \u001B[0;32m~/miniforge3/envs/chem/lib/python3.10/site-packages/molfeat/trans/fp.py:73\u001B[0m, in \u001B[0;36mFPVecTransformer.__init__\u001B[0;34m(self, kind, length, n_jobs, verbose, dtype, parallel_kwargs, **params)\u001B[0m\n\u001B[1;32m     71\u001B[0m params\u001B[38;5;241m.\u001B[39mpop(\u001B[38;5;124m\"\u001B[39m\u001B[38;5;124mfeaturizer\u001B[39m\u001B[38;5;124m\"\u001B[39m, \u001B[38;5;28;01mNone\u001B[39;00m)\n\u001B[1;32m     72\u001B[0m \u001B[38;5;28mself\u001B[39m\u001B[38;5;241m.\u001B[39m_feat_params \u001B[38;5;241m=\u001B[39m params\n\u001B[0;32m---> 73\u001B[0m featurizer \u001B[38;5;241m=\u001B[39m \u001B[38;5;28;43mself\u001B[39;49m\u001B[38;5;241;43m.\u001B[39;49m\u001B[43m_prepare_featurizer\u001B[49m\u001B[43m(\u001B[49m\u001B[43mkind\u001B[49m\u001B[43m,\u001B[49m\u001B[43m \u001B[49m\u001B[43mlength\u001B[49m\u001B[43m,\u001B[49m\u001B[43m \u001B[49m\u001B[38;5;241;43m*\u001B[39;49m\u001B[38;5;241;43m*\u001B[39;49m\u001B[43mparams\u001B[49m\u001B[43m)\u001B[49m\n\u001B[1;32m     74\u001B[0m \u001B[38;5;28msuper\u001B[39m()\u001B[38;5;241m.\u001B[39m\u001B[38;5;21m__init__\u001B[39m(\n\u001B[1;32m     75\u001B[0m     featurizer\u001B[38;5;241m=\u001B[39mfeaturizer,\n\u001B[1;32m     76\u001B[0m     n_jobs\u001B[38;5;241m=\u001B[39mn_jobs,\n\u001B[0;32m   (...)\u001B[0m\n\u001B[1;32m     80\u001B[0m     \u001B[38;5;241m*\u001B[39m\u001B[38;5;241m*\u001B[39mparams,\n\u001B[1;32m     81\u001B[0m )\n\u001B[1;32m     82\u001B[0m \u001B[38;5;28mself\u001B[39m\u001B[38;5;241m.\u001B[39mkind \u001B[38;5;241m=\u001B[39m kind\n",
      "File \u001B[0;32m~/miniforge3/envs/chem/lib/python3.10/site-packages/molfeat/trans/fp.py:130\u001B[0m, in \u001B[0;36mFPVecTransformer._prepare_featurizer\u001B[0;34m(cls, kind, length, **params)\u001B[0m\n\u001B[1;32m    128\u001B[0m     kind\u001B[38;5;241m.\u001B[39mreplace(\u001B[38;5;124m\"\u001B[39m\u001B[38;5;124m_circular\u001B[39m\u001B[38;5;124m\"\u001B[39m, \u001B[38;5;124m\"\u001B[39m\u001B[38;5;124m\"\u001B[39m)\u001B[38;5;241m.\u001B[39mreplace(\u001B[38;5;124m\"\u001B[39m\u001B[38;5;124m-circular\u001B[39m\u001B[38;5;124m\"\u001B[39m, \u001B[38;5;124m\"\u001B[39m\u001B[38;5;124m\"\u001B[39m)\u001B[38;5;241m.\u001B[39mreplace(\u001B[38;5;124m\"\u001B[39m\u001B[38;5;124mmorgan\u001B[39m\u001B[38;5;124m\"\u001B[39m, \u001B[38;5;124m\"\u001B[39m\u001B[38;5;124mecfp\u001B[39m\u001B[38;5;124m\"\u001B[39m)\n\u001B[1;32m    129\u001B[0m \u001B[38;5;28;01mif\u001B[39;00m kind \u001B[38;5;129;01mnot\u001B[39;00m \u001B[38;5;129;01min\u001B[39;00m \u001B[38;5;28mcls\u001B[39m\u001B[38;5;241m.\u001B[39mAVAILABLE_FPS:\n\u001B[0;32m--> 130\u001B[0m     \u001B[38;5;28;01mraise\u001B[39;00m \u001B[38;5;167;01mValueError\u001B[39;00m(\u001B[38;5;124mf\u001B[39m\u001B[38;5;124m\"\u001B[39m\u001B[38;5;132;01m{\u001B[39;00mkind\u001B[38;5;132;01m}\u001B[39;00m\u001B[38;5;124m is not a valid featurizer\u001B[39m\u001B[38;5;124m\"\u001B[39m)\n\u001B[1;32m    131\u001B[0m params[\u001B[38;5;124m\"\u001B[39m\u001B[38;5;124mlength\u001B[39m\u001B[38;5;124m\"\u001B[39m] \u001B[38;5;241m=\u001B[39m length\n\u001B[1;32m    133\u001B[0m \u001B[38;5;28;01mreturn\u001B[39;00m get_calculator(kind, \u001B[38;5;241m*\u001B[39m\u001B[38;5;241m*\u001B[39mparams)\n",
      "\u001B[0;31mValueError\u001B[0m: morgan is not a valid featurizer"
     ]
    }
   ],
   "execution_count": 40
  },
  {
   "metadata": {
    "ExecuteTime": {
     "end_time": "2024-09-11T04:46:33.821481Z",
     "start_time": "2024-09-11T04:46:31.834204Z"
    }
   },
   "cell_type": "code",
   "source": [
    "tr = FPVecTransformer('desc2D', n_jobs=-1)\n",
    "res = np.stack(tr.transform(test.smi)).shape\n",
    "np.isnan(res).sum()"
   ],
   "id": "3ab7c46af92c9144",
   "outputs": [
    {
     "name": "stderr",
     "output_type": "stream",
     "text": [
      "/home/ergot/miniforge3/envs/chem/lib/python3.10/site-packages/molfeat/calc/descriptors.py:45: RuntimeWarning: All-NaN slice encountered\n",
      "  min_charge, max_charge = np.nanmin(atomic_charges), np.nanmax(atomic_charges)\n"
     ]
    },
    {
     "data": {
      "text/plain": [
       "0"
      ]
     },
     "execution_count": 37,
     "metadata": {},
     "output_type": "execute_result"
    }
   ],
   "execution_count": 37
  },
  {
   "metadata": {
    "ExecuteTime": {
     "end_time": "2024-09-11T04:46:38.616772Z",
     "start_time": "2024-09-11T04:46:34.985609Z"
    }
   },
   "cell_type": "code",
   "source": [
    "tr = FPVecTransformer('desc2D', n_jobs=-1)\n",
    "np.stack(tr.transform(test.smi)).shape\n",
    "res = np.stack(tr.transform(test.smi)).shape\n",
    "np.isnan(res).sum()"
   ],
   "id": "2bc3274f5e935c1c",
   "outputs": [
    {
     "name": "stderr",
     "output_type": "stream",
     "text": [
      "/home/ergot/miniforge3/envs/chem/lib/python3.10/site-packages/molfeat/calc/descriptors.py:45: RuntimeWarning: All-NaN slice encountered\n",
      "  min_charge, max_charge = np.nanmin(atomic_charges), np.nanmax(atomic_charges)\n"
     ]
    },
    {
     "data": {
      "text/plain": [
       "0"
      ]
     },
     "execution_count": 38,
     "metadata": {},
     "output_type": "execute_result"
    }
   ],
   "execution_count": 38
  },
  {
   "metadata": {
    "ExecuteTime": {
     "end_time": "2024-09-11T04:41:43.712533Z",
     "start_time": "2024-09-11T04:41:43.144886Z"
    }
   },
   "cell_type": "code",
   "source": [
    "for params in feats3D_params:\n",
    "    tr = FPVecTransformer(params['kind'])\n",
    "    print(tr.kind, len(tr))\n",
    "    mols = mem.cache(embed3d)(test.smi)\n",
    "    np.stack(tr.transform(mols[:10])).shape"
   ],
   "id": "28922dd509558c55",
   "outputs": [
    {
     "name": "stdout",
     "output_type": "stream",
     "text": [
      "desc3D 639\n",
      "cats3D 126\n",
      "pharm3D 2000\n",
      "electroshape 15\n",
      "usr 12\n",
      "usrcat 60\n"
     ]
    }
   ],
   "execution_count": 18
  },
  {
   "metadata": {},
   "cell_type": "code",
   "outputs": [],
   "execution_count": null,
   "source": "FPVecTransformer('pharm3D')",
   "id": "f0975f93bc5c13fe"
  },
  {
   "metadata": {},
   "cell_type": "code",
   "outputs": [],
   "execution_count": null,
   "source": "",
   "id": "1fcae70fee724322"
  },
  {
   "metadata": {
    "ExecuteTime": {
     "end_time": "2024-09-11T04:38:49.045693Z",
     "start_time": "2024-09-11T04:38:49.012757Z"
    }
   },
   "cell_type": "code",
   "source": [
    "for params in feats3D_params:\n",
    "    trans = FPVecTransformer(**params)\n",
    "    print(trans.kind, len(trans))\n",
    "    \n",
    "# trans = FPVecTransformer('erg')\n",
    "# len(trans)"
   ],
   "id": "abb759346b2c5643",
   "outputs": [
    {
     "name": "stdout",
     "output_type": "stream",
     "text": [
      "desc3D 639\n",
      "cats3D 126\n",
      "pharm3D 1024\n",
      "electroshape 15\n",
      "usr 12\n",
      "usrcat 60\n"
     ]
    }
   ],
   "execution_count": 12
  },
  {
   "metadata": {},
   "cell_type": "code",
   "source": [
    "mem.cache(embed3d)(train.smi).isna().any(), \\\n",
    "mem.cache(embed3d)(test.smi).isna().any()"
   ],
   "id": "92bbf43ba7e4c7eb",
   "outputs": [],
   "execution_count": null
  },
  {
   "metadata": {
    "ExecuteTime": {
     "end_time": "2024-09-10T15:24:40.588752Z",
     "start_time": "2024-09-10T15:24:15.967513Z"
    }
   },
   "cell_type": "code",
   "source": [
    "from time import time\n",
    "mols3d = mem.cache(embed3d)(test.smi)\n",
    "\n",
    "for params in feats3D_params:\n",
    "    tic = time()\n",
    "    trans = FPVecTransformer(**params, n_jobs=1)\n",
    "    trans.transform(mols3d, ignore_errors=True)\n",
    "    toc = time()\n",
    "    print(f\"single core {params['kind']} elapsed: {toc - tic:.1f}s\")\n",
    "    \n",
    "    tic = time()\n",
    "    trans = FPVecTransformer(**params, n_jobs=-1)\n",
    "    trans.transform(mols3d, ignore_errors=True)\n",
    "    toc = time()\n",
    "    print(f\"multi core  {params['kind']} elapsed: {toc - tic:.1f}s\") "
   ],
   "id": "627c0e80633cedb4",
   "outputs": [
    {
     "name": "stdout",
     "output_type": "stream",
     "text": [
      "single core desc3D elapsed: 0.9s\n",
      "multi core  desc3D elapsed: 0.8s\n",
      "single core cats3D elapsed: 1.5s\n",
      "multi core  cats3D elapsed: 0.8s\n",
      "single core pharm3D elapsed: 14.7s\n",
      "multi core  pharm3D elapsed: 2.1s\n",
      "single core electroshape elapsed: 1.1s\n",
      "multi core  electroshape elapsed: 0.8s\n",
      "single core usr elapsed: 0.0s\n",
      "multi core  usr elapsed: 0.7s\n",
      "single core usrcat elapsed: 0.1s\n",
      "multi core  usrcat elapsed: 1.0s\n"
     ]
    }
   ],
   "execution_count": 97
  },
  {
   "metadata": {
    "ExecuteTime": {
     "end_time": "2024-09-10T15:25:37.862838Z",
     "start_time": "2024-09-10T15:25:03.995888Z"
    }
   },
   "cell_type": "code",
   "source": [
    "from time import time\n",
    "mols3d = mem.cache(embed3d)(train.smi)\n",
    "\n",
    "for params in feats3D_params:\n",
    "    if params['kind'] in ['pharm3D']:\n",
    "        continue\n",
    "    \n",
    "    tic = time()\n",
    "    trans = FPVecTransformer(**params, n_jobs=1)\n",
    "    trans.transform(mols3d, ignore_errors=True)\n",
    "    toc = time()\n",
    "    print(f\"single core {params['kind']} elapsed: {toc - tic:.1f}s\")\n",
    "    \n",
    "    tic = time()\n",
    "    trans = FPVecTransformer(**params, n_jobs=-1)\n",
    "    trans.transform(mols3d, ignore_errors=True)\n",
    "    toc = time()\n",
    "    print(f\"multi core  {params['kind']} elapsed: {toc - tic:.1f}s\") "
   ],
   "id": "40581d07f98fcc90",
   "outputs": [
    {
     "name": "stdout",
     "output_type": "stream",
     "text": [
      "single core desc3D elapsed: 4.7s\n",
      "multi core  desc3D elapsed: 2.1s\n",
      "single core cats3D elapsed: 9.2s\n",
      "multi core  cats3D elapsed: 2.5s\n",
      "single core electroshape elapsed: 7.0s\n"
     ]
    },
    {
     "name": "stderr",
     "output_type": "stream",
     "text": [
      "/home/ergot/miniforge3/envs/chem/lib/python3.10/site-packages/molfeat/calc/shape.py:207: RuntimeWarning: divide by zero encountered in scalar divide\n",
      "  vector_c = (norm(vector_a) / (2 * norm(cross_ab))) * cross_ab\n",
      "/home/ergot/miniforge3/envs/chem/lib/python3.10/site-packages/molfeat/calc/shape.py:207: RuntimeWarning: invalid value encountered in multiply\n",
      "  vector_c = (norm(vector_a) / (2 * norm(cross_ab))) * cross_ab\n",
      "/home/ergot/miniforge3/envs/chem/lib/python3.10/site-packages/molfeat/calc/shape.py:207: RuntimeWarning: divide by zero encountered in scalar divide\n",
      "  vector_c = (norm(vector_a) / (2 * norm(cross_ab))) * cross_ab\n",
      "/home/ergot/miniforge3/envs/chem/lib/python3.10/site-packages/molfeat/calc/shape.py:207: RuntimeWarning: invalid value encountered in multiply\n",
      "  vector_c = (norm(vector_a) / (2 * norm(cross_ab))) * cross_ab\n",
      "/home/ergot/miniforge3/envs/chem/lib/python3.10/site-packages/molfeat/calc/shape.py:207: RuntimeWarning: divide by zero encountered in scalar divide\n",
      "  vector_c = (norm(vector_a) / (2 * norm(cross_ab))) * cross_ab\n",
      "/home/ergot/miniforge3/envs/chem/lib/python3.10/site-packages/molfeat/calc/shape.py:207: RuntimeWarning: invalid value encountered in multiply\n",
      "  vector_c = (norm(vector_a) / (2 * norm(cross_ab))) * cross_ab\n",
      "/home/ergot/miniforge3/envs/chem/lib/python3.10/site-packages/molfeat/calc/shape.py:207: RuntimeWarning: divide by zero encountered in scalar divide\n",
      "  vector_c = (norm(vector_a) / (2 * norm(cross_ab))) * cross_ab\n",
      "/home/ergot/miniforge3/envs/chem/lib/python3.10/site-packages/molfeat/calc/shape.py:207: RuntimeWarning: invalid value encountered in multiply\n",
      "  vector_c = (norm(vector_a) / (2 * norm(cross_ab))) * cross_ab\n"
     ]
    },
    {
     "name": "stdout",
     "output_type": "stream",
     "text": [
      "multi core  electroshape elapsed: 2.5s\n",
      "single core usr elapsed: 0.2s\n",
      "multi core  usr elapsed: 2.0s\n",
      "single core usrcat elapsed: 0.9s\n",
      "multi core  usrcat elapsed: 2.4s\n"
     ]
    }
   ],
   "execution_count": 98
  },
  {
   "metadata": {
    "ExecuteTime": {
     "end_time": "2024-09-10T15:42:09.652171Z",
     "start_time": "2024-09-10T15:42:09.598630Z"
    }
   },
   "cell_type": "code",
   "source": [
    "for p in feats3D_params:    \n",
    "    mols3d = mem.cache(embed3d)(train.smi)\n",
    "    trans = FPVecTransformer(p['kind'])\n",
    "    res = trans.transform(mols3d, ignore_errors=True, n_jobs=-1)\n",
    "    if pd.Series(res).isna().any():\n",
    "        print(p['kind'])"
   ],
   "id": "887b70b3f981ade5",
   "outputs": [
    {
     "ename": "NameError",
     "evalue": "name 'feats3D_params' is not defined",
     "output_type": "error",
     "traceback": [
      "\u001B[0;31m---------------------------------------------------------------------------\u001B[0m",
      "\u001B[0;31mNameError\u001B[0m                                 Traceback (most recent call last)",
      "Cell \u001B[0;32mIn[115], line 1\u001B[0m\n\u001B[0;32m----> 1\u001B[0m \u001B[38;5;28;01mfor\u001B[39;00m p \u001B[38;5;129;01min\u001B[39;00m \u001B[43mfeats3D_params\u001B[49m:\n\u001B[1;32m      2\u001B[0m     mols3d \u001B[38;5;241m=\u001B[39m mem\u001B[38;5;241m.\u001B[39mcache(embed3d)(train\u001B[38;5;241m.\u001B[39msmi)\n\u001B[1;32m      3\u001B[0m     trans \u001B[38;5;241m=\u001B[39m FPVecTransformer(p[\u001B[38;5;124m'\u001B[39m\u001B[38;5;124mkind\u001B[39m\u001B[38;5;124m'\u001B[39m])\n",
      "\u001B[0;31mNameError\u001B[0m: name 'feats3D_params' is not defined"
     ]
    }
   ],
   "execution_count": 115
  },
  {
   "metadata": {
    "ExecuteTime": {
     "end_time": "2024-09-10T15:44:22.592084Z",
     "start_time": "2024-09-10T15:44:22.331696Z"
    }
   },
   "cell_type": "code",
   "source": [
    "mols3d = mem.cache(embed3d)(test.smi)\n",
    "trans = FPVecTransformer('usr', repalce_nan=True)\n",
    "res = pd.Series(trans.transform(mols3d, ignore_errors=True), index=mols3d.index)\n",
    "res.isna().any()"
   ],
   "id": "4c30192df8631a6b",
   "outputs": [
    {
     "data": {
      "text/plain": [
       "False"
      ]
     },
     "execution_count": 131,
     "metadata": {},
     "output_type": "execute_result"
    }
   ],
   "execution_count": 131
  },
  {
   "metadata": {
    "ExecuteTime": {
     "end_time": "2024-09-10T15:44:38.600778Z",
     "start_time": "2024-09-10T15:44:38.543647Z"
    }
   },
   "cell_type": "code",
   "source": "train.smi[res.isna()]",
   "id": "fec3f86bfc51d320",
   "outputs": [
    {
     "ename": "IndexingError",
     "evalue": "Unalignable boolean Series provided as indexer (index of the boolean Series and of the indexed object do not match).",
     "output_type": "error",
     "traceback": [
      "\u001B[0;31m---------------------------------------------------------------------------\u001B[0m",
      "\u001B[0;31mIndexingError\u001B[0m                             Traceback (most recent call last)",
      "Cell \u001B[0;32mIn[135], line 1\u001B[0m\n\u001B[0;32m----> 1\u001B[0m \u001B[43mtrain\u001B[49m\u001B[38;5;241;43m.\u001B[39;49m\u001B[43msmi\u001B[49m\u001B[43m[\u001B[49m\u001B[43mres\u001B[49m\u001B[38;5;241;43m.\u001B[39;49m\u001B[43misna\u001B[49m\u001B[43m(\u001B[49m\u001B[43m)\u001B[49m\u001B[43m]\u001B[49m\n",
      "File \u001B[0;32m~/miniforge3/envs/chem/lib/python3.10/site-packages/pandas/core/series.py:1068\u001B[0m, in \u001B[0;36mSeries.__getitem__\u001B[0;34m(self, key)\u001B[0m\n\u001B[1;32m   1065\u001B[0m     \u001B[38;5;28;01mreturn\u001B[39;00m \u001B[38;5;28mself\u001B[39m\u001B[38;5;241m.\u001B[39m_getitem_slice(key)\n\u001B[1;32m   1067\u001B[0m \u001B[38;5;28;01mif\u001B[39;00m com\u001B[38;5;241m.\u001B[39mis_bool_indexer(key):\n\u001B[0;32m-> 1068\u001B[0m     key \u001B[38;5;241m=\u001B[39m \u001B[43mcheck_bool_indexer\u001B[49m\u001B[43m(\u001B[49m\u001B[38;5;28;43mself\u001B[39;49m\u001B[38;5;241;43m.\u001B[39;49m\u001B[43mindex\u001B[49m\u001B[43m,\u001B[49m\u001B[43m \u001B[49m\u001B[43mkey\u001B[49m\u001B[43m)\u001B[49m\n\u001B[1;32m   1069\u001B[0m     key \u001B[38;5;241m=\u001B[39m np\u001B[38;5;241m.\u001B[39masarray(key, dtype\u001B[38;5;241m=\u001B[39m\u001B[38;5;28mbool\u001B[39m)\n\u001B[1;32m   1070\u001B[0m     \u001B[38;5;28;01mreturn\u001B[39;00m \u001B[38;5;28mself\u001B[39m\u001B[38;5;241m.\u001B[39m_get_rows_with_mask(key)\n",
      "File \u001B[0;32m~/miniforge3/envs/chem/lib/python3.10/site-packages/pandas/core/indexing.py:2575\u001B[0m, in \u001B[0;36mcheck_bool_indexer\u001B[0;34m(index, key)\u001B[0m\n\u001B[1;32m   2573\u001B[0m indexer \u001B[38;5;241m=\u001B[39m result\u001B[38;5;241m.\u001B[39mindex\u001B[38;5;241m.\u001B[39mget_indexer_for(index)\n\u001B[1;32m   2574\u001B[0m \u001B[38;5;28;01mif\u001B[39;00m \u001B[38;5;241m-\u001B[39m\u001B[38;5;241m1\u001B[39m \u001B[38;5;129;01min\u001B[39;00m indexer:\n\u001B[0;32m-> 2575\u001B[0m     \u001B[38;5;28;01mraise\u001B[39;00m IndexingError(\n\u001B[1;32m   2576\u001B[0m         \u001B[38;5;124m\"\u001B[39m\u001B[38;5;124mUnalignable boolean Series provided as \u001B[39m\u001B[38;5;124m\"\u001B[39m\n\u001B[1;32m   2577\u001B[0m         \u001B[38;5;124m\"\u001B[39m\u001B[38;5;124mindexer (index of the boolean Series and of \u001B[39m\u001B[38;5;124m\"\u001B[39m\n\u001B[1;32m   2578\u001B[0m         \u001B[38;5;124m\"\u001B[39m\u001B[38;5;124mthe indexed object do not match).\u001B[39m\u001B[38;5;124m\"\u001B[39m\n\u001B[1;32m   2579\u001B[0m     )\n\u001B[1;32m   2581\u001B[0m result \u001B[38;5;241m=\u001B[39m result\u001B[38;5;241m.\u001B[39mtake(indexer)\n\u001B[1;32m   2583\u001B[0m \u001B[38;5;66;03m# fall through for boolean\u001B[39;00m\n",
      "\u001B[0;31mIndexingError\u001B[0m: Unalignable boolean Series provided as indexer (index of the boolean Series and of the indexed object do not match)."
     ]
    }
   ],
   "execution_count": 135
  },
  {
   "metadata": {
    "ExecuteTime": {
     "end_time": "2024-09-10T15:32:36.886935Z",
     "start_time": "2024-09-10T15:32:17.154585Z"
    }
   },
   "cell_type": "code",
   "source": [
    "for p in feats3D_params:\n",
    "    mols3d = mem.cache(embed3d)(test.smi)\n",
    "    trans = FPVecTransformer(p['kind'])\n",
    "    res = trans.transform(mols3d, ignore_errors=True, n_jobs=-1)\n",
    "    if pd.Series(res).isna().any():\n",
    "        print(p['kind'])    "
   ],
   "id": "335ccdeea9b7b21",
   "outputs": [],
   "execution_count": 112
  },
  {
   "metadata": {
    "ExecuteTime": {
     "end_time": "2024-09-10T15:17:55.885621Z",
     "start_time": "2024-09-10T15:15:58.184405Z"
    }
   },
   "cell_type": "code",
   "source": [
    "for params in feats2D_params:\n",
    "    if params['kind'] in ['mordred', 'ecfp:4']:\n",
    "        continue\n",
    "    tic = time()\n",
    "    params['n_jobs'] = 1\n",
    "    trans = FPVecTransformer(**params)\n",
    "    trans.transform(test.smi, ignore_errors=True)\n",
    "    toc = time()\n",
    "    print(f\"single core {params['kind']} elapsed: {toc - tic:.1f}s\")\n",
    "    \n",
    "    tic = time()\n",
    "    params['n_jobs'] = -1\n",
    "    trans = FPVecTransformer(**params)\n",
    "    trans.transform(test.smi, ignore_errors=True)\n",
    "    toc = time()\n",
    "    print(f\"multi core  {params['kind']} elapsed: {toc - tic:.1f}s\")\n"
   ],
   "id": "15c5b39d41fda339",
   "outputs": [
    {
     "name": "stdout",
     "output_type": "stream",
     "text": [
      "single core ecfp:4 elapsed: 0.3s\n",
      "multi core  ecfp:4 elapsed: 23.5s\n",
      "single core maccs elapsed: 1.0s\n",
      "multi core  maccs elapsed: 0.7s\n",
      "single core topological elapsed: 0.3s\n",
      "multi core  topological elapsed: 0.7s\n",
      "single core avalon elapsed: 0.9s\n",
      "multi core  avalon elapsed: 0.7s\n",
      "single core erg elapsed: 0.4s\n",
      "multi core  erg elapsed: 0.7s\n",
      "single core layered elapsed: 1.7s\n",
      "multi core  layered elapsed: 0.7s\n",
      "single core secfp elapsed: 2.0s\n",
      "multi core  secfp elapsed: 0.7s\n",
      "single core pattern elapsed: 0.6s\n",
      "multi core  pattern elapsed: 0.6s\n",
      "single core pharm2D elapsed: 9.0s\n",
      "multi core  pharm2D elapsed: 2.0s\n",
      "single core estate elapsed: 0.8s\n",
      "multi core  estate elapsed: 0.6s\n",
      "single core desc2D elapsed: 18.6s\n"
     ]
    },
    {
     "name": "stderr",
     "output_type": "stream",
     "text": [
      "/home/ergot/miniforge3/envs/chem/lib/python3.10/site-packages/molfeat/calc/descriptors.py:45: RuntimeWarning: All-NaN slice encountered\n",
      "  min_charge, max_charge = np.nanmin(atomic_charges), np.nanmax(atomic_charges)\n"
     ]
    },
    {
     "name": "stdout",
     "output_type": "stream",
     "text": [
      "multi core  desc2D elapsed: 1.8s\n",
      "single core cats2D elapsed: 2.3s\n",
      "multi core  cats2D elapsed: 0.7s\n",
      "single core scaffoldkeys elapsed: 20.4s\n",
      "multi core  scaffoldkeys elapsed: 2.5s\n",
      "single core skeys elapsed: 20.9s\n",
      "multi core  skeys elapsed: 2.6s\n"
     ]
    }
   ],
   "execution_count": 94
  },
  {
   "metadata": {
    "ExecuteTime": {
     "end_time": "2024-09-10T15:23:19.855920Z",
     "start_time": "2024-09-10T15:22:10.303326Z"
    }
   },
   "cell_type": "code",
   "source": [
    "for params in feats2D_params:\n",
    "    if params['kind'] not in ['avalon', 'erg', 'macss', 'pattern', 'estate', 'layered', 'secfp', 'cats2D', 'ecfp:4']:\n",
    "        continue\n",
    "    tic = time()\n",
    "    params['n_jobs'] = 1\n",
    "    trans = FPVecTransformer(**params)\n",
    "    trans.transform(train.smi, ignore_errors=True)\n",
    "    toc = time()\n",
    "    print(f\"single core {params['kind']} elapsed: {toc - tic:.1f}s\")\n",
    "    \n",
    "    tic = time()\n",
    "    params['n_jobs'] = -1\n",
    "    trans = FPVecTransformer(**params)\n",
    "    trans.transform(train.smi, ignore_errors=True)\n",
    "    toc = time()\n",
    "    print(f\"multi core  {params['kind']} elapsed: {toc - tic:.1f}s\")\n"
   ],
   "id": "edcb40b078918853",
   "outputs": [
    {
     "name": "stdout",
     "output_type": "stream",
     "text": [
      "single core ecfp:4 elapsed: 1.6s\n",
      "multi core  ecfp:4 elapsed: 1.9s\n",
      "single core avalon elapsed: 5.0s\n",
      "multi core  avalon elapsed: 1.7s\n",
      "single core erg elapsed: 2.3s\n",
      "multi core  erg elapsed: 1.9s\n",
      "single core layered elapsed: 10.3s\n",
      "multi core  layered elapsed: 2.1s\n",
      "single core secfp elapsed: 12.0s\n",
      "multi core  secfp elapsed: 2.1s\n",
      "single core pattern elapsed: 3.4s\n",
      "multi core  pattern elapsed: 1.8s\n",
      "single core estate elapsed: 4.8s\n",
      "multi core  estate elapsed: 2.0s\n",
      "single core cats2D elapsed: 14.0s\n",
      "multi core  cats2D elapsed: 2.5s\n"
     ]
    }
   ],
   "execution_count": 96
  },
  {
   "metadata": {},
   "cell_type": "code",
   "source": "",
   "id": "607dffd6b7f9751f",
   "outputs": [],
   "execution_count": null
  },
  {
   "metadata": {},
   "cell_type": "code",
   "source": "",
   "id": "76c7ff96dad89d33",
   "outputs": [],
   "execution_count": null
  },
  {
   "metadata": {},
   "cell_type": "code",
   "source": "",
   "id": "ecce93496afe4c18",
   "outputs": [],
   "execution_count": null
  },
  {
   "metadata": {},
   "cell_type": "code",
   "source": "",
   "id": "aa99cd74409a7254",
   "outputs": [],
   "execution_count": null
  },
  {
   "metadata": {},
   "cell_type": "code",
   "source": [
    "def get_feats(smiles, params):\n",
    "    feats = mem.cache(calc_3d_feats, ignore=['n_jobs', 'dtype', 'use_gpu'])(smiles, **params)\n",
    "    print(params['kind'], len(feats) if isinstance(feats, list) else feats.shape, 30*'=')\n",
    "    print('Type', type(feats), type(feats[0]))\n",
    "    print('Nans', any([f is None for f in feats]))\n",
    "    \n",
    "\n",
    "for params in feats3D_params:    \n",
    "    get_feats(train.smi, params)\n",
    "    get_feats(test.smi, params)"
   ],
   "id": "903ab2dc72a22a71",
   "outputs": [],
   "execution_count": null
  },
  {
   "metadata": {},
   "cell_type": "code",
   "source": [
    "res = mem.cache(calc_3d_feats)(test.smi, **{'kind': 'desc3D', 'length': 639})\n",
    "print(res[0])"
   ],
   "id": "93eb85ed60b36571",
   "outputs": [],
   "execution_count": null
  },
  {
   "metadata": {},
   "cell_type": "code",
   "source": [
    "mols3d = mem.cache(embed3d, ignore=['use_gpu', 'n_jobs'])(test.smi)\n",
    "mols3d[0]"
   ],
   "id": "d69566b67fa4a9ce",
   "outputs": [],
   "execution_count": null
  },
  {
   "metadata": {},
   "cell_type": "code",
   "source": [
    "trans = FPVecTransformer(**{'kind': 'desc3D', 'length': 639})\n",
    "trans.transform([mols3d[0]], ignore_errors=True)"
   ],
   "id": "37a0db59b2a13495",
   "outputs": [],
   "execution_count": null
  },
  {
   "metadata": {},
   "cell_type": "code",
   "source": "calc_3d_feats()",
   "id": "e7e15503c7b18b01",
   "outputs": [],
   "execution_count": null
  },
  {
   "metadata": {},
   "cell_type": "code",
   "source": "",
   "id": "68797a038af98307",
   "outputs": [],
   "execution_count": null
  },
  {
   "metadata": {},
   "cell_type": "code",
   "source": "",
   "id": "9defeaffc58b39d9",
   "outputs": [],
   "execution_count": null
  },
  {
   "metadata": {},
   "cell_type": "code",
   "source": "",
   "id": "292ecb5bea10aa5e",
   "outputs": [],
   "execution_count": null
  },
  {
   "metadata": {},
   "cell_type": "code",
   "source": [
    "ohe = OneHotEncoder(sparse_output=False)\n",
    "\n",
    "def get_x_train(feats):\n",
    "    return np.concatenate([feats, ohe.fit_transform(train[[\"prop\"]])], axis=1)\n",
    "\n",
    "def get_x_test(feats):\n",
    "    return np.concatenate([feats, ohe.transform(train[[\"test\"]])], axis=1)"
   ],
   "id": "8a9c6c1631792e5a",
   "outputs": [],
   "execution_count": null
  },
  {
   "metadata": {},
   "cell_type": "code",
   "source": "",
   "id": "909d755690e71107",
   "outputs": [],
   "execution_count": null
  },
  {
   "metadata": {},
   "cell_type": "code",
   "source": "",
   "id": "24fda1148992d4e1",
   "outputs": [],
   "execution_count": null
  },
  {
   "metadata": {},
   "cell_type": "code",
   "source": "",
   "id": "e853f1cc5de8c8f3",
   "outputs": [],
   "execution_count": null
  },
  {
   "metadata": {},
   "cell_type": "code",
   "source": "",
   "id": "86fe956581ef1611",
   "outputs": [],
   "execution_count": null
  },
  {
   "metadata": {},
   "cell_type": "code",
   "source": "",
   "id": "c71a7a2815bf97a9",
   "outputs": [],
   "execution_count": null
  },
  {
   "metadata": {},
   "cell_type": "code",
   "source": "",
   "id": "be133f6b2be50417",
   "outputs": [],
   "execution_count": null
  },
  {
   "metadata": {},
   "cell_type": "code",
   "source": "",
   "id": "616626d4c96c836a",
   "outputs": [],
   "execution_count": null
  },
  {
   "metadata": {},
   "cell_type": "code",
   "source": "",
   "id": "12f15058c27436db",
   "outputs": [],
   "execution_count": null
  },
  {
   "metadata": {},
   "cell_type": "code",
   "source": "",
   "id": "aa3d11e39036dcc",
   "outputs": [],
   "execution_count": null
  },
  {
   "metadata": {},
   "cell_type": "markdown",
   "source": "# Correlation",
   "id": "dfc37a01f1ca6f9"
  },
  {
   "metadata": {},
   "cell_type": "code",
   "source": [
    "from src.utils import get_fps_offset, get_fps_cols\n",
    "from src.corr import non_corr_ids, get_corr, non_corr_features\n",
    "\n",
    "fps_offset = get_fps_offset(X_train.columns)\n",
    "descs_target = pd.concat([X_train.iloc[:, fps_offset:], y_train], axis=1)\n",
    "corr = mem.cache(get_corr)(descs_target)\n",
    "\n",
    "ids = non_corr_ids(corr, threshold=0.95)"
   ],
   "id": "5e95f3e5712702b9",
   "outputs": [],
   "execution_count": null
  },
  {
   "metadata": {},
   "cell_type": "code",
   "source": "X_train.shape",
   "id": "ca5039e5df9bd195",
   "outputs": [],
   "execution_count": null
  },
  {
   "metadata": {},
   "cell_type": "code",
   "source": "non_corr_features(X_train, y_train, threshold=0.95).shape",
   "id": "bdc7b1574d7543b",
   "outputs": [],
   "execution_count": null
  },
  {
   "metadata": {},
   "cell_type": "code",
   "source": [
    "print(len(corr.columns))\n",
    "sns.heatmap(corr.abs());"
   ],
   "id": "8088064163aab46b",
   "outputs": [],
   "execution_count": null
  },
  {
   "metadata": {},
   "cell_type": "code",
   "source": "sns.heatmap(corr.iloc[ids, ids].abs());",
   "id": "c355f6503e74c3f6",
   "outputs": [],
   "execution_count": null
  },
  {
   "metadata": {},
   "cell_type": "code",
   "source": [
    "fps_cols = get_fps_cols(X_train.columns)\n",
    "uncorr_cols = corr.columns[ids].tolist()\n",
    "\n",
    "X_train_uncorr = X_train[fps_cols + uncorr_cols].copy()\n",
    "X_train_uncorr.shape"
   ],
   "id": "a8b1661fce6ccb24",
   "outputs": [],
   "execution_count": null
  },
  {
   "metadata": {},
   "cell_type": "code",
   "source": [
    "X_test_uncorr = X_test[fps_cols + uncorr_cols].copy()\n",
    "X_test_uncorr.shape"
   ],
   "id": "2a883b0e12fde36c",
   "outputs": [],
   "execution_count": null
  },
  {
   "metadata": {},
   "cell_type": "code",
   "source": [
    "X_train_uncorr.to_pickle('../data/processed/X_train_uncorr.pkl.zip')\n",
    "X_test_uncorr.to_pickle('../data/processed/X_test_uncorr.pkl.zip')"
   ],
   "id": "7a52c5c1e17a0987",
   "outputs": [],
   "execution_count": null
  },
  {
   "metadata": {},
   "cell_type": "markdown",
   "source": "# full uncorrellated",
   "id": "7bfb4b4ac0f569d9"
  },
  {
   "metadata": {},
   "cell_type": "code",
   "source": [
    "descs_target = pd.concat([X_train, y_train], axis=1)\n",
    "corr = mem.cache(get_corr)(descs_target)\n",
    "\n",
    "ids = non_corr_ids(corr, threshold=0.95)\n",
    "uncorr_cols = corr.columns[ids].tolist()\n",
    "\n",
    "len(uncorr_cols), X_train_uncorr.shape[1]"
   ],
   "id": "d0108bdd9e49e32",
   "outputs": [],
   "execution_count": null
  },
  {
   "metadata": {},
   "cell_type": "code",
   "source": [
    "# X_train_uncorr_all = X_train[uncorr_cols].copy()\n",
    "# X_test_uncorr_all = X_test[uncorr_cols].copy()"
   ],
   "id": "29e8eee4abde1718",
   "outputs": [],
   "execution_count": null
  },
  {
   "metadata": {},
   "cell_type": "code",
   "source": "# X_train_uncorr_all.shape",
   "id": "b472a60f612042fc",
   "outputs": [],
   "execution_count": null
  },
  {
   "metadata": {},
   "cell_type": "code",
   "source": [
    "# X_train_uncorr_all.to_pickle('../data/processed/X_train_uncorr_all.pkl.zip')\n",
    "# X_test_uncorr_all.to_pickle('../data/processed/X_test_uncorr_all.pkl.zip')"
   ],
   "id": "b2bf1ee9f4086b9e",
   "outputs": [],
   "execution_count": null
  },
  {
   "metadata": {},
   "cell_type": "code",
   "source": "# len(fps_cols), len(get_fps_cols(X_train_uncorr_all.columns))",
   "id": "88e94a3e230d9cb9",
   "outputs": [],
   "execution_count": null
  }
 ],
 "metadata": {
  "kernelspec": {
   "display_name": "chem",
   "language": "python",
   "name": "chem"
  },
  "language_info": {
   "codemirror_mode": {
    "name": "ipython",
    "version": 2
   },
   "file_extension": ".py",
   "mimetype": "text/x-python",
   "name": "python",
   "nbconvert_exporter": "python",
   "pygments_lexer": "ipython2",
   "version": "2.7.6"
  }
 },
 "nbformat": 4,
 "nbformat_minor": 5
}
