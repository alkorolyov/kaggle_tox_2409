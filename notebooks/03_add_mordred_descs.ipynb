{
 "cells": [
  {
   "metadata": {
    "ExecuteTime": {
     "end_time": "2024-09-05T18:28:03.932068Z",
     "start_time": "2024-09-05T18:28:03.915057Z"
    }
   },
   "cell_type": "code",
   "source": [
    "%load_ext autoreload\n",
    "%autoreload 2"
   ],
   "id": "d5b29868638404e",
   "outputs": [
    {
     "name": "stdout",
     "output_type": "stream",
     "text": [
      "The autoreload extension is already loaded. To reload it, use:\n",
      "  %reload_ext autoreload\n"
     ]
    }
   ],
   "execution_count": 51
  },
  {
   "metadata": {
    "ExecuteTime": {
     "end_time": "2024-09-05T18:28:04.008365Z",
     "start_time": "2024-09-05T18:28:03.992140Z"
    }
   },
   "cell_type": "code",
   "source": [
    "import pandas as pd\n",
    "import numpy as np\n",
    "import seaborn as sns\n",
    "import mols2grid\n",
    "\n",
    "from rdkit import Chem\n",
    "\n",
    "from src.utils import smi2mol\n",
    "from src.config import mem\n",
    "from mordred import Calculator, descriptors"
   ],
   "id": "554c847250ca530e",
   "outputs": [],
   "execution_count": 52
  },
  {
   "metadata": {
    "ExecuteTime": {
     "end_time": "2024-09-05T18:28:04.264949Z",
     "start_time": "2024-09-05T18:28:04.064494Z"
    }
   },
   "cell_type": "code",
   "source": "train = pd.read_pickle('../data/processed/train_admet.pkl')",
   "id": "bade0256b3340e49",
   "outputs": [],
   "execution_count": 53
  },
  {
   "metadata": {
    "ExecuteTime": {
     "end_time": "2024-09-05T18:28:04.286715Z",
     "start_time": "2024-09-05T18:28:04.267017Z"
    }
   },
   "cell_type": "code",
   "source": [
    "mol = smi2mol('NC1COC1')\n",
    "mol"
   ],
   "id": "9a8bbe70453b289a",
   "outputs": [
    {
     "data": {
      "text/plain": [
       "<rdkit.Chem.rdchem.Mol at 0x7fbf52a9dbd0>"
      ],
      "image/png": "[encoded data removed]"
     },
     "execution_count": 54,
     "metadata": {},
     "output_type": "execute_result"
    }
   ],
   "execution_count": 54
  },
  {
   "metadata": {
    "ExecuteTime": {
     "end_time": "2024-09-05T18:28:04.304735Z",
     "start_time": "2024-09-05T18:28:04.288295Z"
    }
   },
   "cell_type": "code",
   "source": [
    "from src.fingerprints import get_fingerprints\n",
    "from src.descriptors import get_rd_descriptors, get_md_descriptors\n",
    "from src.representation import get_representation, get_representation_from_series"
   ],
   "id": "e836335347c7e997",
   "outputs": [],
   "execution_count": 55
  },
  {
   "metadata": {
    "ExecuteTime": {
     "end_time": "2024-09-05T18:28:04.327666Z",
     "start_time": "2024-09-05T18:28:04.307304Z"
    }
   },
   "cell_type": "code",
   "source": "get_fingerprints(mol)",
   "id": "c76e4308c1283ae9",
   "outputs": [
    {
     "name": "stderr",
     "output_type": "stream",
     "text": [
      "[20:28:04] DEPRECATION WARNING: please use MorganGenerator\n"
     ]
    },
    {
     "data": {
      "text/plain": [
       "0       0.0\n",
       "1       0.0\n",
       "2       0.0\n",
       "3       0.0\n",
       "4       0.0\n",
       "       ... \n",
       "2358    0.0\n",
       "2359    0.0\n",
       "2360    0.0\n",
       "2361    0.0\n",
       "2362    0.0\n",
       "Length: 2363, dtype: float64"
      ]
     },
     "execution_count": 56,
     "metadata": {},
     "output_type": "execute_result"
    }
   ],
   "execution_count": 56
  },
  {
   "metadata": {
    "ExecuteTime": {
     "end_time": "2024-09-05T18:28:04.352923Z",
     "start_time": "2024-09-05T18:28:04.329157Z"
    }
   },
   "cell_type": "code",
   "source": "get_rd_descriptors(mol)",
   "id": "82dec49dbd05a085",
   "outputs": [
    {
     "name": "stderr",
     "output_type": "stream",
     "text": [
      "[20:28:04] DEPRECATION WARNING: please use MorganGenerator\n",
      "[20:28:04] DEPRECATION WARNING: please use MorganGenerator\n",
      "[20:28:04] DEPRECATION WARNING: please use MorganGenerator\n"
     ]
    },
    {
     "data": {
      "text/plain": [
       "rd_BalabanJ             2.079672\n",
       "rd_BertzCT             33.874303\n",
       "rd_Chi0                 3.698671\n",
       "rd_Chi0n                2.977162\n",
       "rd_Chi0v                2.977162\n",
       "                         ...    \n",
       "rd_fr_thiocyan          0.000000\n",
       "rd_fr_thiophene         0.000000\n",
       "rd_fr_unbrch_alkane     0.000000\n",
       "rd_fr_urea              0.000000\n",
       "rd_qed                  0.413038\n",
       "Length: 200, dtype: float64"
      ]
     },
     "execution_count": 57,
     "metadata": {},
     "output_type": "execute_result"
    }
   ],
   "execution_count": 57
  },
  {
   "metadata": {
    "ExecuteTime": {
     "end_time": "2024-09-05T18:28:04.436967Z",
     "start_time": "2024-09-05T18:28:04.354255Z"
    }
   },
   "cell_type": "code",
   "source": "get_md_descriptors(mol)",
   "id": "769911df54f4a01",
   "outputs": [
    {
     "data": {
      "text/plain": [
       "md_ABC          3.644924\n",
       "md_ABCGG        3.694453\n",
       "md_nAcid        0.000000\n",
       "md_nBase        1.000000\n",
       "md_SpAbs_A      5.595865\n",
       "                 ...    \n",
       "md_WPol         1.000000\n",
       "md_Zagreb1     22.000000\n",
       "md_Zagreb2     23.000000\n",
       "md_mZagreb1     1.861111\n",
       "md_mZagreb2     1.166667\n",
       "Length: 1826, dtype: float64"
      ]
     },
     "execution_count": 58,
     "metadata": {},
     "output_type": "execute_result"
    }
   ],
   "execution_count": 58
  },
  {
   "metadata": {
    "ExecuteTime": {
     "end_time": "2024-09-05T18:28:04.455172Z",
     "start_time": "2024-09-05T18:28:04.438600Z"
    }
   },
   "cell_type": "code",
   "source": "#X = train.smi.apply(get_representation)",
   "id": "1165adf1303ecb92",
   "outputs": [],
   "execution_count": 59
  },
  {
   "metadata": {
    "ExecuteTime": {
     "end_time": "2024-09-05T18:28:04.472642Z",
     "start_time": "2024-09-05T18:28:04.456887Z"
    }
   },
   "cell_type": "code",
   "source": [
    "# from src.utils import apply_mp\n",
    "# \n",
    "# X_mp = apply_mp(train.smi, get_representation)"
   ],
   "id": "9cc78a4bee7bcd20",
   "outputs": [],
   "execution_count": 60
  },
  {
   "metadata": {
    "ExecuteTime": {
     "end_time": "2024-09-05T18:28:04.570361Z",
     "start_time": "2024-09-05T18:28:04.474504Z"
    }
   },
   "cell_type": "code",
   "source": [
    "X = mem.cache(get_representation_from_series, ignore=['n_jobs'])(train.smi, n_jobs=24)\n",
    "X.shape"
   ],
   "id": "c70aa8a547a7e735",
   "outputs": [
    {
     "data": {
      "text/plain": [
       "(7939, 4389)"
      ]
     },
     "execution_count": 61,
     "metadata": {},
     "output_type": "execute_result"
    }
   ],
   "execution_count": 61
  },
  {
   "metadata": {
    "ExecuteTime": {
     "end_time": "2024-09-05T18:28:04.589853Z",
     "start_time": "2024-09-05T18:28:04.572945Z"
    }
   },
   "cell_type": "code",
   "source": [
    "def drop_nans_non_unique(df):\n",
    "    df.dropna(axis=1, inplace=True)\n",
    "    df = df.loc[:, df.nunique() > 1].copy()\n",
    "    return df"
   ],
   "id": "5347809c2d3f4a12",
   "outputs": [],
   "execution_count": 62
  },
  {
   "metadata": {
    "ExecuteTime": {
     "end_time": "2024-09-05T18:28:04.607006Z",
     "start_time": "2024-09-05T18:28:04.591463Z"
    }
   },
   "cell_type": "code",
   "source": [
    "# X.dropna(axis=1, inplace=True)\n",
    "# X.shape"
   ],
   "id": "4160e7fdac8b58ad",
   "outputs": [],
   "execution_count": 63
  },
  {
   "metadata": {
    "ExecuteTime": {
     "end_time": "2024-09-05T18:28:04.625534Z",
     "start_time": "2024-09-05T18:28:04.608735Z"
    }
   },
   "cell_type": "code",
   "source": "# (X.nunique() == 1).sum()",
   "id": "29662d49635c44e1",
   "outputs": [],
   "execution_count": 64
  },
  {
   "metadata": {
    "ExecuteTime": {
     "end_time": "2024-09-05T18:28:04.643589Z",
     "start_time": "2024-09-05T18:28:04.627267Z"
    }
   },
   "cell_type": "code",
   "source": [
    "# X = X.loc[:, X.nunique() > 1]\n",
    "# X.shape"
   ],
   "id": "8cdc22693ae1a7ca",
   "outputs": [],
   "execution_count": 65
  },
  {
   "metadata": {
    "ExecuteTime": {
     "end_time": "2024-09-05T18:28:04.661928Z",
     "start_time": "2024-09-05T18:28:04.645213Z"
    }
   },
   "cell_type": "code",
   "source": [
    "# from src.utils import get_fps_offset\n",
    "\n",
    "# FPS_SIZE = get_fps_offset(X.columns)"
   ],
   "id": "7ba8844bd782f1d9",
   "outputs": [],
   "execution_count": 66
  },
  {
   "metadata": {
    "ExecuteTime": {
     "end_time": "2024-09-05T18:28:04.680331Z",
     "start_time": "2024-09-05T18:28:04.663466Z"
    }
   },
   "cell_type": "code",
   "source": "# (X.iloc[:, FPS_SIZE:] == 0).all().sum()",
   "id": "46d1b2ad78b73032",
   "outputs": [],
   "execution_count": 67
  },
  {
   "metadata": {
    "ExecuteTime": {
     "end_time": "2024-09-05T18:28:04.697526Z",
     "start_time": "2024-09-05T18:28:04.681897Z"
    }
   },
   "cell_type": "code",
   "source": "# X.columns[FPS_SIZE:]",
   "id": "eee876fac737374f",
   "outputs": [],
   "execution_count": 68
  },
  {
   "metadata": {},
   "cell_type": "markdown",
   "source": "### split dataset",
   "id": "717ad027ca65ac82"
  },
  {
   "metadata": {
    "ExecuteTime": {
     "end_time": "2024-09-05T18:28:04.718509Z",
     "start_time": "2024-09-05T18:28:04.699054Z"
    }
   },
   "cell_type": "code",
   "source": [
    "ids_1 = train[train.prop == 1].index\n",
    "ids_2 = train[train.prop == 2].index\n",
    "ids_3 = train[train.prop == 3].index"
   ],
   "id": "18b63cde5407b9d",
   "outputs": [],
   "execution_count": 69
  },
  {
   "metadata": {
    "ExecuteTime": {
     "end_time": "2024-09-05T18:28:04.784793Z",
     "start_time": "2024-09-05T18:28:04.720285Z"
    }
   },
   "cell_type": "code",
   "source": [
    "X_train_1 = X.loc[ids_1]\n",
    "X_train_2 = X.loc[ids_2]\n",
    "X_train_3 = X.loc[ids_3]"
   ],
   "id": "a65179016f9cfee5",
   "outputs": [],
   "execution_count": 70
  },
  {
   "metadata": {
    "ExecuteTime": {
     "end_time": "2024-09-05T18:28:05.566071Z",
     "start_time": "2024-09-05T18:28:04.786030Z"
    }
   },
   "cell_type": "code",
   "source": [
    "X_train_1 = drop_nans_non_unique(X_train_1)\n",
    "X_train_2 = drop_nans_non_unique(X_train_2)\n",
    "X_train_3 = drop_nans_non_unique(X_train_3)"
   ],
   "id": "7f6e3e3d2657adf7",
   "outputs": [],
   "execution_count": 71
  },
  {
   "metadata": {
    "ExecuteTime": {
     "end_time": "2024-09-05T18:28:05.830090Z",
     "start_time": "2024-09-05T18:28:05.567830Z"
    }
   },
   "cell_type": "code",
   "source": [
    "X_train_1.to_pickle('../data/processed/X_train_1.pkl')\n",
    "X_train_2.to_pickle('../data/processed/X_train_2.pkl')\n",
    "X_train_3.to_pickle('../data/processed/X_train_3.pkl')"
   ],
   "id": "9c878e13032fd924",
   "outputs": [],
   "execution_count": 72
  },
  {
   "metadata": {
    "ExecuteTime": {
     "end_time": "2024-09-05T18:28:05.849398Z",
     "start_time": "2024-09-05T18:28:05.831538Z"
    }
   },
   "cell_type": "code",
   "source": [
    "y_train_1 = train[train.prop == 1].target\n",
    "y_train_2 = train[train.prop == 2].target\n",
    "y_train_3 = train[train.prop == 3].target"
   ],
   "id": "40bf7d8bef91d73",
   "outputs": [],
   "execution_count": 73
  },
  {
   "metadata": {
    "ExecuteTime": {
     "end_time": "2024-09-05T18:28:05.867826Z",
     "start_time": "2024-09-05T18:28:05.850707Z"
    }
   },
   "cell_type": "code",
   "source": [
    "y_train_1.to_pickle('../data/processed/y_train_1.pkl')\n",
    "y_train_2.to_pickle('../data/processed/y_train_2.pkl')\n",
    "y_train_3.to_pickle('../data/processed/y_train_3.pkl')"
   ],
   "id": "37b489e5538d3e68",
   "outputs": [],
   "execution_count": 74
  },
  {
   "metadata": {
    "ExecuteTime": {
     "end_time": "2024-09-05T18:28:05.886843Z",
     "start_time": "2024-09-05T18:28:05.869573Z"
    }
   },
   "cell_type": "code",
   "source": "X_train_1.shape, X_train_2.shape, X_train_3.shape",
   "id": "1eb1240411b448b0",
   "outputs": [
    {
     "data": {
      "text/plain": [
       "((5094, 3456), (1424, 3812), (1421, 3534))"
      ]
     },
     "execution_count": 75,
     "metadata": {},
     "output_type": "execute_result"
    }
   ],
   "execution_count": 75
  },
  {
   "metadata": {
    "ExecuteTime": {
     "end_time": "2024-09-05T18:28:05.907211Z",
     "start_time": "2024-09-05T18:28:05.889096Z"
    }
   },
   "cell_type": "code",
   "source": "y_train_1.shape, y_train_2.shape, y_train_3.shape",
   "id": "1cbf926342dae8a7",
   "outputs": [
    {
     "data": {
      "text/plain": [
       "((5094,), (1424,), (1421,))"
      ]
     },
     "execution_count": 76,
     "metadata": {},
     "output_type": "execute_result"
    }
   ],
   "execution_count": 76
  },
  {
   "metadata": {},
   "cell_type": "markdown",
   "source": "# Test set",
   "id": "299be1b4c3b17a95"
  },
  {
   "metadata": {
    "ExecuteTime": {
     "end_time": "2024-09-05T18:28:06.035961Z",
     "start_time": "2024-09-05T18:28:05.908648Z"
    }
   },
   "cell_type": "code",
   "source": "test = pd.read_pickle('../data/processed/test_set.pkl')",
   "id": "662ea7837f0739d4",
   "outputs": [],
   "execution_count": 77
  },
  {
   "metadata": {
    "ExecuteTime": {
     "end_time": "2024-09-05T18:28:30.678067Z",
     "start_time": "2024-09-05T18:28:06.037558Z"
    }
   },
   "cell_type": "code",
   "source": "X_test = mem.cache(get_representation_from_series, ignore=['n_jobs'])(test.smi, n_jobs=24)",
   "id": "40ababfd57ad7e78",
   "outputs": [
    {
     "name": "stdout",
     "output_type": "stream",
     "text": [
      "________________________________________________________________________________\n",
      "[Memory] Calling src.representation.get_representation_from_series...\n",
      "get_representation_from_series(id\n",
      "0                    Cc1cc(=O)oc2ccc3c(c12)C1(C)OOC1(C)O3\n",
      "1                                          CN(CC(O)CO)N=O\n",
      "2                            O=[N+]([O-])c1ccc(OC2CO2)cc1\n",
      "3                            Cn1cnc2cc([N+](=O)[O-])ccc21\n",
      "4                                      CCC(CO)NCCNC(CC)CO\n",
      "                              ...                        \n",
      "1216    CCN(CC)C(=O)COc1cc2c(O)c3c(O)c(C)c4c(c13)C(=O)...\n",
      "1217          O=C(Cc1ccc(Cl)c(Cl)c1)N1CCc2sccc2C1CN1CCCC1\n",
      "1218                 CN1CCC23c4c5ccc(O)c4OC2C(=O)CCC3C1C5\n",
      "1219                          Cn1nc(-c2cccc(F)c2)n(C)c1=S\n",
      "1220     CCC1C(C)=NN=C(c2ccc(OC)c(OC)c2)c2cc(OC)c(OC)cc21\n",
      "Name: smi, Length: 1221, dtype: object, n_jobs=24)\n",
      "__________________________________get_representation_from_series - 24.6s, 0.4min\n"
     ]
    }
   ],
   "execution_count": 78
  },
  {
   "metadata": {
    "ExecuteTime": {
     "end_time": "2024-09-05T18:28:30.697041Z",
     "start_time": "2024-09-05T18:28:30.681632Z"
    }
   },
   "cell_type": "code",
   "source": [
    "# X_test = X_test[X.columns]\n",
    "# X_test.shape"
   ],
   "id": "3ab70a802fd86d82",
   "outputs": [],
   "execution_count": 79
  },
  {
   "metadata": {
    "ExecuteTime": {
     "end_time": "2024-09-05T18:28:30.716114Z",
     "start_time": "2024-09-05T18:28:30.698684Z"
    }
   },
   "cell_type": "code",
   "source": [
    "ids_1 = test[test.prop == 1].index\n",
    "ids_2 = test[test.prop == 2].index\n",
    "ids_3 = test[test.prop == 3].index"
   ],
   "id": "b75ec0787765e15c",
   "outputs": [],
   "execution_count": 80
  },
  {
   "metadata": {
    "ExecuteTime": {
     "end_time": "2024-09-05T18:28:30.743804Z",
     "start_time": "2024-09-05T18:28:30.717392Z"
    }
   },
   "cell_type": "code",
   "source": [
    "X_test_1 = X_test.loc[ids_1]\n",
    "X_test_2 = X_test.loc[ids_2]\n",
    "X_test_3 = X_test.loc[ids_3]"
   ],
   "id": "3f9a87dbd4da5e41",
   "outputs": [],
   "execution_count": 81
  },
  {
   "metadata": {
    "ExecuteTime": {
     "end_time": "2024-09-05T18:28:30.769774Z",
     "start_time": "2024-09-05T18:28:30.745421Z"
    }
   },
   "cell_type": "code",
   "source": [
    "X_test_1 = X_test_1[X_train_1.columns]\n",
    "X_test_2 = X_test_2[X_train_2.columns]\n",
    "X_test_3 = X_test_3[X_train_3.columns]"
   ],
   "id": "52193007d9dd8401",
   "outputs": [],
   "execution_count": 82
  },
  {
   "metadata": {
    "ExecuteTime": {
     "end_time": "2024-09-05T18:28:30.828387Z",
     "start_time": "2024-09-05T18:28:30.771036Z"
    }
   },
   "cell_type": "code",
   "source": [
    "X_test_1.to_pickle('../data/processed/X_test_1.pkl')\n",
    "X_test_2.to_pickle('../data/processed/X_test_2.pkl')\n",
    "X_test_3.to_pickle('../data/processed/X_test_3.pkl')"
   ],
   "id": "38556bb0c098c588",
   "outputs": [],
   "execution_count": 83
  },
  {
   "metadata": {
    "ExecuteTime": {
     "end_time": "2024-09-05T18:28:30.848189Z",
     "start_time": "2024-09-05T18:28:30.829657Z"
    }
   },
   "cell_type": "code",
   "source": "X_test_1.shape, X_test_2.shape, X_test_3.shape",
   "id": "f28c3f7c0e86de48",
   "outputs": [
    {
     "data": {
      "text/plain": [
       "((408, 3456), (407, 3812), (406, 3534))"
      ]
     },
     "execution_count": 84,
     "metadata": {},
     "output_type": "execute_result"
    }
   ],
   "execution_count": 84
  }
 ],
 "metadata": {
  "kernelspec": {
   "display_name": "ml",
   "language": "python",
   "name": "ml"
  },
  "language_info": {
   "codemirror_mode": {
    "name": "ipython",
    "version": 2
   },
   "file_extension": ".py",
   "mimetype": "text/x-python",
   "name": "python",
   "nbconvert_exporter": "python",
   "pygments_lexer": "ipython2",
   "version": "2.7.6"
  }
 },
 "nbformat": 4,
 "nbformat_minor": 5
}
