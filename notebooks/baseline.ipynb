{
 "cells": [
  {
   "metadata": {
    "ExecuteTime": {
     "end_time": "2024-09-09T11:29:16.486300Z",
     "start_time": "2024-09-09T11:29:16.467875Z"
    }
   },
   "cell_type": "code",
   "source": [
    "%load_ext autoreload\n",
    "%autoreload 2\n",
    "\n",
    "import sys\n",
    "sys.path.append('..')"
   ],
   "id": "8bdd2e078a3b5891",
   "outputs": [
    {
     "name": "stdout",
     "output_type": "stream",
     "text": [
      "The autoreload extension is already loaded. To reload it, use:\n",
      "  %reload_ext autoreload\n"
     ]
    }
   ],
   "execution_count": 4
  },
  {
   "cell_type": "code",
   "id": "62c73555-ee9b-4792-956d-09c8b2442508",
   "metadata": {
    "ExecuteTime": {
     "end_time": "2024-09-09T11:29:20.397810Z",
     "start_time": "2024-09-09T11:29:18.193450Z"
    }
   },
   "source": [
    "import multiprocessing\n",
    "\n",
    "import pandas as pd\n",
    "import datamol as dm\n",
    "import numpy as np\n",
    "import seaborn as sns\n",
    "\n",
    "from molfeat.calc import RDKitDescriptors2D, FPCalculator, MordredDescriptors\n",
    "from molfeat.trans import MoleculeTransformer\n",
    "from sklearn.preprocessing import OneHotEncoder\n",
    "\n",
    "import collections.abc as collections\n",
    "from molfeat.trans.concat import FeatConcat\n",
    "\n",
    "from sklearn.ensemble import HistGradientBoostingClassifier, RandomForestClassifier\n",
    "from sklearn.preprocessing import OneHotEncoder\n",
    "from sklearn.impute import SimpleImputer\n",
    "\n",
    "from src.config import mem\n",
    "from src.utils import embed3d, eval_model, OffsetScaler\n",
    "from src.descriptors import get_dgl_predictions, get_hft_predictions, get_3d_predictions\n",
    "\n",
    "from rdkit import RDLogger, Chem\n",
    "\n",
    "RDLogger.DisableLog('rdApp.*')"
   ],
   "outputs": [],
   "execution_count": 5
  },
  {
   "metadata": {
    "ExecuteTime": {
     "end_time": "2024-09-09T11:30:04.350877Z",
     "start_time": "2024-09-09T11:30:03.727592Z"
    }
   },
   "cell_type": "code",
   "source": [
    "train = dm.read_csv(\"../data/processed/train.csv\", smiles_column=\"smi\", index_col=0)\n",
    "test = dm.read_csv(\"../data/processed/test.csv\", smiles_column=\"smi\", index_col=0)\n",
    "y_train = pd.read_pickle('../data/processed/y_train.pkl')"
   ],
   "id": "6aacef62-bdbb-4d38-8044-9790bc2efbf3",
   "outputs": [],
   "execution_count": 6
  },
  {
   "metadata": {
    "ExecuteTime": {
     "end_time": "2024-09-08T15:07:06.442494Z",
     "start_time": "2024-09-08T15:07:06.413436Z"
    }
   },
   "cell_type": "code",
   "source": [
    "ohe = OneHotEncoder(sparse_output=False)\n",
    "\n",
    "def get_x_train(feats):\n",
    "    return np.concatenate([feats, ohe.fit_transform(train[[\"prop\"]])], axis=1)\n",
    "\n",
    "def get_x_test(feats):\n",
    "    return np.concatenate([feats, ohe.transform(train[[\"test\"]])], axis=1)"
   ],
   "id": "ab1f0d860f7abd4d",
   "outputs": [],
   "execution_count": 4
  },
  {
   "cell_type": "code",
   "id": "4ca91d38-badb-470c-8a54-fdb34da5a735",
   "metadata": {
    "collapsed": true,
    "jupyter": {
     "outputs_hidden": true
    },
    "tags": [],
    "ExecuteTime": {
     "start_time": "2024-09-08T15:07:06.499439Z"
    }
   },
   "source": [
    "from molfeat.trans.fp import FPVecTransformer\n",
    "\n",
    "from molfeat.trans.pretrained import PretrainedDGLTransformer\n",
    "from molfeat.trans.pretrained.hf_transformers import PretrainedHFTransformer\n",
    "\n",
    "dgl_params = [\n",
    "    {'kind': 'gin_supervised_contextpred'},\n",
    "    {'kind': 'gin_supervised_infomax'},\n",
    "    {'kind': 'gin_supervised_edgepred'},\n",
    "    {'kind': 'gin_supervised_masking'},\n",
    "]\n",
    "\n",
    "hft_params = [\n",
    "    {'kind': 'MolT5', 'notation': 'smiles', 'random_seed': 42},\n",
    "    {'kind': 'GPT2-Zinc480M-87M', 'notation': 'smiles', 'random_seed': 42},\n",
    "    {'kind': 'Roberta-Zinc480M-102M', 'notation': 'smiles', 'random_seed': 42},    \n",
    "]\n",
    "\n",
    "params_3D = [\n",
    "    {'kind': 'desc3D', 'length': 639, 'replace_nan': True},\n",
    "    {'kind': 'cats3D', 'length': 126, 'replace_nan': True},\n",
    "    {'kind': 'pharm3D', 'length': 1024, },\n",
    "    {'kind': 'electroshape', 'length': 15, 'replace_nan': True},\n",
    "    {'kind': 'usr', 'length': 12},\n",
    "    {'kind': 'usrcat', 'length': 60},\n",
    "]\n",
    "\n",
    "\n",
    "transformers = [\n",
    "    # fps\n",
    "    FPVecTransformer(\"ecfp:4\", length=1024, dtype=np.float32),\n",
    "    FPVecTransformer(\"maccs\", length=167, dtype=np.float32),\n",
    "    FPVecTransformer(\"topological\", length=1024, dtype=np.float32),\n",
    "    FPVecTransformer(\"avalon\", length=1024, dtype=np.float32),\n",
    "    FPVecTransformer('erg', length=315, dtype=np.float32),    \n",
    "    FPVecTransformer(\"layered\", length=1024, dtype=np.float32),\n",
    "    FPVecTransformer(\"secfp\", length=1024, dtype=np.float32),\n",
    "    FPVecTransformer('pattern', length=1024, dtype=np.float32),\n",
    "    FPVecTransformer(\"pharm2D\", n_jobs=-1, length=1024, dtype=np.float32),\n",
    "    \n",
    "    # normalize\n",
    "    FPVecTransformer(\"estate\", length=79, dtype=np.float32),\n",
    "    FPVecTransformer(\"mordred\", n_jobs=-1, length=1613, dtype=np.float32),\n",
    "    FPVecTransformer(\"desc2D\", n_jobs=-1, length=216, dtype=np.float32, replace_nan=True),\n",
    "    FPVecTransformer(\"cats2D\", n_jobs=-1, length=189, dtype=np.float32, replace_nan=True),\n",
    "    FPVecTransformer(\"scaffoldkeys\", n_jobs=-1, length=42, dtype=np.float32, replace_nan=True),\n",
    "    FPVecTransformer(\"skeys\", n_jobs=-1, length=42, dtype=np.float32, replace_nan=True),\n",
    "]\n",
    "\n",
    "# featurizer = FeatConcat(transformers, dtype=np.float32)\n",
    "\n",
    "# calcucalte feats and cache them\n",
    "for trans in transformers:\n",
    "    print(trans.kind, '=' * 20)\n",
    "    mem.cache(trans.transform)(train.smi)\n",
    "    mem.cache(trans.transform)(test.smi)\n",
    "        \n",
    "for params in dgl_params:    \n",
    "    mem.cache(get_dgl_predictions, ignore=['n_jobs', 'dtype'])(train.smi, params, dtype=np.float32)    \n",
    "    mem.cache(get_dgl_predictions, ignore=['n_jobs', 'dtype'])(test.smi, params, dtype=np.float32)    \n",
    "\n",
    "for params in desc3D_params:\n",
    "    mem.cache(get_3d_predictions, ignore=['n_jobs', 'dtype'])(train.smi, params, dtype=np.float32)\n",
    "    mem.cache(get_3d_predictions, ignore=['n_jobs', 'dtype'])(test.smi, params, dtype=np.float32)\n",
    "\n",
    "\n",
    "# for params in hft_params:\n",
    "#     feats = mem.cache(get_hft_predictions, ignore=['n_jobs', 'dtype', 'device'])(train.smi, params, device='cpu', n_jobs=-1)\n",
    "    \n",
    "# for kind, params in hft_params.items():\n",
    "#     print('Initializing', end=' ')    \n",
    "#     trans = PretrainedHFTransformer(kind, **params, n_jobs=-1)\n",
    "#     print(kind, end=' ')\n",
    "#     feats = mem.cache(trans.transform)(train.smi)\n",
    "#     print(feats.shape[1])"
   ],
   "outputs": [
    {
     "name": "stdout",
     "output_type": "stream",
     "text": [
      "ecfp:4 ====================\n",
      "maccs ====================\n",
      "topological ====================\n",
      "avalon ====================\n",
      "erg ====================\n",
      "layered ====================\n",
      "secfp ====================\n",
      "pattern ====================\n",
      "pharm2D ====================\n",
      "estate ====================\n",
      "mordred ====================\n",
      "desc2D ====================\n",
      "cats2D ====================\n",
      "scaffoldkeys ====================\n",
      "skeys ====================\n",
      "________________________________________________________________________________\n",
      "[Memory] Calling src.descriptors.get_3d_predictions...\n",
      "get_3d_predictions(id\n",
      "0                    Cc1cc(=O)oc2ccc3c(c12)C1(C)OOC1(C)O3\n",
      "1                                          CN(CC(O)CO)N=O\n",
      "2                            O=[N+]([O-])c1ccc(OC2CO2)cc1\n",
      "3                            Cn1cnc2cc([N+](=O)[O-])ccc21\n",
      "4                                      CCC(CO)NCCNC(CC)CO\n",
      "                              ...                        \n",
      "1216    CCN(CC)C(=O)COc1cc2c(O)c3c(O)c(C)c4c(c13)C(=O)...\n",
      "1217          O=C(Cc1ccc(Cl)c(Cl)c1)N1CCc2sccc2C1CN1CCCC1\n",
      "1218                 CN1CCC23c4c5ccc(O)c4OC2C(=O)CCC3C1C5\n",
      "1219                          Cn1nc(-c2cccc(F)c2)n(C)c1=S\n",
      "1220     CCC1C(C)=NN=C(c2ccc(OC)c(OC)c2)c2cc(OC)c(OC)cc21\n",
      "Name: smi, Length: 1221, dtype: object, \n",
      "{'kind': 'desc3D', 'length': 639, 'replace_nan': True}, dtype=<class 'numpy.float32'>)\n",
      "________________________________________________________________________________\n",
      "[Memory] Calling src.utils.embed3d...\n",
      "embed3d(id\n",
      "0                    Cc1cc(=O)oc2ccc3c(c12)C1(C)OOC1(C)O3\n",
      "1                                          CN(CC(O)CO)N=O\n",
      "2                            O=[N+]([O-])c1ccc(OC2CO2)cc1\n",
      "3                            Cn1cnc2cc([N+](=O)[O-])ccc21\n",
      "4                                      CCC(CO)NCCNC(CC)CO\n",
      "                              ...                        \n",
      "1216    CCN(CC)C(=O)COc1cc2c(O)c3c(O)c(C)c4c(c13)C(=O)...\n",
      "1217          O=C(Cc1ccc(Cl)c(Cl)c1)N1CCc2sccc2C1CN1CCCC1\n",
      "1218                 CN1CCC23c4c5ccc(O)c4OC2C(=O)CCC3C1C5\n",
      "1219                          Cn1nc(-c2cccc(F)c2)n(C)c1=S\n",
      "1220     CCC1C(C)=NN=C(c2ccc(OC)c(OC)c2)c2cc(OC)c(OC)cc21\n",
      "Name: smi, Length: 1221, dtype: object, n_confs=None)\n"
     ]
    },
    {
     "name": "stderr",
     "output_type": "stream",
     "text": [
      "[17:07:08] UFFTYPER: Warning: hybridization set to SP3 for atom 2\n",
      "[17:07:10] UFFTYPER: Warning: hybridization set to SP3 for atom 2\n",
      "[17:07:10] UFFTYPER: Warning: hybridization set to SP3 for atom 2\n",
      "[17:07:10] UFFTYPER: Warning: hybridization set to SP3 for atom 2\n",
      "[17:07:10] UFFTYPER: Warning: hybridization set to SP3 for atom 2\n",
      "[17:07:10] UFFTYPER: Warning: hybridization set to SP3 for atom 2\n",
      "[17:07:10] UFFTYPER: Warning: hybridization set to SP3 for atom 2\n",
      "[17:07:10] UFFTYPER: Warning: hybridization set to SP3 for atom 2\n",
      "[17:07:10] UFFTYPER: Warning: hybridization set to SP3 for atom 2\n",
      "[17:07:10] UFFTYPER: Warning: hybridization set to SP3 for atom 2\n",
      "[17:07:10] UFFTYPER: Warning: hybridization set to SP3 for atom 2\n",
      "[17:07:10] UFFTYPER: Warning: hybridization set to SP3 for atom 2\n",
      "[17:07:10] UFFTYPER: Warning: hybridization set to SP3 for atom 2\n",
      "[17:07:10] UFFTYPER: Warning: hybridization set to SP3 for atom 2\n",
      "[17:07:10] UFFTYPER: Warning: hybridization set to SP3 for atom 2\n",
      "[17:07:10] UFFTYPER: Warning: hybridization set to SP3 for atom 2\n",
      "[17:07:10] UFFTYPER: Warning: hybridization set to SP3 for atom 2\n",
      "[17:07:10] UFFTYPER: Warning: hybridization set to SP3 for atom 2\n",
      "[17:07:10] UFFTYPER: Warning: hybridization set to SP3 for atom 2\n",
      "[17:07:10] UFFTYPER: Warning: hybridization set to SP3 for atom 2\n",
      "[17:07:10] UFFTYPER: Warning: hybridization set to SP3 for atom 2\n",
      "[17:07:10] UFFTYPER: Warning: hybridization set to SP3 for atom 2\n",
      "[17:07:10] UFFTYPER: Warning: hybridization set to SP3 for atom 2\n",
      "[17:07:10] UFFTYPER: Warning: hybridization set to SP3 for atom 2\n",
      "[17:07:10] UFFTYPER: Warning: hybridization set to SP3 for atom 2\n",
      "[17:07:10] UFFTYPER: Warning: hybridization set to SP3 for atom 2\n",
      "[17:07:10] UFFTYPER: Warning: hybridization set to SP3 for atom 2\n",
      "[17:07:10] UFFTYPER: Warning: hybridization set to SP3 for atom 2\n",
      "[17:07:10] UFFTYPER: Warning: hybridization set to SP3 for atom 2\n",
      "[17:07:10] UFFTYPER: Warning: hybridization set to SP3 for atom 2\n",
      "[17:07:10] UFFTYPER: Warning: hybridization set to SP3 for atom 2\n",
      "[17:07:10] UFFTYPER: Warning: hybridization set to SP3 for atom 2\n",
      "[17:07:10] UFFTYPER: Warning: hybridization set to SP3 for atom 2\n",
      "[17:07:10] UFFTYPER: Warning: hybridization set to SP3 for atom 2\n",
      "[17:07:10] UFFTYPER: Warning: hybridization set to SP3 for atom 2\n",
      "[17:07:10] UFFTYPER: Warning: hybridization set to SP3 for atom 2\n",
      "[17:07:10] UFFTYPER: Warning: hybridization set to SP3 for atom 2\n",
      "[17:07:10] UFFTYPER: Warning: hybridization set to SP3 for atom 2\n",
      "[17:07:10] UFFTYPER: Warning: hybridization set to SP3 for atom 2\n",
      "[17:07:10] UFFTYPER: Warning: hybridization set to SP3 for atom 2\n",
      "[17:07:10] UFFTYPER: Warning: hybridization set to SP3 for atom 2\n",
      "[17:07:10] UFFTYPER: Warning: hybridization set to SP3 for atom 2\n",
      "[17:07:10] UFFTYPER: Warning: hybridization set to SP3 for atom 2\n",
      "[17:07:10] UFFTYPER: Warning: hybridization set to SP3 for atom 2\n",
      "[17:07:10] UFFTYPER: Warning: hybridization set to SP3 for atom 2\n",
      "[17:07:10] UFFTYPER: Warning: hybridization set to SP3 for atom 2\n",
      "[17:07:10] UFFTYPER: Warning: hybridization set to SP3 for atom 2\n",
      "[17:07:10] UFFTYPER: Warning: hybridization set to SP3 for atom 2\n",
      "[17:07:10] UFFTYPER: Warning: hybridization set to SP3 for atom 2\n",
      "[17:07:10] UFFTYPER: Warning: hybridization set to SP3 for atom 2\n",
      "[17:07:10] UFFTYPER: Warning: hybridization set to SP3 for atom 2\n",
      "[17:07:10] UFFTYPER: Warning: hybridization set to SP3 for atom 2\n",
      "[17:07:10] UFFTYPER: Warning: hybridization set to SP3 for atom 2\n",
      "[17:07:10] UFFTYPER: Warning: hybridization set to SP3 for atom 2\n",
      "[17:07:10] UFFTYPER: Warning: hybridization set to SP3 for atom 2\n",
      "[17:07:10] UFFTYPER: Warning: hybridization set to SP3 for atom 2\n",
      "[17:07:10] UFFTYPER: Warning: hybridization set to SP3 for atom 2\n",
      "[17:07:10] UFFTYPER: Warning: hybridization set to SP3 for atom 2\n",
      "[17:07:10] UFFTYPER: Warning: hybridization set to SP3 for atom 2\n",
      "[17:07:10] UFFTYPER: Warning: hybridization set to SP3 for atom 2\n",
      "[17:07:10] UFFTYPER: Warning: hybridization set to SP3 for atom 2\n",
      "[17:07:10] UFFTYPER: Warning: hybridization set to SP3 for atom 2\n",
      "[17:07:10] UFFTYPER: Warning: hybridization set to SP3 for atom 2\n",
      "[17:07:10] UFFTYPER: Warning: hybridization set to SP3 for atom 2\n",
      "[17:07:10] UFFTYPER: Warning: hybridization set to SP3 for atom 2\n",
      "[17:07:10] UFFTYPER: Warning: hybridization set to SP3 for atom 2\n",
      "[17:07:10] UFFTYPER: Warning: hybridization set to SP3 for atom 2\n",
      "[17:07:10] UFFTYPER: Warning: hybridization set to SP3 for atom 2\n",
      "[17:07:10] UFFTYPER: Warning: hybridization set to SP3 for atom 2\n",
      "[17:07:10] UFFTYPER: Warning: hybridization set to SP3 for atom 2\n",
      "[17:07:10] UFFTYPER: Warning: hybridization set to SP3 for atom 2\n",
      "[17:07:10] UFFTYPER: Warning: hybridization set to SP3 for atom 2\n",
      "[17:07:10] UFFTYPER: Warning: hybridization set to SP3 for atom 2\n",
      "[17:07:10] UFFTYPER: Warning: hybridization set to SP3 for atom 2\n",
      "[17:07:10] UFFTYPER: Warning: hybridization set to SP3 for atom 2\n",
      "[17:07:10] UFFTYPER: Warning: hybridization set to SP3 for atom 2\n",
      "[17:07:10] UFFTYPER: Warning: hybridization set to SP3 for atom 2\n",
      "[17:07:10] UFFTYPER: Warning: hybridization set to SP3 for atom 2\n",
      "[17:07:10] UFFTYPER: Warning: hybridization set to SP3 for atom 2\n",
      "[17:07:10] UFFTYPER: Warning: hybridization set to SP3 for atom 2\n",
      "[17:07:10] UFFTYPER: Warning: hybridization set to SP3 for atom 2\n",
      "[17:07:10] UFFTYPER: Warning: hybridization set to SP3 for atom 2\n",
      "[17:07:10] UFFTYPER: Warning: hybridization set to SP3 for atom 2\n",
      "[17:07:10] UFFTYPER: Warning: hybridization set to SP3 for atom 2\n",
      "[17:07:10] UFFTYPER: Warning: hybridization set to SP3 for atom 2\n",
      "[17:07:10] UFFTYPER: Warning: hybridization set to SP3 for atom 2\n",
      "[17:07:10] UFFTYPER: Warning: hybridization set to SP3 for atom 2\n",
      "[17:07:10] UFFTYPER: Warning: hybridization set to SP3 for atom 2\n",
      "[17:07:10] UFFTYPER: Warning: hybridization set to SP3 for atom 2\n",
      "[17:07:10] UFFTYPER: Warning: hybridization set to SP3 for atom 2\n",
      "[17:07:10] UFFTYPER: Warning: hybridization set to SP3 for atom 2\n",
      "[17:07:10] UFFTYPER: Warning: hybridization set to SP3 for atom 2\n",
      "[17:07:10] UFFTYPER: Warning: hybridization set to SP3 for atom 2\n",
      "[17:07:10] UFFTYPER: Warning: hybridization set to SP3 for atom 2\n",
      "[17:07:10] UFFTYPER: Warning: hybridization set to SP3 for atom 2\n",
      "[17:07:10] UFFTYPER: Warning: hybridization set to SP3 for atom 2\n",
      "[17:07:10] UFFTYPER: Warning: hybridization set to SP3 for atom 2\n",
      "[17:07:10] UFFTYPER: Warning: hybridization set to SP3 for atom 2\n",
      "[17:07:10] UFFTYPER: Warning: hybridization set to SP3 for atom 2\n",
      "[17:07:10] UFFTYPER: Warning: hybridization set to SP3 for atom 2\n",
      "[17:07:10] UFFTYPER: Warning: hybridization set to SP3 for atom 2\n",
      "[17:07:10] UFFTYPER: Warning: hybridization set to SP3 for atom 2\n",
      "[17:07:10] UFFTYPER: Warning: hybridization set to SP3 for atom 2\n",
      "[17:07:10] UFFTYPER: Warning: hybridization set to SP3 for atom 2\n",
      "[17:07:10] UFFTYPER: Warning: hybridization set to SP3 for atom 2\n",
      "[17:07:10] UFFTYPER: Warning: hybridization set to SP3 for atom 2\n",
      "[17:07:10] UFFTYPER: Warning: hybridization set to SP3 for atom 2\n",
      "[17:07:10] UFFTYPER: Warning: hybridization set to SP3 for atom 2\n",
      "[17:07:10] UFFTYPER: Warning: hybridization set to SP3 for atom 2\n",
      "[17:07:10] UFFTYPER: Warning: hybridization set to SP3 for atom 2\n",
      "[17:07:10] UFFTYPER: Warning: hybridization set to SP3 for atom 2\n",
      "[17:07:10] UFFTYPER: Warning: hybridization set to SP3 for atom 2\n",
      "[17:07:10] UFFTYPER: Warning: hybridization set to SP3 for atom 2\n",
      "[17:07:10] UFFTYPER: Warning: hybridization set to SP3 for atom 2\n",
      "[17:07:10] UFFTYPER: Warning: hybridization set to SP3 for atom 2\n",
      "[17:07:10] UFFTYPER: Warning: hybridization set to SP3 for atom 2\n",
      "[17:07:10] UFFTYPER: Warning: hybridization set to SP3 for atom 2\n",
      "[17:07:10] UFFTYPER: Warning: hybridization set to SP3 for atom 2\n",
      "[17:07:10] UFFTYPER: Warning: hybridization set to SP3 for atom 2\n",
      "[17:07:10] UFFTYPER: Warning: hybridization set to SP3 for atom 2\n",
      "[17:07:10] UFFTYPER: Warning: hybridization set to SP3 for atom 2\n",
      "[17:07:10] UFFTYPER: Warning: hybridization set to SP3 for atom 2\n",
      "[17:07:10] UFFTYPER: Warning: hybridization set to SP3 for atom 2\n",
      "[17:07:10] UFFTYPER: Warning: hybridization set to SP3 for atom 2\n",
      "[17:07:10] UFFTYPER: Warning: hybridization set to SP3 for atom 2\n",
      "[17:07:10] UFFTYPER: Warning: hybridization set to SP3 for atom 2\n",
      "[17:07:10] UFFTYPER: Warning: hybridization set to SP3 for atom 2\n",
      "[17:07:10] UFFTYPER: Warning: hybridization set to SP3 for atom 2\n",
      "[17:07:10] UFFTYPER: Warning: hybridization set to SP3 for atom 2\n",
      "[17:07:10] UFFTYPER: Warning: hybridization set to SP3 for atom 2\n",
      "[17:07:10] UFFTYPER: Warning: hybridization set to SP3 for atom 2\n",
      "[17:07:10] UFFTYPER: Warning: hybridization set to SP3 for atom 2\n",
      "[17:07:10] UFFTYPER: Warning: hybridization set to SP3 for atom 2\n",
      "[17:07:10] UFFTYPER: Warning: hybridization set to SP3 for atom 2\n",
      "[17:07:10] UFFTYPER: Warning: hybridization set to SP3 for atom 2\n",
      "[17:07:10] UFFTYPER: Warning: hybridization set to SP3 for atom 2\n",
      "[17:07:10] UFFTYPER: Warning: hybridization set to SP3 for atom 2\n",
      "[17:07:10] UFFTYPER: Warning: hybridization set to SP3 for atom 2\n",
      "[17:07:10] UFFTYPER: Warning: hybridization set to SP3 for atom 2\n",
      "[17:07:10] UFFTYPER: Warning: hybridization set to SP3 for atom 2\n",
      "[17:07:10] UFFTYPER: Warning: hybridization set to SP3 for atom 2\n",
      "[17:07:10] UFFTYPER: Warning: hybridization set to SP3 for atom 2\n",
      "[17:07:10] UFFTYPER: Warning: hybridization set to SP3 for atom 2\n",
      "[17:07:10] UFFTYPER: Warning: hybridization set to SP3 for atom 2\n",
      "[17:07:10] UFFTYPER: Warning: hybridization set to SP3 for atom 2\n",
      "[17:07:10] UFFTYPER: Warning: hybridization set to SP3 for atom 2\n",
      "[17:07:10] UFFTYPER: Warning: hybridization set to SP3 for atom 2\n",
      "[17:07:10] UFFTYPER: Warning: hybridization set to SP3 for atom 2\n",
      "[17:07:10] UFFTYPER: Warning: hybridization set to SP3 for atom 2\n",
      "[17:07:10] UFFTYPER: Warning: hybridization set to SP3 for atom 2\n",
      "[17:07:10] UFFTYPER: Warning: hybridization set to SP3 for atom 2\n",
      "[17:07:10] UFFTYPER: Warning: hybridization set to SP3 for atom 2\n",
      "[17:07:10] UFFTYPER: Warning: hybridization set to SP3 for atom 2\n",
      "[17:07:10] UFFTYPER: Warning: hybridization set to SP3 for atom 2\n",
      "[17:07:10] UFFTYPER: Warning: hybridization set to SP3 for atom 2\n",
      "[17:07:10] UFFTYPER: Warning: hybridization set to SP3 for atom 2\n",
      "[17:07:10] UFFTYPER: Warning: hybridization set to SP3 for atom 2\n",
      "[17:07:10] UFFTYPER: Warning: hybridization set to SP3 for atom 2\n",
      "[17:07:10] UFFTYPER: Warning: hybridization set to SP3 for atom 2\n",
      "[17:07:10] UFFTYPER: Warning: hybridization set to SP3 for atom 2\n",
      "[17:07:10] UFFTYPER: Warning: hybridization set to SP3 for atom 2\n",
      "[17:07:10] UFFTYPER: Warning: hybridization set to SP3 for atom 2\n",
      "[17:07:10] UFFTYPER: Warning: hybridization set to SP3 for atom 2\n",
      "[17:07:10] UFFTYPER: Warning: hybridization set to SP3 for atom 2\n",
      "[17:07:10] UFFTYPER: Warning: hybridization set to SP3 for atom 2\n",
      "[17:07:10] UFFTYPER: Warning: hybridization set to SP3 for atom 2\n",
      "[17:07:10] UFFTYPER: Warning: hybridization set to SP3 for atom 2\n",
      "[17:07:10] UFFTYPER: Warning: hybridization set to SP3 for atom 2\n",
      "[17:07:10] UFFTYPER: Warning: hybridization set to SP3 for atom 2\n",
      "[17:07:10] UFFTYPER: Warning: hybridization set to SP3 for atom 2\n",
      "[17:07:10] UFFTYPER: Warning: hybridization set to SP3 for atom 2\n",
      "[17:07:10] UFFTYPER: Warning: hybridization set to SP3 for atom 2\n",
      "[17:07:10] UFFTYPER: Warning: hybridization set to SP3 for atom 2\n",
      "[17:07:10] UFFTYPER: Warning: hybridization set to SP3 for atom 2\n",
      "[17:07:10] UFFTYPER: Warning: hybridization set to SP3 for atom 2\n",
      "[17:07:10] UFFTYPER: Warning: hybridization set to SP3 for atom 2\n",
      "[17:07:10] UFFTYPER: Warning: hybridization set to SP3 for atom 2\n",
      "[17:07:10] UFFTYPER: Warning: hybridization set to SP3 for atom 2\n",
      "[17:07:10] UFFTYPER: Warning: hybridization set to SP3 for atom 2\n",
      "[17:07:10] UFFTYPER: Warning: hybridization set to SP3 for atom 2\n",
      "[17:07:10] UFFTYPER: Warning: hybridization set to SP3 for atom 2\n",
      "[17:07:10] UFFTYPER: Warning: hybridization set to SP3 for atom 2\n",
      "[17:07:10] UFFTYPER: Warning: hybridization set to SP3 for atom 2\n",
      "[17:07:10] UFFTYPER: Warning: hybridization set to SP3 for atom 2\n",
      "[17:07:10] UFFTYPER: Warning: hybridization set to SP3 for atom 2\n",
      "[17:07:10] UFFTYPER: Warning: hybridization set to SP3 for atom 2\n",
      "[17:07:10] UFFTYPER: Warning: hybridization set to SP3 for atom 2\n",
      "[17:07:10] UFFTYPER: Warning: hybridization set to SP3 for atom 2\n",
      "[17:07:10] UFFTYPER: Warning: hybridization set to SP3 for atom 2\n",
      "[17:07:10] UFFTYPER: Warning: hybridization set to SP3 for atom 2\n",
      "[17:07:10] UFFTYPER: Warning: hybridization set to SP3 for atom 2\n",
      "[17:07:10] UFFTYPER: Warning: hybridization set to SP3 for atom 2\n",
      "[17:07:10] UFFTYPER: Warning: hybridization set to SP3 for atom 2\n",
      "[17:07:10] UFFTYPER: Warning: hybridization set to SP3 for atom 2\n",
      "[17:07:10] UFFTYPER: Warning: hybridization set to SP3 for atom 2\n",
      "[17:07:10] UFFTYPER: Warning: hybridization set to SP3 for atom 2\n",
      "[17:07:10] UFFTYPER: Warning: hybridization set to SP3 for atom 2\n",
      "[17:07:10] UFFTYPER: Warning: hybridization set to SP3 for atom 2\n",
      "[17:07:10] UFFTYPER: Warning: hybridization set to SP3 for atom 2\n",
      "[17:07:10] UFFTYPER: Warning: hybridization set to SP3 for atom 2\n",
      "[17:07:10] UFFTYPER: Warning: hybridization set to SP3 for atom 2\n"
     ]
    },
    {
     "ename": "KeyboardInterrupt",
     "evalue": "",
     "output_type": "error",
     "traceback": [
      "\u001B[0;31m---------------------------------------------------------------------------\u001B[0m",
      "\u001B[0;31mKeyboardInterrupt\u001B[0m                         Traceback (most recent call last)",
      "Cell \u001B[0;32mIn[5], line 64\u001B[0m\n\u001B[1;32m     62\u001B[0m \u001B[38;5;28;01mfor\u001B[39;00m params \u001B[38;5;129;01min\u001B[39;00m params_3D:\n\u001B[1;32m     63\u001B[0m     mem\u001B[38;5;241m.\u001B[39mcache(get_3d_predictions, ignore\u001B[38;5;241m=\u001B[39m[\u001B[38;5;124m'\u001B[39m\u001B[38;5;124mn_jobs\u001B[39m\u001B[38;5;124m'\u001B[39m, \u001B[38;5;124m'\u001B[39m\u001B[38;5;124mdtype\u001B[39m\u001B[38;5;124m'\u001B[39m])(train\u001B[38;5;241m.\u001B[39msmi, params, dtype\u001B[38;5;241m=\u001B[39mnp\u001B[38;5;241m.\u001B[39mfloat32)\n\u001B[0;32m---> 64\u001B[0m     \u001B[43mmem\u001B[49m\u001B[38;5;241;43m.\u001B[39;49m\u001B[43mcache\u001B[49m\u001B[43m(\u001B[49m\u001B[43mget_3d_predictions\u001B[49m\u001B[43m,\u001B[49m\u001B[43m \u001B[49m\u001B[43mignore\u001B[49m\u001B[38;5;241;43m=\u001B[39;49m\u001B[43m[\u001B[49m\u001B[38;5;124;43m'\u001B[39;49m\u001B[38;5;124;43mn_jobs\u001B[39;49m\u001B[38;5;124;43m'\u001B[39;49m\u001B[43m,\u001B[49m\u001B[43m \u001B[49m\u001B[38;5;124;43m'\u001B[39;49m\u001B[38;5;124;43mdtype\u001B[39;49m\u001B[38;5;124;43m'\u001B[39;49m\u001B[43m]\u001B[49m\u001B[43m)\u001B[49m\u001B[43m(\u001B[49m\u001B[43mtest\u001B[49m\u001B[38;5;241;43m.\u001B[39;49m\u001B[43msmi\u001B[49m\u001B[43m,\u001B[49m\u001B[43m \u001B[49m\u001B[43mparams\u001B[49m\u001B[43m,\u001B[49m\u001B[43m \u001B[49m\u001B[43mdtype\u001B[49m\u001B[38;5;241;43m=\u001B[39;49m\u001B[43mnp\u001B[49m\u001B[38;5;241;43m.\u001B[39;49m\u001B[43mfloat32\u001B[49m\u001B[43m)\u001B[49m\n\u001B[1;32m     67\u001B[0m \u001B[38;5;66;03m# for params in hft_params:\u001B[39;00m\n\u001B[1;32m     68\u001B[0m \u001B[38;5;66;03m#     feats = mem.cache(get_hft_predictions, ignore=['n_jobs', 'dtype', 'device'])(train.smi, params, device='cpu', n_jobs=-1)\u001B[39;00m\n\u001B[1;32m     69\u001B[0m     \n\u001B[0;32m   (...)\u001B[0m\n\u001B[1;32m     74\u001B[0m \u001B[38;5;66;03m#     feats = mem.cache(trans.transform)(train.smi)\u001B[39;00m\n\u001B[1;32m     75\u001B[0m \u001B[38;5;66;03m#     print(feats.shape[1])\u001B[39;00m\n",
      "File \u001B[0;32m~/miniforge3/envs/chem/lib/python3.10/site-packages/joblib/memory.py:577\u001B[0m, in \u001B[0;36mMemorizedFunc.__call__\u001B[0;34m(self, *args, **kwargs)\u001B[0m\n\u001B[1;32m    575\u001B[0m \u001B[38;5;28;01mdef\u001B[39;00m \u001B[38;5;21m__call__\u001B[39m(\u001B[38;5;28mself\u001B[39m, \u001B[38;5;241m*\u001B[39margs, \u001B[38;5;241m*\u001B[39m\u001B[38;5;241m*\u001B[39mkwargs):\n\u001B[1;32m    576\u001B[0m     \u001B[38;5;66;03m# Return the output, without the metadata\u001B[39;00m\n\u001B[0;32m--> 577\u001B[0m     \u001B[38;5;28;01mreturn\u001B[39;00m \u001B[38;5;28;43mself\u001B[39;49m\u001B[38;5;241;43m.\u001B[39;49m\u001B[43m_cached_call\u001B[49m\u001B[43m(\u001B[49m\u001B[43margs\u001B[49m\u001B[43m,\u001B[49m\u001B[43m \u001B[49m\u001B[43mkwargs\u001B[49m\u001B[43m,\u001B[49m\u001B[43m \u001B[49m\u001B[43mshelving\u001B[49m\u001B[38;5;241;43m=\u001B[39;49m\u001B[38;5;28;43;01mFalse\u001B[39;49;00m\u001B[43m)\u001B[49m[\u001B[38;5;241m0\u001B[39m]\n",
      "File \u001B[0;32m~/miniforge3/envs/chem/lib/python3.10/site-packages/joblib/memory.py:532\u001B[0m, in \u001B[0;36mMemorizedFunc._cached_call\u001B[0;34m(self, args, kwargs, shelving)\u001B[0m\n\u001B[1;32m    526\u001B[0m     \u001B[38;5;28mself\u001B[39m\u001B[38;5;241m.\u001B[39mwarn(\n\u001B[1;32m    527\u001B[0m         \u001B[38;5;124mf\u001B[39m\u001B[38;5;124m\"\u001B[39m\u001B[38;5;124mComputing func \u001B[39m\u001B[38;5;132;01m{\u001B[39;00mfunc_name\u001B[38;5;132;01m}\u001B[39;00m\u001B[38;5;124m, argument hash \u001B[39m\u001B[38;5;132;01m{\u001B[39;00margs_id\u001B[38;5;132;01m}\u001B[39;00m\u001B[38;5;124m \u001B[39m\u001B[38;5;124m\"\u001B[39m\n\u001B[1;32m    528\u001B[0m         \u001B[38;5;124mf\u001B[39m\u001B[38;5;124m\"\u001B[39m\u001B[38;5;124min location \u001B[39m\u001B[38;5;132;01m{\u001B[39;00mlocation\u001B[38;5;132;01m}\u001B[39;00m\u001B[38;5;124m\"\u001B[39m\n\u001B[1;32m    529\u001B[0m     )\n\u001B[1;32m    531\u001B[0m \u001B[38;5;66;03m# Returns the output but not the metadata\u001B[39;00m\n\u001B[0;32m--> 532\u001B[0m \u001B[38;5;28;01mreturn\u001B[39;00m \u001B[38;5;28;43mself\u001B[39;49m\u001B[38;5;241;43m.\u001B[39;49m\u001B[43m_call\u001B[49m\u001B[43m(\u001B[49m\u001B[43mcall_id\u001B[49m\u001B[43m,\u001B[49m\u001B[43m \u001B[49m\u001B[43margs\u001B[49m\u001B[43m,\u001B[49m\u001B[43m \u001B[49m\u001B[43mkwargs\u001B[49m\u001B[43m,\u001B[49m\u001B[43m \u001B[49m\u001B[43mshelving\u001B[49m\u001B[43m)\u001B[49m\n",
      "File \u001B[0;32m~/miniforge3/envs/chem/lib/python3.10/site-packages/joblib/memory.py:771\u001B[0m, in \u001B[0;36mMemorizedFunc._call\u001B[0;34m(self, call_id, args, kwargs, shelving)\u001B[0m\n\u001B[1;32m    769\u001B[0m \u001B[38;5;28mself\u001B[39m\u001B[38;5;241m.\u001B[39m_before_call(args, kwargs)\n\u001B[1;32m    770\u001B[0m start_time \u001B[38;5;241m=\u001B[39m time\u001B[38;5;241m.\u001B[39mtime()\n\u001B[0;32m--> 771\u001B[0m output \u001B[38;5;241m=\u001B[39m \u001B[38;5;28;43mself\u001B[39;49m\u001B[38;5;241;43m.\u001B[39;49m\u001B[43mfunc\u001B[49m\u001B[43m(\u001B[49m\u001B[38;5;241;43m*\u001B[39;49m\u001B[43margs\u001B[49m\u001B[43m,\u001B[49m\u001B[43m \u001B[49m\u001B[38;5;241;43m*\u001B[39;49m\u001B[38;5;241;43m*\u001B[39;49m\u001B[43mkwargs\u001B[49m\u001B[43m)\u001B[49m\n\u001B[1;32m    772\u001B[0m \u001B[38;5;28;01mreturn\u001B[39;00m \u001B[38;5;28mself\u001B[39m\u001B[38;5;241m.\u001B[39m_after_call(call_id, args, kwargs, shelving,\n\u001B[1;32m    773\u001B[0m                         output, start_time)\n",
      "File \u001B[0;32m~/kaggle_05092024/src/descriptors.py:57\u001B[0m, in \u001B[0;36mget_3d_predictions\u001B[0;34m(smiles, params, dtype, n_jobs)\u001B[0m\n\u001B[1;32m     56\u001B[0m \u001B[38;5;28;01mdef\u001B[39;00m \u001B[38;5;21mget_3d_predictions\u001B[39m(smiles: pd\u001B[38;5;241m.\u001B[39mSeries, params: \u001B[38;5;28mdict\u001B[39m, dtype\u001B[38;5;241m=\u001B[39mnp\u001B[38;5;241m.\u001B[39mfloat32, n_jobs\u001B[38;5;241m=\u001B[39m\u001B[38;5;241m-\u001B[39m\u001B[38;5;241m1\u001B[39m):\n\u001B[0;32m---> 57\u001B[0m     mols \u001B[38;5;241m=\u001B[39m \u001B[43mmem\u001B[49m\u001B[38;5;241;43m.\u001B[39;49m\u001B[43mcache\u001B[49m\u001B[43m(\u001B[49m\u001B[43membed3d\u001B[49m\u001B[43m)\u001B[49m\u001B[43m(\u001B[49m\u001B[43msmiles\u001B[49m\u001B[43m,\u001B[49m\u001B[43m \u001B[49m\u001B[43mn_confs\u001B[49m\u001B[38;5;241;43m=\u001B[39;49m\u001B[38;5;28;43;01mNone\u001B[39;49;00m\u001B[43m)\u001B[49m\n\u001B[1;32m     58\u001B[0m     trans \u001B[38;5;241m=\u001B[39m FPVecTransformer(\u001B[38;5;241m*\u001B[39m\u001B[38;5;241m*\u001B[39mparams, n_jobs\u001B[38;5;241m=\u001B[39mn_jobs, dtype\u001B[38;5;241m=\u001B[39mdtype)\n\u001B[1;32m     59\u001B[0m     \u001B[38;5;28;01mreturn\u001B[39;00m trans\u001B[38;5;241m.\u001B[39mtransform(mols)\n",
      "File \u001B[0;32m~/miniforge3/envs/chem/lib/python3.10/site-packages/joblib/memory.py:577\u001B[0m, in \u001B[0;36mMemorizedFunc.__call__\u001B[0;34m(self, *args, **kwargs)\u001B[0m\n\u001B[1;32m    575\u001B[0m \u001B[38;5;28;01mdef\u001B[39;00m \u001B[38;5;21m__call__\u001B[39m(\u001B[38;5;28mself\u001B[39m, \u001B[38;5;241m*\u001B[39margs, \u001B[38;5;241m*\u001B[39m\u001B[38;5;241m*\u001B[39mkwargs):\n\u001B[1;32m    576\u001B[0m     \u001B[38;5;66;03m# Return the output, without the metadata\u001B[39;00m\n\u001B[0;32m--> 577\u001B[0m     \u001B[38;5;28;01mreturn\u001B[39;00m \u001B[38;5;28;43mself\u001B[39;49m\u001B[38;5;241;43m.\u001B[39;49m\u001B[43m_cached_call\u001B[49m\u001B[43m(\u001B[49m\u001B[43margs\u001B[49m\u001B[43m,\u001B[49m\u001B[43m \u001B[49m\u001B[43mkwargs\u001B[49m\u001B[43m,\u001B[49m\u001B[43m \u001B[49m\u001B[43mshelving\u001B[49m\u001B[38;5;241;43m=\u001B[39;49m\u001B[38;5;28;43;01mFalse\u001B[39;49;00m\u001B[43m)\u001B[49m[\u001B[38;5;241m0\u001B[39m]\n",
      "File \u001B[0;32m~/miniforge3/envs/chem/lib/python3.10/site-packages/joblib/memory.py:532\u001B[0m, in \u001B[0;36mMemorizedFunc._cached_call\u001B[0;34m(self, args, kwargs, shelving)\u001B[0m\n\u001B[1;32m    526\u001B[0m     \u001B[38;5;28mself\u001B[39m\u001B[38;5;241m.\u001B[39mwarn(\n\u001B[1;32m    527\u001B[0m         \u001B[38;5;124mf\u001B[39m\u001B[38;5;124m\"\u001B[39m\u001B[38;5;124mComputing func \u001B[39m\u001B[38;5;132;01m{\u001B[39;00mfunc_name\u001B[38;5;132;01m}\u001B[39;00m\u001B[38;5;124m, argument hash \u001B[39m\u001B[38;5;132;01m{\u001B[39;00margs_id\u001B[38;5;132;01m}\u001B[39;00m\u001B[38;5;124m \u001B[39m\u001B[38;5;124m\"\u001B[39m\n\u001B[1;32m    528\u001B[0m         \u001B[38;5;124mf\u001B[39m\u001B[38;5;124m\"\u001B[39m\u001B[38;5;124min location \u001B[39m\u001B[38;5;132;01m{\u001B[39;00mlocation\u001B[38;5;132;01m}\u001B[39;00m\u001B[38;5;124m\"\u001B[39m\n\u001B[1;32m    529\u001B[0m     )\n\u001B[1;32m    531\u001B[0m \u001B[38;5;66;03m# Returns the output but not the metadata\u001B[39;00m\n\u001B[0;32m--> 532\u001B[0m \u001B[38;5;28;01mreturn\u001B[39;00m \u001B[38;5;28;43mself\u001B[39;49m\u001B[38;5;241;43m.\u001B[39;49m\u001B[43m_call\u001B[49m\u001B[43m(\u001B[49m\u001B[43mcall_id\u001B[49m\u001B[43m,\u001B[49m\u001B[43m \u001B[49m\u001B[43margs\u001B[49m\u001B[43m,\u001B[49m\u001B[43m \u001B[49m\u001B[43mkwargs\u001B[49m\u001B[43m,\u001B[49m\u001B[43m \u001B[49m\u001B[43mshelving\u001B[49m\u001B[43m)\u001B[49m\n",
      "File \u001B[0;32m~/miniforge3/envs/chem/lib/python3.10/site-packages/joblib/memory.py:771\u001B[0m, in \u001B[0;36mMemorizedFunc._call\u001B[0;34m(self, call_id, args, kwargs, shelving)\u001B[0m\n\u001B[1;32m    769\u001B[0m \u001B[38;5;28mself\u001B[39m\u001B[38;5;241m.\u001B[39m_before_call(args, kwargs)\n\u001B[1;32m    770\u001B[0m start_time \u001B[38;5;241m=\u001B[39m time\u001B[38;5;241m.\u001B[39mtime()\n\u001B[0;32m--> 771\u001B[0m output \u001B[38;5;241m=\u001B[39m \u001B[38;5;28;43mself\u001B[39;49m\u001B[38;5;241;43m.\u001B[39;49m\u001B[43mfunc\u001B[49m\u001B[43m(\u001B[49m\u001B[38;5;241;43m*\u001B[39;49m\u001B[43margs\u001B[49m\u001B[43m,\u001B[49m\u001B[43m \u001B[49m\u001B[38;5;241;43m*\u001B[39;49m\u001B[38;5;241;43m*\u001B[39;49m\u001B[43mkwargs\u001B[49m\u001B[43m)\u001B[49m\n\u001B[1;32m    772\u001B[0m \u001B[38;5;28;01mreturn\u001B[39;00m \u001B[38;5;28mself\u001B[39m\u001B[38;5;241m.\u001B[39m_after_call(call_id, args, kwargs, shelving,\n\u001B[1;32m    773\u001B[0m                         output, start_time)\n",
      "File \u001B[0;32m~/kaggle_05092024/src/utils.py:126\u001B[0m, in \u001B[0;36membed3d\u001B[0;34m(smiles, n_jobs, n_confs)\u001B[0m\n\u001B[1;32m    123\u001B[0m \u001B[38;5;28;01mif\u001B[39;00m n_jobs \u001B[38;5;241m==\u001B[39m \u001B[38;5;241m-\u001B[39m\u001B[38;5;241m1\u001B[39m:\n\u001B[1;32m    124\u001B[0m     n_jobs \u001B[38;5;241m=\u001B[39m mp\u001B[38;5;241m.\u001B[39mcpu_count()\n\u001B[0;32m--> 126\u001B[0m \u001B[38;5;28;01mreturn\u001B[39;00m \u001B[43mParallel\u001B[49m\u001B[43m(\u001B[49m\u001B[43mn_jobs\u001B[49m\u001B[38;5;241;43m=\u001B[39;49m\u001B[43mn_jobs\u001B[49m\u001B[43m)\u001B[49m\u001B[43m(\u001B[49m\u001B[43mdelayed\u001B[49m\u001B[43m(\u001B[49m\u001B[43mdm\u001B[49m\u001B[38;5;241;43m.\u001B[39;49m\u001B[43mconformers\u001B[49m\u001B[38;5;241;43m.\u001B[39;49m\u001B[43mgenerate\u001B[49m\u001B[43m)\u001B[49m\u001B[43m(\u001B[49m\u001B[43mmol\u001B[49m\u001B[43m,\u001B[49m\u001B[43m \u001B[49m\u001B[43mn_confs\u001B[49m\u001B[38;5;241;43m=\u001B[39;49m\u001B[43mn_confs\u001B[49m\u001B[43m)\u001B[49m\u001B[43m \u001B[49m\u001B[38;5;28;43;01mfor\u001B[39;49;00m\u001B[43m \u001B[49m\u001B[43mmol\u001B[49m\u001B[43m \u001B[49m\u001B[38;5;129;43;01min\u001B[39;49;00m\u001B[43m \u001B[49m\u001B[43mmols\u001B[49m\u001B[43m)\u001B[49m\n",
      "File \u001B[0;32m~/miniforge3/envs/chem/lib/python3.10/site-packages/joblib/parallel.py:2007\u001B[0m, in \u001B[0;36mParallel.__call__\u001B[0;34m(self, iterable)\u001B[0m\n\u001B[1;32m   2001\u001B[0m \u001B[38;5;66;03m# The first item from the output is blank, but it makes the interpreter\u001B[39;00m\n\u001B[1;32m   2002\u001B[0m \u001B[38;5;66;03m# progress until it enters the Try/Except block of the generator and\u001B[39;00m\n\u001B[1;32m   2003\u001B[0m \u001B[38;5;66;03m# reaches the first `yield` statement. This starts the asynchronous\u001B[39;00m\n\u001B[1;32m   2004\u001B[0m \u001B[38;5;66;03m# dispatch of the tasks to the workers.\u001B[39;00m\n\u001B[1;32m   2005\u001B[0m \u001B[38;5;28mnext\u001B[39m(output)\n\u001B[0;32m-> 2007\u001B[0m \u001B[38;5;28;01mreturn\u001B[39;00m output \u001B[38;5;28;01mif\u001B[39;00m \u001B[38;5;28mself\u001B[39m\u001B[38;5;241m.\u001B[39mreturn_generator \u001B[38;5;28;01melse\u001B[39;00m \u001B[38;5;28;43mlist\u001B[39;49m\u001B[43m(\u001B[49m\u001B[43moutput\u001B[49m\u001B[43m)\u001B[49m\n",
      "File \u001B[0;32m~/miniforge3/envs/chem/lib/python3.10/site-packages/joblib/parallel.py:1650\u001B[0m, in \u001B[0;36mParallel._get_outputs\u001B[0;34m(self, iterator, pre_dispatch)\u001B[0m\n\u001B[1;32m   1647\u001B[0m     \u001B[38;5;28;01myield\u001B[39;00m\n\u001B[1;32m   1649\u001B[0m     \u001B[38;5;28;01mwith\u001B[39;00m \u001B[38;5;28mself\u001B[39m\u001B[38;5;241m.\u001B[39m_backend\u001B[38;5;241m.\u001B[39mretrieval_context():\n\u001B[0;32m-> 1650\u001B[0m         \u001B[38;5;28;01myield from\u001B[39;00m \u001B[38;5;28mself\u001B[39m\u001B[38;5;241m.\u001B[39m_retrieve()\n\u001B[1;32m   1652\u001B[0m \u001B[38;5;28;01mexcept\u001B[39;00m \u001B[38;5;167;01mGeneratorExit\u001B[39;00m:\n\u001B[1;32m   1653\u001B[0m     \u001B[38;5;66;03m# The generator has been garbage collected before being fully\u001B[39;00m\n\u001B[1;32m   1654\u001B[0m     \u001B[38;5;66;03m# consumed. This aborts the remaining tasks if possible and warn\u001B[39;00m\n\u001B[1;32m   1655\u001B[0m     \u001B[38;5;66;03m# the user if necessary.\u001B[39;00m\n\u001B[1;32m   1656\u001B[0m     \u001B[38;5;28mself\u001B[39m\u001B[38;5;241m.\u001B[39m_exception \u001B[38;5;241m=\u001B[39m \u001B[38;5;28;01mTrue\u001B[39;00m\n",
      "File \u001B[0;32m~/miniforge3/envs/chem/lib/python3.10/site-packages/joblib/parallel.py:1762\u001B[0m, in \u001B[0;36mParallel._retrieve\u001B[0;34m(self)\u001B[0m\n\u001B[1;32m   1757\u001B[0m \u001B[38;5;66;03m# If the next job is not ready for retrieval yet, we just wait for\u001B[39;00m\n\u001B[1;32m   1758\u001B[0m \u001B[38;5;66;03m# async callbacks to progress.\u001B[39;00m\n\u001B[1;32m   1759\u001B[0m \u001B[38;5;28;01mif\u001B[39;00m ((\u001B[38;5;28mlen\u001B[39m(\u001B[38;5;28mself\u001B[39m\u001B[38;5;241m.\u001B[39m_jobs) \u001B[38;5;241m==\u001B[39m \u001B[38;5;241m0\u001B[39m) \u001B[38;5;129;01mor\u001B[39;00m\n\u001B[1;32m   1760\u001B[0m     (\u001B[38;5;28mself\u001B[39m\u001B[38;5;241m.\u001B[39m_jobs[\u001B[38;5;241m0\u001B[39m]\u001B[38;5;241m.\u001B[39mget_status(\n\u001B[1;32m   1761\u001B[0m         timeout\u001B[38;5;241m=\u001B[39m\u001B[38;5;28mself\u001B[39m\u001B[38;5;241m.\u001B[39mtimeout) \u001B[38;5;241m==\u001B[39m TASK_PENDING)):\n\u001B[0;32m-> 1762\u001B[0m     \u001B[43mtime\u001B[49m\u001B[38;5;241;43m.\u001B[39;49m\u001B[43msleep\u001B[49m\u001B[43m(\u001B[49m\u001B[38;5;241;43m0.01\u001B[39;49m\u001B[43m)\u001B[49m\n\u001B[1;32m   1763\u001B[0m     \u001B[38;5;28;01mcontinue\u001B[39;00m\n\u001B[1;32m   1765\u001B[0m \u001B[38;5;66;03m# We need to be careful: the job list can be filling up as\u001B[39;00m\n\u001B[1;32m   1766\u001B[0m \u001B[38;5;66;03m# we empty it and Python list are not thread-safe by\u001B[39;00m\n\u001B[1;32m   1767\u001B[0m \u001B[38;5;66;03m# default hence the use of the lock\u001B[39;00m\n",
      "\u001B[0;31mKeyboardInterrupt\u001B[0m: "
     ]
    }
   ],
   "execution_count": 5
  },
  {
   "metadata": {
    "ExecuteTime": {
     "end_time": "2024-09-08T15:12:28.518067Z",
     "start_time": "2024-09-08T15:12:28.509056Z"
    }
   },
   "cell_type": "code",
   "source": [
    "import datamol as dm\n",
    "from src.utils import smi2mol\n",
    "\n",
    "smi = '[H]c1c2c(c3c(C([H])([H])[H])c([H])c(=O)oc3c1[H])C1(C([H])([H])[H])OOC1(C([H])([H])[H])O2'\n",
    "mol = smi2mol(smi)\n",
    "mol"
   ],
   "id": "c39d67edd936c0e7",
   "outputs": [
    {
     "data": {
      "text/plain": [
       "<rdkit.Chem.rdchem.Mol at 0x7f763fe68eb0>"
      ],
      "image/png": "[encoded data removed]"
     },
     "execution_count": 10,
     "metadata": {},
     "output_type": "execute_result"
    }
   ],
   "execution_count": 10
  },
  {
   "metadata": {
    "ExecuteTime": {
     "end_time": "2024-09-08T15:12:39.423837Z",
     "start_time": "2024-09-08T15:12:29.878030Z"
    }
   },
   "cell_type": "code",
   "source": [
    "# dm.conformers.generate(mol, num_threads=12, n_confs=1, method='ETDG')\n",
    "dm.conformers.generate(mol, num_threads=12, use_random_coords=True, energy_iterations=500)\n",
    "# dm.conformers.generate(mol, random_seed=1)"
   ],
   "id": "3befb449ed511746",
   "outputs": [
    {
     "ename": "ValueError",
     "evalue": "Conformers embedding failed for [H]c1c2c(c3c(C([H])([H])[H])c([H])c(=O)oc3c1[H])C1(C([H])([H])[H])OOC1(C([H])([H])[H])O2",
     "output_type": "error",
     "traceback": [
      "\u001B[0;31m---------------------------------------------------------------------------\u001B[0m",
      "\u001B[0;31mValueError\u001B[0m                                Traceback (most recent call last)",
      "Cell \u001B[0;32mIn[11], line 2\u001B[0m\n\u001B[1;32m      1\u001B[0m \u001B[38;5;66;03m# dm.conformers.generate(mol, num_threads=12, n_confs=1, method='ETDG')\u001B[39;00m\n\u001B[0;32m----> 2\u001B[0m \u001B[43mdm\u001B[49m\u001B[38;5;241;43m.\u001B[39;49m\u001B[43mconformers\u001B[49m\u001B[38;5;241;43m.\u001B[39;49m\u001B[43mgenerate\u001B[49m\u001B[43m(\u001B[49m\u001B[43mmol\u001B[49m\u001B[43m,\u001B[49m\u001B[43m \u001B[49m\u001B[43mnum_threads\u001B[49m\u001B[38;5;241;43m=\u001B[39;49m\u001B[38;5;241;43m12\u001B[39;49m\u001B[43m,\u001B[49m\u001B[43m \u001B[49m\u001B[43muse_random_coords\u001B[49m\u001B[38;5;241;43m=\u001B[39;49m\u001B[38;5;28;43;01mTrue\u001B[39;49;00m\u001B[43m,\u001B[49m\u001B[43m \u001B[49m\u001B[43menergy_iterations\u001B[49m\u001B[38;5;241;43m=\u001B[39;49m\u001B[38;5;241;43m500\u001B[39;49m\u001B[43m)\u001B[49m\n\u001B[1;32m      3\u001B[0m \u001B[38;5;66;03m# dm.conformers.generate(mol, random_seed=1)\u001B[39;00m\n",
      "File \u001B[0;32m~/miniforge3/envs/chem/lib/python3.10/site-packages/datamol/conformers/_conformers.py:171\u001B[0m, in \u001B[0;36mgenerate\u001B[0;34m(mol, n_confs, use_random_coords, enforce_chirality, num_threads, rms_cutoff, clear_existing, align_conformers, minimize_energy, sort_by_energy, method, forcefield, ewindow, eratio, energy_iterations, warning_not_converged, random_seed, add_hs, ignore_failure, embed_params, verbose)\u001B[0m\n\u001B[1;32m    167\u001B[0m             logger\u001B[38;5;241m.\u001B[39mwarning(\n\u001B[1;32m    168\u001B[0m                 \u001B[38;5;124mf\u001B[39m\u001B[38;5;124m\"\u001B[39m\u001B[38;5;124mConformers embedding failed for \u001B[39m\u001B[38;5;132;01m{\u001B[39;00mconvert\u001B[38;5;241m.\u001B[39mto_smiles(mol)\u001B[38;5;132;01m}\u001B[39;00m\u001B[38;5;124m. Returning None because ignore_failure is set.\u001B[39m\u001B[38;5;124m\"\u001B[39m\n\u001B[1;32m    169\u001B[0m             )\n\u001B[1;32m    170\u001B[0m         \u001B[38;5;28;01mreturn\u001B[39;00m \u001B[38;5;28;01mNone\u001B[39;00m\n\u001B[0;32m--> 171\u001B[0m     \u001B[38;5;28;01mraise\u001B[39;00m \u001B[38;5;167;01mValueError\u001B[39;00m(\u001B[38;5;124mf\u001B[39m\u001B[38;5;124m\"\u001B[39m\u001B[38;5;124mConformers embedding failed for \u001B[39m\u001B[38;5;132;01m{\u001B[39;00mconvert\u001B[38;5;241m.\u001B[39mto_smiles(mol)\u001B[38;5;132;01m}\u001B[39;00m\u001B[38;5;124m\"\u001B[39m)\n\u001B[1;32m    173\u001B[0m energies \u001B[38;5;241m=\u001B[39m \u001B[38;5;28;01mNone\u001B[39;00m\n\u001B[1;32m    175\u001B[0m \u001B[38;5;66;03m# Minimize energy\u001B[39;00m\n",
      "\u001B[0;31mValueError\u001B[0m: Conformers embedding failed for [H]c1c2c(c3c(C([H])([H])[H])c([H])c(=O)oc3c1[H])C1(C([H])([H])[H])OOC1(C([H])([H])[H])O2"
     ]
    }
   ],
   "execution_count": 11
  },
  {
   "metadata": {},
   "cell_type": "code",
   "outputs": [],
   "execution_count": null,
   "source": "",
   "id": "4355ee203523fd1b"
  },
  {
   "metadata": {},
   "cell_type": "code",
   "outputs": [],
   "execution_count": null,
   "source": "",
   "id": "bb05163c1feec411"
  },
  {
   "metadata": {},
   "cell_type": "code",
   "outputs": [],
   "execution_count": null,
   "source": "",
   "id": "4f0e51d828a9628e"
  },
  {
   "metadata": {
    "ExecuteTime": {
     "end_time": "2024-09-08T15:03:50.447440Z",
     "start_time": "2024-09-08T15:03:47.762865Z"
    }
   },
   "cell_type": "code",
   "source": "embed3d(pd.Series(['[H]c1c2c(c3c(C([H])([H])[H])c([H])c(=O)oc3c1[H])C1(C([H])([H])[H])OOC1(C([H])([H])[H])O2']))",
   "id": "41fd851878785a86",
   "outputs": [
    {
     "ename": "ValueError",
     "evalue": "Conformers embedding failed for [H]c1c2c(c3c(C([H])([H])[H])c([H])c(=O)oc3c1[H])C1(C([H])([H])[H])OOC1(C([H])([H])[H])O2",
     "output_type": "error",
     "traceback": [
      "\u001B[0;31m---------------------------------------------------------------------------\u001B[0m",
      "\u001B[0;31m_RemoteTraceback\u001B[0m                          Traceback (most recent call last)",
      "\u001B[0;31m_RemoteTraceback\u001B[0m: \n\"\"\"\nTraceback (most recent call last):\n  File \"/home/ergot/miniforge3/envs/chem/lib/python3.10/site-packages/joblib/externals/loky/process_executor.py\", line 463, in _process_worker\n    r = call_item()\n  File \"/home/ergot/miniforge3/envs/chem/lib/python3.10/site-packages/joblib/externals/loky/process_executor.py\", line 291, in __call__\n    return self.fn(*self.args, **self.kwargs)\n  File \"/home/ergot/miniforge3/envs/chem/lib/python3.10/site-packages/joblib/parallel.py\", line 598, in __call__\n    return [func(*args, **kwargs)\n  File \"/home/ergot/miniforge3/envs/chem/lib/python3.10/site-packages/joblib/parallel.py\", line 598, in <listcomp>\n    return [func(*args, **kwargs)\n  File \"/home/ergot/miniforge3/envs/chem/lib/python3.10/site-packages/datamol/conformers/_conformers.py\", line 171, in generate\n    raise ValueError(f\"Conformers embedding failed for {convert.to_smiles(mol)}\")\nValueError: Conformers embedding failed for [H]c1c2c(c3c(C([H])([H])[H])c([H])c(=O)oc3c1[H])C1(C([H])([H])[H])OOC1(C([H])([H])[H])O2\n\"\"\"",
      "\nThe above exception was the direct cause of the following exception:\n",
      "\u001B[0;31mValueError\u001B[0m                                Traceback (most recent call last)",
      "Cell \u001B[0;32mIn[10], line 1\u001B[0m\n\u001B[0;32m----> 1\u001B[0m \u001B[43membed3d\u001B[49m\u001B[43m(\u001B[49m\u001B[43mpd\u001B[49m\u001B[38;5;241;43m.\u001B[39;49m\u001B[43mSeries\u001B[49m\u001B[43m(\u001B[49m\u001B[43m[\u001B[49m\u001B[38;5;124;43m'\u001B[39;49m\u001B[38;5;124;43m[H]c1c2c(c3c(C([H])([H])[H])c([H])c(=O)oc3c1[H])C1(C([H])([H])[H])OOC1(C([H])([H])[H])O2\u001B[39;49m\u001B[38;5;124;43m'\u001B[39;49m\u001B[43m]\u001B[49m\u001B[43m)\u001B[49m\u001B[43m)\u001B[49m\n",
      "File \u001B[0;32m~/kaggle_05092024/src/utils.py:126\u001B[0m, in \u001B[0;36membed3d\u001B[0;34m(smiles, n_jobs, n_confs)\u001B[0m\n\u001B[1;32m    123\u001B[0m \u001B[38;5;28;01mif\u001B[39;00m n_jobs \u001B[38;5;241m==\u001B[39m \u001B[38;5;241m-\u001B[39m\u001B[38;5;241m1\u001B[39m:\n\u001B[1;32m    124\u001B[0m     n_jobs \u001B[38;5;241m=\u001B[39m mp\u001B[38;5;241m.\u001B[39mcpu_count()\n\u001B[0;32m--> 126\u001B[0m \u001B[38;5;28;01mreturn\u001B[39;00m \u001B[43mParallel\u001B[49m\u001B[43m(\u001B[49m\u001B[43mn_jobs\u001B[49m\u001B[38;5;241;43m=\u001B[39;49m\u001B[43mn_jobs\u001B[49m\u001B[43m)\u001B[49m\u001B[43m(\u001B[49m\u001B[43mdelayed\u001B[49m\u001B[43m(\u001B[49m\u001B[43mdm\u001B[49m\u001B[38;5;241;43m.\u001B[39;49m\u001B[43mconformers\u001B[49m\u001B[38;5;241;43m.\u001B[39;49m\u001B[43mgenerate\u001B[49m\u001B[43m)\u001B[49m\u001B[43m(\u001B[49m\u001B[43mmol\u001B[49m\u001B[43m,\u001B[49m\u001B[43m \u001B[49m\u001B[43mn_confs\u001B[49m\u001B[38;5;241;43m=\u001B[39;49m\u001B[43mn_confs\u001B[49m\u001B[43m)\u001B[49m\u001B[43m \u001B[49m\u001B[38;5;28;43;01mfor\u001B[39;49;00m\u001B[43m \u001B[49m\u001B[43mmol\u001B[49m\u001B[43m \u001B[49m\u001B[38;5;129;43;01min\u001B[39;49;00m\u001B[43m \u001B[49m\u001B[43mmols\u001B[49m\u001B[43m)\u001B[49m\n",
      "File \u001B[0;32m~/miniforge3/envs/chem/lib/python3.10/site-packages/joblib/parallel.py:2007\u001B[0m, in \u001B[0;36mParallel.__call__\u001B[0;34m(self, iterable)\u001B[0m\n\u001B[1;32m   2001\u001B[0m \u001B[38;5;66;03m# The first item from the output is blank, but it makes the interpreter\u001B[39;00m\n\u001B[1;32m   2002\u001B[0m \u001B[38;5;66;03m# progress until it enters the Try/Except block of the generator and\u001B[39;00m\n\u001B[1;32m   2003\u001B[0m \u001B[38;5;66;03m# reaches the first `yield` statement. This starts the asynchronous\u001B[39;00m\n\u001B[1;32m   2004\u001B[0m \u001B[38;5;66;03m# dispatch of the tasks to the workers.\u001B[39;00m\n\u001B[1;32m   2005\u001B[0m \u001B[38;5;28mnext\u001B[39m(output)\n\u001B[0;32m-> 2007\u001B[0m \u001B[38;5;28;01mreturn\u001B[39;00m output \u001B[38;5;28;01mif\u001B[39;00m \u001B[38;5;28mself\u001B[39m\u001B[38;5;241m.\u001B[39mreturn_generator \u001B[38;5;28;01melse\u001B[39;00m \u001B[38;5;28;43mlist\u001B[39;49m\u001B[43m(\u001B[49m\u001B[43moutput\u001B[49m\u001B[43m)\u001B[49m\n",
      "File \u001B[0;32m~/miniforge3/envs/chem/lib/python3.10/site-packages/joblib/parallel.py:1650\u001B[0m, in \u001B[0;36mParallel._get_outputs\u001B[0;34m(self, iterator, pre_dispatch)\u001B[0m\n\u001B[1;32m   1647\u001B[0m     \u001B[38;5;28;01myield\u001B[39;00m\n\u001B[1;32m   1649\u001B[0m     \u001B[38;5;28;01mwith\u001B[39;00m \u001B[38;5;28mself\u001B[39m\u001B[38;5;241m.\u001B[39m_backend\u001B[38;5;241m.\u001B[39mretrieval_context():\n\u001B[0;32m-> 1650\u001B[0m         \u001B[38;5;28;01myield from\u001B[39;00m \u001B[38;5;28mself\u001B[39m\u001B[38;5;241m.\u001B[39m_retrieve()\n\u001B[1;32m   1652\u001B[0m \u001B[38;5;28;01mexcept\u001B[39;00m \u001B[38;5;167;01mGeneratorExit\u001B[39;00m:\n\u001B[1;32m   1653\u001B[0m     \u001B[38;5;66;03m# The generator has been garbage collected before being fully\u001B[39;00m\n\u001B[1;32m   1654\u001B[0m     \u001B[38;5;66;03m# consumed. This aborts the remaining tasks if possible and warn\u001B[39;00m\n\u001B[1;32m   1655\u001B[0m     \u001B[38;5;66;03m# the user if necessary.\u001B[39;00m\n\u001B[1;32m   1656\u001B[0m     \u001B[38;5;28mself\u001B[39m\u001B[38;5;241m.\u001B[39m_exception \u001B[38;5;241m=\u001B[39m \u001B[38;5;28;01mTrue\u001B[39;00m\n",
      "File \u001B[0;32m~/miniforge3/envs/chem/lib/python3.10/site-packages/joblib/parallel.py:1754\u001B[0m, in \u001B[0;36mParallel._retrieve\u001B[0;34m(self)\u001B[0m\n\u001B[1;32m   1747\u001B[0m \u001B[38;5;28;01mwhile\u001B[39;00m \u001B[38;5;28mself\u001B[39m\u001B[38;5;241m.\u001B[39m_wait_retrieval():\n\u001B[1;32m   1748\u001B[0m \n\u001B[1;32m   1749\u001B[0m     \u001B[38;5;66;03m# If the callback thread of a worker has signaled that its task\u001B[39;00m\n\u001B[1;32m   1750\u001B[0m     \u001B[38;5;66;03m# triggered an exception, or if the retrieval loop has raised an\u001B[39;00m\n\u001B[1;32m   1751\u001B[0m     \u001B[38;5;66;03m# exception (e.g. `GeneratorExit`), exit the loop and surface the\u001B[39;00m\n\u001B[1;32m   1752\u001B[0m     \u001B[38;5;66;03m# worker traceback.\u001B[39;00m\n\u001B[1;32m   1753\u001B[0m     \u001B[38;5;28;01mif\u001B[39;00m \u001B[38;5;28mself\u001B[39m\u001B[38;5;241m.\u001B[39m_aborting:\n\u001B[0;32m-> 1754\u001B[0m         \u001B[38;5;28;43mself\u001B[39;49m\u001B[38;5;241;43m.\u001B[39;49m\u001B[43m_raise_error_fast\u001B[49m\u001B[43m(\u001B[49m\u001B[43m)\u001B[49m\n\u001B[1;32m   1755\u001B[0m         \u001B[38;5;28;01mbreak\u001B[39;00m\n\u001B[1;32m   1757\u001B[0m     \u001B[38;5;66;03m# If the next job is not ready for retrieval yet, we just wait for\u001B[39;00m\n\u001B[1;32m   1758\u001B[0m     \u001B[38;5;66;03m# async callbacks to progress.\u001B[39;00m\n",
      "File \u001B[0;32m~/miniforge3/envs/chem/lib/python3.10/site-packages/joblib/parallel.py:1789\u001B[0m, in \u001B[0;36mParallel._raise_error_fast\u001B[0;34m(self)\u001B[0m\n\u001B[1;32m   1785\u001B[0m \u001B[38;5;66;03m# If this error job exists, immediately raise the error by\u001B[39;00m\n\u001B[1;32m   1786\u001B[0m \u001B[38;5;66;03m# calling get_result. This job might not exists if abort has been\u001B[39;00m\n\u001B[1;32m   1787\u001B[0m \u001B[38;5;66;03m# called directly or if the generator is gc'ed.\u001B[39;00m\n\u001B[1;32m   1788\u001B[0m \u001B[38;5;28;01mif\u001B[39;00m error_job \u001B[38;5;129;01mis\u001B[39;00m \u001B[38;5;129;01mnot\u001B[39;00m \u001B[38;5;28;01mNone\u001B[39;00m:\n\u001B[0;32m-> 1789\u001B[0m     \u001B[43merror_job\u001B[49m\u001B[38;5;241;43m.\u001B[39;49m\u001B[43mget_result\u001B[49m\u001B[43m(\u001B[49m\u001B[38;5;28;43mself\u001B[39;49m\u001B[38;5;241;43m.\u001B[39;49m\u001B[43mtimeout\u001B[49m\u001B[43m)\u001B[49m\n",
      "File \u001B[0;32m~/miniforge3/envs/chem/lib/python3.10/site-packages/joblib/parallel.py:745\u001B[0m, in \u001B[0;36mBatchCompletionCallBack.get_result\u001B[0;34m(self, timeout)\u001B[0m\n\u001B[1;32m    739\u001B[0m backend \u001B[38;5;241m=\u001B[39m \u001B[38;5;28mself\u001B[39m\u001B[38;5;241m.\u001B[39mparallel\u001B[38;5;241m.\u001B[39m_backend\n\u001B[1;32m    741\u001B[0m \u001B[38;5;28;01mif\u001B[39;00m backend\u001B[38;5;241m.\u001B[39msupports_retrieve_callback:\n\u001B[1;32m    742\u001B[0m     \u001B[38;5;66;03m# We assume that the result has already been retrieved by the\u001B[39;00m\n\u001B[1;32m    743\u001B[0m     \u001B[38;5;66;03m# callback thread, and is stored internally. It's just waiting to\u001B[39;00m\n\u001B[1;32m    744\u001B[0m     \u001B[38;5;66;03m# be returned.\u001B[39;00m\n\u001B[0;32m--> 745\u001B[0m     \u001B[38;5;28;01mreturn\u001B[39;00m \u001B[38;5;28;43mself\u001B[39;49m\u001B[38;5;241;43m.\u001B[39;49m\u001B[43m_return_or_raise\u001B[49m\u001B[43m(\u001B[49m\u001B[43m)\u001B[49m\n\u001B[1;32m    747\u001B[0m \u001B[38;5;66;03m# For other backends, the main thread needs to run the retrieval step.\u001B[39;00m\n\u001B[1;32m    748\u001B[0m \u001B[38;5;28;01mtry\u001B[39;00m:\n",
      "File \u001B[0;32m~/miniforge3/envs/chem/lib/python3.10/site-packages/joblib/parallel.py:763\u001B[0m, in \u001B[0;36mBatchCompletionCallBack._return_or_raise\u001B[0;34m(self)\u001B[0m\n\u001B[1;32m    761\u001B[0m \u001B[38;5;28;01mtry\u001B[39;00m:\n\u001B[1;32m    762\u001B[0m     \u001B[38;5;28;01mif\u001B[39;00m \u001B[38;5;28mself\u001B[39m\u001B[38;5;241m.\u001B[39mstatus \u001B[38;5;241m==\u001B[39m TASK_ERROR:\n\u001B[0;32m--> 763\u001B[0m         \u001B[38;5;28;01mraise\u001B[39;00m \u001B[38;5;28mself\u001B[39m\u001B[38;5;241m.\u001B[39m_result\n\u001B[1;32m    764\u001B[0m     \u001B[38;5;28;01mreturn\u001B[39;00m \u001B[38;5;28mself\u001B[39m\u001B[38;5;241m.\u001B[39m_result\n\u001B[1;32m    765\u001B[0m \u001B[38;5;28;01mfinally\u001B[39;00m:\n",
      "\u001B[0;31mValueError\u001B[0m: Conformers embedding failed for [H]c1c2c(c3c(C([H])([H])[H])c([H])c(=O)oc3c1[H])C1(C([H])([H])[H])OOC1(C([H])([H])[H])O2"
     ]
    }
   ],
   "execution_count": 10
  },
  {
   "metadata": {
    "ExecuteTime": {
     "end_time": "2024-09-08T09:32:59.245169Z",
     "start_time": "2024-09-08T09:30:38.023310Z"
    }
   },
   "cell_type": "code",
   "source": [
    "results = {}\n",
    "clf = HistGradientBoostingClassifier(random_state=42)\n",
    "\n",
    "for trans in transformers:\n",
    "    feats = mem.cache(trans.transform)(train.smi)\n",
    "    X_train = get_x_train(feats)            \n",
    "    # print(f\"{trans.kind} {trans.length} {feats.shape[1]}\")    \n",
    "    results[trans.kind] = eval_model(trans.kind, clf, X_train, y_train)    \n",
    "    \n",
    "for params in dgl_params:\n",
    "    feats = mem.cache(get_dgl_predictions, ignore=['n_jobs', 'dtype'])(train.smi, params)    \n",
    "    X_train = get_x_train(feats)    \n",
    "    label = f\"{params['kind']} {feats.shape[1]}\"\n",
    "    # print(label)\n",
    "    results[params['kind']] = eval_model(label, clf, X_train, y_train)"
   ],
   "id": "56d909b9d14b47af",
   "outputs": [
    {
     "name": "stdout",
     "output_type": "stream",
     "text": [
      "ecfp:4          0.8717    (0.881 ± 0.009)    10.3s\n",
      "maccs           0.8825    (0.891 ± 0.009)    2.8s\n",
      "topological     0.8627    (0.870 ± 0.007)    9.7s\n",
      "avalon          0.8866    (0.896 ± 0.009)    10.5s\n",
      "erg             0.8627    (0.871 ± 0.008)    3.3s\n",
      "layered         0.8857    (0.893 ± 0.007)    10.8s\n",
      "secfp           0.8755    (0.883 ± 0.008)    10.5s\n",
      "estate          0.8715    (0.876 ± 0.005)    2.2s\n",
      "pattern         0.8796    (0.889 ± 0.009)    10.4s\n",
      "mordred         0.8943    (0.899 ± 0.004)    28.2s\n",
      "desc2D          0.8951    (0.901 ± 0.005)    3.7s\n",
      "cats2D          0.8621    (0.870 ± 0.008)    2.8s\n",
      "pharm2D         0.8296    (0.840 ± 0.011)    10.3s\n",
      "scaffoldkeys    0.8542    (0.865 ± 0.010)    1.9s\n",
      "skeys           0.8542    (0.865 ± 0.010)    2.1s\n",
      "gin_supervised_contextpred 300 0.8699    (0.878 ± 0.008)    5.5s\n",
      "gin_supervised_infomax 300 0.8639    (0.872 ± 0.008)    5.2s\n",
      "gin_supervised_edgepred 300 0.8724    (0.880 ± 0.008)    5.0s\n",
      "gin_supervised_masking 300 0.8665    (0.877 ± 0.010)    5.3s\n"
     ]
    }
   ],
   "execution_count": 23
  },
  {
   "metadata": {
    "ExecuteTime": {
     "end_time": "2024-09-08T09:32:59.622302Z",
     "start_time": "2024-09-08T09:32:59.258233Z"
    }
   },
   "cell_type": "code",
   "source": [
    "from matplotlib import pyplot as plt\n",
    "\n",
    "sns.boxplot(pd.DataFrame(results))\n",
    "plt.xticks(rotation=90);"
   ],
   "id": "cd873810c671023e",
   "outputs": [
    {
     "data": {
      "text/plain": [
       "<Figure size 640x480 with 1 Axes>"
      ],
      "image/png": "[encoded data removed]"
     },
     "metadata": {},
     "output_type": "display_data"
    }
   ],
   "execution_count": 24
  },
  {
   "metadata": {
    "ExecuteTime": {
     "end_time": "2024-09-08T14:23:30.844721800Z",
     "start_time": "2024-09-08T11:45:10.615422Z"
    }
   },
   "cell_type": "code",
   "source": [
    "train['mol3d'] = mem.cache(embed3d)(train.smi, n_confs=None)\n",
    "test['mol3d'] = mem.cache(embed3d)(test.smi, n_confs=None)"
   ],
   "id": "2a97224d944aee81",
   "outputs": [],
   "execution_count": 6
  },
  {
   "metadata": {},
   "cell_type": "code",
   "outputs": [],
   "execution_count": null,
   "source": "",
   "id": "5d645fc8dfce20e9"
  },
  {
   "metadata": {
    "ExecuteTime": {
     "end_time": "2024-09-08T09:11:28.123034Z",
     "start_time": "2024-09-08T09:09:24.650606Z"
    }
   },
   "cell_type": "code",
   "source": [
    "for trans in transformers3d:\n",
    "    feats = trans.transform(train.mol3d, ignore_errors=True)\n",
    "    if isinstance(feats, list):\n",
    "        # replace None with np.array of np.nan\n",
    "        res = [a if a is not None else np.full(trans.length, np.nan) for a in feats]        \n",
    "        imp = SimpleImputer(missing_values=np.nan, strategy='mean')\n",
    "        feats = imp.fit_transform(np.stack(res))\n",
    "        \n",
    "    print(trans.kind, trans.length, feats.shape[1])\n",
    "    \n",
    "    X_train = get_x_train(feats)\n",
    "    results[trans.kind] = eval_model(trans.kind, clf, X_train, y_train)\n",
    "    # train_ft = np.hstack([train_all_feats, feats])"
   ],
   "id": "8aab21b74b049b8e",
   "outputs": [
    {
     "name": "stdout",
     "output_type": "stream",
     "text": [
      "desc3D 639 639\n",
      "nans: 0\n",
      "desc3D 639     : 0.8380    (0.846 ± 0.008)    8.5s\n",
      "cats3D 126 126\n",
      "nans: 0\n",
      "cats3D 126     : 0.8502    (0.861 ± 0.011)    1.9s\n",
      "pharm3D 1024 1024\n",
      "nans: 0\n",
      "pharm3D 1024   : 0.8315    (0.840 ± 0.008)    9.2s\n",
      "electroshape 15 15\n",
      "nans: 0\n",
      "electroshape 15: 0.7851    (0.796 ± 0.011)    1.5s\n",
      "usr 12 12\n",
      "nans: 0\n",
      "usr 12         : 0.7275    (0.737 ± 0.010)    1.4s\n",
      "usrcat 60 60\n",
      "nans: 0\n",
      "usrcat 60      : 0.8118    (0.819 ± 0.007)    1.8s\n"
     ]
    }
   ],
   "execution_count": 16
  },
  {
   "metadata": {},
   "cell_type": "code",
   "outputs": [],
   "execution_count": null,
   "source": [
    "# groups = {\n",
    "#     'kind': [ids]\n",
    "# }"
   ],
   "id": "e774b56137749070"
  },
  {
   "metadata": {},
   "cell_type": "markdown",
   "source": "# Get indices for all feats",
   "id": "1dd8352ae84d8dc4"
  },
  {
   "metadata": {
    "ExecuteTime": {
     "end_time": "2024-09-08T09:58:46.598935Z",
     "start_time": "2024-09-08T09:58:45.981242Z"
    }
   },
   "cell_type": "code",
   "source": [
    "from src.utils import drop_nans_non_unique\n",
    "from src.corr import non_corr_features\n",
    "\n",
    "def filter_mordred(feats: np.ndarray):\n",
    "    df = pd.DataFrame(feats)\n",
    "    df_filtered = drop_nans_non_unique(df)\n",
    "    df_filtered = non_corr_features(df_filtered, y_train, threshold=0.95)\n",
    "    return df_filtered.values\n",
    "\n",
    "# feats = mem.cache(FPVecTransformer(\"mordred\", n_jobs=-1, length=1613, dtype=np.float32).transform)(train.smi)\n",
    "# filter_mordred(feats).shape"
   ],
   "id": "8e4cad1f88ab4d7f",
   "outputs": [
    {
     "data": {
      "text/plain": [
       "(7939, 444)"
      ]
     },
     "execution_count": 62,
     "metadata": {},
     "output_type": "execute_result"
    }
   ],
   "execution_count": 62
  },
  {
   "metadata": {
    "ExecuteTime": {
     "end_time": "2024-09-08T10:01:49.665307Z",
     "start_time": "2024-09-08T10:01:47.799907Z"
    }
   },
   "cell_type": "code",
   "source": [
    "feat_ids = {}\n",
    "train_all_feats = np.empty((train.shape[0], 0))\n",
    "\n",
    "for trans in transformers:\n",
    "    feats = mem.cache(trans.transform)(train.smi)\n",
    "    if trans.kind =='mordred':\n",
    "        feats = filter_mordred(feats)\n",
    "    curr_offset = train_all_feats.shape[1]\n",
    "    feat_ids[trans.kind] = list(range(curr_offset, curr_offset + feats.shape[1]))    \n",
    "    # print(trans.kind, feat_ids[trans.kind][0], feat_ids[trans.kind][-1])  # debug\n",
    "    train_all_feats = np.hstack([train_all_feats, feats])"
   ],
   "id": "f943e43c9cd5f71c",
   "outputs": [],
   "execution_count": 68
  },
  {
   "metadata": {
    "ExecuteTime": {
     "end_time": "2024-09-08T10:12:45.129391Z",
     "start_time": "2024-09-08T10:12:45.100051Z"
    }
   },
   "cell_type": "code",
   "source": "train_all_feats.shape",
   "id": "a8ddc5c01a8b0848",
   "outputs": [
    {
     "data": {
      "text/plain": [
       "(7939, 11738)"
      ]
     },
     "execution_count": 102,
     "metadata": {},
     "output_type": "execute_result"
    }
   ],
   "execution_count": 102
  },
  {
   "metadata": {
    "ExecuteTime": {
     "end_time": "2024-09-08T10:01:53.160132Z",
     "start_time": "2024-09-08T10:01:52.576132Z"
    }
   },
   "cell_type": "code",
   "source": [
    "for params in dgl_params:    \n",
    "    feats = mem.cache(get_dgl_predictions, ignore=['n_jobs', 'dtype'])(train.smi, params)\n",
    "    curr_offset = train_all_feats.shape[1]\n",
    "    feat_ids[params['kind']] = list(range(curr_offset, curr_offset + feats.shape[1]))\n",
    "    train_all_feats = np.hstack([train_all_feats, feats])"
   ],
   "id": "c7303e7b55aa07b6",
   "outputs": [],
   "execution_count": 70
  },
  {
   "metadata": {
    "ExecuteTime": {
     "end_time": "2024-09-08T10:01:54.868313Z",
     "start_time": "2024-09-08T10:01:54.837857Z"
    }
   },
   "cell_type": "code",
   "source": "train_all_feats.shape",
   "id": "7b724d4a6bf0ef3a",
   "outputs": [
    {
     "data": {
      "text/plain": [
       "(7939, 9862)"
      ]
     },
     "execution_count": 71,
     "metadata": {},
     "output_type": "execute_result"
    }
   ],
   "execution_count": 71
  },
  {
   "metadata": {
    "ExecuteTime": {
     "end_time": "2024-09-08T10:03:40.658593Z",
     "start_time": "2024-09-08T10:01:57.118327Z"
    }
   },
   "cell_type": "code",
   "source": [
    "for params in desc3D_params:\n",
    "    feats = mem.cache(get_3d_predictions, ignore=['n_jobs', 'dtype'])(train.smi, params)\n",
    "    feats = mem.cache(get_3d_predictions, ignore=['n_jobs', 'dtype'])(test.smi, params)\n",
    "    if isinstance(feats, list):\n",
    "        # replace None with np.array of np.nan\n",
    "        res = [a if a is not None else np.full(feats.shape[1], np.nan) for a in feats]\n",
    "        imp = SimpleImputer(missing_values=np.nan, strategy='mean')\n",
    "        feats = imp.fit_transform(np.stack(res))\n",
    "    \n",
    "    curr_offset = train_all_feats.shape[1]\n",
    "    feat_ids[trans.kind] = list(range(curr_offset, curr_offset + feats.shape[1]))\n",
    "    train_all_feats = np.hstack([train_all_feats, feats])\n",
    "\n",
    "train_all_feats.shape"
   ],
   "id": "66027799b15ac808",
   "outputs": [
    {
     "data": {
      "text/plain": [
       "(7939, 11738)"
      ]
     },
     "execution_count": 72,
     "metadata": {},
     "output_type": "execute_result"
    }
   ],
   "execution_count": 72
  },
  {
   "metadata": {
    "ExecuteTime": {
     "end_time": "2024-09-08T10:09:20.526702Z",
     "start_time": "2024-09-08T10:09:20.498572Z"
    }
   },
   "cell_type": "code",
   "source": [
    "fps_names = [\n",
    "    \"ecfp:4\",\n",
    "    \"maccs\",\n",
    "    \"topological\",\n",
    "    \"avalon\",\n",
    "    \"erg\",\n",
    "    \"layered\",\n",
    "    \"secfp\",\n",
    "    \"pattern\",\n",
    "    \"pharm2D\"\n",
    "]\n"
   ],
   "id": "bbb96ceb1fcccce",
   "outputs": [],
   "execution_count": 84
  },
  {
   "metadata": {
    "ExecuteTime": {
     "end_time": "2024-09-08T10:13:05.978020Z",
     "start_time": "2024-09-08T10:13:05.949143Z"
    }
   },
   "cell_type": "code",
   "source": [
    "fps_offset = sum([len(feat_ids[k]) for k in fps_names])\n",
    "fps_offset"
   ],
   "id": "3092f4ca2888764a",
   "outputs": [
    {
     "data": {
      "text/plain": [
       "7650"
      ]
     },
     "execution_count": 103,
     "metadata": {},
     "output_type": "execute_result"
    }
   ],
   "execution_count": 103
  },
  {
   "metadata": {
    "ExecuteTime": {
     "end_time": "2024-09-08T10:13:19.238661Z",
     "start_time": "2024-09-08T10:13:18.667263Z"
    }
   },
   "cell_type": "code",
   "source": [
    "scaler = OffsetScaler(fps_offset)\n",
    "train_scaled = scaler.fit_transform(train_all_feats)"
   ],
   "id": "8e01beaa8b072d1c",
   "outputs": [],
   "execution_count": 105
  },
  {
   "metadata": {
    "ExecuteTime": {
     "end_time": "2024-09-08T10:14:14.542733Z",
     "start_time": "2024-09-08T10:14:14.513453Z"
    }
   },
   "cell_type": "code",
   "source": "train_scaled.shape",
   "id": "b6903ec56bc64a53",
   "outputs": [
    {
     "data": {
      "text/plain": [
       "(7939, 11738)"
      ]
     },
     "execution_count": 108,
     "metadata": {},
     "output_type": "execute_result"
    }
   ],
   "execution_count": 108
  },
  {
   "metadata": {
    "ExecuteTime": {
     "end_time": "2024-09-08T10:14:37.348470Z",
     "start_time": "2024-09-08T10:14:37.134393Z"
    }
   },
   "cell_type": "code",
   "source": "X_train = get_x_train(train_scaled)",
   "id": "33e33368b46ba47",
   "outputs": [],
   "execution_count": 110
  },
  {
   "metadata": {
    "ExecuteTime": {
     "end_time": "2024-09-08T10:14:38.187245Z",
     "start_time": "2024-09-08T10:14:38.156907Z"
    }
   },
   "cell_type": "code",
   "source": "X_train.shape",
   "id": "553431b9328e1e53",
   "outputs": [
    {
     "data": {
      "text/plain": [
       "(7939, 11741)"
      ]
     },
     "execution_count": 111,
     "metadata": {},
     "output_type": "execute_result"
    }
   ],
   "execution_count": 111
  },
  {
   "metadata": {},
   "cell_type": "code",
   "outputs": [],
   "execution_count": null,
   "source": "pd.DataFrame(X_train).to_pickle('../data/processed/X_train_all.pkl.zip')",
   "id": "cbcf9ca6687ce2c3"
  },
  {
   "metadata": {
    "ExecuteTime": {
     "end_time": "2024-09-08T10:22:26.606729Z",
     "start_time": "2024-09-08T10:22:16.298660Z"
    }
   },
   "cell_type": "code",
   "source": [
    "import pickle\n",
    "\n",
    "with open('../data/processed/feat_ids_all.pkl', 'wb') as f:\n",
    "    pickle.dump(feat_ids, f)"
   ],
   "id": "fae06ac9a9417a1",
   "outputs": [],
   "execution_count": 114
  },
  {
   "metadata": {},
   "cell_type": "code",
   "outputs": [],
   "execution_count": null,
   "source": "",
   "id": "ee33295abc73d74e"
  },
  {
   "metadata": {
    "ExecuteTime": {
     "end_time": "2024-09-08T14:18:36.190810Z",
     "start_time": "2024-09-08T14:18:36.037990Z"
    }
   },
   "cell_type": "code",
   "source": [
    "from src.utils import drop_nans_non_unique\n",
    "from src.corr import non_corr_features\n",
    "\n",
    "def filter_mordred(feats: np.ndarray):\n",
    "    df = pd.DataFrame(feats)\n",
    "    df_filtered = drop_nans_non_unique(df)\n",
    "    df_filtered = non_corr_features(df_filtered, y_train, threshold=0.95)\n",
    "    return df_filtered.values\n",
    "\n",
    "def generate_feats(df):\n",
    "    all_feats = np.empty((df.shape[0], 0))\n",
    "\n",
    "    def append_feat(name, feats):\n",
    "        curr_offset = all_feats.shape[1]\n",
    "        feat_ids[name] = list(range(curr_offset, curr_offset + feats.shape[1]))\n",
    "        all_feats = np.hstack([all_feats, feats])\n",
    "\n",
    "\n",
    "    for trans in transformers:\n",
    "        feats = mem.cache(trans.transform)(df.smi)\n",
    "        if trans.kind =='mordred':\n",
    "            feats = filter_mordred(feats)\n",
    "\n",
    "        append_feat(trans.kind, feats)\n",
    "\n",
    "    for params in dgl_params:\n",
    "        feats = mem.cache(get_dgl_predictions, ignore=['n_jobs', 'dtype'])(df.smi, params)\n",
    "\n",
    "        append_feat(params['kind'], feats)\n",
    "\n",
    "    for params in desc3D_params:\n",
    "        feats = mem.cache(get_3d_predictions, ignore=['n_jobs', 'dtype'])(df.smi, params)\n",
    "        if isinstance(feats, list):\n",
    "            # replace None with np.array of np.nan\n",
    "            res = [a if a is not None else np.full(feats.shape[1], np.nan) for a in feats]\n",
    "            imp = SimpleImputer(missing_values=np.nan, strategy='mean')\n",
    "            feats = imp.fit_transform(np.stack(res))\n",
    "\n",
    "        append_feat(params['kind'], feats)\n",
    "\n",
    "    return all_feats"
   ],
   "id": "3bcffca4705a46d9",
   "outputs": [],
   "execution_count": 14
  },
  {
   "metadata": {},
   "cell_type": "code",
   "outputs": [],
   "execution_count": null,
   "source": "train_all_feats = generate_feats(train)",
   "id": "c2cf48363eac037a"
  },
  {
   "metadata": {},
   "cell_type": "code",
   "outputs": [],
   "execution_count": null,
   "source": "",
   "id": "2411bfc30728eead"
  },
  {
   "metadata": {},
   "cell_type": "code",
   "outputs": [],
   "execution_count": null,
   "source": "",
   "id": "608f295674dd919b"
  },
  {
   "metadata": {},
   "cell_type": "code",
   "outputs": [],
   "execution_count": null,
   "source": "",
   "id": "7d4580d29e41d94a"
  },
  {
   "metadata": {},
   "cell_type": "code",
   "outputs": [],
   "execution_count": null,
   "source": "",
   "id": "d4e8f9d5431f39f3"
  },
  {
   "metadata": {},
   "cell_type": "code",
   "outputs": [],
   "execution_count": null,
   "source": "",
   "id": "6930d51374a3ab45"
  },
  {
   "metadata": {},
   "cell_type": "code",
   "outputs": [],
   "execution_count": null,
   "source": "",
   "id": "220c8d84ae4b72d9"
  },
  {
   "metadata": {},
   "cell_type": "code",
   "outputs": [],
   "execution_count": null,
   "source": "",
   "id": "3837f277d23c50d5"
  },
  {
   "metadata": {},
   "cell_type": "code",
   "outputs": [],
   "execution_count": null,
   "source": "",
   "id": "41c1570c308dce18"
  },
  {
   "metadata": {
    "ExecuteTime": {
     "end_time": "2024-09-08T04:13:49.480996Z",
     "start_time": "2024-09-08T04:13:49.338600Z"
    }
   },
   "cell_type": "code",
   "source": [
    "\n",
    "X_train = np.concatenate([train_all_feats, ohe.fit_transform(train[[\"prop\"]])], axis=1)\n",
    "X_train.shape"
   ],
   "id": "4e2cfa49480757f1",
   "outputs": [
    {
     "data": {
      "text/plain": [
       "(7939, 9110)"
      ]
     },
     "execution_count": 31,
     "metadata": {},
     "output_type": "execute_result"
    }
   ],
   "execution_count": 31
  },
  {
   "metadata": {
    "ExecuteTime": {
     "end_time": "2024-09-08T04:17:38.913828Z",
     "start_time": "2024-09-08T04:14:14.160812Z"
    }
   },
   "cell_type": "code",
   "source": "eval_model('all stack', clf, X_train, y_train);",
   "id": "359df75d3250480c",
   "outputs": [
    {
     "name": "stdout",
     "output_type": "stream",
     "text": [
      "all stack: 0.8974    (0.905 ± 0.007)    204.7s\n"
     ]
    }
   ],
   "execution_count": 32
  },
  {
   "metadata": {
    "ExecuteTime": {
     "end_time": "2024-09-08T04:22:40.933412Z",
     "start_time": "2024-09-08T04:22:40.866861Z"
    }
   },
   "cell_type": "code",
   "source": [
    "from src.config import mem\n",
    "mord = FPVecTransformer(\"mordred\", n_jobs=-1, dtype=np.float32)\n",
    "\n",
    "md_feats = mem.cache(mord.transform)(train.smi)"
   ],
   "id": "552ec6660ac947d6",
   "outputs": [],
   "execution_count": 39
  },
  {
   "metadata": {
    "ExecuteTime": {
     "end_time": "2024-09-08T04:28:44.827372Z",
     "start_time": "2024-09-08T04:28:44.527632Z"
    }
   },
   "cell_type": "code",
   "source": [
    "from src.utils import drop_nans_non_unique\n",
    "df = pd.DataFrame(md_feats)\n",
    "na_cols = df.isna().sum() > 1\n",
    "const_cols = df.nunique() == 1\n",
    "md_mask = ~(na_cols | const_cols)"
   ],
   "id": "390cd863a9d56889",
   "outputs": [],
   "execution_count": 60
  },
  {
   "metadata": {
    "ExecuteTime": {
     "end_time": "2024-09-08T04:30:25.086247Z",
     "start_time": "2024-09-08T04:30:24.893709Z"
    }
   },
   "cell_type": "code",
   "source": [
    "from src.corr import non_corr_features\n",
    "\n",
    "uncorr = non_corr_features(df.loc[:, md_mask], y_train, threshold=0.95)\n",
    "md_mask.sum(), uncorr.shape[1]"
   ],
   "id": "ef6bbd39563e49a3",
   "outputs": [
    {
     "data": {
      "text/plain": [
       "(1009, 497)"
      ]
     },
     "execution_count": 68,
     "metadata": {},
     "output_type": "execute_result"
    }
   ],
   "execution_count": 68
  },
  {
   "metadata": {},
   "cell_type": "code",
   "outputs": [],
   "execution_count": null,
   "source": "",
   "id": "e396b2ecd8a6b286"
  },
  {
   "metadata": {
    "ExecuteTime": {
     "end_time": "2024-09-08T04:27:35.870629Z",
     "start_time": "2024-09-08T04:27:35.821260Z"
    }
   },
   "cell_type": "code",
   "source": "md_feats[:, md_mask].shape",
   "id": "cb250d29ef740545",
   "outputs": [
    {
     "data": {
      "text/plain": [
       "(7939, 1009)"
      ]
     },
     "execution_count": 59,
     "metadata": {},
     "output_type": "execute_result"
    }
   ],
   "execution_count": 59
  },
  {
   "metadata": {
    "ExecuteTime": {
     "end_time": "2024-09-08T04:23:43.639673Z",
     "start_time": "2024-09-08T04:23:43.634866Z"
    }
   },
   "cell_type": "code",
   "source": "",
   "id": "b3cdcb5d8b09da97",
   "outputs": [
    {
     "data": {
      "text/plain": [
       "502"
      ]
     },
     "execution_count": 44,
     "metadata": {},
     "output_type": "execute_result"
    }
   ],
   "execution_count": 44
  },
  {
   "metadata": {},
   "cell_type": "code",
   "outputs": [],
   "execution_count": null,
   "source": "",
   "id": "330c45624275edce"
  },
  {
   "metadata": {},
   "cell_type": "code",
   "outputs": [],
   "execution_count": null,
   "source": "",
   "id": "8c578a0f2dfa7259"
  },
  {
   "cell_type": "code",
   "execution_count": 18,
   "id": "1c43b466-056b-4e24-aa93-3f2dc044c10e",
   "metadata": {},
   "outputs": [],
   "source": "X_test = np.concatenate([test_ft, ohe.transform(test[[\"property\"]].to_numpy())], axis=-1)"
  },
  {
   "cell_type": "code",
   "execution_count": 19,
   "id": "6dd97af4-4259-45c6-93f8-81fadd68c739",
   "metadata": {},
   "outputs": [],
   "source": "preds = clf.predict_proba(X_test)"
  },
  {
   "cell_type": "code",
   "execution_count": null,
   "id": "309f371a-5ff8-4e32-9395-c5765ef4b31f",
   "metadata": {},
   "outputs": [],
   "source": []
  }
 ],
 "metadata": {
  "kernelspec": {
   "display_name": "chem",
   "language": "python",
   "name": "chem"
  },
  "language_info": {
   "codemirror_mode": {
    "name": "ipython",
    "version": 3
   },
   "file_extension": ".py",
   "mimetype": "text/x-python",
   "name": "python",
   "nbconvert_exporter": "python",
   "pygments_lexer": "ipython3",
   "version": "3.11.3"
  }
 },
 "nbformat": 4,
 "nbformat_minor": 5
}
