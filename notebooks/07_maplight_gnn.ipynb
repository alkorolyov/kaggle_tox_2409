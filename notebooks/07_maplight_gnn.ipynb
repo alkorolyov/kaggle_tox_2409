{
 "cells": [
  {
   "cell_type": "code",
   "id": "initial_id",
   "metadata": {
    "ExecuteTime": {
     "end_time": "2024-09-07T06:55:41.192498Z",
     "start_time": "2024-09-07T06:55:41.070934Z"
    }
   },
   "source": [
    "%load_ext autoreload\n",
    "%autoreload 2\n",
    "\n",
    "import sys\n",
    "sys.path.append('../')"
   ],
   "outputs": [
    {
     "name": "stdout",
     "output_type": "stream",
     "text": [
      "The autoreload extension is already loaded. To reload it, use:\n",
      "  %reload_ext autoreload\n"
     ]
    }
   ],
   "execution_count": 173
  },
  {
   "metadata": {
    "ExecuteTime": {
     "end_time": "2024-09-07T07:12:36.674589Z",
     "start_time": "2024-09-07T07:12:36.542180Z"
    }
   },
   "cell_type": "code",
   "source": [
    "import time\n",
    "from tqdm import tqdm\n",
    "\n",
    "import numpy as np\n",
    "import pandas as pd\n",
    "\n",
    "from sklearn.linear_model import RidgeClassifier, LogisticRegression\n",
    "from sklearn.tree import DecisionTreeClassifier\n",
    "from sklearn.ensemble import RandomForestClassifier, HistGradientBoostingClassifier\n",
    "from sklearn.svm import SVC\n",
    "from sklearn.neighbors import KNeighborsClassifier\n",
    "from sklearn.model_selection import  KFold\n",
    "from src.utils import scale, eval_model\n",
    "import xgboost as xgb\n",
    "import catboost as cb\n",
    "import lightgbm as lgb\n",
    "import seaborn as sns\n",
    "from src.corr import non_corr_features\n",
    "from src.maplight_gnn import get_fingerprints\n",
    "from src.utils import get_fps_cols, scale, OffsetScaler, arr_to_submit, drop_nans_non_unique\n",
    "\n",
    "\n",
    "mae = 'neg_mean_absolute_error'\n",
    "mse = 'neg_mean_squared_error'\n",
    "rmse = 'neg_root_mean_squared_error'\n",
    "roc_auc = 'neg_roc_auc_score'\n",
    "\n",
    "N_JOBS = 24\n",
    "RANDOM_SEED = 42\n",
    "\n",
    "# prepare models\n",
    "models = {}\n",
    "\n",
    "models['RF'] = RandomForestClassifier(random_state=RANDOM_SEED, n_jobs=N_JOBS)\n",
    "\n",
    "models['HistGB'] = HistGradientBoostingClassifier(random_state=RANDOM_SEED)\n",
    "\n",
    "models['XGB'] = xgb.XGBClassifier(random_state=RANDOM_SEED, n_jobs=N_JOBS, verbosity=0,)\n",
    "\n",
    "models['XGB_GPU'] = xgb.XGBClassifier(random_state=RANDOM_SEED, n_jobs=N_JOBS, verbosity=0, \n",
    "                                  tree_method='gpu_hist', predictor='gpu_predictor', gpu_id=1)\n",
    "\n",
    "models['CB'] = cb.CatBoostClassifier(iterations=100, random_seed=RANDOM_SEED, thread_count=N_JOBS, verbose=False)\n",
    "\n",
    "models['CB_GPU'] = cb.CatBoostClassifier(iterations=100, random_seed=RANDOM_SEED, thread_count=N_JOBS, verbose=False, task_type=\"GPU\")\n",
    "\n",
    "models['LGB'] = lgb.LGBMClassifier(random_state=RANDOM_SEED, n_jobs=N_JOBS, verbose=-1)"
   ],
   "id": "15cce13673d7da93",
   "outputs": [],
   "execution_count": 219
  },
  {
   "metadata": {
    "ExecuteTime": {
     "end_time": "2024-09-07T07:12:39.579637Z",
     "start_time": "2024-09-07T07:12:39.444061Z"
    }
   },
   "cell_type": "code",
   "source": [
    "train = pd.read_csv('../data/processed/train.csv', index_col=0)\n",
    "test = pd.read_csv('../data/processed/test.csv', index_col=0)"
   ],
   "id": "ed6e8459e804dd82",
   "outputs": [],
   "execution_count": 220
  },
  {
   "metadata": {},
   "cell_type": "markdown",
   "source": "# Maplight",
   "id": "77e765a94e4e723c"
  },
  {
   "metadata": {
    "ExecuteTime": {
     "end_time": "2024-09-07T07:51:45.873413Z",
     "start_time": "2024-09-07T07:51:44.680476Z"
    }
   },
   "cell_type": "code",
   "source": [
    "from sklearn.preprocessing import OneHotEncoder\n",
    "\n",
    "params = {\n",
    "    'morgan_fps':True,\n",
    "    'avalon_fps':True,\n",
    "    'erg_fps':True,\n",
    "    'rdkit_feats':True,\n",
    "    'mord_feats': False,\n",
    "    'gin_gnn':False,\n",
    "}\n",
    "X_train = get_fingerprints(train.smi, **params)\n",
    "X_test = get_fingerprints(test.smi, **params)\n",
    "y_train = pd.read_pickle('../data/processed/y_train.pkl')\n",
    "\n",
    "fps_offset = 1024 + 1024 + 315\n",
    "\n",
    "scaler = OffsetScaler(fps_offset)\n",
    "X_train = scaler.fit_transform(X_train)\n",
    "X_test = scaler.transform(X_test)    \n",
    "\n",
    "ohe = OneHotEncoder(sparse_output=False)\n",
    "prop = ohe.fit_transform(train[['prop']])\n",
    "X_train = np.concatenate([X_train, prop], axis=1)    \n",
    "\n",
    "prop = ohe.transform(test[['prop']])\n",
    "X_test = np.concatenate([X_test, prop], axis=1) \n",
    "\n",
    "print(X_train.shape)\n",
    "\n",
    "# drop nans and duplicated\n",
    "X_train = pd.DataFrame(X_train)\n",
    "X_test = pd.DataFrame(X_test)\n",
    "X_train = drop_nans_non_unique(X_train)\n",
    "X_test = X_test[X_train.columns]\n",
    "\n",
    "print(X_train.shape)"
   ],
   "id": "f6e905ed302254be",
   "outputs": [
    {
     "name": "stdout",
     "output_type": "stream",
     "text": [
      "(7939, 2566)\n",
      "(7939, 2455)\n"
     ]
    }
   ],
   "execution_count": 239
  },
  {
   "metadata": {
    "ExecuteTime": {
     "end_time": "2024-09-07T07:53:50.845355Z",
     "start_time": "2024-09-07T07:51:45.875414Z"
    }
   },
   "cell_type": "code",
   "source": [
    "print('=========== Maplight GNN ===========')\n",
    "for name, model in models.items():\n",
    "    eval_model(name, model, X_train, y_train, to_scale=False)"
   ],
   "id": "395ae6568ee9ade8",
   "outputs": [
    {
     "name": "stdout",
     "output_type": "stream",
     "text": [
      "=========== Maplight GNN ===========\n",
      "     RF: 0.8874    (0.893 ± 0.006)    3.1s\n",
      " HistGB: 0.8956    (0.904 ± 0.008)    49.6s\n",
      "    XGB: 0.8951    (0.901 ± 0.006)    20.1s\n",
      "XGB_GPU: 0.8974    (0.902 ± 0.005)    16.9s\n",
      "     CB: 0.8802    (0.890 ± 0.010)    14.8s\n",
      " CB_GPU: 0.8848    (0.893 ± 0.008)    11.0s\n",
      "    LGB: 0.8989    (0.905 ± 0.007)    9.3s\n"
     ]
    }
   ],
   "execution_count": 240
  },
  {
   "metadata": {
    "ExecuteTime": {
     "end_time": "2024-09-07T08:00:04.579541Z",
     "start_time": "2024-09-07T08:00:04.454097Z"
    }
   },
   "cell_type": "code",
   "source": "print(X_train_uncor.shape)",
   "id": "432eb0d758111f29",
   "outputs": [
    {
     "name": "stdout",
     "output_type": "stream",
     "text": [
      "(7939, 2400)\n"
     ]
    }
   ],
   "execution_count": 245
  },
  {
   "metadata": {
    "ExecuteTime": {
     "end_time": "2024-09-07T07:59:45.424943Z",
     "start_time": "2024-09-07T07:57:47.867677Z"
    }
   },
   "cell_type": "code",
   "source": [
    "from src.corr import non_corr_features\n",
    "\n",
    "X_train_uncor = non_corr_features(X_train, y_train)\n",
    "X_test_uncor = X_test[X_train_uncor.columns]\n",
    "\n",
    "print('=========== Maplight GNN uncorrelated ===========')\n",
    "for name, model in models.items():\n",
    "    eval_model(name, model, X_train_uncor, y_train, to_scale=False)"
   ],
   "id": "46b2fb713278acd9",
   "outputs": [
    {
     "name": "stdout",
     "output_type": "stream",
     "text": [
      "=========== Maplight GNN uncorrelated ===========\n",
      "     RF: 0.8873    (0.892 ± 0.005)    3.2s\n",
      " HistGB: 0.8972    (0.904 ± 0.007)    46.6s\n",
      "    XGB: 0.8935    (0.899 ± 0.005)    19.5s\n",
      "XGB_GPU: 0.8964    (0.904 ± 0.008)    16.1s\n",
      "     CB: 0.8797    (0.888 ± 0.008)    13.8s\n",
      " CB_GPU: 0.8848    (0.891 ± 0.006)    9.4s\n",
      "    LGB: 0.8980    (0.906 ± 0.008)    8.4s\n"
     ]
    }
   ],
   "execution_count": 244
  },
  {
   "metadata": {},
   "cell_type": "markdown",
   "source": "# Maplight GNN",
   "id": "2b73169aef60f913"
  },
  {
   "metadata": {
    "ExecuteTime": {
     "end_time": "2024-09-07T07:12:40.635178Z",
     "start_time": "2024-09-07T07:12:40.185598Z"
    }
   },
   "cell_type": "code",
   "source": [
    "params = {\n",
    "    'morgan_fps':True,\n",
    "    'avalon_fps':True,\n",
    "    'erg_fps':True,\n",
    "    'rdkit_feats':True,\n",
    "    'mord_feats': False,\n",
    "    'gin_gnn':True,\n",
    "}\n",
    "X_train = get_fingerprints(train.smi, **params)\n",
    "X_test = get_fingerprints(test.smi, **params)\n",
    "y_train = pd.read_pickle('../data/processed/y_train.pkl')\n",
    "\n",
    "X_train.shape"
   ],
   "id": "e31b721ca8a509f1",
   "outputs": [
    {
     "data": {
      "text/plain": [
       "(7939, 2863)"
      ]
     },
     "execution_count": 221,
     "metadata": {},
     "output_type": "execute_result"
    }
   ],
   "execution_count": 221
  },
  {
   "metadata": {
    "ExecuteTime": {
     "end_time": "2024-09-07T07:12:42.060773Z",
     "start_time": "2024-09-07T07:12:41.800667Z"
    }
   },
   "cell_type": "code",
   "source": [
    "fps_offset = 1024 + 1024 + 315\n",
    "\n",
    "scaler = OffsetScaler(fps_offset)\n",
    "X_train = scaler.fit_transform(X_train)\n",
    "X_test = scaler.transform(X_test)"
   ],
   "id": "528b9a919ef3446d",
   "outputs": [],
   "execution_count": 222
  },
  {
   "metadata": {
    "ExecuteTime": {
     "end_time": "2024-09-07T07:12:45.577910Z",
     "start_time": "2024-09-07T07:12:45.405797Z"
    }
   },
   "cell_type": "code",
   "source": [
    "from sklearn.preprocessing import OneHotEncoder    \n",
    "\n",
    "ohe = OneHotEncoder(sparse_output=False)\n",
    "prop = ohe.fit_transform(train[['prop']])\n",
    "X_train = np.concatenate([X_train, prop], axis=1)    \n",
    "\n",
    "prop = ohe.transform(test[['prop']])\n",
    "X_test = np.concatenate([X_test, prop], axis=1) \n",
    "\n",
    "X_train.shape, X_test.shape"
   ],
   "id": "fce2361b5224ed",
   "outputs": [
    {
     "data": {
      "text/plain": [
       "((7939, 2866), (1221, 2866))"
      ]
     },
     "execution_count": 223,
     "metadata": {},
     "output_type": "execute_result"
    }
   ],
   "execution_count": 223
  },
  {
   "metadata": {
    "ExecuteTime": {
     "end_time": "2024-09-07T07:16:19.612072Z",
     "start_time": "2024-09-07T07:12:48.492366Z"
    }
   },
   "cell_type": "code",
   "source": [
    "print('=========== Maplight GNN ===========')\n",
    "for name, model in models.items():\n",
    "    eval_model(name, model, X_train, y_train, to_scale=False)"
   ],
   "id": "f92d6eb4dad69c4d",
   "outputs": [
    {
     "name": "stdout",
     "output_type": "stream",
     "text": [
      "=========== Maplight GNN ===========\n",
      "     RF: 0.8733    (0.880 ± 0.007)    4.6s\n",
      " HistGB: 0.8975    (0.902 ± 0.005)    66.7s\n",
      "    XGB: 0.8901    (0.897 ± 0.007)    24.6s\n",
      "XGB_GPU: 0.8903    (0.900 ± 0.010)    14.5s\n",
      "     CB: 0.8758    (0.884 ± 0.008)    47.5s\n",
      " CB_GPU: 0.8767    (0.886 ± 0.009)    39.4s\n",
      "    LGB: 0.8916    (0.901 ± 0.010)    13.6s\n"
     ]
    }
   ],
   "execution_count": 224
  },
  {
   "metadata": {},
   "cell_type": "code",
   "outputs": [],
   "execution_count": 29,
   "source": [
    "clf = models['HistGB']\n",
    "clf.fit(X_train, y_train)\n",
    "pred = clf.predict_proba(X_test)"
   ],
   "id": "21cdfe400ef31d71"
  },
  {
   "metadata": {},
   "cell_type": "code",
   "outputs": [],
   "execution_count": 30,
   "source": "arr_to_submit(pred[:, 1]).to_csv('../submits/maplight_gnn_histgb.csv')",
   "id": "9b4b792ecaa86440"
  },
  {
   "metadata": {},
   "cell_type": "markdown",
   "source": "### unique feats only",
   "id": "55922fc71e12ed60"
  },
  {
   "metadata": {
    "ExecuteTime": {
     "end_time": "2024-09-07T07:16:20.529657Z",
     "start_time": "2024-09-07T07:16:19.614074Z"
    }
   },
   "cell_type": "code",
   "source": [
    "X_train = pd.DataFrame(X_train)\n",
    "X_test = pd.DataFrame(X_test)\n",
    "X_train = drop_nans_non_unique(X_train)\n",
    "X_test = X_test[X_train.columns]"
   ],
   "id": "c58839e3b9240213",
   "outputs": [],
   "execution_count": 225
  },
  {
   "metadata": {
    "ExecuteTime": {
     "end_time": "2024-09-07T07:19:11.923624Z",
     "start_time": "2024-09-07T07:16:20.530664Z"
    }
   },
   "cell_type": "code",
   "source": [
    "print('=========== Maplight GNN unique feats only ===========')\n",
    "for name, model in models.items():\n",
    "    eval_model(name, model, X_train, y_train, to_scale=False)"
   ],
   "id": "1eaff39b0da19639",
   "outputs": [
    {
     "name": "stdout",
     "output_type": "stream",
     "text": [
      "=========== Maplight GNN unique feats only ===========\n",
      "     RF: 0.8718    (0.877 ± 0.005)    4.0s\n",
      " HistGB: 0.8921    (0.900 ± 0.008)    60.1s\n",
      "    XGB: 0.8922    (0.899 ± 0.007)    38.2s\n",
      "XGB_GPU: 0.8898    (0.897 ± 0.008)    23.0s\n",
      "     CB: 0.8762    (0.886 ± 0.010)    20.6s\n",
      " CB_GPU: 0.8747    (0.886 ± 0.011)    11.4s\n",
      "    LGB: 0.8932    (0.902 ± 0.009)    14.0s\n"
     ]
    }
   ],
   "execution_count": 226
  },
  {
   "metadata": {
    "ExecuteTime": {
     "end_time": "2024-09-07T07:09:56.893868Z",
     "start_time": "2024-09-07T07:09:43.367421Z"
    }
   },
   "cell_type": "code",
   "source": [
    "clf = models['HistGB']\n",
    "clf.fit(X_train, y_train)\n",
    "pred = clf.predict_proba(X_test)\n",
    "\n",
    "arr_to_submit(pred[:, 1]).to_csv('../submits/maplight_gnn_histgb_unique_feats.csv')"
   ],
   "id": "72aa21cb9eebce5c",
   "outputs": [],
   "execution_count": 218
  },
  {
   "metadata": {},
   "cell_type": "markdown",
   "source": "### non correlated feats only",
   "id": "fc8dd2ad9c41f772"
  },
  {
   "metadata": {
    "ExecuteTime": {
     "end_time": "2024-09-07T07:32:31.582277Z",
     "start_time": "2024-09-07T07:31:07.980459Z"
    }
   },
   "cell_type": "code",
   "source": [
    "from src.corr import non_corr_features\n",
    "\n",
    "X_train_uncor = non_corr_features(X_train, y_train)\n",
    "X_test_uncor = X_test[X_train_uncor.columns]"
   ],
   "id": "7d8ad04717d1ccb",
   "outputs": [
    {
     "name": "stdout",
     "output_type": "stream",
     "text": [
      "________________________________________________________________________________\n",
      "[Memory] Calling src.corr.get_corr...\n",
      "get_corr(        0    1    2    3    4    5    6    7    8    9  ...      2857  \\\n",
      "0     0.0  0.0  0.0  0.0  2.0  0.0  0.0  0.0  0.0  0.0  ... -0.761662   \n",
      "1     0.0  0.0  0.0  0.0  0.0  0.0  0.0  0.0  0.0  0.0  ... -0.824082   \n",
      "2     0.0  0.0  0.0  0.0  0.0  0.0  0.0  0.0  0.0  0.0  ...  0.722339   \n",
      "3     0.0  0.0  0.0  0.0  0.0  0.0  0.0  0.0  0.0  1.0  ...  1.415517   \n",
      "4     0.0  1.0  0.0  0.0  0.0  0.0  0.0  0.0  0.0  1.0  ...  1.042417   \n",
      "...   ...  ...  ...  ...  ...  ...  ...  ...  ...  ...  ...       ...   \n",
      "7934  0.0  0.0  0.0  0.0  0.0  0.0  0.0  0.0  0.0  0.0  ...  0.557920   \n",
      "7935  0.0  1.0  0.0  0.0  0.0  0.0  0.0  0.0  0.0  1.0  ...  0.856924   \n",
      "7936  0.0  1.0  1.0  0.0  0.0  0.0  0.0  0....)\n",
      "________________________________________________________get_corr - 82.8s, 1.4min\n"
     ]
    }
   ],
   "execution_count": 227
  },
  {
   "metadata": {
    "ExecuteTime": {
     "end_time": "2024-09-07T07:32:31.721846Z",
     "start_time": "2024-09-07T07:32:31.584281Z"
    }
   },
   "cell_type": "code",
   "source": "X_train_uncor.shape, X_test_uncor.shape",
   "id": "885bdc9712a59201",
   "outputs": [
    {
     "data": {
      "text/plain": [
       "((7939, 2700), (1221, 2700))"
      ]
     },
     "execution_count": 228,
     "metadata": {},
     "output_type": "execute_result"
    }
   ],
   "execution_count": 228
  },
  {
   "metadata": {
    "ExecuteTime": {
     "end_time": "2024-09-07T07:35:28.688043Z",
     "start_time": "2024-09-07T07:32:31.723850Z"
    }
   },
   "cell_type": "code",
   "source": [
    "print('=========== MaplightGNN uncorrelated ===========')\n",
    "\n",
    "for name, model in models.items():\n",
    "    eval_model(name, model, X_train_uncor, y_train, to_scale=False)"
   ],
   "id": "75eecc269313327b",
   "outputs": [
    {
     "name": "stdout",
     "output_type": "stream",
     "text": [
      "=========== MaplightGNN uncorrelated ===========\n",
      "     RF: 0.8733    (0.880 ± 0.007)    4.1s\n",
      " HistGB: 0.8959    (0.903 ± 0.007)    64.2s\n",
      "    XGB: 0.8916    (0.899 ± 0.007)    36.6s\n",
      "XGB_GPU: 0.8905    (0.898 ± 0.007)    22.3s\n",
      "     CB: 0.8762    (0.886 ± 0.009)    21.0s\n",
      " CB_GPU: 0.8789    (0.888 ± 0.009)    12.3s\n",
      "    LGB: 0.8912    (0.899 ± 0.008)    16.2s\n"
     ]
    }
   ],
   "execution_count": 229
  },
  {
   "metadata": {
    "ExecuteTime": {
     "end_time": "2024-09-07T05:13:39.837802Z",
     "start_time": "2024-09-07T05:13:39.836803Z"
    }
   },
   "cell_type": "code",
   "source": [
    "# X_train = pd.read_pickle('../data/processed/X_train.pkl.zip')\n",
    "# X_test = pd.read_pickle('../data/processed/X_test.pkl.zip')\n",
    "# \n",
    "# y_train = pd.read_pickle('../data/processed/y_train.pkl')"
   ],
   "id": "1161f85f8ed78e62",
   "outputs": [],
   "execution_count": null
  },
  {
   "metadata": {},
   "cell_type": "markdown",
   "source": "# Maplight GNN + Mordred",
   "id": "7dbc884084a75967"
  },
  {
   "metadata": {
    "ExecuteTime": {
     "end_time": "2024-09-07T07:35:47.494833Z",
     "start_time": "2024-09-07T07:35:46.293551Z"
    }
   },
   "cell_type": "code",
   "source": [
    "from sklearn.preprocessing import OneHotEncoder\n",
    "\n",
    "params = {\n",
    "    'morgan_fps':True,\n",
    "    'avalon_fps':True,\n",
    "    'erg_fps':True,\n",
    "    'rdkit_feats':True,\n",
    "    'mord_feats': True,\n",
    "    'gin_gnn':True,\n",
    "}\n",
    "X_train = get_fingerprints(train.smi, **params)\n",
    "X_test = get_fingerprints(test.smi, **params)\n",
    "y_train = pd.read_pickle('../data/processed/y_train.pkl')\n",
    "\n",
    "fps_offset = 1024 + 1024 + 315\n",
    "\n",
    "scaler = OffsetScaler(fps_offset)\n",
    "X_train = scaler.fit_transform(X_train)\n",
    "X_test = scaler.transform(X_test)    \n",
    "\n",
    "ohe = OneHotEncoder(sparse_output=False)\n",
    "prop = ohe.fit_transform(train[['prop']])\n",
    "X_train = np.concatenate([X_train, prop], axis=1)    \n",
    "\n",
    "prop = ohe.transform(test[['prop']])\n",
    "X_test = np.concatenate([X_test, prop], axis=1) \n",
    "\n",
    "X_train.shape"
   ],
   "id": "163ca23fd707de8a",
   "outputs": [
    {
     "data": {
      "text/plain": [
       "(7939, 4692)"
      ]
     },
     "execution_count": 232,
     "metadata": {},
     "output_type": "execute_result"
    }
   ],
   "execution_count": 232
  },
  {
   "metadata": {
    "ExecuteTime": {
     "end_time": "2024-09-07T07:35:51.240263Z",
     "start_time": "2024-09-07T07:35:49.740617Z"
    }
   },
   "cell_type": "code",
   "source": [
    "X_train = pd.DataFrame(X_train)\n",
    "X_test = pd.DataFrame(X_test)\n",
    "X_train = drop_nans_non_unique(X_train)\n",
    "X_test = X_test[X_train.columns]\n",
    "\n",
    "X_train.shape"
   ],
   "id": "9e46d96c7761ab46",
   "outputs": [
    {
     "data": {
      "text/plain": [
       "(7939, 3682)"
      ]
     },
     "execution_count": 233,
     "metadata": {},
     "output_type": "execute_result"
    }
   ],
   "execution_count": 233
  },
  {
   "metadata": {
    "ExecuteTime": {
     "end_time": "2024-09-07T07:40:33.493670Z",
     "start_time": "2024-09-07T07:35:54.951870Z"
    }
   },
   "cell_type": "code",
   "source": [
    "print('============= Maplight GNN + Mordred ============')\n",
    "for name, model in models.items():\n",
    "    eval_model(name, model, X_train, y_train, to_scale=False)"
   ],
   "id": "30410b5fd1f45aa0",
   "outputs": [
    {
     "name": "stdout",
     "output_type": "stream",
     "text": [
      "============= Maplight GNN + Mordred ============\n",
      "     RF: 0.8720    (0.878 ± 0.006)    6.9s\n",
      " HistGB: 0.8959    (0.903 ± 0.007)    92.1s\n",
      "    XGB: 0.8944    (0.900 ± 0.006)    65.2s\n",
      "XGB_GPU: 0.8913    (0.898 ± 0.006)    34.2s\n",
      "     CB: 0.8797    (0.888 ± 0.008)    38.9s\n",
      " CB_GPU: 0.8819    (0.890 ± 0.008)    16.4s\n",
      "    LGB: 0.8967    (0.904 ± 0.007)    24.7s\n"
     ]
    }
   ],
   "execution_count": 234
  },
  {
   "metadata": {
    "ExecuteTime": {
     "end_time": "2024-09-07T07:48:17.505615Z",
     "start_time": "2024-09-07T07:46:37.570652Z"
    }
   },
   "cell_type": "code",
   "source": [
    "X_train = non_corr_features(X_train, y_train, threshold=0.95)\n",
    "X_test = X_test[X_train.columns]\n",
    "X_train.shape"
   ],
   "id": "462a00aafaae2704",
   "outputs": [
    {
     "name": "stdout",
     "output_type": "stream",
     "text": [
      "________________________________________________________________________________\n",
      "[Memory] Calling src.corr.get_corr...\n",
      "get_corr(        0    1    2    3    4    5    6    7    8    9  ...      4683  \\\n",
      "0     0.0  0.0  0.0  0.0  2.0  0.0  0.0  0.0  0.0  0.0  ... -0.761662   \n",
      "1     0.0  0.0  0.0  0.0  0.0  0.0  0.0  0.0  0.0  0.0  ... -0.824082   \n",
      "2     0.0  0.0  0.0  0.0  0.0  0.0  0.0  0.0  0.0  0.0  ...  0.722339   \n",
      "3     0.0  0.0  0.0  0.0  0.0  0.0  0.0  0.0  0.0  1.0  ...  1.415517   \n",
      "4     0.0  1.0  0.0  0.0  0.0  0.0  0.0  0.0  0.0  1.0  ...  1.042417   \n",
      "...   ...  ...  ...  ...  ...  ...  ...  ...  ...  ...  ...       ...   \n",
      "7934  0.0  0.0  0.0  0.0  0.0  0.0  0.0  0.0  0.0  0.0  ...  0.557920   \n",
      "7935  0.0  1.0  0.0  0.0  0.0  0.0  0.0  0.0  0.0  1.0  ...  0.856924   \n",
      "7936  0.0  1.0  1.0  0.0  0.0  0.0  0.0  0....)\n",
      "________________________________________________________get_corr - 99.1s, 1.7min\n"
     ]
    },
    {
     "data": {
      "text/plain": [
       "(7939, 3063)"
      ]
     },
     "execution_count": 237,
     "metadata": {},
     "output_type": "execute_result"
    }
   ],
   "execution_count": 237
  },
  {
   "metadata": {
    "ExecuteTime": {
     "end_time": "2024-09-07T07:51:44.647476Z",
     "start_time": "2024-09-07T07:48:17.506609Z"
    }
   },
   "cell_type": "code",
   "source": [
    "print('============= Maplight GNN + Mordred uncorrelated ============')\n",
    "\n",
    "for name, model in models.items():\n",
    "    eval_model(name, model, X_train, y_train, to_scale=False)"
   ],
   "id": "2f49ae46c71b3154",
   "outputs": [
    {
     "name": "stdout",
     "output_type": "stream",
     "text": [
      "============= Maplight GNN + Mordred uncorrelated ============\n",
      "     RF: 0.8748    (0.879 ± 0.004)    4.7s\n",
      " HistGB: 0.8969    (0.903 ± 0.006)    71.2s\n",
      "    XGB: 0.8920    (0.899 ± 0.007)    46.7s\n",
      "XGB_GPU: 0.8912    (0.898 ± 0.007)    26.5s\n",
      "     CB: 0.8821    (0.889 ± 0.007)    27.4s\n",
      " CB_GPU: 0.8774    (0.886 ± 0.009)    12.7s\n",
      "    LGB: 0.8939    (0.903 ± 0.009)    17.9s\n"
     ]
    }
   ],
   "execution_count": 238
  },
  {
   "metadata": {},
   "cell_type": "code",
   "source": "",
   "id": "1fc825733135aef9",
   "outputs": [],
   "execution_count": null
  },
  {
   "metadata": {},
   "cell_type": "code",
   "source": "",
   "id": "f377aea72aeabd87",
   "outputs": [],
   "execution_count": null
  },
  {
   "metadata": {},
   "cell_type": "code",
   "outputs": [],
   "execution_count": null,
   "source": "",
   "id": "638d9b9e89dfb0b1"
  },
  {
   "metadata": {},
   "cell_type": "code",
   "outputs": [],
   "execution_count": null,
   "source": "",
   "id": "1488ce7b4a7d1a2d"
  },
  {
   "metadata": {},
   "cell_type": "code",
   "outputs": [],
   "execution_count": null,
   "source": "",
   "id": "596aed9e33be7d1b"
  },
  {
   "metadata": {},
   "cell_type": "code",
   "outputs": [],
   "execution_count": null,
   "source": "",
   "id": "7b3a0feae427c1ba"
  }
 ],
 "metadata": {
  "kernelspec": {
   "display_name": "Python 3 (ipykernel)",
   "language": "python",
   "name": "python3"
  },
  "language_info": {
   "codemirror_mode": {
    "name": "ipython",
    "version": 3
   },
   "file_extension": ".py",
   "mimetype": "text/x-python",
   "name": "python",
   "nbconvert_exporter": "python",
   "pygments_lexer": "ipython3",
   "version": "3.10.0"
  }
 },
 "nbformat": 4,
 "nbformat_minor": 5
}
