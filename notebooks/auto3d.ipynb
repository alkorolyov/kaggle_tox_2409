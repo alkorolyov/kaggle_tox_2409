{
 "cells": [
  {
   "cell_type": "code",
   "id": "initial_id",
   "metadata": {
    "collapsed": true
   },
   "source": [
    "from rdkit import Chem\n",
    "from Auto3D.auto3D import options, smiles2mols\n",
    "\n",
    "smiles = ['CCNCC', ]#'[H]c1c2c(c3c(C([H])([H])[H])c([H])c(=O)oc3c1[H])C1(C([H])([H])[H])OOC1(C([H])([H])[H])O2']\n",
    "args = options(k=1, use_gpu=False, verbose=True, opt_steps=10)\n",
    "mols = smiles2mols(smiles, args)\n",
    "\n",
    "# get the energy and atomic positions out of the mol objects\n",
    "for mol in mols:\n",
    "   print(mol.GetProp('_Name'))\n",
    "   print('Energy: ', mol.GetProp('E_tot'))  # unit Hartree\n",
    "   conf = mol.GetConformer()\n",
    "   for i in range(conf.GetNumAtoms()):\n",
    "      atom = mol.GetAtomWithIdx(i)\n",
    "      pos = conf.GetAtomPosition(i)\n",
    "      print(f'{atom.GetSymbol()} {pos.x:.3f} {pos.y:.3f} {pos.z:.3f}')"
   ],
   "outputs": [],
   "execution_count": null
  },
  {
   "metadata": {},
   "cell_type": "code",
   "source": "",
   "id": "a062f4ce08c06fb5",
   "outputs": [],
   "execution_count": null
  }
 ],
 "metadata": {
  "kernelspec": {
   "display_name": "chem",
   "language": "python",
   "name": "chem"
  },
  "language_info": {
   "codemirror_mode": {
    "name": "ipython",
    "version": 2
   },
   "file_extension": ".py",
   "mimetype": "text/x-python",
   "name": "python",
   "nbconvert_exporter": "python",
   "pygments_lexer": "ipython2",
   "version": "2.7.6"
  }
 },
 "nbformat": 4,
 "nbformat_minor": 5
}
