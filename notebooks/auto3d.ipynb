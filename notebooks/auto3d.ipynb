{
 "cells": [
  {
   "cell_type": "code",
   "id": "initial_id",
   "metadata": {
    "collapsed": true,
    "ExecuteTime": {
     "end_time": "2024-09-10T06:33:45.638558Z",
     "start_time": "2024-09-10T06:31:59.420784Z"
    }
   },
   "source": [
    "from rdkit import Chem\n",
    "from Auto3D.auto3D import options, smiles2mols\n",
    "\n",
    "smiles = ['CCNCC', '[H]c1c2c(c3c(C([H])([H])[H])c([H])c(=O)oc3c1[H])C1(C([H])([H])[H])OOC1(C([H])([H])[H])O2']\n",
    "args = options(k=1, use_gpu=True, verbose=True)\n",
    "mols = smiles2mols(smiles, args)\n",
    "\n",
    "# get the energy and atomic positions out of the mol objects\n",
    "for mol in mols:\n",
    "   print(mol.GetProp('_Name'))\n",
    "   print('Energy: ', mol.GetProp('E_tot'))  # unit Hartree\n",
    "   conf = mol.GetConformer()\n",
    "   for i in range(conf.GetNumAtoms()):\n",
    "      atom = mol.GetAtomWithIdx(i)\n",
    "      pos = conf.GetAtomPosition(i)\n",
    "      print(f'{atom.GetSymbol()} {pos.x:.3f} {pos.y:.3f} {pos.z:.3f}')"
   ],
   "outputs": [
    {
     "name": "stdout",
     "output_type": "stream",
     "text": [
      "Checking input file...\n",
      "\tThere are 2 SMILES in the input file /tmp/tmp3zkm14xt/smiles.smi. \n",
      "\tAll SMILES and IDs are valid.\n",
      "Suggestions for choosing isomer_engine and optimizing_engine: \n",
      "\tIsomer engine options: RDKit and Omega.\n",
      "\tOptimizing engine options: ANI2x, ANI2xt, AIMNET or your own NNP.\n",
      "Enumerating cis/tran isomers for unspecified double bonds...\n",
      "Enumerating R/S isomers for unspecified atomic centers...\n",
      "Removing enantiomers...\n",
      "Enumerating conformers/rotamers, removing duplicates...\n"
     ]
    },
    {
     "name": "stderr",
     "output_type": "stream",
     "text": [
      "100%|██████████| 3/3 [00:12<00:00,  4.04s/it]"
     ]
    },
    {
     "name": "stdout",
     "output_type": "stream",
     "text": [
      "Preparing for parallel optimizing... (Max optimization steps: 5000)\n",
      "Total 3D conformers: 69\n"
     ]
    },
    {
     "name": "stderr",
     "output_type": "stream",
     "text": [
      "\n",
      " 10%|▉         | 499/5000 [01:13<07:58,  9.41it/s]"
     ]
    },
    {
     "name": "stdout",
     "output_type": "stream",
     "text": [
      "Total 3D structures: 69  Converged: 63   Dropped(Oscillating): 0    Active: 6\n"
     ]
    },
    {
     "name": "stderr",
     "output_type": "stream",
     "text": [
      " 15%|█▍        | 728/5000 [01:27<08:33,  8.31it/s]"
     ]
    },
    {
     "name": "stdout",
     "output_type": "stream",
     "text": [
      "Optimization finished at step 729:   Total 3D structures: 69  Converged: 69   Dropped(Oscillating): 0    Active: 0\n"
     ]
    },
    {
     "name": "stderr",
     "output_type": "stream",
     "text": [
      "\n"
     ]
    },
    {
     "name": "stdout",
     "output_type": "stream",
     "text": [
      "Begin to select structures that satisfy the requirements...\n",
      "Energy unit: Hartree if implicit.\n",
      "HPNMFZURTQLUMO-UHFFFAOYSA-N\n",
      "Energy:  -213.93221558567356\n",
      "C -2.450 0.103 0.140\n",
      "C -1.158 -0.637 -0.155\n",
      "N -0.014 0.246 -0.007\n",
      "C 1.256 -0.375 -0.343\n",
      "C 2.390 0.627 -0.231\n",
      "H -2.420 0.523 1.143\n",
      "H -2.602 0.920 -0.566\n",
      "H -3.308 -0.564 0.069\n",
      "H -1.207 -1.092 -1.155\n",
      "H -1.037 -1.456 0.555\n",
      "H -0.148 1.067 -0.582\n",
      "H 1.420 -1.191 0.362\n",
      "H 1.248 -0.823 -1.347\n",
      "H 2.419 1.049 0.771\n",
      "H 3.350 0.157 -0.438\n",
      "H 2.260 1.444 -0.941\n",
      "IWKVORJQUCGMGE-UHFFFAOYSA-N\n",
      "Energy:  -917.3653110528772\n",
      "C 1.484 -2.195 0.556\n",
      "C 2.036 -0.889 0.061\n",
      "C 3.338 -0.805 -0.252\n",
      "C 4.003 0.440 -0.628\n",
      "O 5.145 0.550 -0.969\n",
      "O 3.233 1.566 -0.555\n",
      "C 1.905 1.526 -0.248\n",
      "C 1.295 2.772 -0.180\n",
      "C -0.049 2.872 0.098\n",
      "C -0.750 1.689 0.263\n",
      "C -0.167 0.440 0.160\n",
      "C 1.223 0.326 -0.021\n",
      "C -1.289 -0.573 0.239\n",
      "C -1.458 -1.546 -0.902\n",
      "O -1.386 -1.155 1.566\n",
      "O -2.398 -0.170 1.950\n",
      "C -2.491 0.318 0.611\n",
      "C -3.857 0.114 0.024\n",
      "O -2.102 1.666 0.511\n",
      "H 0.648 -2.042 1.230\n",
      "H 2.261 -2.749 1.076\n",
      "H 1.139 -2.820 -0.265\n",
      "H 3.982 -1.670 -0.222\n",
      "H 1.906 3.647 -0.343\n",
      "H -0.545 3.826 0.176\n",
      "H -2.264 -2.238 -0.676\n",
      "H -1.712 -0.987 -1.802\n",
      "H -0.556 -2.112 -1.103\n",
      "H -4.157 -0.923 0.146\n",
      "H -4.573 0.755 0.534\n",
      "H -3.845 0.368 -1.034\n"
     ]
    }
   ],
   "execution_count": 3
  },
  {
   "metadata": {},
   "cell_type": "code",
   "source": "",
   "id": "a062f4ce08c06fb5",
   "outputs": [],
   "execution_count": null
  }
 ],
 "metadata": {
  "kernelspec": {
   "display_name": "chem",
   "language": "python",
   "name": "chem"
  },
  "language_info": {
   "codemirror_mode": {
    "name": "ipython",
    "version": 2
   },
   "file_extension": ".py",
   "mimetype": "text/x-python",
   "name": "python",
   "nbconvert_exporter": "python",
   "pygments_lexer": "ipython2",
   "version": "2.7.6"
  }
 },
 "nbformat": 4,
 "nbformat_minor": 5
}
