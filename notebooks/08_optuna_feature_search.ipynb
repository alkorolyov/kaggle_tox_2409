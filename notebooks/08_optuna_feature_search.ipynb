{
 "cells": [
  {
   "cell_type": "code",
   "id": "initial_id",
   "metadata": {
    "collapsed": true,
    "ExecuteTime": {
     "end_time": "2024-09-07T16:42:45.475571Z",
     "start_time": "2024-09-07T16:42:45.447905Z"
    }
   },
   "source": [
    "%load_ext autoreload\n",
    "%autoreload 2\n",
    "\n",
    "import sys\n",
    "sys.path.append('../')"
   ],
   "outputs": [],
   "execution_count": 60
  },
  {
   "metadata": {
    "ExecuteTime": {
     "end_time": "2024-09-07T16:35:59.055304Z",
     "start_time": "2024-09-07T16:35:59.050820Z"
    }
   },
   "cell_type": "code",
   "source": [
    "import pandas as pd\n",
    "import numpy as np\n",
    "\n",
    "import lightgbm as lgb\n",
    "from sklearn.preprocessing import OneHotEncoder\n",
    "\n",
    "from src.corr import non_corr_features\n",
    "from src.maplight_gnn import get_representation\n",
    "from src.utils import drop_nans_non_unique, OffsetScaler, eval_model\n",
    "\n",
    "N_JOBS = 24\n",
    "RANDOM_SEED = 42\n",
    "\n",
    "clf = lgb.LGBMClassifier(random_state=RANDOM_SEED, n_jobs=N_JOBS, verbose=-1)\n"
   ],
   "id": "f74939da9ab68092",
   "outputs": [],
   "execution_count": 55
  },
  {
   "metadata": {
    "ExecuteTime": {
     "end_time": "2024-09-07T15:54:21.026650Z",
     "start_time": "2024-09-07T15:54:21.014098Z"
    }
   },
   "cell_type": "code",
   "source": [
    "train = pd.read_csv('../data/processed/train.csv', index_col=0)\n",
    "test = pd.read_csv('../data/processed/test.csv', index_col=0)"
   ],
   "id": "118e1457927f5a99",
   "outputs": [],
   "execution_count": 3
  },
  {
   "metadata": {
    "ExecuteTime": {
     "end_time": "2024-09-07T16:01:46.203888Z",
     "start_time": "2024-09-07T16:01:44.338648Z"
    }
   },
   "cell_type": "code",
   "source": [
    "def prepare_data(**params):\n",
    "    X_train = get_representation(train.smi, **params)\n",
    "    X_test = get_representation(test.smi, **params)\n",
    "    \n",
    "    X_train = drop_nans_non_unique(X_train)\n",
    "    X_test = X_test[X_train.columns]\n",
    "    \n",
    "    fps_offset = 1024 * params['morgan_fps'] + \\\n",
    "                 1024 * params['avalon_fps'] + \\\n",
    "                 315 * params['erg_fps']\n",
    "    \n",
    "    scaler = OffsetScaler(fps_offset)\n",
    "    X_train = scaler.fit_transform(X_train)\n",
    "    X_test = scaler.transform(X_test)    \n",
    "    \n",
    "    ohe = OneHotEncoder(sparse_output=False)\n",
    "    prop = ohe.fit_transform(train[['prop']])\n",
    "    X_train = pd.concat([X_train, pd.DataFrame(prop, columns=ohe.get_feature_names_out())], axis=1)\n",
    "    \n",
    "    prop = ohe.transform(test[['prop']])\n",
    "    X_test = pd.concat([X_test, pd.DataFrame(prop, columns=ohe.get_feature_names_out())], axis=1)\n",
    "    return X_train, train.target, X_test\n",
    "\n",
    "params = {\n",
    "    'morgan_fps':True,\n",
    "    'avalon_fps':True,\n",
    "    'erg_fps':True,\n",
    "    'rdkit_feats':True,\n",
    "    'mord_feats': True,\n",
    "    'gin_gnn':True,\n",
    "}\n",
    "\n",
    "X_train, y_train, X_test = prepare_data(**params)\n",
    "\n",
    "X_train = non_corr_features(X_train, y_train, threshold=0.99)\n",
    "X_test = X_test[X_train.columns]\n",
    "\n",
    "X_train.shape, X_test.shape"
   ],
   "id": "95e3e289ea751449",
   "outputs": [
    {
     "data": {
      "text/plain": [
       "((7939, 3346), (1221, 3346))"
      ]
     },
     "execution_count": 29,
     "metadata": {},
     "output_type": "execute_result"
    }
   ],
   "execution_count": 29
  },
  {
   "metadata": {
    "ExecuteTime": {
     "end_time": "2024-09-07T16:48:00.465669Z",
     "start_time": "2024-09-07T16:47:57.962129Z"
    }
   },
   "cell_type": "code",
   "source": "X_train.to_pickle('../data/processed/X_train_full.pkl.zip')",
   "id": "d66b76044d592e69",
   "outputs": [],
   "execution_count": 64
  },
  {
   "metadata": {
    "ExecuteTime": {
     "end_time": "2024-09-07T16:01:29.000403Z",
     "start_time": "2024-09-07T16:01:28.991340Z"
    }
   },
   "cell_type": "code",
   "source": "X_train.columns.str.contains('morgan_').sum(), X_train.columns.str.contains('erg_').sum(), X_train.columns.str.contains('avalon_').sum(), X_train.columns.str.contains('gin_').sum()",
   "id": "dea906c27a11c8a9",
   "outputs": [
    {
     "data": {
      "text/plain": [
       "(1024, 295, 1024, 300)"
      ]
     },
     "execution_count": 28,
     "metadata": {},
     "output_type": "execute_result"
    }
   ],
   "execution_count": 28
  },
  {
   "metadata": {
    "ExecuteTime": {
     "end_time": "2024-09-07T16:01:15.232505Z",
     "start_time": "2024-09-07T16:01:15.224217Z"
    }
   },
   "cell_type": "code",
   "source": "X_train.columns.str.contains('morgan_').sum(), X_train.columns.str.contains('erg_').sum(), X_train.columns.str.contains('avalon_').sum(), X_train.columns.str.contains('gin_').sum()",
   "id": "82f7e9bc901dd43",
   "outputs": [
    {
     "data": {
      "text/plain": [
       "(1024, 295, 1018, 300)"
      ]
     },
     "execution_count": 26,
     "metadata": {},
     "output_type": "execute_result"
    }
   ],
   "execution_count": 26
  },
  {
   "metadata": {
    "ExecuteTime": {
     "end_time": "2024-09-07T16:36:32.291016Z",
     "start_time": "2024-09-07T16:36:07.661672Z"
    }
   },
   "cell_type": "code",
   "source": "eval_model('LGB', clf, X_train, y_train);",
   "id": "e341ecd9ea39aa62",
   "outputs": [
    {
     "name": "stdout",
     "output_type": "stream",
     "text": [
      "    LGB: 0.8985    (0.904 ± 0.005)    24.6s\n"
     ]
    }
   ],
   "execution_count": 56
  },
  {
   "metadata": {
    "ExecuteTime": {
     "end_time": "2024-09-07T16:54:21.244281Z",
     "start_time": "2024-09-07T16:52:53.406500Z"
    }
   },
   "cell_type": "code",
   "source": [
    "import optuna\n",
    "from optuna.samplers import TPESampler\n",
    "\n",
    "import pandas as pd\n",
    "from sklearn.metrics import roc_auc_score\n",
    "from sklearn.model_selection import cross_val_score\n",
    "from sklearn.model_selection import KFold, RepeatedKFold\n",
    "\n",
    "RANDOM_SEED = 42\n",
    "\n",
    "class FeatureSelectionOptuna:\n",
    "    \"\"\"\n",
    "    This class implements feature selection using Optuna optimization framework.\n",
    "\n",
    "    Parameters:\n",
    "\n",
    "    - model (object): The predictive model to evaluate; this should be any object that implements fit() and predict() methods.\n",
    "    - loss_fn (function): The loss function to use for evaluating the model performance. This function should take the true labels and the\n",
    "                          predictions as inputs and return a loss value.\n",
    "    - features (list of str): A list containing the names of all possible features that can be selected for the model.\n",
    "    - X (DataFrame): The complete set of feature data (pandas DataFrame) from which subsets will be selected for training the model.\n",
    "    - y (Series): The target variable associated with the X data (pandas Series).\n",
    "    - splits (list of tuples): A list of tuples where each tuple contains two elements, the train indices and the validation indices.\n",
    "    - feat_count_penalty (float, optional): A factor used to penalize the objective function based on the number of features used.\n",
    "    \"\"\"\n",
    "\n",
    "    def __init__(self,\n",
    "                 model,\n",
    "                 X,\n",
    "                 y,\n",
    "                 features=None,\n",
    "                 group_feats=None,\n",
    "                 loss_fn=roc_auc_score,\n",
    "                 ):\n",
    "\n",
    "        self.model = model\n",
    "        self.X = X\n",
    "        self.y = y\n",
    "        self.features = features            \n",
    "        self.group_feats = group_feats\n",
    "        self.loss_fn = loss_fn\n",
    "\n",
    "    def __call__(self,\n",
    "                 trial: optuna.trial.Trial):\n",
    "        \n",
    "        \"\"\"\n",
    "        self.group_feats = {\n",
    "            'group_1': ['feat_1', 'feat_2', ... ],\n",
    "            ...            \n",
    "        }\n",
    "        \n",
    "        \"\"\"\n",
    "        \n",
    "        groups = [k for k in self.group_feats if trial.suggest_categorical(k, [True, False])]\n",
    "        group_feats_selected = []\n",
    "        [group_feats_selected.extend(self.group_feats[k]) for k in groups]\n",
    "                                        \n",
    "        feature = {name: trial.suggest_categorical(name, [True, False]) for name in self.features}\n",
    "        feats_selected = [k for k, v in feature.items() if v]\n",
    "        \n",
    "        #print(group_feats_selected)\n",
    "        \n",
    "        X_selected = self.X[feats_selected + group_feats_selected].copy()\n",
    "\n",
    "        \n",
    "        \n",
    "        kfold = RepeatedKFold(n_splits=5, n_repeats=3, random_state=RANDOM_SEED)\n",
    "\n",
    "        cv_res = cross_val_score(\n",
    "            self.model, \n",
    "            X_selected, self.y, \n",
    "            cv=kfold, \n",
    "            scoring='roc_auc')\n",
    "        score = (cv_res.mean() - cv_res.std())\n",
    "        return score\n",
    "\n",
    "\n",
    "\n",
    "\n",
    "\n",
    "def main():\n",
    "    X_train = pd.read_pickle('../data/processed/X_train_full.pkl.zip')\n",
    "    y_train = pd.read_pickle('../data/processed/y_train.pkl')\n",
    "    \n",
    "    groups = {\n",
    "        'morgan': [],\n",
    "        'avalon': [],\n",
    "        'erg': [],\n",
    "        'gin': [],\n",
    "    }\n",
    "    \n",
    "    features = []\n",
    "    \n",
    "    for c in X_train.columns:\n",
    "        if 'morgan_' in c:\n",
    "            groups['morgan'].append(c)\n",
    "            continue\n",
    "        if 'avalon_' in c:\n",
    "            groups['avalon'].append(c)\n",
    "            continue\n",
    "        if 'erg_' in c:\n",
    "            groups['erg'].append(c)\n",
    "            continue\n",
    "        if 'gin_' in c:\n",
    "            groups['gin'].append(c)\n",
    "            continue\n",
    "        features.append(c)                \n",
    "        \n",
    "    clf = lgb.LGBMClassifier(random_state=RANDOM_SEED, n_jobs=-1, verbose=-1)\n",
    "    clf = xgb.XGBClassifier(random_state=RANDOM_SEED, n_jobs=N_JOBS, verbosity=0, \n",
    "                                  tree_method='gpu_hist', predictor='gpu_predictor', gpu_id=1)\n",
    "\n",
    "    \n",
    "    sampler = TPESampler(seed=RANDOM_SEED)\n",
    "    study = optuna.create_study(\n",
    "        study_name='feat_sel_study_rf_ds02',\n",
    "        # storage=f\"sqlite:///../data/tuning/optuna.db\",\n",
    "        direction=\"maximize\",\n",
    "        sampler=sampler,\n",
    "        load_if_exists=True,\n",
    "    )\n",
    "    \n",
    "    # Set all groups and features to True\n",
    "    opt_params = [k for k in groups] + features\n",
    "    default_params = {k: True for k in opt_params}\n",
    "    study.enqueue_trial(default_params)    \n",
    "    optuna.logging.set_verbosity(optuna.logging.INFO)    \n",
    "    \n",
    "    study.optimize(\n",
    "        FeatureSelectionOptuna(\n",
    "            model=clf,\n",
    "            features=features,\n",
    "            group_feats=groups,\n",
    "            X=X_train,\n",
    "            y=y_train,\n",
    "        ),\n",
    "        n_trials=10,\n",
    "        n_jobs=1,\n",
    "        show_progress_bar=True)\n",
    "\n",
    "if __name__ == '__main__':\n",
    "    main()"
   ],
   "id": "34e2be91356e8844",
   "outputs": [
    {
     "name": "stderr",
     "output_type": "stream",
     "text": [
      "[I 2024-09-07 18:52:54,013] A new study created in memory with name: feat_sel_study_rf_ds02\n"
     ]
    },
    {
     "data": {
      "text/plain": [
       "  0%|          | 0/10 [00:00<?, ?it/s]"
      ],
      "application/vnd.jupyter.widget-view+json": {
       "version_major": 2,
       "version_minor": 0,
       "model_id": "d27f1dc4f9434006a7ab1b97be4f9488"
      }
     },
     "metadata": {},
     "output_type": "display_data"
    },
    {
     "name": "stdout",
     "output_type": "stream",
     "text": [
      "[I 2024-09-07 18:54:11,992] Trial 0 finished with value: 0.8987944667036418 and parameters: {'morgan': True, 'avalon': True, 'erg': True, 'gin': True, 'rd_BalabanJ': True, 'rd_Chi2n': True, 'rd_Chi2v': True, 'rd_Chi3n': True, 'rd_Chi4n': True, 'rd_Chi4v': True, 'rd_EState_VSA1': True, 'rd_EState_VSA10': True, 'rd_EState_VSA11': True, 'rd_EState_VSA2': True, 'rd_EState_VSA4': True, 'rd_EState_VSA6': True, 'rd_FpDensityMorgan1': True, 'rd_FpDensityMorgan2': True, 'rd_FpDensityMorgan3': True, 'rd_HallKierAlpha': True, 'rd_Ipc': True, 'rd_Kappa1': True, 'rd_Kappa2': True, 'rd_Kappa3': True, 'rd_MaxEStateIndex': True, 'rd_MinAbsEStateIndex': True, 'rd_MinEStateIndex': True, 'rd_MolMR': True, 'rd_NHOHCount': True, 'rd_NOCount': True, 'rd_NumAliphaticCarbocycles': True, 'rd_NumAromaticHeterocycles': True, 'rd_NumRadicalElectrons': True, 'rd_NumSaturatedCarbocycles': True, 'rd_NumSaturatedHeterocycles': True, 'rd_NumSaturatedRings': True, 'rd_PEOE_VSA1': True, 'rd_PEOE_VSA10': True, 'rd_PEOE_VSA11': True, 'rd_PEOE_VSA14': True, 'rd_PEOE_VSA2': True, 'rd_PEOE_VSA3': True, 'rd_PEOE_VSA4': True, 'rd_PEOE_VSA5': True, 'rd_PEOE_VSA6': True, 'rd_PEOE_VSA9': True, 'rd_SMR_VSA10': True, 'rd_SlogP_VSA10': True, 'rd_SlogP_VSA11': True, 'rd_SlogP_VSA12': True, 'rd_SlogP_VSA4': True, 'rd_SlogP_VSA5': True, 'rd_SlogP_VSA6': True, 'rd_SlogP_VSA7': True, 'rd_SlogP_VSA8': True, 'rd_VSA_EState10': True, 'rd_VSA_EState2': True, 'rd_VSA_EState3': True, 'rd_VSA_EState4': True, 'rd_VSA_EState5': True, 'rd_VSA_EState6': True, 'rd_VSA_EState8': True, 'rd_VSA_EState9': True, 'rd_fr_Al_COO': True, 'rd_fr_Al_OH': True, 'rd_fr_Al_OH_noTert': True, 'rd_fr_ArN': True, 'rd_fr_Ar_COO': True, 'rd_fr_Ar_N': True, 'rd_fr_Ar_OH': True, 'rd_fr_COO': True, 'rd_fr_C_O': True, 'rd_fr_C_O_noCOO': True, 'rd_fr_C_S': True, 'rd_fr_HOCCN': True, 'rd_fr_Imine': True, 'rd_fr_NH0': True, 'rd_fr_NH1': True, 'rd_fr_N_O': True, 'rd_fr_Ndealkylation1': True, 'rd_fr_Ndealkylation2': True, 'rd_fr_aldehyde': True, 'rd_fr_alkyl_carbamate': True, 'rd_fr_alkyl_halide': True, 'rd_fr_allylic_oxid': True, 'rd_fr_amide': True, 'rd_fr_amidine': True, 'rd_fr_aniline': True, 'rd_fr_aryl_methyl': True, 'rd_fr_azide': True, 'rd_fr_azo': True, 'rd_fr_barbitur': True, 'rd_fr_benzene': True, 'rd_fr_benzodiazepine': True, 'rd_fr_bicyclic': True, 'rd_fr_diazo': True, 'rd_fr_epoxide': True, 'rd_fr_ester': True, 'rd_fr_ether': True, 'rd_fr_furan': True, 'rd_fr_guanido': True, 'rd_fr_hdrzine': True, 'rd_fr_hdrzone': True, 'rd_fr_imidazole': True, 'rd_fr_imide': True, 'rd_fr_isocyan': True, 'rd_fr_isothiocyan': True, 'rd_fr_ketone': True, 'rd_fr_ketone_Topliss': True, 'rd_fr_lactam': True, 'rd_fr_lactone': True, 'rd_fr_methoxy': True, 'rd_fr_morpholine': True, 'rd_fr_nitro': True, 'rd_fr_nitro_arom': True, 'rd_fr_nitro_arom_nonortho': True, 'rd_fr_nitroso': True, 'rd_fr_oxazole': True, 'rd_fr_oxime': True, 'rd_fr_para_hydroxylation': True, 'rd_fr_phenol': True, 'rd_fr_phenol_noOrthoHbond': True, 'rd_fr_phos_ester': True, 'rd_fr_piperdine': True, 'rd_fr_piperzine': True, 'rd_fr_priamide': True, 'rd_fr_pyridine': True, 'rd_fr_quatN': True, 'rd_fr_sulfide': True, 'rd_fr_sulfonamd': True, 'rd_fr_sulfone': True, 'rd_fr_tetrazole': True, 'rd_fr_thiazole': True, 'rd_fr_thiocyan': True, 'rd_fr_thiophene': True, 'rd_fr_unbrch_alkane': True, 'rd_fr_urea': True, 'rd_qed': True, 'md_ABCGG': True, 'md_nAcid': True, 'md_nBase': True, 'md_SpMax_A': True, 'md_SpDiam_A': True, 'md_SpMAD_A': True, 'md_VE1_A': True, 'md_VR1_A': True, 'md_VR3_A': True, 'md_nAromAtom': True, 'md_nSpiro': True, 'md_nBridgehead': True, 'md_nHetero': True, 'md_nH': True, 'md_nC': True, 'md_nN': True, 'md_nS': True, 'md_nP': True, 'md_nI': True, 'md_ATS0dv': True, 'md_ATS1dv': True, 'md_ATS2dv': True, 'md_ATS3dv': True, 'md_ATS4dv': True, 'md_ATS5dv': True, 'md_ATS6dv': True, 'md_ATS7dv': True, 'md_ATS8dv': True, 'md_ATS0s': True, 'md_ATS1s': True, 'md_ATS2s': True, 'md_ATS3s': True, 'md_ATS4s': True, 'md_ATS5s': True, 'md_ATS6s': True, 'md_ATS7s': True, 'md_ATS8s': True, 'md_ATS0Z': True, 'md_ATS1Z': True, 'md_ATS2Z': True, 'md_ATS3Z': True, 'md_ATS5Z': True, 'md_ATS6Z': True, 'md_ATS7Z': True, 'md_ATS0m': True, 'md_ATS4m': True, 'md_ATS8m': True, 'md_ATS7v': True, 'md_ATS8v': True, 'md_ATS7pe': True, 'md_ATS5are': True, 'md_ATS6are': True, 'md_ATS8are': True, 'md_ATS0p': True, 'md_ATS3p': True, 'md_ATS5p': True, 'md_ATS6p': True, 'md_ATS3i': True, 'md_AATS0dv': True, 'md_AATS1dv': True, 'md_AATS0d': True, 'md_AATS1d': True, 'md_AATS0s': True, 'md_AATS1s': True, 'md_AATS1Z': True, 'md_AATS0m': True, 'md_AATS0v': True, 'md_AATS1v': True, 'md_AATS1se': True, 'md_AATS0pe': True, 'md_AATS1pe': True, 'md_AATS0are': True, 'md_AATS1are': True, 'md_AATS0p': True, 'md_AATS1p': True, 'md_AATS0i': True, 'md_AATS1i': True, 'md_ATSC0dv': True, 'md_ATSC1dv': True, 'md_ATSC2dv': True, 'md_ATSC3dv': True, 'md_ATSC4dv': True, 'md_ATSC5dv': True, 'md_ATSC6dv': True, 'md_ATSC7dv': True, 'md_ATSC8dv': True, 'md_ATSC0d': True, 'md_ATSC1d': True, 'md_ATSC2d': True, 'md_ATSC3d': True, 'md_ATSC4d': True, 'md_ATSC5d': True, 'md_ATSC6d': True, 'md_ATSC7d': True, 'md_ATSC8d': True, 'md_ATSC0s': True, 'md_ATSC1s': True, 'md_ATSC2s': True, 'md_ATSC3s': True, 'md_ATSC4s': True, 'md_ATSC5s': True, 'md_ATSC6s': True, 'md_ATSC7s': True, 'md_ATSC8s': True, 'md_ATSC1Z': True, 'md_ATSC6Z': True, 'md_ATSC7Z': True, 'md_ATSC0m': True, 'md_ATSC2m': True, 'md_ATSC3m': True, 'md_ATSC4m': True, 'md_ATSC5m': True, 'md_ATSC8m': True, 'md_ATSC0v': True, 'md_ATSC1v': True, 'md_ATSC2v': True, 'md_ATSC3v': True, 'md_ATSC4v': True, 'md_ATSC5v': True, 'md_ATSC6v': True, 'md_ATSC7v': True, 'md_ATSC8v': True, 'md_ATSC0se': True, 'md_ATSC1se': True, 'md_ATSC2se': True, 'md_ATSC3se': True, 'md_ATSC4se': True, 'md_ATSC5se': True, 'md_ATSC6se': True, 'md_ATSC7se': True, 'md_ATSC8se': True, 'md_ATSC1pe': True, 'md_ATSC3pe': True, 'md_ATSC4pe': True, 'md_ATSC5pe': True, 'md_ATSC6pe': True, 'md_ATSC7pe': True, 'md_ATSC8pe': True, 'md_ATSC0are': True, 'md_ATSC1are': True, 'md_ATSC2are': True, 'md_ATSC3are': True, 'md_ATSC4are': True, 'md_ATSC5are': True, 'md_ATSC6are': True, 'md_ATSC0p': True, 'md_ATSC1p': True, 'md_ATSC2p': True, 'md_ATSC3p': True, 'md_ATSC4p': True, 'md_ATSC5p': True, 'md_ATSC6p': True, 'md_ATSC7p': True, 'md_ATSC8p': True, 'md_ATSC0i': True, 'md_ATSC1i': True, 'md_ATSC2i': True, 'md_ATSC3i': True, 'md_ATSC4i': True, 'md_ATSC5i': True, 'md_ATSC6i': True, 'md_ATSC7i': True, 'md_ATSC8i': True, 'md_AATSC0dv': True, 'md_AATSC1dv': True, 'md_AATSC0d': True, 'md_AATSC1d': True, 'md_AATSC0s': True, 'md_AATSC1s': True, 'md_AATSC0m': True, 'md_AATSC1m': True, 'md_AATSC0v': True, 'md_AATSC1v': True, 'md_AATSC0se': True, 'md_AATSC1se': True, 'md_AATSC0pe': True, 'md_AATSC1pe': True, 'md_AATSC0are': True, 'md_AATSC1are': True, 'md_AATSC0p': True, 'md_AATSC1p': True, 'md_AATSC0i': True, 'md_AATSC1i': True, 'md_BCUTdv-1h': True, 'md_BCUTdv-1l': True, 'md_BCUTd-1h': True, 'md_BCUTd-1l': True, 'md_BCUTs-1h': True, 'md_BCUTs-1l': True, 'md_BCUTZ-1h': True, 'md_BCUTZ-1l': True, 'md_BCUTm-1l': True, 'md_BCUTv-1h': True, 'md_BCUTv-1l': True, 'md_BCUTse-1h': True, 'md_BCUTse-1l': True, 'md_BCUTpe-1h': True, 'md_BCUTpe-1l': True, 'md_BCUTare-1h': True, 'md_BCUTare-1l': True, 'md_BCUTp-1h': True, 'md_BCUTp-1l': True, 'md_BCUTi-1h': True, 'md_BCUTi-1l': True, 'md_BalabanJ': True, 'md_SpMAD_DzZ': True, 'md_SM1_Dzm': True, 'md_SpMAD_Dzv': True, 'md_SM1_Dzv': True, 'md_SM1_Dzse': True, 'md_SM1_Dzare': True, 'md_SpMAD_Dzp': True, 'md_LogEE_Dzp': True, 'md_SM1_Dzp': True, 'md_SpMAD_Dzi': True, 'md_LogEE_Dzi': True, 'md_SM1_Dzi': True, 'md_VR2_Dzi': True, 'md_BertzCT': True, 'md_nBondsS': True, 'md_nBondsD': True, 'md_nBondsT': True, 'md_nBondsM': True, 'md_nBondsKD': True, 'md_C1SP1': True, 'md_C2SP1': True, 'md_C1SP2': True, 'md_C2SP2': True, 'md_C3SP2': True, 'md_C1SP3': True, 'md_C2SP3': True, 'md_C3SP3': True, 'md_C4SP3': True, 'md_FCSP3': True, 'md_Xch-3d': True, 'md_Xch-4d': True, 'md_Xch-5d': True, 'md_Xch-6d': True, 'md_Xch-7d': True, 'md_Xch-3dv': True, 'md_Xch-4dv': True, 'md_Xch-5dv': True, 'md_Xch-6dv': True, 'md_Xch-7dv': True, 'md_Xc-3d': True, 'md_Xc-4d': True, 'md_Xc-5d': True, 'md_Xc-6d': True, 'md_Xc-3dv': True, 'md_Xc-4dv': True, 'md_Xc-5dv': True, 'md_Xc-6dv': True, 'md_Xpc-4d': True, 'md_Xpc-5d': True, 'md_Xpc-6d': True, 'md_Xpc-4dv': True, 'md_Xpc-5dv': True, 'md_Xpc-6dv': True, 'md_Xp-2d': True, 'md_Xp-5d': True, 'md_Xp-7d': True, 'md_AXp-0d': True, 'md_AXp-1d': True, 'md_Xp-0dv': True, 'md_Xp-3dv': True, 'md_Xp-5dv': True, 'md_Xp-6dv': True, 'md_Xp-7dv': True, 'md_AXp-0dv': True, 'md_AXp-1dv': True, 'md_Sm': True, 'md_Sare': True, 'md_Sp': True, 'md_Mv': True, 'md_Mse': True, 'md_Mp': True, 'md_SpDiam_Dt': True, 'md_SpAD_Dt': True, 'md_SpMAD_Dt': True, 'md_VR1_Dt': True, 'md_DetourIndex': True, 'md_SpMAD_D': True, 'md_VE2_D': True, 'md_NsCH3': True, 'md_NdCH2': True, 'md_NssCH2': True, 'md_NdsCH': True, 'md_NaaCH': True, 'md_NsssCH': True, 'md_NddC': True, 'md_NtsC': True, 'md_NdssC': True, 'md_NaasC': True, 'md_NaaaC': True, 'md_NssssC': True, 'md_NssNH': True, 'md_NaaNH': True, 'md_NdsN': True, 'md_NaaN': True, 'md_NsssN': True, 'md_NddsN': True, 'md_NaasN': True, 'md_NdO': True, 'md_NssO': True, 'md_NaaO': True, 'md_NsF': True, 'md_NsssP': True, 'md_NdsssP': True, 'md_NssS': True, 'md_NaaS': True, 'md_NddssS': True, 'md_SsCH3': True, 'md_SssCH2': True, 'md_StCH': True, 'md_SdsCH': True, 'md_SaaCH': True, 'md_SsssCH': True, 'md_SddC': True, 'md_StsC': True, 'md_SdssC': True, 'md_SaasC': True, 'md_SaaaC': True, 'md_SssssC': True, 'md_SsNH2': True, 'md_SdNH': True, 'md_SssNH': True, 'md_SaaNH': True, 'md_StN': True, 'md_SdsN': True, 'md_SsssN': True, 'md_SddsN': True, 'md_SaasN': True, 'md_SssssN': True, 'md_SsOH': True, 'md_SsssP': True, 'md_SdsssP': True, 'md_SsssssP': True, 'md_SsSH': True, 'md_SdS': True, 'md_SssS': True, 'md_SaaS': True, 'md_SdssS': True, 'md_SsCl': True, 'md_SsBr': True, 'md_SsI': True, 'md_AETA_alpha': True, 'md_ETA_shape_p': True, 'md_ETA_shape_y': True, 'md_ETA_shape_x': True, 'md_ETA_beta': True, 'md_AETA_beta': True, 'md_AETA_beta_s': True, 'md_ETA_beta_ns': True, 'md_AETA_beta_ns': True, 'md_ETA_beta_ns_d': True, 'md_AETA_beta_ns_d': True, 'md_ETA_eta': True, 'md_AETA_eta': True, 'md_ETA_eta_L': True, 'md_AETA_eta_L': True, 'md_ETA_epsilon_1': True, 'md_ETA_epsilon_2': True, 'md_ETA_epsilon_4': True, 'md_ETA_epsilon_5': True, 'md_ETA_dEpsilon_B': True, 'md_ETA_dEpsilon_D': True, 'md_ETA_dBeta': True, 'md_AETA_dBeta': True, 'md_ETA_psi_1': True, 'md_ETA_dPsi_A': True, 'md_ETA_dPsi_B': True, 'md_fragCpx': True, 'md_fMF': True, 'md_nHBAcc': True, 'md_nHBDon': True, 'md_IC0': True, 'md_IC1': True, 'md_IC2': True, 'md_IC3': True, 'md_IC5': True, 'md_TIC0': True, 'md_TIC1': True, 'md_TIC2': True, 'md_TIC5': True, 'md_SIC0': True, 'md_SIC1': True, 'md_SIC2': True, 'md_SIC3': True, 'md_SIC4': True, 'md_SIC5': True, 'md_CIC0': True, 'md_CIC1': True, 'md_CIC2': True, 'md_CIC3': True, 'md_CIC4': True, 'md_CIC5': True, 'md_MIC0': True, 'md_MIC1': True, 'md_MIC2': True, 'md_MIC5': True, 'md_ZMIC0': True, 'md_ZMIC1': True, 'md_ZMIC2': True, 'md_ZMIC3': True, 'md_ZMIC5': True, 'md_Lipinski': True, 'md_GhoseFilter': True, 'md_FilterItLogS': True, 'md_PEOE_VSA7': True, 'md_PEOE_VSA8': True, 'md_PEOE_VSA12': True, 'md_PEOE_VSA13': True, 'md_SMR_VSA1': True, 'md_SMR_VSA2': True, 'md_SMR_VSA3': True, 'md_SMR_VSA4': True, 'md_SMR_VSA5': True, 'md_SMR_VSA6': True, 'md_SMR_VSA7': True, 'md_SMR_VSA9': True, 'md_SlogP_VSA1': True, 'md_SlogP_VSA2': True, 'md_SlogP_VSA3': True, 'md_EState_VSA3': True, 'md_EState_VSA5': True, 'md_EState_VSA7': True, 'md_EState_VSA8': True, 'md_EState_VSA9': True, 'md_VSA_EState1': True, 'md_VSA_EState7': True, 'md_AMID': True, 'md_AMID_h': True, 'md_AMID_C': True, 'md_AMID_N': True, 'md_MID_O': True, 'md_AMID_O': True, 'md_MID_X': True, 'md_AMID_X': True, 'md_MPC10': True, 'md_TMPC10': True, 'md_piPC1': True, 'md_piPC2': True, 'md_piPC3': True, 'md_piPC4': True, 'md_piPC5': True, 'md_piPC6': True, 'md_piPC7': True, 'md_piPC8': True, 'md_piPC9': True, 'md_piPC10': True, 'md_TpiPC10': True, 'md_bpol': True, 'md_nRing': True, 'md_n3Ring': True, 'md_n5Ring': True, 'md_n6Ring': True, 'md_n7Ring': True, 'md_n8Ring': True, 'md_n9Ring': True, 'md_n10Ring': True, 'md_n12Ring': True, 'md_nHRing': True, 'md_n3HRing': True, 'md_n5HRing': True, 'md_n6HRing': True, 'md_n8HRing': True, 'md_n12HRing': True, 'md_n4aRing': True, 'md_n5aRing': True, 'md_n6aRing': True, 'md_n7aRing': True, 'md_n4aHRing': True, 'md_n5aHRing': True, 'md_n6aHRing': True, 'md_n7aHRing': True, 'md_nG12aHRing': True, 'md_nARing': True, 'md_n4ARing': True, 'md_n5ARing': True, 'md_n6ARing': True, 'md_n7ARing': True, 'md_n11ARing': True, 'md_n12ARing': True, 'md_nAHRing': True, 'md_n4AHRing': True, 'md_n5AHRing': True, 'md_n6AHRing': True, 'md_n7AHRing': True, 'md_n9AHRing': True, 'md_n10AHRing': True, 'md_n12AHRing': True, 'md_nG12AHRing': True, 'md_nFRing': True, 'md_n7FRing': True, 'md_n8FRing': True, 'md_n9FRing': True, 'md_n10FRing': True, 'md_n12FRing': True, 'md_nG12FRing': True, 'md_nFHRing': True, 'md_n4FHRing': True, 'md_n6FHRing': True, 'md_n9FHRing': True, 'md_n10FHRing': True, 'md_n12FHRing': True, 'md_nG12FHRing': True, 'md_nFaRing': True, 'md_n9FaRing': True, 'md_n10FaRing': True, 'md_n11FaRing': True, 'md_n12FaRing': True, 'md_nG12FaRing': True, 'md_nFaHRing': True, 'md_n8FaHRing': True, 'md_n10FaHRing': True, 'md_nG12FaHRing': True, 'md_nFARing': True, 'md_n6FARing': True, 'md_n8FARing': True, 'md_n9FARing': True, 'md_n10FARing': True, 'md_n11FARing': True, 'md_n12FARing': True, 'md_nG12FARing': True, 'md_nFAHRing': True, 'md_n7FAHRing': True, 'md_n9FAHRing': True, 'md_n10FAHRing': True, 'md_n11FAHRing': True, 'md_n12FAHRing': True, 'md_nG12FAHRing': True, 'md_nRot': True, 'md_RotRatio': True, 'md_SLogP': True, 'md_TopoPSA(NO)': True, 'md_TopoPSA': True, 'md_GGI1': True, 'md_GGI2': True, 'md_GGI3': True, 'md_GGI4': True, 'md_GGI5': True, 'md_GGI6': True, 'md_GGI7': True, 'md_GGI8': True, 'md_GGI9': True, 'md_GGI10': True, 'md_JGI1': True, 'md_JGI2': True, 'md_JGI3': True, 'md_JGI4': True, 'md_JGI5': True, 'md_JGI6': True, 'md_JGI7': True, 'md_JGI8': True, 'md_JGI9': True, 'md_JGI10': True, 'md_JGT10': True, 'md_Diameter': True, 'md_Radius': True, 'md_TopoShapeIndex': True, 'md_PetitjeanIndex': True, 'md_SRW03': True, 'md_SRW05': True, 'md_SRW07': True, 'md_SRW10': True, 'md_TSRW10': True, 'md_AMW': True, 'md_WPath': True, 'md_WPol': True, 'md_Zagreb2': True, 'md_mZagreb1': True, 'md_mZagreb2': True, 'prop_1': True, 'prop_2': True, 'prop_3': True}. Best is trial 0 with value: 0.8987944667036418.\n",
      "[W 2024-09-07 18:54:21,054] Trial 1 failed with parameters: {'morgan': False, 'avalon': True, 'erg': True, 'gin': False, 'rd_BalabanJ': False, 'rd_Chi2n': False, 'rd_Chi2v': True, 'rd_Chi3n': False, 'rd_Chi4n': False, 'rd_Chi4v': True, 'rd_EState_VSA1': True, 'rd_EState_VSA10': False, 'rd_EState_VSA11': False, 'rd_EState_VSA2': False, 'rd_EState_VSA4': True, 'rd_EState_VSA6': True, 'rd_FpDensityMorgan1': False, 'rd_FpDensityMorgan2': True, 'rd_FpDensityMorgan3': True, 'rd_HallKierAlpha': True, 'rd_Ipc': False, 'rd_Kappa1': False, 'rd_Kappa2': False, 'rd_Kappa3': False, 'rd_MaxEStateIndex': True, 'rd_MinAbsEStateIndex': True, 'rd_MinEStateIndex': True, 'rd_MolMR': False, 'rd_NHOHCount': False, 'rd_NOCount': False, 'rd_NumAliphaticCarbocycles': True, 'rd_NumAromaticHeterocycles': True, 'rd_NumRadicalElectrons': False, 'rd_NumSaturatedCarbocycles': False, 'rd_NumSaturatedHeterocycles': False, 'rd_NumSaturatedRings': True, 'rd_PEOE_VSA1': False, 'rd_PEOE_VSA10': False, 'rd_PEOE_VSA11': True, 'rd_PEOE_VSA14': True, 'rd_PEOE_VSA2': True, 'rd_PEOE_VSA3': True, 'rd_PEOE_VSA4': False, 'rd_PEOE_VSA5': True, 'rd_PEOE_VSA6': True, 'rd_PEOE_VSA9': False, 'rd_SMR_VSA10': True, 'rd_SlogP_VSA10': True, 'rd_SlogP_VSA11': True, 'rd_SlogP_VSA12': False, 'rd_SlogP_VSA4': False, 'rd_SlogP_VSA5': False, 'rd_SlogP_VSA6': True, 'rd_SlogP_VSA7': False, 'rd_SlogP_VSA8': True, 'rd_VSA_EState10': True, 'rd_VSA_EState2': True, 'rd_VSA_EState3': False, 'rd_VSA_EState4': True, 'rd_VSA_EState5': True, 'rd_VSA_EState6': False, 'rd_VSA_EState8': True, 'rd_VSA_EState9': False, 'rd_fr_Al_COO': False, 'rd_fr_Al_OH': False, 'rd_fr_Al_OH_noTert': True, 'rd_fr_ArN': False, 'rd_fr_Ar_COO': True, 'rd_fr_Ar_N': False, 'rd_fr_Ar_OH': False, 'rd_fr_COO': True, 'rd_fr_C_O': True, 'rd_fr_C_O_noCOO': True, 'rd_fr_C_S': True, 'rd_fr_HOCCN': False, 'rd_fr_Imine': True, 'rd_fr_NH0': False, 'rd_fr_NH1': True, 'rd_fr_N_O': False, 'rd_fr_Ndealkylation1': False, 'rd_fr_Ndealkylation2': False, 'rd_fr_aldehyde': True, 'rd_fr_alkyl_carbamate': False, 'rd_fr_alkyl_halide': True, 'rd_fr_allylic_oxid': False, 'rd_fr_amide': True, 'rd_fr_amidine': True, 'rd_fr_aniline': True, 'rd_fr_aryl_methyl': True, 'rd_fr_azide': True, 'rd_fr_azo': True, 'rd_fr_barbitur': True, 'rd_fr_benzene': False, 'rd_fr_benzodiazepine': True, 'rd_fr_bicyclic': True, 'rd_fr_diazo': False, 'rd_fr_epoxide': True, 'rd_fr_ester': False, 'rd_fr_ether': False, 'rd_fr_furan': True, 'rd_fr_guanido': True, 'rd_fr_hdrzine': False, 'rd_fr_hdrzone': True, 'rd_fr_imidazole': False, 'rd_fr_imide': False, 'rd_fr_isocyan': False, 'rd_fr_isothiocyan': True, 'rd_fr_ketone': True, 'rd_fr_ketone_Topliss': False, 'rd_fr_lactam': False, 'rd_fr_lactone': True, 'rd_fr_methoxy': False, 'rd_fr_morpholine': True, 'rd_fr_nitro': True, 'rd_fr_nitro_arom': True, 'rd_fr_nitro_arom_nonortho': True, 'rd_fr_nitroso': True, 'rd_fr_oxazole': False, 'rd_fr_oxime': True, 'rd_fr_para_hydroxylation': True, 'rd_fr_phenol': False, 'rd_fr_phenol_noOrthoHbond': True, 'rd_fr_phos_ester': False, 'rd_fr_piperdine': False, 'rd_fr_piperzine': True, 'rd_fr_priamide': False, 'rd_fr_pyridine': True, 'rd_fr_quatN': False, 'rd_fr_sulfide': True, 'rd_fr_sulfonamd': True, 'rd_fr_sulfone': False, 'rd_fr_tetrazole': False, 'rd_fr_thiazole': True, 'rd_fr_thiocyan': False, 'rd_fr_thiophene': True, 'rd_fr_unbrch_alkane': False, 'rd_fr_urea': False, 'rd_qed': True, 'md_ABCGG': True, 'md_nAcid': False, 'md_nBase': True, 'md_SpMax_A': True, 'md_SpDiam_A': True, 'md_SpMAD_A': False, 'md_VE1_A': False, 'md_VR1_A': False, 'md_VR3_A': True, 'md_nAromAtom': False, 'md_nSpiro': True, 'md_nBridgehead': True, 'md_nHetero': False, 'md_nH': False, 'md_nC': False, 'md_nN': True, 'md_nS': True, 'md_nP': True, 'md_nI': False, 'md_ATS0dv': True, 'md_ATS1dv': True, 'md_ATS2dv': False, 'md_ATS3dv': False, 'md_ATS4dv': True, 'md_ATS5dv': True, 'md_ATS6dv': False, 'md_ATS7dv': True, 'md_ATS8dv': False, 'md_ATS0s': False, 'md_ATS1s': True, 'md_ATS2s': True, 'md_ATS3s': True, 'md_ATS4s': True, 'md_ATS5s': False, 'md_ATS6s': False, 'md_ATS7s': True, 'md_ATS8s': False, 'md_ATS0Z': False, 'md_ATS1Z': True, 'md_ATS2Z': False, 'md_ATS3Z': False, 'md_ATS5Z': True, 'md_ATS6Z': False, 'md_ATS7Z': False, 'md_ATS0m': True, 'md_ATS4m': True, 'md_ATS8m': True, 'md_ATS7v': True, 'md_ATS8v': False, 'md_ATS7pe': False, 'md_ATS5are': True, 'md_ATS6are': True, 'md_ATS8are': False, 'md_ATS0p': False, 'md_ATS3p': False, 'md_ATS5p': True, 'md_ATS6p': False, 'md_ATS3i': True, 'md_AATS0dv': False, 'md_AATS1dv': False, 'md_AATS0d': True, 'md_AATS1d': False, 'md_AATS0s': False, 'md_AATS1s': False, 'md_AATS1Z': False, 'md_AATS0m': True, 'md_AATS0v': True, 'md_AATS1v': False, 'md_AATS1se': True, 'md_AATS0pe': True, 'md_AATS1pe': False, 'md_AATS0are': False, 'md_AATS1are': True, 'md_AATS0p': False, 'md_AATS1p': False, 'md_AATS0i': False, 'md_AATS1i': True, 'md_ATSC0dv': False, 'md_ATSC1dv': True, 'md_ATSC2dv': False, 'md_ATSC3dv': False, 'md_ATSC4dv': True, 'md_ATSC5dv': False, 'md_ATSC6dv': True, 'md_ATSC7dv': False, 'md_ATSC8dv': True, 'md_ATSC0d': True, 'md_ATSC1d': True, 'md_ATSC2d': False, 'md_ATSC3d': False, 'md_ATSC4d': False, 'md_ATSC5d': False, 'md_ATSC6d': False, 'md_ATSC7d': True, 'md_ATSC8d': True, 'md_ATSC0s': False, 'md_ATSC1s': False, 'md_ATSC2s': False, 'md_ATSC3s': False, 'md_ATSC4s': False, 'md_ATSC5s': False, 'md_ATSC6s': True, 'md_ATSC7s': False, 'md_ATSC8s': False, 'md_ATSC1Z': False, 'md_ATSC6Z': False, 'md_ATSC7Z': True, 'md_ATSC0m': False, 'md_ATSC2m': True, 'md_ATSC3m': True, 'md_ATSC4m': True, 'md_ATSC5m': False, 'md_ATSC8m': True, 'md_ATSC0v': False, 'md_ATSC1v': True, 'md_ATSC2v': True, 'md_ATSC3v': True, 'md_ATSC4v': True, 'md_ATSC5v': True, 'md_ATSC6v': True, 'md_ATSC7v': False, 'md_ATSC8v': True, 'md_ATSC0se': True, 'md_ATSC1se': True, 'md_ATSC2se': True, 'md_ATSC3se': True, 'md_ATSC4se': False, 'md_ATSC5se': False, 'md_ATSC6se': True, 'md_ATSC7se': False, 'md_ATSC8se': True, 'md_ATSC1pe': True, 'md_ATSC3pe': True, 'md_ATSC4pe': False, 'md_ATSC5pe': True, 'md_ATSC6pe': False, 'md_ATSC7pe': False, 'md_ATSC8pe': False, 'md_ATSC0are': False, 'md_ATSC1are': True, 'md_ATSC2are': True, 'md_ATSC3are': True, 'md_ATSC4are': True, 'md_ATSC5are': True, 'md_ATSC6are': False, 'md_ATSC0p': False, 'md_ATSC1p': True, 'md_ATSC2p': False, 'md_ATSC3p': False, 'md_ATSC4p': False, 'md_ATSC5p': False, 'md_ATSC6p': True, 'md_ATSC7p': False, 'md_ATSC8p': True, 'md_ATSC0i': True, 'md_ATSC1i': False, 'md_ATSC2i': False, 'md_ATSC3i': False, 'md_ATSC4i': False, 'md_ATSC5i': True, 'md_ATSC6i': True, 'md_ATSC7i': True, 'md_ATSC8i': False, 'md_AATSC0dv': True, 'md_AATSC1dv': False, 'md_AATSC0d': False, 'md_AATSC1d': False, 'md_AATSC0s': False, 'md_AATSC1s': True, 'md_AATSC0m': False, 'md_AATSC1m': False, 'md_AATSC0v': True, 'md_AATSC1v': False, 'md_AATSC0se': False, 'md_AATSC1se': True, 'md_AATSC0pe': False, 'md_AATSC1pe': False, 'md_AATSC0are': False, 'md_AATSC1are': False, 'md_AATSC0p': False, 'md_AATSC1p': True, 'md_AATSC0i': False, 'md_AATSC1i': False, 'md_BCUTdv-1h': False, 'md_BCUTdv-1l': False, 'md_BCUTd-1h': False, 'md_BCUTd-1l': True, 'md_BCUTs-1h': False, 'md_BCUTs-1l': False, 'md_BCUTZ-1h': True, 'md_BCUTZ-1l': False, 'md_BCUTm-1l': True, 'md_BCUTv-1h': False, 'md_BCUTv-1l': True, 'md_BCUTse-1h': False, 'md_BCUTse-1l': True, 'md_BCUTpe-1h': False, 'md_BCUTpe-1l': False, 'md_BCUTare-1h': False, 'md_BCUTare-1l': False, 'md_BCUTp-1h': False, 'md_BCUTp-1l': True, 'md_BCUTi-1h': True, 'md_BCUTi-1l': False, 'md_BalabanJ': True, 'md_SpMAD_DzZ': True, 'md_SM1_Dzm': True, 'md_SpMAD_Dzv': False, 'md_SM1_Dzv': True, 'md_SM1_Dzse': False, 'md_SM1_Dzare': False, 'md_SpMAD_Dzp': False, 'md_LogEE_Dzp': True, 'md_SM1_Dzp': True, 'md_SpMAD_Dzi': False, 'md_LogEE_Dzi': False, 'md_SM1_Dzi': False, 'md_VR2_Dzi': True, 'md_BertzCT': True, 'md_nBondsS': False, 'md_nBondsD': False, 'md_nBondsT': False, 'md_nBondsM': True, 'md_nBondsKD': False, 'md_C1SP1': False, 'md_C2SP1': False, 'md_C1SP2': True, 'md_C2SP2': False, 'md_C3SP2': True, 'md_C1SP3': False, 'md_C2SP3': False, 'md_C3SP3': True, 'md_C4SP3': True, 'md_FCSP3': True, 'md_Xch-3d': False, 'md_Xch-4d': False, 'md_Xch-5d': True, 'md_Xch-6d': False, 'md_Xch-7d': True, 'md_Xch-3dv': False, 'md_Xch-4dv': True, 'md_Xch-5dv': True, 'md_Xch-6dv': False, 'md_Xch-7dv': False, 'md_Xc-3d': False, 'md_Xc-4d': False, 'md_Xc-5d': False, 'md_Xc-6d': False, 'md_Xc-3dv': False, 'md_Xc-4dv': True, 'md_Xc-5dv': False, 'md_Xc-6dv': True, 'md_Xpc-4d': True, 'md_Xpc-5d': False, 'md_Xpc-6d': False, 'md_Xpc-4dv': True, 'md_Xpc-5dv': False, 'md_Xpc-6dv': False, 'md_Xp-2d': False, 'md_Xp-5d': False, 'md_Xp-7d': True, 'md_AXp-0d': False, 'md_AXp-1d': True, 'md_Xp-0dv': False, 'md_Xp-3dv': False, 'md_Xp-5dv': True, 'md_Xp-6dv': True, 'md_Xp-7dv': True, 'md_AXp-0dv': False, 'md_AXp-1dv': True, 'md_Sm': True, 'md_Sare': False, 'md_Sp': True, 'md_Mv': False, 'md_Mse': False, 'md_Mp': False, 'md_SpDiam_Dt': True, 'md_SpAD_Dt': False, 'md_SpMAD_Dt': False, 'md_VR1_Dt': True, 'md_DetourIndex': True, 'md_SpMAD_D': False, 'md_VE2_D': False, 'md_NsCH3': False, 'md_NdCH2': False, 'md_NssCH2': False, 'md_NdsCH': False, 'md_NaaCH': False, 'md_NsssCH': False, 'md_NddC': True, 'md_NtsC': False, 'md_NdssC': True, 'md_NaasC': True, 'md_NaaaC': True, 'md_NssssC': False, 'md_NssNH': False, 'md_NaaNH': False, 'md_NdsN': True, 'md_NaaN': True, 'md_NsssN': False, 'md_NddsN': True, 'md_NaasN': False, 'md_NdO': False, 'md_NssO': False, 'md_NaaO': True, 'md_NsF': True, 'md_NsssP': False, 'md_NdsssP': False, 'md_NssS': True, 'md_NaaS': True, 'md_NddssS': False, 'md_SsCH3': False, 'md_SssCH2': True, 'md_StCH': False, 'md_SdsCH': False, 'md_SaaCH': True, 'md_SsssCH': False, 'md_SddC': True, 'md_StsC': True, 'md_SdssC': True, 'md_SaasC': False, 'md_SaaaC': True, 'md_SssssC': True, 'md_SsNH2': True, 'md_SdNH': True, 'md_SssNH': False, 'md_SaaNH': True, 'md_StN': False, 'md_SdsN': True, 'md_SsssN': False, 'md_SddsN': False, 'md_SaasN': False, 'md_SssssN': False, 'md_SsOH': False, 'md_SsssP': True, 'md_SdsssP': False, 'md_SsssssP': True, 'md_SsSH': False, 'md_SdS': False, 'md_SssS': True, 'md_SaaS': True, 'md_SdssS': False, 'md_SsCl': False, 'md_SsBr': False, 'md_SsI': False, 'md_AETA_alpha': True, 'md_ETA_shape_p': True, 'md_ETA_shape_y': False, 'md_ETA_shape_x': True, 'md_ETA_beta': False, 'md_AETA_beta': True, 'md_AETA_beta_s': False, 'md_ETA_beta_ns': False, 'md_AETA_beta_ns': True, 'md_ETA_beta_ns_d': True, 'md_AETA_beta_ns_d': True, 'md_ETA_eta': False, 'md_AETA_eta': True, 'md_ETA_eta_L': False, 'md_AETA_eta_L': True, 'md_ETA_epsilon_1': True, 'md_ETA_epsilon_2': True, 'md_ETA_epsilon_4': False, 'md_ETA_epsilon_5': True, 'md_ETA_dEpsilon_B': True, 'md_ETA_dEpsilon_D': False, 'md_ETA_dBeta': False, 'md_AETA_dBeta': False, 'md_ETA_psi_1': True, 'md_ETA_dPsi_A': False, 'md_ETA_dPsi_B': False, 'md_fragCpx': True, 'md_fMF': True, 'md_nHBAcc': False, 'md_nHBDon': True, 'md_IC0': True, 'md_IC1': False, 'md_IC2': False, 'md_IC3': True, 'md_IC5': False, 'md_TIC0': False, 'md_TIC1': False, 'md_TIC2': False, 'md_TIC5': False, 'md_SIC0': True, 'md_SIC1': True, 'md_SIC2': True, 'md_SIC3': True, 'md_SIC4': True, 'md_SIC5': True, 'md_CIC0': True, 'md_CIC1': False, 'md_CIC2': False, 'md_CIC3': True, 'md_CIC4': False, 'md_CIC5': True, 'md_MIC0': True, 'md_MIC1': True, 'md_MIC2': True, 'md_MIC5': True, 'md_ZMIC0': False, 'md_ZMIC1': False, 'md_ZMIC2': True, 'md_ZMIC3': False, 'md_ZMIC5': True, 'md_Lipinski': True, 'md_GhoseFilter': True, 'md_FilterItLogS': True, 'md_PEOE_VSA7': True, 'md_PEOE_VSA8': True, 'md_PEOE_VSA12': True, 'md_PEOE_VSA13': True, 'md_SMR_VSA1': False, 'md_SMR_VSA2': False, 'md_SMR_VSA3': True, 'md_SMR_VSA4': False, 'md_SMR_VSA5': True, 'md_SMR_VSA6': True, 'md_SMR_VSA7': False, 'md_SMR_VSA9': True, 'md_SlogP_VSA1': False, 'md_SlogP_VSA2': True, 'md_SlogP_VSA3': False, 'md_EState_VSA3': True, 'md_EState_VSA5': True, 'md_EState_VSA7': False, 'md_EState_VSA8': True, 'md_EState_VSA9': True, 'md_VSA_EState1': False, 'md_VSA_EState7': True, 'md_AMID': True, 'md_AMID_h': False, 'md_AMID_C': True, 'md_AMID_N': True, 'md_MID_O': False, 'md_AMID_O': True, 'md_MID_X': False, 'md_AMID_X': False, 'md_MPC10': True, 'md_TMPC10': False, 'md_piPC1': False, 'md_piPC2': True, 'md_piPC3': True, 'md_piPC4': False, 'md_piPC5': False, 'md_piPC6': True, 'md_piPC7': False, 'md_piPC8': False, 'md_piPC9': True, 'md_piPC10': True, 'md_TpiPC10': True, 'md_bpol': True, 'md_nRing': True, 'md_n3Ring': False, 'md_n5Ring': False, 'md_n6Ring': True, 'md_n7Ring': False, 'md_n8Ring': False, 'md_n9Ring': False, 'md_n10Ring': False, 'md_n12Ring': True, 'md_nHRing': True, 'md_n3HRing': True, 'md_n5HRing': False, 'md_n6HRing': False, 'md_n8HRing': True, 'md_n12HRing': False, 'md_n4aRing': False, 'md_n5aRing': False, 'md_n6aRing': True, 'md_n7aRing': False, 'md_n4aHRing': True, 'md_n5aHRing': True, 'md_n6aHRing': False, 'md_n7aHRing': False, 'md_nG12aHRing': True, 'md_nARing': True, 'md_n4ARing': True, 'md_n5ARing': True, 'md_n6ARing': True, 'md_n7ARing': True, 'md_n11ARing': True, 'md_n12ARing': True, 'md_nAHRing': False, 'md_n4AHRing': True, 'md_n5AHRing': True, 'md_n6AHRing': True, 'md_n7AHRing': True, 'md_n9AHRing': False, 'md_n10AHRing': True, 'md_n12AHRing': False, 'md_nG12AHRing': False, 'md_nFRing': False, 'md_n7FRing': False, 'md_n8FRing': False, 'md_n9FRing': False, 'md_n10FRing': True, 'md_n12FRing': False, 'md_nG12FRing': True, 'md_nFHRing': True, 'md_n4FHRing': False, 'md_n6FHRing': False, 'md_n9FHRing': False, 'md_n10FHRing': True, 'md_n12FHRing': False, 'md_nG12FHRing': False, 'md_nFaRing': False, 'md_n9FaRing': True, 'md_n10FaRing': False, 'md_n11FaRing': True, 'md_n12FaRing': True, 'md_nG12FaRing': False, 'md_nFaHRing': False, 'md_n8FaHRing': False, 'md_n10FaHRing': False, 'md_nG12FaHRing': False, 'md_nFARing': False, 'md_n6FARing': False, 'md_n8FARing': False, 'md_n9FARing': False, 'md_n10FARing': False, 'md_n11FARing': True, 'md_n12FARing': True, 'md_nG12FARing': True, 'md_nFAHRing': True, 'md_n7FAHRing': False, 'md_n9FAHRing': True, 'md_n10FAHRing': False, 'md_n11FAHRing': False, 'md_n12FAHRing': True, 'md_nG12FAHRing': False, 'md_nRot': True, 'md_RotRatio': False, 'md_SLogP': True, 'md_TopoPSA(NO)': True, 'md_TopoPSA': False, 'md_GGI1': True, 'md_GGI2': True, 'md_GGI3': False, 'md_GGI4': False, 'md_GGI5': True, 'md_GGI6': False, 'md_GGI7': True, 'md_GGI8': False, 'md_GGI9': True, 'md_GGI10': False, 'md_JGI1': False, 'md_JGI2': True, 'md_JGI3': True, 'md_JGI4': False, 'md_JGI5': False, 'md_JGI6': False, 'md_JGI7': False, 'md_JGI8': True, 'md_JGI9': True, 'md_JGI10': True, 'md_JGT10': True, 'md_Diameter': True, 'md_Radius': False, 'md_TopoShapeIndex': False, 'md_PetitjeanIndex': True, 'md_SRW03': False, 'md_SRW05': False, 'md_SRW07': False, 'md_SRW10': True, 'md_TSRW10': True, 'md_AMW': False, 'md_WPath': True, 'md_WPol': True, 'md_Zagreb2': False, 'md_mZagreb1': False, 'md_mZagreb2': False, 'prop_1': False, 'prop_2': False, 'prop_3': True} because of the following error: KeyboardInterrupt().\n",
      "Traceback (most recent call last):\n",
      "  File \"/home/ergot/miniforge3/envs/chem/lib/python3.10/site-packages/optuna/study/_optimize.py\", line 197, in _run_trial\n",
      "    value_or_values = func(trial)\n",
      "  File \"/tmp/ipykernel_214071/3754952519.py\", line 69, in __call__\n",
      "    cv_res = cross_val_score(\n",
      "  File \"/home/ergot/miniforge3/envs/chem/lib/python3.10/site-packages/sklearn/utils/_param_validation.py\", line 213, in wrapper\n",
      "    return func(*args, **kwargs)\n",
      "  File \"/home/ergot/miniforge3/envs/chem/lib/python3.10/site-packages/sklearn/model_selection/_validation.py\", line 712, in cross_val_score\n",
      "    cv_results = cross_validate(\n",
      "  File \"/home/ergot/miniforge3/envs/chem/lib/python3.10/site-packages/sklearn/utils/_param_validation.py\", line 213, in wrapper\n",
      "    return func(*args, **kwargs)\n",
      "  File \"/home/ergot/miniforge3/envs/chem/lib/python3.10/site-packages/sklearn/model_selection/_validation.py\", line 423, in cross_validate\n",
      "    results = parallel(\n",
      "  File \"/home/ergot/miniforge3/envs/chem/lib/python3.10/site-packages/sklearn/utils/parallel.py\", line 74, in __call__\n",
      "    return super().__call__(iterable_with_config)\n",
      "  File \"/home/ergot/miniforge3/envs/chem/lib/python3.10/site-packages/joblib/parallel.py\", line 1918, in __call__\n",
      "    return output if self.return_generator else list(output)\n",
      "  File \"/home/ergot/miniforge3/envs/chem/lib/python3.10/site-packages/joblib/parallel.py\", line 1847, in _get_sequential_output\n",
      "    res = func(*args, **kwargs)\n",
      "  File \"/home/ergot/miniforge3/envs/chem/lib/python3.10/site-packages/sklearn/utils/parallel.py\", line 136, in __call__\n",
      "    return self.function(*args, **kwargs)\n",
      "  File \"/home/ergot/miniforge3/envs/chem/lib/python3.10/site-packages/sklearn/model_selection/_validation.py\", line 888, in _fit_and_score\n",
      "    estimator.fit(X_train, y_train, **fit_params)\n",
      "  File \"/home/ergot/miniforge3/envs/chem/lib/python3.10/site-packages/lightgbm/sklearn.py\", line 1284, in fit\n",
      "    super().fit(\n",
      "  File \"/home/ergot/miniforge3/envs/chem/lib/python3.10/site-packages/lightgbm/sklearn.py\", line 955, in fit\n",
      "    self._Booster = train(\n",
      "  File \"/home/ergot/miniforge3/envs/chem/lib/python3.10/site-packages/lightgbm/engine.py\", line 307, in train\n",
      "    booster.update(fobj=fobj)\n",
      "  File \"/home/ergot/miniforge3/envs/chem/lib/python3.10/site-packages/lightgbm/basic.py\", line 4136, in update\n",
      "    _LIB.LGBM_BoosterUpdateOneIter(\n",
      "KeyboardInterrupt\n",
      "[W 2024-09-07 18:54:21,055] Trial 1 failed with value None.\n"
     ]
    },
    {
     "ename": "KeyboardInterrupt",
     "evalue": "",
     "output_type": "error",
     "traceback": [
      "\u001B[0;31m---------------------------------------------------------------------------\u001B[0m",
      "\u001B[0;31mKeyboardInterrupt\u001B[0m                         Traceback (most recent call last)",
      "Cell \u001B[0;32mIn[69], line 143\u001B[0m\n\u001B[1;32m    128\u001B[0m     study\u001B[38;5;241m.\u001B[39moptimize(\n\u001B[1;32m    129\u001B[0m         FeatureSelectionOptuna(\n\u001B[1;32m    130\u001B[0m             model\u001B[38;5;241m=\u001B[39mclf,\n\u001B[0;32m   (...)\u001B[0m\n\u001B[1;32m    138\u001B[0m         n_jobs\u001B[38;5;241m=\u001B[39m\u001B[38;5;241m1\u001B[39m,\n\u001B[1;32m    139\u001B[0m         show_progress_bar\u001B[38;5;241m=\u001B[39m\u001B[38;5;28;01mTrue\u001B[39;00m)\n\u001B[1;32m    142\u001B[0m \u001B[38;5;28;01mif\u001B[39;00m \u001B[38;5;18m__name__\u001B[39m \u001B[38;5;241m==\u001B[39m \u001B[38;5;124m'\u001B[39m\u001B[38;5;124m__main__\u001B[39m\u001B[38;5;124m'\u001B[39m:\n\u001B[0;32m--> 143\u001B[0m     \u001B[43mmain\u001B[49m\u001B[43m(\u001B[49m\u001B[43m)\u001B[49m\n",
      "Cell \u001B[0;32mIn[69], line 128\u001B[0m, in \u001B[0;36mmain\u001B[0;34m()\u001B[0m\n\u001B[1;32m    125\u001B[0m study\u001B[38;5;241m.\u001B[39menqueue_trial(default_params)    \n\u001B[1;32m    126\u001B[0m optuna\u001B[38;5;241m.\u001B[39mlogging\u001B[38;5;241m.\u001B[39mset_verbosity(optuna\u001B[38;5;241m.\u001B[39mlogging\u001B[38;5;241m.\u001B[39mINFO)    \n\u001B[0;32m--> 128\u001B[0m \u001B[43mstudy\u001B[49m\u001B[38;5;241;43m.\u001B[39;49m\u001B[43moptimize\u001B[49m\u001B[43m(\u001B[49m\n\u001B[1;32m    129\u001B[0m \u001B[43m    \u001B[49m\u001B[43mFeatureSelectionOptuna\u001B[49m\u001B[43m(\u001B[49m\n\u001B[1;32m    130\u001B[0m \u001B[43m        \u001B[49m\u001B[43mmodel\u001B[49m\u001B[38;5;241;43m=\u001B[39;49m\u001B[43mclf\u001B[49m\u001B[43m,\u001B[49m\n\u001B[1;32m    131\u001B[0m \u001B[43m        \u001B[49m\u001B[43mfeatures\u001B[49m\u001B[38;5;241;43m=\u001B[39;49m\u001B[43mfeatures\u001B[49m\u001B[43m,\u001B[49m\n\u001B[1;32m    132\u001B[0m \u001B[43m        \u001B[49m\u001B[43mgroup_feats\u001B[49m\u001B[38;5;241;43m=\u001B[39;49m\u001B[43mgroups\u001B[49m\u001B[43m,\u001B[49m\n\u001B[1;32m    133\u001B[0m \u001B[43m        \u001B[49m\u001B[43mX\u001B[49m\u001B[38;5;241;43m=\u001B[39;49m\u001B[43mX_train\u001B[49m\u001B[43m,\u001B[49m\n\u001B[1;32m    134\u001B[0m \u001B[43m        \u001B[49m\u001B[43my\u001B[49m\u001B[38;5;241;43m=\u001B[39;49m\u001B[43my_train\u001B[49m\u001B[43m,\u001B[49m\n\u001B[1;32m    135\u001B[0m \u001B[43m        \u001B[49m\u001B[38;5;66;43;03m# feat_count_penalty = 1e-4,\u001B[39;49;00m\n\u001B[1;32m    136\u001B[0m \u001B[43m    \u001B[49m\u001B[43m)\u001B[49m\u001B[43m,\u001B[49m\n\u001B[1;32m    137\u001B[0m \u001B[43m    \u001B[49m\u001B[43mn_trials\u001B[49m\u001B[38;5;241;43m=\u001B[39;49m\u001B[38;5;241;43m10\u001B[39;49m\u001B[43m,\u001B[49m\n\u001B[1;32m    138\u001B[0m \u001B[43m    \u001B[49m\u001B[43mn_jobs\u001B[49m\u001B[38;5;241;43m=\u001B[39;49m\u001B[38;5;241;43m1\u001B[39;49m\u001B[43m,\u001B[49m\n\u001B[1;32m    139\u001B[0m \u001B[43m    \u001B[49m\u001B[43mshow_progress_bar\u001B[49m\u001B[38;5;241;43m=\u001B[39;49m\u001B[38;5;28;43;01mTrue\u001B[39;49;00m\u001B[43m)\u001B[49m\n",
      "File \u001B[0;32m~/miniforge3/envs/chem/lib/python3.10/site-packages/optuna/study/study.py:475\u001B[0m, in \u001B[0;36mStudy.optimize\u001B[0;34m(self, func, n_trials, timeout, n_jobs, catch, callbacks, gc_after_trial, show_progress_bar)\u001B[0m\n\u001B[1;32m    373\u001B[0m \u001B[38;5;28;01mdef\u001B[39;00m \u001B[38;5;21moptimize\u001B[39m(\n\u001B[1;32m    374\u001B[0m     \u001B[38;5;28mself\u001B[39m,\n\u001B[1;32m    375\u001B[0m     func: ObjectiveFuncType,\n\u001B[0;32m   (...)\u001B[0m\n\u001B[1;32m    382\u001B[0m     show_progress_bar: \u001B[38;5;28mbool\u001B[39m \u001B[38;5;241m=\u001B[39m \u001B[38;5;28;01mFalse\u001B[39;00m,\n\u001B[1;32m    383\u001B[0m ) \u001B[38;5;241m-\u001B[39m\u001B[38;5;241m>\u001B[39m \u001B[38;5;28;01mNone\u001B[39;00m:\n\u001B[1;32m    384\u001B[0m \u001B[38;5;250m    \u001B[39m\u001B[38;5;124;03m\"\"\"Optimize an objective function.\u001B[39;00m\n\u001B[1;32m    385\u001B[0m \n\u001B[1;32m    386\u001B[0m \u001B[38;5;124;03m    Optimization is done by choosing a suitable set of hyperparameter values from a given\u001B[39;00m\n\u001B[0;32m   (...)\u001B[0m\n\u001B[1;32m    473\u001B[0m \u001B[38;5;124;03m            If nested invocation of this method occurs.\u001B[39;00m\n\u001B[1;32m    474\u001B[0m \u001B[38;5;124;03m    \"\"\"\u001B[39;00m\n\u001B[0;32m--> 475\u001B[0m     \u001B[43m_optimize\u001B[49m\u001B[43m(\u001B[49m\n\u001B[1;32m    476\u001B[0m \u001B[43m        \u001B[49m\u001B[43mstudy\u001B[49m\u001B[38;5;241;43m=\u001B[39;49m\u001B[38;5;28;43mself\u001B[39;49m\u001B[43m,\u001B[49m\n\u001B[1;32m    477\u001B[0m \u001B[43m        \u001B[49m\u001B[43mfunc\u001B[49m\u001B[38;5;241;43m=\u001B[39;49m\u001B[43mfunc\u001B[49m\u001B[43m,\u001B[49m\n\u001B[1;32m    478\u001B[0m \u001B[43m        \u001B[49m\u001B[43mn_trials\u001B[49m\u001B[38;5;241;43m=\u001B[39;49m\u001B[43mn_trials\u001B[49m\u001B[43m,\u001B[49m\n\u001B[1;32m    479\u001B[0m \u001B[43m        \u001B[49m\u001B[43mtimeout\u001B[49m\u001B[38;5;241;43m=\u001B[39;49m\u001B[43mtimeout\u001B[49m\u001B[43m,\u001B[49m\n\u001B[1;32m    480\u001B[0m \u001B[43m        \u001B[49m\u001B[43mn_jobs\u001B[49m\u001B[38;5;241;43m=\u001B[39;49m\u001B[43mn_jobs\u001B[49m\u001B[43m,\u001B[49m\n\u001B[1;32m    481\u001B[0m \u001B[43m        \u001B[49m\u001B[43mcatch\u001B[49m\u001B[38;5;241;43m=\u001B[39;49m\u001B[38;5;28;43mtuple\u001B[39;49m\u001B[43m(\u001B[49m\u001B[43mcatch\u001B[49m\u001B[43m)\u001B[49m\u001B[43m \u001B[49m\u001B[38;5;28;43;01mif\u001B[39;49;00m\u001B[43m \u001B[49m\u001B[38;5;28;43misinstance\u001B[39;49m\u001B[43m(\u001B[49m\u001B[43mcatch\u001B[49m\u001B[43m,\u001B[49m\u001B[43m \u001B[49m\u001B[43mIterable\u001B[49m\u001B[43m)\u001B[49m\u001B[43m \u001B[49m\u001B[38;5;28;43;01melse\u001B[39;49;00m\u001B[43m \u001B[49m\u001B[43m(\u001B[49m\u001B[43mcatch\u001B[49m\u001B[43m,\u001B[49m\u001B[43m)\u001B[49m\u001B[43m,\u001B[49m\n\u001B[1;32m    482\u001B[0m \u001B[43m        \u001B[49m\u001B[43mcallbacks\u001B[49m\u001B[38;5;241;43m=\u001B[39;49m\u001B[43mcallbacks\u001B[49m\u001B[43m,\u001B[49m\n\u001B[1;32m    483\u001B[0m \u001B[43m        \u001B[49m\u001B[43mgc_after_trial\u001B[49m\u001B[38;5;241;43m=\u001B[39;49m\u001B[43mgc_after_trial\u001B[49m\u001B[43m,\u001B[49m\n\u001B[1;32m    484\u001B[0m \u001B[43m        \u001B[49m\u001B[43mshow_progress_bar\u001B[49m\u001B[38;5;241;43m=\u001B[39;49m\u001B[43mshow_progress_bar\u001B[49m\u001B[43m,\u001B[49m\n\u001B[1;32m    485\u001B[0m \u001B[43m    \u001B[49m\u001B[43m)\u001B[49m\n",
      "File \u001B[0;32m~/miniforge3/envs/chem/lib/python3.10/site-packages/optuna/study/_optimize.py:63\u001B[0m, in \u001B[0;36m_optimize\u001B[0;34m(study, func, n_trials, timeout, n_jobs, catch, callbacks, gc_after_trial, show_progress_bar)\u001B[0m\n\u001B[1;32m     61\u001B[0m \u001B[38;5;28;01mtry\u001B[39;00m:\n\u001B[1;32m     62\u001B[0m     \u001B[38;5;28;01mif\u001B[39;00m n_jobs \u001B[38;5;241m==\u001B[39m \u001B[38;5;241m1\u001B[39m:\n\u001B[0;32m---> 63\u001B[0m         \u001B[43m_optimize_sequential\u001B[49m\u001B[43m(\u001B[49m\n\u001B[1;32m     64\u001B[0m \u001B[43m            \u001B[49m\u001B[43mstudy\u001B[49m\u001B[43m,\u001B[49m\n\u001B[1;32m     65\u001B[0m \u001B[43m            \u001B[49m\u001B[43mfunc\u001B[49m\u001B[43m,\u001B[49m\n\u001B[1;32m     66\u001B[0m \u001B[43m            \u001B[49m\u001B[43mn_trials\u001B[49m\u001B[43m,\u001B[49m\n\u001B[1;32m     67\u001B[0m \u001B[43m            \u001B[49m\u001B[43mtimeout\u001B[49m\u001B[43m,\u001B[49m\n\u001B[1;32m     68\u001B[0m \u001B[43m            \u001B[49m\u001B[43mcatch\u001B[49m\u001B[43m,\u001B[49m\n\u001B[1;32m     69\u001B[0m \u001B[43m            \u001B[49m\u001B[43mcallbacks\u001B[49m\u001B[43m,\u001B[49m\n\u001B[1;32m     70\u001B[0m \u001B[43m            \u001B[49m\u001B[43mgc_after_trial\u001B[49m\u001B[43m,\u001B[49m\n\u001B[1;32m     71\u001B[0m \u001B[43m            \u001B[49m\u001B[43mreseed_sampler_rng\u001B[49m\u001B[38;5;241;43m=\u001B[39;49m\u001B[38;5;28;43;01mFalse\u001B[39;49;00m\u001B[43m,\u001B[49m\n\u001B[1;32m     72\u001B[0m \u001B[43m            \u001B[49m\u001B[43mtime_start\u001B[49m\u001B[38;5;241;43m=\u001B[39;49m\u001B[38;5;28;43;01mNone\u001B[39;49;00m\u001B[43m,\u001B[49m\n\u001B[1;32m     73\u001B[0m \u001B[43m            \u001B[49m\u001B[43mprogress_bar\u001B[49m\u001B[38;5;241;43m=\u001B[39;49m\u001B[43mprogress_bar\u001B[49m\u001B[43m,\u001B[49m\n\u001B[1;32m     74\u001B[0m \u001B[43m        \u001B[49m\u001B[43m)\u001B[49m\n\u001B[1;32m     75\u001B[0m     \u001B[38;5;28;01melse\u001B[39;00m:\n\u001B[1;32m     76\u001B[0m         \u001B[38;5;28;01mif\u001B[39;00m n_jobs \u001B[38;5;241m==\u001B[39m \u001B[38;5;241m-\u001B[39m\u001B[38;5;241m1\u001B[39m:\n",
      "File \u001B[0;32m~/miniforge3/envs/chem/lib/python3.10/site-packages/optuna/study/_optimize.py:160\u001B[0m, in \u001B[0;36m_optimize_sequential\u001B[0;34m(study, func, n_trials, timeout, catch, callbacks, gc_after_trial, reseed_sampler_rng, time_start, progress_bar)\u001B[0m\n\u001B[1;32m    157\u001B[0m         \u001B[38;5;28;01mbreak\u001B[39;00m\n\u001B[1;32m    159\u001B[0m \u001B[38;5;28;01mtry\u001B[39;00m:\n\u001B[0;32m--> 160\u001B[0m     frozen_trial \u001B[38;5;241m=\u001B[39m \u001B[43m_run_trial\u001B[49m\u001B[43m(\u001B[49m\u001B[43mstudy\u001B[49m\u001B[43m,\u001B[49m\u001B[43m \u001B[49m\u001B[43mfunc\u001B[49m\u001B[43m,\u001B[49m\u001B[43m \u001B[49m\u001B[43mcatch\u001B[49m\u001B[43m)\u001B[49m\n\u001B[1;32m    161\u001B[0m \u001B[38;5;28;01mfinally\u001B[39;00m:\n\u001B[1;32m    162\u001B[0m     \u001B[38;5;66;03m# The following line mitigates memory problems that can be occurred in some\u001B[39;00m\n\u001B[1;32m    163\u001B[0m     \u001B[38;5;66;03m# environments (e.g., services that use computing containers such as GitHub Actions).\u001B[39;00m\n\u001B[1;32m    164\u001B[0m     \u001B[38;5;66;03m# Please refer to the following PR for further details:\u001B[39;00m\n\u001B[1;32m    165\u001B[0m     \u001B[38;5;66;03m# https://github.com/optuna/optuna/pull/325.\u001B[39;00m\n\u001B[1;32m    166\u001B[0m     \u001B[38;5;28;01mif\u001B[39;00m gc_after_trial:\n",
      "File \u001B[0;32m~/miniforge3/envs/chem/lib/python3.10/site-packages/optuna/study/_optimize.py:248\u001B[0m, in \u001B[0;36m_run_trial\u001B[0;34m(study, func, catch)\u001B[0m\n\u001B[1;32m    241\u001B[0m         \u001B[38;5;28;01massert\u001B[39;00m \u001B[38;5;28;01mFalse\u001B[39;00m, \u001B[38;5;124m\"\u001B[39m\u001B[38;5;124mShould not reach.\u001B[39m\u001B[38;5;124m\"\u001B[39m\n\u001B[1;32m    243\u001B[0m \u001B[38;5;28;01mif\u001B[39;00m (\n\u001B[1;32m    244\u001B[0m     frozen_trial\u001B[38;5;241m.\u001B[39mstate \u001B[38;5;241m==\u001B[39m TrialState\u001B[38;5;241m.\u001B[39mFAIL\n\u001B[1;32m    245\u001B[0m     \u001B[38;5;129;01mand\u001B[39;00m func_err \u001B[38;5;129;01mis\u001B[39;00m \u001B[38;5;129;01mnot\u001B[39;00m \u001B[38;5;28;01mNone\u001B[39;00m\n\u001B[1;32m    246\u001B[0m     \u001B[38;5;129;01mand\u001B[39;00m \u001B[38;5;129;01mnot\u001B[39;00m \u001B[38;5;28misinstance\u001B[39m(func_err, catch)\n\u001B[1;32m    247\u001B[0m ):\n\u001B[0;32m--> 248\u001B[0m     \u001B[38;5;28;01mraise\u001B[39;00m func_err\n\u001B[1;32m    249\u001B[0m \u001B[38;5;28;01mreturn\u001B[39;00m frozen_trial\n",
      "File \u001B[0;32m~/miniforge3/envs/chem/lib/python3.10/site-packages/optuna/study/_optimize.py:197\u001B[0m, in \u001B[0;36m_run_trial\u001B[0;34m(study, func, catch)\u001B[0m\n\u001B[1;32m    195\u001B[0m \u001B[38;5;28;01mwith\u001B[39;00m get_heartbeat_thread(trial\u001B[38;5;241m.\u001B[39m_trial_id, study\u001B[38;5;241m.\u001B[39m_storage):\n\u001B[1;32m    196\u001B[0m     \u001B[38;5;28;01mtry\u001B[39;00m:\n\u001B[0;32m--> 197\u001B[0m         value_or_values \u001B[38;5;241m=\u001B[39m \u001B[43mfunc\u001B[49m\u001B[43m(\u001B[49m\u001B[43mtrial\u001B[49m\u001B[43m)\u001B[49m\n\u001B[1;32m    198\u001B[0m     \u001B[38;5;28;01mexcept\u001B[39;00m exceptions\u001B[38;5;241m.\u001B[39mTrialPruned \u001B[38;5;28;01mas\u001B[39;00m e:\n\u001B[1;32m    199\u001B[0m         \u001B[38;5;66;03m# TODO(mamu): Handle multi-objective cases.\u001B[39;00m\n\u001B[1;32m    200\u001B[0m         state \u001B[38;5;241m=\u001B[39m TrialState\u001B[38;5;241m.\u001B[39mPRUNED\n",
      "Cell \u001B[0;32mIn[69], line 69\u001B[0m, in \u001B[0;36mFeatureSelectionOptuna.__call__\u001B[0;34m(self, trial)\u001B[0m\n\u001B[1;32m     63\u001B[0m X_selected \u001B[38;5;241m=\u001B[39m \u001B[38;5;28mself\u001B[39m\u001B[38;5;241m.\u001B[39mX[feats_selected \u001B[38;5;241m+\u001B[39m group_feats_selected]\u001B[38;5;241m.\u001B[39mcopy()\n\u001B[1;32m     67\u001B[0m kfold \u001B[38;5;241m=\u001B[39m RepeatedKFold(n_splits\u001B[38;5;241m=\u001B[39m\u001B[38;5;241m5\u001B[39m, n_repeats\u001B[38;5;241m=\u001B[39m\u001B[38;5;241m3\u001B[39m, random_state\u001B[38;5;241m=\u001B[39mRANDOM_SEED)\n\u001B[0;32m---> 69\u001B[0m cv_res \u001B[38;5;241m=\u001B[39m \u001B[43mcross_val_score\u001B[49m\u001B[43m(\u001B[49m\n\u001B[1;32m     70\u001B[0m \u001B[43m    \u001B[49m\u001B[38;5;28;43mself\u001B[39;49m\u001B[38;5;241;43m.\u001B[39;49m\u001B[43mmodel\u001B[49m\u001B[43m,\u001B[49m\u001B[43m \u001B[49m\n\u001B[1;32m     71\u001B[0m \u001B[43m    \u001B[49m\u001B[43mX_selected\u001B[49m\u001B[43m,\u001B[49m\u001B[43m \u001B[49m\u001B[38;5;28;43mself\u001B[39;49m\u001B[38;5;241;43m.\u001B[39;49m\u001B[43my\u001B[49m\u001B[43m,\u001B[49m\u001B[43m \u001B[49m\n\u001B[1;32m     72\u001B[0m \u001B[43m    \u001B[49m\u001B[43mcv\u001B[49m\u001B[38;5;241;43m=\u001B[39;49m\u001B[43mkfold\u001B[49m\u001B[43m,\u001B[49m\u001B[43m \u001B[49m\n\u001B[1;32m     73\u001B[0m \u001B[43m    \u001B[49m\u001B[43mscoring\u001B[49m\u001B[38;5;241;43m=\u001B[39;49m\u001B[38;5;124;43m'\u001B[39;49m\u001B[38;5;124;43mroc_auc\u001B[39;49m\u001B[38;5;124;43m'\u001B[39;49m\u001B[43m)\u001B[49m\n\u001B[1;32m     74\u001B[0m score \u001B[38;5;241m=\u001B[39m (cv_res\u001B[38;5;241m.\u001B[39mmean() \u001B[38;5;241m-\u001B[39m cv_res\u001B[38;5;241m.\u001B[39mstd())\n\u001B[1;32m     75\u001B[0m \u001B[38;5;28;01mreturn\u001B[39;00m score\n",
      "File \u001B[0;32m~/miniforge3/envs/chem/lib/python3.10/site-packages/sklearn/utils/_param_validation.py:213\u001B[0m, in \u001B[0;36mvalidate_params.<locals>.decorator.<locals>.wrapper\u001B[0;34m(*args, **kwargs)\u001B[0m\n\u001B[1;32m    207\u001B[0m \u001B[38;5;28;01mtry\u001B[39;00m:\n\u001B[1;32m    208\u001B[0m     \u001B[38;5;28;01mwith\u001B[39;00m config_context(\n\u001B[1;32m    209\u001B[0m         skip_parameter_validation\u001B[38;5;241m=\u001B[39m(\n\u001B[1;32m    210\u001B[0m             prefer_skip_nested_validation \u001B[38;5;129;01mor\u001B[39;00m global_skip_validation\n\u001B[1;32m    211\u001B[0m         )\n\u001B[1;32m    212\u001B[0m     ):\n\u001B[0;32m--> 213\u001B[0m         \u001B[38;5;28;01mreturn\u001B[39;00m \u001B[43mfunc\u001B[49m\u001B[43m(\u001B[49m\u001B[38;5;241;43m*\u001B[39;49m\u001B[43margs\u001B[49m\u001B[43m,\u001B[49m\u001B[43m \u001B[49m\u001B[38;5;241;43m*\u001B[39;49m\u001B[38;5;241;43m*\u001B[39;49m\u001B[43mkwargs\u001B[49m\u001B[43m)\u001B[49m\n\u001B[1;32m    214\u001B[0m \u001B[38;5;28;01mexcept\u001B[39;00m InvalidParameterError \u001B[38;5;28;01mas\u001B[39;00m e:\n\u001B[1;32m    215\u001B[0m     \u001B[38;5;66;03m# When the function is just a wrapper around an estimator, we allow\u001B[39;00m\n\u001B[1;32m    216\u001B[0m     \u001B[38;5;66;03m# the function to delegate validation to the estimator, but we replace\u001B[39;00m\n\u001B[1;32m    217\u001B[0m     \u001B[38;5;66;03m# the name of the estimator by the name of the function in the error\u001B[39;00m\n\u001B[1;32m    218\u001B[0m     \u001B[38;5;66;03m# message to avoid confusion.\u001B[39;00m\n\u001B[1;32m    219\u001B[0m     msg \u001B[38;5;241m=\u001B[39m re\u001B[38;5;241m.\u001B[39msub(\n\u001B[1;32m    220\u001B[0m         \u001B[38;5;124mr\u001B[39m\u001B[38;5;124m\"\u001B[39m\u001B[38;5;124mparameter of \u001B[39m\u001B[38;5;124m\\\u001B[39m\u001B[38;5;124mw+ must be\u001B[39m\u001B[38;5;124m\"\u001B[39m,\n\u001B[1;32m    221\u001B[0m         \u001B[38;5;124mf\u001B[39m\u001B[38;5;124m\"\u001B[39m\u001B[38;5;124mparameter of \u001B[39m\u001B[38;5;132;01m{\u001B[39;00mfunc\u001B[38;5;241m.\u001B[39m\u001B[38;5;18m__qualname__\u001B[39m\u001B[38;5;132;01m}\u001B[39;00m\u001B[38;5;124m must be\u001B[39m\u001B[38;5;124m\"\u001B[39m,\n\u001B[1;32m    222\u001B[0m         \u001B[38;5;28mstr\u001B[39m(e),\n\u001B[1;32m    223\u001B[0m     )\n",
      "File \u001B[0;32m~/miniforge3/envs/chem/lib/python3.10/site-packages/sklearn/model_selection/_validation.py:712\u001B[0m, in \u001B[0;36mcross_val_score\u001B[0;34m(estimator, X, y, groups, scoring, cv, n_jobs, verbose, fit_params, params, pre_dispatch, error_score)\u001B[0m\n\u001B[1;32m    709\u001B[0m \u001B[38;5;66;03m# To ensure multimetric format is not supported\u001B[39;00m\n\u001B[1;32m    710\u001B[0m scorer \u001B[38;5;241m=\u001B[39m check_scoring(estimator, scoring\u001B[38;5;241m=\u001B[39mscoring)\n\u001B[0;32m--> 712\u001B[0m cv_results \u001B[38;5;241m=\u001B[39m \u001B[43mcross_validate\u001B[49m\u001B[43m(\u001B[49m\n\u001B[1;32m    713\u001B[0m \u001B[43m    \u001B[49m\u001B[43mestimator\u001B[49m\u001B[38;5;241;43m=\u001B[39;49m\u001B[43mestimator\u001B[49m\u001B[43m,\u001B[49m\n\u001B[1;32m    714\u001B[0m \u001B[43m    \u001B[49m\u001B[43mX\u001B[49m\u001B[38;5;241;43m=\u001B[39;49m\u001B[43mX\u001B[49m\u001B[43m,\u001B[49m\n\u001B[1;32m    715\u001B[0m \u001B[43m    \u001B[49m\u001B[43my\u001B[49m\u001B[38;5;241;43m=\u001B[39;49m\u001B[43my\u001B[49m\u001B[43m,\u001B[49m\n\u001B[1;32m    716\u001B[0m \u001B[43m    \u001B[49m\u001B[43mgroups\u001B[49m\u001B[38;5;241;43m=\u001B[39;49m\u001B[43mgroups\u001B[49m\u001B[43m,\u001B[49m\n\u001B[1;32m    717\u001B[0m \u001B[43m    \u001B[49m\u001B[43mscoring\u001B[49m\u001B[38;5;241;43m=\u001B[39;49m\u001B[43m{\u001B[49m\u001B[38;5;124;43m\"\u001B[39;49m\u001B[38;5;124;43mscore\u001B[39;49m\u001B[38;5;124;43m\"\u001B[39;49m\u001B[43m:\u001B[49m\u001B[43m \u001B[49m\u001B[43mscorer\u001B[49m\u001B[43m}\u001B[49m\u001B[43m,\u001B[49m\n\u001B[1;32m    718\u001B[0m \u001B[43m    \u001B[49m\u001B[43mcv\u001B[49m\u001B[38;5;241;43m=\u001B[39;49m\u001B[43mcv\u001B[49m\u001B[43m,\u001B[49m\n\u001B[1;32m    719\u001B[0m \u001B[43m    \u001B[49m\u001B[43mn_jobs\u001B[49m\u001B[38;5;241;43m=\u001B[39;49m\u001B[43mn_jobs\u001B[49m\u001B[43m,\u001B[49m\n\u001B[1;32m    720\u001B[0m \u001B[43m    \u001B[49m\u001B[43mverbose\u001B[49m\u001B[38;5;241;43m=\u001B[39;49m\u001B[43mverbose\u001B[49m\u001B[43m,\u001B[49m\n\u001B[1;32m    721\u001B[0m \u001B[43m    \u001B[49m\u001B[43mfit_params\u001B[49m\u001B[38;5;241;43m=\u001B[39;49m\u001B[43mfit_params\u001B[49m\u001B[43m,\u001B[49m\n\u001B[1;32m    722\u001B[0m \u001B[43m    \u001B[49m\u001B[43mparams\u001B[49m\u001B[38;5;241;43m=\u001B[39;49m\u001B[43mparams\u001B[49m\u001B[43m,\u001B[49m\n\u001B[1;32m    723\u001B[0m \u001B[43m    \u001B[49m\u001B[43mpre_dispatch\u001B[49m\u001B[38;5;241;43m=\u001B[39;49m\u001B[43mpre_dispatch\u001B[49m\u001B[43m,\u001B[49m\n\u001B[1;32m    724\u001B[0m \u001B[43m    \u001B[49m\u001B[43merror_score\u001B[49m\u001B[38;5;241;43m=\u001B[39;49m\u001B[43merror_score\u001B[49m\u001B[43m,\u001B[49m\n\u001B[1;32m    725\u001B[0m \u001B[43m\u001B[49m\u001B[43m)\u001B[49m\n\u001B[1;32m    726\u001B[0m \u001B[38;5;28;01mreturn\u001B[39;00m cv_results[\u001B[38;5;124m\"\u001B[39m\u001B[38;5;124mtest_score\u001B[39m\u001B[38;5;124m\"\u001B[39m]\n",
      "File \u001B[0;32m~/miniforge3/envs/chem/lib/python3.10/site-packages/sklearn/utils/_param_validation.py:213\u001B[0m, in \u001B[0;36mvalidate_params.<locals>.decorator.<locals>.wrapper\u001B[0;34m(*args, **kwargs)\u001B[0m\n\u001B[1;32m    207\u001B[0m \u001B[38;5;28;01mtry\u001B[39;00m:\n\u001B[1;32m    208\u001B[0m     \u001B[38;5;28;01mwith\u001B[39;00m config_context(\n\u001B[1;32m    209\u001B[0m         skip_parameter_validation\u001B[38;5;241m=\u001B[39m(\n\u001B[1;32m    210\u001B[0m             prefer_skip_nested_validation \u001B[38;5;129;01mor\u001B[39;00m global_skip_validation\n\u001B[1;32m    211\u001B[0m         )\n\u001B[1;32m    212\u001B[0m     ):\n\u001B[0;32m--> 213\u001B[0m         \u001B[38;5;28;01mreturn\u001B[39;00m \u001B[43mfunc\u001B[49m\u001B[43m(\u001B[49m\u001B[38;5;241;43m*\u001B[39;49m\u001B[43margs\u001B[49m\u001B[43m,\u001B[49m\u001B[43m \u001B[49m\u001B[38;5;241;43m*\u001B[39;49m\u001B[38;5;241;43m*\u001B[39;49m\u001B[43mkwargs\u001B[49m\u001B[43m)\u001B[49m\n\u001B[1;32m    214\u001B[0m \u001B[38;5;28;01mexcept\u001B[39;00m InvalidParameterError \u001B[38;5;28;01mas\u001B[39;00m e:\n\u001B[1;32m    215\u001B[0m     \u001B[38;5;66;03m# When the function is just a wrapper around an estimator, we allow\u001B[39;00m\n\u001B[1;32m    216\u001B[0m     \u001B[38;5;66;03m# the function to delegate validation to the estimator, but we replace\u001B[39;00m\n\u001B[1;32m    217\u001B[0m     \u001B[38;5;66;03m# the name of the estimator by the name of the function in the error\u001B[39;00m\n\u001B[1;32m    218\u001B[0m     \u001B[38;5;66;03m# message to avoid confusion.\u001B[39;00m\n\u001B[1;32m    219\u001B[0m     msg \u001B[38;5;241m=\u001B[39m re\u001B[38;5;241m.\u001B[39msub(\n\u001B[1;32m    220\u001B[0m         \u001B[38;5;124mr\u001B[39m\u001B[38;5;124m\"\u001B[39m\u001B[38;5;124mparameter of \u001B[39m\u001B[38;5;124m\\\u001B[39m\u001B[38;5;124mw+ must be\u001B[39m\u001B[38;5;124m\"\u001B[39m,\n\u001B[1;32m    221\u001B[0m         \u001B[38;5;124mf\u001B[39m\u001B[38;5;124m\"\u001B[39m\u001B[38;5;124mparameter of \u001B[39m\u001B[38;5;132;01m{\u001B[39;00mfunc\u001B[38;5;241m.\u001B[39m\u001B[38;5;18m__qualname__\u001B[39m\u001B[38;5;132;01m}\u001B[39;00m\u001B[38;5;124m must be\u001B[39m\u001B[38;5;124m\"\u001B[39m,\n\u001B[1;32m    222\u001B[0m         \u001B[38;5;28mstr\u001B[39m(e),\n\u001B[1;32m    223\u001B[0m     )\n",
      "File \u001B[0;32m~/miniforge3/envs/chem/lib/python3.10/site-packages/sklearn/model_selection/_validation.py:423\u001B[0m, in \u001B[0;36mcross_validate\u001B[0;34m(estimator, X, y, groups, scoring, cv, n_jobs, verbose, fit_params, params, pre_dispatch, return_train_score, return_estimator, return_indices, error_score)\u001B[0m\n\u001B[1;32m    420\u001B[0m \u001B[38;5;66;03m# We clone the estimator to make sure that all the folds are\u001B[39;00m\n\u001B[1;32m    421\u001B[0m \u001B[38;5;66;03m# independent, and that it is pickle-able.\u001B[39;00m\n\u001B[1;32m    422\u001B[0m parallel \u001B[38;5;241m=\u001B[39m Parallel(n_jobs\u001B[38;5;241m=\u001B[39mn_jobs, verbose\u001B[38;5;241m=\u001B[39mverbose, pre_dispatch\u001B[38;5;241m=\u001B[39mpre_dispatch)\n\u001B[0;32m--> 423\u001B[0m results \u001B[38;5;241m=\u001B[39m \u001B[43mparallel\u001B[49m\u001B[43m(\u001B[49m\n\u001B[1;32m    424\u001B[0m \u001B[43m    \u001B[49m\u001B[43mdelayed\u001B[49m\u001B[43m(\u001B[49m\u001B[43m_fit_and_score\u001B[49m\u001B[43m)\u001B[49m\u001B[43m(\u001B[49m\n\u001B[1;32m    425\u001B[0m \u001B[43m        \u001B[49m\u001B[43mclone\u001B[49m\u001B[43m(\u001B[49m\u001B[43mestimator\u001B[49m\u001B[43m)\u001B[49m\u001B[43m,\u001B[49m\n\u001B[1;32m    426\u001B[0m \u001B[43m        \u001B[49m\u001B[43mX\u001B[49m\u001B[43m,\u001B[49m\n\u001B[1;32m    427\u001B[0m \u001B[43m        \u001B[49m\u001B[43my\u001B[49m\u001B[43m,\u001B[49m\n\u001B[1;32m    428\u001B[0m \u001B[43m        \u001B[49m\u001B[43mscorer\u001B[49m\u001B[38;5;241;43m=\u001B[39;49m\u001B[43mscorers\u001B[49m\u001B[43m,\u001B[49m\n\u001B[1;32m    429\u001B[0m \u001B[43m        \u001B[49m\u001B[43mtrain\u001B[49m\u001B[38;5;241;43m=\u001B[39;49m\u001B[43mtrain\u001B[49m\u001B[43m,\u001B[49m\n\u001B[1;32m    430\u001B[0m \u001B[43m        \u001B[49m\u001B[43mtest\u001B[49m\u001B[38;5;241;43m=\u001B[39;49m\u001B[43mtest\u001B[49m\u001B[43m,\u001B[49m\n\u001B[1;32m    431\u001B[0m \u001B[43m        \u001B[49m\u001B[43mverbose\u001B[49m\u001B[38;5;241;43m=\u001B[39;49m\u001B[43mverbose\u001B[49m\u001B[43m,\u001B[49m\n\u001B[1;32m    432\u001B[0m \u001B[43m        \u001B[49m\u001B[43mparameters\u001B[49m\u001B[38;5;241;43m=\u001B[39;49m\u001B[38;5;28;43;01mNone\u001B[39;49;00m\u001B[43m,\u001B[49m\n\u001B[1;32m    433\u001B[0m \u001B[43m        \u001B[49m\u001B[43mfit_params\u001B[49m\u001B[38;5;241;43m=\u001B[39;49m\u001B[43mrouted_params\u001B[49m\u001B[38;5;241;43m.\u001B[39;49m\u001B[43mestimator\u001B[49m\u001B[38;5;241;43m.\u001B[39;49m\u001B[43mfit\u001B[49m\u001B[43m,\u001B[49m\n\u001B[1;32m    434\u001B[0m \u001B[43m        \u001B[49m\u001B[43mscore_params\u001B[49m\u001B[38;5;241;43m=\u001B[39;49m\u001B[43mrouted_params\u001B[49m\u001B[38;5;241;43m.\u001B[39;49m\u001B[43mscorer\u001B[49m\u001B[38;5;241;43m.\u001B[39;49m\u001B[43mscore\u001B[49m\u001B[43m,\u001B[49m\n\u001B[1;32m    435\u001B[0m \u001B[43m        \u001B[49m\u001B[43mreturn_train_score\u001B[49m\u001B[38;5;241;43m=\u001B[39;49m\u001B[43mreturn_train_score\u001B[49m\u001B[43m,\u001B[49m\n\u001B[1;32m    436\u001B[0m \u001B[43m        \u001B[49m\u001B[43mreturn_times\u001B[49m\u001B[38;5;241;43m=\u001B[39;49m\u001B[38;5;28;43;01mTrue\u001B[39;49;00m\u001B[43m,\u001B[49m\n\u001B[1;32m    437\u001B[0m \u001B[43m        \u001B[49m\u001B[43mreturn_estimator\u001B[49m\u001B[38;5;241;43m=\u001B[39;49m\u001B[43mreturn_estimator\u001B[49m\u001B[43m,\u001B[49m\n\u001B[1;32m    438\u001B[0m \u001B[43m        \u001B[49m\u001B[43merror_score\u001B[49m\u001B[38;5;241;43m=\u001B[39;49m\u001B[43merror_score\u001B[49m\u001B[43m,\u001B[49m\n\u001B[1;32m    439\u001B[0m \u001B[43m    \u001B[49m\u001B[43m)\u001B[49m\n\u001B[1;32m    440\u001B[0m \u001B[43m    \u001B[49m\u001B[38;5;28;43;01mfor\u001B[39;49;00m\u001B[43m \u001B[49m\u001B[43mtrain\u001B[49m\u001B[43m,\u001B[49m\u001B[43m \u001B[49m\u001B[43mtest\u001B[49m\u001B[43m \u001B[49m\u001B[38;5;129;43;01min\u001B[39;49;00m\u001B[43m \u001B[49m\u001B[43mindices\u001B[49m\n\u001B[1;32m    441\u001B[0m \u001B[43m\u001B[49m\u001B[43m)\u001B[49m\n\u001B[1;32m    443\u001B[0m _warn_or_raise_about_fit_failures(results, error_score)\n\u001B[1;32m    445\u001B[0m \u001B[38;5;66;03m# For callable scoring, the return type is only know after calling. If the\u001B[39;00m\n\u001B[1;32m    446\u001B[0m \u001B[38;5;66;03m# return type is a dictionary, the error scores can now be inserted with\u001B[39;00m\n\u001B[1;32m    447\u001B[0m \u001B[38;5;66;03m# the correct key.\u001B[39;00m\n",
      "File \u001B[0;32m~/miniforge3/envs/chem/lib/python3.10/site-packages/sklearn/utils/parallel.py:74\u001B[0m, in \u001B[0;36mParallel.__call__\u001B[0;34m(self, iterable)\u001B[0m\n\u001B[1;32m     69\u001B[0m config \u001B[38;5;241m=\u001B[39m get_config()\n\u001B[1;32m     70\u001B[0m iterable_with_config \u001B[38;5;241m=\u001B[39m (\n\u001B[1;32m     71\u001B[0m     (_with_config(delayed_func, config), args, kwargs)\n\u001B[1;32m     72\u001B[0m     \u001B[38;5;28;01mfor\u001B[39;00m delayed_func, args, kwargs \u001B[38;5;129;01min\u001B[39;00m iterable\n\u001B[1;32m     73\u001B[0m )\n\u001B[0;32m---> 74\u001B[0m \u001B[38;5;28;01mreturn\u001B[39;00m \u001B[38;5;28;43msuper\u001B[39;49m\u001B[43m(\u001B[49m\u001B[43m)\u001B[49m\u001B[38;5;241;43m.\u001B[39;49m\u001B[38;5;21;43m__call__\u001B[39;49m\u001B[43m(\u001B[49m\u001B[43miterable_with_config\u001B[49m\u001B[43m)\u001B[49m\n",
      "File \u001B[0;32m~/miniforge3/envs/chem/lib/python3.10/site-packages/joblib/parallel.py:1918\u001B[0m, in \u001B[0;36mParallel.__call__\u001B[0;34m(self, iterable)\u001B[0m\n\u001B[1;32m   1916\u001B[0m     output \u001B[38;5;241m=\u001B[39m \u001B[38;5;28mself\u001B[39m\u001B[38;5;241m.\u001B[39m_get_sequential_output(iterable)\n\u001B[1;32m   1917\u001B[0m     \u001B[38;5;28mnext\u001B[39m(output)\n\u001B[0;32m-> 1918\u001B[0m     \u001B[38;5;28;01mreturn\u001B[39;00m output \u001B[38;5;28;01mif\u001B[39;00m \u001B[38;5;28mself\u001B[39m\u001B[38;5;241m.\u001B[39mreturn_generator \u001B[38;5;28;01melse\u001B[39;00m \u001B[38;5;28;43mlist\u001B[39;49m\u001B[43m(\u001B[49m\u001B[43moutput\u001B[49m\u001B[43m)\u001B[49m\n\u001B[1;32m   1920\u001B[0m \u001B[38;5;66;03m# Let's create an ID that uniquely identifies the current call. If the\u001B[39;00m\n\u001B[1;32m   1921\u001B[0m \u001B[38;5;66;03m# call is interrupted early and that the same instance is immediately\u001B[39;00m\n\u001B[1;32m   1922\u001B[0m \u001B[38;5;66;03m# re-used, this id will be used to prevent workers that were\u001B[39;00m\n\u001B[1;32m   1923\u001B[0m \u001B[38;5;66;03m# concurrently finalizing a task from the previous call to run the\u001B[39;00m\n\u001B[1;32m   1924\u001B[0m \u001B[38;5;66;03m# callback.\u001B[39;00m\n\u001B[1;32m   1925\u001B[0m \u001B[38;5;28;01mwith\u001B[39;00m \u001B[38;5;28mself\u001B[39m\u001B[38;5;241m.\u001B[39m_lock:\n",
      "File \u001B[0;32m~/miniforge3/envs/chem/lib/python3.10/site-packages/joblib/parallel.py:1847\u001B[0m, in \u001B[0;36mParallel._get_sequential_output\u001B[0;34m(self, iterable)\u001B[0m\n\u001B[1;32m   1845\u001B[0m \u001B[38;5;28mself\u001B[39m\u001B[38;5;241m.\u001B[39mn_dispatched_batches \u001B[38;5;241m+\u001B[39m\u001B[38;5;241m=\u001B[39m \u001B[38;5;241m1\u001B[39m\n\u001B[1;32m   1846\u001B[0m \u001B[38;5;28mself\u001B[39m\u001B[38;5;241m.\u001B[39mn_dispatched_tasks \u001B[38;5;241m+\u001B[39m\u001B[38;5;241m=\u001B[39m \u001B[38;5;241m1\u001B[39m\n\u001B[0;32m-> 1847\u001B[0m res \u001B[38;5;241m=\u001B[39m \u001B[43mfunc\u001B[49m\u001B[43m(\u001B[49m\u001B[38;5;241;43m*\u001B[39;49m\u001B[43margs\u001B[49m\u001B[43m,\u001B[49m\u001B[43m \u001B[49m\u001B[38;5;241;43m*\u001B[39;49m\u001B[38;5;241;43m*\u001B[39;49m\u001B[43mkwargs\u001B[49m\u001B[43m)\u001B[49m\n\u001B[1;32m   1848\u001B[0m \u001B[38;5;28mself\u001B[39m\u001B[38;5;241m.\u001B[39mn_completed_tasks \u001B[38;5;241m+\u001B[39m\u001B[38;5;241m=\u001B[39m \u001B[38;5;241m1\u001B[39m\n\u001B[1;32m   1849\u001B[0m \u001B[38;5;28mself\u001B[39m\u001B[38;5;241m.\u001B[39mprint_progress()\n",
      "File \u001B[0;32m~/miniforge3/envs/chem/lib/python3.10/site-packages/sklearn/utils/parallel.py:136\u001B[0m, in \u001B[0;36m_FuncWrapper.__call__\u001B[0;34m(self, *args, **kwargs)\u001B[0m\n\u001B[1;32m    134\u001B[0m     config \u001B[38;5;241m=\u001B[39m {}\n\u001B[1;32m    135\u001B[0m \u001B[38;5;28;01mwith\u001B[39;00m config_context(\u001B[38;5;241m*\u001B[39m\u001B[38;5;241m*\u001B[39mconfig):\n\u001B[0;32m--> 136\u001B[0m     \u001B[38;5;28;01mreturn\u001B[39;00m \u001B[38;5;28;43mself\u001B[39;49m\u001B[38;5;241;43m.\u001B[39;49m\u001B[43mfunction\u001B[49m\u001B[43m(\u001B[49m\u001B[38;5;241;43m*\u001B[39;49m\u001B[43margs\u001B[49m\u001B[43m,\u001B[49m\u001B[43m \u001B[49m\u001B[38;5;241;43m*\u001B[39;49m\u001B[38;5;241;43m*\u001B[39;49m\u001B[43mkwargs\u001B[49m\u001B[43m)\u001B[49m\n",
      "File \u001B[0;32m~/miniforge3/envs/chem/lib/python3.10/site-packages/sklearn/model_selection/_validation.py:888\u001B[0m, in \u001B[0;36m_fit_and_score\u001B[0;34m(estimator, X, y, scorer, train, test, verbose, parameters, fit_params, score_params, return_train_score, return_parameters, return_n_test_samples, return_times, return_estimator, split_progress, candidate_progress, error_score)\u001B[0m\n\u001B[1;32m    886\u001B[0m         estimator\u001B[38;5;241m.\u001B[39mfit(X_train, \u001B[38;5;241m*\u001B[39m\u001B[38;5;241m*\u001B[39mfit_params)\n\u001B[1;32m    887\u001B[0m     \u001B[38;5;28;01melse\u001B[39;00m:\n\u001B[0;32m--> 888\u001B[0m         \u001B[43mestimator\u001B[49m\u001B[38;5;241;43m.\u001B[39;49m\u001B[43mfit\u001B[49m\u001B[43m(\u001B[49m\u001B[43mX_train\u001B[49m\u001B[43m,\u001B[49m\u001B[43m \u001B[49m\u001B[43my_train\u001B[49m\u001B[43m,\u001B[49m\u001B[43m \u001B[49m\u001B[38;5;241;43m*\u001B[39;49m\u001B[38;5;241;43m*\u001B[39;49m\u001B[43mfit_params\u001B[49m\u001B[43m)\u001B[49m\n\u001B[1;32m    890\u001B[0m \u001B[38;5;28;01mexcept\u001B[39;00m \u001B[38;5;167;01mException\u001B[39;00m:\n\u001B[1;32m    891\u001B[0m     \u001B[38;5;66;03m# Note fit time as time until error\u001B[39;00m\n\u001B[1;32m    892\u001B[0m     fit_time \u001B[38;5;241m=\u001B[39m time\u001B[38;5;241m.\u001B[39mtime() \u001B[38;5;241m-\u001B[39m start_time\n",
      "File \u001B[0;32m~/miniforge3/envs/chem/lib/python3.10/site-packages/lightgbm/sklearn.py:1284\u001B[0m, in \u001B[0;36mLGBMClassifier.fit\u001B[0;34m(self, X, y, sample_weight, init_score, eval_set, eval_names, eval_sample_weight, eval_class_weight, eval_init_score, eval_metric, feature_name, categorical_feature, callbacks, init_model)\u001B[0m\n\u001B[1;32m   1281\u001B[0m         \u001B[38;5;28;01melse\u001B[39;00m:\n\u001B[1;32m   1282\u001B[0m             valid_sets\u001B[38;5;241m.\u001B[39mappend((valid_x, \u001B[38;5;28mself\u001B[39m\u001B[38;5;241m.\u001B[39m_le\u001B[38;5;241m.\u001B[39mtransform(valid_y)))\n\u001B[0;32m-> 1284\u001B[0m \u001B[38;5;28;43msuper\u001B[39;49m\u001B[43m(\u001B[49m\u001B[43m)\u001B[49m\u001B[38;5;241;43m.\u001B[39;49m\u001B[43mfit\u001B[49m\u001B[43m(\u001B[49m\n\u001B[1;32m   1285\u001B[0m \u001B[43m    \u001B[49m\u001B[43mX\u001B[49m\u001B[43m,\u001B[49m\n\u001B[1;32m   1286\u001B[0m \u001B[43m    \u001B[49m\u001B[43m_y\u001B[49m\u001B[43m,\u001B[49m\n\u001B[1;32m   1287\u001B[0m \u001B[43m    \u001B[49m\u001B[43msample_weight\u001B[49m\u001B[38;5;241;43m=\u001B[39;49m\u001B[43msample_weight\u001B[49m\u001B[43m,\u001B[49m\n\u001B[1;32m   1288\u001B[0m \u001B[43m    \u001B[49m\u001B[43minit_score\u001B[49m\u001B[38;5;241;43m=\u001B[39;49m\u001B[43minit_score\u001B[49m\u001B[43m,\u001B[49m\n\u001B[1;32m   1289\u001B[0m \u001B[43m    \u001B[49m\u001B[43meval_set\u001B[49m\u001B[38;5;241;43m=\u001B[39;49m\u001B[43mvalid_sets\u001B[49m\u001B[43m,\u001B[49m\n\u001B[1;32m   1290\u001B[0m \u001B[43m    \u001B[49m\u001B[43meval_names\u001B[49m\u001B[38;5;241;43m=\u001B[39;49m\u001B[43meval_names\u001B[49m\u001B[43m,\u001B[49m\n\u001B[1;32m   1291\u001B[0m \u001B[43m    \u001B[49m\u001B[43meval_sample_weight\u001B[49m\u001B[38;5;241;43m=\u001B[39;49m\u001B[43meval_sample_weight\u001B[49m\u001B[43m,\u001B[49m\n\u001B[1;32m   1292\u001B[0m \u001B[43m    \u001B[49m\u001B[43meval_class_weight\u001B[49m\u001B[38;5;241;43m=\u001B[39;49m\u001B[43meval_class_weight\u001B[49m\u001B[43m,\u001B[49m\n\u001B[1;32m   1293\u001B[0m \u001B[43m    \u001B[49m\u001B[43meval_init_score\u001B[49m\u001B[38;5;241;43m=\u001B[39;49m\u001B[43meval_init_score\u001B[49m\u001B[43m,\u001B[49m\n\u001B[1;32m   1294\u001B[0m \u001B[43m    \u001B[49m\u001B[43meval_metric\u001B[49m\u001B[38;5;241;43m=\u001B[39;49m\u001B[43meval_metric\u001B[49m\u001B[43m,\u001B[49m\n\u001B[1;32m   1295\u001B[0m \u001B[43m    \u001B[49m\u001B[43mfeature_name\u001B[49m\u001B[38;5;241;43m=\u001B[39;49m\u001B[43mfeature_name\u001B[49m\u001B[43m,\u001B[49m\n\u001B[1;32m   1296\u001B[0m \u001B[43m    \u001B[49m\u001B[43mcategorical_feature\u001B[49m\u001B[38;5;241;43m=\u001B[39;49m\u001B[43mcategorical_feature\u001B[49m\u001B[43m,\u001B[49m\n\u001B[1;32m   1297\u001B[0m \u001B[43m    \u001B[49m\u001B[43mcallbacks\u001B[49m\u001B[38;5;241;43m=\u001B[39;49m\u001B[43mcallbacks\u001B[49m\u001B[43m,\u001B[49m\n\u001B[1;32m   1298\u001B[0m \u001B[43m    \u001B[49m\u001B[43minit_model\u001B[49m\u001B[38;5;241;43m=\u001B[39;49m\u001B[43minit_model\u001B[49m\u001B[43m,\u001B[49m\n\u001B[1;32m   1299\u001B[0m \u001B[43m\u001B[49m\u001B[43m)\u001B[49m\n\u001B[1;32m   1300\u001B[0m \u001B[38;5;28;01mreturn\u001B[39;00m \u001B[38;5;28mself\u001B[39m\n",
      "File \u001B[0;32m~/miniforge3/envs/chem/lib/python3.10/site-packages/lightgbm/sklearn.py:955\u001B[0m, in \u001B[0;36mLGBMModel.fit\u001B[0;34m(self, X, y, sample_weight, init_score, group, eval_set, eval_names, eval_sample_weight, eval_class_weight, eval_init_score, eval_group, eval_metric, feature_name, categorical_feature, callbacks, init_model)\u001B[0m\n\u001B[1;32m    952\u001B[0m evals_result: _EvalResultDict \u001B[38;5;241m=\u001B[39m {}\n\u001B[1;32m    953\u001B[0m callbacks\u001B[38;5;241m.\u001B[39mappend(record_evaluation(evals_result))\n\u001B[0;32m--> 955\u001B[0m \u001B[38;5;28mself\u001B[39m\u001B[38;5;241m.\u001B[39m_Booster \u001B[38;5;241m=\u001B[39m \u001B[43mtrain\u001B[49m\u001B[43m(\u001B[49m\n\u001B[1;32m    956\u001B[0m \u001B[43m    \u001B[49m\u001B[43mparams\u001B[49m\u001B[38;5;241;43m=\u001B[39;49m\u001B[43mparams\u001B[49m\u001B[43m,\u001B[49m\n\u001B[1;32m    957\u001B[0m \u001B[43m    \u001B[49m\u001B[43mtrain_set\u001B[49m\u001B[38;5;241;43m=\u001B[39;49m\u001B[43mtrain_set\u001B[49m\u001B[43m,\u001B[49m\n\u001B[1;32m    958\u001B[0m \u001B[43m    \u001B[49m\u001B[43mnum_boost_round\u001B[49m\u001B[38;5;241;43m=\u001B[39;49m\u001B[38;5;28;43mself\u001B[39;49m\u001B[38;5;241;43m.\u001B[39;49m\u001B[43mn_estimators\u001B[49m\u001B[43m,\u001B[49m\n\u001B[1;32m    959\u001B[0m \u001B[43m    \u001B[49m\u001B[43mvalid_sets\u001B[49m\u001B[38;5;241;43m=\u001B[39;49m\u001B[43mvalid_sets\u001B[49m\u001B[43m,\u001B[49m\n\u001B[1;32m    960\u001B[0m \u001B[43m    \u001B[49m\u001B[43mvalid_names\u001B[49m\u001B[38;5;241;43m=\u001B[39;49m\u001B[43meval_names\u001B[49m\u001B[43m,\u001B[49m\n\u001B[1;32m    961\u001B[0m \u001B[43m    \u001B[49m\u001B[43mfeval\u001B[49m\u001B[38;5;241;43m=\u001B[39;49m\u001B[43meval_metrics_callable\u001B[49m\u001B[43m,\u001B[49m\u001B[43m  \u001B[49m\u001B[38;5;66;43;03m# type: ignore[arg-type]\u001B[39;49;00m\n\u001B[1;32m    962\u001B[0m \u001B[43m    \u001B[49m\u001B[43minit_model\u001B[49m\u001B[38;5;241;43m=\u001B[39;49m\u001B[43minit_model\u001B[49m\u001B[43m,\u001B[49m\n\u001B[1;32m    963\u001B[0m \u001B[43m    \u001B[49m\u001B[43mcallbacks\u001B[49m\u001B[38;5;241;43m=\u001B[39;49m\u001B[43mcallbacks\u001B[49m\u001B[43m,\u001B[49m\n\u001B[1;32m    964\u001B[0m \u001B[43m\u001B[49m\u001B[43m)\u001B[49m\n\u001B[1;32m    966\u001B[0m \u001B[38;5;28mself\u001B[39m\u001B[38;5;241m.\u001B[39m_evals_result \u001B[38;5;241m=\u001B[39m evals_result\n\u001B[1;32m    967\u001B[0m \u001B[38;5;28mself\u001B[39m\u001B[38;5;241m.\u001B[39m_best_iteration \u001B[38;5;241m=\u001B[39m \u001B[38;5;28mself\u001B[39m\u001B[38;5;241m.\u001B[39m_Booster\u001B[38;5;241m.\u001B[39mbest_iteration\n",
      "File \u001B[0;32m~/miniforge3/envs/chem/lib/python3.10/site-packages/lightgbm/engine.py:307\u001B[0m, in \u001B[0;36mtrain\u001B[0;34m(params, train_set, num_boost_round, valid_sets, valid_names, feval, init_model, feature_name, categorical_feature, keep_training_booster, callbacks)\u001B[0m\n\u001B[1;32m    295\u001B[0m \u001B[38;5;28;01mfor\u001B[39;00m cb \u001B[38;5;129;01min\u001B[39;00m callbacks_before_iter:\n\u001B[1;32m    296\u001B[0m     cb(\n\u001B[1;32m    297\u001B[0m         callback\u001B[38;5;241m.\u001B[39mCallbackEnv(\n\u001B[1;32m    298\u001B[0m             model\u001B[38;5;241m=\u001B[39mbooster,\n\u001B[0;32m   (...)\u001B[0m\n\u001B[1;32m    304\u001B[0m         )\n\u001B[1;32m    305\u001B[0m     )\n\u001B[0;32m--> 307\u001B[0m \u001B[43mbooster\u001B[49m\u001B[38;5;241;43m.\u001B[39;49m\u001B[43mupdate\u001B[49m\u001B[43m(\u001B[49m\u001B[43mfobj\u001B[49m\u001B[38;5;241;43m=\u001B[39;49m\u001B[43mfobj\u001B[49m\u001B[43m)\u001B[49m\n\u001B[1;32m    309\u001B[0m evaluation_result_list: List[_LGBM_BoosterEvalMethodResultType] \u001B[38;5;241m=\u001B[39m []\n\u001B[1;32m    310\u001B[0m \u001B[38;5;66;03m# check evaluation result.\u001B[39;00m\n",
      "File \u001B[0;32m~/miniforge3/envs/chem/lib/python3.10/site-packages/lightgbm/basic.py:4136\u001B[0m, in \u001B[0;36mBooster.update\u001B[0;34m(self, train_set, fobj)\u001B[0m\n\u001B[1;32m   4133\u001B[0m \u001B[38;5;28;01mif\u001B[39;00m \u001B[38;5;28mself\u001B[39m\u001B[38;5;241m.\u001B[39m__set_objective_to_none:\n\u001B[1;32m   4134\u001B[0m     \u001B[38;5;28;01mraise\u001B[39;00m LightGBMError(\u001B[38;5;124m\"\u001B[39m\u001B[38;5;124mCannot update due to null objective function.\u001B[39m\u001B[38;5;124m\"\u001B[39m)\n\u001B[1;32m   4135\u001B[0m _safe_call(\n\u001B[0;32m-> 4136\u001B[0m     \u001B[43m_LIB\u001B[49m\u001B[38;5;241;43m.\u001B[39;49m\u001B[43mLGBM_BoosterUpdateOneIter\u001B[49m\u001B[43m(\u001B[49m\n\u001B[1;32m   4137\u001B[0m \u001B[43m        \u001B[49m\u001B[38;5;28;43mself\u001B[39;49m\u001B[38;5;241;43m.\u001B[39;49m\u001B[43m_handle\u001B[49m\u001B[43m,\u001B[49m\n\u001B[1;32m   4138\u001B[0m \u001B[43m        \u001B[49m\u001B[43mctypes\u001B[49m\u001B[38;5;241;43m.\u001B[39;49m\u001B[43mbyref\u001B[49m\u001B[43m(\u001B[49m\u001B[43mis_finished\u001B[49m\u001B[43m)\u001B[49m\u001B[43m,\u001B[49m\n\u001B[1;32m   4139\u001B[0m \u001B[43m    \u001B[49m\u001B[43m)\u001B[49m\n\u001B[1;32m   4140\u001B[0m )\n\u001B[1;32m   4141\u001B[0m \u001B[38;5;28mself\u001B[39m\u001B[38;5;241m.\u001B[39m__is_predicted_cur_iter \u001B[38;5;241m=\u001B[39m [\u001B[38;5;28;01mFalse\u001B[39;00m \u001B[38;5;28;01mfor\u001B[39;00m _ \u001B[38;5;129;01min\u001B[39;00m \u001B[38;5;28mrange\u001B[39m(\u001B[38;5;28mself\u001B[39m\u001B[38;5;241m.\u001B[39m__num_dataset)]\n\u001B[1;32m   4142\u001B[0m \u001B[38;5;28;01mreturn\u001B[39;00m is_finished\u001B[38;5;241m.\u001B[39mvalue \u001B[38;5;241m==\u001B[39m \u001B[38;5;241m1\u001B[39m\n",
      "\u001B[0;31mKeyboardInterrupt\u001B[0m: "
     ]
    }
   ],
   "execution_count": 69
  },
  {
   "metadata": {},
   "cell_type": "code",
   "outputs": [],
   "execution_count": null,
   "source": "",
   "id": "9368e4d5359c0af4"
  }
 ],
 "metadata": {
  "kernelspec": {
   "display_name": "Python 3",
   "language": "python",
   "name": "python3"
  },
  "language_info": {
   "codemirror_mode": {
    "name": "ipython",
    "version": 2
   },
   "file_extension": ".py",
   "mimetype": "text/x-python",
   "name": "python",
   "nbconvert_exporter": "python",
   "pygments_lexer": "ipython2",
   "version": "2.7.6"
  }
 },
 "nbformat": 4,
 "nbformat_minor": 5
}
