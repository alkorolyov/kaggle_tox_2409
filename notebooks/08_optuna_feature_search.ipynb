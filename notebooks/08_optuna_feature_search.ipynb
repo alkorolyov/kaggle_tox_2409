{
 "cells": [
  {
   "cell_type": "code",
   "id": "initial_id",
   "metadata": {
    "collapsed": true,
    "ExecuteTime": {
     "end_time": "2024-09-08T10:31:14.288643Z",
     "start_time": "2024-09-08T10:31:14.270688Z"
    }
   },
   "source": [
    "%load_ext autoreload\n",
    "%autoreload 2\n",
    "\n",
    "import sys\n",
    "sys.path.append('../')"
   ],
   "outputs": [],
   "execution_count": 1
  },
  {
   "metadata": {
    "ExecuteTime": {
     "end_time": "2024-09-08T10:31:17.734002Z",
     "start_time": "2024-09-08T10:31:14.302953Z"
    }
   },
   "cell_type": "code",
   "source": [
    "import pandas as pd\n",
    "import numpy as np\n",
    "import pickle\n",
    "\n",
    "import lightgbm as lgb\n",
    "from sklearn.preprocessing import OneHotEncoder\n",
    "\n",
    "from src.corr import non_corr_features\n",
    "from src.maplight_gnn import get_representation\n",
    "from src.utils import drop_nans_non_unique, OffsetScaler, eval_model\n",
    "\n",
    "N_JOBS = 24\n",
    "RANDOM_SEED = 42\n",
    "\n",
    "clf = lgb.LGBMClassifier(random_state=RANDOM_SEED, n_jobs=N_JOBS, verbose=-1)"
   ],
   "id": "f74939da9ab68092",
   "outputs": [],
   "execution_count": 2
  },
  {
   "metadata": {
    "ExecuteTime": {
     "end_time": "2024-09-08T10:31:18.156744Z",
     "start_time": "2024-09-08T10:31:18.126484Z"
    }
   },
   "cell_type": "code",
   "source": [
    "with open('../data/processed/feat_ids_all.pkl', 'rb') as f: \n",
    "    feat_ids = pickle.load(f)\n",
    "\n",
    "len(feat_ids)"
   ],
   "id": "19aa43bfbb88916a",
   "outputs": [
    {
     "data": {
      "text/plain": [
       "25"
      ]
     },
     "execution_count": 4,
     "metadata": {},
     "output_type": "execute_result"
    }
   ],
   "execution_count": 4
  },
  {
   "metadata": {
    "jupyter": {
     "is_executing": true
    },
    "ExecuteTime": {
     "start_time": "2024-09-08T12:19:44.322028Z"
    }
   },
   "cell_type": "code",
   "source": [
    "import pickle\n",
    "import optuna\n",
    "from optuna.samplers import TPESampler\n",
    "\n",
    "import pandas as pd\n",
    "import numpy as np\n",
    "from sklearn.metrics import roc_auc_score\n",
    "from sklearn.model_selection import cross_val_score, StratifiedKFold, RepeatedStratifiedKFold\n",
    "from sklearn.model_selection import KFold, RepeatedKFold\n",
    "from sklearn.ensemble import HistGradientBoostingClassifier\n",
    "import xgboost as xgb\n",
    "\n",
    "RANDOM_SEED = 42\n",
    "\n",
    "class FeatureSelectionOptuna:\n",
    "    \"\"\"\n",
    "    This class implements feature selection using Optuna optimization framework.\n",
    "\n",
    "    Parameters:\n",
    "\n",
    "    - model (object): The predictive model to evaluate; this should be any object that implements fit() and predict() methods.\n",
    "    - loss_fn (function): The loss function to use for evaluating the model performance. This function should take the true labels and the\n",
    "                          predictions as inputs and return a loss value.\n",
    "    - features (list of str): A list containing the names of all possible features that can be selected for the model.\n",
    "    - X (DataFrame): The complete set of feature data (pandas DataFrame) from which subsets will be selected for training the model.\n",
    "    - y (Series): The target variable associated with the X data (pandas Series).\n",
    "    - splits (list of tuples): A list of tuples where each tuple contains two elements, the train indices and the validation indices.\n",
    "    - feat_count_penalty (float, optional): A factor used to penalize the objective function based on the number of features used.\n",
    "    \"\"\"\n",
    "\n",
    "    def __init__(self,\n",
    "                 model,\n",
    "                 X,\n",
    "                 y,\n",
    "                 cv=None,\n",
    "                 features=None,\n",
    "                 feat_ids=None,\n",
    "                 scoring=None,                \n",
    "                 ):\n",
    "\n",
    "        self.model = model\n",
    "        self.X = X\n",
    "        self.y = y\n",
    "        self.cv = cv\n",
    "        self.features = features            \n",
    "        self.feat_ids = feat_ids\n",
    "        self.scoring = scoring\n",
    "\n",
    "    def __call__(self,\n",
    "                 trial: optuna.trial.Trial):\n",
    "                \n",
    "        list_of_lists = [v for k,v in self.feat_ids.items() if trial.suggest_categorical(k, [True, False])]        \n",
    "        ids = pd.Series(list_of_lists).explode().astype(int).values\n",
    "                                        \n",
    "        # feature = {name: trial.suggest_categorical(name, [True, False]) for name in self.features}\n",
    "        # feats_selected = [k for k, v in feature.items() if v]\n",
    "        \n",
    "        #print(group_feats_selected)\n",
    "        \n",
    "        X_selected = np.concatenate([self.X.iloc[:, ids], self.X.iloc[:, -3:]], axis=-1)\n",
    "        # X_selected = self.X[feats_selected + group_feats_selected].copy()\n",
    "\n",
    "        cv_res = cross_val_score(\n",
    "            self.model, \n",
    "            X_selected, self.y, \n",
    "            cv=self.cv, \n",
    "            scoring=self.scoring)\n",
    "        score = (cv_res.mean() - cv_res.std())\n",
    "        return score\n",
    "\n",
    "\n",
    "def main():\n",
    "    X_train = pd.read_pickle('../data/processed/X_train_all.pkl.zip')\n",
    "    y_train = pd.read_pickle('../data/processed/y_train.pkl')\n",
    "    with open('../data/processed/feat_ids_all.pkl', 'rb') as f: \n",
    "        feat_ids = pickle.load(f)\n",
    "\n",
    "    # clf = HistGradientBoostingClassifier(random_state=RANDOM_SEED)\n",
    "    clf = xgb.XGBClassifier(random_state=RANDOM_SEED, verbosity=0, \n",
    "                                  tree_method='gpu_hist', predictor='gpu_predictor')\n",
    "    cv = RepeatedStratifiedKFold(n_splits=5, n_repeats=3, random_state=RANDOM_SEED)\n",
    "\n",
    "    sampler = TPESampler(seed=RANDOM_SEED)\n",
    "    study = optuna.create_study(\n",
    "        study_name='xgb_gpu_all_molfeats_groupped',\n",
    "        storage=f\"sqlite:///../data/tuning/optuna.db\",\n",
    "        direction=\"maximize\",\n",
    "        sampler=sampler,\n",
    "        load_if_exists=True,\n",
    "    )\n",
    "\n",
    "    # Set all groups and features to True    \n",
    "    default_params = {k: True for k in feat_ids.keys()}\n",
    "    study.enqueue_trial(default_params)    \n",
    "    optuna.logging.set_verbosity(optuna.logging.INFO)    \n",
    "    \n",
    "    study.optimize(\n",
    "        FeatureSelectionOptuna(\n",
    "            model=clf,\n",
    "            cv=cv,\n",
    "            features=[],\n",
    "            feat_ids=feat_ids,\n",
    "            scoring='roc_auc',\n",
    "            X=X_train,\n",
    "            y=y_train,\n",
    "        ),\n",
    "        n_trials=300,\n",
    "        n_jobs=2,\n",
    "        show_progress_bar=True)\n",
    "\n",
    "if __name__ == '__main__':\n",
    "    main()"
   ],
   "id": "34e2be91356e8844",
   "outputs": [
    {
     "name": "stderr",
     "output_type": "stream",
     "text": [
      "[I 2024-09-08 14:19:46,934] Using an existing study with name 'xgb_gpu_all_molfeats_groupped' instead of creating a new one.\n"
     ]
    },
    {
     "data": {
      "text/plain": [
       "  0%|          | 0/300 [00:00<?, ?it/s]"
      ],
      "application/vnd.jupyter.widget-view+json": {
       "version_major": 2,
       "version_minor": 0,
       "model_id": "7c4b8091b0d04aa9a449ce9f20f3fb40"
      }
     },
     "metadata": {},
     "output_type": "display_data"
    }
   ],
   "execution_count": null
  }
 ],
 "metadata": {
  "kernelspec": {
   "display_name": "chem",
   "language": "python",
   "name": "chem"
  },
  "language_info": {
   "codemirror_mode": {
    "name": "ipython",
    "version": 2
   },
   "file_extension": ".py",
   "mimetype": "text/x-python",
   "name": "python",
   "nbconvert_exporter": "python",
   "pygments_lexer": "ipython2",
   "version": "2.7.6"
  }
 },
 "nbformat": 4,
 "nbformat_minor": 5
}
