{
 "cells": [
  {
   "cell_type": "code",
   "id": "initial_id",
   "metadata": {
    "ExecuteTime": {
     "end_time": "2024-09-07T04:12:01.625543Z",
     "start_time": "2024-09-07T04:12:01.557025Z"
    }
   },
   "source": [
    "%load_ext autoreload\n",
    "%autoreload 2\n",
    "\n",
    "import sys\n",
    "sys.path.append('../')"
   ],
   "outputs": [
    {
     "name": "stdout",
     "output_type": "stream",
     "text": [
      "The autoreload extension is already loaded. To reload it, use:\n",
      "  %reload_ext autoreload\n"
     ]
    }
   ],
   "execution_count": 3
  },
  {
   "metadata": {
    "ExecuteTime": {
     "end_time": "2024-09-07T04:54:26.628326Z",
     "start_time": "2024-09-07T04:54:26.176265Z"
    }
   },
   "cell_type": "code",
   "source": [
    "import time\n",
    "from tqdm import tqdm\n",
    "\n",
    "import numpy as np\n",
    "import pandas as pd\n",
    "\n",
    "from sklearn.linear_model import RidgeClassifier, LogisticRegression\n",
    "from sklearn.tree import DecisionTreeClassifier\n",
    "from sklearn.ensemble import RandomForestClassifier, HistGradientBoostingClassifier\n",
    "from sklearn.svm import SVC\n",
    "from sklearn.neighbors import KNeighborsClassifier\n",
    "from sklearn.model_selection import  KFold\n",
    "from src.utils import scale, eval_model\n",
    "import xgboost as xgb\n",
    "import catboost as cb\n",
    "import lightgbm as lgb\n",
    "import seaborn as sns\n",
    "from src.corr import non_corr_features\n",
    "\n",
    "\n",
    "mae = 'neg_mean_absolute_error'\n",
    "mse = 'neg_mean_squared_error'\n",
    "rmse = 'neg_root_mean_squared_error'\n",
    "roc_auc = 'neg_roc_auc_score'\n",
    "N_JOBS = 24\n",
    "RANDOM_SEED = 42\n",
    "\n",
    "# prepare models\n",
    "models = {}\n",
    "\n",
    "models['RF'] = RandomForestClassifier(random_state=RANDOM_SEED, n_jobs=N_JOBS)\n",
    "\n",
    "models['HistGB'] = HistGradientBoostingClassifier(random_state=RANDOM_SEED)\n",
    "\n",
    "models['XGB'] = xgb.XGBClassifier(random_state=RANDOM_SEED, n_jobs=N_JOBS, verbosity=0,)\n",
    "\n",
    "models['XGB_GPU'] = xgb.XGBClassifier(random_state=RANDOM_SEED, n_jobs=N_JOBS, verbosity=0, \n",
    "                                  tree_method='gpu_hist', predictor='gpu_predictor', gpu_id=1)\n",
    "\n",
    "models['CB'] = cb.CatBoostClassifier(iterations=400, random_seed=RANDOM_SEED, thread_count=N_JOBS, verbose=False)\n",
    "\n",
    "models['CB_GPU'] = cb.CatBoostClassifier(iterations=400, random_seed=RANDOM_SEED, thread_count=N_JOBS, verbose=False, task_type=\"GPU\")\n",
    "\n",
    "models['LGB'] = lgb.LGBMClassifier(random_state=RANDOM_SEED, n_jobs=N_JOBS, verbose=-1)"
   ],
   "id": "15cce13673d7da93",
   "outputs": [],
   "execution_count": 58
  },
  {
   "metadata": {
    "ExecuteTime": {
     "end_time": "2024-09-07T04:38:18.642926Z",
     "start_time": "2024-09-07T04:38:17.723179Z"
    }
   },
   "cell_type": "code",
   "source": [
    "X_train = pd.read_pickle('../data/processed/X_train.pkl.zip')\n",
    "X_test = pd.read_pickle('../data/processed/X_test.pkl.zip')\n",
    "\n",
    "y_train = pd.read_pickle('../data/processed/y_train.pkl')\n",
    "X_train.info()"
   ],
   "id": "1161f85f8ed78e62",
   "outputs": [
    {
     "name": "stdout",
     "output_type": "stream",
     "text": [
      "<class 'pandas.core.frame.DataFrame'>\n",
      "Index: 7939 entries, 0 to 7938\n",
      "Columns: 3682 entries, 0 to prop_3\n",
      "dtypes: float64(3682)\n",
      "memory usage: 223.1 MB\n"
     ]
    }
   ],
   "execution_count": 51
  },
  {
   "metadata": {
    "ExecuteTime": {
     "end_time": "2024-09-07T04:38:20.044934Z",
     "start_time": "2024-09-07T04:38:19.912907Z"
    }
   },
   "cell_type": "code",
   "source": [
    "from src.utils import get_fps_cols, scale, OffsetScaler\n",
    "\n",
    "fps_cols = get_fps_cols(X_train.columns)\n",
    "feats = [c for c in X_train.columns if c not in fps_cols]\n",
    "rd_cols = [c for c in feats if 'rd_' in c]\n",
    "md_cols = [c for c in feats if 'md_' in c]\n",
    "gin_cols = [c for c in feats if 'gin_' in c]"
   ],
   "id": "1202c5488c7bec12",
   "outputs": [],
   "execution_count": 52
  },
  {
   "metadata": {
    "ExecuteTime": {
     "end_time": "2024-09-07T04:38:47.256477Z",
     "start_time": "2024-09-07T04:38:46.946566Z"
    }
   },
   "cell_type": "code",
   "source": [
    "scaler = OffsetScaler(len(fps_cols))\n",
    "X_train = scaler.fit_transform(X_train)\n",
    "X_test = scaler.transform(X_test)"
   ],
   "id": "d76b9494253deaf6",
   "outputs": [],
   "execution_count": 53
  },
  {
   "metadata": {
    "ExecuteTime": {
     "end_time": "2024-09-07T04:45:32.330228Z",
     "start_time": "2024-09-07T04:38:48.869192Z"
    }
   },
   "cell_type": "code",
   "source": [
    "for name, model in models.items():\n",
    "    eval_model(name, model, X_train, y_train)"
   ],
   "id": "30410b5fd1f45aa0",
   "outputs": [
    {
     "name": "stdout",
     "output_type": "stream",
     "text": [
      "     RF: 0.8532    (0.859 ± 0.006)    6.8s\n",
      " HistGB: 0.8531    (0.863 ± 0.010)    92.0s\n",
      "    XGB: 0.8449    (0.856 ± 0.011)    67.4s\n",
      "XGB_GPU: 0.8447    (0.856 ± 0.011)    33.6s\n",
      "     CB: 0.8505    (0.861 ± 0.010)    141.1s\n",
      " CB_GPU: 0.8548    (0.865 ± 0.010)    38.2s\n",
      "    LGB: 0.8525    (0.862 ± 0.009)    24.3s\n"
     ]
    }
   ],
   "execution_count": 54
  },
  {
   "metadata": {
    "ExecuteTime": {
     "end_time": "2024-09-07T04:55:33.968253Z",
     "start_time": "2024-09-07T04:55:33.889223Z"
    }
   },
   "cell_type": "code",
   "source": "X_train.shape",
   "id": "941f5e08e825c546",
   "outputs": [
    {
     "data": {
      "text/plain": [
       "(7939, 3679)"
      ]
     },
     "execution_count": 59,
     "metadata": {},
     "output_type": "execute_result"
    }
   ],
   "execution_count": 59
  },
  {
   "metadata": {
    "ExecuteTime": {
     "end_time": "2024-09-07T04:58:05.072742Z",
     "start_time": "2024-09-07T04:55:39.347401Z"
    }
   },
   "cell_type": "code",
   "source": [
    "X_train = non_corr_features(X_train, y_train)\n",
    "X_test = X_test[X_train.columns]\n",
    "X_train.shape"
   ],
   "id": "462a00aafaae2704",
   "outputs": [
    {
     "name": "stdout",
     "output_type": "stream",
     "text": [
      "________________________________________________________________________________\n",
      "[Memory] Calling src.corr.get_corr...\n",
      "get_corr(        0    1    2    3    4    5    6    7    8    9  ...   gin_291  \\\n",
      "0     0.0  0.0  0.0  0.0  1.0  0.0  0.0  0.0  0.0  0.0  ...  1.009682   \n",
      "1     0.0  0.0  0.0  0.0  0.0  0.0  0.0  0.0  0.0  0.0  ...  0.745189   \n",
      "2     0.0  0.0  0.0  0.0  0.0  0.0  0.0  0.0  0.0  0.0  ... -0.655922   \n",
      "3     0.0  0.0  0.0  0.0  0.0  0.0  0.0  0.0  0.0  1.0  ... -0.674330   \n",
      "4     0.0  1.0  0.0  0.0  0.0  0.0  0.0  0.0  0.0  1.0  ...  0.124397   \n",
      "...   ...  ...  ...  ...  ...  ...  ...  ...  ...  ...  ...       ...   \n",
      "7934  0.0  0.0  0.0  0.0  0.0  0.0  0.0  0.0  0.0  0.0  ...  0.289294   \n",
      "7935  0.0  1.0  0.0  0.0  0.0  0.0  0.0  0.0  0.0  1.0  ...  0.375500   \n",
      "7936  0.0  1.0  1.0  0.0  0.0  0.0  0.0  0....)\n",
      "_______________________________________________________get_corr - 144.9s, 2.4min\n"
     ]
    },
    {
     "data": {
      "text/plain": [
       "(7939, 3108)"
      ]
     },
     "execution_count": 60,
     "metadata": {},
     "output_type": "execute_result"
    }
   ],
   "execution_count": 60
  },
  {
   "metadata": {
    "ExecuteTime": {
     "end_time": "2024-09-07T05:05:58.625382Z",
     "start_time": "2024-09-07T05:00:51.050818Z"
    }
   },
   "cell_type": "code",
   "source": [
    "for name, model in models.items():\n",
    "    eval_model(name, model, X_train, y_train)"
   ],
   "id": "2f49ae46c71b3154",
   "outputs": [
    {
     "name": "stdout",
     "output_type": "stream",
     "text": [
      "     RF: 0.8554    (0.861 ± 0.006)    4.7s\n",
      " HistGB: 0.8555    (0.864 ± 0.009)    74.0s\n",
      "    XGB: 0.8446    (0.855 ± 0.010)    50.2s\n",
      "XGB_GPU: 0.8465    (0.855 ± 0.009)    28.2s\n",
      "     CB: 0.8494    (0.859 ± 0.010)    99.1s\n",
      " CB_GPU: 0.8533    (0.863 ± 0.010)    33.2s\n",
      "    LGB: 0.8566    (0.863 ± 0.006)    18.2s\n"
     ]
    }
   ],
   "execution_count": 61
  },
  {
   "metadata": {
    "ExecuteTime": {
     "end_time": "2024-09-07T04:45:55.522713Z",
     "start_time": "2024-09-07T04:45:49.071169Z"
    }
   },
   "cell_type": "code",
   "source": "models['XGB_GPU'].fit(X_train, y_train)",
   "id": "1e162ef91de263f6",
   "outputs": [
    {
     "data": {
      "text/plain": [
       "XGBClassifier(base_score=None, booster=None, callbacks=None,\n",
       "              colsample_bylevel=None, colsample_bynode=None,\n",
       "              colsample_bytree=None, device=None, early_stopping_rounds=None,\n",
       "              enable_categorical=False, eval_metric=None, feature_types=None,\n",
       "              gamma=None, gpu_id=1, grow_policy=None, importance_type=None,\n",
       "              interaction_constraints=None, learning_rate=None, max_bin=None,\n",
       "              max_cat_threshold=None, max_cat_to_onehot=None,\n",
       "              max_delta_step=None, max_depth=None, max_leaves=None,\n",
       "              min_child_weight=None, missing=nan, monotone_constraints=None,\n",
       "              multi_strategy=None, n_estimators=None, n_jobs=24,\n",
       "              num_parallel_tree=None, ...)"
      ],
      "text/html": [
       "<style>#sk-container-id-3 {\n",
       "  /* Definition of color scheme common for light and dark mode */\n",
       "  --sklearn-color-text: black;\n",
       "  --sklearn-color-line: gray;\n",
       "  /* Definition of color scheme for unfitted estimators */\n",
       "  --sklearn-color-unfitted-level-0: #fff5e6;\n",
       "  --sklearn-color-unfitted-level-1: #f6e4d2;\n",
       "  --sklearn-color-unfitted-level-2: #ffe0b3;\n",
       "  --sklearn-color-unfitted-level-3: chocolate;\n",
       "  /* Definition of color scheme for fitted estimators */\n",
       "  --sklearn-color-fitted-level-0: #f0f8ff;\n",
       "  --sklearn-color-fitted-level-1: #d4ebff;\n",
       "  --sklearn-color-fitted-level-2: #b3dbfd;\n",
       "  --sklearn-color-fitted-level-3: cornflowerblue;\n",
       "\n",
       "  /* Specific color for light theme */\n",
       "  --sklearn-color-text-on-default-background: var(--sg-text-color, var(--theme-code-foreground, var(--jp-content-font-color1, black)));\n",
       "  --sklearn-color-background: var(--sg-background-color, var(--theme-background, var(--jp-layout-color0, white)));\n",
       "  --sklearn-color-border-box: var(--sg-text-color, var(--theme-code-foreground, var(--jp-content-font-color1, black)));\n",
       "  --sklearn-color-icon: #696969;\n",
       "\n",
       "  @media (prefers-color-scheme: dark) {\n",
       "    /* Redefinition of color scheme for dark theme */\n",
       "    --sklearn-color-text-on-default-background: var(--sg-text-color, var(--theme-code-foreground, var(--jp-content-font-color1, white)));\n",
       "    --sklearn-color-background: var(--sg-background-color, var(--theme-background, var(--jp-layout-color0, #111)));\n",
       "    --sklearn-color-border-box: var(--sg-text-color, var(--theme-code-foreground, var(--jp-content-font-color1, white)));\n",
       "    --sklearn-color-icon: #878787;\n",
       "  }\n",
       "}\n",
       "\n",
       "#sk-container-id-3 {\n",
       "  color: var(--sklearn-color-text);\n",
       "}\n",
       "\n",
       "#sk-container-id-3 pre {\n",
       "  padding: 0;\n",
       "}\n",
       "\n",
       "#sk-container-id-3 input.sk-hidden--visually {\n",
       "  border: 0;\n",
       "  clip: rect(1px 1px 1px 1px);\n",
       "  clip: rect(1px, 1px, 1px, 1px);\n",
       "  height: 1px;\n",
       "  margin: -1px;\n",
       "  overflow: hidden;\n",
       "  padding: 0;\n",
       "  position: absolute;\n",
       "  width: 1px;\n",
       "}\n",
       "\n",
       "#sk-container-id-3 div.sk-dashed-wrapped {\n",
       "  border: 1px dashed var(--sklearn-color-line);\n",
       "  margin: 0 0.4em 0.5em 0.4em;\n",
       "  box-sizing: border-box;\n",
       "  padding-bottom: 0.4em;\n",
       "  background-color: var(--sklearn-color-background);\n",
       "}\n",
       "\n",
       "#sk-container-id-3 div.sk-container {\n",
       "  /* jupyter's `normalize.less` sets `[hidden] { display: none; }`\n",
       "     but bootstrap.min.css set `[hidden] { display: none !important; }`\n",
       "     so we also need the `!important` here to be able to override the\n",
       "     default hidden behavior on the sphinx rendered scikit-learn.org.\n",
       "     See: https://github.com/scikit-learn/scikit-learn/issues/21755 */\n",
       "  display: inline-block !important;\n",
       "  position: relative;\n",
       "}\n",
       "\n",
       "#sk-container-id-3 div.sk-text-repr-fallback {\n",
       "  display: none;\n",
       "}\n",
       "\n",
       "div.sk-parallel-item,\n",
       "div.sk-serial,\n",
       "div.sk-item {\n",
       "  /* draw centered vertical line to link estimators */\n",
       "  background-image: linear-gradient(var(--sklearn-color-text-on-default-background), var(--sklearn-color-text-on-default-background));\n",
       "  background-size: 2px 100%;\n",
       "  background-repeat: no-repeat;\n",
       "  background-position: center center;\n",
       "}\n",
       "\n",
       "/* Parallel-specific style estimator block */\n",
       "\n",
       "#sk-container-id-3 div.sk-parallel-item::after {\n",
       "  content: \"\";\n",
       "  width: 100%;\n",
       "  border-bottom: 2px solid var(--sklearn-color-text-on-default-background);\n",
       "  flex-grow: 1;\n",
       "}\n",
       "\n",
       "#sk-container-id-3 div.sk-parallel {\n",
       "  display: flex;\n",
       "  align-items: stretch;\n",
       "  justify-content: center;\n",
       "  background-color: var(--sklearn-color-background);\n",
       "  position: relative;\n",
       "}\n",
       "\n",
       "#sk-container-id-3 div.sk-parallel-item {\n",
       "  display: flex;\n",
       "  flex-direction: column;\n",
       "}\n",
       "\n",
       "#sk-container-id-3 div.sk-parallel-item:first-child::after {\n",
       "  align-self: flex-end;\n",
       "  width: 50%;\n",
       "}\n",
       "\n",
       "#sk-container-id-3 div.sk-parallel-item:last-child::after {\n",
       "  align-self: flex-start;\n",
       "  width: 50%;\n",
       "}\n",
       "\n",
       "#sk-container-id-3 div.sk-parallel-item:only-child::after {\n",
       "  width: 0;\n",
       "}\n",
       "\n",
       "/* Serial-specific style estimator block */\n",
       "\n",
       "#sk-container-id-3 div.sk-serial {\n",
       "  display: flex;\n",
       "  flex-direction: column;\n",
       "  align-items: center;\n",
       "  background-color: var(--sklearn-color-background);\n",
       "  padding-right: 1em;\n",
       "  padding-left: 1em;\n",
       "}\n",
       "\n",
       "\n",
       "/* Toggleable style: style used for estimator/Pipeline/ColumnTransformer box that is\n",
       "clickable and can be expanded/collapsed.\n",
       "- Pipeline and ColumnTransformer use this feature and define the default style\n",
       "- Estimators will overwrite some part of the style using the `sk-estimator` class\n",
       "*/\n",
       "\n",
       "/* Pipeline and ColumnTransformer style (default) */\n",
       "\n",
       "#sk-container-id-3 div.sk-toggleable {\n",
       "  /* Default theme specific background. It is overwritten whether we have a\n",
       "  specific estimator or a Pipeline/ColumnTransformer */\n",
       "  background-color: var(--sklearn-color-background);\n",
       "}\n",
       "\n",
       "/* Toggleable label */\n",
       "#sk-container-id-3 label.sk-toggleable__label {\n",
       "  cursor: pointer;\n",
       "  display: block;\n",
       "  width: 100%;\n",
       "  margin-bottom: 0;\n",
       "  padding: 0.5em;\n",
       "  box-sizing: border-box;\n",
       "  text-align: center;\n",
       "}\n",
       "\n",
       "#sk-container-id-3 label.sk-toggleable__label-arrow:before {\n",
       "  /* Arrow on the left of the label */\n",
       "  content: \"▸\";\n",
       "  float: left;\n",
       "  margin-right: 0.25em;\n",
       "  color: var(--sklearn-color-icon);\n",
       "}\n",
       "\n",
       "#sk-container-id-3 label.sk-toggleable__label-arrow:hover:before {\n",
       "  color: var(--sklearn-color-text);\n",
       "}\n",
       "\n",
       "/* Toggleable content - dropdown */\n",
       "\n",
       "#sk-container-id-3 div.sk-toggleable__content {\n",
       "  max-height: 0;\n",
       "  max-width: 0;\n",
       "  overflow: hidden;\n",
       "  text-align: left;\n",
       "  /* unfitted */\n",
       "  background-color: var(--sklearn-color-unfitted-level-0);\n",
       "}\n",
       "\n",
       "#sk-container-id-3 div.sk-toggleable__content.fitted {\n",
       "  /* fitted */\n",
       "  background-color: var(--sklearn-color-fitted-level-0);\n",
       "}\n",
       "\n",
       "#sk-container-id-3 div.sk-toggleable__content pre {\n",
       "  margin: 0.2em;\n",
       "  border-radius: 0.25em;\n",
       "  color: var(--sklearn-color-text);\n",
       "  /* unfitted */\n",
       "  background-color: var(--sklearn-color-unfitted-level-0);\n",
       "}\n",
       "\n",
       "#sk-container-id-3 div.sk-toggleable__content.fitted pre {\n",
       "  /* unfitted */\n",
       "  background-color: var(--sklearn-color-fitted-level-0);\n",
       "}\n",
       "\n",
       "#sk-container-id-3 input.sk-toggleable__control:checked~div.sk-toggleable__content {\n",
       "  /* Expand drop-down */\n",
       "  max-height: 200px;\n",
       "  max-width: 100%;\n",
       "  overflow: auto;\n",
       "}\n",
       "\n",
       "#sk-container-id-3 input.sk-toggleable__control:checked~label.sk-toggleable__label-arrow:before {\n",
       "  content: \"▾\";\n",
       "}\n",
       "\n",
       "/* Pipeline/ColumnTransformer-specific style */\n",
       "\n",
       "#sk-container-id-3 div.sk-label input.sk-toggleable__control:checked~label.sk-toggleable__label {\n",
       "  color: var(--sklearn-color-text);\n",
       "  background-color: var(--sklearn-color-unfitted-level-2);\n",
       "}\n",
       "\n",
       "#sk-container-id-3 div.sk-label.fitted input.sk-toggleable__control:checked~label.sk-toggleable__label {\n",
       "  background-color: var(--sklearn-color-fitted-level-2);\n",
       "}\n",
       "\n",
       "/* Estimator-specific style */\n",
       "\n",
       "/* Colorize estimator box */\n",
       "#sk-container-id-3 div.sk-estimator input.sk-toggleable__control:checked~label.sk-toggleable__label {\n",
       "  /* unfitted */\n",
       "  background-color: var(--sklearn-color-unfitted-level-2);\n",
       "}\n",
       "\n",
       "#sk-container-id-3 div.sk-estimator.fitted input.sk-toggleable__control:checked~label.sk-toggleable__label {\n",
       "  /* fitted */\n",
       "  background-color: var(--sklearn-color-fitted-level-2);\n",
       "}\n",
       "\n",
       "#sk-container-id-3 div.sk-label label.sk-toggleable__label,\n",
       "#sk-container-id-3 div.sk-label label {\n",
       "  /* The background is the default theme color */\n",
       "  color: var(--sklearn-color-text-on-default-background);\n",
       "}\n",
       "\n",
       "/* On hover, darken the color of the background */\n",
       "#sk-container-id-3 div.sk-label:hover label.sk-toggleable__label {\n",
       "  color: var(--sklearn-color-text);\n",
       "  background-color: var(--sklearn-color-unfitted-level-2);\n",
       "}\n",
       "\n",
       "/* Label box, darken color on hover, fitted */\n",
       "#sk-container-id-3 div.sk-label.fitted:hover label.sk-toggleable__label.fitted {\n",
       "  color: var(--sklearn-color-text);\n",
       "  background-color: var(--sklearn-color-fitted-level-2);\n",
       "}\n",
       "\n",
       "/* Estimator label */\n",
       "\n",
       "#sk-container-id-3 div.sk-label label {\n",
       "  font-family: monospace;\n",
       "  font-weight: bold;\n",
       "  display: inline-block;\n",
       "  line-height: 1.2em;\n",
       "}\n",
       "\n",
       "#sk-container-id-3 div.sk-label-container {\n",
       "  text-align: center;\n",
       "}\n",
       "\n",
       "/* Estimator-specific */\n",
       "#sk-container-id-3 div.sk-estimator {\n",
       "  font-family: monospace;\n",
       "  border: 1px dotted var(--sklearn-color-border-box);\n",
       "  border-radius: 0.25em;\n",
       "  box-sizing: border-box;\n",
       "  margin-bottom: 0.5em;\n",
       "  /* unfitted */\n",
       "  background-color: var(--sklearn-color-unfitted-level-0);\n",
       "}\n",
       "\n",
       "#sk-container-id-3 div.sk-estimator.fitted {\n",
       "  /* fitted */\n",
       "  background-color: var(--sklearn-color-fitted-level-0);\n",
       "}\n",
       "\n",
       "/* on hover */\n",
       "#sk-container-id-3 div.sk-estimator:hover {\n",
       "  /* unfitted */\n",
       "  background-color: var(--sklearn-color-unfitted-level-2);\n",
       "}\n",
       "\n",
       "#sk-container-id-3 div.sk-estimator.fitted:hover {\n",
       "  /* fitted */\n",
       "  background-color: var(--sklearn-color-fitted-level-2);\n",
       "}\n",
       "\n",
       "/* Specification for estimator info (e.g. \"i\" and \"?\") */\n",
       "\n",
       "/* Common style for \"i\" and \"?\" */\n",
       "\n",
       ".sk-estimator-doc-link,\n",
       "a:link.sk-estimator-doc-link,\n",
       "a:visited.sk-estimator-doc-link {\n",
       "  float: right;\n",
       "  font-size: smaller;\n",
       "  line-height: 1em;\n",
       "  font-family: monospace;\n",
       "  background-color: var(--sklearn-color-background);\n",
       "  border-radius: 1em;\n",
       "  height: 1em;\n",
       "  width: 1em;\n",
       "  text-decoration: none !important;\n",
       "  margin-left: 1ex;\n",
       "  /* unfitted */\n",
       "  border: var(--sklearn-color-unfitted-level-1) 1pt solid;\n",
       "  color: var(--sklearn-color-unfitted-level-1);\n",
       "}\n",
       "\n",
       ".sk-estimator-doc-link.fitted,\n",
       "a:link.sk-estimator-doc-link.fitted,\n",
       "a:visited.sk-estimator-doc-link.fitted {\n",
       "  /* fitted */\n",
       "  border: var(--sklearn-color-fitted-level-1) 1pt solid;\n",
       "  color: var(--sklearn-color-fitted-level-1);\n",
       "}\n",
       "\n",
       "/* On hover */\n",
       "div.sk-estimator:hover .sk-estimator-doc-link:hover,\n",
       ".sk-estimator-doc-link:hover,\n",
       "div.sk-label-container:hover .sk-estimator-doc-link:hover,\n",
       ".sk-estimator-doc-link:hover {\n",
       "  /* unfitted */\n",
       "  background-color: var(--sklearn-color-unfitted-level-3);\n",
       "  color: var(--sklearn-color-background);\n",
       "  text-decoration: none;\n",
       "}\n",
       "\n",
       "div.sk-estimator.fitted:hover .sk-estimator-doc-link.fitted:hover,\n",
       ".sk-estimator-doc-link.fitted:hover,\n",
       "div.sk-label-container:hover .sk-estimator-doc-link.fitted:hover,\n",
       ".sk-estimator-doc-link.fitted:hover {\n",
       "  /* fitted */\n",
       "  background-color: var(--sklearn-color-fitted-level-3);\n",
       "  color: var(--sklearn-color-background);\n",
       "  text-decoration: none;\n",
       "}\n",
       "\n",
       "/* Span, style for the box shown on hovering the info icon */\n",
       ".sk-estimator-doc-link span {\n",
       "  display: none;\n",
       "  z-index: 9999;\n",
       "  position: relative;\n",
       "  font-weight: normal;\n",
       "  right: .2ex;\n",
       "  padding: .5ex;\n",
       "  margin: .5ex;\n",
       "  width: min-content;\n",
       "  min-width: 20ex;\n",
       "  max-width: 50ex;\n",
       "  color: var(--sklearn-color-text);\n",
       "  box-shadow: 2pt 2pt 4pt #999;\n",
       "  /* unfitted */\n",
       "  background: var(--sklearn-color-unfitted-level-0);\n",
       "  border: .5pt solid var(--sklearn-color-unfitted-level-3);\n",
       "}\n",
       "\n",
       ".sk-estimator-doc-link.fitted span {\n",
       "  /* fitted */\n",
       "  background: var(--sklearn-color-fitted-level-0);\n",
       "  border: var(--sklearn-color-fitted-level-3);\n",
       "}\n",
       "\n",
       ".sk-estimator-doc-link:hover span {\n",
       "  display: block;\n",
       "}\n",
       "\n",
       "/* \"?\"-specific style due to the `<a>` HTML tag */\n",
       "\n",
       "#sk-container-id-3 a.estimator_doc_link {\n",
       "  float: right;\n",
       "  font-size: 1rem;\n",
       "  line-height: 1em;\n",
       "  font-family: monospace;\n",
       "  background-color: var(--sklearn-color-background);\n",
       "  border-radius: 1rem;\n",
       "  height: 1rem;\n",
       "  width: 1rem;\n",
       "  text-decoration: none;\n",
       "  /* unfitted */\n",
       "  color: var(--sklearn-color-unfitted-level-1);\n",
       "  border: var(--sklearn-color-unfitted-level-1) 1pt solid;\n",
       "}\n",
       "\n",
       "#sk-container-id-3 a.estimator_doc_link.fitted {\n",
       "  /* fitted */\n",
       "  border: var(--sklearn-color-fitted-level-1) 1pt solid;\n",
       "  color: var(--sklearn-color-fitted-level-1);\n",
       "}\n",
       "\n",
       "/* On hover */\n",
       "#sk-container-id-3 a.estimator_doc_link:hover {\n",
       "  /* unfitted */\n",
       "  background-color: var(--sklearn-color-unfitted-level-3);\n",
       "  color: var(--sklearn-color-background);\n",
       "  text-decoration: none;\n",
       "}\n",
       "\n",
       "#sk-container-id-3 a.estimator_doc_link.fitted:hover {\n",
       "  /* fitted */\n",
       "  background-color: var(--sklearn-color-fitted-level-3);\n",
       "}\n",
       "</style><div id=\"sk-container-id-3\" class=\"sk-top-container\"><div class=\"sk-text-repr-fallback\"><pre>XGBClassifier(base_score=None, booster=None, callbacks=None,\n",
       "              colsample_bylevel=None, colsample_bynode=None,\n",
       "              colsample_bytree=None, device=None, early_stopping_rounds=None,\n",
       "              enable_categorical=False, eval_metric=None, feature_types=None,\n",
       "              gamma=None, gpu_id=1, grow_policy=None, importance_type=None,\n",
       "              interaction_constraints=None, learning_rate=None, max_bin=None,\n",
       "              max_cat_threshold=None, max_cat_to_onehot=None,\n",
       "              max_delta_step=None, max_depth=None, max_leaves=None,\n",
       "              min_child_weight=None, missing=nan, monotone_constraints=None,\n",
       "              multi_strategy=None, n_estimators=None, n_jobs=24,\n",
       "              num_parallel_tree=None, ...)</pre><b>In a Jupyter environment, please rerun this cell to show the HTML representation or trust the notebook. <br />On GitHub, the HTML representation is unable to render, please try loading this page with nbviewer.org.</b></div><div class=\"sk-container\" hidden><div class=\"sk-item\"><div class=\"sk-estimator fitted sk-toggleable\"><input class=\"sk-toggleable__control sk-hidden--visually\" id=\"sk-estimator-id-3\" type=\"checkbox\" checked><label for=\"sk-estimator-id-3\" class=\"sk-toggleable__label fitted sk-toggleable__label-arrow fitted\">&nbsp;XGBClassifier<span class=\"sk-estimator-doc-link fitted\">i<span>Fitted</span></span></label><div class=\"sk-toggleable__content fitted\"><pre>XGBClassifier(base_score=None, booster=None, callbacks=None,\n",
       "              colsample_bylevel=None, colsample_bynode=None,\n",
       "              colsample_bytree=None, device=None, early_stopping_rounds=None,\n",
       "              enable_categorical=False, eval_metric=None, feature_types=None,\n",
       "              gamma=None, gpu_id=1, grow_policy=None, importance_type=None,\n",
       "              interaction_constraints=None, learning_rate=None, max_bin=None,\n",
       "              max_cat_threshold=None, max_cat_to_onehot=None,\n",
       "              max_delta_step=None, max_depth=None, max_leaves=None,\n",
       "              min_child_weight=None, missing=nan, monotone_constraints=None,\n",
       "              multi_strategy=None, n_estimators=None, n_jobs=24,\n",
       "              num_parallel_tree=None, ...)</pre></div> </div></div></div></div>"
      ]
     },
     "execution_count": 55,
     "metadata": {},
     "output_type": "execute_result"
    }
   ],
   "execution_count": 55
  },
  {
   "metadata": {
    "ExecuteTime": {
     "end_time": "2024-09-07T04:46:10.586816Z",
     "start_time": "2024-09-07T04:46:09.723654Z"
    }
   },
   "cell_type": "code",
   "source": "y_pred = models['XGB_GPU'].predict_proba(X_test)",
   "id": "3cfab13b5b0a1680",
   "outputs": [],
   "execution_count": 56
  },
  {
   "metadata": {
    "ExecuteTime": {
     "end_time": "2024-09-07T04:46:13.505145Z",
     "start_time": "2024-09-07T04:46:13.433606Z"
    }
   },
   "cell_type": "code",
   "source": [
    "from src.utils import arr_to_submit\n",
    "\n",
    "arr_to_submit(y_pred[:, 1]).to_csv(\"../submits/fps_rd_md_gin_descs_xgb_gpu.csv\")\n",
    "# pd.Series(y_pred[:, 1], name='Y').to_csv(\"../submits/fps_rd_md_descs_hist_gb.csv\")"
   ],
   "id": "1fc825733135aef9",
   "outputs": [],
   "execution_count": 57
  },
  {
   "metadata": {},
   "cell_type": "code",
   "outputs": [],
   "execution_count": null,
   "source": "",
   "id": "f377aea72aeabd87"
  },
  {
   "metadata": {},
   "cell_type": "code",
   "outputs": [],
   "execution_count": null,
   "source": "",
   "id": "bd55bee67de17c4e"
  },
  {
   "metadata": {},
   "cell_type": "code",
   "outputs": [],
   "execution_count": null,
   "source": "",
   "id": "3ea5044b9187d426"
  },
  {
   "metadata": {},
   "cell_type": "code",
   "outputs": [],
   "execution_count": null,
   "source": "",
   "id": "2eb3cff8b1b46963"
  },
  {
   "metadata": {},
   "cell_type": "code",
   "outputs": [],
   "execution_count": null,
   "source": "",
   "id": "566bed764a58d2a0"
  },
  {
   "metadata": {},
   "cell_type": "code",
   "outputs": [],
   "execution_count": null,
   "source": "",
   "id": "db71237eeb7d1386"
  },
  {
   "metadata": {
    "ExecuteTime": {
     "end_time": "2024-09-06T15:59:54.709126Z",
     "start_time": "2024-09-06T15:59:54.634899Z"
    }
   },
   "cell_type": "code",
   "source": [
    "from sklearn.model_selection import cross_validate\n",
    "\n",
    "def get_fitted_models(model, X, y):        \n",
    "    kfold = KFold(n_splits=5, shuffle=True, random_state=RANDOM_SEED)\n",
    "    cv_res = cross_validate(model, scale(X), y, cv=kfold, scoring='roc_auc', return_estimator=True)\n",
    "    score = cv_res['test_score'].mean() - cv_res['test_score'].std()    \n",
    "    return cv_res['estimator'], score\n",
    "    "
   ],
   "id": "86723a17e9394811",
   "outputs": [],
   "execution_count": 132
  },
  {
   "metadata": {
    "ExecuteTime": {
     "end_time": "2024-09-06T15:59:54.786216Z",
     "start_time": "2024-09-06T15:59:54.712121Z"
    }
   },
   "cell_type": "code",
   "source": "# fitted_models = {}",
   "id": "2a942a3425b76ddc",
   "outputs": [],
   "execution_count": 133
  },
  {
   "metadata": {
    "ExecuteTime": {
     "end_time": "2024-09-06T15:59:54.863829Z",
     "start_time": "2024-09-06T15:59:54.788214Z"
    }
   },
   "cell_type": "code",
   "source": [
    "# X = ds['dataset_2']['X_train']\n",
    "# y = ds['dataset_2']['y_train']\n",
    "# \n",
    "# for name, model in tqdm(models.items()):\n",
    "#     fitted_models[name] = get_fitted_models(model, X, y)"
   ],
   "id": "190746a91fb45242",
   "outputs": [],
   "execution_count": 134
  },
  {
   "metadata": {
    "ExecuteTime": {
     "end_time": "2024-09-06T15:59:55.658527Z",
     "start_time": "2024-09-06T15:59:54.865830Z"
    }
   },
   "cell_type": "code",
   "source": [
    "dataset = {\n",
    "    'X_train': pd.read_pickle('../data/processed/X_train.pkl.zip'),\n",
    "    'X_test': pd.read_pickle('../data/processed/X_test.pkl.zip'),\n",
    "    'y_train': pd.read_pickle('../data/processed/y_train.pkl'),\n",
    "}"
   ],
   "id": "d283269c498e2a55",
   "outputs": [],
   "execution_count": 135
  },
  {
   "metadata": {
    "ExecuteTime": {
     "end_time": "2024-09-06T15:59:55.735392Z",
     "start_time": "2024-09-06T15:59:55.660528Z"
    }
   },
   "cell_type": "code",
   "source": [
    "def get_predictions(clf_list, X_test):\n",
    "    preds = []\n",
    "    for clf in clf_list:\n",
    "        target_one_probs = clf.predict_proba(X_test)[:, 1]\n",
    "        preds.append(target_one_probs)\n",
    "        \n",
    "    return np.stack(preds).mean(axis=0)\n",
    "    \n",
    "# get_predictions(fitted_models['XGB GPU'], ds['dataset_2']['X_test'])"
   ],
   "id": "f0926d9d973d9137",
   "outputs": [],
   "execution_count": 136
  },
  {
   "metadata": {
    "ExecuteTime": {
     "end_time": "2024-09-06T15:59:55.812908Z",
     "start_time": "2024-09-06T15:59:55.737307Z"
    }
   },
   "cell_type": "code",
   "source": "# fitted_models['XGB GPU'][4].predict_proba(ds['dataset_2']['X_test'])[:, 1]",
   "id": "12309e66dac482d0",
   "outputs": [],
   "execution_count": 137
  },
  {
   "metadata": {
    "ExecuteTime": {
     "end_time": "2024-09-06T15:59:55.892247Z",
     "start_time": "2024-09-06T15:59:55.814496Z"
    }
   },
   "cell_type": "code",
   "source": [
    "def get_avg_predictions(fitted_models_dict, dataset, weights: dict = None):\n",
    "    X_test = dataset['X_test']\n",
    "    preds = np.zeros(X_test.shape[0])\n",
    "    \n",
    "    if weights is None:\n",
    "        weights = {k: 1.0 for k in fitted_models_dict.keys()}\n",
    "\n",
    "    for name, models in tqdm(fitted_models_dict.items(), desc='Predicting     '):        \n",
    "        preds += weights[name] * get_predictions(models, X_test)\n",
    "                    \n",
    "    preds /= sum(weights.values())\n",
    "    return preds\n",
    "\n",
    "# get_avg_predictions(fitted_models, ds['dataset_2'])"
   ],
   "id": "504f5339d53506e0",
   "outputs": [],
   "execution_count": 138
  },
  {
   "metadata": {
    "ExecuteTime": {
     "end_time": "2024-09-06T15:59:55.969567Z",
     "start_time": "2024-09-06T15:59:55.895768Z"
    }
   },
   "cell_type": "code",
   "source": "# get_avg_predictions(fitted_models, ds['dataset_2'], weights={'XGB GPU': 0.1, 'RF': 0.5})",
   "id": "fd4c3f03b5440930",
   "outputs": [],
   "execution_count": 139
  },
  {
   "metadata": {
    "ExecuteTime": {
     "end_time": "2024-09-06T15:59:56.046087Z",
     "start_time": "2024-09-06T15:59:55.971565Z"
    }
   },
   "cell_type": "code",
   "source": [
    "def fit_models(models, dataset):\n",
    "    fitted_models = {}\n",
    "    for name, model in models.items():\n",
    "        print(name, end=': ')\n",
    "        fitted_models[name], score = get_fitted_models(model, dataset['X_train'], dataset['y_train'])\n",
    "        print(round(score, 3))\n",
    "    return fitted_models\n",
    "\n",
    "# res = fit_models(models, ds['dataset_2'])"
   ],
   "id": "4397184ff6c36ebd",
   "outputs": [],
   "execution_count": 140
  },
  {
   "metadata": {
    "ExecuteTime": {
     "end_time": "2024-09-06T15:59:56.124288Z",
     "start_time": "2024-09-06T15:59:56.048095Z"
    }
   },
   "cell_type": "code",
   "source": "# res",
   "id": "5cad6a1ec64885b7",
   "outputs": [],
   "execution_count": 141
  },
  {
   "metadata": {
    "ExecuteTime": {
     "end_time": "2024-09-06T15:59:56.202809Z",
     "start_time": "2024-09-06T15:59:56.126291Z"
    }
   },
   "cell_type": "code",
   "source": "# y_pred_2 = get_avg_predictions(res, ds['dataset_2'])",
   "id": "81fd74623134b437",
   "outputs": [],
   "execution_count": 142
  },
  {
   "metadata": {
    "ExecuteTime": {
     "end_time": "2024-09-06T15:59:56.281370Z",
     "start_time": "2024-09-06T15:59:56.203805Z"
    }
   },
   "cell_type": "code",
   "source": [
    "def fit_predict(models: dict, dataset: dict, weights: dict = None):\n",
    "    res = fit_models(models, dataset)\n",
    "    return get_avg_predictions(res, dataset, weights)"
   ],
   "id": "d27c28d6888d1de0",
   "outputs": [],
   "execution_count": 143
  },
  {
   "metadata": {
    "ExecuteTime": {
     "end_time": "2024-09-06T15:59:56.359377Z",
     "start_time": "2024-09-06T15:59:56.283372Z"
    }
   },
   "cell_type": "code",
   "source": [
    "scores = {\n",
    "     'RF': 0.868,\n",
    " 'HistGB': 0.895,\n",
    "    'XGB': 0.893,\n",
    "'XGB_GPU': 0.892,\n",
    "     'CB': 0.883,\n",
    " 'CB_GPU': 0.881,\n",
    "    'LGB': 0.897,\n",
    "}\n",
    "\n",
    "df = pd.DataFrame(pd.Series(scores, name='score')).sort_values(by=['score'], ascending=False)\n",
    "df['norm'] = (df.score - df.score.min()) / (df.score.max() - df.score.min()) + 0.05 \n",
    "df.norm"
   ],
   "id": "73f9dc827633c4f4",
   "outputs": [
    {
     "data": {
      "text/plain": [
       "LGB        1.050000\n",
       "HistGB     0.981034\n",
       "XGB        0.912069\n",
       "XGB_GPU    0.877586\n",
       "CB         0.567241\n",
       "CB_GPU     0.498276\n",
       "RF         0.050000\n",
       "Name: norm, dtype: float64"
      ]
     },
     "execution_count": 144,
     "metadata": {},
     "output_type": "execute_result"
    }
   ],
   "execution_count": 144
  },
  {
   "metadata": {
    "ExecuteTime": {
     "end_time": "2024-09-06T15:59:56.437965Z",
     "start_time": "2024-09-06T15:59:56.360378Z"
    }
   },
   "cell_type": "code",
   "source": "weights = df.norm.to_dict()",
   "id": "3d03e36cc95f126d",
   "outputs": [],
   "execution_count": 145
  },
  {
   "metadata": {
    "ExecuteTime": {
     "end_time": "2024-09-06T15:59:56.515480Z",
     "start_time": "2024-09-06T15:59:56.439968Z"
    }
   },
   "cell_type": "code",
   "source": [
    "def fit_predict(models: dict, dataset: dict, weights: dict = None):\n",
    "    res = fit_models(models, dataset)\n",
    "    return get_avg_predictions(res, dataset, weights)"
   ],
   "id": "1b5a408aa8c6901f",
   "outputs": [],
   "execution_count": 146
  },
  {
   "metadata": {
    "ExecuteTime": {
     "end_time": "2024-09-06T16:07:47.266458Z",
     "start_time": "2024-09-06T15:59:56.516484Z"
    }
   },
   "cell_type": "code",
   "source": "y_pred = fit_predict(models, dataset, weights)",
   "id": "63fe007878012502",
   "outputs": [
    {
     "name": "stderr",
     "output_type": "stream",
     "text": [
      "\n",
      "  0%|          | 0/7 [00:00<?, ?it/s]\u001B[A\n",
      "Fitting      RF:   0%|          | 0/7 [00:00<?, ?it/s]\u001B[A\n",
      "Fitting      RF:  14%|█▍        | 1/7 [00:07<00:44,  7.33s/it]\u001B[A\n",
      "Fitting  HistGB:  14%|█▍        | 1/7 [00:07<00:44,  7.33s/it]\u001B[A\n",
      "Fitting  HistGB:  29%|██▊       | 2/7 [01:48<05:11, 62.25s/it]\u001B[A\n",
      "Fitting     XGB:  29%|██▊       | 2/7 [01:48<05:11, 62.25s/it]\u001B[A\n",
      "Fitting     XGB:  43%|████▎     | 3/7 [03:00<04:26, 66.72s/it]\u001B[A\n",
      "Fitting XGB_GPU:  43%|████▎     | 3/7 [03:00<04:26, 66.72s/it]\u001B[A\n",
      "Fitting XGB_GPU:  57%|█████▋    | 4/7 [03:36<02:44, 54.80s/it]\u001B[A\n",
      "Fitting      CB:  57%|█████▋    | 4/7 [03:36<02:44, 54.80s/it]\u001B[A\n",
      "Fitting      CB:  71%|███████▏  | 5/7 [06:07<02:58, 89.39s/it]\u001B[A\n",
      "Fitting  CB_GPU:  71%|███████▏  | 5/7 [06:07<02:58, 89.39s/it]\u001B[A\n",
      "Fitting  CB_GPU:  86%|████████▌ | 6/7 [06:57<01:16, 76.09s/it]\u001B[A\n",
      "Fitting     LGB:  86%|████████▌ | 6/7 [06:57<01:16, 76.09s/it]\u001B[A\n",
      "Fitting     LGB: 100%|██████████| 7/7 [07:39<00:00, 65.65s/it]\u001B[A\n",
      "\n",
      "Predicting     :   0%|          | 0/7 [00:00<?, ?it/s]\u001B[A\n",
      "Predicting     :  14%|█▍        | 1/7 [00:00<00:05,  1.08it/s]\u001B[A\n",
      "Predicting     :  29%|██▊       | 2/7 [00:01<00:02,  1.90it/s]\u001B[A\n",
      "Predicting     :  43%|████▎     | 3/7 [00:05<00:08,  2.13s/it]\u001B[A\n",
      "Predicting     :  57%|█████▋    | 4/7 [00:09<00:08,  2.86s/it]\u001B[A\n",
      "Predicting     :  71%|███████▏  | 5/7 [00:09<00:03,  1.99s/it]\u001B[A\n",
      "Predicting     :  86%|████████▌ | 6/7 [00:10<00:01,  1.50s/it]\u001B[A\n",
      "Predicting     : 100%|██████████| 7/7 [00:10<00:00,  1.57s/it]\u001B[A\n"
     ]
    }
   ],
   "execution_count": 147
  },
  {
   "metadata": {
    "ExecuteTime": {
     "end_time": "2024-09-06T16:19:38.999925Z",
     "start_time": "2024-09-06T16:19:38.893885Z"
    }
   },
   "cell_type": "code",
   "source": "",
   "id": "e35043ba6dbaa7a",
   "outputs": [
    {
     "data": {
      "text/plain": [
       "Index([   0,    1,    2,    3,    4,    5,    6,    7,    8,    9,\n",
       "       ...\n",
       "       1211, 1212, 1213, 1214, 1215, 1216, 1217, 1218, 1219, 1220],\n",
       "      dtype='int64', length=1221)"
      ]
     },
     "execution_count": 153,
     "metadata": {},
     "output_type": "execute_result"
    }
   ],
   "execution_count": 153
  },
  {
   "metadata": {
    "ExecuteTime": {
     "end_time": "2024-09-06T16:21:26.488330Z",
     "start_time": "2024-09-06T16:21:26.412821Z"
    }
   },
   "cell_type": "code",
   "source": [
    "res = pd.Series(y_pred, name='Y')\n",
    "res.index.name = 'id'\n",
    "res.to_csv('../submits/fps_gnn_ensemble_boost.csv')"
   ],
   "id": "b9969abf5d8456ae",
   "outputs": [],
   "execution_count": 156
  }
 ],
 "metadata": {
  "kernelspec": {
   "display_name": "Python 3 (ipykernel)",
   "language": "python",
   "name": "python3"
  },
  "language_info": {
   "codemirror_mode": {
    "name": "ipython",
    "version": 3
   },
   "file_extension": ".py",
   "mimetype": "text/x-python",
   "name": "python",
   "nbconvert_exporter": "python",
   "pygments_lexer": "ipython3",
   "version": "3.10.0"
  }
 },
 "nbformat": 4,
 "nbformat_minor": 5
}
