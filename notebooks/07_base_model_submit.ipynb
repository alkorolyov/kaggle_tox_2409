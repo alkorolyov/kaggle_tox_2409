{
 "cells": [
  {
   "cell_type": "code",
   "id": "initial_id",
   "metadata": {
    "ExecuteTime": {
     "end_time": "2024-09-06T09:01:09.561300Z",
     "start_time": "2024-09-06T09:01:09.544318Z"
    }
   },
   "source": [
    "%load_ext autoreload\n",
    "%autoreload 2\n",
    "\n",
    "import sys\n",
    "sys.path.append('../')"
   ],
   "outputs": [
    {
     "name": "stdout",
     "output_type": "stream",
     "text": [
      "The autoreload extension is already loaded. To reload it, use:\n",
      "  %reload_ext autoreload\n"
     ]
    }
   ],
   "execution_count": 31
  },
  {
   "metadata": {
    "ExecuteTime": {
     "end_time": "2024-09-06T09:01:10.133978Z",
     "start_time": "2024-09-06T09:01:09.647550Z"
    }
   },
   "cell_type": "code",
   "source": [
    "import pandas as pd\n",
    "\n",
    "ds = {\n",
    "    'dataset_1':    {\n",
    "        'X_train': pd.read_pickle('../data/processed/X_train_1.pkl.zip'),        \n",
    "        'y_train': pd.read_pickle('../data/processed/y_train_1.pkl'),\n",
    "        'X_test': pd.read_pickle('../data/processed/X_test_1.pkl.zip'),\n",
    "        \n",
    "    },\n",
    "\n",
    "    'dataset_2': {\n",
    "        'X_train': pd.read_pickle('../data/processed/X_train_2.pkl.zip'),\n",
    "        'y_train': pd.read_pickle('../data/processed/y_train_2.pkl'),\n",
    "        'X_test': pd.read_pickle('../data/processed/X_test_2.pkl.zip'),\n",
    "    },\n",
    "    'dataset_3': {\n",
    "        'X_train': pd.read_pickle('../data/processed/X_train_3.pkl.zip'),\n",
    "        'y_train': pd.read_pickle('../data/processed/y_train_3.pkl'),\n",
    "        'X_test': pd.read_pickle('../data/processed/X_test_3.pkl.zip'),\n",
    "    }\n",
    "}"
   ],
   "id": "2989503484491679",
   "outputs": [],
   "execution_count": 32
  },
  {
   "metadata": {
    "ExecuteTime": {
     "end_time": "2024-09-06T09:01:10.154053Z",
     "start_time": "2024-09-06T09:01:10.136350Z"
    }
   },
   "cell_type": "code",
   "source": [
    "import time\n",
    "from tqdm import tqdm\n",
    "\n",
    "import numpy as np\n",
    "import pandas as pd\n",
    "\n",
    "from sklearn.linear_model import RidgeClassifier, LogisticRegression\n",
    "from sklearn.tree import DecisionTreeClassifier\n",
    "from sklearn.ensemble import RandomForestClassifier\n",
    "from sklearn.svm import SVC\n",
    "from sklearn.neighbors import KNeighborsClassifier\n",
    "from sklearn.model_selection import  KFold\n",
    "from src.utils import scale, eval_model\n",
    "import xgboost as xgb\n",
    "import catboost as cb\n",
    "import lightgbm as lgb\n",
    "import seaborn as sns\n",
    "\n",
    "\n",
    "mae = 'neg_mean_absolute_error'\n",
    "mse = 'neg_mean_squared_error'\n",
    "rmse = 'neg_root_mean_squared_error'\n",
    "roc_auc = 'neg_roc_auc_score'\n",
    "N_JOBS = 24\n",
    "RANDOM_SEED = 42\n",
    "\n",
    "# prepare models\n",
    "models = {}\n",
    "\n",
    "# models['LR'] = LogisticRegression()\n",
    "# models['Ridge'] = RidgeClassifier()\n",
    "# models['DT'] = DecisionTreeClassifier(random_state=RANDOM_SEED)\n",
    "# models['Lasso'] = Lass()\n",
    "# models['KNN'] = KNeighborsClassifier(n_jobs=N_JOBS)\n",
    "models['SVC'] = SVC()\n",
    "models['RF'] = RandomForestClassifier(random_state=RANDOM_SEED, n_jobs=N_JOBS)\n",
    "models['XGB'] = xgb.XGBClassifier(random_state=RANDOM_SEED, n_jobs=N_JOBS, verbosity=0)\n",
    "models['XGB GPU'] = xgb.XGBClassifier(random_state=RANDOM_SEED, n_jobs=N_JOBS, verbosity=0,\n",
    "                                  tree_method='gpu_hist', predictor='gpu_predictor', gpu_id=1)\n",
    "models['CB'] = cb.CatBoostClassifier(iterations=400, random_seed=RANDOM_SEED, thread_count=N_JOBS, verbose=False)\n",
    "models['CB GPU'] = cb.CatBoostClassifier(iterations=400, random_seed=RANDOM_SEED, thread_count=N_JOBS, verbose=False, task_type=\"GPU\")\n",
    "models['LGB'] = lgb.LGBMClassifier(random_state=RANDOM_SEED, n_jobs=N_JOBS, verbose=-1)"
   ],
   "id": "15cce13673d7da93",
   "outputs": [],
   "execution_count": 33
  },
  {
   "metadata": {
    "ExecuteTime": {
     "end_time": "2024-09-06T09:01:10.171397Z",
     "start_time": "2024-09-06T09:01:10.155777Z"
    }
   },
   "cell_type": "code",
   "source": [
    "from sklearn.model_selection import cross_validate\n",
    "\n",
    "def get_fitted_models(model, X, y):        \n",
    "    kfold = KFold(n_splits=5, shuffle=True, random_state=RANDOM_SEED)\n",
    "    cv_res = cross_validate(model, scale(X), y, cv=kfold, scoring='roc_auc', return_estimator=True)\n",
    "    # score = cv_res['test_score'].mean() - cv_res['test_score'].std()    \n",
    "    return cv_res['estimator']\n",
    "    "
   ],
   "id": "86723a17e9394811",
   "outputs": [],
   "execution_count": 34
  },
  {
   "metadata": {
    "ExecuteTime": {
     "end_time": "2024-09-06T09:01:10.189110Z",
     "start_time": "2024-09-06T09:01:10.173488Z"
    }
   },
   "cell_type": "code",
   "source": "# fitted_models = {}",
   "id": "2a942a3425b76ddc",
   "outputs": [],
   "execution_count": 35
  },
  {
   "metadata": {
    "ExecuteTime": {
     "end_time": "2024-09-06T09:01:10.205683Z",
     "start_time": "2024-09-06T09:01:10.190711Z"
    }
   },
   "cell_type": "code",
   "source": [
    "# X = ds['dataset_2']['X_train']\n",
    "# y = ds['dataset_2']['y_train']\n",
    "# \n",
    "# for name, model in tqdm(models.items()):\n",
    "#     fitted_models[name] = get_fitted_models(model, X, y)"
   ],
   "id": "190746a91fb45242",
   "outputs": [],
   "execution_count": 36
  },
  {
   "metadata": {
    "ExecuteTime": {
     "end_time": "2024-09-06T09:01:10.223187Z",
     "start_time": "2024-09-06T09:01:10.207281Z"
    }
   },
   "cell_type": "code",
   "source": [
    "def get_predictions(clf_list, X_test):\n",
    "    preds = []\n",
    "    for clf in clf_list:\n",
    "        target_one_probs = clf.predict_proba(X_test)[:, 1]\n",
    "        preds.append(target_one_probs)\n",
    "        \n",
    "    return np.stack(preds).mean(axis=0)\n",
    "    \n",
    "# get_predictions(fitted_models['XGB GPU'], ds['dataset_2']['X_test'])"
   ],
   "id": "f0926d9d973d9137",
   "outputs": [],
   "execution_count": 37
  },
  {
   "metadata": {
    "ExecuteTime": {
     "end_time": "2024-09-06T09:01:10.240438Z",
     "start_time": "2024-09-06T09:01:10.224881Z"
    }
   },
   "cell_type": "code",
   "source": "# fitted_models['XGB GPU'][4].predict_proba(ds['dataset_2']['X_test'])[:, 1]",
   "id": "12309e66dac482d0",
   "outputs": [],
   "execution_count": 38
  },
  {
   "metadata": {
    "ExecuteTime": {
     "end_time": "2024-09-06T09:01:10.258478Z",
     "start_time": "2024-09-06T09:01:10.241968Z"
    }
   },
   "cell_type": "code",
   "source": [
    "def get_avg_predictions(fitted_models_dict, dataset, weights: dict = None):\n",
    "    X_test = dataset['X_test']\n",
    "    preds = np.zeros(X_test.shape[0])\n",
    "    \n",
    "    if weights is None:\n",
    "        weights = {k: 1.0 for k in fitted_models_dict.keys()}\n",
    "\n",
    "    for name, models in tqdm(fitted_models_dict.items(), desc='Predicting     '):        \n",
    "        preds += weights[name] * get_predictions(models, X_test)\n",
    "                    \n",
    "    preds /= sum(weights.values())\n",
    "    return preds\n",
    "\n",
    "# get_avg_predictions(fitted_models, ds['dataset_2'])"
   ],
   "id": "504f5339d53506e0",
   "outputs": [],
   "execution_count": 39
  },
  {
   "metadata": {
    "ExecuteTime": {
     "end_time": "2024-09-06T09:01:10.274911Z",
     "start_time": "2024-09-06T09:01:10.260188Z"
    }
   },
   "cell_type": "code",
   "source": "# get_avg_predictions(fitted_models, ds['dataset_2'], weights={'XGB GPU': 0.1, 'RF': 0.5})",
   "id": "fd4c3f03b5440930",
   "outputs": [],
   "execution_count": 40
  },
  {
   "metadata": {
    "ExecuteTime": {
     "end_time": "2024-09-06T09:01:10.292355Z",
     "start_time": "2024-09-06T09:01:10.277203Z"
    }
   },
   "cell_type": "code",
   "source": [
    "def fit_models(models, dataset):\n",
    "    fitted_models = {}\n",
    "    pb = tqdm(total=len(models))\n",
    "    for name, model in models.items():\n",
    "        pb.set_description(\"Fitting %7s\" % name)\n",
    "        fitted_models[name] = get_fitted_models(model, dataset['X_train'], dataset['y_train'])\n",
    "        pb.update() \n",
    "    return fitted_models\n",
    "\n",
    "\n",
    "# res = fit_models(models, ds['dataset_2'])"
   ],
   "id": "4397184ff6c36ebd",
   "outputs": [],
   "execution_count": 41
  },
  {
   "metadata": {
    "ExecuteTime": {
     "end_time": "2024-09-06T09:01:10.309230Z",
     "start_time": "2024-09-06T09:01:10.294172Z"
    }
   },
   "cell_type": "code",
   "source": "# res",
   "id": "5cad6a1ec64885b7",
   "outputs": [],
   "execution_count": 42
  },
  {
   "metadata": {
    "ExecuteTime": {
     "end_time": "2024-09-06T09:01:10.326382Z",
     "start_time": "2024-09-06T09:01:10.311105Z"
    }
   },
   "cell_type": "code",
   "source": "# y_pred_2 = get_avg_predictions(res, ds['dataset_2'])",
   "id": "81fd74623134b437",
   "outputs": [],
   "execution_count": 43
  },
  {
   "metadata": {
    "ExecuteTime": {
     "end_time": "2024-09-06T09:01:10.342970Z",
     "start_time": "2024-09-06T09:01:10.327939Z"
    }
   },
   "cell_type": "code",
   "source": [
    "def fit_predict(models: dict, dataset: dict):\n",
    "    res = fit_models(models, dataset)\n",
    "    return get_avg_predictions(res, dataset)"
   ],
   "id": "d27c28d6888d1de0",
   "outputs": [],
   "execution_count": 44
  },
  {
   "metadata": {
    "ExecuteTime": {
     "end_time": "2024-09-06T09:02:01.946538Z",
     "start_time": "2024-09-06T09:01:10.344699Z"
    }
   },
   "cell_type": "code",
   "source": [
    "y_pred = []\n",
    "for name, dataset in ds.items():\n",
    "    print('dataset:', name)\n",
    "    y_pred.append(fit_predict(models, dataset))\n",
    "    \n",
    "np.concatenate(y_pred)"
   ],
   "id": "63fe007878012502",
   "outputs": [
    {
     "name": "stdout",
     "output_type": "stream",
     "text": [
      "dataset: dataset_1\n"
     ]
    },
    {
     "name": "stderr",
     "output_type": "stream",
     "text": [
      "\n",
      "  0%|          | 0/2 [00:00<?, ?it/s]\u001B[A\n",
      "Fitting      RF:   0%|          | 0/2 [00:00<?, ?it/s]\u001B[A\n",
      "Fitting      RF:  50%|█████     | 1/2 [00:02<00:02,  2.73s/it]\u001B[A\n",
      "Fitting XGB GPU:   0%|          | 0/1 [00:23<?, ?it/s].73s/it]\u001B[A\n",
      "\n",
      "Fitting XGB GPU: 100%|██████████| 2/2 [00:17<00:00,  8.81s/it]\u001B[A\n",
      "Predicting     : 100%|██████████| 2/2 [00:01<00:00,  1.03it/s]\n"
     ]
    },
    {
     "name": "stdout",
     "output_type": "stream",
     "text": [
      "dataset: dataset_2\n"
     ]
    },
    {
     "name": "stderr",
     "output_type": "stream",
     "text": [
      "Fitting XGB GPU: 100%|██████████| 2/2 [00:14<00:00,  7.22s/it]\n",
      "Predicting     : 100%|██████████| 2/2 [00:02<00:00,  1.00s/it]\n"
     ]
    },
    {
     "name": "stdout",
     "output_type": "stream",
     "text": [
      "dataset: dataset_3\n"
     ]
    },
    {
     "name": "stderr",
     "output_type": "stream",
     "text": [
      "Fitting XGB GPU: 100%|██████████| 2/2 [00:13<00:00,  6.86s/it]\n",
      "Predicting     : 100%|██████████| 2/2 [00:01<00:00,  1.09it/s]\n"
     ]
    },
    {
     "data": {
      "text/plain": [
       "array([0.27566983, 0.54945222, 0.4675001 , ..., 0.67151947, 0.57171144,\n",
       "       0.69367435])"
      ]
     },
     "execution_count": 45,
     "metadata": {},
     "output_type": "execute_result"
    }
   ],
   "execution_count": 45
  },
  {
   "metadata": {},
   "cell_type": "code",
   "source": "np.concatenate(y_pred).shape",
   "id": "8621a3672676c375",
   "outputs": [],
   "execution_count": null
  },
  {
   "metadata": {},
   "cell_type": "code",
   "source": [
    "# test = pd.read_csv('../data/processed/test.csv', index_col=0)\n",
    "# pd.Series(np.concatenate(y_pred), index=test.index, name='Y').to_csv('../data/preds/060924_avg_rf_3_boosting_gpu.csv')"
   ],
   "id": "b1ab499b91377ecd",
   "outputs": [],
   "execution_count": null
  },
  {
   "metadata": {},
   "cell_type": "code",
   "source": "",
   "id": "386500ccfedcaf2",
   "outputs": [],
   "execution_count": null
  },
  {
   "metadata": {},
   "cell_type": "code",
   "source": "",
   "id": "237894c27374fbd6",
   "outputs": [],
   "execution_count": null
  },
  {
   "metadata": {},
   "cell_type": "code",
   "source": "",
   "id": "11dc7332f543eaf5",
   "outputs": [],
   "execution_count": null
  },
  {
   "metadata": {},
   "cell_type": "markdown",
   "source": "# Some parameters explorations",
   "id": "a88faaa3407ef90a"
  },
  {
   "metadata": {},
   "cell_type": "code",
   "source": [
    "X = ds['dataset_2']['X_train']\n",
    "y = ds['dataset_2']['y_train']\n",
    "\n",
    "for name, model in models.items():\n",
    "    eval_model(name, model, X, y)"
   ],
   "id": "c93242bbaa427190",
   "outputs": [],
   "execution_count": null
  },
  {
   "metadata": {},
   "cell_type": "code",
   "source": "",
   "id": "e6dbc49c7d1889a3",
   "outputs": [],
   "execution_count": null
  },
  {
   "metadata": {},
   "cell_type": "code",
   "source": [
    "params = {\n",
    "    'random_seed': RANDOM_SEED,\n",
    "    'thread_count': N_JOBS,\n",
    "    'verbose': False,\n",
    "}"
   ],
   "id": "75c40ec25451ea8",
   "outputs": [],
   "execution_count": null
  },
  {
   "metadata": {},
   "cell_type": "markdown",
   "source": "### Baseline 0.758 - 0.754",
   "id": "8349937ae7ffdcd2"
  },
  {
   "metadata": {},
   "cell_type": "code",
   "source": [
    "models['CB']     = cb.CatBoostClassifier(**params)\n",
    "models['CB GPU'] = cb.CatBoostClassifier(task_type='GPU', **params)\n",
    "\n",
    "for name, model in models.items():\n",
    "    eval_model(name, model, X, y)"
   ],
   "id": "9a34b62fcfd2e13e",
   "outputs": [],
   "execution_count": null
  },
  {
   "metadata": {},
   "cell_type": "markdown",
   "source": "### Num iters 100, 200, 400",
   "id": "64248906fda3393a"
  },
  {
   "metadata": {},
   "cell_type": "code",
   "source": [
    "models['CB']     = cb.CatBoostClassifier(iterations=800, **params)\n",
    "models['CB GPU'] = cb.CatBoostClassifier(iterations=800, task_type='GPU', **params)\n",
    "\n",
    "for name, model in models.items():\n",
    "    eval_model(name, model, X, y)"
   ],
   "id": "fd6af3657e1259c6",
   "outputs": [],
   "execution_count": null
  },
  {
   "metadata": {},
   "cell_type": "code",
   "source": [
    "models['CB']     = cb.CatBoostClassifier(iterations=400, **params)\n",
    "models['CB GPU'] = cb.CatBoostClassifier(iterations=400, task_type='GPU', **params)\n",
    "\n",
    "for name, model in models.items():\n",
    "    eval_model(name, model, X, y)"
   ],
   "id": "dfbe96f4d411448a",
   "outputs": [],
   "execution_count": null
  },
  {
   "metadata": {},
   "cell_type": "code",
   "source": [
    "models['CB']     = cb.CatBoostClassifier(iterations=200, **params)\n",
    "models['CB GPU'] = cb.CatBoostClassifier(iterations=200, task_type='GPU', **params)\n",
    "\n",
    "for name, model in models.items():\n",
    "    eval_model(name, model, X, y)"
   ],
   "id": "640fc45423826510",
   "outputs": [],
   "execution_count": null
  },
  {
   "metadata": {},
   "cell_type": "code",
   "source": [
    "models['CB']     = cb.CatBoostClassifier(iterations=100,  **params)\n",
    "models['CB GPU'] = cb.CatBoostClassifier(iterations=100, task_type='GPU', **params)\n",
    "\n",
    "for name, model in models.items():\n",
    "    eval_model(name, model, X, y)"
   ],
   "id": "d758859ece8d4149",
   "outputs": [],
   "execution_count": null
  },
  {
   "metadata": {},
   "cell_type": "markdown",
   "source": [
    "### stability 100iter over random seeds\n",
    "```random_seed=42 - outlier```"
   ],
   "id": "d0c145146c484913"
  },
  {
   "metadata": {},
   "cell_type": "code",
   "source": [
    "models['CB']     = cb.CatBoostClassifier(iterations=100, random_seed=0, verbose=False)\n",
    "models['CB GPU'] = cb.CatBoostClassifier(iterations=100, task_type='GPU', random_seed=0, verbose=False)\n",
    "\n",
    "for name, model in models.items():\n",
    "    eval_model(name, model, X, y)"
   ],
   "id": "572eb33881689017",
   "outputs": [],
   "execution_count": null
  },
  {
   "metadata": {},
   "cell_type": "code",
   "source": [
    "models['CB']     = cb.CatBoostClassifier(iterations=100, random_seed=1, verbose=False)\n",
    "models['CB GPU'] = cb.CatBoostClassifier(iterations=100, task_type='GPU', random_seed=1, verbose=False)\n",
    "\n",
    "for name, model in models.items():\n",
    "    eval_model(name, model, X, y)"
   ],
   "id": "f64ea4c25594c244",
   "outputs": [],
   "execution_count": null
  },
  {
   "metadata": {},
   "cell_type": "code",
   "source": [
    "models['CB']     = cb.CatBoostClassifier(iterations=100, random_seed=2, verbose=False)\n",
    "models['CB GPU'] = cb.CatBoostClassifier(iterations=100, task_type='GPU', random_seed=2, verbose=False)\n",
    "\n",
    "for name, model in models.items():\n",
    "    eval_model(name, model, X, y)"
   ],
   "id": "29e3bb1a23e1fcf2",
   "outputs": [],
   "execution_count": null
  },
  {
   "metadata": {},
   "cell_type": "code",
   "source": [
    "models['CB']     = cb.CatBoostClassifier(iterations=100, random_seed=42, verbose=False)\n",
    "models['CB GPU'] = cb.CatBoostClassifier(iterations=100, task_type='GPU', random_seed=42, verbose=False)\n",
    "\n",
    "for name, model in models.items():\n",
    "    eval_model(name, model, X, y)"
   ],
   "id": "95ff128e5fafcc9d",
   "outputs": [],
   "execution_count": null
  },
  {
   "metadata": {},
   "cell_type": "markdown",
   "source": "### other speedup options",
   "id": "79e05fa6df816398"
  },
  {
   "metadata": {},
   "cell_type": "code",
   "source": [
    "models['CB']     = cb.CatBoostClassifier(iterations=100, bootstrap_type='Bernoulli', **params)\n",
    "models['CB GPU'] = cb.CatBoostClassifier(iterations=100, bootstrap_type='Bernoulli', task_type='GPU', **params)\n",
    "\n",
    "for name, model in models.items():\n",
    "    eval_model(name, model, X, y)"
   ],
   "id": "e37b796672745f37",
   "outputs": [],
   "execution_count": null
  },
  {
   "metadata": {},
   "cell_type": "code",
   "source": [
    "models['CB']     = cb.CatBoostClassifier(iterations=100, sampling_frequency='PerTree', **params)\n",
    "models['CB GPU'] = cb.CatBoostClassifier(iterations=100, sampling_frequency='PerTree', task_type='GPU', **params)\n",
    "\n",
    "for name, model in models.items():\n",
    "    eval_model(name, model, X, y)"
   ],
   "id": "e7dabb4943451d7e",
   "outputs": [],
   "execution_count": null
  },
  {
   "metadata": {},
   "cell_type": "code",
   "source": [
    "models['CB']     = cb.CatBoostClassifier(iterations=100, grow_policy='SymmetricTree', **params)\n",
    "models['CB GPU'] = cb.CatBoostClassifier(iterations=100, grow_policy='SymmetricTree', task_type='GPU', **params)\n",
    "\n",
    "for name, model in models.items():\n",
    "    eval_model(name, model, X, y)"
   ],
   "id": "5a04c7a46a76d928",
   "outputs": [],
   "execution_count": null
  },
  {
   "metadata": {},
   "cell_type": "code",
   "source": "",
   "id": "e7575d198e9b9b25",
   "outputs": [],
   "execution_count": null
  },
  {
   "metadata": {},
   "cell_type": "code",
   "source": "",
   "id": "76d85f41b65ec78e",
   "outputs": [],
   "execution_count": null
  },
  {
   "metadata": {},
   "cell_type": "code",
   "source": "",
   "id": "b9969abf5d8456ae",
   "outputs": [],
   "execution_count": null
  }
 ],
 "metadata": {
  "kernelspec": {
   "display_name": "ml",
   "language": "python",
   "name": "ml"
  },
  "language_info": {
   "codemirror_mode": {
    "name": "ipython",
    "version": 3
   },
   "file_extension": ".py",
   "mimetype": "text/x-python",
   "name": "python",
   "nbconvert_exporter": "python",
   "pygments_lexer": "ipython3",
   "version": "3.10.0"
  }
 },
 "nbformat": 4,
 "nbformat_minor": 5
}
