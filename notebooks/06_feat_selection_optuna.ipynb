{
 "cells": [
  {
   "cell_type": "code",
   "id": "initial_id",
   "metadata": {
    "collapsed": true,
    "ExecuteTime": {
     "end_time": "2024-09-07T19:06:51.287091Z",
     "start_time": "2024-09-07T19:06:51.262731Z"
    }
   },
   "source": [
    "%load_ext autoreload\n",
    "%autoreload 2\n",
    "\n",
    "import sys\n",
    "sys.path.append('..')"
   ],
   "outputs": [
    {
     "name": "stdout",
     "output_type": "stream",
     "text": [
      "The autoreload extension is already loaded. To reload it, use:\n",
      "  %reload_ext autoreload\n"
     ]
    }
   ],
   "execution_count": 31
  },
  {
   "metadata": {
    "ExecuteTime": {
     "end_time": "2024-09-07T19:06:51.345732Z",
     "start_time": "2024-09-07T19:06:51.313014Z"
    }
   },
   "cell_type": "code",
   "source": [
    "import time\n",
    "from tqdm import tqdm\n",
    "\n",
    "import numpy as np\n",
    "import pandas as pd\n",
    "\n",
    "from sklearn.linear_model import RidgeClassifier, LogisticRegression\n",
    "from sklearn.preprocessing import OneHotEncoder\n",
    "from sklearn.tree import DecisionTreeClassifier\n",
    "from sklearn.ensemble import RandomForestClassifier, HistGradientBoostingClassifier\n",
    "from sklearn.svm import SVC\n",
    "from sklearn.neighbors import KNeighborsClassifier\n",
    "from sklearn.model_selection import  KFold\n",
    "from src.utils import scale, eval_model\n",
    "import xgboost as xgb\n",
    "import catboost as cb\n",
    "import lightgbm as lgb\n",
    "import seaborn as sns\n",
    "from src.corr import non_corr_features\n",
    "from src.maplight_gnn import get_representation\n",
    "from src.utils import get_fps_cols, scale, OffsetScaler, to_submit, drop_nans_non_unique, BlendingClassifier\n",
    "\n",
    "train = pd.read_csv('../data/processed/train.csv', index_col=0)\n",
    "test = pd.read_csv('../data/processed/test.csv', index_col=0)"
   ],
   "id": "6d3b5f37e9957b9c",
   "outputs": [],
   "execution_count": 32
  },
  {
   "metadata": {
    "ExecuteTime": {
     "end_time": "2024-09-07T19:06:51.907455Z",
     "start_time": "2024-09-07T19:06:51.383108Z"
    }
   },
   "cell_type": "code",
   "source": [
    "def prepare_data(**params):\n",
    "    X_train = get_representation(train.smi, **params)\n",
    "    X_test = get_representation(test.smi, **params)\n",
    "\n",
    "    X_train = drop_nans_non_unique(X_train)\n",
    "    X_test = X_test[X_train.columns]\n",
    "\n",
    "    fps_offset = 1024 * params['morgan_fps'] + \\\n",
    "                 1024 * params['avalon_fps'] + \\\n",
    "                 315 * params['erg_fps']\n",
    "\n",
    "    scaler = OffsetScaler(fps_offset)\n",
    "    X_train = scaler.fit_transform(X_train)\n",
    "    X_test = scaler.transform(X_test)\n",
    "\n",
    "    ohe = OneHotEncoder(sparse_output=False)\n",
    "    prop = ohe.fit_transform(train[['prop']])\n",
    "    X_train = pd.concat([X_train, pd.DataFrame(prop, columns=ohe.get_feature_names_out())], axis=1)\n",
    "\n",
    "    prop = ohe.transform(test[['prop']])\n",
    "    X_test = pd.concat([X_test, pd.DataFrame(prop, columns=ohe.get_feature_names_out())], axis=1)\n",
    "    return X_train, train.target, X_test\n",
    "\n",
    "params = {\n",
    "    'morgan_fps':False,\n",
    "    'avalon_fps':False,\n",
    "    'erg_fps':False,\n",
    "    'rdkit_feats':False,\n",
    "    'mord_feats': True,\n",
    "    'gin_gnn': False,\n",
    "}\n",
    "\n",
    "mord_train, y_train, mord_test = prepare_data(**params)\n",
    "mord_train.shape[1]"
   ],
   "id": "5a69a12d20a7641a",
   "outputs": [
    {
     "data": {
      "text/plain": [
       "930"
      ]
     },
     "execution_count": 33,
     "metadata": {},
     "output_type": "execute_result"
    }
   ],
   "execution_count": 33
  },
  {
   "metadata": {
    "ExecuteTime": {
     "end_time": "2024-09-07T19:06:52.197562Z",
     "start_time": "2024-09-07T19:06:51.929778Z"
    }
   },
   "cell_type": "code",
   "source": [
    "from src.corr import non_corr_features\n",
    "\n",
    "mord_train_uncor = non_corr_features(mord_train, y_train, threshold=0.8)\n",
    "mord_test_uncor = mord_test[mord_train_uncor.columns]\n",
    "mord_train_uncor.shape[1]"
   ],
   "id": "863f18d213acd525",
   "outputs": [
    {
     "data": {
      "text/plain": [
       "263"
      ]
     },
     "execution_count": 34,
     "metadata": {},
     "output_type": "execute_result"
    }
   ],
   "execution_count": 34
  },
  {
   "metadata": {
    "ExecuteTime": {
     "end_time": "2024-09-07T19:06:53.080147Z",
     "start_time": "2024-09-07T19:06:52.217378Z"
    }
   },
   "cell_type": "code",
   "source": [
    "params = {\n",
    "    'morgan_fps': True,\n",
    "    'avalon_fps': True,\n",
    "    'erg_fps': True,\n",
    "    'rdkit_feats': True,\n",
    "    'mord_feats': False,\n",
    "    'gin_gnn': True,\n",
    "}\n",
    "\n",
    "X_train, y_train, X_test = prepare_data(**params)\n",
    "X_train.shape[1], X_train.columns.str.contains('rd_').sum()"
   ],
   "id": "b09a46098c6621ea",
   "outputs": [
    {
     "data": {
      "text/plain": [
       "(2838, 192)"
      ]
     },
     "execution_count": 35,
     "metadata": {},
     "output_type": "execute_result"
    }
   ],
   "execution_count": 35
  },
  {
   "metadata": {
    "ExecuteTime": {
     "end_time": "2024-09-07T19:06:53.284373Z",
     "start_time": "2024-09-07T19:06:53.149843Z"
    }
   },
   "cell_type": "code",
   "source": [
    "X_train = pd.concat([X_train, mord_train_uncor], axis=1)\n",
    "X_test = pd.concat([X_test, mord_test_uncor], axis=1)\n",
    "\n",
    "X_train.shape[1], X_train.columns.str.contains('rd_|md_').sum()"
   ],
   "id": "756317cc6462d41d",
   "outputs": [
    {
     "data": {
      "text/plain": [
       "(3101, 452)"
      ]
     },
     "execution_count": 36,
     "metadata": {},
     "output_type": "execute_result"
    }
   ],
   "execution_count": 36
  },
  {
   "metadata": {
    "ExecuteTime": {
     "end_time": "2024-09-07T19:06:55.901793Z",
     "start_time": "2024-09-07T19:06:53.357699Z"
    }
   },
   "cell_type": "code",
   "source": [
    "X_train.to_pickle('../data/processed/X_train_mpl_mord.pkl.zip')\n",
    "X_test.to_pickle('../data/processed/X_test_mpl_mord.pkl.zip')"
   ],
   "id": "a50f122e608bbec0",
   "outputs": [],
   "execution_count": 37
  },
  {
   "metadata": {
    "ExecuteTime": {
     "end_time": "2024-09-07T19:06:55.949965Z",
     "start_time": "2024-09-07T19:06:55.925552Z"
    }
   },
   "cell_type": "code",
   "source": "X_train.shape, X_test.shape",
   "id": "b98ad4160710ae3f",
   "outputs": [
    {
     "data": {
      "text/plain": [
       "((7939, 3101), (1221, 3101))"
      ]
     },
     "execution_count": 38,
     "metadata": {},
     "output_type": "execute_result"
    }
   ],
   "execution_count": 38
  }
 ],
 "metadata": {
  "kernelspec": {
   "display_name": "Python 3 (ipykernel)",
   "language": "python",
   "name": "python3"
  },
  "language_info": {
   "codemirror_mode": {
    "name": "ipython",
    "version": 2
   },
   "file_extension": ".py",
   "mimetype": "text/x-python",
   "name": "python",
   "nbconvert_exporter": "python",
   "pygments_lexer": "ipython2",
   "version": "2.7.6"
  }
 },
 "nbformat": 4,
 "nbformat_minor": 5
}
