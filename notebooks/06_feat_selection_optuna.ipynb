{
 "cells": [
  {
   "cell_type": "code",
   "id": "initial_id",
   "metadata": {
    "collapsed": true,
    "ExecuteTime": {
     "end_time": "2024-09-06T13:06:59.214848Z",
     "start_time": "2024-09-06T13:06:59.190176Z"
    }
   },
   "source": [
    "import pandas as pd\n",
    "%load_ext autoreload\n",
    "%autoreload 2\n",
    "\n",
    "import sys\n",
    "sys.path.append('..')"
   ],
   "outputs": [],
   "execution_count": 2
  },
  {
   "metadata": {
    "ExecuteTime": {
     "end_time": "2024-09-06T13:06:59.233161Z",
     "start_time": "2024-09-06T13:06:59.216624Z"
    }
   },
   "cell_type": "code",
   "source": "from src.config import mem",
   "id": "43ecdcdf7dd3f417",
   "outputs": [],
   "execution_count": 3
  },
  {
   "metadata": {
    "ExecuteTime": {
     "end_time": "2024-09-06T13:06:59.251161Z",
     "start_time": "2024-09-06T13:06:59.234779Z"
    }
   },
   "cell_type": "code",
   "source": [
    "RANDOM_SEED = 42\n",
    "N_JOBS = 24"
   ],
   "id": "4bface1cd9b57b29",
   "outputs": [],
   "execution_count": 4
  },
  {
   "metadata": {
    "ExecuteTime": {
     "end_time": "2024-09-06T13:06:59.269653Z",
     "start_time": "2024-09-06T13:06:59.253899Z"
    }
   },
   "cell_type": "code",
   "source": [
    "import optuna\n",
    "import numpy as np\n",
    "import pandas as pd\n",
    "from sklearn.metrics import root_mean_squared_error, roc_auc_score\n",
    "from sklearn.model_selection import KFold"
   ],
   "id": "98a0ccd416007d69",
   "outputs": [],
   "execution_count": 5
  },
  {
   "metadata": {
    "ExecuteTime": {
     "end_time": "2024-09-06T13:06:59.290510Z",
     "start_time": "2024-09-06T13:06:59.271191Z"
    }
   },
   "cell_type": "code",
   "source": [
    "class FeatureSelectionOptuna:\n",
    "    \"\"\"\n",
    "    This class implements feature selection using Optuna optimization framework.\n",
    "\n",
    "    Parameters:\n",
    "\n",
    "    - model (object): The predictive model to evaluate; this should be any object that implements fit() and predict() methods.\n",
    "    - loss_fn (function): The loss function to use for evaluating the model performance. This function should take the true labels and the\n",
    "                          predictions as inputs and return a loss value.\n",
    "    - features (list of str): A list containing the names of all possible features that can be selected for the model.\n",
    "    - X (DataFrame): The complete set of feature data (pandas DataFrame) from which subsets will be selected for training the model.\n",
    "    - y (Series): The target variable associated with the X data (pandas Series).\n",
    "    - splits (list of tuples): A list of tuples where each tuple contains two elements, the train indices and the validation indices.\n",
    "    - feat_count_penalty (float, optional): A factor used to penalize the objective function based on the number of features used.\n",
    "    \"\"\"\n",
    "\n",
    "    def __init__(self,\n",
    "                 model,\n",
    "                 X,\n",
    "                 y,\n",
    "                 features=None,\n",
    "                 loss_fn=roc_auc_score,                 \n",
    "                 cv=None,\n",
    "                 feat_count_penalty=0,\n",
    "                 ):\n",
    "\n",
    "        self.model = model\n",
    "        self.X = X\n",
    "        self.y = y\n",
    "        \n",
    "        if features is None:\n",
    "            self.features = list(X.columns)\n",
    "        else:\n",
    "            self.features = features\n",
    "        \n",
    "        self.loss_fn = loss_fn\n",
    "        \n",
    "        if cv is None:\n",
    "            kfold = KFold(n_splits=5, shuffle=True, random_state=RANDOM_SEED)\n",
    "            self.splits = list(kfold.split(X))\n",
    "        else:            \n",
    "            self.splits = list(cv.split(X))\n",
    "        \n",
    "        self.feat_count_penalty = feat_count_penalty\n",
    "\n",
    "    def __call__(self,\n",
    "                 trial: optuna.trial.Trial):\n",
    "\n",
    "        # Select True / False for each feature\n",
    "        selected_features = [trial.suggest_categorical(name, [True, False]) for name in self.features]\n",
    "\n",
    "        # List with names of selected features\n",
    "        selected_feature_names = [name for name, selected in zip(self.features, selected_features) if selected]\n",
    "\n",
    "        # Optional: adds a feat_count_penalty for the amount of features used\n",
    "        n_used = len(selected_feature_names)\n",
    "        total_penalty = n_used * self.feat_count_penalty\n",
    "        \n",
    "\n",
    "        X_selected = self.X[selected_feature_names].copy()\n",
    "        \n",
    "        from sklearn.model_selection import cross_val_score\n",
    "        \n",
    "        kfold = KFold(n_splits=5, shuffle=True, random_state=RANDOM_SEED)\n",
    "        cv_res = cross_val_score(self.model, X_selected, self.y, cv=kfold, scoring='roc_auc')\n",
    "        score = (cv_res.mean() - cv_res.std()) - total_penalty\n",
    "        return score"
   ],
   "id": "1b0dbd4d258ffa14",
   "outputs": [],
   "execution_count": 6
  },
  {
   "metadata": {
    "ExecuteTime": {
     "end_time": "2024-09-06T13:06:59.491165Z",
     "start_time": "2024-09-06T13:06:59.292002Z"
    }
   },
   "cell_type": "code",
   "source": [
    "X_train = pd.read_pickle('../data/processed/X_train_2.pkl.zip')\n",
    "y_train = pd.read_pickle('../data/processed/y_train_2.pkl')\n",
    "\n",
    "\n",
    "feature_list = [s for s in X_train.columns if '_' in s]\n",
    "np.array(feature_list)"
   ],
   "id": "8d273dd9c44c7af0",
   "outputs": [
    {
     "data": {
      "text/plain": [
       "array(['rd_BalabanJ', 'rd_EState_VSA10', 'rd_EState_VSA11', ...,\n",
       "       'gin_297', 'gin_298', 'gin_299'], dtype='<U27')"
      ]
     },
     "execution_count": 7,
     "metadata": {},
     "output_type": "execute_result"
    }
   ],
   "execution_count": 7
  },
  {
   "metadata": {
    "ExecuteTime": {
     "end_time": "2024-09-06T13:07:00.047438Z",
     "start_time": "2024-09-06T13:06:59.492490Z"
    }
   },
   "cell_type": "code",
   "source": [
    "from sklearn.model_selection import KFold\n",
    "from optuna.samplers import TPESampler\n",
    "from sklearn.ensemble import RandomForestClassifier\n",
    "\n",
    "params = {\n",
    "    \"random_state\": RANDOM_SEED,\n",
    "    \"n_jobs\": N_JOBS,\n",
    "    \"verbose\": False\n",
    "}\n",
    "\n",
    "model = RandomForestClassifier(**params)\n",
    "sampler = TPESampler(seed=RANDOM_SEED)\n",
    "\n",
    "study = optuna.create_study(\n",
    "    storage=f\"sqlite:///../data/tuning/optuna.db\",\n",
    "    direction=\"maximize\", \n",
    "    sampler=sampler\n",
    ")\n",
    "\n",
    "# We first try the model using all features\n",
    "default_features = {ft: True for ft in feature_list}\n",
    "study.enqueue_trial(default_features)"
   ],
   "id": "6d36d6a5d6d63d02",
   "outputs": [
    {
     "name": "stderr",
     "output_type": "stream",
     "text": [
      "[I 2024-09-06 15:07:00,027] A new study created in RDB with name: no-name-96b71b0a-60ee-4dc1-b8d3-381e48e91c0b\n"
     ]
    }
   ],
   "execution_count": 8
  },
  {
   "metadata": {
    "ExecuteTime": {
     "end_time": "2024-09-06T13:11:23.077324Z",
     "start_time": "2024-09-06T13:07:00.048891Z"
    }
   },
   "cell_type": "code",
   "source": [
    "optuna.logging.set_verbosity(optuna.logging.WARN)\n",
    "\n",
    "study.optimize(FeatureSelectionOptuna(\n",
    "                         model=model,\n",
    "                         features=feature_list,\n",
    "                         X=X_train,\n",
    "                         y=y_train,\n",
    "                         # feat_count_penalty = 1e-4,  \n",
    "                         ), n_trials=4096, show_progress_bar=True)"
   ],
   "id": "c5c965c50f97e4fc",
   "outputs": [
    {
     "data": {
      "text/plain": [
       "  0%|          | 0/4096 [00:00<?, ?it/s]"
      ],
      "application/vnd.jupyter.widget-view+json": {
       "version_major": 2,
       "version_minor": 0,
       "model_id": "3fc4c271644848718c07677000063a8e"
      }
     },
     "metadata": {},
     "output_type": "display_data"
    },
    {
     "name": "stdout",
     "output_type": "stream",
     "text": [
      "[W 2024-09-06 15:11:21,905] Trial 32 failed with parameters: {'rd_BalabanJ': False, 'rd_EState_VSA10': True, 'rd_EState_VSA11': True, 'rd_EState_VSA2': True, 'rd_EState_VSA3': True, 'rd_EState_VSA4': True, 'rd_EState_VSA5': True, 'rd_EState_VSA6': False, 'rd_EState_VSA7': True, 'rd_EState_VSA8': True, 'rd_FpDensityMorgan1': True, 'rd_FpDensityMorgan2': False, 'rd_FpDensityMorgan3': True, 'rd_HallKierAlpha': True, 'rd_Kappa2': True, 'rd_Kappa3': True, 'rd_MaxAbsEStateIndex': True, 'rd_MaxAbsPartialCharge': True, 'rd_MaxPartialCharge': False, 'rd_MinAbsEStateIndex': True, 'rd_MinEStateIndex': True, 'rd_MolLogP': True, 'rd_NHOHCount': True, 'rd_NOCount': False, 'rd_NumAliphaticCarbocycles': True, 'rd_NumAromaticHeterocycles': True, 'rd_NumRotatableBonds': False, 'rd_NumSaturatedCarbocycles': False, 'rd_NumSaturatedHeterocycles': False, 'rd_NumSaturatedRings': True, 'rd_PEOE_VSA1': True, 'rd_PEOE_VSA10': True, 'rd_PEOE_VSA11': True, 'rd_PEOE_VSA12': True, 'rd_PEOE_VSA13': True, 'rd_PEOE_VSA14': True, 'rd_PEOE_VSA2': True, 'rd_PEOE_VSA9': True, 'rd_RingCount': True, 'rd_SMR_VSA10': True, 'rd_SMR_VSA4': True, 'rd_SMR_VSA5': True, 'rd_SMR_VSA6': False, 'rd_SMR_VSA7': True, 'rd_SlogP_VSA12': False, 'rd_SlogP_VSA4': True, 'rd_VSA_EState1': True, 'rd_VSA_EState10': True, 'rd_VSA_EState2': False, 'rd_VSA_EState8': False, 'rd_VSA_EState9': True, 'rd_fr_Al_COO': True, 'rd_fr_Al_OH': False, 'rd_fr_Al_OH_noTert': True, 'rd_fr_ArN': False, 'rd_fr_Ar_COO': True, 'rd_fr_Ar_N': True, 'rd_fr_COO': True, 'rd_fr_C_O_noCOO': True, 'rd_fr_C_S': True, 'rd_fr_HOCCN': False, 'rd_fr_Imine': False, 'rd_fr_NH0': False, 'rd_fr_NH1': False, 'rd_fr_Ndealkylation1': True, 'rd_fr_Ndealkylation2': True, 'rd_fr_alkyl_carbamate': True, 'rd_fr_alkyl_halide': True, 'rd_fr_allylic_oxid': True, 'rd_fr_amide': True, 'rd_fr_amidine': True, 'rd_fr_aniline': True, 'rd_fr_aryl_methyl': True, 'rd_fr_azo': True, 'rd_fr_benzene': False, 'rd_fr_benzodiazepine': True, 'rd_fr_bicyclic': True, 'rd_fr_epoxide': True, 'rd_fr_ester': False, 'rd_fr_furan': True, 'rd_fr_guanido': True, 'rd_fr_hdrzine': True, 'rd_fr_hdrzone': True, 'rd_fr_imidazole': False, 'rd_fr_imide': True, 'rd_fr_ketone': True, 'rd_fr_ketone_Topliss': True, 'rd_fr_lactone': True, 'rd_fr_methoxy': True, 'rd_fr_morpholine': True, 'rd_fr_nitro_arom': True, 'rd_fr_nitro_arom_nonortho': False, 'rd_fr_oxazole': True, 'rd_fr_oxime': True, 'rd_fr_para_hydroxylation': True, 'rd_fr_phenol_noOrthoHbond': True, 'rd_fr_piperdine': True, 'rd_fr_piperzine': True, 'rd_fr_priamide': True, 'rd_fr_pyridine': False, 'rd_fr_sulfide': False, 'rd_fr_sulfonamd': True, 'rd_fr_sulfone': True, 'rd_fr_tetrazole': True, 'rd_fr_thiazole': True, 'rd_fr_thiophene': True, 'rd_fr_unbrch_alkane': True, 'rd_fr_urea': True, 'rd_qed': True, 'md_nAcid': True, 'md_nBase': True, 'md_SpMax_A': True, 'md_SpDiam_A': True, 'md_SpMAD_A': False, 'md_VE1_A': True, 'md_VE2_A': False, 'md_VR2_A': False, 'md_VR3_A': True, 'md_nSpiro': True, 'md_nBridgehead': True, 'md_nS': True, 'md_nX': True, 'md_ATS1dv': True, 'md_ATS2dv': False, 'md_ATS3dv': True, 'md_ATS7dv': True, 'md_ATS2s': True, 'md_ATS3s': True, 'md_ATS4s': True, 'md_ATS5s': True, 'md_ATS6s': True, 'md_ATS7s': True, 'md_ATS8s': True, 'md_ATS0Z': False, 'md_ATS4m': True, 'md_ATS8m': True, 'md_ATS7i': True, 'md_AATS1dv': True, 'md_AATS2dv': False, 'md_AATS3dv': True, 'md_AATS4dv': False, 'md_AATS5dv': False, 'md_AATS6dv': True, 'md_AATS7dv': True, 'md_AATS8dv': True, 'md_AATS0d': True, 'md_AATS2d': True, 'md_AATS3d': False, 'md_AATS4d': True, 'md_AATS5d': True, 'md_AATS6d': True, 'md_AATS7d': True, 'md_AATS8d': True, 'md_AATS1s': False, 'md_AATS2s': True, 'md_AATS3s': True, 'md_AATS4s': True, 'md_AATS5s': True, 'md_AATS6s': True, 'md_AATS7s': True, 'md_AATS8s': True, 'md_AATS5Z': False, 'md_AATS1m': True, 'md_AATS3m': True, 'md_AATS4m': True, 'md_AATS6m': True, 'md_AATS7m': False, 'md_AATS8m': True, 'md_AATS3v': False, 'md_AATS4v': True, 'md_AATS5v': True, 'md_AATS6v': True, 'md_AATS7v': True, 'md_AATS8v': True, 'md_AATS6pe': True, 'md_AATS3are': True, 'md_AATS4are': True, 'md_AATS5are': False, 'md_AATS7are': True, 'md_AATS8are': False, 'md_AATS0p': False, 'md_AATS1p': True, 'md_AATS3p': True, 'md_AATS4p': True, 'md_AATS5p': True, 'md_AATS6p': True, 'md_AATS7p': True, 'md_AATS8p': True, 'md_AATS1i': True, 'md_AATS2i': True, 'md_AATS3i': True, 'md_AATS4i': True, 'md_AATS5i': True, 'md_AATS6i': True, 'md_AATS7i': False, 'md_AATS8i': True, 'md_ATSC0c': True, 'md_ATSC1c': True, 'md_ATSC2c': True, 'md_ATSC3c': False, 'md_ATSC4c': False, 'md_ATSC5c': True, 'md_ATSC6c': True, 'md_ATSC7c': True, 'md_ATSC8c': True, 'md_ATSC0dv': False, 'md_ATSC1dv': True, 'md_ATSC2dv': False, 'md_ATSC3dv': True, 'md_ATSC4dv': False, 'md_ATSC5dv': True, 'md_ATSC6dv': True, 'md_ATSC7dv': True, 'md_ATSC8dv': True, 'md_ATSC0d': True, 'md_ATSC1d': True, 'md_ATSC3d': True, 'md_ATSC4d': False, 'md_ATSC5d': True, 'md_ATSC6d': True, 'md_ATSC7d': True, 'md_ATSC8d': True, 'md_ATSC0s': True, 'md_ATSC4s': True, 'md_ATSC5s': True, 'md_ATSC6s': True, 'md_ATSC7s': True, 'md_ATSC8s': False, 'md_ATSC2Z': True, 'md_ATSC3Z': False, 'md_ATSC7Z': True, 'md_ATSC0m': True, 'md_ATSC4m': True, 'md_ATSC5m': True, 'md_ATSC6m': False, 'md_ATSC8m': True, 'md_ATSC3v': True, 'md_ATSC4v': False, 'md_ATSC5v': True, 'md_ATSC6v': True, 'md_ATSC7v': True, 'md_ATSC8v': True, 'md_ATSC0are': False, 'md_ATSC4are': True, 'md_ATSC5are': True, 'md_ATSC6are': False, 'md_ATSC7are': True, 'md_ATSC8are': True, 'md_ATSC0p': True, 'md_ATSC3p': False, 'md_ATSC4p': True, 'md_ATSC5p': True, 'md_ATSC6p': False, 'md_ATSC7p': True, 'md_ATSC8p': True, 'md_ATSC0i': True, 'md_ATSC1i': True, 'md_ATSC2i': True, 'md_ATSC3i': False, 'md_ATSC4i': True, 'md_ATSC5i': False, 'md_ATSC6i': False, 'md_ATSC7i': True, 'md_ATSC8i': True, 'md_AATSC0c': True, 'md_AATSC1c': False, 'md_AATSC4c': False, 'md_AATSC5c': False, 'md_AATSC0dv': True, 'md_AATSC1dv': True, 'md_AATSC2dv': True, 'md_AATSC3dv': True, 'md_AATSC5dv': True, 'md_AATSC6dv': True, 'md_AATSC7dv': True, 'md_AATSC0d': True, 'md_AATSC1d': True, 'md_AATSC4d': True, 'md_AATSC5d': False, 'md_AATSC6d': True, 'md_AATSC7d': False, 'md_AATSC8d': False, 'md_AATSC0s': True, 'md_AATSC1s': True, 'md_AATSC2s': True, 'md_AATSC3s': False, 'md_AATSC4s': True, 'md_AATSC5s': True, 'md_AATSC6s': True, 'md_AATSC7s': True, 'md_AATSC8s': True, 'md_AATSC2Z': True, 'md_AATSC3Z': True, 'md_AATSC7Z': False, 'md_AATSC0m': False, 'md_AATSC1m': True, 'md_AATSC4m': False, 'md_AATSC5m': True, 'md_AATSC6m': False, 'md_AATSC8m': False, 'md_AATSC0v': True, 'md_AATSC3v': False, 'md_AATSC5v': True, 'md_AATSC6v': False, 'md_AATSC1se': True, 'md_AATSC3pe': False, 'md_AATSC6pe': True, 'md_AATSC0are': True, 'md_AATSC1are': True, 'md_AATSC2are': True, 'md_AATSC4are': True, 'md_AATSC5are': True, 'md_AATSC7are': True, 'md_AATSC8are': True, 'md_AATSC0p': True, 'md_AATSC4p': False, 'md_AATSC7p': True, 'md_AATSC0i': True, 'md_AATSC3i': True, 'md_AATSC4i': True, 'md_AATSC5i': True, 'md_AATSC8i': False, 'md_MATS1c': False, 'md_MATS2c': True, 'md_MATS3c': True, 'md_MATS4c': True, 'md_MATS5c': True, 'md_MATS6c': True, 'md_MATS7c': True, 'md_MATS8c': False, 'md_MATS4dv': True, 'md_MATS8dv': True, 'md_MATS2d': True, 'md_MATS3d': False, 'md_MATS1s': True, 'md_MATS2s': True, 'md_MATS3s': True, 'md_MATS4s': True, 'md_MATS5s': False, 'md_MATS6s': True, 'md_MATS7s': True, 'md_MATS8s': True, 'md_MATS2Z': True, 'md_MATS3Z': True, 'md_MATS5Z': True, 'md_MATS1m': False, 'md_MATS4m': True, 'md_MATS6m': True, 'md_MATS7m': True, 'md_MATS8m': False, 'md_MATS1v': True, 'md_MATS2v': True, 'md_MATS4v': True, 'md_MATS7v': True, 'md_MATS8v': False, 'md_MATS1se': False, 'md_MATS3se': True, 'md_MATS2pe': True, 'md_MATS1are': False, 'md_MATS4are': False, 'md_MATS5are': True, 'md_MATS6are': True, 'md_MATS7are': False, 'md_MATS8are': True, 'md_MATS1p': False, 'md_MATS2p': True, 'md_MATS3p': True, 'md_MATS5p': True, 'md_MATS6p': False, 'md_MATS8p': True, 'md_MATS1i': True, 'md_MATS2i': True, 'md_MATS4i': False, 'md_MATS6i': True, 'md_MATS7i': True, 'md_GATS1c': False, 'md_GATS2c': False, 'md_GATS3c': True, 'md_GATS4c': False, 'md_GATS5c': True, 'md_GATS6c': True, 'md_GATS7c': True, 'md_GATS8c': True, 'md_GATS1dv': True, 'md_GATS2dv': True, 'md_GATS3dv': False, 'md_GATS4dv': True, 'md_GATS5dv': True, 'md_GATS6dv': False, 'md_GATS7dv': True, 'md_GATS8dv': True, 'md_GATS1d': True, 'md_GATS2d': False, 'md_GATS3d': False, 'md_GATS4d': True, 'md_GATS5d': True, 'md_GATS6d': False, 'md_GATS7d': False, 'md_GATS8d': True, 'md_GATS1s': True, 'md_GATS2s': True, 'md_GATS3s': True, 'md_GATS4s': True, 'md_GATS5s': True, 'md_GATS6s': True, 'md_GATS7s': False, 'md_GATS8s': True, 'md_GATS3Z': True, 'md_GATS7Z': True, 'md_GATS1m': False, 'md_GATS2m': True, 'md_GATS4m': True, 'md_GATS5m': True, 'md_GATS6m': True, 'md_GATS8m': True, 'md_GATS1v': False, 'md_GATS2v': False, 'md_GATS3v': False, 'md_GATS4v': False, 'md_GATS5v': True, 'md_GATS6v': True, 'md_GATS7v': True, 'md_GATS8v': True, 'md_GATS1se': True, 'md_GATS1pe': True, 'md_GATS3pe': True, 'md_GATS2are': False, 'md_GATS4are': False, 'md_GATS5are': True, 'md_GATS6are': True, 'md_GATS7are': True, 'md_GATS8are': True, 'md_GATS1p': True, 'md_GATS2p': True, 'md_GATS3p': False, 'md_GATS4p': True, 'md_GATS5p': False, 'md_GATS6p': True, 'md_GATS7p': True, 'md_GATS8p': True, 'md_GATS1i': True, 'md_GATS2i': True, 'md_GATS3i': True, 'md_GATS4i': False, 'md_GATS5i': True, 'md_GATS6i': True, 'md_GATS7i': False, 'md_GATS8i': False, 'md_BCUTc-1h': True, 'md_BCUTc-1l': True, 'md_BCUTdv-1h': True, 'md_BCUTdv-1l': False, 'md_BCUTd-1h': False, 'md_BCUTd-1l': False, 'md_BCUTs-1h': False, 'md_BCUTs-1l': True, 'md_BCUTm-1h': True, 'md_BCUTare-1l': False, 'md_BCUTp-1h': True, 'md_BCUTp-1l': True, 'md_BCUTi-1h': True, 'md_BCUTi-1l': False, 'md_BalabanJ': True, 'md_SM1_Dzm': False, 'md_SM1_Dzv': False, 'md_SpMAD_Dzp': False, 'md_SM1_Dzi': True, 'md_nBondsD': True, 'md_nBondsA': True, 'md_RNCG': True, 'md_RPCG': True, 'md_C1SP1': True, 'md_C2SP1': True, 'md_C1SP2': True, 'md_C2SP2': True, 'md_C3SP2': True, 'md_C1SP3': False, 'md_C2SP3': True, 'md_C3SP3': True, 'md_C4SP3': True, 'md_Xch-5d': True, 'md_Xch-6d': True, 'md_Xch-7d': True, 'md_Xch-4dv': True, 'md_Xch-5dv': True, 'md_Xch-6dv': True, 'md_Xch-7dv': False, 'md_Xc-4d': True, 'md_Xc-5d': False, 'md_Xc-6d': True, 'md_Xc-3dv': True, 'md_Xc-4dv': False, 'md_Xc-5dv': True, 'md_Xc-6dv': True, 'md_Xpc-6d': True, 'md_Xpc-6dv': True, 'md_AXp-0d': True, 'md_AXp-1d': True, 'md_AXp-2d': True, 'md_AXp-3d': True, 'md_AXp-4d': True, 'md_AXp-5d': True, 'md_AXp-7d': True, 'md_Xp-2dv': False, 'md_Xp-7dv': True, 'md_AXp-0dv': True, 'md_AXp-1dv': False, 'md_AXp-6dv': True, 'md_Mm': True, 'md_Mv': True, 'md_Mi': False, 'md_SpMAD_Dt': True, 'md_LogEE_Dt': False, 'md_NsCH3': False, 'md_NssCH2': False, 'md_NdsCH': True, 'md_NsssCH': True, 'md_NtsC': True, 'md_NdssC': True, 'md_NaasC': False, 'md_NaaaC': False, 'md_NssssC': True, 'md_NaaNH': False, 'md_NtN': True, 'md_NaaN': False, 'md_NaasN': False, 'md_NaaO': False, 'md_NdsssP': True, 'md_NdS': True, 'md_NddssS': True, 'md_NsBr': True, 'md_SdCH2': True, 'md_SssCH2': True, 'md_StCH': True, 'md_SaaCH': False, 'md_SsssCH': True, 'md_SdssC': True, 'md_SaasC': True, 'md_SaaaC': True, 'md_SssssC': False, 'md_SsNH2': False, 'md_SdNH': True, 'md_SssNH': True, 'md_SdsN': True, 'md_SsssN': True, 'md_SddsN': True, 'md_SsOH': True, 'md_SdO': True, 'md_SssO': True, 'md_SsF': True, 'md_SssS': True, 'md_SaaS': True, 'md_SsI': True, 'md_AETA_alpha': False, 'md_ETA_shape_p': False, 'md_ETA_shape_y': True, 'md_ETA_shape_x': True, 'md_AETA_beta': True, 'md_AETA_beta_s': True, 'md_ETA_beta_ns': False, 'md_ETA_beta_ns_d': False, 'md_AETA_beta_ns_d': True, 'md_AETA_eta': True, 'md_ETA_eta_L': True, 'md_AETA_eta_R': False, 'md_AETA_eta_F': True, 'md_ETA_eta_FL': True, 'md_ETA_eta_B': True, 'md_AETA_eta_BR': True, 'md_ETA_dAlpha_A': False, 'md_ETA_dAlpha_B': True, 'md_ETA_epsilon_2': True, 'md_ETA_epsilon_3': True, 'md_ETA_epsilon_4': True, 'md_ETA_epsilon_5': False, 'md_ETA_dEpsilon_A': True, 'md_ETA_dEpsilon_B': True, 'md_ETA_dEpsilon_D': False, 'md_ETA_dBeta': True, 'md_ETA_dPsi_A': True, 'md_ETA_dPsi_B': False, 'md_fragCpx': True, 'md_fMF': True, 'md_nHBAcc': False, 'md_nHBDon': True, 'md_IC0': True, 'md_IC1': True, 'md_IC2': False, 'md_IC3': True, 'md_IC5': True, 'md_BIC0': False, 'md_BIC1': True, 'md_BIC2': False, 'md_BIC3': True, 'md_BIC4': True, 'md_CIC0': False, 'md_CIC1': True, 'md_CIC2': True, 'md_CIC3': True, 'md_CIC5': True, 'md_MIC0': True, 'md_MIC1': True, 'md_MIC3': True, 'md_ZMIC1': False, 'md_ZMIC2': False, 'md_ZMIC5': True, 'md_Lipinski': True, 'md_GhoseFilter': True, 'md_FilterItLogS': True, 'md_PEOE_VSA3': True, 'md_PEOE_VSA4': True, 'md_PEOE_VSA5': True, 'md_PEOE_VSA6': True, 'md_PEOE_VSA7': False, 'md_PEOE_VSA8': False, 'md_SMR_VSA1': True, 'md_SMR_VSA2': True, 'md_SMR_VSA3': True, 'md_SMR_VSA9': True, 'md_SlogP_VSA1': False, 'md_SlogP_VSA2': True, 'md_SlogP_VSA3': False, 'md_SlogP_VSA5': True, 'md_SlogP_VSA6': True, 'md_SlogP_VSA7': True, 'md_SlogP_VSA8': True, 'md_SlogP_VSA10': False, 'md_SlogP_VSA11': True, 'md_EState_VSA1': True, 'md_EState_VSA9': True, 'md_VSA_EState3': True, 'md_VSA_EState4': True, 'md_VSA_EState5': False, 'md_VSA_EState6': True, 'md_VSA_EState7': True, 'md_MID_h': True, 'md_AMID_h': True, 'md_MID_C': True, 'md_MID_N': True, 'md_AMID_N': True, 'md_MID_O': True, 'md_AMID_O': True, 'md_TMPC10': True, 'md_TpiPC10': False, 'md_bpol': True, 'md_n4Ring': True, 'md_n6Ring': True, 'md_n7Ring': True, 'md_nHRing': True, 'md_n5HRing': True, 'md_n6HRing': True, 'md_nG12HRing': True, 'md_n6aRing': False, 'md_n7aRing': False, 'md_n5aHRing': True, 'md_n6aHRing': True, 'md_nARing': False, 'md_n5ARing': True, 'md_n6ARing': True, 'md_n8ARing': True, 'md_n9ARing': True, 'md_n10ARing': True, 'md_nAHRing': False, 'md_n3AHRing': True, 'md_n4AHRing': True, 'md_n5AHRing': False, 'md_n6AHRing': True, 'md_n7AHRing': True, 'md_n8AHRing': False, 'md_nFRing': False, 'md_n9FRing': True, 'md_n10FRing': True, 'md_n6FHRing': True, 'md_n7FHRing': True, 'md_n8FHRing': False, 'md_n10FHRing': True, 'md_n12FHRing': True, 'md_nG12FHRing': True, 'md_nFaRing': False, 'md_n8FaRing': True, 'md_n9FaRing': True, 'md_n10FaRing': True, 'md_n10FaHRing': True, 'md_n12FaHRing': False, 'md_nG12FaHRing': True, 'md_n12FARing': True, 'md_nFAHRing': True, 'md_n8FAHRing': True, 'md_n9FAHRing': True, 'md_n10FAHRing': True, 'md_n11FAHRing': False, 'md_nG12FAHRing': True, 'md_RotRatio': True, 'md_TopoPSA(NO)': True, 'md_TopoPSA': True, 'md_GGI1': True, 'md_GGI2': True, 'md_GGI3': True, 'md_GGI4': True, 'md_GGI5': True, 'md_GGI6': True, 'md_GGI7': True, 'md_GGI8': False, 'md_GGI9': True, 'md_GGI10': False, 'md_JGI1': True, 'md_JGI2': True, 'md_JGI3': True, 'md_JGI4': True, 'md_JGI5': True, 'md_JGI6': True, 'md_JGI7': False, 'md_JGI8': True, 'md_JGI9': False, 'md_JGI10': True, 'md_JGT10': False, 'md_Radius': False, 'md_PetitjeanIndex': True, 'md_SRW03': True, 'md_SRW09': True, 'md_TSRW10': True, 'md_MW': True, 'md_WPath': False, 'md_Zagreb2': True, 'md_mZagreb1': True, 'md_mZagreb2': True, 'gin_0': True, 'gin_1': True, 'gin_2': True, 'gin_3': True, 'gin_4': True, 'gin_5': True, 'gin_6': True, 'gin_7': True, 'gin_8': True, 'gin_9': True, 'gin_10': True, 'gin_11': False, 'gin_12': True, 'gin_13': True, 'gin_14': True, 'gin_15': False, 'gin_16': True, 'gin_17': True, 'gin_18': True, 'gin_19': True, 'gin_20': True, 'gin_21': False, 'gin_22': False, 'gin_23': False, 'gin_24': True, 'gin_25': False, 'gin_26': True, 'gin_27': False, 'gin_28': False, 'gin_29': True, 'gin_30': True, 'gin_31': False, 'gin_32': True, 'gin_33': True, 'gin_34': True, 'gin_35': True, 'gin_36': False, 'gin_37': True, 'gin_38': True, 'gin_39': False, 'gin_40': False, 'gin_41': True, 'gin_42': True, 'gin_43': False} because of the following error: KeyboardInterrupt().\n",
      "Traceback (most recent call last):\n",
      "  File \"/home/ergot/miniforge3/envs/ml/lib/python3.10/site-packages/optuna/study/_optimize.py\", line 197, in _run_trial\n",
      "    value_or_values = func(trial)\n",
      "  File \"/tmp/ipykernel_748250/30647530.py\", line 50, in __call__\n",
      "    selected_features = [trial.suggest_categorical(name, [True, False]) for name in self.features]\n",
      "  File \"/tmp/ipykernel_748250/30647530.py\", line 50, in <listcomp>\n",
      "    selected_features = [trial.suggest_categorical(name, [True, False]) for name in self.features]\n",
      "  File \"/home/ergot/miniforge3/envs/ml/lib/python3.10/site-packages/optuna/trial/_trial.py\", line 402, in suggest_categorical\n",
      "    return self._suggest(name, CategoricalDistribution(choices=choices))\n",
      "  File \"/home/ergot/miniforge3/envs/ml/lib/python3.10/site-packages/optuna/trial/_trial.py\", line 637, in _suggest\n",
      "    storage.set_trial_param(trial_id, name, param_value_in_internal_repr, distribution)\n",
      "  File \"/home/ergot/miniforge3/envs/ml/lib/python3.10/site-packages/optuna/storages/_cached_storage.py\", line 167, in set_trial_param\n",
      "    self._backend.set_trial_param(trial_id, param_name, param_value_internal, distribution)\n",
      "  File \"/home/ergot/miniforge3/envs/ml/lib/python3.10/site-packages/optuna/storages/_rdb/storage.py\", line 575, in set_trial_param\n",
      "    with _create_scoped_session(self.scoped_session, True) as session:\n",
      "  File \"/home/ergot/miniforge3/envs/ml/lib/python3.10/contextlib.py\", line 142, in __exit__\n",
      "    next(self.gen)\n",
      "  File \"/home/ergot/miniforge3/envs/ml/lib/python3.10/site-packages/optuna/storages/_rdb/storage.py\", line 76, in _create_scoped_session\n",
      "    session.commit()\n",
      "  File \"/home/ergot/miniforge3/envs/ml/lib/python3.10/site-packages/sqlalchemy/orm/session.py\", line 2028, in commit\n",
      "    trans.commit(_to_root=True)\n",
      "  File \"<string>\", line 2, in commit\n",
      "  File \"/home/ergot/miniforge3/envs/ml/lib/python3.10/site-packages/sqlalchemy/orm/state_changes.py\", line 139, in _go\n",
      "    ret_value = fn(self, *arg, **kw)\n",
      "  File \"/home/ergot/miniforge3/envs/ml/lib/python3.10/site-packages/sqlalchemy/orm/session.py\", line 1313, in commit\n",
      "    self._prepare_impl()\n",
      "  File \"<string>\", line 2, in _prepare_impl\n",
      "  File \"/home/ergot/miniforge3/envs/ml/lib/python3.10/site-packages/sqlalchemy/orm/state_changes.py\", line 139, in _go\n",
      "    ret_value = fn(self, *arg, **kw)\n",
      "  File \"/home/ergot/miniforge3/envs/ml/lib/python3.10/site-packages/sqlalchemy/orm/session.py\", line 1288, in _prepare_impl\n",
      "    self.session.flush()\n",
      "  File \"/home/ergot/miniforge3/envs/ml/lib/python3.10/site-packages/sqlalchemy/orm/session.py\", line 4352, in flush\n",
      "    self._flush(objects)\n",
      "  File \"/home/ergot/miniforge3/envs/ml/lib/python3.10/site-packages/sqlalchemy/orm/session.py\", line 4487, in _flush\n",
      "    with util.safe_reraise():\n",
      "  File \"/home/ergot/miniforge3/envs/ml/lib/python3.10/site-packages/sqlalchemy/util/langhelpers.py\", line 146, in __exit__\n",
      "    raise exc_value.with_traceback(exc_tb)\n",
      "  File \"/home/ergot/miniforge3/envs/ml/lib/python3.10/site-packages/sqlalchemy/orm/session.py\", line 4448, in _flush\n",
      "    flush_context.execute()\n",
      "  File \"/home/ergot/miniforge3/envs/ml/lib/python3.10/site-packages/sqlalchemy/orm/unitofwork.py\", line 466, in execute\n",
      "    rec.execute(self)\n",
      "  File \"/home/ergot/miniforge3/envs/ml/lib/python3.10/site-packages/sqlalchemy/orm/unitofwork.py\", line 642, in execute\n",
      "    util.preloaded.orm_persistence.save_obj(\n",
      "  File \"/home/ergot/miniforge3/envs/ml/lib/python3.10/site-packages/sqlalchemy/orm/persistence.py\", line 93, in save_obj\n",
      "    _emit_insert_statements(\n",
      "  File \"/home/ergot/miniforge3/envs/ml/lib/python3.10/site-packages/sqlalchemy/orm/persistence.py\", line 1233, in _emit_insert_statements\n",
      "    result = connection.execute(\n",
      "  File \"/home/ergot/miniforge3/envs/ml/lib/python3.10/site-packages/sqlalchemy/engine/base.py\", line 1418, in execute\n",
      "    return meth(\n",
      "  File \"/home/ergot/miniforge3/envs/ml/lib/python3.10/site-packages/sqlalchemy/sql/elements.py\", line 515, in _execute_on_connection\n",
      "    return connection._execute_clauseelement(\n",
      "  File \"/home/ergot/miniforge3/envs/ml/lib/python3.10/site-packages/sqlalchemy/engine/base.py\", line 1640, in _execute_clauseelement\n",
      "    ret = self._execute_context(\n",
      "  File \"/home/ergot/miniforge3/envs/ml/lib/python3.10/site-packages/sqlalchemy/engine/base.py\", line 1846, in _execute_context\n",
      "    return self._exec_single_context(\n",
      "  File \"/home/ergot/miniforge3/envs/ml/lib/python3.10/site-packages/sqlalchemy/engine/base.py\", line 1986, in _exec_single_context\n",
      "    self._handle_dbapi_exception(\n",
      "  File \"/home/ergot/miniforge3/envs/ml/lib/python3.10/site-packages/sqlalchemy/engine/base.py\", line 2358, in _handle_dbapi_exception\n",
      "    raise exc_info[1].with_traceback(exc_info[2])\n",
      "  File \"/home/ergot/miniforge3/envs/ml/lib/python3.10/site-packages/sqlalchemy/engine/base.py\", line 1967, in _exec_single_context\n",
      "    self.dialect.do_execute(\n",
      "  File \"/home/ergot/miniforge3/envs/ml/lib/python3.10/site-packages/sqlalchemy/engine/default.py\", line 941, in do_execute\n",
      "    cursor.execute(statement, parameters)\n",
      "KeyboardInterrupt\n",
      "[W 2024-09-06 15:11:21,919] Trial 32 failed with value None.\n"
     ]
    },
    {
     "ename": "KeyboardInterrupt",
     "evalue": "",
     "output_type": "error",
     "traceback": [
      "\u001B[0;31m---------------------------------------------------------------------------\u001B[0m",
      "\u001B[0;31mKeyboardInterrupt\u001B[0m                         Traceback (most recent call last)",
      "Cell \u001B[0;32mIn[9], line 3\u001B[0m\n\u001B[1;32m      1\u001B[0m optuna\u001B[38;5;241m.\u001B[39mlogging\u001B[38;5;241m.\u001B[39mset_verbosity(optuna\u001B[38;5;241m.\u001B[39mlogging\u001B[38;5;241m.\u001B[39mWARN)\n\u001B[0;32m----> 3\u001B[0m \u001B[43mstudy\u001B[49m\u001B[38;5;241;43m.\u001B[39;49m\u001B[43moptimize\u001B[49m\u001B[43m(\u001B[49m\u001B[43mFeatureSelectionOptuna\u001B[49m\u001B[43m(\u001B[49m\n\u001B[1;32m      4\u001B[0m \u001B[43m                         \u001B[49m\u001B[43mmodel\u001B[49m\u001B[38;5;241;43m=\u001B[39;49m\u001B[43mmodel\u001B[49m\u001B[43m,\u001B[49m\n\u001B[1;32m      5\u001B[0m \u001B[43m                         \u001B[49m\u001B[43mfeatures\u001B[49m\u001B[38;5;241;43m=\u001B[39;49m\u001B[43mfeature_list\u001B[49m\u001B[43m,\u001B[49m\n\u001B[1;32m      6\u001B[0m \u001B[43m                         \u001B[49m\u001B[43mX\u001B[49m\u001B[38;5;241;43m=\u001B[39;49m\u001B[43mX_train\u001B[49m\u001B[43m,\u001B[49m\n\u001B[1;32m      7\u001B[0m \u001B[43m                         \u001B[49m\u001B[43my\u001B[49m\u001B[38;5;241;43m=\u001B[39;49m\u001B[43my_train\u001B[49m\u001B[43m,\u001B[49m\n\u001B[1;32m      8\u001B[0m \u001B[43m                         \u001B[49m\u001B[38;5;66;43;03m# feat_count_penalty = 1e-4,  \u001B[39;49;00m\n\u001B[1;32m      9\u001B[0m \u001B[43m                         \u001B[49m\u001B[43m)\u001B[49m\u001B[43m,\u001B[49m\u001B[43m \u001B[49m\u001B[43mn_trials\u001B[49m\u001B[38;5;241;43m=\u001B[39;49m\u001B[38;5;241;43m4096\u001B[39;49m\u001B[43m,\u001B[49m\u001B[43m \u001B[49m\u001B[43mshow_progress_bar\u001B[49m\u001B[38;5;241;43m=\u001B[39;49m\u001B[38;5;28;43;01mTrue\u001B[39;49;00m\u001B[43m)\u001B[49m\n",
      "File \u001B[0;32m~/miniforge3/envs/ml/lib/python3.10/site-packages/optuna/study/study.py:475\u001B[0m, in \u001B[0;36mStudy.optimize\u001B[0;34m(self, func, n_trials, timeout, n_jobs, catch, callbacks, gc_after_trial, show_progress_bar)\u001B[0m\n\u001B[1;32m    373\u001B[0m \u001B[38;5;28;01mdef\u001B[39;00m \u001B[38;5;21moptimize\u001B[39m(\n\u001B[1;32m    374\u001B[0m     \u001B[38;5;28mself\u001B[39m,\n\u001B[1;32m    375\u001B[0m     func: ObjectiveFuncType,\n\u001B[0;32m   (...)\u001B[0m\n\u001B[1;32m    382\u001B[0m     show_progress_bar: \u001B[38;5;28mbool\u001B[39m \u001B[38;5;241m=\u001B[39m \u001B[38;5;28;01mFalse\u001B[39;00m,\n\u001B[1;32m    383\u001B[0m ) \u001B[38;5;241m-\u001B[39m\u001B[38;5;241m>\u001B[39m \u001B[38;5;28;01mNone\u001B[39;00m:\n\u001B[1;32m    384\u001B[0m \u001B[38;5;250m    \u001B[39m\u001B[38;5;124;03m\"\"\"Optimize an objective function.\u001B[39;00m\n\u001B[1;32m    385\u001B[0m \n\u001B[1;32m    386\u001B[0m \u001B[38;5;124;03m    Optimization is done by choosing a suitable set of hyperparameter values from a given\u001B[39;00m\n\u001B[0;32m   (...)\u001B[0m\n\u001B[1;32m    473\u001B[0m \u001B[38;5;124;03m            If nested invocation of this method occurs.\u001B[39;00m\n\u001B[1;32m    474\u001B[0m \u001B[38;5;124;03m    \"\"\"\u001B[39;00m\n\u001B[0;32m--> 475\u001B[0m     \u001B[43m_optimize\u001B[49m\u001B[43m(\u001B[49m\n\u001B[1;32m    476\u001B[0m \u001B[43m        \u001B[49m\u001B[43mstudy\u001B[49m\u001B[38;5;241;43m=\u001B[39;49m\u001B[38;5;28;43mself\u001B[39;49m\u001B[43m,\u001B[49m\n\u001B[1;32m    477\u001B[0m \u001B[43m        \u001B[49m\u001B[43mfunc\u001B[49m\u001B[38;5;241;43m=\u001B[39;49m\u001B[43mfunc\u001B[49m\u001B[43m,\u001B[49m\n\u001B[1;32m    478\u001B[0m \u001B[43m        \u001B[49m\u001B[43mn_trials\u001B[49m\u001B[38;5;241;43m=\u001B[39;49m\u001B[43mn_trials\u001B[49m\u001B[43m,\u001B[49m\n\u001B[1;32m    479\u001B[0m \u001B[43m        \u001B[49m\u001B[43mtimeout\u001B[49m\u001B[38;5;241;43m=\u001B[39;49m\u001B[43mtimeout\u001B[49m\u001B[43m,\u001B[49m\n\u001B[1;32m    480\u001B[0m \u001B[43m        \u001B[49m\u001B[43mn_jobs\u001B[49m\u001B[38;5;241;43m=\u001B[39;49m\u001B[43mn_jobs\u001B[49m\u001B[43m,\u001B[49m\n\u001B[1;32m    481\u001B[0m \u001B[43m        \u001B[49m\u001B[43mcatch\u001B[49m\u001B[38;5;241;43m=\u001B[39;49m\u001B[38;5;28;43mtuple\u001B[39;49m\u001B[43m(\u001B[49m\u001B[43mcatch\u001B[49m\u001B[43m)\u001B[49m\u001B[43m \u001B[49m\u001B[38;5;28;43;01mif\u001B[39;49;00m\u001B[43m \u001B[49m\u001B[38;5;28;43misinstance\u001B[39;49m\u001B[43m(\u001B[49m\u001B[43mcatch\u001B[49m\u001B[43m,\u001B[49m\u001B[43m \u001B[49m\u001B[43mIterable\u001B[49m\u001B[43m)\u001B[49m\u001B[43m \u001B[49m\u001B[38;5;28;43;01melse\u001B[39;49;00m\u001B[43m \u001B[49m\u001B[43m(\u001B[49m\u001B[43mcatch\u001B[49m\u001B[43m,\u001B[49m\u001B[43m)\u001B[49m\u001B[43m,\u001B[49m\n\u001B[1;32m    482\u001B[0m \u001B[43m        \u001B[49m\u001B[43mcallbacks\u001B[49m\u001B[38;5;241;43m=\u001B[39;49m\u001B[43mcallbacks\u001B[49m\u001B[43m,\u001B[49m\n\u001B[1;32m    483\u001B[0m \u001B[43m        \u001B[49m\u001B[43mgc_after_trial\u001B[49m\u001B[38;5;241;43m=\u001B[39;49m\u001B[43mgc_after_trial\u001B[49m\u001B[43m,\u001B[49m\n\u001B[1;32m    484\u001B[0m \u001B[43m        \u001B[49m\u001B[43mshow_progress_bar\u001B[49m\u001B[38;5;241;43m=\u001B[39;49m\u001B[43mshow_progress_bar\u001B[49m\u001B[43m,\u001B[49m\n\u001B[1;32m    485\u001B[0m \u001B[43m    \u001B[49m\u001B[43m)\u001B[49m\n",
      "File \u001B[0;32m~/miniforge3/envs/ml/lib/python3.10/site-packages/optuna/study/_optimize.py:63\u001B[0m, in \u001B[0;36m_optimize\u001B[0;34m(study, func, n_trials, timeout, n_jobs, catch, callbacks, gc_after_trial, show_progress_bar)\u001B[0m\n\u001B[1;32m     61\u001B[0m \u001B[38;5;28;01mtry\u001B[39;00m:\n\u001B[1;32m     62\u001B[0m     \u001B[38;5;28;01mif\u001B[39;00m n_jobs \u001B[38;5;241m==\u001B[39m \u001B[38;5;241m1\u001B[39m:\n\u001B[0;32m---> 63\u001B[0m         \u001B[43m_optimize_sequential\u001B[49m\u001B[43m(\u001B[49m\n\u001B[1;32m     64\u001B[0m \u001B[43m            \u001B[49m\u001B[43mstudy\u001B[49m\u001B[43m,\u001B[49m\n\u001B[1;32m     65\u001B[0m \u001B[43m            \u001B[49m\u001B[43mfunc\u001B[49m\u001B[43m,\u001B[49m\n\u001B[1;32m     66\u001B[0m \u001B[43m            \u001B[49m\u001B[43mn_trials\u001B[49m\u001B[43m,\u001B[49m\n\u001B[1;32m     67\u001B[0m \u001B[43m            \u001B[49m\u001B[43mtimeout\u001B[49m\u001B[43m,\u001B[49m\n\u001B[1;32m     68\u001B[0m \u001B[43m            \u001B[49m\u001B[43mcatch\u001B[49m\u001B[43m,\u001B[49m\n\u001B[1;32m     69\u001B[0m \u001B[43m            \u001B[49m\u001B[43mcallbacks\u001B[49m\u001B[43m,\u001B[49m\n\u001B[1;32m     70\u001B[0m \u001B[43m            \u001B[49m\u001B[43mgc_after_trial\u001B[49m\u001B[43m,\u001B[49m\n\u001B[1;32m     71\u001B[0m \u001B[43m            \u001B[49m\u001B[43mreseed_sampler_rng\u001B[49m\u001B[38;5;241;43m=\u001B[39;49m\u001B[38;5;28;43;01mFalse\u001B[39;49;00m\u001B[43m,\u001B[49m\n\u001B[1;32m     72\u001B[0m \u001B[43m            \u001B[49m\u001B[43mtime_start\u001B[49m\u001B[38;5;241;43m=\u001B[39;49m\u001B[38;5;28;43;01mNone\u001B[39;49;00m\u001B[43m,\u001B[49m\n\u001B[1;32m     73\u001B[0m \u001B[43m            \u001B[49m\u001B[43mprogress_bar\u001B[49m\u001B[38;5;241;43m=\u001B[39;49m\u001B[43mprogress_bar\u001B[49m\u001B[43m,\u001B[49m\n\u001B[1;32m     74\u001B[0m \u001B[43m        \u001B[49m\u001B[43m)\u001B[49m\n\u001B[1;32m     75\u001B[0m     \u001B[38;5;28;01melse\u001B[39;00m:\n\u001B[1;32m     76\u001B[0m         \u001B[38;5;28;01mif\u001B[39;00m n_jobs \u001B[38;5;241m==\u001B[39m \u001B[38;5;241m-\u001B[39m\u001B[38;5;241m1\u001B[39m:\n",
      "File \u001B[0;32m~/miniforge3/envs/ml/lib/python3.10/site-packages/optuna/study/_optimize.py:160\u001B[0m, in \u001B[0;36m_optimize_sequential\u001B[0;34m(study, func, n_trials, timeout, catch, callbacks, gc_after_trial, reseed_sampler_rng, time_start, progress_bar)\u001B[0m\n\u001B[1;32m    157\u001B[0m         \u001B[38;5;28;01mbreak\u001B[39;00m\n\u001B[1;32m    159\u001B[0m \u001B[38;5;28;01mtry\u001B[39;00m:\n\u001B[0;32m--> 160\u001B[0m     frozen_trial \u001B[38;5;241m=\u001B[39m \u001B[43m_run_trial\u001B[49m\u001B[43m(\u001B[49m\u001B[43mstudy\u001B[49m\u001B[43m,\u001B[49m\u001B[43m \u001B[49m\u001B[43mfunc\u001B[49m\u001B[43m,\u001B[49m\u001B[43m \u001B[49m\u001B[43mcatch\u001B[49m\u001B[43m)\u001B[49m\n\u001B[1;32m    161\u001B[0m \u001B[38;5;28;01mfinally\u001B[39;00m:\n\u001B[1;32m    162\u001B[0m     \u001B[38;5;66;03m# The following line mitigates memory problems that can be occurred in some\u001B[39;00m\n\u001B[1;32m    163\u001B[0m     \u001B[38;5;66;03m# environments (e.g., services that use computing containers such as GitHub Actions).\u001B[39;00m\n\u001B[1;32m    164\u001B[0m     \u001B[38;5;66;03m# Please refer to the following PR for further details:\u001B[39;00m\n\u001B[1;32m    165\u001B[0m     \u001B[38;5;66;03m# https://github.com/optuna/optuna/pull/325.\u001B[39;00m\n\u001B[1;32m    166\u001B[0m     \u001B[38;5;28;01mif\u001B[39;00m gc_after_trial:\n",
      "File \u001B[0;32m~/miniforge3/envs/ml/lib/python3.10/site-packages/optuna/study/_optimize.py:248\u001B[0m, in \u001B[0;36m_run_trial\u001B[0;34m(study, func, catch)\u001B[0m\n\u001B[1;32m    241\u001B[0m         \u001B[38;5;28;01massert\u001B[39;00m \u001B[38;5;28;01mFalse\u001B[39;00m, \u001B[38;5;124m\"\u001B[39m\u001B[38;5;124mShould not reach.\u001B[39m\u001B[38;5;124m\"\u001B[39m\n\u001B[1;32m    243\u001B[0m \u001B[38;5;28;01mif\u001B[39;00m (\n\u001B[1;32m    244\u001B[0m     frozen_trial\u001B[38;5;241m.\u001B[39mstate \u001B[38;5;241m==\u001B[39m TrialState\u001B[38;5;241m.\u001B[39mFAIL\n\u001B[1;32m    245\u001B[0m     \u001B[38;5;129;01mand\u001B[39;00m func_err \u001B[38;5;129;01mis\u001B[39;00m \u001B[38;5;129;01mnot\u001B[39;00m \u001B[38;5;28;01mNone\u001B[39;00m\n\u001B[1;32m    246\u001B[0m     \u001B[38;5;129;01mand\u001B[39;00m \u001B[38;5;129;01mnot\u001B[39;00m \u001B[38;5;28misinstance\u001B[39m(func_err, catch)\n\u001B[1;32m    247\u001B[0m ):\n\u001B[0;32m--> 248\u001B[0m     \u001B[38;5;28;01mraise\u001B[39;00m func_err\n\u001B[1;32m    249\u001B[0m \u001B[38;5;28;01mreturn\u001B[39;00m frozen_trial\n",
      "File \u001B[0;32m~/miniforge3/envs/ml/lib/python3.10/site-packages/optuna/study/_optimize.py:197\u001B[0m, in \u001B[0;36m_run_trial\u001B[0;34m(study, func, catch)\u001B[0m\n\u001B[1;32m    195\u001B[0m \u001B[38;5;28;01mwith\u001B[39;00m get_heartbeat_thread(trial\u001B[38;5;241m.\u001B[39m_trial_id, study\u001B[38;5;241m.\u001B[39m_storage):\n\u001B[1;32m    196\u001B[0m     \u001B[38;5;28;01mtry\u001B[39;00m:\n\u001B[0;32m--> 197\u001B[0m         value_or_values \u001B[38;5;241m=\u001B[39m \u001B[43mfunc\u001B[49m\u001B[43m(\u001B[49m\u001B[43mtrial\u001B[49m\u001B[43m)\u001B[49m\n\u001B[1;32m    198\u001B[0m     \u001B[38;5;28;01mexcept\u001B[39;00m exceptions\u001B[38;5;241m.\u001B[39mTrialPruned \u001B[38;5;28;01mas\u001B[39;00m e:\n\u001B[1;32m    199\u001B[0m         \u001B[38;5;66;03m# TODO(mamu): Handle multi-objective cases.\u001B[39;00m\n\u001B[1;32m    200\u001B[0m         state \u001B[38;5;241m=\u001B[39m TrialState\u001B[38;5;241m.\u001B[39mPRUNED\n",
      "Cell \u001B[0;32mIn[6], line 50\u001B[0m, in \u001B[0;36mFeatureSelectionOptuna.__call__\u001B[0;34m(self, trial)\u001B[0m\n\u001B[1;32m     46\u001B[0m \u001B[38;5;28;01mdef\u001B[39;00m \u001B[38;5;21m__call__\u001B[39m(\u001B[38;5;28mself\u001B[39m,\n\u001B[1;32m     47\u001B[0m              trial: optuna\u001B[38;5;241m.\u001B[39mtrial\u001B[38;5;241m.\u001B[39mTrial):\n\u001B[1;32m     48\u001B[0m \n\u001B[1;32m     49\u001B[0m     \u001B[38;5;66;03m# Select True / False for each feature\u001B[39;00m\n\u001B[0;32m---> 50\u001B[0m     selected_features \u001B[38;5;241m=\u001B[39m [trial\u001B[38;5;241m.\u001B[39msuggest_categorical(name, [\u001B[38;5;28;01mTrue\u001B[39;00m, \u001B[38;5;28;01mFalse\u001B[39;00m]) \u001B[38;5;28;01mfor\u001B[39;00m name \u001B[38;5;129;01min\u001B[39;00m \u001B[38;5;28mself\u001B[39m\u001B[38;5;241m.\u001B[39mfeatures]\n\u001B[1;32m     52\u001B[0m     \u001B[38;5;66;03m# List with names of selected features\u001B[39;00m\n\u001B[1;32m     53\u001B[0m     selected_feature_names \u001B[38;5;241m=\u001B[39m [name \u001B[38;5;28;01mfor\u001B[39;00m name, selected \u001B[38;5;129;01min\u001B[39;00m \u001B[38;5;28mzip\u001B[39m(\u001B[38;5;28mself\u001B[39m\u001B[38;5;241m.\u001B[39mfeatures, selected_features) \u001B[38;5;28;01mif\u001B[39;00m selected]\n",
      "Cell \u001B[0;32mIn[6], line 50\u001B[0m, in \u001B[0;36m<listcomp>\u001B[0;34m(.0)\u001B[0m\n\u001B[1;32m     46\u001B[0m \u001B[38;5;28;01mdef\u001B[39;00m \u001B[38;5;21m__call__\u001B[39m(\u001B[38;5;28mself\u001B[39m,\n\u001B[1;32m     47\u001B[0m              trial: optuna\u001B[38;5;241m.\u001B[39mtrial\u001B[38;5;241m.\u001B[39mTrial):\n\u001B[1;32m     48\u001B[0m \n\u001B[1;32m     49\u001B[0m     \u001B[38;5;66;03m# Select True / False for each feature\u001B[39;00m\n\u001B[0;32m---> 50\u001B[0m     selected_features \u001B[38;5;241m=\u001B[39m [\u001B[43mtrial\u001B[49m\u001B[38;5;241;43m.\u001B[39;49m\u001B[43msuggest_categorical\u001B[49m\u001B[43m(\u001B[49m\u001B[43mname\u001B[49m\u001B[43m,\u001B[49m\u001B[43m \u001B[49m\u001B[43m[\u001B[49m\u001B[38;5;28;43;01mTrue\u001B[39;49;00m\u001B[43m,\u001B[49m\u001B[43m \u001B[49m\u001B[38;5;28;43;01mFalse\u001B[39;49;00m\u001B[43m]\u001B[49m\u001B[43m)\u001B[49m \u001B[38;5;28;01mfor\u001B[39;00m name \u001B[38;5;129;01min\u001B[39;00m \u001B[38;5;28mself\u001B[39m\u001B[38;5;241m.\u001B[39mfeatures]\n\u001B[1;32m     52\u001B[0m     \u001B[38;5;66;03m# List with names of selected features\u001B[39;00m\n\u001B[1;32m     53\u001B[0m     selected_feature_names \u001B[38;5;241m=\u001B[39m [name \u001B[38;5;28;01mfor\u001B[39;00m name, selected \u001B[38;5;129;01min\u001B[39;00m \u001B[38;5;28mzip\u001B[39m(\u001B[38;5;28mself\u001B[39m\u001B[38;5;241m.\u001B[39mfeatures, selected_features) \u001B[38;5;28;01mif\u001B[39;00m selected]\n",
      "File \u001B[0;32m~/miniforge3/envs/ml/lib/python3.10/site-packages/optuna/trial/_trial.py:402\u001B[0m, in \u001B[0;36mTrial.suggest_categorical\u001B[0;34m(self, name, choices)\u001B[0m\n\u001B[1;32m    351\u001B[0m \u001B[38;5;250m\u001B[39m\u001B[38;5;124;03m\"\"\"Suggest a value for the categorical parameter.\u001B[39;00m\n\u001B[1;32m    352\u001B[0m \n\u001B[1;32m    353\u001B[0m \u001B[38;5;124;03mThe value is sampled from ``choices``.\u001B[39;00m\n\u001B[0;32m   (...)\u001B[0m\n\u001B[1;32m    397\u001B[0m \u001B[38;5;124;03m    :ref:`configurations` tutorial describes more details and flexible usages.\u001B[39;00m\n\u001B[1;32m    398\u001B[0m \u001B[38;5;124;03m\"\"\"\u001B[39;00m\n\u001B[1;32m    399\u001B[0m \u001B[38;5;66;03m# There is no need to call self._check_distribution because\u001B[39;00m\n\u001B[1;32m    400\u001B[0m \u001B[38;5;66;03m# CategoricalDistribution does not support dynamic value space.\u001B[39;00m\n\u001B[0;32m--> 402\u001B[0m \u001B[38;5;28;01mreturn\u001B[39;00m \u001B[38;5;28;43mself\u001B[39;49m\u001B[38;5;241;43m.\u001B[39;49m\u001B[43m_suggest\u001B[49m\u001B[43m(\u001B[49m\u001B[43mname\u001B[49m\u001B[43m,\u001B[49m\u001B[43m \u001B[49m\u001B[43mCategoricalDistribution\u001B[49m\u001B[43m(\u001B[49m\u001B[43mchoices\u001B[49m\u001B[38;5;241;43m=\u001B[39;49m\u001B[43mchoices\u001B[49m\u001B[43m)\u001B[49m\u001B[43m)\u001B[49m\n",
      "File \u001B[0;32m~/miniforge3/envs/ml/lib/python3.10/site-packages/optuna/trial/_trial.py:637\u001B[0m, in \u001B[0;36mTrial._suggest\u001B[0;34m(self, name, distribution)\u001B[0m\n\u001B[1;32m    635\u001B[0m \u001B[38;5;66;03m# `param_value` is validated here (invalid value like `np.nan` raises ValueError).\u001B[39;00m\n\u001B[1;32m    636\u001B[0m param_value_in_internal_repr \u001B[38;5;241m=\u001B[39m distribution\u001B[38;5;241m.\u001B[39mto_internal_repr(param_value)\n\u001B[0;32m--> 637\u001B[0m \u001B[43mstorage\u001B[49m\u001B[38;5;241;43m.\u001B[39;49m\u001B[43mset_trial_param\u001B[49m\u001B[43m(\u001B[49m\u001B[43mtrial_id\u001B[49m\u001B[43m,\u001B[49m\u001B[43m \u001B[49m\u001B[43mname\u001B[49m\u001B[43m,\u001B[49m\u001B[43m \u001B[49m\u001B[43mparam_value_in_internal_repr\u001B[49m\u001B[43m,\u001B[49m\u001B[43m \u001B[49m\u001B[43mdistribution\u001B[49m\u001B[43m)\u001B[49m\n\u001B[1;32m    639\u001B[0m \u001B[38;5;28mself\u001B[39m\u001B[38;5;241m.\u001B[39m_cached_frozen_trial\u001B[38;5;241m.\u001B[39mdistributions[name] \u001B[38;5;241m=\u001B[39m distribution\n\u001B[1;32m    640\u001B[0m \u001B[38;5;28mself\u001B[39m\u001B[38;5;241m.\u001B[39m_cached_frozen_trial\u001B[38;5;241m.\u001B[39mparams[name] \u001B[38;5;241m=\u001B[39m param_value\n",
      "File \u001B[0;32m~/miniforge3/envs/ml/lib/python3.10/site-packages/optuna/storages/_cached_storage.py:167\u001B[0m, in \u001B[0;36m_CachedStorage.set_trial_param\u001B[0;34m(self, trial_id, param_name, param_value_internal, distribution)\u001B[0m\n\u001B[1;32m    160\u001B[0m \u001B[38;5;28;01mdef\u001B[39;00m \u001B[38;5;21mset_trial_param\u001B[39m(\n\u001B[1;32m    161\u001B[0m     \u001B[38;5;28mself\u001B[39m,\n\u001B[1;32m    162\u001B[0m     trial_id: \u001B[38;5;28mint\u001B[39m,\n\u001B[0;32m   (...)\u001B[0m\n\u001B[1;32m    165\u001B[0m     distribution: distributions\u001B[38;5;241m.\u001B[39mBaseDistribution,\n\u001B[1;32m    166\u001B[0m ) \u001B[38;5;241m-\u001B[39m\u001B[38;5;241m>\u001B[39m \u001B[38;5;28;01mNone\u001B[39;00m:\n\u001B[0;32m--> 167\u001B[0m     \u001B[38;5;28;43mself\u001B[39;49m\u001B[38;5;241;43m.\u001B[39;49m\u001B[43m_backend\u001B[49m\u001B[38;5;241;43m.\u001B[39;49m\u001B[43mset_trial_param\u001B[49m\u001B[43m(\u001B[49m\u001B[43mtrial_id\u001B[49m\u001B[43m,\u001B[49m\u001B[43m \u001B[49m\u001B[43mparam_name\u001B[49m\u001B[43m,\u001B[49m\u001B[43m \u001B[49m\u001B[43mparam_value_internal\u001B[49m\u001B[43m,\u001B[49m\u001B[43m \u001B[49m\u001B[43mdistribution\u001B[49m\u001B[43m)\u001B[49m\n",
      "File \u001B[0;32m~/miniforge3/envs/ml/lib/python3.10/site-packages/optuna/storages/_rdb/storage.py:575\u001B[0m, in \u001B[0;36mRDBStorage.set_trial_param\u001B[0;34m(self, trial_id, param_name, param_value_internal, distribution)\u001B[0m\n\u001B[1;32m    568\u001B[0m \u001B[38;5;28;01mdef\u001B[39;00m \u001B[38;5;21mset_trial_param\u001B[39m(\n\u001B[1;32m    569\u001B[0m     \u001B[38;5;28mself\u001B[39m,\n\u001B[1;32m    570\u001B[0m     trial_id: \u001B[38;5;28mint\u001B[39m,\n\u001B[0;32m   (...)\u001B[0m\n\u001B[1;32m    573\u001B[0m     distribution: distributions\u001B[38;5;241m.\u001B[39mBaseDistribution,\n\u001B[1;32m    574\u001B[0m ) \u001B[38;5;241m-\u001B[39m\u001B[38;5;241m>\u001B[39m \u001B[38;5;28;01mNone\u001B[39;00m:\n\u001B[0;32m--> 575\u001B[0m     \u001B[38;5;28;01mwith\u001B[39;00m _create_scoped_session(\u001B[38;5;28mself\u001B[39m\u001B[38;5;241m.\u001B[39mscoped_session, \u001B[38;5;28;01mTrue\u001B[39;00m) \u001B[38;5;28;01mas\u001B[39;00m session:\n\u001B[1;32m    576\u001B[0m         \u001B[38;5;28mself\u001B[39m\u001B[38;5;241m.\u001B[39m_set_trial_param_without_commit(\n\u001B[1;32m    577\u001B[0m             session, trial_id, param_name, param_value_internal, distribution\n\u001B[1;32m    578\u001B[0m         )\n",
      "File \u001B[0;32m~/miniforge3/envs/ml/lib/python3.10/contextlib.py:142\u001B[0m, in \u001B[0;36m_GeneratorContextManager.__exit__\u001B[0;34m(self, typ, value, traceback)\u001B[0m\n\u001B[1;32m    140\u001B[0m \u001B[38;5;28;01mif\u001B[39;00m typ \u001B[38;5;129;01mis\u001B[39;00m \u001B[38;5;28;01mNone\u001B[39;00m:\n\u001B[1;32m    141\u001B[0m     \u001B[38;5;28;01mtry\u001B[39;00m:\n\u001B[0;32m--> 142\u001B[0m         \u001B[38;5;28;43mnext\u001B[39;49m\u001B[43m(\u001B[49m\u001B[38;5;28;43mself\u001B[39;49m\u001B[38;5;241;43m.\u001B[39;49m\u001B[43mgen\u001B[49m\u001B[43m)\u001B[49m\n\u001B[1;32m    143\u001B[0m     \u001B[38;5;28;01mexcept\u001B[39;00m \u001B[38;5;167;01mStopIteration\u001B[39;00m:\n\u001B[1;32m    144\u001B[0m         \u001B[38;5;28;01mreturn\u001B[39;00m \u001B[38;5;28;01mFalse\u001B[39;00m\n",
      "File \u001B[0;32m~/miniforge3/envs/ml/lib/python3.10/site-packages/optuna/storages/_rdb/storage.py:76\u001B[0m, in \u001B[0;36m_create_scoped_session\u001B[0;34m(scoped_session, ignore_integrity_error)\u001B[0m\n\u001B[1;32m     74\u001B[0m \u001B[38;5;28;01mtry\u001B[39;00m:\n\u001B[1;32m     75\u001B[0m     \u001B[38;5;28;01myield\u001B[39;00m session\n\u001B[0;32m---> 76\u001B[0m     \u001B[43msession\u001B[49m\u001B[38;5;241;43m.\u001B[39;49m\u001B[43mcommit\u001B[49m\u001B[43m(\u001B[49m\u001B[43m)\u001B[49m\n\u001B[1;32m     77\u001B[0m \u001B[38;5;28;01mexcept\u001B[39;00m sqlalchemy_exc\u001B[38;5;241m.\u001B[39mIntegrityError \u001B[38;5;28;01mas\u001B[39;00m e:\n\u001B[1;32m     78\u001B[0m     session\u001B[38;5;241m.\u001B[39mrollback()\n",
      "File \u001B[0;32m~/miniforge3/envs/ml/lib/python3.10/site-packages/sqlalchemy/orm/session.py:2028\u001B[0m, in \u001B[0;36mSession.commit\u001B[0;34m(self)\u001B[0m\n\u001B[1;32m   2025\u001B[0m \u001B[38;5;28;01mif\u001B[39;00m trans \u001B[38;5;129;01mis\u001B[39;00m \u001B[38;5;28;01mNone\u001B[39;00m:\n\u001B[1;32m   2026\u001B[0m     trans \u001B[38;5;241m=\u001B[39m \u001B[38;5;28mself\u001B[39m\u001B[38;5;241m.\u001B[39m_autobegin_t()\n\u001B[0;32m-> 2028\u001B[0m \u001B[43mtrans\u001B[49m\u001B[38;5;241;43m.\u001B[39;49m\u001B[43mcommit\u001B[49m\u001B[43m(\u001B[49m\u001B[43m_to_root\u001B[49m\u001B[38;5;241;43m=\u001B[39;49m\u001B[38;5;28;43;01mTrue\u001B[39;49;00m\u001B[43m)\u001B[49m\n",
      "File \u001B[0;32m<string>:2\u001B[0m, in \u001B[0;36mcommit\u001B[0;34m(self, _to_root)\u001B[0m\n",
      "File \u001B[0;32m~/miniforge3/envs/ml/lib/python3.10/site-packages/sqlalchemy/orm/state_changes.py:139\u001B[0m, in \u001B[0;36m_StateChange.declare_states.<locals>._go\u001B[0;34m(fn, self, *arg, **kw)\u001B[0m\n\u001B[1;32m    137\u001B[0m \u001B[38;5;28mself\u001B[39m\u001B[38;5;241m.\u001B[39m_next_state \u001B[38;5;241m=\u001B[39m _StateChangeStates\u001B[38;5;241m.\u001B[39mCHANGE_IN_PROGRESS\n\u001B[1;32m    138\u001B[0m \u001B[38;5;28;01mtry\u001B[39;00m:\n\u001B[0;32m--> 139\u001B[0m     ret_value \u001B[38;5;241m=\u001B[39m \u001B[43mfn\u001B[49m\u001B[43m(\u001B[49m\u001B[38;5;28;43mself\u001B[39;49m\u001B[43m,\u001B[49m\u001B[43m \u001B[49m\u001B[38;5;241;43m*\u001B[39;49m\u001B[43marg\u001B[49m\u001B[43m,\u001B[49m\u001B[43m \u001B[49m\u001B[38;5;241;43m*\u001B[39;49m\u001B[38;5;241;43m*\u001B[39;49m\u001B[43mkw\u001B[49m\u001B[43m)\u001B[49m\n\u001B[1;32m    140\u001B[0m \u001B[38;5;28;01mexcept\u001B[39;00m:\n\u001B[1;32m    141\u001B[0m     \u001B[38;5;28;01mraise\u001B[39;00m\n",
      "File \u001B[0;32m~/miniforge3/envs/ml/lib/python3.10/site-packages/sqlalchemy/orm/session.py:1313\u001B[0m, in \u001B[0;36mSessionTransaction.commit\u001B[0;34m(self, _to_root)\u001B[0m\n\u001B[1;32m   1311\u001B[0m \u001B[38;5;28;01mif\u001B[39;00m \u001B[38;5;28mself\u001B[39m\u001B[38;5;241m.\u001B[39m_state \u001B[38;5;129;01mis\u001B[39;00m \u001B[38;5;129;01mnot\u001B[39;00m SessionTransactionState\u001B[38;5;241m.\u001B[39mPREPARED:\n\u001B[1;32m   1312\u001B[0m     \u001B[38;5;28;01mwith\u001B[39;00m \u001B[38;5;28mself\u001B[39m\u001B[38;5;241m.\u001B[39m_expect_state(SessionTransactionState\u001B[38;5;241m.\u001B[39mPREPARED):\n\u001B[0;32m-> 1313\u001B[0m         \u001B[38;5;28;43mself\u001B[39;49m\u001B[38;5;241;43m.\u001B[39;49m\u001B[43m_prepare_impl\u001B[49m\u001B[43m(\u001B[49m\u001B[43m)\u001B[49m\n\u001B[1;32m   1315\u001B[0m \u001B[38;5;28;01mif\u001B[39;00m \u001B[38;5;28mself\u001B[39m\u001B[38;5;241m.\u001B[39m_parent \u001B[38;5;129;01mis\u001B[39;00m \u001B[38;5;28;01mNone\u001B[39;00m \u001B[38;5;129;01mor\u001B[39;00m \u001B[38;5;28mself\u001B[39m\u001B[38;5;241m.\u001B[39mnested:\n\u001B[1;32m   1316\u001B[0m     \u001B[38;5;28;01mfor\u001B[39;00m conn, trans, should_commit, autoclose \u001B[38;5;129;01min\u001B[39;00m \u001B[38;5;28mset\u001B[39m(\n\u001B[1;32m   1317\u001B[0m         \u001B[38;5;28mself\u001B[39m\u001B[38;5;241m.\u001B[39m_connections\u001B[38;5;241m.\u001B[39mvalues()\n\u001B[1;32m   1318\u001B[0m     ):\n",
      "File \u001B[0;32m<string>:2\u001B[0m, in \u001B[0;36m_prepare_impl\u001B[0;34m(self)\u001B[0m\n",
      "File \u001B[0;32m~/miniforge3/envs/ml/lib/python3.10/site-packages/sqlalchemy/orm/state_changes.py:139\u001B[0m, in \u001B[0;36m_StateChange.declare_states.<locals>._go\u001B[0;34m(fn, self, *arg, **kw)\u001B[0m\n\u001B[1;32m    137\u001B[0m \u001B[38;5;28mself\u001B[39m\u001B[38;5;241m.\u001B[39m_next_state \u001B[38;5;241m=\u001B[39m _StateChangeStates\u001B[38;5;241m.\u001B[39mCHANGE_IN_PROGRESS\n\u001B[1;32m    138\u001B[0m \u001B[38;5;28;01mtry\u001B[39;00m:\n\u001B[0;32m--> 139\u001B[0m     ret_value \u001B[38;5;241m=\u001B[39m \u001B[43mfn\u001B[49m\u001B[43m(\u001B[49m\u001B[38;5;28;43mself\u001B[39;49m\u001B[43m,\u001B[49m\u001B[43m \u001B[49m\u001B[38;5;241;43m*\u001B[39;49m\u001B[43marg\u001B[49m\u001B[43m,\u001B[49m\u001B[43m \u001B[49m\u001B[38;5;241;43m*\u001B[39;49m\u001B[38;5;241;43m*\u001B[39;49m\u001B[43mkw\u001B[49m\u001B[43m)\u001B[49m\n\u001B[1;32m    140\u001B[0m \u001B[38;5;28;01mexcept\u001B[39;00m:\n\u001B[1;32m    141\u001B[0m     \u001B[38;5;28;01mraise\u001B[39;00m\n",
      "File \u001B[0;32m~/miniforge3/envs/ml/lib/python3.10/site-packages/sqlalchemy/orm/session.py:1288\u001B[0m, in \u001B[0;36mSessionTransaction._prepare_impl\u001B[0;34m(self)\u001B[0m\n\u001B[1;32m   1286\u001B[0m     \u001B[38;5;28;01mif\u001B[39;00m \u001B[38;5;28mself\u001B[39m\u001B[38;5;241m.\u001B[39msession\u001B[38;5;241m.\u001B[39m_is_clean():\n\u001B[1;32m   1287\u001B[0m         \u001B[38;5;28;01mbreak\u001B[39;00m\n\u001B[0;32m-> 1288\u001B[0m     \u001B[38;5;28;43mself\u001B[39;49m\u001B[38;5;241;43m.\u001B[39;49m\u001B[43msession\u001B[49m\u001B[38;5;241;43m.\u001B[39;49m\u001B[43mflush\u001B[49m\u001B[43m(\u001B[49m\u001B[43m)\u001B[49m\n\u001B[1;32m   1289\u001B[0m \u001B[38;5;28;01melse\u001B[39;00m:\n\u001B[1;32m   1290\u001B[0m     \u001B[38;5;28;01mraise\u001B[39;00m exc\u001B[38;5;241m.\u001B[39mFlushError(\n\u001B[1;32m   1291\u001B[0m         \u001B[38;5;124m\"\u001B[39m\u001B[38;5;124mOver 100 subsequent flushes have occurred within \u001B[39m\u001B[38;5;124m\"\u001B[39m\n\u001B[1;32m   1292\u001B[0m         \u001B[38;5;124m\"\u001B[39m\u001B[38;5;124msession.commit() - is an after_flush() hook \u001B[39m\u001B[38;5;124m\"\u001B[39m\n\u001B[1;32m   1293\u001B[0m         \u001B[38;5;124m\"\u001B[39m\u001B[38;5;124mcreating new objects?\u001B[39m\u001B[38;5;124m\"\u001B[39m\n\u001B[1;32m   1294\u001B[0m     )\n",
      "File \u001B[0;32m~/miniforge3/envs/ml/lib/python3.10/site-packages/sqlalchemy/orm/session.py:4352\u001B[0m, in \u001B[0;36mSession.flush\u001B[0;34m(self, objects)\u001B[0m\n\u001B[1;32m   4350\u001B[0m \u001B[38;5;28;01mtry\u001B[39;00m:\n\u001B[1;32m   4351\u001B[0m     \u001B[38;5;28mself\u001B[39m\u001B[38;5;241m.\u001B[39m_flushing \u001B[38;5;241m=\u001B[39m \u001B[38;5;28;01mTrue\u001B[39;00m\n\u001B[0;32m-> 4352\u001B[0m     \u001B[38;5;28;43mself\u001B[39;49m\u001B[38;5;241;43m.\u001B[39;49m\u001B[43m_flush\u001B[49m\u001B[43m(\u001B[49m\u001B[43mobjects\u001B[49m\u001B[43m)\u001B[49m\n\u001B[1;32m   4353\u001B[0m \u001B[38;5;28;01mfinally\u001B[39;00m:\n\u001B[1;32m   4354\u001B[0m     \u001B[38;5;28mself\u001B[39m\u001B[38;5;241m.\u001B[39m_flushing \u001B[38;5;241m=\u001B[39m \u001B[38;5;28;01mFalse\u001B[39;00m\n",
      "File \u001B[0;32m~/miniforge3/envs/ml/lib/python3.10/site-packages/sqlalchemy/orm/session.py:4487\u001B[0m, in \u001B[0;36mSession._flush\u001B[0;34m(self, objects)\u001B[0m\n\u001B[1;32m   4484\u001B[0m     transaction\u001B[38;5;241m.\u001B[39mcommit()\n\u001B[1;32m   4486\u001B[0m \u001B[38;5;28;01mexcept\u001B[39;00m:\n\u001B[0;32m-> 4487\u001B[0m     \u001B[38;5;28;01mwith\u001B[39;00m util\u001B[38;5;241m.\u001B[39msafe_reraise():\n\u001B[1;32m   4488\u001B[0m         transaction\u001B[38;5;241m.\u001B[39mrollback(_capture_exception\u001B[38;5;241m=\u001B[39m\u001B[38;5;28;01mTrue\u001B[39;00m)\n",
      "File \u001B[0;32m~/miniforge3/envs/ml/lib/python3.10/site-packages/sqlalchemy/util/langhelpers.py:146\u001B[0m, in \u001B[0;36msafe_reraise.__exit__\u001B[0;34m(self, type_, value, traceback)\u001B[0m\n\u001B[1;32m    144\u001B[0m     \u001B[38;5;28;01massert\u001B[39;00m exc_value \u001B[38;5;129;01mis\u001B[39;00m \u001B[38;5;129;01mnot\u001B[39;00m \u001B[38;5;28;01mNone\u001B[39;00m\n\u001B[1;32m    145\u001B[0m     \u001B[38;5;28mself\u001B[39m\u001B[38;5;241m.\u001B[39m_exc_info \u001B[38;5;241m=\u001B[39m \u001B[38;5;28;01mNone\u001B[39;00m  \u001B[38;5;66;03m# remove potential circular references\u001B[39;00m\n\u001B[0;32m--> 146\u001B[0m     \u001B[38;5;28;01mraise\u001B[39;00m exc_value\u001B[38;5;241m.\u001B[39mwith_traceback(exc_tb)\n\u001B[1;32m    147\u001B[0m \u001B[38;5;28;01melse\u001B[39;00m:\n\u001B[1;32m    148\u001B[0m     \u001B[38;5;28mself\u001B[39m\u001B[38;5;241m.\u001B[39m_exc_info \u001B[38;5;241m=\u001B[39m \u001B[38;5;28;01mNone\u001B[39;00m  \u001B[38;5;66;03m# remove potential circular references\u001B[39;00m\n",
      "File \u001B[0;32m~/miniforge3/envs/ml/lib/python3.10/site-packages/sqlalchemy/orm/session.py:4448\u001B[0m, in \u001B[0;36mSession._flush\u001B[0;34m(self, objects)\u001B[0m\n\u001B[1;32m   4446\u001B[0m \u001B[38;5;28mself\u001B[39m\u001B[38;5;241m.\u001B[39m_warn_on_events \u001B[38;5;241m=\u001B[39m \u001B[38;5;28;01mTrue\u001B[39;00m\n\u001B[1;32m   4447\u001B[0m \u001B[38;5;28;01mtry\u001B[39;00m:\n\u001B[0;32m-> 4448\u001B[0m     \u001B[43mflush_context\u001B[49m\u001B[38;5;241;43m.\u001B[39;49m\u001B[43mexecute\u001B[49m\u001B[43m(\u001B[49m\u001B[43m)\u001B[49m\n\u001B[1;32m   4449\u001B[0m \u001B[38;5;28;01mfinally\u001B[39;00m:\n\u001B[1;32m   4450\u001B[0m     \u001B[38;5;28mself\u001B[39m\u001B[38;5;241m.\u001B[39m_warn_on_events \u001B[38;5;241m=\u001B[39m \u001B[38;5;28;01mFalse\u001B[39;00m\n",
      "File \u001B[0;32m~/miniforge3/envs/ml/lib/python3.10/site-packages/sqlalchemy/orm/unitofwork.py:466\u001B[0m, in \u001B[0;36mUOWTransaction.execute\u001B[0;34m(self)\u001B[0m\n\u001B[1;32m    464\u001B[0m \u001B[38;5;28;01melse\u001B[39;00m:\n\u001B[1;32m    465\u001B[0m     \u001B[38;5;28;01mfor\u001B[39;00m rec \u001B[38;5;129;01min\u001B[39;00m topological\u001B[38;5;241m.\u001B[39msort(\u001B[38;5;28mself\u001B[39m\u001B[38;5;241m.\u001B[39mdependencies, postsort_actions):\n\u001B[0;32m--> 466\u001B[0m         \u001B[43mrec\u001B[49m\u001B[38;5;241;43m.\u001B[39;49m\u001B[43mexecute\u001B[49m\u001B[43m(\u001B[49m\u001B[38;5;28;43mself\u001B[39;49m\u001B[43m)\u001B[49m\n",
      "File \u001B[0;32m~/miniforge3/envs/ml/lib/python3.10/site-packages/sqlalchemy/orm/unitofwork.py:642\u001B[0m, in \u001B[0;36mSaveUpdateAll.execute\u001B[0;34m(self, uow)\u001B[0m\n\u001B[1;32m    640\u001B[0m \u001B[38;5;129m@util\u001B[39m\u001B[38;5;241m.\u001B[39mpreload_module(\u001B[38;5;124m\"\u001B[39m\u001B[38;5;124msqlalchemy.orm.persistence\u001B[39m\u001B[38;5;124m\"\u001B[39m)\n\u001B[1;32m    641\u001B[0m \u001B[38;5;28;01mdef\u001B[39;00m \u001B[38;5;21mexecute\u001B[39m(\u001B[38;5;28mself\u001B[39m, uow):\n\u001B[0;32m--> 642\u001B[0m     \u001B[43mutil\u001B[49m\u001B[38;5;241;43m.\u001B[39;49m\u001B[43mpreloaded\u001B[49m\u001B[38;5;241;43m.\u001B[39;49m\u001B[43morm_persistence\u001B[49m\u001B[38;5;241;43m.\u001B[39;49m\u001B[43msave_obj\u001B[49m\u001B[43m(\u001B[49m\n\u001B[1;32m    643\u001B[0m \u001B[43m        \u001B[49m\u001B[38;5;28;43mself\u001B[39;49m\u001B[38;5;241;43m.\u001B[39;49m\u001B[43mmapper\u001B[49m\u001B[43m,\u001B[49m\n\u001B[1;32m    644\u001B[0m \u001B[43m        \u001B[49m\u001B[43muow\u001B[49m\u001B[38;5;241;43m.\u001B[39;49m\u001B[43mstates_for_mapper_hierarchy\u001B[49m\u001B[43m(\u001B[49m\u001B[38;5;28;43mself\u001B[39;49m\u001B[38;5;241;43m.\u001B[39;49m\u001B[43mmapper\u001B[49m\u001B[43m,\u001B[49m\u001B[43m \u001B[49m\u001B[38;5;28;43;01mFalse\u001B[39;49;00m\u001B[43m,\u001B[49m\u001B[43m \u001B[49m\u001B[38;5;28;43;01mFalse\u001B[39;49;00m\u001B[43m)\u001B[49m\u001B[43m,\u001B[49m\n\u001B[1;32m    645\u001B[0m \u001B[43m        \u001B[49m\u001B[43muow\u001B[49m\u001B[43m,\u001B[49m\n\u001B[1;32m    646\u001B[0m \u001B[43m    \u001B[49m\u001B[43m)\u001B[49m\n",
      "File \u001B[0;32m~/miniforge3/envs/ml/lib/python3.10/site-packages/sqlalchemy/orm/persistence.py:93\u001B[0m, in \u001B[0;36msave_obj\u001B[0;34m(base_mapper, states, uowtransaction, single)\u001B[0m\n\u001B[1;32m     81\u001B[0m     update \u001B[38;5;241m=\u001B[39m _collect_update_commands(\n\u001B[1;32m     82\u001B[0m         uowtransaction, table, states_to_update\n\u001B[1;32m     83\u001B[0m     )\n\u001B[1;32m     85\u001B[0m     _emit_update_statements(\n\u001B[1;32m     86\u001B[0m         base_mapper,\n\u001B[1;32m     87\u001B[0m         uowtransaction,\n\u001B[0;32m   (...)\u001B[0m\n\u001B[1;32m     90\u001B[0m         update,\n\u001B[1;32m     91\u001B[0m     )\n\u001B[0;32m---> 93\u001B[0m     \u001B[43m_emit_insert_statements\u001B[49m\u001B[43m(\u001B[49m\n\u001B[1;32m     94\u001B[0m \u001B[43m        \u001B[49m\u001B[43mbase_mapper\u001B[49m\u001B[43m,\u001B[49m\n\u001B[1;32m     95\u001B[0m \u001B[43m        \u001B[49m\u001B[43muowtransaction\u001B[49m\u001B[43m,\u001B[49m\n\u001B[1;32m     96\u001B[0m \u001B[43m        \u001B[49m\u001B[43mmapper\u001B[49m\u001B[43m,\u001B[49m\n\u001B[1;32m     97\u001B[0m \u001B[43m        \u001B[49m\u001B[43mtable\u001B[49m\u001B[43m,\u001B[49m\n\u001B[1;32m     98\u001B[0m \u001B[43m        \u001B[49m\u001B[43minsert\u001B[49m\u001B[43m,\u001B[49m\n\u001B[1;32m     99\u001B[0m \u001B[43m    \u001B[49m\u001B[43m)\u001B[49m\n\u001B[1;32m    101\u001B[0m _finalize_insert_update_commands(\n\u001B[1;32m    102\u001B[0m     base_mapper,\n\u001B[1;32m    103\u001B[0m     uowtransaction,\n\u001B[0;32m   (...)\u001B[0m\n\u001B[1;32m    119\u001B[0m     ),\n\u001B[1;32m    120\u001B[0m )\n",
      "File \u001B[0;32m~/miniforge3/envs/ml/lib/python3.10/site-packages/sqlalchemy/orm/persistence.py:1233\u001B[0m, in \u001B[0;36m_emit_insert_statements\u001B[0;34m(base_mapper, uowtransaction, mapper, table, insert, bookkeeping, use_orm_insert_stmt, execution_options)\u001B[0m\n\u001B[1;32m   1227\u001B[0m     result \u001B[38;5;241m=\u001B[39m connection\u001B[38;5;241m.\u001B[39mexecute(\n\u001B[1;32m   1228\u001B[0m         statement\u001B[38;5;241m.\u001B[39mvalues(value_params),\n\u001B[1;32m   1229\u001B[0m         params,\n\u001B[1;32m   1230\u001B[0m         execution_options\u001B[38;5;241m=\u001B[39mexecution_options,\n\u001B[1;32m   1231\u001B[0m     )\n\u001B[1;32m   1232\u001B[0m \u001B[38;5;28;01melse\u001B[39;00m:\n\u001B[0;32m-> 1233\u001B[0m     result \u001B[38;5;241m=\u001B[39m \u001B[43mconnection\u001B[49m\u001B[38;5;241;43m.\u001B[39;49m\u001B[43mexecute\u001B[49m\u001B[43m(\u001B[49m\n\u001B[1;32m   1234\u001B[0m \u001B[43m        \u001B[49m\u001B[43mstatement\u001B[49m\u001B[43m,\u001B[49m\n\u001B[1;32m   1235\u001B[0m \u001B[43m        \u001B[49m\u001B[43mparams\u001B[49m\u001B[43m,\u001B[49m\n\u001B[1;32m   1236\u001B[0m \u001B[43m        \u001B[49m\u001B[43mexecution_options\u001B[49m\u001B[38;5;241;43m=\u001B[39;49m\u001B[43mexecution_options\u001B[49m\u001B[43m,\u001B[49m\n\u001B[1;32m   1237\u001B[0m \u001B[43m    \u001B[49m\u001B[43m)\u001B[49m\n\u001B[1;32m   1239\u001B[0m primary_key \u001B[38;5;241m=\u001B[39m result\u001B[38;5;241m.\u001B[39minserted_primary_key\n\u001B[1;32m   1240\u001B[0m \u001B[38;5;28;01mif\u001B[39;00m primary_key \u001B[38;5;129;01mis\u001B[39;00m \u001B[38;5;28;01mNone\u001B[39;00m:\n",
      "File \u001B[0;32m~/miniforge3/envs/ml/lib/python3.10/site-packages/sqlalchemy/engine/base.py:1418\u001B[0m, in \u001B[0;36mConnection.execute\u001B[0;34m(self, statement, parameters, execution_options)\u001B[0m\n\u001B[1;32m   1416\u001B[0m     \u001B[38;5;28;01mraise\u001B[39;00m exc\u001B[38;5;241m.\u001B[39mObjectNotExecutableError(statement) \u001B[38;5;28;01mfrom\u001B[39;00m \u001B[38;5;21;01merr\u001B[39;00m\n\u001B[1;32m   1417\u001B[0m \u001B[38;5;28;01melse\u001B[39;00m:\n\u001B[0;32m-> 1418\u001B[0m     \u001B[38;5;28;01mreturn\u001B[39;00m \u001B[43mmeth\u001B[49m\u001B[43m(\u001B[49m\n\u001B[1;32m   1419\u001B[0m \u001B[43m        \u001B[49m\u001B[38;5;28;43mself\u001B[39;49m\u001B[43m,\u001B[49m\n\u001B[1;32m   1420\u001B[0m \u001B[43m        \u001B[49m\u001B[43mdistilled_parameters\u001B[49m\u001B[43m,\u001B[49m\n\u001B[1;32m   1421\u001B[0m \u001B[43m        \u001B[49m\u001B[43mexecution_options\u001B[49m\u001B[43m \u001B[49m\u001B[38;5;129;43;01mor\u001B[39;49;00m\u001B[43m \u001B[49m\u001B[43mNO_OPTIONS\u001B[49m\u001B[43m,\u001B[49m\n\u001B[1;32m   1422\u001B[0m \u001B[43m    \u001B[49m\u001B[43m)\u001B[49m\n",
      "File \u001B[0;32m~/miniforge3/envs/ml/lib/python3.10/site-packages/sqlalchemy/sql/elements.py:515\u001B[0m, in \u001B[0;36mClauseElement._execute_on_connection\u001B[0;34m(self, connection, distilled_params, execution_options)\u001B[0m\n\u001B[1;32m    513\u001B[0m     \u001B[38;5;28;01mif\u001B[39;00m TYPE_CHECKING:\n\u001B[1;32m    514\u001B[0m         \u001B[38;5;28;01massert\u001B[39;00m \u001B[38;5;28misinstance\u001B[39m(\u001B[38;5;28mself\u001B[39m, Executable)\n\u001B[0;32m--> 515\u001B[0m     \u001B[38;5;28;01mreturn\u001B[39;00m \u001B[43mconnection\u001B[49m\u001B[38;5;241;43m.\u001B[39;49m\u001B[43m_execute_clauseelement\u001B[49m\u001B[43m(\u001B[49m\n\u001B[1;32m    516\u001B[0m \u001B[43m        \u001B[49m\u001B[38;5;28;43mself\u001B[39;49m\u001B[43m,\u001B[49m\u001B[43m \u001B[49m\u001B[43mdistilled_params\u001B[49m\u001B[43m,\u001B[49m\u001B[43m \u001B[49m\u001B[43mexecution_options\u001B[49m\n\u001B[1;32m    517\u001B[0m \u001B[43m    \u001B[49m\u001B[43m)\u001B[49m\n\u001B[1;32m    518\u001B[0m \u001B[38;5;28;01melse\u001B[39;00m:\n\u001B[1;32m    519\u001B[0m     \u001B[38;5;28;01mraise\u001B[39;00m exc\u001B[38;5;241m.\u001B[39mObjectNotExecutableError(\u001B[38;5;28mself\u001B[39m)\n",
      "File \u001B[0;32m~/miniforge3/envs/ml/lib/python3.10/site-packages/sqlalchemy/engine/base.py:1640\u001B[0m, in \u001B[0;36mConnection._execute_clauseelement\u001B[0;34m(self, elem, distilled_parameters, execution_options)\u001B[0m\n\u001B[1;32m   1628\u001B[0m compiled_cache: Optional[CompiledCacheType] \u001B[38;5;241m=\u001B[39m execution_options\u001B[38;5;241m.\u001B[39mget(\n\u001B[1;32m   1629\u001B[0m     \u001B[38;5;124m\"\u001B[39m\u001B[38;5;124mcompiled_cache\u001B[39m\u001B[38;5;124m\"\u001B[39m, \u001B[38;5;28mself\u001B[39m\u001B[38;5;241m.\u001B[39mengine\u001B[38;5;241m.\u001B[39m_compiled_cache\n\u001B[1;32m   1630\u001B[0m )\n\u001B[1;32m   1632\u001B[0m compiled_sql, extracted_params, cache_hit \u001B[38;5;241m=\u001B[39m elem\u001B[38;5;241m.\u001B[39m_compile_w_cache(\n\u001B[1;32m   1633\u001B[0m     dialect\u001B[38;5;241m=\u001B[39mdialect,\n\u001B[1;32m   1634\u001B[0m     compiled_cache\u001B[38;5;241m=\u001B[39mcompiled_cache,\n\u001B[0;32m   (...)\u001B[0m\n\u001B[1;32m   1638\u001B[0m     linting\u001B[38;5;241m=\u001B[39m\u001B[38;5;28mself\u001B[39m\u001B[38;5;241m.\u001B[39mdialect\u001B[38;5;241m.\u001B[39mcompiler_linting \u001B[38;5;241m|\u001B[39m compiler\u001B[38;5;241m.\u001B[39mWARN_LINTING,\n\u001B[1;32m   1639\u001B[0m )\n\u001B[0;32m-> 1640\u001B[0m ret \u001B[38;5;241m=\u001B[39m \u001B[38;5;28;43mself\u001B[39;49m\u001B[38;5;241;43m.\u001B[39;49m\u001B[43m_execute_context\u001B[49m\u001B[43m(\u001B[49m\n\u001B[1;32m   1641\u001B[0m \u001B[43m    \u001B[49m\u001B[43mdialect\u001B[49m\u001B[43m,\u001B[49m\n\u001B[1;32m   1642\u001B[0m \u001B[43m    \u001B[49m\u001B[43mdialect\u001B[49m\u001B[38;5;241;43m.\u001B[39;49m\u001B[43mexecution_ctx_cls\u001B[49m\u001B[38;5;241;43m.\u001B[39;49m\u001B[43m_init_compiled\u001B[49m\u001B[43m,\u001B[49m\n\u001B[1;32m   1643\u001B[0m \u001B[43m    \u001B[49m\u001B[43mcompiled_sql\u001B[49m\u001B[43m,\u001B[49m\n\u001B[1;32m   1644\u001B[0m \u001B[43m    \u001B[49m\u001B[43mdistilled_parameters\u001B[49m\u001B[43m,\u001B[49m\n\u001B[1;32m   1645\u001B[0m \u001B[43m    \u001B[49m\u001B[43mexecution_options\u001B[49m\u001B[43m,\u001B[49m\n\u001B[1;32m   1646\u001B[0m \u001B[43m    \u001B[49m\u001B[43mcompiled_sql\u001B[49m\u001B[43m,\u001B[49m\n\u001B[1;32m   1647\u001B[0m \u001B[43m    \u001B[49m\u001B[43mdistilled_parameters\u001B[49m\u001B[43m,\u001B[49m\n\u001B[1;32m   1648\u001B[0m \u001B[43m    \u001B[49m\u001B[43melem\u001B[49m\u001B[43m,\u001B[49m\n\u001B[1;32m   1649\u001B[0m \u001B[43m    \u001B[49m\u001B[43mextracted_params\u001B[49m\u001B[43m,\u001B[49m\n\u001B[1;32m   1650\u001B[0m \u001B[43m    \u001B[49m\u001B[43mcache_hit\u001B[49m\u001B[38;5;241;43m=\u001B[39;49m\u001B[43mcache_hit\u001B[49m\u001B[43m,\u001B[49m\n\u001B[1;32m   1651\u001B[0m \u001B[43m\u001B[49m\u001B[43m)\u001B[49m\n\u001B[1;32m   1652\u001B[0m \u001B[38;5;28;01mif\u001B[39;00m has_events:\n\u001B[1;32m   1653\u001B[0m     \u001B[38;5;28mself\u001B[39m\u001B[38;5;241m.\u001B[39mdispatch\u001B[38;5;241m.\u001B[39mafter_execute(\n\u001B[1;32m   1654\u001B[0m         \u001B[38;5;28mself\u001B[39m,\n\u001B[1;32m   1655\u001B[0m         elem,\n\u001B[0;32m   (...)\u001B[0m\n\u001B[1;32m   1659\u001B[0m         ret,\n\u001B[1;32m   1660\u001B[0m     )\n",
      "File \u001B[0;32m~/miniforge3/envs/ml/lib/python3.10/site-packages/sqlalchemy/engine/base.py:1846\u001B[0m, in \u001B[0;36mConnection._execute_context\u001B[0;34m(self, dialect, constructor, statement, parameters, execution_options, *args, **kw)\u001B[0m\n\u001B[1;32m   1844\u001B[0m     \u001B[38;5;28;01mreturn\u001B[39;00m \u001B[38;5;28mself\u001B[39m\u001B[38;5;241m.\u001B[39m_exec_insertmany_context(dialect, context)\n\u001B[1;32m   1845\u001B[0m \u001B[38;5;28;01melse\u001B[39;00m:\n\u001B[0;32m-> 1846\u001B[0m     \u001B[38;5;28;01mreturn\u001B[39;00m \u001B[38;5;28;43mself\u001B[39;49m\u001B[38;5;241;43m.\u001B[39;49m\u001B[43m_exec_single_context\u001B[49m\u001B[43m(\u001B[49m\n\u001B[1;32m   1847\u001B[0m \u001B[43m        \u001B[49m\u001B[43mdialect\u001B[49m\u001B[43m,\u001B[49m\u001B[43m \u001B[49m\u001B[43mcontext\u001B[49m\u001B[43m,\u001B[49m\u001B[43m \u001B[49m\u001B[43mstatement\u001B[49m\u001B[43m,\u001B[49m\u001B[43m \u001B[49m\u001B[43mparameters\u001B[49m\n\u001B[1;32m   1848\u001B[0m \u001B[43m    \u001B[49m\u001B[43m)\u001B[49m\n",
      "File \u001B[0;32m~/miniforge3/envs/ml/lib/python3.10/site-packages/sqlalchemy/engine/base.py:1986\u001B[0m, in \u001B[0;36mConnection._exec_single_context\u001B[0;34m(self, dialect, context, statement, parameters)\u001B[0m\n\u001B[1;32m   1983\u001B[0m     result \u001B[38;5;241m=\u001B[39m context\u001B[38;5;241m.\u001B[39m_setup_result_proxy()\n\u001B[1;32m   1985\u001B[0m \u001B[38;5;28;01mexcept\u001B[39;00m \u001B[38;5;167;01mBaseException\u001B[39;00m \u001B[38;5;28;01mas\u001B[39;00m e:\n\u001B[0;32m-> 1986\u001B[0m     \u001B[38;5;28;43mself\u001B[39;49m\u001B[38;5;241;43m.\u001B[39;49m\u001B[43m_handle_dbapi_exception\u001B[49m\u001B[43m(\u001B[49m\n\u001B[1;32m   1987\u001B[0m \u001B[43m        \u001B[49m\u001B[43me\u001B[49m\u001B[43m,\u001B[49m\u001B[43m \u001B[49m\u001B[43mstr_statement\u001B[49m\u001B[43m,\u001B[49m\u001B[43m \u001B[49m\u001B[43meffective_parameters\u001B[49m\u001B[43m,\u001B[49m\u001B[43m \u001B[49m\u001B[43mcursor\u001B[49m\u001B[43m,\u001B[49m\u001B[43m \u001B[49m\u001B[43mcontext\u001B[49m\n\u001B[1;32m   1988\u001B[0m \u001B[43m    \u001B[49m\u001B[43m)\u001B[49m\n\u001B[1;32m   1990\u001B[0m \u001B[38;5;28;01mreturn\u001B[39;00m result\n",
      "File \u001B[0;32m~/miniforge3/envs/ml/lib/python3.10/site-packages/sqlalchemy/engine/base.py:2358\u001B[0m, in \u001B[0;36mConnection._handle_dbapi_exception\u001B[0;34m(self, e, statement, parameters, cursor, context, is_sub_exec)\u001B[0m\n\u001B[1;32m   2356\u001B[0m     \u001B[38;5;28;01melse\u001B[39;00m:\n\u001B[1;32m   2357\u001B[0m         \u001B[38;5;28;01massert\u001B[39;00m exc_info[\u001B[38;5;241m1\u001B[39m] \u001B[38;5;129;01mis\u001B[39;00m \u001B[38;5;129;01mnot\u001B[39;00m \u001B[38;5;28;01mNone\u001B[39;00m\n\u001B[0;32m-> 2358\u001B[0m         \u001B[38;5;28;01mraise\u001B[39;00m exc_info[\u001B[38;5;241m1\u001B[39m]\u001B[38;5;241m.\u001B[39mwith_traceback(exc_info[\u001B[38;5;241m2\u001B[39m])\n\u001B[1;32m   2359\u001B[0m \u001B[38;5;28;01mfinally\u001B[39;00m:\n\u001B[1;32m   2360\u001B[0m     \u001B[38;5;28;01mdel\u001B[39;00m \u001B[38;5;28mself\u001B[39m\u001B[38;5;241m.\u001B[39m_reentrant_error\n",
      "File \u001B[0;32m~/miniforge3/envs/ml/lib/python3.10/site-packages/sqlalchemy/engine/base.py:1967\u001B[0m, in \u001B[0;36mConnection._exec_single_context\u001B[0;34m(self, dialect, context, statement, parameters)\u001B[0m\n\u001B[1;32m   1965\u001B[0m                 \u001B[38;5;28;01mbreak\u001B[39;00m\n\u001B[1;32m   1966\u001B[0m     \u001B[38;5;28;01mif\u001B[39;00m \u001B[38;5;129;01mnot\u001B[39;00m evt_handled:\n\u001B[0;32m-> 1967\u001B[0m         \u001B[38;5;28;43mself\u001B[39;49m\u001B[38;5;241;43m.\u001B[39;49m\u001B[43mdialect\u001B[49m\u001B[38;5;241;43m.\u001B[39;49m\u001B[43mdo_execute\u001B[49m\u001B[43m(\u001B[49m\n\u001B[1;32m   1968\u001B[0m \u001B[43m            \u001B[49m\u001B[43mcursor\u001B[49m\u001B[43m,\u001B[49m\u001B[43m \u001B[49m\u001B[43mstr_statement\u001B[49m\u001B[43m,\u001B[49m\u001B[43m \u001B[49m\u001B[43meffective_parameters\u001B[49m\u001B[43m,\u001B[49m\u001B[43m \u001B[49m\u001B[43mcontext\u001B[49m\n\u001B[1;32m   1969\u001B[0m \u001B[43m        \u001B[49m\u001B[43m)\u001B[49m\n\u001B[1;32m   1971\u001B[0m \u001B[38;5;28;01mif\u001B[39;00m \u001B[38;5;28mself\u001B[39m\u001B[38;5;241m.\u001B[39m_has_events \u001B[38;5;129;01mor\u001B[39;00m \u001B[38;5;28mself\u001B[39m\u001B[38;5;241m.\u001B[39mengine\u001B[38;5;241m.\u001B[39m_has_events:\n\u001B[1;32m   1972\u001B[0m     \u001B[38;5;28mself\u001B[39m\u001B[38;5;241m.\u001B[39mdispatch\u001B[38;5;241m.\u001B[39mafter_cursor_execute(\n\u001B[1;32m   1973\u001B[0m         \u001B[38;5;28mself\u001B[39m,\n\u001B[1;32m   1974\u001B[0m         cursor,\n\u001B[0;32m   (...)\u001B[0m\n\u001B[1;32m   1978\u001B[0m         context\u001B[38;5;241m.\u001B[39mexecutemany,\n\u001B[1;32m   1979\u001B[0m     )\n",
      "File \u001B[0;32m~/miniforge3/envs/ml/lib/python3.10/site-packages/sqlalchemy/engine/default.py:941\u001B[0m, in \u001B[0;36mDefaultDialect.do_execute\u001B[0;34m(self, cursor, statement, parameters, context)\u001B[0m\n\u001B[1;32m    940\u001B[0m \u001B[38;5;28;01mdef\u001B[39;00m \u001B[38;5;21mdo_execute\u001B[39m(\u001B[38;5;28mself\u001B[39m, cursor, statement, parameters, context\u001B[38;5;241m=\u001B[39m\u001B[38;5;28;01mNone\u001B[39;00m):\n\u001B[0;32m--> 941\u001B[0m     \u001B[43mcursor\u001B[49m\u001B[38;5;241;43m.\u001B[39;49m\u001B[43mexecute\u001B[49m\u001B[43m(\u001B[49m\u001B[43mstatement\u001B[49m\u001B[43m,\u001B[49m\u001B[43m \u001B[49m\u001B[43mparameters\u001B[49m\u001B[43m)\u001B[49m\n",
      "\u001B[0;31mKeyboardInterrupt\u001B[0m: "
     ]
    }
   ],
   "execution_count": 9
  },
  {
   "metadata": {},
   "cell_type": "code",
   "source": [
    "best_features = [k for k,v in study.best_trial.params.items() if v]\n",
    "len(best_features)"
   ],
   "id": "46309397f92230fb",
   "outputs": [],
   "execution_count": null
  },
  {
   "metadata": {},
   "cell_type": "code",
   "source": "# pd.Series(best_features).to_csv('best_features.csv', index=False)",
   "id": "57345f0c44ba4e67",
   "outputs": [],
   "execution_count": null
  }
 ],
 "metadata": {
  "kernelspec": {
   "display_name": "Python 3",
   "language": "python",
   "name": "python3"
  },
  "language_info": {
   "codemirror_mode": {
    "name": "ipython",
    "version": 2
   },
   "file_extension": ".py",
   "mimetype": "text/x-python",
   "name": "python",
   "nbconvert_exporter": "python",
   "pygments_lexer": "ipython2",
   "version": "2.7.6"
  }
 },
 "nbformat": 4,
 "nbformat_minor": 5
}
