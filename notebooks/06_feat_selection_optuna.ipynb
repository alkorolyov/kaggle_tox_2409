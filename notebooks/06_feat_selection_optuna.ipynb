{
 "cells": [
  {
   "cell_type": "code",
   "id": "initial_id",
   "metadata": {
    "collapsed": true,
    "ExecuteTime": {
     "end_time": "2024-09-06T13:06:59.214848Z",
     "start_time": "2024-09-06T13:06:59.190176Z"
    }
   },
   "source": [
    "import pandas as pd\n",
    "%load_ext autoreload\n",
    "%autoreload 2\n",
    "\n",
    "import sys\n",
    "sys.path.append('..')"
   ],
   "outputs": [],
   "execution_count": 2
  },
  {
   "metadata": {
    "ExecuteTime": {
     "end_time": "2024-09-06T13:06:59.233161Z",
     "start_time": "2024-09-06T13:06:59.216624Z"
    }
   },
   "cell_type": "code",
   "source": "from src.config import mem",
   "id": "43ecdcdf7dd3f417",
   "outputs": [],
   "execution_count": 3
  },
  {
   "metadata": {
    "ExecuteTime": {
     "end_time": "2024-09-06T13:06:59.251161Z",
     "start_time": "2024-09-06T13:06:59.234779Z"
    }
   },
   "cell_type": "code",
   "source": [
    "RANDOM_SEED = 42\n",
    "N_JOBS = 24"
   ],
   "id": "4bface1cd9b57b29",
   "outputs": [],
   "execution_count": 4
  },
  {
   "metadata": {
    "ExecuteTime": {
     "end_time": "2024-09-06T13:06:59.269653Z",
     "start_time": "2024-09-06T13:06:59.253899Z"
    }
   },
   "cell_type": "code",
   "source": [
    "import optuna\n",
    "import numpy as np\n",
    "import pandas as pd\n",
    "from sklearn.metrics import root_mean_squared_error, roc_auc_score\n",
    "from sklearn.model_selection import KFold"
   ],
   "id": "98a0ccd416007d69",
   "outputs": [],
   "execution_count": 5
  },
  {
   "metadata": {
    "ExecuteTime": {
     "end_time": "2024-09-06T13:06:59.290510Z",
     "start_time": "2024-09-06T13:06:59.271191Z"
    }
   },
   "cell_type": "code",
   "source": [
    "class FeatureSelectionOptuna:\n",
    "    \"\"\"\n",
    "    This class implements feature selection using Optuna optimization framework.\n",
    "\n",
    "    Parameters:\n",
    "\n",
    "    - model (object): The predictive model to evaluate; this should be any object that implements fit() and predict() methods.\n",
    "    - loss_fn (function): The loss function to use for evaluating the model performance. This function should take the true labels and the\n",
    "                          predictions as inputs and return a loss value.\n",
    "    - features (list of str): A list containing the names of all possible features that can be selected for the model.\n",
    "    - X (DataFrame): The complete set of feature data (pandas DataFrame) from which subsets will be selected for training the model.\n",
    "    - y (Series): The target variable associated with the X data (pandas Series).\n",
    "    - splits (list of tuples): A list of tuples where each tuple contains two elements, the train indices and the validation indices.\n",
    "    - feat_count_penalty (float, optional): A factor used to penalize the objective function based on the number of features used.\n",
    "    \"\"\"\n",
    "\n",
    "    def __init__(self,\n",
    "                 model,\n",
    "                 X,\n",
    "                 y,\n",
    "                 features=None,\n",
    "                 loss_fn=roc_auc_score,                 \n",
    "                 cv=None,\n",
    "                 feat_count_penalty=0,\n",
    "                 ):\n",
    "\n",
    "        self.model = model\n",
    "        self.X = X\n",
    "        self.y = y\n",
    "        \n",
    "        if features is None:\n",
    "            self.features = list(X.columns)\n",
    "        else:\n",
    "            self.features = features\n",
    "        \n",
    "        self.loss_fn = loss_fn\n",
    "        \n",
    "        if cv is None:\n",
    "            kfold = KFold(n_splits=5, shuffle=True, random_state=RANDOM_SEED)\n",
    "            self.splits = list(kfold.split(X))\n",
    "        else:            \n",
    "            self.splits = list(cv.split(X))\n",
    "        \n",
    "        self.feat_count_penalty = feat_count_penalty\n",
    "\n",
    "    def __call__(self,\n",
    "                 trial: optuna.trial.Trial):\n",
    "\n",
    "        # Select True / False for each feature\n",
    "        selected_features = [trial.suggest_categorical(name, [True, False]) for name in self.features]\n",
    "\n",
    "        # List with names of selected features\n",
    "        selected_feature_names = [name for name, selected in zip(self.features, selected_features) if selected]\n",
    "\n",
    "        # Optional: adds a feat_count_penalty for the amount of features used\n",
    "        n_used = len(selected_feature_names)\n",
    "        total_penalty = n_used * self.feat_count_penalty\n",
    "        \n",
    "\n",
    "        X_selected = self.X[selected_feature_names].copy()\n",
    "        \n",
    "        from sklearn.model_selection import cross_val_score\n",
    "        \n",
    "        kfold = KFold(n_splits=5, shuffle=True, random_state=RANDOM_SEED)\n",
    "        cv_res = cross_val_score(self.model, X_selected, self.y, cv=kfold, scoring='roc_auc')\n",
    "        score = (cv_res.mean() - cv_res.std()) - total_penalty\n",
    "        return score"
   ],
   "id": "1b0dbd4d258ffa14",
   "outputs": [],
   "execution_count": 6
  },
  {
   "metadata": {
    "ExecuteTime": {
     "end_time": "2024-09-06T13:06:59.491165Z",
     "start_time": "2024-09-06T13:06:59.292002Z"
    }
   },
   "cell_type": "code",
   "source": [
    "X_train = pd.read_pickle('../data/processed/X_train_2.pkl.zip')\n",
    "y_train = pd.read_pickle('../data/processed/y_train_2.pkl')\n",
    "\n",
    "\n",
    "feature_list = [s for s in X_train.columns if '_' in s]\n",
    "np.array(feature_list)"
   ],
   "id": "8d273dd9c44c7af0",
   "outputs": [
    {
     "data": {
      "text/plain": [
       "array(['rd_BalabanJ', 'rd_EState_VSA10', 'rd_EState_VSA11', ...,\n",
       "       'gin_297', 'gin_298', 'gin_299'], dtype='<U27')"
      ]
     },
     "execution_count": 7,
     "metadata": {},
     "output_type": "execute_result"
    }
   ],
   "execution_count": 7
  },
  {
   "metadata": {
    "ExecuteTime": {
     "end_time": "2024-09-06T13:07:00.047438Z",
     "start_time": "2024-09-06T13:06:59.492490Z"
    }
   },
   "cell_type": "code",
   "source": [
    "from sklearn.model_selection import KFold\n",
    "from optuna.samplers import TPESampler\n",
    "from sklearn.ensemble import RandomForestClassifier\n",
    "\n",
    "params = {\n",
    "    \"random_state\": RANDOM_SEED,\n",
    "    \"n_jobs\": N_JOBS,\n",
    "    \"verbose\": False\n",
    "}\n",
    "\n",
    "model = RandomForestClassifier(**params)\n",
    "sampler = TPESampler(seed=RANDOM_SEED)\n",
    "\n",
    "study = optuna.create_study(\n",
    "    storage=f\"sqlite:///../data/tuning/optuna.db\",\n",
    "    direction=\"maximize\", \n",
    "    sampler=sampler\n",
    ")\n",
    "\n",
    "# We first try the model using all features\n",
    "default_features = {ft: True for ft in feature_list}\n",
    "study.enqueue_trial(default_features)"
   ],
   "id": "6d36d6a5d6d63d02",
   "outputs": [
    {
     "name": "stderr",
     "output_type": "stream",
     "text": [
      "[I 2024-09-06 15:07:00,027] A new study created in RDB with name: no-name-96b71b0a-60ee-4dc1-b8d3-381e48e91c0b\n"
     ]
    }
   ],
   "execution_count": 8
  },
  {
   "metadata": {
    "jupyter": {
     "is_executing": true
    },
    "ExecuteTime": {
     "start_time": "2024-09-06T13:07:00.048891Z"
    }
   },
   "cell_type": "code",
   "source": [
    "optuna.logging.set_verbosity(optuna.logging.WARN)\n",
    "\n",
    "study.optimize(FeatureSelectionOptuna(\n",
    "                         model=model,\n",
    "                         features=feature_list,\n",
    "                         X=X_train,\n",
    "                         y=y_train,\n",
    "                         # feat_count_penalty = 1e-4,  \n",
    "                         ), n_trials=4096, show_progress_bar=True)"
   ],
   "id": "c5c965c50f97e4fc",
   "outputs": [
    {
     "data": {
      "text/plain": [
       "  0%|          | 0/4096 [00:00<?, ?it/s]"
      ],
      "application/vnd.jupyter.widget-view+json": {
       "version_major": 2,
       "version_minor": 0,
       "model_id": "3fc4c271644848718c07677000063a8e"
      }
     },
     "metadata": {},
     "output_type": "display_data"
    }
   ],
   "execution_count": null
  },
  {
   "metadata": {
    "jupyter": {
     "is_executing": true
    }
   },
   "cell_type": "code",
   "source": [
    "best_features = [k for k,v in study.best_trial.params.items() if v]\n",
    "len(best_features)"
   ],
   "id": "46309397f92230fb",
   "outputs": [],
   "execution_count": null
  },
  {
   "metadata": {
    "jupyter": {
     "is_executing": true
    }
   },
   "cell_type": "code",
   "source": "# pd.Series(best_features).to_csv('best_features.csv', index=False)",
   "id": "57345f0c44ba4e67",
   "outputs": [],
   "execution_count": null
  }
 ],
 "metadata": {
  "kernelspec": {
   "display_name": "Python 3",
   "language": "python",
   "name": "python3"
  },
  "language_info": {
   "codemirror_mode": {
    "name": "ipython",
    "version": 2
   },
   "file_extension": ".py",
   "mimetype": "text/x-python",
   "name": "python",
   "nbconvert_exporter": "python",
   "pygments_lexer": "ipython2",
   "version": "2.7.6"
  }
 },
 "nbformat": 4,
 "nbformat_minor": 5
}
