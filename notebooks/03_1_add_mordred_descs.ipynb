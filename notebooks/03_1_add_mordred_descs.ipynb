{
 "cells": [
  {
   "metadata": {
    "ExecuteTime": {
     "end_time": "2024-09-06T11:53:03.312757Z",
     "start_time": "2024-09-06T11:53:03.293687Z"
    }
   },
   "cell_type": "code",
   "source": [
    "%load_ext autoreload\n",
    "%autoreload 2"
   ],
   "id": "d5b29868638404e",
   "outputs": [],
   "execution_count": 1
  },
  {
   "metadata": {
    "ExecuteTime": {
     "end_time": "2024-09-06T11:53:03.950477Z",
     "start_time": "2024-09-06T11:53:03.314285Z"
    }
   },
   "cell_type": "code",
   "source": [
    "import pandas as pd\n",
    "import numpy as np\n",
    "import seaborn as sns\n",
    "import mols2grid\n",
    "\n",
    "from rdkit import Chem\n",
    "\n",
    "from src.utils import smi2mol\n",
    "from src.config import mem\n",
    "from mordred import Calculator, descriptors\n",
    "\n",
    "train = pd.read_csv('../data/processed/train.csv', index_col=0)"
   ],
   "id": "554c847250ca530e",
   "outputs": [],
   "execution_count": 2
  },
  {
   "metadata": {
    "ExecuteTime": {
     "end_time": "2024-09-06T11:53:03.976245Z",
     "start_time": "2024-09-06T11:53:03.952263Z"
    }
   },
   "cell_type": "code",
   "source": [
    "mol = smi2mol('NC1COC1')\n",
    "mol"
   ],
   "id": "9a8bbe70453b289a",
   "outputs": [
    {
     "data": {
      "text/plain": [
       "<rdkit.Chem.rdchem.Mol at 0x7f73a7937990>"
      ],
      "image/png": "[encoded data removed]"
     },
     "execution_count": 3,
     "metadata": {},
     "output_type": "execute_result"
    }
   ],
   "execution_count": 3
  },
  {
   "metadata": {
    "ExecuteTime": {
     "end_time": "2024-09-06T11:53:04.048504Z",
     "start_time": "2024-09-06T11:53:03.977915Z"
    }
   },
   "cell_type": "code",
   "source": [
    "from src.fingerprints import get_fingerprints\n",
    "from src.descriptors import get_rd_descriptors, get_md_descriptors\n",
    "from src.representation import get_representation, get_representation_from_series"
   ],
   "id": "e836335347c7e997",
   "outputs": [],
   "execution_count": 4
  },
  {
   "metadata": {
    "ExecuteTime": {
     "end_time": "2024-09-06T11:53:04.074608Z",
     "start_time": "2024-09-06T11:53:04.050640Z"
    }
   },
   "cell_type": "code",
   "source": "get_fingerprints(mol)",
   "id": "c76e4308c1283ae9",
   "outputs": [
    {
     "name": "stderr",
     "output_type": "stream",
     "text": [
      "[13:53:04] DEPRECATION WARNING: please use MorganGenerator\n"
     ]
    },
    {
     "data": {
      "text/plain": [
       "0       0.0\n",
       "1       0.0\n",
       "2       0.0\n",
       "3       0.0\n",
       "4       0.0\n",
       "       ... \n",
       "2358    0.0\n",
       "2359    0.0\n",
       "2360    0.0\n",
       "2361    0.0\n",
       "2362    0.0\n",
       "Length: 2363, dtype: float64"
      ]
     },
     "execution_count": 5,
     "metadata": {},
     "output_type": "execute_result"
    }
   ],
   "execution_count": 5
  },
  {
   "metadata": {
    "ExecuteTime": {
     "end_time": "2024-09-06T11:53:04.106340Z",
     "start_time": "2024-09-06T11:53:04.078379Z"
    }
   },
   "cell_type": "code",
   "source": "get_rd_descriptors(mol)",
   "id": "82dec49dbd05a085",
   "outputs": [
    {
     "name": "stderr",
     "output_type": "stream",
     "text": [
      "[13:53:04] DEPRECATION WARNING: please use MorganGenerator\n",
      "[13:53:04] DEPRECATION WARNING: please use MorganGenerator\n",
      "[13:53:04] DEPRECATION WARNING: please use MorganGenerator\n"
     ]
    },
    {
     "data": {
      "text/plain": [
       "rd_BalabanJ             2.079672\n",
       "rd_BertzCT             33.874303\n",
       "rd_Chi0                 3.698671\n",
       "rd_Chi0n                2.977162\n",
       "rd_Chi0v                2.977162\n",
       "                         ...    \n",
       "rd_fr_thiocyan          0.000000\n",
       "rd_fr_thiophene         0.000000\n",
       "rd_fr_unbrch_alkane     0.000000\n",
       "rd_fr_urea              0.000000\n",
       "rd_qed                  0.413038\n",
       "Length: 200, dtype: float64"
      ]
     },
     "execution_count": 6,
     "metadata": {},
     "output_type": "execute_result"
    }
   ],
   "execution_count": 6
  },
  {
   "metadata": {
    "ExecuteTime": {
     "end_time": "2024-09-06T11:53:04.280456Z",
     "start_time": "2024-09-06T11:53:04.107607Z"
    }
   },
   "cell_type": "code",
   "source": "get_md_descriptors(mol)",
   "id": "769911df54f4a01",
   "outputs": [
    {
     "data": {
      "text/plain": [
       "md_ABC               NaN\n",
       "md_ABCGG             NaN\n",
       "md_nAcid        0.000000\n",
       "md_nBase        1.000000\n",
       "md_SpAbs_A      5.595865\n",
       "                 ...    \n",
       "md_WPol         1.000000\n",
       "md_Zagreb1     22.000000\n",
       "md_Zagreb2     23.000000\n",
       "md_mZagreb1     1.861111\n",
       "md_mZagreb2     1.166667\n",
       "Length: 1826, dtype: float64"
      ]
     },
     "execution_count": 7,
     "metadata": {},
     "output_type": "execute_result"
    }
   ],
   "execution_count": 7
  },
  {
   "metadata": {
    "ExecuteTime": {
     "end_time": "2024-09-06T11:53:04.301392Z",
     "start_time": "2024-09-06T11:53:04.282076Z"
    }
   },
   "cell_type": "code",
   "source": "#X = train.smi.apply(get_representation)",
   "id": "1165adf1303ecb92",
   "outputs": [],
   "execution_count": 8
  },
  {
   "metadata": {
    "ExecuteTime": {
     "end_time": "2024-09-06T11:53:04.320411Z",
     "start_time": "2024-09-06T11:53:04.303616Z"
    }
   },
   "cell_type": "code",
   "source": [
    "# from src.utils import apply_mp\n",
    "# \n",
    "# X_mp = apply_mp(train.smi, get_representation)"
   ],
   "id": "9cc78a4bee7bcd20",
   "outputs": [],
   "execution_count": 9
  },
  {
   "metadata": {
    "ExecuteTime": {
     "end_time": "2024-09-06T11:53:04.815412Z",
     "start_time": "2024-09-06T11:53:04.322100Z"
    }
   },
   "cell_type": "code",
   "source": [
    "X = mem.cache(get_representation_from_series, ignore=['n_jobs'])(train.smi, n_jobs=24)\n",
    "X.shape"
   ],
   "id": "c70aa8a547a7e735",
   "outputs": [
    {
     "data": {
      "text/plain": [
       "(7939, 4389)"
      ]
     },
     "execution_count": 10,
     "metadata": {},
     "output_type": "execute_result"
    }
   ],
   "execution_count": 10
  },
  {
   "metadata": {
    "ExecuteTime": {
     "end_time": "2024-09-06T11:53:04.835686Z",
     "start_time": "2024-09-06T11:53:04.817130Z"
    }
   },
   "cell_type": "code",
   "source": [
    "def drop_nans_non_unique(df):\n",
    "    df.dropna(axis=1, inplace=True)\n",
    "    df = df.loc[:, df.nunique() > 1].copy()\n",
    "    return df"
   ],
   "id": "5347809c2d3f4a12",
   "outputs": [],
   "execution_count": 11
  },
  {
   "metadata": {},
   "cell_type": "markdown",
   "source": "# add gin descriptors",
   "id": "44ed9879aff83ea9"
  },
  {
   "metadata": {
    "ExecuteTime": {
     "end_time": "2024-09-06T11:53:43.756441Z",
     "start_time": "2024-09-06T11:53:04.837452Z"
    }
   },
   "cell_type": "code",
   "source": [
    "from molfeat.trans.pretrained import PretrainedDGLTransformer\n",
    "transformer = PretrainedDGLTransformer(kind='gin_supervised_masking', dtype=float)\n",
    "\n",
    "res = mem.cache(transformer)(train.smi)\n",
    "cols = ['gin_' + str(i) for i in range(res.shape[1])]\n",
    "\n",
    "gin_feats = pd.DataFrame(res, columns=cols, index=train.smi.index)"
   ],
   "id": "656491aee06024c2",
   "outputs": [],
   "execution_count": 12
  },
  {
   "metadata": {
    "ExecuteTime": {
     "end_time": "2024-09-06T11:53:43.871883Z",
     "start_time": "2024-09-06T11:53:43.758095Z"
    }
   },
   "cell_type": "code",
   "source": "X = pd.concat([X, gin_feats], axis=1)",
   "id": "fc471ab599419617",
   "outputs": [],
   "execution_count": 13
  },
  {
   "metadata": {
    "ExecuteTime": {
     "end_time": "2024-09-06T11:53:43.876963Z",
     "start_time": "2024-09-06T11:53:43.873744Z"
    }
   },
   "cell_type": "code",
   "source": "",
   "id": "ea294f7e9c4a996c",
   "outputs": [],
   "execution_count": 13
  },
  {
   "metadata": {
    "ExecuteTime": {
     "end_time": "2024-09-06T11:53:43.906416Z",
     "start_time": "2024-09-06T11:53:43.878427Z"
    }
   },
   "cell_type": "code",
   "source": [
    "# X.dropna(axis=1, inplace=True)\n",
    "# X.shape"
   ],
   "id": "4160e7fdac8b58ad",
   "outputs": [],
   "execution_count": 14
  },
  {
   "metadata": {
    "ExecuteTime": {
     "end_time": "2024-09-06T11:53:43.933378Z",
     "start_time": "2024-09-06T11:53:43.907935Z"
    }
   },
   "cell_type": "code",
   "source": "# (X.nunique() == 1).sum()",
   "id": "29662d49635c44e1",
   "outputs": [],
   "execution_count": 15
  },
  {
   "metadata": {
    "ExecuteTime": {
     "end_time": "2024-09-06T11:53:43.960198Z",
     "start_time": "2024-09-06T11:53:43.935028Z"
    }
   },
   "cell_type": "code",
   "source": [
    "# X = X.loc[:, X.nunique() > 1]\n",
    "# X.shape"
   ],
   "id": "8cdc22693ae1a7ca",
   "outputs": [],
   "execution_count": 16
  },
  {
   "metadata": {
    "ExecuteTime": {
     "end_time": "2024-09-06T11:53:43.988536Z",
     "start_time": "2024-09-06T11:53:43.962084Z"
    }
   },
   "cell_type": "code",
   "source": [
    "# from src.utils import get_fps_offset\n",
    "\n",
    "# FPS_SIZE = get_fps_offset(X.columns)"
   ],
   "id": "7ba8844bd782f1d9",
   "outputs": [],
   "execution_count": 17
  },
  {
   "metadata": {
    "ExecuteTime": {
     "end_time": "2024-09-06T11:53:44.017077Z",
     "start_time": "2024-09-06T11:53:43.990624Z"
    }
   },
   "cell_type": "code",
   "source": "# (X.iloc[:, FPS_SIZE:] == 0).all().sum()",
   "id": "46d1b2ad78b73032",
   "outputs": [],
   "execution_count": 18
  },
  {
   "metadata": {
    "ExecuteTime": {
     "end_time": "2024-09-06T11:53:44.044739Z",
     "start_time": "2024-09-06T11:53:44.018677Z"
    }
   },
   "cell_type": "code",
   "source": "# X.columns[FPS_SIZE:]",
   "id": "eee876fac737374f",
   "outputs": [],
   "execution_count": 19
  },
  {
   "metadata": {},
   "cell_type": "markdown",
   "source": "### split dataset",
   "id": "717ad027ca65ac82"
  },
  {
   "metadata": {
    "ExecuteTime": {
     "end_time": "2024-09-06T11:53:44.075497Z",
     "start_time": "2024-09-06T11:53:44.046142Z"
    }
   },
   "cell_type": "code",
   "source": [
    "ids_1 = train[train.prop == 1].index\n",
    "ids_2 = train[train.prop == 2].index\n",
    "ids_3 = train[train.prop == 3].index"
   ],
   "id": "18b63cde5407b9d",
   "outputs": [],
   "execution_count": 20
  },
  {
   "metadata": {
    "ExecuteTime": {
     "end_time": "2024-09-06T11:53:44.179037Z",
     "start_time": "2024-09-06T11:53:44.077063Z"
    }
   },
   "cell_type": "code",
   "source": [
    "X_train_1 = X.loc[ids_1]\n",
    "X_train_2 = X.loc[ids_2]\n",
    "X_train_3 = X.loc[ids_3]"
   ],
   "id": "a65179016f9cfee5",
   "outputs": [],
   "execution_count": 21
  },
  {
   "metadata": {
    "ExecuteTime": {
     "end_time": "2024-09-06T11:53:45.320018Z",
     "start_time": "2024-09-06T11:53:44.180731Z"
    }
   },
   "cell_type": "code",
   "source": [
    "X_train_1 = drop_nans_non_unique(X_train_1)\n",
    "X_train_2 = drop_nans_non_unique(X_train_2)\n",
    "X_train_3 = drop_nans_non_unique(X_train_3)"
   ],
   "id": "7f6e3e3d2657adf7",
   "outputs": [],
   "execution_count": 22
  },
  {
   "metadata": {
    "ExecuteTime": {
     "end_time": "2024-09-06T11:53:50.210198Z",
     "start_time": "2024-09-06T11:53:45.321454Z"
    }
   },
   "cell_type": "code",
   "source": [
    "# X_train_1.to_csv('../data/interim/X_train_1.csv.zip')\n",
    "# X_train_2.to_csv('../data/interim/X_train_2.csv.zip')\n",
    "# X_train_3.to_csv('../data/interim/X_train_3.csv.zip')\n",
    "\n",
    "X_train_1.to_pickle('../data/processed/X_train_1.pkl.zip')\n",
    "X_train_2.to_pickle('../data/processed/X_train_2.pkl.zip')\n",
    "X_train_3.to_pickle('../data/processed/X_train_3.pkl.zip')"
   ],
   "id": "9c878e13032fd924",
   "outputs": [],
   "execution_count": 23
  },
  {
   "metadata": {
    "ExecuteTime": {
     "end_time": "2024-09-06T11:53:50.246922Z",
     "start_time": "2024-09-06T11:53:50.212255Z"
    }
   },
   "cell_type": "code",
   "source": [
    "y_train_1 = train[train.prop == 1].target\n",
    "y_train_2 = train[train.prop == 2].target\n",
    "y_train_3 = train[train.prop == 3].target"
   ],
   "id": "40bf7d8bef91d73",
   "outputs": [],
   "execution_count": 24
  },
  {
   "metadata": {
    "ExecuteTime": {
     "end_time": "2024-09-06T11:53:50.282703Z",
     "start_time": "2024-09-06T11:53:50.249317Z"
    }
   },
   "cell_type": "code",
   "source": [
    "# y_train_1.to_csv('../data/processed/y_train_1.csv')\n",
    "# y_train_2.to_csv('../data/processed/y_train_2.csv')\n",
    "# y_train_3.to_csv('../data/processed/y_train_3.csv')\n",
    "\n",
    "y_train_1.to_pickle('../data/processed/y_train_1.pkl')\n",
    "y_train_2.to_pickle('../data/processed/y_train_2.pkl')\n",
    "y_train_3.to_pickle('../data/processed/y_train_3.pkl')"
   ],
   "id": "37b489e5538d3e68",
   "outputs": [],
   "execution_count": 25
  },
  {
   "metadata": {
    "ExecuteTime": {
     "end_time": "2024-09-06T11:53:50.319670Z",
     "start_time": "2024-09-06T11:53:50.284383Z"
    }
   },
   "cell_type": "code",
   "source": "X_train_1.shape, X_train_2.shape, X_train_3.shape",
   "id": "1eb1240411b448b0",
   "outputs": [
    {
     "data": {
      "text/plain": [
       "((5094, 3756), (1424, 4112), (1421, 3834))"
      ]
     },
     "execution_count": 26,
     "metadata": {},
     "output_type": "execute_result"
    }
   ],
   "execution_count": 26
  },
  {
   "metadata": {
    "ExecuteTime": {
     "end_time": "2024-09-06T11:53:50.353504Z",
     "start_time": "2024-09-06T11:53:50.321929Z"
    }
   },
   "cell_type": "code",
   "source": "y_train_1.shape, y_train_2.shape, y_train_3.shape",
   "id": "1cbf926342dae8a7",
   "outputs": [
    {
     "data": {
      "text/plain": [
       "((5094,), (1424,), (1421,))"
      ]
     },
     "execution_count": 27,
     "metadata": {},
     "output_type": "execute_result"
    }
   ],
   "execution_count": 27
  },
  {
   "metadata": {},
   "cell_type": "markdown",
   "source": "# Test set",
   "id": "299be1b4c3b17a95"
  },
  {
   "metadata": {
    "ExecuteTime": {
     "end_time": "2024-09-06T11:53:50.390718Z",
     "start_time": "2024-09-06T11:53:50.355786Z"
    }
   },
   "cell_type": "code",
   "source": "test = pd.read_csv('../data/processed/test.csv', index_col=0)",
   "id": "662ea7837f0739d4",
   "outputs": [],
   "execution_count": 28
  },
  {
   "metadata": {
    "ExecuteTime": {
     "end_time": "2024-09-06T11:53:50.743255Z",
     "start_time": "2024-09-06T11:53:50.393154Z"
    }
   },
   "cell_type": "code",
   "source": [
    "X_test = mem.cache(get_representation_from_series, ignore=['n_jobs'])(test.smi, n_jobs=24)\n",
    "\n",
    "res = mem.cache(transformer)(test.smi)\n",
    "cols = ['gin_' + str(i) for i in range(res.shape[1])]\n",
    "\n",
    "gin_feats = pd.DataFrame(res, columns=cols, index=test.smi.index)\n",
    "\n",
    "X_test = pd.concat([X_test, gin_feats], axis=1)"
   ],
   "id": "40ababfd57ad7e78",
   "outputs": [],
   "execution_count": 29
  },
  {
   "metadata": {
    "ExecuteTime": {
     "end_time": "2024-09-06T11:53:50.774136Z",
     "start_time": "2024-09-06T11:53:50.745233Z"
    }
   },
   "cell_type": "code",
   "source": "X_test.columns",
   "id": "3406a943429be319",
   "outputs": [
    {
     "data": {
      "text/plain": [
       "Index(['0', '1', '2', '3', '4', '5', '6', '7', '8', '9',\n",
       "       ...\n",
       "       'gin_290', 'gin_291', 'gin_292', 'gin_293', 'gin_294', 'gin_295',\n",
       "       'gin_296', 'gin_297', 'gin_298', 'gin_299'],\n",
       "      dtype='object', length=4689)"
      ]
     },
     "execution_count": 30,
     "metadata": {},
     "output_type": "execute_result"
    }
   ],
   "execution_count": 30
  },
  {
   "metadata": {
    "ExecuteTime": {
     "end_time": "2024-09-06T11:53:50.801830Z",
     "start_time": "2024-09-06T11:53:50.775992Z"
    }
   },
   "cell_type": "code",
   "source": [
    "# X_test = X_test[X.columns]\n",
    "# X_test.shape"
   ],
   "id": "3ab70a802fd86d82",
   "outputs": [],
   "execution_count": 31
  },
  {
   "metadata": {
    "ExecuteTime": {
     "end_time": "2024-09-06T11:53:50.835629Z",
     "start_time": "2024-09-06T11:53:50.806942Z"
    }
   },
   "cell_type": "code",
   "source": [
    "ids_1 = test[test.prop == 1].index\n",
    "ids_2 = test[test.prop == 2].index\n",
    "ids_3 = test[test.prop == 3].index"
   ],
   "id": "b75ec0787765e15c",
   "outputs": [],
   "execution_count": 32
  },
  {
   "metadata": {
    "ExecuteTime": {
     "end_time": "2024-09-06T11:53:50.879301Z",
     "start_time": "2024-09-06T11:53:50.837564Z"
    }
   },
   "cell_type": "code",
   "source": [
    "X_test_1 = X_test.loc[ids_1]\n",
    "X_test_2 = X_test.loc[ids_2]\n",
    "X_test_3 = X_test.loc[ids_3]"
   ],
   "id": "3f9a87dbd4da5e41",
   "outputs": [],
   "execution_count": 33
  },
  {
   "metadata": {
    "ExecuteTime": {
     "end_time": "2024-09-06T11:53:50.909785Z",
     "start_time": "2024-09-06T11:53:50.880962Z"
    }
   },
   "cell_type": "code",
   "source": [
    "# X_test_1 = X_test_1[X_train_1.columns]\n",
    "# X_test_2 = X_test_2[X_train_2.columns]\n",
    "# X_test_3 = X_test_3[X_train_3.columns]"
   ],
   "id": "52193007d9dd8401",
   "outputs": [],
   "execution_count": 34
  },
  {
   "metadata": {
    "ExecuteTime": {
     "end_time": "2024-09-06T11:53:51.794695Z",
     "start_time": "2024-09-06T11:53:50.912021Z"
    }
   },
   "cell_type": "code",
   "source": [
    "# X_test_1.to_csv('../data/interim/X_test_1.csv')\n",
    "# X_test_2.to_csv('../data/interim/X_test_2.csv')\n",
    "# X_test_3.to_csv('../data/interim/X_test_3.csv')\n",
    "\n",
    "X_test_1.to_pickle('../data/processed/X_test_1.pkl.zip')\n",
    "X_test_2.to_pickle('../data/processed/X_test_2.pkl.zip')\n",
    "X_test_3.to_pickle('../data/processed/X_test_3.pkl.zip')"
   ],
   "id": "38556bb0c098c588",
   "outputs": [],
   "execution_count": 35
  },
  {
   "metadata": {
    "ExecuteTime": {
     "end_time": "2024-09-06T11:53:51.826164Z",
     "start_time": "2024-09-06T11:53:51.796757Z"
    }
   },
   "cell_type": "code",
   "source": "X_test_1.shape, X_test_2.shape, X_test_3.shape",
   "id": "f28c3f7c0e86de48",
   "outputs": [
    {
     "data": {
      "text/plain": [
       "((408, 4689), (407, 4689), (406, 4689))"
      ]
     },
     "execution_count": 36,
     "metadata": {},
     "output_type": "execute_result"
    }
   ],
   "execution_count": 36
  },
  {
   "metadata": {},
   "cell_type": "code",
   "outputs": [],
   "execution_count": null,
   "source": "",
   "id": "97c043454755ba73"
  },
  {
   "metadata": {},
   "cell_type": "code",
   "outputs": [],
   "execution_count": null,
   "source": "",
   "id": "63bb90802ae7755c"
  }
 ],
 "metadata": {
  "kernelspec": {
   "display_name": "ml",
   "language": "python",
   "name": "ml"
  },
  "language_info": {
   "codemirror_mode": {
    "name": "ipython",
    "version": 2
   },
   "file_extension": ".py",
   "mimetype": "text/x-python",
   "name": "python",
   "nbconvert_exporter": "python",
   "pygments_lexer": "ipython2",
   "version": "2.7.6"
  }
 },
 "nbformat": 4,
 "nbformat_minor": 5
}
